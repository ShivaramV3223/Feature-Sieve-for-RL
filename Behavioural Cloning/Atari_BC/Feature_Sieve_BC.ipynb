{
 "cells": [
  {
   "cell_type": "markdown",
   "id": "2e2389df-bddb-4f2e-8d79-c254d91f78e5",
   "metadata": {},
   "source": [
    "# Feature Sieve for Behavioral Cloning\n",
    "\n",
    "## Atari Game: Space Invaders(D4RL)"
   ]
  },
  {
   "cell_type": "code",
   "execution_count": 1,
   "id": "faa520b5-f636-45af-a93d-a7caf8ee0893",
   "metadata": {},
   "outputs": [],
   "source": [
    "import torch\n",
    "from torch import nn, optim\n",
    "import torch.nn.functional as F\n",
    "import matplotlib.pyplot as plt\n",
    "import numpy as np\n",
    "import pandas as pd\n",
    "import gymnasium as gym\n",
    "from tqdm import tqdm\n",
    "import sys\n",
    "import os\n",
    "import matplotlib.pyplot as plt\n",
    "from torch.utils.data import Dataset, DataLoader"
   ]
  },
  {
   "cell_type": "code",
   "execution_count": 2,
   "id": "05ccb8ea-c09d-462a-83d8-db56e85008d3",
   "metadata": {},
   "outputs": [],
   "source": [
    "#Setting random seeds\n",
    "torch.manual_seed(42)\n",
    "torch.cuda.manual_seed(42)\n",
    "device = torch.device(\"cuda\" if torch.cuda.is_available() else \"CPU\")"
   ]
  },
  {
   "cell_type": "code",
   "execution_count": 3,
   "id": "462d497e-0dbc-48eb-9ee7-0690230683e8",
   "metadata": {},
   "outputs": [
    {
     "name": "stderr",
     "output_type": "stream",
     "text": [
      "A.L.E: Arcade Learning Environment (version 0.8.1+53f58b7)\n",
      "[Powered by Stella]\n"
     ]
    },
    {
     "name": "stdout",
     "output_type": "stream",
     "text": [
      "Observation Space: (4, 84, 84)\n",
      "Action Space: 6\n"
     ]
    }
   ],
   "source": [
    "# creating the environment to suit the dataset\n",
    "env = gym.make(\"SpaceInvadersNoFrameskip-v4\")\n",
    "env = gym.wrappers.GrayScaleObservation(env, keep_dim=False)\n",
    "env = gym.wrappers.ResizeObservation(env, (84, 84))\n",
    "env = gym.wrappers.FrameStack(env, 4)\n",
    "\n",
    "#Environment Infos\n",
    "print(f\"Observation Space: {env.observation_space.shape}\")\n",
    "print(f\"Action Space: {env.action_space.n}\")"
   ]
  },
  {
   "cell_type": "code",
   "execution_count": 22,
   "id": "1c40be44-cd7c-450f-aefe-1d45d67f4d1f",
   "metadata": {},
   "outputs": [
    {
     "name": "stdout",
     "output_type": "stream",
     "text": [
      "(1000000, 4, 84, 84)\n",
      "(1000000,)\n"
     ]
    }
   ],
   "source": [
    "#Loading the Dataset\n",
    "OBSERVATION_DIR = \"./Datasets/Observations/\"\n",
    "ACTIONS_DIR = \"./Datasets/Actions/\"\n",
    "\n",
    "observations = np.load(\"./Datasets/space_invaders_obs.npy\")\n",
    "actions = np.load(\"./Datasets/space_invaders_actions.npy\")\n",
    "actions = actions.reshape((-1,))\n",
    "\n",
    "print(observations.shape)\n",
    "print(actions.shape)"
   ]
  },
  {
   "cell_type": "code",
   "execution_count": 5,
   "id": "67ac37f0-6050-4955-ac91-b45261b37336",
   "metadata": {},
   "outputs": [],
   "source": [
    "class AtariDataset(Dataset):\n",
    "    def __init__(self, observations, actions):\n",
    "        self.observations = observations\n",
    "        self.actions = actions\n",
    "\n",
    "    def __getitem__(self, index):\n",
    "        obs = self.observations[index]\n",
    "        action = self.actions[index]\n",
    "        return obs, action\n",
    "\n",
    "    def __len__(self):\n",
    "        return self.observations.shape[0]"
   ]
  },
  {
   "cell_type": "code",
   "execution_count": 6,
   "id": "c24c1f3b-2bf4-4b9d-a758-ef5483fe8895",
   "metadata": {},
   "outputs": [
    {
     "name": "stdout",
     "output_type": "stream",
     "text": [
      "Training Dataset size: 950000\n",
      "Test Dataset Size :25000\n",
      "Validation Dataset Size: 25000\n"
     ]
    }
   ],
   "source": [
    "#Datapoints for the dataset\n",
    "TRAIN_DATAPTS = int(0.95 * observations.shape[0])\n",
    "VAL_DATAPTS = int(0.025 * observations.shape[0])\n",
    "TEST_DATAPTS = int(0.025 * observations.shape[0])\n",
    "\n",
    "print(f\"Training Dataset size: {TRAIN_DATAPTS}\")\n",
    "print(f\"Test Dataset Size :{TEST_DATAPTS}\")\n",
    "print(f\"Validation Dataset Size: {VAL_DATAPTS}\")\n",
    "\n",
    "#Spiting Observations and Actions\n",
    "train_observations = observations[:TRAIN_DATAPTS]\n",
    "val_observations = observations[TRAIN_DATAPTS: TRAIN_DATAPTS + VAL_DATAPTS]\n",
    "test_observations = observations[TRAIN_DATAPTS + VAL_DATAPTS: ]\n",
    "\n",
    "train_actions = actions[:TRAIN_DATAPTS]\n",
    "val_actions = actions[TRAIN_DATAPTS: TRAIN_DATAPTS + VAL_DATAPTS]\n",
    "test_actions = actions[TRAIN_DATAPTS + VAL_DATAPTS: ]\n",
    "\n",
    "#Datasets\n",
    "train_dataset = AtariDataset(train_observations, train_actions)\n",
    "val_dataset = AtariDataset(val_observations, val_actions)\n",
    "test_dataset = AtariDataset(test_observations, test_actions)\n",
    "\n",
    "#DataLoaders\n",
    "train_dataloader = DataLoader(dataset = train_dataset, shuffle = True, batch_size=128)\n",
    "val_dataloader = DataLoader(dataset = val_dataset, shuffle = True, batch_size = 128)\n",
    "test_dataloader = DataLoader(dataset = test_dataset, shuffle = True, batch_size = 128)"
   ]
  },
  {
   "cell_type": "code",
   "execution_count": 7,
   "id": "ee32b8ee-32b2-46c2-a2de-04a4ae060557",
   "metadata": {},
   "outputs": [],
   "source": [
    "# Early Stopping \n",
    "class Early_Stopper:\n",
    "    def __init__(self, patience=1, min_delta=0):\n",
    "        self.patience = patience\n",
    "        self.min_delta = min_delta\n",
    "        self.counter = 0\n",
    "        self.max_validation_acc = float('-inf')\n",
    "\n",
    "    def early_stop(self, validation_acc):\n",
    "        if validation_acc > self.max_validation_acc:\n",
    "            self.max_validation_acc = validation_acc\n",
    "            self.counter = 0\n",
    "        elif validation_acc < (self.max_validation_acc - self.min_delta):\n",
    "            self.counter += 1\n",
    "            if self.counter >= self.patience:\n",
    "                return True\n",
    "        return False"
   ]
  },
  {
   "cell_type": "markdown",
   "id": "ce936166-ef43-4397-ac8f-3c3cecb99f74",
   "metadata": {},
   "source": [
    "# CNN Model\n",
    "A Simple CNN model from the DQN paper"
   ]
  },
  {
   "cell_type": "code",
   "execution_count": 8,
   "id": "410aa60f-c167-432c-a93e-d11cc106c2ff",
   "metadata": {},
   "outputs": [],
   "source": [
    "class CNN(nn.Module):\n",
    "    def __init__(self, num_channels, num_actions):\n",
    "        super(CNN, self).__init__()\n",
    "        self.num_actions = num_actions\n",
    "\n",
    "        self.conv1 = nn.Conv2d(num_channels, 32, 8, stride=4)\n",
    "        self.conv2 = nn.Conv2d(32, 64, 4, stride=2)\n",
    "        self.conv3 = nn.Conv2d(64, 64, 3, stride=1)\n",
    "\n",
    "        self.fc1 = nn.Linear(3136, 512)\n",
    "        self.fc2 = nn.Linear(512, num_actions)\n",
    "\n",
    "    def forward(self, x):\n",
    "        x = F.relu(self.conv1(x))\n",
    "        x = F.relu(self.conv2(x))\n",
    "        x = F.relu(self.conv3(x))\n",
    "        \n",
    "        x = x.reshape((x.shape[0], -1))\n",
    "        x = F.relu(self.fc1(x))\n",
    "        x = self.fc2(x)\n",
    "\n",
    "        return x"
   ]
  },
  {
   "cell_type": "code",
   "execution_count": 9,
   "id": "c2410702-1e7e-41df-b407-ffbe8d64adbf",
   "metadata": {},
   "outputs": [],
   "source": [
    "# Training function\n",
    "def train_cnn(model, train_dataloader, val_dataloader, epochs = 100, lr =1e-3, verbose = True, early_stop = False, patience = 3, min_delta = 0.1):\n",
    "    optimizer = optim.Adam(model.parameters(), lr = lr)\n",
    "\n",
    "    if verbose:\n",
    "        print(\"Training Model...............\")\n",
    "    if early_stop:\n",
    "        early_stopper = Early_Stopper(patience = patience, min_delta = min_delta)\n",
    "    \n",
    "    train_losses = []\n",
    "    train_accs = []\n",
    "    val_losses = []\n",
    "    val_accs = []\n",
    "\n",
    "    for epoch in tqdm(range(epochs)):\n",
    "        tloss = 0\n",
    "        tloss_num = 0\n",
    "        correct = 0\n",
    "        total = 0\n",
    "        \n",
    "        model.train()\n",
    "        for batch_idx, data in enumerate(train_dataloader):\n",
    "            x, y = data\n",
    "            x = x.to(torch.float32).to(device)\n",
    "            y = y.to(torch.long).to(device)\n",
    "\n",
    "            optimizer.zero_grad()\n",
    "            out = model(x)\n",
    "            loss = F.cross_entropy(out, y)\n",
    "            loss.backward()\n",
    "            optimizer.step()\n",
    "\n",
    "            tloss += loss.detach().cpu()\n",
    "            tloss_num += 1\n",
    "\n",
    "            _, preds = torch.max(out.data, 1)\n",
    "            correct += (preds == y).sum().item()\n",
    "            total += y.shape[0]\n",
    "\n",
    "        with torch.no_grad():\n",
    "            vloss = 0\n",
    "            vloss_num = 0\n",
    "            vcorrect = 0\n",
    "            vtotal = 0\n",
    "\n",
    "            for batch_idx, data in enumerate(val_dataloader):\n",
    "                x, y = data\n",
    "                x = x.to(torch.float32).to(device)\n",
    "                y = y.to(torch.long).to(device)\n",
    "\n",
    "                out = model(x)\n",
    "                loss = F.cross_entropy(out, y)\n",
    "\n",
    "                vloss += loss.detach().cpu()\n",
    "                vloss_num +=1\n",
    "\n",
    "                _, preds = torch.max(out.data, 1)\n",
    "                vcorrect += (preds == y).sum().item()\n",
    "                vtotal += y.shape[0]\n",
    "\n",
    "        train_losses.append(float(tloss / tloss_num))\n",
    "        train_accs.append(float(correct/total))\n",
    "        val_losses.append(float(vloss / vloss_num))\n",
    "        val_accs.append(float(vcorrect / vtotal))\n",
    "\n",
    "        if verbose:\n",
    "            print(f\"Epoch :{epoch}/{epochs}\")\n",
    "            print(f\"Training Loss: {tloss / tloss_num} Accuracy: {correct / total}\")\n",
    "            print(f\"Validation Loss: {vloss / vloss_num} Accuracy: {vcorrect / total}\")\n",
    "\n",
    "        if early_stop:\n",
    "            if early_stopper.early_stop(vcorrect / total):\n",
    "                break\n",
    "\n",
    "    return model, train_losses, train_accs, val_losses, val_accs\n",
    "\n",
    "def eval_cnn(model, test_dataloader):\n",
    "    model.eval()\n",
    "    tloss = 0\n",
    "    tloss_num = 0\n",
    "    total = 0\n",
    "    correct = 0\n",
    "\n",
    "    for batch_idx, data in enumerate(test_dataloader):\n",
    "        x, y = data\n",
    "        x = x.to(torch.float32).to(device)\n",
    "        y = y.to(torch.long).to(device)\n",
    "\n",
    "        out = model(x)\n",
    "        loss = F.cross_entropy(out, y)\n",
    "\n",
    "        tloss += loss.detach().cpu()\n",
    "        tloss_num += 1\n",
    "\n",
    "        _, preds = torch.max(out.data, 1)\n",
    "        total += y.shape[0]\n",
    "        correct += (preds == y).sum().item()\n",
    "\n",
    "    print(f\"Test Loss: {tloss / tloss_num} Accuracy:{correct / total}\")\n",
    "    return tloss / tloss_num, correct / total"
   ]
  },
  {
   "cell_type": "code",
   "execution_count": 10,
   "id": "f59fc9ef-7a54-4c31-aa28-e834dfc51935",
   "metadata": {},
   "outputs": [],
   "source": [
    "def plot_loss_curves(train_loss, val_loss, test_loss, model_name, metric = \"loss\", epochs = 100):\n",
    "    plt.plot(range(epochs), train_loss, color = \"blue\", label = f\"Training {metric}\")\n",
    "    plt.plot(range(epochs), val_loss, color = \"red\", label = f\"Validation {metric}\")\n",
    "    plt.plot(range(epochs), [test_loss] * epochs, color = \"green\", label = f\"Test {metric}\")\n",
    "    plt.xlabel(\"Epochs\")\n",
    "    plt.ylabel(metric)\n",
    "    plt.title(model_name)\n",
    "    plt.legend()\n",
    "    plt.show()"
   ]
  },
  {
   "cell_type": "code",
   "execution_count": 10,
   "id": "d6cd33e5-c0ea-4faf-b250-13e679af431a",
   "metadata": {
    "scrolled": true
   },
   "outputs": [
    {
     "name": "stderr",
     "output_type": "stream",
     "text": [
      "100%|█████████████████████████████████████████████████████████████████████████████████████████████████████████████████████████████████████████████████████████| 100/100 [1:36:39<00:00, 57.99s/it]\n"
     ]
    },
    {
     "name": "stdout",
     "output_type": "stream",
     "text": [
      "Test Loss: 4.4991679191589355 Accuracy:0.35236\n"
     ]
    },
    {
     "data": {
      "image/png": "[encoded data removed]",
      "text/plain": [
       "<Figure size 640x480 with 1 Axes>"
      ]
     },
     "metadata": {},
     "output_type": "display_data"
    },
    {
     "data": {
      "image/png": "[encoded data removed]",
      "text/plain": [
       "<Figure size 640x480 with 1 Axes>"
      ]
     },
     "metadata": {},
     "output_type": "display_data"
    }
   ],
   "source": [
    "model = CNN(4, 6).to(device)\n",
    "model, train_loss, train_acc, val_loss, val_acc = train_cnn(model, train_dataloader, val_dataloader, epochs = 100, verbose = False)\n",
    "test_loss, test_acc = eval_cnn(model, test_dataloader)\n",
    "\n",
    "plot_loss_curves(train_loss, val_loss, test_loss, model_name = \"CNN Loss\", metric = \"loss\")\n",
    "plot_loss_curves(train_acc, val_acc, test_acc, model_name = \"CNN Accuracy\", metric = \"accuracy\")"
   ]
  },
  {
   "cell_type": "code",
   "execution_count": 10,
   "id": "8a3b449f-22f4-4a47-a752-1fca10201ac1",
   "metadata": {
    "scrolled": true
   },
   "outputs": [
    {
     "name": "stdout",
     "output_type": "stream",
     "text": [
      "LR: 1e-05\n"
     ]
    },
    {
     "name": "stderr",
     "output_type": "stream",
     "text": [
      "100%|███████████████████████████████████████████████████████████████████████████████████████████████████████████████████████████████████████████████████████████████| 5/5 [05:01<00:00, 60.22s/it]\n"
     ]
    },
    {
     "name": "stdout",
     "output_type": "stream",
     "text": [
      "Test Loss: 1.4525468349456787 Accuracy:0.40224\n",
      "LR: 2e-05\n"
     ]
    },
    {
     "name": "stderr",
     "output_type": "stream",
     "text": [
      "100%|███████████████████████████████████████████████████████████████████████████████████████████████████████████████████████████████████████████████████████████████| 5/5 [04:47<00:00, 57.56s/it]\n"
     ]
    },
    {
     "name": "stdout",
     "output_type": "stream",
     "text": [
      "Test Loss: 1.4405426979064941 Accuracy:0.40728\n",
      "LR: 3e-05\n"
     ]
    },
    {
     "name": "stderr",
     "output_type": "stream",
     "text": [
      "100%|███████████████████████████████████████████████████████████████████████████████████████████████████████████████████████████████████████████████████████████████| 5/5 [05:02<00:00, 60.60s/it]\n"
     ]
    },
    {
     "name": "stdout",
     "output_type": "stream",
     "text": [
      "Test Loss: 1.437063217163086 Accuracy:0.414\n",
      "LR: 4e-05\n"
     ]
    },
    {
     "name": "stderr",
     "output_type": "stream",
     "text": [
      "100%|███████████████████████████████████████████████████████████████████████████████████████████████████████████████████████████████████████████████████████████████| 5/5 [05:04<00:00, 60.85s/it]\n"
     ]
    },
    {
     "name": "stdout",
     "output_type": "stream",
     "text": [
      "Test Loss: 1.4535202980041504 Accuracy:0.4104\n",
      "LR: 5e-05\n"
     ]
    },
    {
     "name": "stderr",
     "output_type": "stream",
     "text": [
      "100%|███████████████████████████████████████████████████████████████████████████████████████████████████████████████████████████████████████████████████████████████| 5/5 [05:00<00:00, 60.08s/it]\n"
     ]
    },
    {
     "name": "stdout",
     "output_type": "stream",
     "text": [
      "Test Loss: 1.4677742719650269 Accuracy:0.40716\n",
      "LR: 6e-05\n"
     ]
    },
    {
     "name": "stderr",
     "output_type": "stream",
     "text": [
      "100%|███████████████████████████████████████████████████████████████████████████████████████████████████████████████████████████████████████████████████████████████| 5/5 [04:54<00:00, 58.99s/it]\n"
     ]
    },
    {
     "name": "stdout",
     "output_type": "stream",
     "text": [
      "Test Loss: 1.4828217029571533 Accuracy:0.40444\n",
      "LR: 7e-05\n"
     ]
    },
    {
     "name": "stderr",
     "output_type": "stream",
     "text": [
      "100%|███████████████████████████████████████████████████████████████████████████████████████████████████████████████████████████████████████████████████████████████| 5/5 [05:02<00:00, 60.44s/it]\n"
     ]
    },
    {
     "name": "stdout",
     "output_type": "stream",
     "text": [
      "Test Loss: 1.5085715055465698 Accuracy:0.40224\n",
      "LR: 8e-05\n"
     ]
    },
    {
     "name": "stderr",
     "output_type": "stream",
     "text": [
      "100%|███████████████████████████████████████████████████████████████████████████████████████████████████████████████████████████████████████████████████████████████| 5/5 [05:01<00:00, 60.25s/it]\n"
     ]
    },
    {
     "name": "stdout",
     "output_type": "stream",
     "text": [
      "Test Loss: 1.507638692855835 Accuracy:0.39916\n",
      "LR: 9e-05\n"
     ]
    },
    {
     "name": "stderr",
     "output_type": "stream",
     "text": [
      "100%|███████████████████████████████████████████████████████████████████████████████████████████████████████████████████████████████████████████████████████████████| 5/5 [04:49<00:00, 57.82s/it]\n"
     ]
    },
    {
     "name": "stdout",
     "output_type": "stream",
     "text": [
      "Test Loss: 1.5316152572631836 Accuracy:0.39864\n",
      "LR: 0.0001\n"
     ]
    },
    {
     "name": "stderr",
     "output_type": "stream",
     "text": [
      "100%|███████████████████████████████████████████████████████████████████████████████████████████████████████████████████████████████████████████████████████████████| 5/5 [05:02<00:00, 60.51s/it]\n"
     ]
    },
    {
     "name": "stdout",
     "output_type": "stream",
     "text": [
      "Test Loss: 1.5397439002990723 Accuracy:0.4028\n",
      "LR: 0.0002\n"
     ]
    },
    {
     "name": "stderr",
     "output_type": "stream",
     "text": [
      "100%|███████████████████████████████████████████████████████████████████████████████████████████████████████████████████████████████████████████████████████████████| 5/5 [05:05<00:00, 61.15s/it]\n"
     ]
    },
    {
     "name": "stdout",
     "output_type": "stream",
     "text": [
      "Test Loss: 1.614385962486267 Accuracy:0.3912\n",
      "LR: 0.0003\n"
     ]
    },
    {
     "name": "stderr",
     "output_type": "stream",
     "text": [
      "100%|███████████████████████████████████████████████████████████████████████████████████████████████████████████████████████████████████████████████████████████████| 5/5 [05:01<00:00, 60.24s/it]\n"
     ]
    },
    {
     "name": "stdout",
     "output_type": "stream",
     "text": [
      "Test Loss: 1.6445176601409912 Accuracy:0.39756\n",
      "LR: 4e-05\n"
     ]
    },
    {
     "name": "stderr",
     "output_type": "stream",
     "text": [
      "100%|███████████████████████████████████████████████████████████████████████████████████████████████████████████████████████████████████████████████████████████████| 5/5 [05:04<00:00, 60.81s/it]\n"
     ]
    },
    {
     "name": "stdout",
     "output_type": "stream",
     "text": [
      "Test Loss: 1.4518187046051025 Accuracy:0.41348\n",
      "LR: 0.0005\n"
     ]
    },
    {
     "name": "stderr",
     "output_type": "stream",
     "text": [
      "100%|███████████████████████████████████████████████████████████████████████████████████████████████████████████████████████████████████████████████████████████████| 5/5 [05:12<00:00, 62.52s/it]\n"
     ]
    },
    {
     "name": "stdout",
     "output_type": "stream",
     "text": [
      "Test Loss: 1.5561919212341309 Accuracy:0.4034\n",
      "LR: 0.0006\n"
     ]
    },
    {
     "name": "stderr",
     "output_type": "stream",
     "text": [
      "100%|███████████████████████████████████████████████████████████████████████████████████████████████████████████████████████████████████████████████████████████████| 5/5 [05:05<00:00, 61.19s/it]\n"
     ]
    },
    {
     "name": "stdout",
     "output_type": "stream",
     "text": [
      "Test Loss: 1.5514219999313354 Accuracy:0.40376\n",
      "LR: 0.0007\n"
     ]
    },
    {
     "name": "stderr",
     "output_type": "stream",
     "text": [
      "100%|███████████████████████████████████████████████████████████████████████████████████████████████████████████████████████████████████████████████████████████████| 5/5 [05:00<00:00, 60.14s/it]\n"
     ]
    },
    {
     "name": "stdout",
     "output_type": "stream",
     "text": [
      "Test Loss: 1.565516471862793 Accuracy:0.39936\n",
      "LR: 0.0008\n"
     ]
    },
    {
     "name": "stderr",
     "output_type": "stream",
     "text": [
      "100%|███████████████████████████████████████████████████████████████████████████████████████████████████████████████████████████████████████████████████████████████| 5/5 [05:00<00:00, 60.16s/it]\n"
     ]
    },
    {
     "name": "stdout",
     "output_type": "stream",
     "text": [
      "Test Loss: 1.4983404874801636 Accuracy:0.40296\n",
      "LR: 0.0009\n"
     ]
    },
    {
     "name": "stderr",
     "output_type": "stream",
     "text": [
      "100%|███████████████████████████████████████████████████████████████████████████████████████████████████████████████████████████████████████████████████████████████| 5/5 [05:04<00:00, 60.91s/it]\n"
     ]
    },
    {
     "name": "stdout",
     "output_type": "stream",
     "text": [
      "Test Loss: 1.4955346584320068 Accuracy:0.40844\n",
      "LR: 0.001\n"
     ]
    },
    {
     "name": "stderr",
     "output_type": "stream",
     "text": [
      "100%|███████████████████████████████████████████████████████████████████████████████████████████████████████████████████████████████████████████████████████████████| 5/5 [04:47<00:00, 57.42s/it]\n"
     ]
    },
    {
     "name": "stdout",
     "output_type": "stream",
     "text": [
      "Test Loss: 1.4745973348617554 Accuracy:0.3998\n",
      "LR: 0.002\n"
     ]
    },
    {
     "name": "stderr",
     "output_type": "stream",
     "text": [
      "100%|███████████████████████████████████████████████████████████████████████████████████████████████████████████████████████████████████████████████████████████████| 5/5 [04:56<00:00, 59.29s/it]\n"
     ]
    },
    {
     "name": "stdout",
     "output_type": "stream",
     "text": [
      "Test Loss: 1.4722254276275635 Accuracy:0.39676\n",
      "LR: 0.003\n"
     ]
    },
    {
     "name": "stderr",
     "output_type": "stream",
     "text": [
      "100%|███████████████████████████████████████████████████████████████████████████████████████████████████████████████████████████████████████████████████████████████| 5/5 [05:01<00:00, 60.40s/it]\n"
     ]
    },
    {
     "name": "stdout",
     "output_type": "stream",
     "text": [
      "Test Loss: 1.4566236734390259 Accuracy:0.3874\n",
      "LR: 0.004\n"
     ]
    },
    {
     "name": "stderr",
     "output_type": "stream",
     "text": [
      "100%|███████████████████████████████████████████████████████████████████████████████████████████████████████████████████████████████████████████████████████████████| 5/5 [05:03<00:00, 60.71s/it]\n"
     ]
    },
    {
     "name": "stdout",
     "output_type": "stream",
     "text": [
      "Test Loss: 1.501490831375122 Accuracy:0.37284\n",
      "LR: 0.005\n"
     ]
    },
    {
     "name": "stderr",
     "output_type": "stream",
     "text": [
      "100%|███████████████████████████████████████████████████████████████████████████████████████████████████████████████████████████████████████████████████████████████| 5/5 [05:03<00:00, 60.73s/it]\n"
     ]
    },
    {
     "name": "stdout",
     "output_type": "stream",
     "text": [
      "Test Loss: 1.7895737886428833 Accuracy:0.177\n",
      "LR: 0.006\n"
     ]
    },
    {
     "name": "stderr",
     "output_type": "stream",
     "text": [
      "100%|███████████████████████████████████████████████████████████████████████████████████████████████████████████████████████████████████████████████████████████████| 5/5 [05:02<00:00, 60.47s/it]\n"
     ]
    },
    {
     "name": "stdout",
     "output_type": "stream",
     "text": [
      "Test Loss: 1.6334974765777588 Accuracy:0.3026\n",
      "LR: 0.007\n"
     ]
    },
    {
     "name": "stderr",
     "output_type": "stream",
     "text": [
      "100%|███████████████████████████████████████████████████████████████████████████████████████████████████████████████████████████████████████████████████████████████| 5/5 [05:02<00:00, 60.45s/it]\n"
     ]
    },
    {
     "name": "stdout",
     "output_type": "stream",
     "text": [
      "Test Loss: 1.5439252853393555 Accuracy:0.36104\n",
      "LR: 0.008\n"
     ]
    },
    {
     "name": "stderr",
     "output_type": "stream",
     "text": [
      "100%|███████████████████████████████████████████████████████████████████████████████████████████████████████████████████████████████████████████████████████████████| 5/5 [04:57<00:00, 59.55s/it]\n"
     ]
    },
    {
     "name": "stdout",
     "output_type": "stream",
     "text": [
      "Test Loss: 1.6744767427444458 Accuracy:0.2824\n",
      "LR: 0.009\n"
     ]
    },
    {
     "name": "stderr",
     "output_type": "stream",
     "text": [
      "100%|███████████████████████████████████████████████████████████████████████████████████████████████████████████████████████████████████████████████████████████████| 5/5 [05:02<00:00, 60.52s/it]\n"
     ]
    },
    {
     "name": "stdout",
     "output_type": "stream",
     "text": [
      "Test Loss: 1.789229154586792 Accuracy:0.18224\n",
      "Best Lr: 3e-05 with respect to test accuracy\n",
      "Best Lr: 3e-05 with respect to test loss\n"
     ]
    }
   ],
   "source": [
    "#Hyperparameter Tuning\n",
    "lrs = [1e-5, 2e-5, 3e-5, 4e-5, 5e-5, 6e-5, 7e-5, 8e-5, 9e-5, 1e-4, 2e-4, 3e-4, 4e-5, 5e-4, 6e-4, 7e-4, 8e-4, 9e-4, 1e-3, 2e-3, 3e-3, 4e-3, 5e-3, 6e-3, 7e-3, 8e-3, 9e-3]\n",
    "\n",
    "test_accs = []\n",
    "test_losses = []\n",
    "\n",
    "for i in range(len(lrs)):\n",
    "    print(f\"LR: {lrs[i]}\")\n",
    "    model = CNN(4 ,6).to(device)\n",
    "    model, train_loss, train_acc, val_loss, val_acc = train_cnn(model, train_dataloader, val_dataloader, lr=lrs[i], epochs=5, verbose = False)\n",
    "    test_loss, test_acc = eval_cnn(model, test_dataloader)\n",
    "\n",
    "    test_losses.append(test_loss)\n",
    "    test_accs.append(test_acc)\n",
    "\n",
    "best_lr = lrs[test_accs.index(max(test_accs))]\n",
    "best_lr_ = lrs[test_losses.index(min(test_losses))]\n",
    "\n",
    "print(f\"Best Lr: {best_lr} with respect to test accuracy\")\n",
    "print(f\"Best Lr: {best_lr_} with respect to test loss\")"
   ]
  },
  {
   "cell_type": "code",
   "execution_count": 49,
   "id": "5f09c439-1ab2-4f37-bddf-d978e6c3df63",
   "metadata": {
    "scrolled": true
   },
   "outputs": [
    {
     "name": "stderr",
     "output_type": "stream",
     "text": [
      "100%|█████████████████████████████████████████████████████████████████████████████████████████████████████████████████████████████████████████████████████████| 100/100 [1:39:37<00:00, 59.77s/it]\n"
     ]
    },
    {
     "name": "stdout",
     "output_type": "stream",
     "text": [
      "Test Loss: 6.538802623748779 Accuracy:0.3264\n"
     ]
    }
   ],
   "source": [
    "# Finetuned model\n",
    "model = CNN(4, 6).to(device)\n",
    "model, train_loss, train_accs, val_loss, val_accs = train_cnn(model, train_dataloader, val_dataloader, epochs =100, verbose = False, lr =  3e-5)\n",
    "test_loss, test_acc = eval_cnn(model, test_dataloader)"
   ]
  },
  {
   "cell_type": "code",
   "execution_count": 50,
   "id": "75349c52-2e01-4e06-b56e-dbd8c6428d57",
   "metadata": {},
   "outputs": [
    {
     "data": {
      "image/png": "[encoded data removed]",
      "text/plain": [
       "<Figure size 640x480 with 1 Axes>"
      ]
     },
     "metadata": {},
     "output_type": "display_data"
    },
    {
     "data": {
      "image/png": "[encoded data removed]",
      "text/plain": [
       "<Figure size 640x480 with 1 Axes>"
      ]
     },
     "metadata": {},
     "output_type": "display_data"
    }
   ],
   "source": [
    "plot_loss_curves(train_loss, val_loss, test_loss, epochs =100, model_name = \"CNN Loss\", metric = \"Loss\")\n",
    "plot_loss_curves(train_accs, val_accs, test_acc, epochs =100, model_name = \"CNN Accuracy\", metric = \"Accuracy\")"
   ]
  },
  {
   "cell_type": "markdown",
   "id": "0594b509-5414-43a6-b42f-f9526c6c4741",
   "metadata": {},
   "source": [
    "# Feature Sieve Model\n",
    "## Architecture 1\n",
    "Auxilary network is connected to the 1st convolutional layer"
   ]
  },
  {
   "cell_type": "code",
   "execution_count": 11,
   "id": "4124534f-c455-4642-b966-3143227ebe1b",
   "metadata": {},
   "outputs": [],
   "source": [
    "class Feature_Sieve(nn.Module):\n",
    "    def __init__(self, num_channels, num_actions):\n",
    "        super(Feature_Sieve, self).__init__()\n",
    "        self.num_actions = num_actions\n",
    "\n",
    "        #Main Network\n",
    "        self.conv1 = nn.Conv2d(num_channels, 32, 8, stride=4)\n",
    "        self.conv2 = nn.Conv2d(32, 64, 4, stride=2)\n",
    "        self.conv3 = nn.Conv2d(64, 64, 3, stride=1)\n",
    "\n",
    "        self.fc1 = nn.Linear(3136, 512)\n",
    "        self.fc2 = nn.Linear(512, num_actions)\n",
    "\n",
    "        #Aux network\n",
    "        self.aux_fc1 = nn.Linear(12800, 512)\n",
    "        self.aux_fc2 = nn.Linear(512, num_actions)\n",
    "\n",
    "        self.params = nn.ModuleDict(\n",
    "            {\n",
    "                \"main\" : nn.ModuleList([self.conv1, self.conv2, self.conv3, self.fc1, self.fc2]),\n",
    "                \"aux\" : nn.ModuleList([self.aux_fc1, self.aux_fc2]),\n",
    "                \"forget\" : nn.ModuleList([self.conv1])\n",
    "            }\n",
    "        )\n",
    "\n",
    "    def forward(self, x):\n",
    "        sh = F.relu(self.conv1(x))\n",
    "        x = F.relu(self.conv2(sh))\n",
    "        x = F.relu(self.conv3(x))\n",
    "        \n",
    "        x = x.reshape(x.shape[0], -1)\n",
    "        x = F.relu(self.fc1(x))\n",
    "        x = self.fc2(x)\n",
    "\n",
    "        aux = sh.reshape(sh.shape[0], -1)\n",
    "        aux = F.relu(self.aux_fc1(aux))\n",
    "        aux = self.aux_fc2(aux)\n",
    "\n",
    "        return x, aux"
   ]
  },
  {
   "cell_type": "code",
   "execution_count": 12,
   "id": "31faf839-1f0b-4606-bf25-5c5da4b59552",
   "metadata": {},
   "outputs": [],
   "source": [
    "## Forgetting Loss: Cross Entropy\n",
    "def learn_main(FS, optim_main, x, y):\n",
    "    FS.train()\n",
    "    optim_main.zero_grad()\n",
    "    out = FS(x)[0]\n",
    "    loss = F.cross_entropy(out, y)\n",
    "    loss.backward()\n",
    "    optim_main.step()\n",
    "    optim_main.zero_grad()\n",
    "    FS.eval()\n",
    "\n",
    "def learn_aux(FS, optim_main, optim_aux, x, y, alpha_aux=1):\n",
    "    FS.train()\n",
    "    optim_main.zero_grad()\n",
    "    aux = FS(x)[1]\n",
    "    loss = alpha_aux * F.cross_entropy(aux, y)\n",
    "    loss.backward()\n",
    "    optim_aux.step()\n",
    "    optim_aux.zero_grad()\n",
    "    FS.eval()\n",
    "\n",
    "def forget_aux(FS, optim_forget, x, num_bins):\n",
    "    FS.train()\n",
    "    optim_forget.zero_grad()\n",
    "    aux = FS(x)[1]\n",
    "    loss = F.cross_entropy(aux, torch.ones_like(aux) * 1/num_bins)\n",
    "    loss.backward()\n",
    "    optim_forget.step()\n",
    "    optim_forget.zero_grad()\n",
    "    FS.eval()"
   ]
  },
  {
   "cell_type": "code",
   "execution_count": 13,
   "id": "c8030b20-dc28-4812-87ed-003061da229d",
   "metadata": {},
   "outputs": [],
   "source": [
    "def train_fs(model, train_dataloader, val_dataloader, forget_iters = 5, aux_iters =1, main_iters =1, lrs = [0.0005, 0.0005, 0.0005],epochs = 100, verbose = False, early_stop = False, patience = 3, min_delta = 0.1):\n",
    "    if verbose:\n",
    "        print(\"Training Model..............\")\n",
    "\n",
    "    if early_stop:\n",
    "        early_stopper = Early_Stopper(patience = patience, min_delta = min_delta)\n",
    "\n",
    "    optim_main = optim.Adam(model.params.main.parameters(), lr = lrs[0])\n",
    "    optim_aux = optim.Adam(model.params.aux.parameters(), lr = lrs[1])\n",
    "    optim_forget = optim.Adam(model.params.forget.parameters(), lr = lrs[2])\n",
    "\n",
    "    train_losses = []\n",
    "    train_accs = []\n",
    "    val_losses = []\n",
    "    val_accs = []\n",
    "\n",
    "    steps = 0\n",
    "    for epoch in tqdm(range(epochs)):\n",
    "        tloss = 0\n",
    "        tloss_num = 0\n",
    "        tcorrect = 0\n",
    "        ttotal = 0\n",
    "\n",
    "        for batch_idx, data in enumerate(train_dataloader):\n",
    "            x, y = data\n",
    "            x = x.to(torch.float32).to(device)\n",
    "            y = y.to(torch.long).to(device)\n",
    "        \n",
    "            if main_iters and steps % main_iters == 0:\n",
    "                learn_main(model, optim_main, x, y)\n",
    "            if aux_iters and steps % aux_iters == 0:\n",
    "                learn_aux(model, optim_main, optim_aux, x, y)\n",
    "            if forget_iters and steps % forget_iters == 0:\n",
    "                forget_aux(model, optim_forget, x, model.num_actions)\n",
    "\n",
    "            with torch.no_grad():\n",
    "                out = model(x)[0]\n",
    "                loss = F.cross_entropy(out, y)\n",
    "                tloss += loss.detach().cpu()\n",
    "                tloss_num += 1\n",
    "\n",
    "                _, preds = torch.max(out.data, 1)\n",
    "                tcorrect += (preds == y).sum().item()\n",
    "                ttotal += y.shape[0]\n",
    "                steps += 1\n",
    "\n",
    "        with torch.no_grad():\n",
    "            vloss = 0\n",
    "            vloss_num = 0\n",
    "            vtotal = 0\n",
    "            vcorrect = 0\n",
    "\n",
    "            for batch_idx, data in enumerate(val_dataloader):\n",
    "                x, y = data\n",
    "                x = x.to(torch.float32).to(device)\n",
    "                y = y.to(torch.long).to(device)\n",
    "\n",
    "                out = model(x)[0]\n",
    "                loss = F.cross_entropy(out, y)\n",
    "                vloss += loss.detach().cpu()\n",
    "                vloss_num += 1\n",
    "\n",
    "                _, preds = torch.max(out.data, 1)\n",
    "                vtotal += y.shape[0]\n",
    "                vcorrect += (preds == y).sum().item()\n",
    "\n",
    "        train_losses.append(tloss / tloss_num)\n",
    "        train_accs.append(tcorrect / ttotal)\n",
    "        val_losses.append(vloss / vloss_num)\n",
    "        val_accs.append(vcorrect /  vtotal)\n",
    "\n",
    "        if verbose:\n",
    "            print(f\"Epoch: {epoch} / {epochs}\")\n",
    "            print(f\"Training Loss: {tloss / tloss_num} Accuracy: {tcorrect / ttotal}\")\n",
    "            print(f\"Validation Loss: {vloss / vloss_num} Accuracy: {vcorrect / vtotal}\")\n",
    "\n",
    "        if early_stop:\n",
    "            if early_stopper.early_stop(vcorrect / vtotal):\n",
    "                break\n",
    "\n",
    "    return model, train_losses, train_accs, val_losses, val_accs\n",
    "\n",
    "def eval_fsmodel(model, test_dataloader):\n",
    "    tloss = 0\n",
    "    tloss_num = 0\n",
    "    total = 0\n",
    "    correct = 0\n",
    "\n",
    "    with torch.no_grad():\n",
    "        for batch_idx, data in enumerate(test_dataloader):\n",
    "            x, y = data\n",
    "            x = x.to(torch.float32).to(device)\n",
    "            y= y.to(torch.long).to(device)\n",
    "\n",
    "            out = model(x)[0]\n",
    "            loss = F.cross_entropy(out, y)\n",
    "            tloss += loss.detach().cpu()\n",
    "            tloss_num += 1\n",
    "\n",
    "            _, preds = torch.max(out.data, 1)\n",
    "            correct += (preds == y).sum().item()\n",
    "            total += y.shape[0]\n",
    "\n",
    "    test_loss = tloss / tloss_num\n",
    "    test_acc = correct / total\n",
    "\n",
    "    print(f\"Test Loss: {test_loss} Test Accuracy :{test_acc}\")\n",
    "    return test_loss, test_acc"
   ]
  },
  {
   "cell_type": "code",
   "execution_count": 13,
   "id": "41897f8e-fd1a-42cb-bc91-aa2fefcd2f77",
   "metadata": {
    "scrolled": true
   },
   "outputs": [
    {
     "name": "stdout",
     "output_type": "stream",
     "text": [
      "Training Model..............\n"
     ]
    },
    {
     "name": "stderr",
     "output_type": "stream",
     "text": [
      "  1%|█▌                                                                                                                                                         | 1/100 [01:38<2:42:14, 98.32s/it]"
     ]
    },
    {
     "name": "stdout",
     "output_type": "stream",
     "text": [
      "Epoch: 0 / 100\n",
      "Training Loss: 1.4116809368133545 Accuracy: 0.4175978947368421\n",
      "Validation Loss: 1.414150595664978 Accuracy: 0.41364\n"
     ]
    },
    {
     "name": "stderr",
     "output_type": "stream",
     "text": [
      "  2%|███                                                                                                                                                       | 2/100 [03:20<2:44:36, 100.78s/it]"
     ]
    },
    {
     "name": "stdout",
     "output_type": "stream",
     "text": [
      "Epoch: 1 / 100\n",
      "Training Loss: 1.3199553489685059 Accuracy: 0.4690557894736842\n",
      "Validation Loss: 1.424285888671875 Accuracy: 0.41144\n"
     ]
    },
    {
     "name": "stderr",
     "output_type": "stream",
     "text": [
      "  3%|████▌                                                                                                                                                     | 3/100 [05:03<2:44:05, 101.50s/it]"
     ]
    },
    {
     "name": "stdout",
     "output_type": "stream",
     "text": [
      "Epoch: 2 / 100\n",
      "Training Loss: 1.2740800380706787 Accuracy: 0.49249157894736845\n",
      "Validation Loss: 1.441512942314148 Accuracy: 0.41724\n"
     ]
    },
    {
     "name": "stderr",
     "output_type": "stream",
     "text": [
      "  4%|██████▏                                                                                                                                                   | 4/100 [06:44<2:42:03, 101.29s/it]"
     ]
    },
    {
     "name": "stdout",
     "output_type": "stream",
     "text": [
      "Epoch: 3 / 100\n",
      "Training Loss: 1.2236688137054443 Accuracy: 0.5172557894736842\n",
      "Validation Loss: 1.457698106765747 Accuracy: 0.4066\n"
     ]
    },
    {
     "name": "stderr",
     "output_type": "stream",
     "text": [
      "  5%|███████▋                                                                                                                                                  | 5/100 [08:26<2:40:43, 101.51s/it]"
     ]
    },
    {
     "name": "stdout",
     "output_type": "stream",
     "text": [
      "Epoch: 4 / 100\n",
      "Training Loss: 1.1770027875900269 Accuracy: 0.5391473684210526\n",
      "Validation Loss: 1.4719266891479492 Accuracy: 0.40248\n"
     ]
    },
    {
     "name": "stderr",
     "output_type": "stream",
     "text": [
      "  6%|█████████▏                                                                                                                                                | 6/100 [10:08<2:39:31, 101.82s/it]"
     ]
    },
    {
     "name": "stdout",
     "output_type": "stream",
     "text": [
      "Epoch: 5 / 100\n",
      "Training Loss: 1.1312940120697021 Accuracy: 0.5604968421052632\n",
      "Validation Loss: 1.5205717086791992 Accuracy: 0.40188\n"
     ]
    },
    {
     "name": "stderr",
     "output_type": "stream",
     "text": [
      "  7%|██████████▊                                                                                                                                               | 7/100 [11:51<2:38:11, 102.06s/it]"
     ]
    },
    {
     "name": "stdout",
     "output_type": "stream",
     "text": [
      "Epoch: 6 / 100\n",
      "Training Loss: 1.0847933292388916 Accuracy: 0.58078\n",
      "Validation Loss: 1.5650449991226196 Accuracy: 0.39032\n"
     ]
    },
    {
     "name": "stderr",
     "output_type": "stream",
     "text": [
      "  8%|████████████▎                                                                                                                                             | 8/100 [13:42<2:41:04, 105.04s/it]"
     ]
    },
    {
     "name": "stdout",
     "output_type": "stream",
     "text": [
      "Epoch: 7 / 100\n",
      "Training Loss: 1.041121244430542 Accuracy: 0.5989189473684211\n",
      "Validation Loss: 1.6082121133804321 Accuracy: 0.38744\n"
     ]
    },
    {
     "name": "stderr",
     "output_type": "stream",
     "text": [
      "  9%|█████████████▊                                                                                                                                            | 9/100 [15:27<2:39:15, 105.00s/it]"
     ]
    },
    {
     "name": "stdout",
     "output_type": "stream",
     "text": [
      "Epoch: 8 / 100\n",
      "Training Loss: 0.9965458512306213 Accuracy: 0.6174810526315789\n",
      "Validation Loss: 1.652870774269104 Accuracy: 0.38456\n"
     ]
    },
    {
     "name": "stderr",
     "output_type": "stream",
     "text": [
      " 10%|███████████████▎                                                                                                                                         | 10/100 [17:10<2:36:45, 104.50s/it]"
     ]
    },
    {
     "name": "stdout",
     "output_type": "stream",
     "text": [
      "Epoch: 9 / 100\n",
      "Training Loss: 0.9577921032905579 Accuracy: 0.6335978947368421\n",
      "Validation Loss: 1.6942957639694214 Accuracy: 0.38148\n"
     ]
    },
    {
     "name": "stderr",
     "output_type": "stream",
     "text": [
      " 11%|████████████████▊                                                                                                                                        | 11/100 [18:54<2:34:31, 104.17s/it]"
     ]
    },
    {
     "name": "stdout",
     "output_type": "stream",
     "text": [
      "Epoch: 10 / 100\n",
      "Training Loss: 0.9201717376708984 Accuracy: 0.6479778947368421\n",
      "Validation Loss: 1.757576584815979 Accuracy: 0.37712\n"
     ]
    },
    {
     "name": "stderr",
     "output_type": "stream",
     "text": [
      " 12%|██████████████████▎                                                                                                                                      | 12/100 [20:37<2:32:30, 103.99s/it]"
     ]
    },
    {
     "name": "stdout",
     "output_type": "stream",
     "text": [
      "Epoch: 11 / 100\n",
      "Training Loss: 0.8802679181098938 Accuracy: 0.6642336842105263\n",
      "Validation Loss: 1.8319284915924072 Accuracy: 0.3682\n"
     ]
    },
    {
     "name": "stderr",
     "output_type": "stream",
     "text": [
      " 13%|███████████████████▉                                                                                                                                     | 13/100 [22:21<2:30:44, 103.97s/it]"
     ]
    },
    {
     "name": "stdout",
     "output_type": "stream",
     "text": [
      "Epoch: 12 / 100\n",
      "Training Loss: 0.846144437789917 Accuracy: 0.6772431578947369\n",
      "Validation Loss: 1.8722076416015625 Accuracy: 0.36484\n"
     ]
    },
    {
     "name": "stderr",
     "output_type": "stream",
     "text": [
      " 14%|█████████████████████▍                                                                                                                                   | 14/100 [24:05<2:29:02, 103.99s/it]"
     ]
    },
    {
     "name": "stdout",
     "output_type": "stream",
     "text": [
      "Epoch: 13 / 100\n",
      "Training Loss: 0.8157150149345398 Accuracy: 0.6898389473684211\n",
      "Validation Loss: 1.9598194360733032 Accuracy: 0.3608\n"
     ]
    },
    {
     "name": "stderr",
     "output_type": "stream",
     "text": [
      " 15%|██████████████████████▉                                                                                                                                  | 15/100 [25:49<2:27:09, 103.87s/it]"
     ]
    },
    {
     "name": "stdout",
     "output_type": "stream",
     "text": [
      "Epoch: 14 / 100\n",
      "Training Loss: 0.7846104502677917 Accuracy: 0.7021536842105263\n",
      "Validation Loss: 2.0337278842926025 Accuracy: 0.36212\n"
     ]
    },
    {
     "name": "stderr",
     "output_type": "stream",
     "text": [
      " 16%|████████████████████████▍                                                                                                                                | 16/100 [27:33<2:25:23, 103.85s/it]"
     ]
    },
    {
     "name": "stdout",
     "output_type": "stream",
     "text": [
      "Epoch: 15 / 100\n",
      "Training Loss: 0.7577604651451111 Accuracy: 0.7121894736842105\n",
      "Validation Loss: 2.062899112701416 Accuracy: 0.35708\n"
     ]
    },
    {
     "name": "stderr",
     "output_type": "stream",
     "text": [
      " 17%|██████████████████████████                                                                                                                               | 17/100 [29:16<2:23:29, 103.73s/it]"
     ]
    },
    {
     "name": "stdout",
     "output_type": "stream",
     "text": [
      "Epoch: 16 / 100\n",
      "Training Loss: 0.7322245836257935 Accuracy: 0.7227252631578948\n",
      "Validation Loss: 2.1233019828796387 Accuracy: 0.36252\n"
     ]
    },
    {
     "name": "stderr",
     "output_type": "stream",
     "text": [
      " 18%|███████████████████████████▌                                                                                                                             | 18/100 [30:59<2:21:38, 103.64s/it]"
     ]
    },
    {
     "name": "stdout",
     "output_type": "stream",
     "text": [
      "Epoch: 17 / 100\n",
      "Training Loss: 0.7099004983901978 Accuracy: 0.7310105263157894\n",
      "Validation Loss: 2.217038154602051 Accuracy: 0.35136\n"
     ]
    },
    {
     "name": "stderr",
     "output_type": "stream",
     "text": [
      " 19%|█████████████████████████████                                                                                                                            | 19/100 [32:43<2:19:47, 103.55s/it]"
     ]
    },
    {
     "name": "stdout",
     "output_type": "stream",
     "text": [
      "Epoch: 18 / 100\n",
      "Training Loss: 0.6914945244789124 Accuracy: 0.7383894736842105\n",
      "Validation Loss: 2.2604267597198486 Accuracy: 0.34672\n"
     ]
    },
    {
     "name": "stderr",
     "output_type": "stream",
     "text": [
      " 20%|██████████████████████████████▌                                                                                                                          | 20/100 [34:26<2:17:58, 103.49s/it]"
     ]
    },
    {
     "name": "stdout",
     "output_type": "stream",
     "text": [
      "Epoch: 19 / 100\n",
      "Training Loss: 0.6755054593086243 Accuracy: 0.7440431578947369\n",
      "Validation Loss: 2.38437819480896 Accuracy: 0.34924\n"
     ]
    },
    {
     "name": "stderr",
     "output_type": "stream",
     "text": [
      " 21%|████████████████████████████████▏                                                                                                                        | 21/100 [36:10<2:16:16, 103.50s/it]"
     ]
    },
    {
     "name": "stdout",
     "output_type": "stream",
     "text": [
      "Epoch: 20 / 100\n",
      "Training Loss: 0.6610768437385559 Accuracy: 0.7500494736842105\n",
      "Validation Loss: 2.3792996406555176 Accuracy: 0.35112\n"
     ]
    },
    {
     "name": "stderr",
     "output_type": "stream",
     "text": [
      " 22%|█████████████████████████████████▋                                                                                                                       | 22/100 [37:53<2:14:33, 103.51s/it]"
     ]
    },
    {
     "name": "stdout",
     "output_type": "stream",
     "text": [
      "Epoch: 21 / 100\n",
      "Training Loss: 0.6445013880729675 Accuracy: 0.7563210526315789\n",
      "Validation Loss: 2.401580333709717 Accuracy: 0.35148\n"
     ]
    },
    {
     "name": "stderr",
     "output_type": "stream",
     "text": [
      " 23%|███████████████████████████████████▏                                                                                                                     | 23/100 [39:37<2:13:01, 103.66s/it]"
     ]
    },
    {
     "name": "stdout",
     "output_type": "stream",
     "text": [
      "Epoch: 22 / 100\n",
      "Training Loss: 0.6333444118499756 Accuracy: 0.7600557894736842\n",
      "Validation Loss: 2.484727621078491 Accuracy: 0.34676\n"
     ]
    },
    {
     "name": "stderr",
     "output_type": "stream",
     "text": [
      " 24%|████████████████████████████████████▋                                                                                                                    | 24/100 [41:21<2:11:22, 103.71s/it]"
     ]
    },
    {
     "name": "stdout",
     "output_type": "stream",
     "text": [
      "Epoch: 23 / 100\n",
      "Training Loss: 0.6282839775085449 Accuracy: 0.7618\n",
      "Validation Loss: 2.4190783500671387 Accuracy: 0.34268\n"
     ]
    },
    {
     "name": "stderr",
     "output_type": "stream",
     "text": [
      " 25%|██████████████████████████████████████▎                                                                                                                  | 25/100 [43:07<2:10:23, 104.32s/it]"
     ]
    },
    {
     "name": "stdout",
     "output_type": "stream",
     "text": [
      "Epoch: 24 / 100\n",
      "Training Loss: 0.6251746416091919 Accuracy: 0.7633747368421052\n",
      "Validation Loss: 2.5501387119293213 Accuracy: 0.35016\n"
     ]
    },
    {
     "name": "stderr",
     "output_type": "stream",
     "text": [
      " 26%|███████████████████████████████████████▊                                                                                                                 | 26/100 [44:51<2:08:45, 104.40s/it]"
     ]
    },
    {
     "name": "stdout",
     "output_type": "stream",
     "text": [
      "Epoch: 25 / 100\n",
      "Training Loss: 0.6204298138618469 Accuracy: 0.7650694736842105\n",
      "Validation Loss: 2.5891294479370117 Accuracy: 0.34388\n"
     ]
    },
    {
     "name": "stderr",
     "output_type": "stream",
     "text": [
      " 27%|█████████████████████████████████████████▎                                                                                                               | 27/100 [46:34<2:06:23, 103.89s/it]"
     ]
    },
    {
     "name": "stdout",
     "output_type": "stream",
     "text": [
      "Epoch: 26 / 100\n",
      "Training Loss: 0.6141412258148193 Accuracy: 0.7673442105263157\n",
      "Validation Loss: 2.5832576751708984 Accuracy: 0.34432\n"
     ]
    },
    {
     "name": "stderr",
     "output_type": "stream",
     "text": [
      " 28%|██████████████████████████████████████████▊                                                                                                              | 28/100 [48:17<2:04:26, 103.70s/it]"
     ]
    },
    {
     "name": "stdout",
     "output_type": "stream",
     "text": [
      "Epoch: 27 / 100\n",
      "Training Loss: 0.605085015296936 Accuracy: 0.7708357894736843\n",
      "Validation Loss: 2.619863510131836 Accuracy: 0.34084\n"
     ]
    },
    {
     "name": "stderr",
     "output_type": "stream",
     "text": [
      " 29%|████████████████████████████████████████████▎                                                                                                            | 29/100 [50:00<2:02:14, 103.31s/it]"
     ]
    },
    {
     "name": "stdout",
     "output_type": "stream",
     "text": [
      "Epoch: 28 / 100\n",
      "Training Loss: 0.6016069054603577 Accuracy: 0.7720494736842105\n",
      "Validation Loss: 2.576831340789795 Accuracy: 0.34232\n"
     ]
    },
    {
     "name": "stderr",
     "output_type": "stream",
     "text": [
      " 30%|█████████████████████████████████████████████▉                                                                                                           | 30/100 [51:42<2:00:00, 102.87s/it]"
     ]
    },
    {
     "name": "stdout",
     "output_type": "stream",
     "text": [
      "Epoch: 29 / 100\n",
      "Training Loss: 0.6019036173820496 Accuracy: 0.7718031578947369\n",
      "Validation Loss: 2.6535656452178955 Accuracy: 0.34484\n"
     ]
    },
    {
     "name": "stderr",
     "output_type": "stream",
     "text": [
      " 31%|███████████████████████████████████████████████▍                                                                                                         | 31/100 [53:25<1:58:23, 102.95s/it]"
     ]
    },
    {
     "name": "stdout",
     "output_type": "stream",
     "text": [
      "Epoch: 30 / 100\n",
      "Training Loss: 0.5981846451759338 Accuracy: 0.7728284210526316\n",
      "Validation Loss: 2.600820541381836 Accuracy: 0.34196\n"
     ]
    },
    {
     "name": "stderr",
     "output_type": "stream",
     "text": [
      " 32%|████████████████████████████████████████████████▉                                                                                                        | 32/100 [55:08<1:56:50, 103.10s/it]"
     ]
    },
    {
     "name": "stdout",
     "output_type": "stream",
     "text": [
      "Epoch: 31 / 100\n",
      "Training Loss: 0.5953807830810547 Accuracy: 0.7732936842105264\n",
      "Validation Loss: 2.6870574951171875 Accuracy: 0.33916\n"
     ]
    },
    {
     "name": "stderr",
     "output_type": "stream",
     "text": [
      " 33%|██████████████████████████████████████████████████▍                                                                                                      | 33/100 [56:52<1:55:19, 103.28s/it]"
     ]
    },
    {
     "name": "stdout",
     "output_type": "stream",
     "text": [
      "Epoch: 32 / 100\n",
      "Training Loss: 0.5894920229911804 Accuracy: 0.7762315789473684\n",
      "Validation Loss: 2.7295103073120117 Accuracy: 0.333\n"
     ]
    },
    {
     "name": "stderr",
     "output_type": "stream",
     "text": [
      " 34%|████████████████████████████████████████████████████                                                                                                     | 34/100 [58:36<1:53:46, 103.43s/it]"
     ]
    },
    {
     "name": "stdout",
     "output_type": "stream",
     "text": [
      "Epoch: 33 / 100\n",
      "Training Loss: 0.5788255333900452 Accuracy: 0.780338947368421\n",
      "Validation Loss: 2.734485149383545 Accuracy: 0.33764\n"
     ]
    },
    {
     "name": "stderr",
     "output_type": "stream",
     "text": [
      " 35%|████████████████████████████████████████████████████▊                                                                                                  | 35/100 [1:00:20<1:52:18, 103.67s/it]"
     ]
    },
    {
     "name": "stdout",
     "output_type": "stream",
     "text": [
      "Epoch: 34 / 100\n",
      "Training Loss: 0.5746941566467285 Accuracy: 0.7816452631578947\n",
      "Validation Loss: 2.78963041305542 Accuracy: 0.34096\n"
     ]
    },
    {
     "name": "stderr",
     "output_type": "stream",
     "text": [
      " 36%|██████████████████████████████████████████████████████▎                                                                                                | 36/100 [1:02:03<1:50:31, 103.62s/it]"
     ]
    },
    {
     "name": "stdout",
     "output_type": "stream",
     "text": [
      "Epoch: 35 / 100\n",
      "Training Loss: 0.5719865560531616 Accuracy: 0.7827884210526316\n",
      "Validation Loss: 2.77748703956604 Accuracy: 0.34024\n"
     ]
    },
    {
     "name": "stderr",
     "output_type": "stream",
     "text": [
      " 37%|███████████████████████████████████████████████████████▊                                                                                               | 37/100 [1:03:47<1:48:42, 103.53s/it]"
     ]
    },
    {
     "name": "stdout",
     "output_type": "stream",
     "text": [
      "Epoch: 36 / 100\n",
      "Training Loss: 0.5661218762397766 Accuracy: 0.785138947368421\n",
      "Validation Loss: 2.8251688480377197 Accuracy: 0.3398\n"
     ]
    },
    {
     "name": "stderr",
     "output_type": "stream",
     "text": [
      " 38%|█████████████████████████████████████████████████████████▍                                                                                             | 38/100 [1:05:29<1:46:39, 103.21s/it]"
     ]
    },
    {
     "name": "stdout",
     "output_type": "stream",
     "text": [
      "Epoch: 37 / 100\n",
      "Training Loss: 0.5639758110046387 Accuracy: 0.7854778947368422\n",
      "Validation Loss: 2.8781821727752686 Accuracy: 0.33836\n"
     ]
    },
    {
     "name": "stderr",
     "output_type": "stream",
     "text": [
      " 39%|██████████████████████████████████████████████████████████▉                                                                                            | 39/100 [1:07:12<1:44:57, 103.24s/it]"
     ]
    },
    {
     "name": "stdout",
     "output_type": "stream",
     "text": [
      "Epoch: 38 / 100\n",
      "Training Loss: 0.5620352625846863 Accuracy: 0.7861368421052631\n",
      "Validation Loss: 2.8753390312194824 Accuracy: 0.336\n"
     ]
    },
    {
     "name": "stderr",
     "output_type": "stream",
     "text": [
      " 40%|████████████████████████████████████████████████████████████▍                                                                                          | 40/100 [1:08:56<1:43:28, 103.48s/it]"
     ]
    },
    {
     "name": "stdout",
     "output_type": "stream",
     "text": [
      "Epoch: 39 / 100\n",
      "Training Loss: 0.5585206151008606 Accuracy: 0.7873168421052632\n",
      "Validation Loss: 2.9252429008483887 Accuracy: 0.33704\n"
     ]
    },
    {
     "name": "stderr",
     "output_type": "stream",
     "text": [
      " 41%|█████████████████████████████████████████████████████████████▉                                                                                         | 41/100 [1:10:41<1:42:11, 103.92s/it]"
     ]
    },
    {
     "name": "stdout",
     "output_type": "stream",
     "text": [
      "Epoch: 40 / 100\n",
      "Training Loss: 0.5554726719856262 Accuracy: 0.7890389473684211\n",
      "Validation Loss: 2.9559969902038574 Accuracy: 0.33388\n"
     ]
    },
    {
     "name": "stderr",
     "output_type": "stream",
     "text": [
      " 42%|███████████████████████████████████████████████████████████████▍                                                                                       | 42/100 [1:12:27<1:40:53, 104.37s/it]"
     ]
    },
    {
     "name": "stdout",
     "output_type": "stream",
     "text": [
      "Epoch: 41 / 100\n",
      "Training Loss: 0.5495849251747131 Accuracy: 0.7908768421052632\n",
      "Validation Loss: 2.988945722579956 Accuracy: 0.33604\n"
     ]
    },
    {
     "name": "stderr",
     "output_type": "stream",
     "text": [
      " 43%|████████████████████████████████████████████████████████████████▉                                                                                      | 43/100 [1:14:11<1:39:05, 104.30s/it]"
     ]
    },
    {
     "name": "stdout",
     "output_type": "stream",
     "text": [
      "Epoch: 42 / 100\n",
      "Training Loss: 0.5482475161552429 Accuracy: 0.7909978947368421\n",
      "Validation Loss: 3.0893471240997314 Accuracy: 0.33284\n"
     ]
    },
    {
     "name": "stderr",
     "output_type": "stream",
     "text": [
      " 44%|██████████████████████████████████████████████████████████████████▍                                                                                    | 44/100 [1:15:54<1:37:03, 103.99s/it]"
     ]
    },
    {
     "name": "stdout",
     "output_type": "stream",
     "text": [
      "Epoch: 43 / 100\n",
      "Training Loss: 0.5393242835998535 Accuracy: 0.7944505263157895\n",
      "Validation Loss: 2.968278646469116 Accuracy: 0.32872\n"
     ]
    },
    {
     "name": "stderr",
     "output_type": "stream",
     "text": [
      " 45%|███████████████████████████████████████████████████████████████████▉                                                                                   | 45/100 [1:17:38<1:35:10, 103.83s/it]"
     ]
    },
    {
     "name": "stdout",
     "output_type": "stream",
     "text": [
      "Epoch: 44 / 100\n",
      "Training Loss: 0.5344323515892029 Accuracy: 0.7968073684210526\n",
      "Validation Loss: 3.1510212421417236 Accuracy: 0.33444\n"
     ]
    },
    {
     "name": "stderr",
     "output_type": "stream",
     "text": [
      " 46%|█████████████████████████████████████████████████████████████████████▍                                                                                 | 46/100 [1:19:21<1:33:19, 103.69s/it]"
     ]
    },
    {
     "name": "stdout",
     "output_type": "stream",
     "text": [
      "Epoch: 45 / 100\n",
      "Training Loss: 0.5253806710243225 Accuracy: 0.8000147368421052\n",
      "Validation Loss: 3.163875102996826 Accuracy: 0.33752\n"
     ]
    },
    {
     "name": "stderr",
     "output_type": "stream",
     "text": [
      " 47%|██████████████████████████████████████████████████████████████████████▉                                                                                | 47/100 [1:21:05<1:31:33, 103.66s/it]"
     ]
    },
    {
     "name": "stdout",
     "output_type": "stream",
     "text": [
      "Epoch: 46 / 100\n",
      "Training Loss: 0.5184799432754517 Accuracy: 0.8028284210526315\n",
      "Validation Loss: 3.1260013580322266 Accuracy: 0.33568\n"
     ]
    },
    {
     "name": "stderr",
     "output_type": "stream",
     "text": [
      " 48%|████████████████████████████████████████████████████████████████████████▍                                                                              | 48/100 [1:22:48<1:29:41, 103.50s/it]"
     ]
    },
    {
     "name": "stdout",
     "output_type": "stream",
     "text": [
      "Epoch: 47 / 100\n",
      "Training Loss: 0.5182041525840759 Accuracy: 0.8028831578947369\n",
      "Validation Loss: 3.2036736011505127 Accuracy: 0.3268\n"
     ]
    },
    {
     "name": "stderr",
     "output_type": "stream",
     "text": [
      " 49%|█████████████████████████████████████████████████████████████████████████▉                                                                             | 49/100 [1:24:31<1:27:56, 103.45s/it]"
     ]
    },
    {
     "name": "stdout",
     "output_type": "stream",
     "text": [
      "Epoch: 48 / 100\n",
      "Training Loss: 0.5137010216712952 Accuracy: 0.8042842105263158\n",
      "Validation Loss: 3.1162772178649902 Accuracy: 0.33108\n"
     ]
    },
    {
     "name": "stderr",
     "output_type": "stream",
     "text": [
      " 50%|███████████████████████████████████████████████████████████████████████████▌                                                                           | 50/100 [1:26:15<1:26:14, 103.48s/it]"
     ]
    },
    {
     "name": "stdout",
     "output_type": "stream",
     "text": [
      "Epoch: 49 / 100\n",
      "Training Loss: 0.5121906995773315 Accuracy: 0.8050168421052631\n",
      "Validation Loss: 3.2279162406921387 Accuracy: 0.33524\n"
     ]
    },
    {
     "name": "stderr",
     "output_type": "stream",
     "text": [
      " 51%|█████████████████████████████████████████████████████████████████████████████                                                                          | 51/100 [1:27:58<1:24:22, 103.31s/it]"
     ]
    },
    {
     "name": "stdout",
     "output_type": "stream",
     "text": [
      "Epoch: 50 / 100\n",
      "Training Loss: 0.5098298788070679 Accuracy: 0.8059578947368421\n",
      "Validation Loss: 3.2533323764801025 Accuracy: 0.32752\n"
     ]
    },
    {
     "name": "stderr",
     "output_type": "stream",
     "text": [
      " 52%|██████████████████████████████████████████████████████████████████████████████▌                                                                        | 52/100 [1:29:42<1:22:59, 103.73s/it]"
     ]
    },
    {
     "name": "stdout",
     "output_type": "stream",
     "text": [
      "Epoch: 51 / 100\n",
      "Training Loss: 0.5118815898895264 Accuracy: 0.8049263157894737\n",
      "Validation Loss: 3.207672357559204 Accuracy: 0.32988\n"
     ]
    },
    {
     "name": "stderr",
     "output_type": "stream",
     "text": [
      " 53%|████████████████████████████████████████████████████████████████████████████████                                                                       | 53/100 [1:31:27<1:21:28, 104.02s/it]"
     ]
    },
    {
     "name": "stdout",
     "output_type": "stream",
     "text": [
      "Epoch: 52 / 100\n",
      "Training Loss: 0.5142676830291748 Accuracy: 0.8043642105263158\n",
      "Validation Loss: 3.2202343940734863 Accuracy: 0.32884\n"
     ]
    },
    {
     "name": "stderr",
     "output_type": "stream",
     "text": [
      " 54%|█████████████████████████████████████████████████████████████████████████████████▌                                                                     | 54/100 [1:33:11<1:19:38, 103.89s/it]"
     ]
    },
    {
     "name": "stdout",
     "output_type": "stream",
     "text": [
      "Epoch: 53 / 100\n",
      "Training Loss: 0.5128157734870911 Accuracy: 0.8046463157894737\n",
      "Validation Loss: 3.2026305198669434 Accuracy: 0.3294\n"
     ]
    },
    {
     "name": "stderr",
     "output_type": "stream",
     "text": [
      " 55%|███████████████████████████████████████████████████████████████████████████████████                                                                    | 55/100 [1:34:54<1:17:47, 103.73s/it]"
     ]
    },
    {
     "name": "stdout",
     "output_type": "stream",
     "text": [
      "Epoch: 54 / 100\n",
      "Training Loss: 0.5092707276344299 Accuracy: 0.8059863157894737\n",
      "Validation Loss: 3.2901577949523926 Accuracy: 0.33036\n"
     ]
    },
    {
     "name": "stderr",
     "output_type": "stream",
     "text": [
      " 56%|████████████████████████████████████████████████████████████████████████████████████▌                                                                  | 56/100 [1:36:39<1:16:24, 104.20s/it]"
     ]
    },
    {
     "name": "stdout",
     "output_type": "stream",
     "text": [
      "Epoch: 55 / 100\n",
      "Training Loss: 0.5054293274879456 Accuracy: 0.8074557894736842\n",
      "Validation Loss: 3.3031532764434814 Accuracy: 0.32964\n"
     ]
    },
    {
     "name": "stderr",
     "output_type": "stream",
     "text": [
      " 57%|██████████████████████████████████████████████████████████████████████████████████████                                                                 | 57/100 [1:38:24<1:14:50, 104.42s/it]"
     ]
    },
    {
     "name": "stdout",
     "output_type": "stream",
     "text": [
      "Epoch: 56 / 100\n",
      "Training Loss: 0.5041349530220032 Accuracy: 0.8081136842105263\n",
      "Validation Loss: 3.3302104473114014 Accuracy: 0.32612\n"
     ]
    },
    {
     "name": "stderr",
     "output_type": "stream",
     "text": [
      " 58%|███████████████████████████████████████████████████████████████████████████████████████▌                                                               | 58/100 [1:40:10<1:13:22, 104.81s/it]"
     ]
    },
    {
     "name": "stdout",
     "output_type": "stream",
     "text": [
      "Epoch: 57 / 100\n",
      "Training Loss: 0.5011944770812988 Accuracy: 0.8087673684210527\n",
      "Validation Loss: 3.39265513420105 Accuracy: 0.3312\n"
     ]
    },
    {
     "name": "stderr",
     "output_type": "stream",
     "text": [
      " 59%|█████████████████████████████████████████████████████████████████████████████████████████                                                              | 59/100 [1:41:56<1:11:48, 105.08s/it]"
     ]
    },
    {
     "name": "stdout",
     "output_type": "stream",
     "text": [
      "Epoch: 58 / 100\n",
      "Training Loss: 0.49358129501342773 Accuracy: 0.8118915789473684\n",
      "Validation Loss: 3.383143186569214 Accuracy: 0.3338\n"
     ]
    },
    {
     "name": "stderr",
     "output_type": "stream",
     "text": [
      " 60%|██████████████████████████████████████████████████████████████████████████████████████████▌                                                            | 60/100 [1:43:40<1:09:51, 104.78s/it]"
     ]
    },
    {
     "name": "stdout",
     "output_type": "stream",
     "text": [
      "Epoch: 59 / 100\n",
      "Training Loss: 0.4898773431777954 Accuracy: 0.8134421052631579\n",
      "Validation Loss: 3.418473958969116 Accuracy: 0.3318\n"
     ]
    },
    {
     "name": "stderr",
     "output_type": "stream",
     "text": [
      " 61%|████████████████████████████████████████████████████████████████████████████████████████████                                                           | 61/100 [1:45:24<1:08:00, 104.64s/it]"
     ]
    },
    {
     "name": "stdout",
     "output_type": "stream",
     "text": [
      "Epoch: 60 / 100\n",
      "Training Loss: 0.48690304160118103 Accuracy: 0.8145242105263157\n",
      "Validation Loss: 3.3644375801086426 Accuracy: 0.32888\n"
     ]
    },
    {
     "name": "stderr",
     "output_type": "stream",
     "text": [
      " 62%|█████████████████████████████████████████████████████████████████████████████████████████████▌                                                         | 62/100 [1:47:09<1:06:16, 104.64s/it]"
     ]
    },
    {
     "name": "stdout",
     "output_type": "stream",
     "text": [
      "Epoch: 61 / 100\n",
      "Training Loss: 0.4825473427772522 Accuracy: 0.8160263157894737\n",
      "Validation Loss: 3.4541594982147217 Accuracy: 0.33416\n"
     ]
    },
    {
     "name": "stderr",
     "output_type": "stream",
     "text": [
      " 63%|███████████████████████████████████████████████████████████████████████████████████████████████▏                                                       | 63/100 [1:49:01<1:05:52, 106.83s/it]"
     ]
    },
    {
     "name": "stdout",
     "output_type": "stream",
     "text": [
      "Epoch: 62 / 100\n",
      "Training Loss: 0.4817393124103546 Accuracy: 0.8163821052631579\n",
      "Validation Loss: 3.4133381843566895 Accuracy: 0.3298\n"
     ]
    },
    {
     "name": "stderr",
     "output_type": "stream",
     "text": [
      " 64%|████████████████████████████████████████████████████████████████████████████████████████████████▋                                                      | 64/100 [1:50:43<1:03:20, 105.57s/it]"
     ]
    },
    {
     "name": "stdout",
     "output_type": "stream",
     "text": [
      "Epoch: 63 / 100\n",
      "Training Loss: 0.48112472891807556 Accuracy: 0.8160368421052632\n",
      "Validation Loss: 3.4747984409332275 Accuracy: 0.33452\n"
     ]
    },
    {
     "name": "stderr",
     "output_type": "stream",
     "text": [
      " 65%|██████████████████████████████████████████████████████████████████████████████████████████████████▏                                                    | 65/100 [1:52:25<1:00:53, 104.38s/it]"
     ]
    },
    {
     "name": "stdout",
     "output_type": "stream",
     "text": [
      "Epoch: 64 / 100\n",
      "Training Loss: 0.482772558927536 Accuracy: 0.8158294736842105\n",
      "Validation Loss: 3.5700693130493164 Accuracy: 0.32988\n"
     ]
    },
    {
     "name": "stderr",
     "output_type": "stream",
     "text": [
      " 66%|████████████████████████████████████████████████████████████████████████████████████████████████████▉                                                    | 66/100 [1:54:07<58:44, 103.66s/it]"
     ]
    },
    {
     "name": "stdout",
     "output_type": "stream",
     "text": [
      "Epoch: 65 / 100\n",
      "Training Loss: 0.48089873790740967 Accuracy: 0.8164768421052632\n",
      "Validation Loss: 3.371234178543091 Accuracy: 0.32964\n"
     ]
    },
    {
     "name": "stderr",
     "output_type": "stream",
     "text": [
      " 67%|██████████████████████████████████████████████████████████████████████████████████████████████████████▌                                                  | 67/100 [1:55:49<56:47, 103.25s/it]"
     ]
    },
    {
     "name": "stdout",
     "output_type": "stream",
     "text": [
      "Epoch: 66 / 100\n",
      "Training Loss: 0.48345473408699036 Accuracy: 0.8152947368421053\n",
      "Validation Loss: 3.500044584274292 Accuracy: 0.33044\n"
     ]
    },
    {
     "name": "stderr",
     "output_type": "stream",
     "text": [
      " 68%|████████████████████████████████████████████████████████████████████████████████████████████████████████                                                 | 68/100 [1:57:31<54:52, 102.88s/it]"
     ]
    },
    {
     "name": "stdout",
     "output_type": "stream",
     "text": [
      "Epoch: 67 / 100\n",
      "Training Loss: 0.4809266924858093 Accuracy: 0.816361052631579\n",
      "Validation Loss: 3.4527230262756348 Accuracy: 0.32684\n"
     ]
    },
    {
     "name": "stderr",
     "output_type": "stream",
     "text": [
      " 69%|█████████████████████████████████████████████████████████████████████████████████████████████████████████▌                                               | 69/100 [1:59:14<53:05, 102.76s/it]"
     ]
    },
    {
     "name": "stdout",
     "output_type": "stream",
     "text": [
      "Epoch: 68 / 100\n",
      "Training Loss: 0.4792986810207367 Accuracy: 0.8173136842105263\n",
      "Validation Loss: 3.51419997215271 Accuracy: 0.3322\n"
     ]
    },
    {
     "name": "stderr",
     "output_type": "stream",
     "text": [
      " 70%|███████████████████████████████████████████████████████████████████████████████████████████████████████████                                              | 70/100 [2:00:56<51:19, 102.64s/it]"
     ]
    },
    {
     "name": "stdout",
     "output_type": "stream",
     "text": [
      "Epoch: 69 / 100\n",
      "Training Loss: 0.47914716601371765 Accuracy: 0.8170926315789474\n",
      "Validation Loss: 3.6180362701416016 Accuracy: 0.33212\n"
     ]
    },
    {
     "name": "stderr",
     "output_type": "stream",
     "text": [
      " 71%|████████████████████████████████████████████████████████████████████████████████████████████████████████████▋                                            | 71/100 [2:02:38<49:35, 102.59s/it]"
     ]
    },
    {
     "name": "stdout",
     "output_type": "stream",
     "text": [
      "Epoch: 70 / 100\n",
      "Training Loss: 0.47872424125671387 Accuracy: 0.8172294736842105\n",
      "Validation Loss: 3.6204922199249268 Accuracy: 0.32964\n"
     ]
    },
    {
     "name": "stderr",
     "output_type": "stream",
     "text": [
      " 72%|██████████████████████████████████████████████████████████████████████████████████████████████████████████████▏                                          | 72/100 [2:04:21<47:50, 102.50s/it]"
     ]
    },
    {
     "name": "stdout",
     "output_type": "stream",
     "text": [
      "Epoch: 71 / 100\n",
      "Training Loss: 0.47545427083969116 Accuracy: 0.8183336842105263\n",
      "Validation Loss: 3.642275094985962 Accuracy: 0.32896\n"
     ]
    },
    {
     "name": "stderr",
     "output_type": "stream",
     "text": [
      " 73%|███████████████████████████████████████████████████████████████████████████████████████████████████████████████▋                                         | 73/100 [2:06:03<46:07, 102.51s/it]"
     ]
    },
    {
     "name": "stdout",
     "output_type": "stream",
     "text": [
      "Epoch: 72 / 100\n",
      "Training Loss: 0.4762025773525238 Accuracy: 0.81804\n",
      "Validation Loss: 3.615037202835083 Accuracy: 0.32312\n"
     ]
    },
    {
     "name": "stderr",
     "output_type": "stream",
     "text": [
      " 74%|█████████████████████████████████████████████████████████████████████████████████████████████████████████████████▏                                       | 74/100 [2:07:46<44:23, 102.46s/it]"
     ]
    },
    {
     "name": "stdout",
     "output_type": "stream",
     "text": [
      "Epoch: 73 / 100\n",
      "Training Loss: 0.47700896859169006 Accuracy: 0.8178326315789474\n",
      "Validation Loss: 3.614778995513916 Accuracy: 0.32548\n"
     ]
    },
    {
     "name": "stderr",
     "output_type": "stream",
     "text": [
      " 75%|██████████████████████████████████████████████████████████████████████████████████████████████████████████████████▊                                      | 75/100 [2:09:28<42:39, 102.37s/it]"
     ]
    },
    {
     "name": "stdout",
     "output_type": "stream",
     "text": [
      "Epoch: 74 / 100\n",
      "Training Loss: 0.4732392430305481 Accuracy: 0.8192105263157895\n",
      "Validation Loss: 3.6787750720977783 Accuracy: 0.32824\n"
     ]
    },
    {
     "name": "stderr",
     "output_type": "stream",
     "text": [
      " 76%|████████████████████████████████████████████████████████████████████████████████████████████████████████████████████▎                                    | 76/100 [2:11:10<40:55, 102.29s/it]"
     ]
    },
    {
     "name": "stdout",
     "output_type": "stream",
     "text": [
      "Epoch: 75 / 100\n",
      "Training Loss: 0.4675648510456085 Accuracy: 0.8215684210526316\n",
      "Validation Loss: 3.5662858486175537 Accuracy: 0.32452\n"
     ]
    },
    {
     "name": "stderr",
     "output_type": "stream",
     "text": [
      " 77%|█████████████████████████████████████████████████████████████████████████████████████████████████████████████████████▊                                   | 77/100 [2:12:52<39:14, 102.36s/it]"
     ]
    },
    {
     "name": "stdout",
     "output_type": "stream",
     "text": [
      "Epoch: 76 / 100\n",
      "Training Loss: 0.4688378870487213 Accuracy: 0.8207652631578948\n",
      "Validation Loss: 3.6316423416137695 Accuracy: 0.3268\n"
     ]
    },
    {
     "name": "stderr",
     "output_type": "stream",
     "text": [
      " 78%|███████████████████████████████████████████████████████████████████████████████████████████████████████████████████████▎                                 | 78/100 [2:14:35<37:31, 102.36s/it]"
     ]
    },
    {
     "name": "stdout",
     "output_type": "stream",
     "text": [
      "Epoch: 77 / 100\n",
      "Training Loss: 0.4691108465194702 Accuracy: 0.8206726315789473\n",
      "Validation Loss: 3.6082093715667725 Accuracy: 0.32892\n"
     ]
    },
    {
     "name": "stderr",
     "output_type": "stream",
     "text": [
      " 79%|████████████████████████████████████████████████████████████████████████████████████████████████████████████████████████▊                                | 79/100 [2:16:17<35:50, 102.40s/it]"
     ]
    },
    {
     "name": "stdout",
     "output_type": "stream",
     "text": [
      "Epoch: 78 / 100\n",
      "Training Loss: 0.4666449725627899 Accuracy: 0.8216210526315789\n",
      "Validation Loss: 3.809947967529297 Accuracy: 0.32292\n"
     ]
    },
    {
     "name": "stderr",
     "output_type": "stream",
     "text": [
      " 80%|██████████████████████████████████████████████████████████████████████████████████████████████████████████████████████████▍                              | 80/100 [2:18:00<34:09, 102.48s/it]"
     ]
    },
    {
     "name": "stdout",
     "output_type": "stream",
     "text": [
      "Epoch: 79 / 100\n",
      "Training Loss: 0.4660819470882416 Accuracy: 0.8217052631578947\n",
      "Validation Loss: 3.7158029079437256 Accuracy: 0.32824\n"
     ]
    },
    {
     "name": "stderr",
     "output_type": "stream",
     "text": [
      " 81%|███████████████████████████████████████████████████████████████████████████████████████████████████████████████████████████▉                             | 81/100 [2:19:42<32:26, 102.43s/it]"
     ]
    },
    {
     "name": "stdout",
     "output_type": "stream",
     "text": [
      "Epoch: 80 / 100\n",
      "Training Loss: 0.46606820821762085 Accuracy: 0.8217989473684211\n",
      "Validation Loss: 3.782775640487671 Accuracy: 0.32544\n"
     ]
    },
    {
     "name": "stderr",
     "output_type": "stream",
     "text": [
      " 82%|█████████████████████████████████████████████████████████████████████████████████████████████████████████████████████████████▍                           | 82/100 [2:21:25<30:44, 102.47s/it]"
     ]
    },
    {
     "name": "stdout",
     "output_type": "stream",
     "text": [
      "Epoch: 81 / 100\n",
      "Training Loss: 0.4648187458515167 Accuracy: 0.8221094736842105\n",
      "Validation Loss: 3.7289741039276123 Accuracy: 0.32864\n"
     ]
    },
    {
     "name": "stderr",
     "output_type": "stream",
     "text": [
      " 83%|██████████████████████████████████████████████████████████████████████████████████████████████████████████████████████████████▉                          | 83/100 [2:23:07<29:02, 102.48s/it]"
     ]
    },
    {
     "name": "stdout",
     "output_type": "stream",
     "text": [
      "Epoch: 82 / 100\n",
      "Training Loss: 0.4634217619895935 Accuracy: 0.8229821052631578\n",
      "Validation Loss: 3.7726848125457764 Accuracy: 0.3268\n"
     ]
    },
    {
     "name": "stderr",
     "output_type": "stream",
     "text": [
      " 84%|████████████████████████████████████████████████████████████████████████████████████████████████████████████████████████████████▌                        | 84/100 [2:24:50<27:20, 102.50s/it]"
     ]
    },
    {
     "name": "stdout",
     "output_type": "stream",
     "text": [
      "Epoch: 83 / 100\n",
      "Training Loss: 0.46269193291664124 Accuracy: 0.8228063157894737\n",
      "Validation Loss: 3.6837210655212402 Accuracy: 0.32616\n"
     ]
    },
    {
     "name": "stderr",
     "output_type": "stream",
     "text": [
      " 85%|██████████████████████████████████████████████████████████████████████████████████████████████████████████████████████████████████                       | 85/100 [2:26:32<25:35, 102.38s/it]"
     ]
    },
    {
     "name": "stdout",
     "output_type": "stream",
     "text": [
      "Epoch: 84 / 100\n",
      "Training Loss: 0.46184641122817993 Accuracy: 0.8235494736842105\n",
      "Validation Loss: 3.8331174850463867 Accuracy: 0.32828\n"
     ]
    },
    {
     "name": "stderr",
     "output_type": "stream",
     "text": [
      " 86%|███████████████████████████████████████████████████████████████████████████████████████████████████████████████████████████████████▌                     | 86/100 [2:28:14<23:52, 102.32s/it]"
     ]
    },
    {
     "name": "stdout",
     "output_type": "stream",
     "text": [
      "Epoch: 85 / 100\n",
      "Training Loss: 0.46247750520706177 Accuracy: 0.82326\n",
      "Validation Loss: 3.759183645248413 Accuracy: 0.32752\n"
     ]
    },
    {
     "name": "stderr",
     "output_type": "stream",
     "text": [
      " 87%|█████████████████████████████████████████████████████████████████████████████████████████████████████████████████████████████████████                    | 87/100 [2:29:56<22:10, 102.33s/it]"
     ]
    },
    {
     "name": "stdout",
     "output_type": "stream",
     "text": [
      "Epoch: 86 / 100\n",
      "Training Loss: 0.45980656147003174 Accuracy: 0.8238831578947369\n",
      "Validation Loss: 3.812591552734375 Accuracy: 0.32624\n"
     ]
    },
    {
     "name": "stderr",
     "output_type": "stream",
     "text": [
      " 88%|██████████████████████████████████████████████████████████████████████████████████████████████████████████████████████████████████████▋                  | 88/100 [2:31:39<20:28, 102.39s/it]"
     ]
    },
    {
     "name": "stdout",
     "output_type": "stream",
     "text": [
      "Epoch: 87 / 100\n",
      "Training Loss: 0.4568929970264435 Accuracy: 0.8253084210526316\n",
      "Validation Loss: 3.85579252243042 Accuracy: 0.32424\n"
     ]
    },
    {
     "name": "stderr",
     "output_type": "stream",
     "text": [
      " 89%|████████████████████████████████████████████████████████████████████████████████████████████████████████████████████████████████████████▏                | 89/100 [2:33:21<18:46, 102.41s/it]"
     ]
    },
    {
     "name": "stdout",
     "output_type": "stream",
     "text": [
      "Epoch: 88 / 100\n",
      "Training Loss: 0.45562857389450073 Accuracy: 0.8253978947368421\n",
      "Validation Loss: 3.9064271450042725 Accuracy: 0.32592\n"
     ]
    },
    {
     "name": "stderr",
     "output_type": "stream",
     "text": [
      " 90%|█████████████████████████████████████████████████████████████████████████████████████████████████████████████████████████████████████████▋               | 90/100 [2:35:03<17:02, 102.24s/it]"
     ]
    },
    {
     "name": "stdout",
     "output_type": "stream",
     "text": [
      "Epoch: 89 / 100\n",
      "Training Loss: 0.45470568537712097 Accuracy: 0.8258642105263158\n",
      "Validation Loss: 3.840857744216919 Accuracy: 0.32588\n"
     ]
    },
    {
     "name": "stderr",
     "output_type": "stream",
     "text": [
      " 91%|███████████████████████████████████████████████████████████████████████████████████████████████████████████████████████████████████████████▏             | 91/100 [2:36:45<15:18, 102.07s/it]"
     ]
    },
    {
     "name": "stdout",
     "output_type": "stream",
     "text": [
      "Epoch: 90 / 100\n",
      "Training Loss: 0.4556928873062134 Accuracy: 0.8260778947368421\n",
      "Validation Loss: 3.7849302291870117 Accuracy: 0.3244\n"
     ]
    },
    {
     "name": "stderr",
     "output_type": "stream",
     "text": [
      " 92%|████████████████████████████████████████████████████████████████████████████████████████████████████████████████████████████████████████████▊            | 92/100 [2:38:26<13:34, 101.84s/it]"
     ]
    },
    {
     "name": "stdout",
     "output_type": "stream",
     "text": [
      "Epoch: 91 / 100\n",
      "Training Loss: 0.4521058201789856 Accuracy: 0.8274968421052632\n",
      "Validation Loss: 3.932622194290161 Accuracy: 0.32472\n"
     ]
    },
    {
     "name": "stderr",
     "output_type": "stream",
     "text": [
      " 93%|██████████████████████████████████████████████████████████████████████████████████████████████████████████████████████████████████████████████▎          | 93/100 [2:40:07<11:50, 101.53s/it]"
     ]
    },
    {
     "name": "stdout",
     "output_type": "stream",
     "text": [
      "Epoch: 92 / 100\n",
      "Training Loss: 0.4538842737674713 Accuracy: 0.8262073684210526\n",
      "Validation Loss: 3.765075445175171 Accuracy: 0.32532\n"
     ]
    },
    {
     "name": "stderr",
     "output_type": "stream",
     "text": [
      " 94%|███████████████████████████████████████████████████████████████████████████████████████████████████████████████████████████████████████████████▊         | 94/100 [2:41:48<10:08, 101.41s/it]"
     ]
    },
    {
     "name": "stdout",
     "output_type": "stream",
     "text": [
      "Epoch: 93 / 100\n",
      "Training Loss: 0.44899043440818787 Accuracy: 0.8279336842105263\n",
      "Validation Loss: 3.797157049179077 Accuracy: 0.32152\n"
     ]
    },
    {
     "name": "stderr",
     "output_type": "stream",
     "text": [
      " 95%|█████████████████████████████████████████████████████████████████████████████████████████████████████████████████████████████████████████████████▎       | 95/100 [2:43:30<08:27, 101.49s/it]"
     ]
    },
    {
     "name": "stdout",
     "output_type": "stream",
     "text": [
      "Epoch: 94 / 100\n",
      "Training Loss: 0.454562783241272 Accuracy: 0.8258778947368421\n",
      "Validation Loss: 3.96653413772583 Accuracy: 0.32432\n"
     ]
    },
    {
     "name": "stderr",
     "output_type": "stream",
     "text": [
      " 96%|██████████████████████████████████████████████████████████████████████████████████████████████████████████████████████████████████████████████████▉      | 96/100 [2:45:12<06:46, 101.54s/it]"
     ]
    },
    {
     "name": "stdout",
     "output_type": "stream",
     "text": [
      "Epoch: 95 / 100\n",
      "Training Loss: 0.45283961296081543 Accuracy: 0.8264894736842106\n",
      "Validation Loss: 3.955915689468384 Accuracy: 0.3232\n"
     ]
    },
    {
     "name": "stderr",
     "output_type": "stream",
     "text": [
      " 97%|████████████████████████████████████████████████████████████████████████████████████████████████████████████████████████████████████████████████████▍    | 97/100 [2:46:54<05:05, 101.78s/it]"
     ]
    },
    {
     "name": "stdout",
     "output_type": "stream",
     "text": [
      "Epoch: 96 / 100\n",
      "Training Loss: 0.44754478335380554 Accuracy: 0.8285957894736842\n",
      "Validation Loss: 3.879892349243164 Accuracy: 0.32084\n"
     ]
    },
    {
     "name": "stderr",
     "output_type": "stream",
     "text": [
      " 98%|█████████████████████████████████████████████████████████████████████████████████████████████████████████████████████████████████████████████████████▉   | 98/100 [2:48:35<03:23, 101.72s/it]"
     ]
    },
    {
     "name": "stdout",
     "output_type": "stream",
     "text": [
      "Epoch: 97 / 100\n",
      "Training Loss: 0.4440876543521881 Accuracy: 0.8296115789473684\n",
      "Validation Loss: 4.036721706390381 Accuracy: 0.32408\n"
     ]
    },
    {
     "name": "stderr",
     "output_type": "stream",
     "text": [
      " 99%|███████████████████████████████████████████████████████████████████████████████████████████████████████████████████████████████████████████████████████▍ | 99/100 [2:50:18<01:41, 101.92s/it]"
     ]
    },
    {
     "name": "stdout",
     "output_type": "stream",
     "text": [
      "Epoch: 98 / 100\n",
      "Training Loss: 0.44414857029914856 Accuracy: 0.8299315789473685\n",
      "Validation Loss: 3.968768358230591 Accuracy: 0.32308\n"
     ]
    },
    {
     "name": "stderr",
     "output_type": "stream",
     "text": [
      "100%|████████████████████████████████████████████████████████████████████████████████████████████████████████████████████████████████████████████████████████| 100/100 [2:52:00<00:00, 103.21s/it]"
     ]
    },
    {
     "name": "stdout",
     "output_type": "stream",
     "text": [
      "Epoch: 99 / 100\n",
      "Training Loss: 0.44492843747138977 Accuracy: 0.8297147368421053\n",
      "Validation Loss: 3.9581403732299805 Accuracy: 0.32524\n"
     ]
    },
    {
     "name": "stderr",
     "output_type": "stream",
     "text": [
      "\n"
     ]
    },
    {
     "name": "stdout",
     "output_type": "stream",
     "text": [
      "Test Loss: 3.946603536605835 Test Accuracy :0.32384\n"
     ]
    }
   ],
   "source": [
    "# Training a simple Feature Sieve\n",
    "model = Feature_Sieve(4 ,6).to(device)\n",
    "model, train_loss, train_accs, val_loss, val_accs = train_fs(model, train_dataloader, val_dataloader, verbose = True)\n",
    "test_loss, test_accs = eval_fsmodel(model,  test_dataloader)"
   ]
  },
  {
   "cell_type": "code",
   "execution_count": 14,
   "id": "35906ec5-20ed-41d7-994c-dde7ac996dd7",
   "metadata": {},
   "outputs": [
    {
     "data": {
      "image/png": "[encoded data removed]",
      "text/plain": [
       "<Figure size 640x480 with 1 Axes>"
      ]
     },
     "metadata": {},
     "output_type": "display_data"
    },
    {
     "data": {
      "image/png": "[encoded data removed]",
      "text/plain": [
       "<Figure size 640x480 with 1 Axes>"
      ]
     },
     "metadata": {},
     "output_type": "display_data"
    }
   ],
   "source": [
    "plot_loss_curves(train_loss, val_loss, test_loss, model_name = \"Feature Sieve Loss Curves\", metric = \"loss\")\n",
    "plot_loss_curves(train_accs, val_accs, test_accs, model_name = \"Feature Sieve Accuracy\", metric = \"accuracy\")"
   ]
  },
  {
   "cell_type": "markdown",
   "id": "6aaa4c73-d4e0-4409-a45f-7301de149509",
   "metadata": {},
   "source": [
    "## Architecture 2:\n",
    "Auxilary network connected to the 2nd convolutional layer"
   ]
  },
  {
   "cell_type": "code",
   "execution_count": 14,
   "id": "99bdf0ca-81e8-4155-b0af-d9650760fdad",
   "metadata": {},
   "outputs": [],
   "source": [
    "class Feature_Sieve2(nn.Module):\n",
    "    def __init__(self, num_channels, num_actions):\n",
    "        super(Feature_Sieve2, self).__init__()\n",
    "        self.num_actions = num_actions\n",
    "\n",
    "        #Main Network\n",
    "        self.conv1 = nn.Conv2d(num_channels, 32, 8, stride=4)\n",
    "        self.conv2 = nn.Conv2d(32, 64, 4, stride=2)\n",
    "        self.conv3 = nn.Conv2d(64, 64, 3, stride=1)\n",
    "\n",
    "        self.fc1 = nn.Linear(3136, 512)\n",
    "        self.fc2 = nn.Linear(512, num_actions)\n",
    "\n",
    "        #Aux network\n",
    "        self.aux_fc1 = nn.Linear(5184, 512)\n",
    "        self.aux_fc2 = nn.Linear(512, num_actions)\n",
    "\n",
    "        self.params = nn.ModuleDict(\n",
    "            {\n",
    "                \"main\" : nn.ModuleList([self.conv1, self.conv2, self.conv3, self.fc1, self.fc2]),\n",
    "                \"aux\" : nn.ModuleList([self.aux_fc1, self.aux_fc2]),\n",
    "                \"forget\" : nn.ModuleList([self.conv1])\n",
    "            }\n",
    "        )\n",
    "\n",
    "    def forward(self, x):\n",
    "        x = F.relu(self.conv1(x))\n",
    "        sh = F.relu(self.conv2(x))\n",
    "        x = F.relu(self.conv3(sh))\n",
    "        \n",
    "        x = x.reshape(x.shape[0], -1)\n",
    "        x = F.relu(self.fc1(x))\n",
    "        x = self.fc2(x)\n",
    "\n",
    "        aux = sh.reshape(sh.shape[0], -1)\n",
    "        aux = F.relu(self.aux_fc1(aux))\n",
    "        aux = self.aux_fc2(aux)\n",
    "\n",
    "        return x, aux"
   ]
  },
  {
   "cell_type": "code",
   "execution_count": 21,
   "id": "54947801-710a-4472-ace0-a4b658ba04ca",
   "metadata": {},
   "outputs": [
    {
     "name": "stderr",
     "output_type": "stream",
     "text": [
      "100%|█████████████████████████████████████████████████████████████████████████████████████████████████████████████████████████████████████████████████████████| 100/100 [2:36:22<00:00, 93.82s/it]\n"
     ]
    },
    {
     "name": "stdout",
     "output_type": "stream",
     "text": [
      "Test Loss: 7.041356086730957 Test Accuracy :0.32012\n"
     ]
    }
   ],
   "source": [
    "# training Feature Sieve architecture 2\n",
    "model = Feature_Sieve2(4, 6).to(device)\n",
    "model, train_loss, train_accs, val_loss, val_accs = train_fs(model, train_dataloader, val_dataloader, verbose=False, epochs =100)\n",
    "test_loss, test_acc = eval_fsmodel(model, test_dataloader)"
   ]
  },
  {
   "cell_type": "code",
   "execution_count": 22,
   "id": "2d5d88e9-6537-43d0-9b63-cf33a1a3864b",
   "metadata": {},
   "outputs": [
    {
     "ename": "NameError",
     "evalue": "name 'plot_losss_curves' is not defined",
     "output_type": "error",
     "traceback": [
      "\u001b[0;31m---------------------------------------------------------------------------\u001b[0m",
      "\u001b[0;31mNameError\u001b[0m                                 Traceback (most recent call last)",
      "Cell \u001b[0;32mIn[22], line 1\u001b[0m\n\u001b[0;32m----> 1\u001b[0m \u001b[43mplot_losss_curves\u001b[49m(train_loss, val_loss, test_loss, model_name \u001b[38;5;241m=\u001b[39m \u001b[38;5;124m\"\u001b[39m\u001b[38;5;124mFeature Sieve 2 Loss\u001b[39m\u001b[38;5;124m\"\u001b[39m, metric \u001b[38;5;241m=\u001b[39m \u001b[38;5;124m\"\u001b[39m\u001b[38;5;124mLoss\u001b[39m\u001b[38;5;124m\"\u001b[39m)\n\u001b[1;32m      2\u001b[0m plot_loss_curves(train_accs, val_accs, test_acc, model_name \u001b[38;5;241m=\u001b[39m \u001b[38;5;124m\"\u001b[39m\u001b[38;5;124mFeature Sieve 2 Accuracy\u001b[39m\u001b[38;5;124m\"\u001b[39m, metric \u001b[38;5;241m=\u001b[39m \u001b[38;5;124m\"\u001b[39m\u001b[38;5;124mAccuracy\u001b[39m\u001b[38;5;124m\"\u001b[39m)\n",
      "\u001b[0;31mNameError\u001b[0m: name 'plot_losss_curves' is not defined"
     ]
    }
   ],
   "source": [
    "plot_losss_curves(train_loss, val_loss, test_loss, model_name = \"Feature Sieve 2 Loss\", metric = \"Loss\")\n",
    "plot_loss_curves(train_accs, val_accs, test_acc, model_name = \"Feature Sieve 2 Accuracy\", metric = \"Accuracy\")"
   ]
  },
  {
   "cell_type": "code",
   "execution_count": 16,
   "id": "8a2ca0e4-c28e-418c-92a1-fcc0fa9c1afd",
   "metadata": {
    "scrolled": true
   },
   "outputs": [
    {
     "name": "stdout",
     "output_type": "stream",
     "text": [
      "LR: 1e-05\n"
     ]
    },
    {
     "name": "stderr",
     "output_type": "stream",
     "text": [
      "100%|███████████████████████████████████████████████████████████████████████████████████████████████████████████████████████████████████████████████████████████████| 5/5 [08:18<00:00, 99.73s/it]\n"
     ]
    },
    {
     "name": "stdout",
     "output_type": "stream",
     "text": [
      "Test Loss: 1.7731949090957642 Test Accuracy :0.22512\n",
      "LR: 5e-05\n"
     ]
    },
    {
     "name": "stderr",
     "output_type": "stream",
     "text": [
      "100%|██████████████████████████████████████████████████████████████████████████████████████████████████████████████████████████████████████████████████████████████| 5/5 [08:23<00:00, 100.60s/it]\n"
     ]
    },
    {
     "name": "stdout",
     "output_type": "stream",
     "text": [
      "Test Loss: 1.437415599822998 Test Accuracy :0.40728\n",
      "LR: 0.0001\n"
     ]
    },
    {
     "name": "stderr",
     "output_type": "stream",
     "text": [
      "100%|██████████████████████████████████████████████████████████████████████████████████████████████████████████████████████████████████████████████████████████████| 5/5 [08:22<00:00, 100.55s/it]\n"
     ]
    },
    {
     "name": "stdout",
     "output_type": "stream",
     "text": [
      "Test Loss: 1.4795513153076172 Test Accuracy :0.40472\n",
      "LR: 0.0005\n"
     ]
    },
    {
     "name": "stderr",
     "output_type": "stream",
     "text": [
      "100%|██████████████████████████████████████████████████████████████████████████████████████████████████████████████████████████████████████████████████████████████| 5/5 [08:21<00:00, 100.40s/it]\n"
     ]
    },
    {
     "name": "stdout",
     "output_type": "stream",
     "text": [
      "Test Loss: 1.5752860307693481 Test Accuracy :0.40528\n",
      "LR: 0.001\n"
     ]
    },
    {
     "name": "stderr",
     "output_type": "stream",
     "text": [
      "100%|██████████████████████████████████████████████████████████████████████████████████████████████████████████████████████████████████████████████████████████████| 5/5 [08:23<00:00, 100.78s/it]\n"
     ]
    },
    {
     "name": "stdout",
     "output_type": "stream",
     "text": [
      "Test Loss: 1.4900609254837036 Test Accuracy :0.40232\n",
      "LR: 0.005\n"
     ]
    },
    {
     "name": "stderr",
     "output_type": "stream",
     "text": [
      "100%|██████████████████████████████████████████████████████████████████████████████████████████████████████████████████████████████████████████████████████████████| 5/5 [08:23<00:00, 100.63s/it]\n"
     ]
    },
    {
     "name": "stdout",
     "output_type": "stream",
     "text": [
      "Test Loss: 1.7889174222946167 Test Accuracy :0.18224\n",
      "LR: 0.01\n"
     ]
    },
    {
     "name": "stderr",
     "output_type": "stream",
     "text": [
      "100%|██████████████████████████████████████████████████████████████████████████████████████████████████████████████████████████████████████████████████████████████| 5/5 [08:23<00:00, 100.68s/it]\n"
     ]
    },
    {
     "name": "stdout",
     "output_type": "stream",
     "text": [
      "Test Loss: 1.6700743436813354 Test Accuracy :0.27608\n",
      "LR: 0.05\n"
     ]
    },
    {
     "name": "stderr",
     "output_type": "stream",
     "text": [
      "100%|██████████████████████████████████████████████████████████████████████████████████████████████████████████████████████████████████████████████████████████████| 5/5 [08:20<00:00, 100.00s/it]\n"
     ]
    },
    {
     "name": "stdout",
     "output_type": "stream",
     "text": [
      "Test Loss: 1.790500283241272 Test Accuracy :0.18224\n",
      "Best Lr: 5e-05\n"
     ]
    }
   ],
   "source": [
    "#Hyper parameter tuning of the feature Sieve model\n",
    "forget_lrs = [1e-5, 5e-5, 1e-4, 5e-4, 1e-3, 5e-3, 1e-2, 5e-2]\n",
    "forget_iters = [2, 5, 10, 20, 30, 50, 60, 70, 80, 90, 100]\n",
    "lrs = [1e-5, 5e-5, 1e-4, 5e-4, 1e-3, 5e-3, 1e-2, 5e-2]\n",
    "\n",
    "# test_accs = []\n",
    "# for forget_lr in forget_lrs:\n",
    "#     print(f\"Forget Lr: {forget_lr}\")\n",
    "#     model = Feature_Sieve(4, 6).to(device)\n",
    "#     model, train_loss, train_accs, val_loss, val_accs = train_fs(model, train_dataloader, val_dataloader, verbose=False, epochs=5, lrs = [1e-3, 1e-3, forget_lr])\n",
    "#     test_loss, test_acc = eval_fsmodel(model, test_dataloader)\n",
    "#     test_accs.append(test_acc)\n",
    "\n",
    "# best_forget_lr = forget_lrs[test_accs.index(max(test_accs))]\n",
    "# print(f\"Best Forget LR: {best_forget_lr}\")\n",
    "\n",
    "# test_accs = []\n",
    "# for forget_iter in forget_iters:\n",
    "#     print(f\"Forget iter: {forget_iter}\")\n",
    "#     model = Feature_Sieve(4, 6).to(device)\n",
    "#     model, train_loss, train_accs, val_loss, val_accs = train_fs(model, train_dataloader, val_dataloader, verbose=False, epochs=5, forget_iters=forget_iter, lrs=[1e-3,1e-3,best_forget_lr])\n",
    "#     test_loss, test_acc = eval_fsmodel(model, test_dataloader)\n",
    "#     test_accs.append(test_acc)\n",
    "\n",
    "# best_forget_iter = forget_iters[test_accs.index(max(test_accs))]\n",
    "# print(f\"Best forget iter: {best_forget_iter}\")\n",
    "\n",
    "best_forget_lr = 0.0001\n",
    "best_forget_iter = 10\n",
    "\n",
    "test_accs = []\n",
    "for lr in lrs:\n",
    "    print(f\"LR: {lr}\")\n",
    "    model = Feature_Sieve(4,6).to(device)\n",
    "    model, train_loss, train_accs, val_loss, val_accs = train_fs(model, train_dataloader, val_dataloader, verbose = False, epochs=5, forget_iters=best_forget_iter, lrs=[lr, lr, best_forget_lr])\n",
    "    test_loss, test_acc = eval_fsmodel(model, test_dataloader)\n",
    "    test_accs.append(test_acc)\n",
    "\n",
    "best_lr = lrs[test_accs.index(max(test_accs))]\n",
    "print(f\"Best Lr: {best_lr}\")"
   ]
  },
  {
   "cell_type": "code",
   "execution_count": 15,
   "id": "2f7edcd9-cf9f-4cf2-8687-84394e37b764",
   "metadata": {
    "scrolled": true
   },
   "outputs": [
    {
     "name": "stderr",
     "output_type": "stream",
     "text": [
      "100%|█████████████████████████████████████████████████████████████████████████████████████████████████████████████████████████████████████████████████████████████| 20/20 [19:53<00:00, 59.67s/it]\n"
     ]
    },
    {
     "name": "stdout",
     "output_type": "stream",
     "text": [
      "Test Loss: 1.9342814683914185 Accuracy:0.36892\n"
     ]
    }
   ],
   "source": [
    "#Training a CNN model with the Early stopper\n",
    "best_lr_cnn = 3e-5\n",
    "\n",
    "model = CNN(4, 6).to(device)\n",
    "model, train_loss, train_acc, val_loss, val_acc = train_cnn(model, train_dataloader, val_dataloader, epochs = 20, verbose=False, early_stop = True, lr=best_lr_cnn, min_delta = 0.1)\n",
    "test_loss, test_acc = eval_cnn(model, test_dataloader)"
   ]
  },
  {
   "cell_type": "code",
   "execution_count": 16,
   "id": "a9a6c097-5e63-4f41-b31a-916cba7914cb",
   "metadata": {
    "scrolled": true
   },
   "outputs": [
    {
     "name": "stderr",
     "output_type": "stream",
     "text": [
      "100%|████████████████████████████████████████████████████████████████████████████████████████████████████████████████████████████████████████████████████████████| 20/20 [33:55<00:00, 101.80s/it]\n"
     ]
    },
    {
     "name": "stdout",
     "output_type": "stream",
     "text": [
      "Test Loss: 1.7054579257965088 Test Accuracy :0.3708\n"
     ]
    }
   ],
   "source": [
    "# Training the Feature Sieve model with an Early Stopper\n",
    "best_forget_lr = 0.0001\n",
    "best_forget_iter = 10\n",
    "best_lr = 5e-5\n",
    "\n",
    "model = Feature_Sieve(4, 6).to(device)\n",
    "model, train_loss_fs, train_acc_fs, val_loss_fs, val_acc_fs = train_fs(model, train_dataloader, val_dataloader, epochs = 20, verbose = False, early_stop = True, lrs = [best_lr, best_lr, best_forget_lr], forget_iters= best_forget_iter, min_delta = 0.1)\n",
    "test_loss_fs, test_acc_fs = eval_fsmodel(model, test_dataloader)"
   ]
  },
  {
   "cell_type": "code",
   "execution_count": 23,
   "id": "1fee4ac6-bec5-4339-a0a5-a36480184716",
   "metadata": {},
   "outputs": [
    {
     "name": "stderr",
     "output_type": "stream",
     "text": [
      "WARNING:matplotlib.legend:No artists with labels found to put in legend.  Note that artists whose label start with an underscore are ignored when legend() is called with no argument.\n",
      "WARNING:matplotlib.legend:No artists with labels found to put in legend.  Note that artists whose label start with an underscore are ignored when legend() is called with no argument.\n"
     ]
    },
    {
     "data": {
      "image/png": "[encoded data removed]",
      "text/plain": [
       "<Figure size 2000x1000 with 6 Axes>"
      ]
     },
     "metadata": {},
     "output_type": "display_data"
    }
   ],
   "source": [
    "# Plotting the Comparisons\n",
    "plt.rcParams[\"figure.figsize\"] = (20, 10)\n",
    "fig, ax = plt.subplots(2, 3)\n",
    "fig.suptitle(\"CNN vs Feature Sieve (Space Invaders)\")\n",
    "\n",
    "# Training Loss\n",
    "ax[0,0].plot(range(len(train_loss)), train_loss, color = \"blue\", label = \"CNN\")\n",
    "ax[0,0].plot(range(len(train_loss_fs)), train_loss_fs,color = \"red\", label= \"Feature Sieve\")\n",
    "ax[0,0].set_xlabel(\"Epochs\")\n",
    "ax[0,0].set_ylabel(\"Loss\")\n",
    "ax[0,0].set_title(\"Training Loss\")\n",
    "ax[0,0].legend()\n",
    "\n",
    "#Validation Loss\n",
    "ax[0,1].plot(range(len(val_loss)), val_loss, color = \"blue\", label = \"CNN\")\n",
    "ax[0,1].plot(range(len(val_loss_fs)), val_loss_fs, color = \"red\", label= \"Feature Sieve\")\n",
    "ax[0,1].set_xlabel(\"Epochs\")\n",
    "ax[0,1].set_ylabel(\"Loss\")\n",
    "ax[0,1].set_title(\"Validation Loss\")\n",
    "ax[0,1].legend()\n",
    "\n",
    "#Training  Accuracy\n",
    "ax[1,0].plot(range(len(train_acc)), train_acc, color = \"blue\", label = \"CNN\")\n",
    "ax[1,0].plot(range(len(train_acc_fs)), train_acc_fs,color = \"red\", label= \"Feature Sieve\")\n",
    "ax[1,0].set_xlabel(\"Epochs\")\n",
    "ax[1,0].set_ylabel(\"Loss\")\n",
    "ax[1,0].set_title(\"Training Accuracy\")\n",
    "ax[1,0].legend()\n",
    "\n",
    "#Validation Accuracy\n",
    "ax[1,1].plot(range(len(val_loss)), val_acc, color = \"blue\", label = \"CNN\")\n",
    "ax[1,1].plot(range(len(val_loss_fs)), val_acc_fs, color = \"red\", label= \"Feature Sieve\")\n",
    "ax[1,1].set_xlabel(\"Epochs\")\n",
    "ax[1,1].set_ylabel(\"Loss\")\n",
    "ax[1,1].set_title(\"Validation Accuracy\")\n",
    "ax[1,1].legend()\n",
    "\n",
    "#Test Loss:\n",
    "models = [\"CNN\", \"Feature Sieve\"]\n",
    "test_losses = [test_loss, test_loss_fs]\n",
    "ax[0,2].bar(models, test_losses, width = 0.4)\n",
    "ax[0,2].set_xlabel(\"Models\")\n",
    "ax[0,2].set_ylabel(\"Test Loss\")\n",
    "ax[0,2].set_title(\"Test Loss\")\n",
    "ax[0,2].legend()\n",
    "\n",
    "# Test accuracy\n",
    "test_accs = [test_acc, test_acc_fs]\n",
    "ax[1,2].bar(models, test_accs, width = 0.4)\n",
    "ax[1,2].set_xlabel(\"Models\")\n",
    "ax[1,2].set_ylabel(\"Test Accuracy\")\n",
    "ax[1,2].set_title(\"Test Accuracy\")\n",
    "ax[1,2].legend()\n",
    "\n",
    "plt.tight_layout()\n",
    "plt.savefig(\"./Outputs/cnn_vs_fs.png\")\n",
    "plt.show()"
   ]
  },
  {
   "cell_type": "code",
   "execution_count": 18,
   "id": "73801a29-e5b0-4eab-a43f-269441b7ec35",
   "metadata": {},
   "outputs": [],
   "source": [
    "# saving all the observations\n",
    "np.save(\"./Datasets/space_invaders_obs.npy\", observations)\n",
    "np.save(\"./Datasets/space_invaders_actions.npy\", actions)"
   ]
  }
 ],
 "metadata": {
  "kernelspec": {
   "display_name": "Python 3 (ipykernel)",
   "language": "python",
   "name": "python3"
  },
  "language_info": {
   "codemirror_mode": {
    "name": "ipython",
    "version": 3
   },
   "file_extension": ".py",
   "mimetype": "text/x-python",
   "name": "python",
   "nbconvert_exporter": "python",
   "pygments_lexer": "ipython3",
   "version": "3.11.5"
  }
 },
 "nbformat": 4,
 "nbformat_minor": 5
}
