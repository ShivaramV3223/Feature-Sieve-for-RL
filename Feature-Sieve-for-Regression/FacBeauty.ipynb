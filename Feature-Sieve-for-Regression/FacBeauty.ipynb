{
 "cells": [
  {
   "cell_type": "markdown",
   "id": "d49cefa6-3006-44e0-990f-c13a8d3b8f63",
   "metadata": {},
   "source": [
    "# Feature Sieve Regression\n",
    "## Dataset: Facial Beauty SCUT - FBP5500"
   ]
  },
  {
   "cell_type": "code",
   "execution_count": 1,
   "id": "4cf884a1-86be-4075-aa08-38c2e65c7dc8",
   "metadata": {},
   "outputs": [],
   "source": [
    "# importing libraries\n",
    "import numpy as np\n",
    "import torch\n",
    "from torch import nn, optim\n",
    "import torch.nn.functional as F\n",
    "from PIL import Image\n",
    "from torch.utils.data import DataLoader\n",
    "from torch.utils.data import Dataset\n",
    "import matplotlib.pyplot as plt\n",
    "from torchvision import transforms, models\n",
    "import pandas as pd\n",
    "import os\n",
    "\n",
    "from torchsummary import summary\n",
    "from tqdm import tqdm\n",
    "import matplotlib.patches as mpatches\n",
    "import seaborn as sns\n",
    "\n",
    "# importing functions for the models\n",
    "from scripts.models import *\n",
    "from scripts.train import *"
   ]
  },
  {
   "cell_type": "code",
   "execution_count": 2,
   "id": "94f4053c-c57e-4776-b65b-9b86656b3a42",
   "metadata": {},
   "outputs": [
    {
     "name": "stdout",
     "output_type": "stream",
     "text": [
      "cuda\n"
     ]
    }
   ],
   "source": [
    "# initializing the seeds\n",
    "SEED = 3407\n",
    "# setting random seed\n",
    "torch.manual_seed(SEED)\n",
    "torch.cuda.manual_seed(SEED)\n",
    "np.random.seed(SEED)\n",
    "# torch.use_deterministic_algorithms(True)\n",
    "torch.backends.cudnn.deterministic = True\n",
    "torch.backends.cudnn.benchmark = False\n",
    "\n",
    "#setting device\n",
    "device = torch.device(\"cuda\" if torch.cuda.is_available() else \"CPU\")\n",
    "torch.cuda.set_device(1)\n",
    "print(device)"
   ]
  },
  {
   "cell_type": "markdown",
   "id": "3ea69dab-e4b7-42f4-8db7-ebfbb3fa7a68",
   "metadata": {},
   "source": [
    "## Data"
   ]
  },
  {
   "cell_type": "code",
   "execution_count": 3,
   "id": "7019aefe-eec2-44c2-8f15-613bfa465aaf",
   "metadata": {},
   "outputs": [
    {
     "name": "stdout",
     "output_type": "stream",
     "text": [
      "Data shape: (5500, 3, 350, 350)\n"
     ]
    }
   ],
   "source": [
    "DATA_PATH = \"./FacialBeautyData/scut_fbp5500-cmprsd.npz\"\n",
    "data = np.load(DATA_PATH)\n",
    "inputs, targets = data['X'], data['y']\n",
    "inputs = inputs.reshape((-1, inputs.shape[-1], inputs.shape[1],inputs.shape[2]))\n",
    "print(f\"Data shape: {inputs.shape}\")"
   ]
  },
  {
   "cell_type": "code",
   "execution_count": 4,
   "id": "452fe312-b45c-45f4-acee-9defc8f38461",
   "metadata": {},
   "outputs": [
    {
     "name": "stdout",
     "output_type": "stream",
     "text": [
      "# of Training points: 3300\n",
      "# of Valid points: 1100\n",
      "# of Test points: 1100\n"
     ]
    }
   ],
   "source": [
    "TRAIN_PTS, VALID_PTS, TEST_PTS = int(inputs.shape[0] * 0.6), int(inputs.shape[0] * 0.2), int(inputs.shape[0] * 0.2)\n",
    "\n",
    "train_data, train_targets = inputs[:TRAIN_PTS].astype(np.float32), targets[:TRAIN_PTS].astype(np.float32)\n",
    "valid_data, valid_targets = inputs[TRAIN_PTS: TRAIN_PTS + VALID_PTS].astype(np.float32), targets[TRAIN_PTS: TRAIN_PTS + VALID_PTS].astype(np.float32)\n",
    "test_data, test_targets = inputs[TRAIN_PTS + VALID_PTS: ].astype(np.float32), targets[TRAIN_PTS + VALID_PTS: ].astype(np.float32)\n",
    "\n",
    "print(f\"# of Training points: {train_data.shape[0]}\")\n",
    "print(f\"# of Valid points: {valid_data.shape[0]}\")\n",
    "print(f\"# of Test points: {test_data.shape[0]}\")"
   ]
  },
  {
   "cell_type": "code",
   "execution_count": 5,
   "id": "cd1d2234-027c-48bc-a91c-67557ad213d3",
   "metadata": {
    "scrolled": true
   },
   "outputs": [
    {
     "data": {
      "text/html": [
       "<div>\n",
       "<style scoped>\n",
       "    .dataframe tbody tr th:only-of-type {\n",
       "        vertical-align: middle;\n",
       "    }\n",
       "\n",
       "    .dataframe tbody tr th {\n",
       "        vertical-align: top;\n",
       "    }\n",
       "\n",
       "    .dataframe thead th {\n",
       "        text-align: right;\n",
       "    }\n",
       "</style>\n",
       "<table border=\"1\" class=\"dataframe\">\n",
       "  <thead>\n",
       "    <tr style=\"text-align: right;\">\n",
       "      <th></th>\n",
       "      <th>Labels</th>\n",
       "      <th>Gender</th>\n",
       "      <th>Ethinicity</th>\n",
       "      <th>Targets</th>\n",
       "    </tr>\n",
       "  </thead>\n",
       "  <tbody>\n",
       "    <tr>\n",
       "      <th>0</th>\n",
       "      <td>CF437</td>\n",
       "      <td>0.0</td>\n",
       "      <td>0.0</td>\n",
       "      <td>2.883333</td>\n",
       "    </tr>\n",
       "    <tr>\n",
       "      <th>1</th>\n",
       "      <td>AM1384</td>\n",
       "      <td>1.0</td>\n",
       "      <td>1.0</td>\n",
       "      <td>2.466667</td>\n",
       "    </tr>\n",
       "    <tr>\n",
       "      <th>2</th>\n",
       "      <td>AM1234</td>\n",
       "      <td>1.0</td>\n",
       "      <td>1.0</td>\n",
       "      <td>2.150000</td>\n",
       "    </tr>\n",
       "    <tr>\n",
       "      <th>3</th>\n",
       "      <td>AM1774</td>\n",
       "      <td>1.0</td>\n",
       "      <td>1.0</td>\n",
       "      <td>3.750000</td>\n",
       "    </tr>\n",
       "    <tr>\n",
       "      <th>4</th>\n",
       "      <td>CF215</td>\n",
       "      <td>0.0</td>\n",
       "      <td>0.0</td>\n",
       "      <td>3.033333</td>\n",
       "    </tr>\n",
       "  </tbody>\n",
       "</table>\n",
       "</div>"
      ],
      "text/plain": [
       "   Labels  Gender  Ethinicity   Targets\n",
       "0   CF437     0.0         0.0  2.883333\n",
       "1  AM1384     1.0         1.0  2.466667\n",
       "2  AM1234     1.0         1.0  2.150000\n",
       "3  AM1774     1.0         1.0  3.750000\n",
       "4   CF215     0.0         0.0  3.033333"
      ]
     },
     "execution_count": 5,
     "metadata": {},
     "output_type": "execute_result"
    }
   ],
   "source": [
    "# getting the ethinicity and gender\n",
    "with open(\"./FacialBeautyData/labels.txt\") as f:\n",
    "    lines = f.readlines()\n",
    "    lines = [i.rstrip().split() for i in lines]\n",
    "    # Gender: M --> 1 F--> 0\n",
    "    # Ethinicity: A --> 1 C --> 0\n",
    "    gender = [1 if i[0][1] == \"M\" else 0 for i in lines ]\n",
    "    ethinicity = [1 if i[0][0]== \"A\" else 0  for i in lines]\n",
    "    labels = [i[0][:-4] for i in lines]\n",
    "\n",
    "gender = np.array(gender)\n",
    "ethinicity = np.array(ethinicity)\n",
    "labels = np.array(labels)\n",
    "\n",
    "# correlation Calculation\n",
    "data_df = pd.DataFrame(np.array([labels, gender, ethinicity, targets]).T, columns = ['Labels', \"Gender\", 'Ethinicity', 'Targets'])\n",
    "data_df = data_df.set_index(\"Labels\").astype(float)\n",
    "data_df = data_df.reset_index()\n",
    "data_df.head()"
   ]
  },
  {
   "cell_type": "code",
   "execution_count": 6,
   "id": "42185d8f-cad2-4283-b63e-2ef952acc4ba",
   "metadata": {},
   "outputs": [
    {
     "data": {
      "image/png": "[encoded data removed]",
      "text/plain": [
       "<Figure size 640x480 with 2 Axes>"
      ]
     },
     "metadata": {},
     "output_type": "display_data"
    }
   ],
   "source": [
    "# correaltion bprint(y)etween variables\n",
    "corr = data_df.corr(numeric_only = True)\n",
    "sns.heatmap(corr, annot = True)\n",
    "plt.show()"
   ]
  },
  {
   "cell_type": "code",
   "execution_count": 7,
   "id": "f23ce68f-c89c-4afb-a979-25200da8939a",
   "metadata": {},
   "outputs": [
    {
     "data": {
      "text/html": [
       "<div>\n",
       "<style scoped>\n",
       "    .dataframe tbody tr th:only-of-type {\n",
       "        vertical-align: middle;\n",
       "    }\n",
       "\n",
       "    .dataframe tbody tr th {\n",
       "        vertical-align: top;\n",
       "    }\n",
       "\n",
       "    .dataframe thead th {\n",
       "        text-align: right;\n",
       "    }\n",
       "</style>\n",
       "<table border=\"1\" class=\"dataframe\">\n",
       "  <thead>\n",
       "    <tr style=\"text-align: right;\">\n",
       "      <th></th>\n",
       "      <th>Training</th>\n",
       "      <th>Validation</th>\n",
       "      <th>Test</th>\n",
       "    </tr>\n",
       "  </thead>\n",
       "  <tbody>\n",
       "    <tr>\n",
       "      <th>male &gt; 2.5</th>\n",
       "      <td>2445</td>\n",
       "      <td>832</td>\n",
       "      <td>824</td>\n",
       "    </tr>\n",
       "    <tr>\n",
       "      <th>male &lt;= 2.5</th>\n",
       "      <td>855</td>\n",
       "      <td>268</td>\n",
       "      <td>276</td>\n",
       "    </tr>\n",
       "    <tr>\n",
       "      <th>female &gt; 2.5</th>\n",
       "      <td>2445</td>\n",
       "      <td>832</td>\n",
       "      <td>824</td>\n",
       "    </tr>\n",
       "    <tr>\n",
       "      <th>female &lt;= 2.5</th>\n",
       "      <td>855</td>\n",
       "      <td>268</td>\n",
       "      <td>276</td>\n",
       "    </tr>\n",
       "    <tr>\n",
       "      <th>Total</th>\n",
       "      <td>3300</td>\n",
       "      <td>1100</td>\n",
       "      <td>1100</td>\n",
       "    </tr>\n",
       "  </tbody>\n",
       "</table>\n",
       "</div>"
      ],
      "text/plain": [
       "               Training  Validation  Test\n",
       "male > 2.5         2445         832   824\n",
       "male <= 2.5         855         268   276\n",
       "female > 2.5       2445         832   824\n",
       "female <= 2.5       855         268   276\n",
       "Total              3300        1100  1100"
      ]
     },
     "execution_count": 7,
     "metadata": {},
     "output_type": "execute_result"
    }
   ],
   "source": [
    "# counts of different groups\n",
    "groups = {\"Training\": data_df[:TRAIN_PTS], \n",
    "         \"Validation\": data_df[TRAIN_PTS: TRAIN_PTS + VALID_PTS], \n",
    "         \"Test\": data_df[TRAIN_PTS + VALID_PTS: ]}\n",
    "\n",
    "counts = {\"male > 2.5\": [], \"male <= 2.5\": [], \"female > 2.5\":[], \"female <= 2.5\": [], \"Total\": []}\n",
    "\n",
    "for group, df in groups.items():\n",
    "    male_df = df[df['Gender'] == 1]\n",
    "    female_df = df[df['Gender'] == 0]\n",
    "\n",
    "    male_b_df = df[df['Targets'] > 2.5]\n",
    "    male_u_df = df[df['Targets'] <= 2.5]\n",
    "\n",
    "    female_b_df = df[df['Targets']> 2.5]\n",
    "    female_u_df = df[df['Targets'] <= 2.5]\n",
    "\n",
    "    counts['male > 2.5'].append(male_b_df.shape[0])\n",
    "    counts['male <= 2.5'].append(male_u_df.shape[0])\n",
    "    counts['female > 2.5'].append(female_b_df.shape[0])\n",
    "    counts['female <= 2.5'].append(female_u_df.shape[0])\n",
    "    counts['Total'].append(df.shape[0])\n",
    "\n",
    "counts_df = pd.DataFrame(counts, index = groups.keys())\n",
    "counts_df.T"
   ]
  },
  {
   "cell_type": "markdown",
   "id": "09c42f26-6971-49af-9439-7af770dccc5f",
   "metadata": {},
   "source": [
    "## Dataloaders and Dataset"
   ]
  },
  {
   "cell_type": "code",
   "execution_count": 8,
   "id": "d6bab708-559e-43d2-b44b-8291b59ca17e",
   "metadata": {},
   "outputs": [],
   "source": [
    "BATCH_SIZE = 64\n",
    "\n",
    "class FBPDataset(Dataset):\n",
    "    def __init__(self, inputs, targets):\n",
    "        self.inputs = inputs\n",
    "        self.targets = targets\n",
    "    def __getitem__(self, idx):\n",
    "        x, y = self.inputs[idx], self.targets[idx]\n",
    "        return x,y\n",
    "    def __len__(self):\n",
    "        return self.inputs.shape[0]\n",
    "\n",
    "train_dataset = FBPDataset(train_data, train_targets)\n",
    "valid_dataset = FBPDataset(valid_data, valid_targets)\n",
    "test_dataset =  FBPDataset(test_data, test_targets)\n",
    "\n",
    "train_dataloader = DataLoader(dataset = train_dataset, batch_size = BATCH_SIZE, shuffle = True)\n",
    "valid_dataloader = DataLoader(dataset = valid_dataset, batch_size = BATCH_SIZE, shuffle = True)\n",
    "test_dataloader = DataLoader(dataset = test_dataset, batch_size = BATCH_SIZE, shuffle = True)"
   ]
  },
  {
   "cell_type": "markdown",
   "id": "1120351a-df79-4bb1-b63a-51d36d22e9f4",
   "metadata": {},
   "source": [
    "## Groups\n",
    "### Test groups"
   ]
  },
  {
   "cell_type": "code",
   "execution_count": 9,
   "id": "80d6cc99-a965-4f14-b3cf-8b8a51d27c88",
   "metadata": {},
   "outputs": [
    {
     "data": {
      "text/html": [
       "<div>\n",
       "<style scoped>\n",
       "    .dataframe tbody tr th:only-of-type {\n",
       "        vertical-align: middle;\n",
       "    }\n",
       "\n",
       "    .dataframe tbody tr th {\n",
       "        vertical-align: top;\n",
       "    }\n",
       "\n",
       "    .dataframe thead th {\n",
       "        text-align: right;\n",
       "    }\n",
       "</style>\n",
       "<table border=\"1\" class=\"dataframe\">\n",
       "  <thead>\n",
       "    <tr style=\"text-align: right;\">\n",
       "      <th></th>\n",
       "      <th>Labels</th>\n",
       "      <th>Gender</th>\n",
       "      <th>Ethinicity</th>\n",
       "      <th>Targets</th>\n",
       "    </tr>\n",
       "  </thead>\n",
       "  <tbody>\n",
       "    <tr>\n",
       "      <th>4400</th>\n",
       "      <td>AM1421</td>\n",
       "      <td>1.0</td>\n",
       "      <td>1.0</td>\n",
       "      <td>2.850000</td>\n",
       "    </tr>\n",
       "    <tr>\n",
       "      <th>4403</th>\n",
       "      <td>CM385</td>\n",
       "      <td>1.0</td>\n",
       "      <td>0.0</td>\n",
       "      <td>2.866667</td>\n",
       "    </tr>\n",
       "    <tr>\n",
       "      <th>4404</th>\n",
       "      <td>CM4</td>\n",
       "      <td>1.0</td>\n",
       "      <td>0.0</td>\n",
       "      <td>4.316667</td>\n",
       "    </tr>\n",
       "    <tr>\n",
       "      <th>4406</th>\n",
       "      <td>AM927</td>\n",
       "      <td>1.0</td>\n",
       "      <td>1.0</td>\n",
       "      <td>2.716667</td>\n",
       "    </tr>\n",
       "    <tr>\n",
       "      <th>4407</th>\n",
       "      <td>AM266</td>\n",
       "      <td>1.0</td>\n",
       "      <td>1.0</td>\n",
       "      <td>2.883333</td>\n",
       "    </tr>\n",
       "  </tbody>\n",
       "</table>\n",
       "</div>"
      ],
      "text/plain": [
       "      Labels  Gender  Ethinicity   Targets\n",
       "4400  AM1421     1.0         1.0  2.850000\n",
       "4403   CM385     1.0         0.0  2.866667\n",
       "4404     CM4     1.0         0.0  4.316667\n",
       "4406   AM927     1.0         1.0  2.716667\n",
       "4407   AM266     1.0         1.0  2.883333"
      ]
     },
     "execution_count": 9,
     "metadata": {},
     "output_type": "execute_result"
    }
   ],
   "source": [
    "test_df = data_df[TRAIN_PTS + VALID_PTS: ]\n",
    "male_df = test_df[test_df['Gender'] == 1]\n",
    "female_df = test_df[test_df['Gender'] == 0]\n",
    "\n",
    "male_b_df = male_df[male_df['Targets']> 2.5]\n",
    "male_u_df = male_df[male_df['Targets']<= 2.5]\n",
    "\n",
    "female_b_df = female_df[female_df['Targets'] > 2.5]\n",
    "female_u_df = female_df[female_df['Targets'] <= 2.5]\n",
    "\n",
    "male_b_df.head()"
   ]
  },
  {
   "cell_type": "code",
   "execution_count": 10,
   "id": "ba7d9bab-02c6-4108-803c-eeeba4ddf289",
   "metadata": {},
   "outputs": [
    {
     "name": "stdout",
     "output_type": "stream",
     "text": [
      "# of datapoints of male above 2.5: 370\n",
      "# of datapoints of male below 2.5: 151\n",
      "# of datapoints of female above 2.5: 454\n",
      "# of datapoins of female below 2.5: 125\n"
     ]
    }
   ],
   "source": [
    "male_b_data, male_b_targets = inputs[male_b_df.index.to_list()].astype(np.float32), targets[male_b_df.index.to_list()].astype(np.float32)\n",
    "male_u_data, male_u_targets = inputs[male_u_df.index.to_list()].astype(np.float32), targets[male_u_df.index.to_list()].astype(np.float32)\n",
    "female_u_data, female_u_targets = inputs[female_u_df.index.to_list()].astype(np.float32), targets[female_u_df.index.to_list()].astype(np.float32)\n",
    "female_b_data, female_b_targets = inputs[female_b_df.index.to_list()].astype(np.float32), targets[female_b_df.index.to_list()].astype(np.float32)\n",
    "\n",
    "print(f\"# of datapoints of male above 2.5: {male_b_data.shape[0]}\")\n",
    "print(f\"# of datapoints of male below 2.5: {male_u_data.shape[0]}\")\n",
    "print(f\"# of datapoints of female above 2.5: {female_b_data.shape[0]}\")\n",
    "print(f\"# of datapoins of female below 2.5: {female_u_data.shape[0]}\")"
   ]
  },
  {
   "cell_type": "code",
   "execution_count": 11,
   "id": "b25982a1-bb8e-4251-a7cd-a5b895289cfe",
   "metadata": {},
   "outputs": [],
   "source": [
    "male_b_dataset = FBPDataset(male_b_data, male_b_targets)\n",
    "male_u_dataset = FBPDataset(male_u_data, male_u_targets)\n",
    "female_b_dataset = FBPDataset(female_b_data, female_b_targets)\n",
    "female_u_dataset = FBPDataset(female_u_data, female_u_targets)\n",
    "\n",
    "male_b_dataloader = DataLoader(male_b_dataset, batch_size=BATCH_SIZE, shuffle  = True)\n",
    "male_u_dataloader = DataLoader(male_u_dataset, batch_size=BATCH_SIZE, shuffle  = True)\n",
    "female_b_dataloader = DataLoader(female_b_dataset, batch_size=BATCH_SIZE, shuffle  = True)\n",
    "female_u_dataloader = DataLoader(female_u_dataset, batch_size=BATCH_SIZE, shuffle  = True)\n",
    "\n",
    "group_test_dataloaders = {'m b': male_b_dataloader, \"m u\": male_u_dataloader, 'f b': female_b_dataloader, 'f u':female_u_dataloader}"
   ]
  },
  {
   "cell_type": "markdown",
   "id": "53142266-07b0-4b4f-a109-57fbd6e8af7d",
   "metadata": {},
   "source": [
    "### Validation groups"
   ]
  },
  {
   "cell_type": "code",
   "execution_count": 12,
   "id": "84575fb0-87c8-4667-826d-00b6ad71d813",
   "metadata": {},
   "outputs": [],
   "source": [
    "val_df = data_df[TRAIN_PTS: TRAIN_PTS + VALID_PTS]\n",
    "male_val_df = val_df[val_df['Gender'] == 1]\n",
    "female_val_df = val_df[val_df['Gender'] == 0]\n",
    "\n",
    "male_b_val_df = male_val_df[male_val_df['Targets'] > 2.5]\n",
    "male_u_val_df = male_val_df[male_val_df['Targets'] <= 2.5]\n",
    "\n",
    "female_b_val_df = female_val_df[female_val_df['Targets'] > 2.5]\n",
    "female_u_val_df = female_val_df[female_val_df['Targets']<= 2.5]\n",
    "\n",
    "male_b_val_data, male_b_val_targets = inputs[male_b_val_df.index.to_list()].astype(np.float32), targets[male_b_val_df.index.to_list()].astype(np.float32)\n",
    "male_u_val_data, male_u_val_targets = inputs[male_u_val_df.index.to_list()].astype(np.float32), targets[male_u_val_df.index.to_list()].astype(np.float32)\n",
    "female_b_val_data, female_b_val_targets = inputs[female_b_val_df.index.to_list()].astype(np.float32), targets[female_b_val_df.index.to_list()].astype(np.float32)\n",
    "female_u_val_data, female_u_val_targets = inputs[female_u_val_df.index.to_list()].astype(np.float32), targets[female_u_val_df.index.to_list()].astype(np.float32)\n",
    "\n",
    "male_b_val_dataset = FBPDataset(male_b_val_data, male_b_val_targets)\n",
    "male_u_val_dataset = FBPDataset(male_u_val_data, male_u_val_targets)\n",
    "female_b_val_dataset = FBPDataset(female_b_val_data, female_b_val_targets)\n",
    "female_u_val_dataset = FBPDataset(female_u_val_data, female_u_val_targets)\n",
    "\n",
    "male_b_val_dataloader = DataLoader(male_b_val_dataset, batch_size = BATCH_SIZE, shuffle = True)\n",
    "male_u_val_dataloader = DataLoader(male_u_val_dataset, batch_size = BATCH_SIZE, shuffle = True)\n",
    "female_b_val_dataloader = DataLoader(female_b_val_dataset, batch_size = BATCH_SIZE, shuffle = True)\n",
    "female_u_val_dataloader = DataLoader(female_u_val_dataset, batch_size = BATCH_SIZE, shuffle = True)\n",
    "\n",
    "group_val_dataloaders = {\"m b\": male_b_val_dataloader, \"m u\": male_u_val_dataloader, \"f b\": female_b_val_dataloader, \"f u\": female_u_val_dataloader}"
   ]
  },
  {
   "cell_type": "code",
   "execution_count": 13,
   "id": "b95c9040-fb1a-436e-9c2e-2e198d333b57",
   "metadata": {},
   "outputs": [],
   "source": [
    "## eval functions\n",
    "x, _ = next(iter(train_dataloader))\n",
    "def group_eval_cnn(model, group_dataloaders):\n",
    "    sum_ = 0\n",
    "    count = 0\n",
    "    groups = {}\n",
    "    \n",
    "    for i in group_dataloaders.keys():\n",
    "        if group_dataloaders[i] != None:\n",
    "            test_loss = eval_model(model, group_dataloaders[i])\n",
    "            count += 1\n",
    "        else:\n",
    "            test_loss = 0\n",
    "        \n",
    "        sum_ += test_loss\n",
    "        groups[i] = test_loss\n",
    "        \n",
    "    print(f\"Group test Loss: {sum_ / count}\")\n",
    "    return (sum_ /count), groups\n",
    "\n",
    "def group_eval_fs(model, group_dataloaders):\n",
    "    sum_ = 0\n",
    "    count = 0\n",
    "    groups = {}\n",
    "    \n",
    "    for i in group_dataloaders.keys():\n",
    "        if group_dataloaders[i] != None:\n",
    "            test_loss = eval_FSModel(model, group_dataloaders[i])\n",
    "            count += 1\n",
    "        else:\n",
    "            test_loss = 0\n",
    "            \n",
    "        sum_ += test_loss\n",
    "        groups[i] = test_loss\n",
    "        \n",
    "    print(f\"Group test Loss: {sum_ / count}\")\n",
    "    return (sum_ / count), groups"
   ]
  },
  {
   "cell_type": "markdown",
   "id": "952c9ff3-2c8a-4c23-a7b3-de7cc954de7d",
   "metadata": {},
   "source": [
    "## 1) Resnet34 Results"
   ]
  },
  {
   "cell_type": "code",
   "execution_count": 14,
   "id": "e8289f58-54c9-4c49-8200-5c4d3c6bb811",
   "metadata": {
    "scrolled": true
   },
   "outputs": [
    {
     "name": "stdout",
     "output_type": "stream",
     "text": [
      "[1/36] Lr: 1e-05 WD:1e-05\n"
     ]
    },
    {
     "name": "stderr",
     "output_type": "stream",
     "text": [
      "  0%|                                                                                                                                                   | 0/2 [00:00<?, ?it/s]/scratch/storage0/be20b032/miniconda3/lib/python3.11/site-packages/torch/autograd/graph.py:744: UserWarning: Plan failed with a cudnnException: CUDNN_BACKEND_EXECUTION_PLAN_DESCRIPTOR: cudnnFinalize Descriptor Failed cudnn_status: CUDNN_STATUS_NOT_SUPPORTED (Triggered internally at ../aten/src/ATen/native/cudnn/Conv_v8.cpp:919.)\n",
      "  return Variable._execution_engine.run_backward(  # Calls into the C++ engine to run the backward pass\n",
      "100%|███████████████████████████████████████████████████████████████████████████████████████████████████████████████████████████████████████████| 2/2 [00:59<00:00, 29.62s/it]\n"
     ]
    },
    {
     "name": "stdout",
     "output_type": "stream",
     "text": [
      "Test Loss: 0.8436322808265686\n",
      "Group test Loss: 0.691767118871212\n",
      "[2/36] Lr: 1e-05 WD:0.0005\n"
     ]
    },
    {
     "name": "stderr",
     "output_type": "stream",
     "text": [
      "100%|███████████████████████████████████████████████████████████████████████████████████████████████████████████████████████████████████████████| 2/2 [00:58<00:00, 29.27s/it]\n"
     ]
    },
    {
     "name": "stdout",
     "output_type": "stream",
     "text": [
      "Test Loss: 0.6474447250366211\n",
      "Group test Loss: 0.6247625350952148\n",
      "[3/36] Lr: 1e-05 WD:0.0001\n"
     ]
    },
    {
     "name": "stderr",
     "output_type": "stream",
     "text": [
      "100%|███████████████████████████████████████████████████████████████████████████████████████████████████████████████████████████████████████████| 2/2 [00:58<00:00, 29.41s/it]\n"
     ]
    },
    {
     "name": "stdout",
     "output_type": "stream",
     "text": [
      "Test Loss: 0.8791970610618591\n",
      "Group test Loss: 0.7517890371382236\n",
      "[4/36] Lr: 1e-05 WD:0.005\n"
     ]
    },
    {
     "name": "stderr",
     "output_type": "stream",
     "text": [
      "100%|███████████████████████████████████████████████████████████████████████████████████████████████████████████████████████████████████████████| 2/2 [00:58<00:00, 29.48s/it]\n"
     ]
    },
    {
     "name": "stdout",
     "output_type": "stream",
     "text": [
      "Test Loss: 0.920137345790863\n",
      "Group test Loss: 0.7957795858383179\n",
      "[5/36] Lr: 1e-05 WD:0.001\n"
     ]
    },
    {
     "name": "stderr",
     "output_type": "stream",
     "text": [
      "100%|███████████████████████████████████████████████████████████████████████████████████████████████████████████████████████████████████████████| 2/2 [00:58<00:00, 29.31s/it]\n"
     ]
    },
    {
     "name": "stdout",
     "output_type": "stream",
     "text": [
      "Test Loss: 0.7644132971763611\n",
      "Group test Loss: 0.6701707765460014\n",
      "[6/36] Lr: 1e-05 WD:0.05\n"
     ]
    },
    {
     "name": "stderr",
     "output_type": "stream",
     "text": [
      "100%|███████████████████████████████████████████████████████████████████████████████████████████████████████████████████████████████████████████| 2/2 [00:58<00:00, 29.43s/it]\n"
     ]
    },
    {
     "name": "stdout",
     "output_type": "stream",
     "text": [
      "Test Loss: 0.9328192472457886\n",
      "Group test Loss: 0.8159603476524353\n",
      "[7/36] Lr: 0.0005 WD:1e-05\n"
     ]
    },
    {
     "name": "stderr",
     "output_type": "stream",
     "text": [
      "100%|███████████████████████████████████████████████████████████████████████████████████████████████████████████████████████████████████████████| 2/2 [00:58<00:00, 29.46s/it]\n"
     ]
    },
    {
     "name": "stdout",
     "output_type": "stream",
     "text": [
      "Test Loss: 0.2738100290298462\n",
      "Group test Loss: 0.5654378868639469\n",
      "[8/36] Lr: 0.0005 WD:0.0005\n"
     ]
    },
    {
     "name": "stderr",
     "output_type": "stream",
     "text": [
      "100%|███████████████████████████████████████████████████████████████████████████████████████████████████████████████████████████████████████████| 2/2 [00:59<00:00, 29.51s/it]\n"
     ]
    },
    {
     "name": "stdout",
     "output_type": "stream",
     "text": [
      "Test Loss: 0.22720403969287872\n",
      "Group test Loss: 0.5421780087053776\n",
      "[9/36] Lr: 0.0005 WD:0.0001\n"
     ]
    },
    {
     "name": "stderr",
     "output_type": "stream",
     "text": [
      "100%|███████████████████████████████████████████████████████████████████████████████████████████████████████████████████████████████████████████| 2/2 [00:58<00:00, 29.45s/it]\n"
     ]
    },
    {
     "name": "stdout",
     "output_type": "stream",
     "text": [
      "Test Loss: 0.24271653592586517\n",
      "Group test Loss: 0.5291123725473881\n",
      "[10/36] Lr: 0.0005 WD:0.005\n"
     ]
    },
    {
     "name": "stderr",
     "output_type": "stream",
     "text": [
      "100%|███████████████████████████████████████████████████████████████████████████████████████████████████████████████████████████████████████████| 2/2 [00:58<00:00, 29.39s/it]\n"
     ]
    },
    {
     "name": "stdout",
     "output_type": "stream",
     "text": [
      "Test Loss: 0.26421234011650085\n",
      "Group test Loss: 0.5922700390219688\n",
      "[11/36] Lr: 0.0005 WD:0.001\n"
     ]
    },
    {
     "name": "stderr",
     "output_type": "stream",
     "text": [
      "100%|███████████████████████████████████████████████████████████████████████████████████████████████████████████████████████████████████████████| 2/2 [00:58<00:00, 29.43s/it]\n"
     ]
    },
    {
     "name": "stdout",
     "output_type": "stream",
     "text": [
      "Test Loss: 0.23155154287815094\n",
      "Group test Loss: 0.52411288022995\n",
      "[12/36] Lr: 0.0005 WD:0.05\n"
     ]
    },
    {
     "name": "stderr",
     "output_type": "stream",
     "text": [
      "100%|███████████████████████████████████████████████████████████████████████████████████████████████████████████████████████████████████████████| 2/2 [00:58<00:00, 29.47s/it]\n"
     ]
    },
    {
     "name": "stdout",
     "output_type": "stream",
     "text": [
      "Test Loss: 0.29267656803131104\n",
      "Group test Loss: 0.6309916377067566\n",
      "[13/36] Lr: 0.0001 WD:1e-05\n"
     ]
    },
    {
     "name": "stderr",
     "output_type": "stream",
     "text": [
      "100%|███████████████████████████████████████████████████████████████████████████████████████████████████████████████████████████████████████████| 2/2 [00:58<00:00, 29.45s/it]\n"
     ]
    },
    {
     "name": "stdout",
     "output_type": "stream",
     "text": [
      "Test Loss: 0.25500908493995667\n",
      "Group test Loss: 0.5377854034304619\n",
      "[14/36] Lr: 0.0001 WD:0.0005\n"
     ]
    },
    {
     "name": "stderr",
     "output_type": "stream",
     "text": [
      "100%|███████████████████████████████████████████████████████████████████████████████████████████████████████████████████████████████████████████| 2/2 [00:59<00:00, 29.53s/it]\n"
     ]
    },
    {
     "name": "stdout",
     "output_type": "stream",
     "text": [
      "Test Loss: 0.27496227622032166\n",
      "Group test Loss: 0.5824282988905907\n",
      "[15/36] Lr: 0.0001 WD:0.0001\n"
     ]
    },
    {
     "name": "stderr",
     "output_type": "stream",
     "text": [
      "100%|███████████████████████████████████████████████████████████████████████████████████████████████████████████████████████████████████████████| 2/2 [00:58<00:00, 29.40s/it]\n"
     ]
    },
    {
     "name": "stdout",
     "output_type": "stream",
     "text": [
      "Test Loss: 0.23961465060710907\n",
      "Group test Loss: 0.4859754256904125\n",
      "[16/36] Lr: 0.0001 WD:0.005\n"
     ]
    },
    {
     "name": "stderr",
     "output_type": "stream",
     "text": [
      "100%|███████████████████████████████████████████████████████████████████████████████████████████████████████████████████████████████████████████| 2/2 [00:59<00:00, 29.52s/it]\n"
     ]
    },
    {
     "name": "stdout",
     "output_type": "stream",
     "text": [
      "Test Loss: 0.28261423110961914\n",
      "Group test Loss: 0.5772226750850677\n",
      "[17/36] Lr: 0.0001 WD:0.001\n"
     ]
    },
    {
     "name": "stderr",
     "output_type": "stream",
     "text": [
      "100%|███████████████████████████████████████████████████████████████████████████████████████████████████████████████████████████████████████████| 2/2 [00:58<00:00, 29.47s/it]\n"
     ]
    },
    {
     "name": "stdout",
     "output_type": "stream",
     "text": [
      "Test Loss: 0.2522010803222656\n",
      "Group test Loss: 0.5674773715436459\n",
      "[18/36] Lr: 0.0001 WD:0.05\n"
     ]
    },
    {
     "name": "stderr",
     "output_type": "stream",
     "text": [
      "100%|███████████████████████████████████████████████████████████████████████████████████████████████████████████████████████████████████████████| 2/2 [00:58<00:00, 29.46s/it]\n"
     ]
    },
    {
     "name": "stdout",
     "output_type": "stream",
     "text": [
      "Test Loss: 0.2906278967857361\n",
      "Group test Loss: 0.5940588191151619\n",
      "[19/36] Lr: 0.005 WD:1e-05\n"
     ]
    },
    {
     "name": "stderr",
     "output_type": "stream",
     "text": [
      "100%|███████████████████████████████████████████████████████████████████████████████████████████████████████████████████████████████████████████| 2/2 [00:58<00:00, 29.50s/it]\n"
     ]
    },
    {
     "name": "stdout",
     "output_type": "stream",
     "text": [
      "Test Loss: 0.3620159924030304\n",
      "Group test Loss: 0.48883936554193497\n",
      "[20/36] Lr: 0.005 WD:0.0005\n"
     ]
    },
    {
     "name": "stderr",
     "output_type": "stream",
     "text": [
      "100%|███████████████████████████████████████████████████████████████████████████████████████████████████████████████████████████████████████████| 2/2 [00:59<00:00, 29.55s/it]\n"
     ]
    },
    {
     "name": "stdout",
     "output_type": "stream",
     "text": [
      "Test Loss: 0.4963035583496094\n",
      "Group test Loss: 0.5668597146868706\n",
      "[21/36] Lr: 0.005 WD:0.0001\n"
     ]
    },
    {
     "name": "stderr",
     "output_type": "stream",
     "text": [
      "100%|███████████████████████████████████████████████████████████████████████████████████████████████████████████████████████████████████████████| 2/2 [00:59<00:00, 29.54s/it]\n"
     ]
    },
    {
     "name": "stdout",
     "output_type": "stream",
     "text": [
      "Test Loss: 0.34960684180259705\n",
      "Group test Loss: 0.5063846856355667\n",
      "[22/36] Lr: 0.005 WD:0.005\n"
     ]
    },
    {
     "name": "stderr",
     "output_type": "stream",
     "text": [
      "100%|███████████████████████████████████████████████████████████████████████████████████████████████████████████████████████████████████████████| 2/2 [00:59<00:00, 29.51s/it]\n"
     ]
    },
    {
     "name": "stdout",
     "output_type": "stream",
     "text": [
      "Test Loss: 0.42822733521461487\n",
      "Group test Loss: 0.5337718352675438\n",
      "[23/36] Lr: 0.005 WD:0.001\n"
     ]
    },
    {
     "name": "stderr",
     "output_type": "stream",
     "text": [
      "100%|███████████████████████████████████████████████████████████████████████████████████████████████████████████████████████████████████████████| 2/2 [00:58<00:00, 29.47s/it]\n"
     ]
    },
    {
     "name": "stdout",
     "output_type": "stream",
     "text": [
      "Test Loss: 0.3634021282196045\n",
      "Group test Loss: 0.5483144596219063\n",
      "[24/36] Lr: 0.005 WD:0.05\n"
     ]
    },
    {
     "name": "stderr",
     "output_type": "stream",
     "text": [
      "100%|███████████████████████████████████████████████████████████████████████████████████████████████████████████████████████████████████████████| 2/2 [00:58<00:00, 29.42s/it]\n"
     ]
    },
    {
     "name": "stdout",
     "output_type": "stream",
     "text": [
      "Test Loss: 0.5067429542541504\n",
      "Group test Loss: 0.5649404749274254\n",
      "[25/36] Lr: 0.001 WD:1e-05\n"
     ]
    },
    {
     "name": "stderr",
     "output_type": "stream",
     "text": [
      "100%|███████████████████████████████████████████████████████████████████████████████████████████████████████████████████████████████████████████| 2/2 [00:58<00:00, 29.43s/it]\n"
     ]
    },
    {
     "name": "stdout",
     "output_type": "stream",
     "text": [
      "Test Loss: 0.32761403918266296\n",
      "Group test Loss: 0.44981978088617325\n",
      "[26/36] Lr: 0.001 WD:0.0005\n"
     ]
    },
    {
     "name": "stderr",
     "output_type": "stream",
     "text": [
      "100%|███████████████████████████████████████████████████████████████████████████████████████████████████████████████████████████████████████████| 2/2 [00:59<00:00, 29.55s/it]\n"
     ]
    },
    {
     "name": "stdout",
     "output_type": "stream",
     "text": [
      "Test Loss: 0.2846839129924774\n",
      "Group test Loss: 0.6119993627071381\n",
      "[27/36] Lr: 0.001 WD:0.0001\n"
     ]
    },
    {
     "name": "stderr",
     "output_type": "stream",
     "text": [
      "100%|███████████████████████████████████████████████████████████████████████████████████████████████████████████████████████████████████████████| 2/2 [00:59<00:00, 29.56s/it]\n"
     ]
    },
    {
     "name": "stdout",
     "output_type": "stream",
     "text": [
      "Test Loss: 0.27814382314682007\n",
      "Group test Loss: 0.4971648156642914\n",
      "[28/36] Lr: 0.001 WD:0.005\n"
     ]
    },
    {
     "name": "stderr",
     "output_type": "stream",
     "text": [
      "100%|███████████████████████████████████████████████████████████████████████████████████████████████████████████████████████████████████████████| 2/2 [00:58<00:00, 29.38s/it]\n"
     ]
    },
    {
     "name": "stdout",
     "output_type": "stream",
     "text": [
      "Test Loss: 0.2909175753593445\n",
      "Group test Loss: 0.6267937123775482\n",
      "[29/36] Lr: 0.001 WD:0.001\n"
     ]
    },
    {
     "name": "stderr",
     "output_type": "stream",
     "text": [
      "100%|███████████████████████████████████████████████████████████████████████████████████████████████████████████████████████████████████████████| 2/2 [00:58<00:00, 29.42s/it]\n"
     ]
    },
    {
     "name": "stdout",
     "output_type": "stream",
     "text": [
      "Test Loss: 0.2988862097263336\n",
      "Group test Loss: 0.5410658828914165\n",
      "[30/36] Lr: 0.001 WD:0.05\n"
     ]
    },
    {
     "name": "stderr",
     "output_type": "stream",
     "text": [
      "100%|███████████████████████████████████████████████████████████████████████████████████████████████████████████████████████████████████████████| 2/2 [00:59<00:00, 29.55s/it]\n"
     ]
    },
    {
     "name": "stdout",
     "output_type": "stream",
     "text": [
      "Test Loss: 0.3637544810771942\n",
      "Group test Loss: 0.6877771802246571\n",
      "[31/36] Lr: 0.01 WD:1e-05\n"
     ]
    },
    {
     "name": "stderr",
     "output_type": "stream",
     "text": [
      "100%|███████████████████████████████████████████████████████████████████████████████████████████████████████████████████████████████████████████| 2/2 [00:58<00:00, 29.48s/it]\n"
     ]
    },
    {
     "name": "stdout",
     "output_type": "stream",
     "text": [
      "Test Loss: 0.4061878025531769\n",
      "Group test Loss: 0.5699936002492905\n",
      "[32/36] Lr: 0.01 WD:0.0005\n"
     ]
    },
    {
     "name": "stderr",
     "output_type": "stream",
     "text": [
      "100%|███████████████████████████████████████████████████████████████████████████████████████████████████████████████████████████████████████████| 2/2 [00:59<00:00, 29.62s/it]\n"
     ]
    },
    {
     "name": "stdout",
     "output_type": "stream",
     "text": [
      "Test Loss: 0.5432663559913635\n",
      "Group test Loss: 0.6215276420116425\n",
      "[33/36] Lr: 0.01 WD:0.0001\n"
     ]
    },
    {
     "name": "stderr",
     "output_type": "stream",
     "text": [
      "100%|███████████████████████████████████████████████████████████████████████████████████████████████████████████████████████████████████████████| 2/2 [00:59<00:00, 29.52s/it]\n"
     ]
    },
    {
     "name": "stdout",
     "output_type": "stream",
     "text": [
      "Test Loss: 0.4797375500202179\n",
      "Group test Loss: 0.6768789812922478\n",
      "[34/36] Lr: 0.01 WD:0.005\n"
     ]
    },
    {
     "name": "stderr",
     "output_type": "stream",
     "text": [
      "100%|███████████████████████████████████████████████████████████████████████████████████████████████████████████████████████████████████████████| 2/2 [00:58<00:00, 29.38s/it]\n"
     ]
    },
    {
     "name": "stdout",
     "output_type": "stream",
     "text": [
      "Test Loss: 0.5576066374778748\n",
      "Group test Loss: 0.7587170973420143\n",
      "[35/36] Lr: 0.01 WD:0.001\n"
     ]
    },
    {
     "name": "stderr",
     "output_type": "stream",
     "text": [
      "100%|███████████████████████████████████████████████████████████████████████████████████████████████████████████████████████████████████████████| 2/2 [00:58<00:00, 29.30s/it]\n"
     ]
    },
    {
     "name": "stdout",
     "output_type": "stream",
     "text": [
      "Test Loss: 0.4781533479690552\n",
      "Group test Loss: 0.5063565298914909\n",
      "[36/36] Lr: 0.01 WD:0.05\n"
     ]
    },
    {
     "name": "stderr",
     "output_type": "stream",
     "text": [
      "100%|███████████████████████████████████████████████████████████████████████████████████████████████████████████████████████████████████████████| 2/2 [00:58<00:00, 29.34s/it]\n"
     ]
    },
    {
     "name": "stdout",
     "output_type": "stream",
     "text": [
      "Test Loss: 0.5050321221351624\n",
      "Group test Loss: 0.5695032775402069\n",
      "Best LR: 0.0005 Best WD: 0.0005\n",
      "Group wise hyperparameters: \n",
      " Best LR: 0.001 Best WD: 1e-05\n"
     ]
    }
   ],
   "source": [
    "# hyperparameter tuning\n",
    "lrs = [1e-5, 5e-4, 1e-4, 5e-3,  1e-3, 1e-2]\n",
    "wds = [1e-5, 5e-4, 1e-4, 5e-3, 1e-3, 5e-2]\n",
    "\n",
    "test_losses = np.zeros((len(lrs), len(wds)))\n",
    "grp_test_losses = np.zeros((len(lrs), len(wds)))\n",
    "\n",
    "for i in range(len(lrs)):\n",
    "    for j in range(len(wds)):\n",
    "        print(f\"[{i *len(wds) + j +1}/{len(lrs) * len(wds)}] Lr: {lrs[i]} WD:{wds[j]}\")\n",
    "        model = Resnet34(1).to(device)\n",
    "        model, train_loss, val_loss = train(model, train_dataloader, valid_dataloader, epochs = 2, verbose = False, lr = lrs[i], weight_decay = wds[j])\n",
    "        test_loss = eval_model(model, valid_dataloader)\n",
    "        print(f\"Test Loss: {test_loss}\")\n",
    "        group_tst_loss = group_eval_cnn(model, group_val_dataloaders)\n",
    "\n",
    "        test_losses[i,j] = test_loss\n",
    "        grp_test_losses[i,j] = group_tst_loss[0]\n",
    "\n",
    "best_lr, best_wd = np.unravel_index(np.argmin(test_losses), test_losses.shape)\n",
    "best_grp_lr, best_grp_wd = np.unravel_index(np.argmin(grp_test_losses), grp_test_losses.shape)\n",
    "\n",
    "print(f\"Best LR: {lrs[best_lr]} Best WD: {wds[best_wd]}\")\n",
    "print(f\"Group wise hyperparameters: \\n Best LR: {lrs[best_grp_lr]} Best WD: {wds[best_grp_wd]}\")"
   ]
  },
  {
   "cell_type": "code",
   "execution_count": 15,
   "id": "f3cfaac4-940a-4e0d-b2b9-df39177000e2",
   "metadata": {},
   "outputs": [
    {
     "name": "stderr",
     "output_type": "stream",
     "text": [
      "100%|███████████████████████████████████████████████████████████████████████████████████████████████████████████████████████████████████████████| 5/5 [02:27<00:00, 29.49s/it]\n"
     ]
    },
    {
     "name": "stdout",
     "output_type": "stream",
     "text": [
      "Test Loss: 0.3197898268699646\n"
     ]
    },
    {
     "name": "stderr",
     "output_type": "stream",
     "text": [
      "/scratch/storage0/be20b032/miniconda3/lib/python3.11/site-packages/torch/nn/modules/conv.py:456: UserWarning: Plan failed with a cudnnException: CUDNN_BACKEND_EXECUTION_PLAN_DESCRIPTOR: cudnnFinalize Descriptor Failed cudnn_status: CUDNN_STATUS_NOT_SUPPORTED (Triggered internally at ../aten/src/ATen/native/cudnn/Conv_v8.cpp:919.)\n",
      "  return F.conv2d(input, weight, bias, self.stride,\n"
     ]
    },
    {
     "name": "stdout",
     "output_type": "stream",
     "text": [
      "Group test Loss: 0.7923559546470642\n"
     ]
    }
   ],
   "source": [
    "lrs = [1e-5, 5e-4, 1e-4, 5e-3,  1e-3, 1e-2]\n",
    "wds = [1e-5, 5e-4, 1e-4, 5e-3, 1e-3, 5e-2]\n",
    "best_grp_lr, best_grp_wd = lrs.index(0.0005), wds.index(0.005)\n",
    "\n",
    "model = Resnet34(1).to(device)\n",
    "model, train_loss, val_loss = train(model, train_dataloader, valid_dataloader, epochs = 5, verbose = False, lr = lrs[best_grp_lr], weight_decay = wds[best_grp_wd])\n",
    "test_loss_cnn = eval_model(model, test_dataloader)\n",
    "print(f\"Test Loss: {test_loss_cnn}\")\n",
    "group_tst_loss_cnn, groups_cnn = group_eval_cnn(model, group_test_dataloaders)"
   ]
  },
  {
   "cell_type": "markdown",
   "id": "c46f31ed-c427-45f2-9a0f-979b0b8659f3",
   "metadata": {},
   "source": [
    "## 2) Margin forgetting loss"
   ]
  },
  {
   "cell_type": "code",
   "execution_count": 16,
   "id": "b445011f-339c-49a2-8b56-70766bbf7124",
   "metadata": {
    "scrolled": true
   },
   "outputs": [
    {
     "name": "stdout",
     "output_type": "stream",
     "text": [
      "[1 / 84] Margin 1e-05 Forget Lr: 0.0005 Forget Iters: 2\n"
     ]
    },
    {
     "name": "stderr",
     "output_type": "stream",
     "text": [
      "100%|███████████████████████████████████████████████████████████████████████████████████████████████████████████████████████████████████████████| 2/2 [02:13<00:00, 66.72s/it]\n"
     ]
    },
    {
     "name": "stdout",
     "output_type": "stream",
     "text": [
      "Test Loss: 0.24110038578510284\n",
      "Group test Loss: 0.2817723713815212\n",
      "[2 / 84] Margin 1e-05 Forget Lr: 0.0005 Forget Iters: 5\n"
     ]
    },
    {
     "name": "stderr",
     "output_type": "stream",
     "text": [
      "100%|███████████████████████████████████████████████████████████████████████████████████████████████████████████████████████████████████████████| 2/2 [02:01<00:00, 60.74s/it]\n"
     ]
    },
    {
     "name": "stdout",
     "output_type": "stream",
     "text": [
      "Test Loss: 0.260263592004776\n",
      "Group test Loss: 0.38365549966692924\n",
      "[3 / 84] Margin 1e-05 Forget Lr: 0.0001 Forget Iters: 2\n"
     ]
    },
    {
     "name": "stderr",
     "output_type": "stream",
     "text": [
      "100%|███████████████████████████████████████████████████████████████████████████████████████████████████████████████████████████████████████████| 2/2 [02:13<00:00, 66.71s/it]\n"
     ]
    },
    {
     "name": "stdout",
     "output_type": "stream",
     "text": [
      "Test Loss: 0.2162456512451172\n",
      "Group test Loss: 0.2627793848514557\n",
      "[4 / 84] Margin 1e-05 Forget Lr: 0.0001 Forget Iters: 5\n"
     ]
    },
    {
     "name": "stderr",
     "output_type": "stream",
     "text": [
      "100%|███████████████████████████████████████████████████████████████████████████████████████████████████████████████████████████████████████████| 2/2 [02:01<00:00, 60.93s/it]\n"
     ]
    },
    {
     "name": "stdout",
     "output_type": "stream",
     "text": [
      "Test Loss: 0.3034248948097229\n",
      "Group test Loss: 0.28662068769335747\n",
      "[5 / 84] Margin 1e-05 Forget Lr: 0.005 Forget Iters: 2\n"
     ]
    },
    {
     "name": "stderr",
     "output_type": "stream",
     "text": [
      "100%|███████████████████████████████████████████████████████████████████████████████████████████████████████████████████████████████████████████| 2/2 [02:13<00:00, 66.81s/it]\n"
     ]
    },
    {
     "name": "stdout",
     "output_type": "stream",
     "text": [
      "Test Loss: 0.22644059360027313\n",
      "Group test Loss: 0.27054208144545555\n",
      "[6 / 84] Margin 1e-05 Forget Lr: 0.005 Forget Iters: 5\n"
     ]
    },
    {
     "name": "stderr",
     "output_type": "stream",
     "text": [
      "100%|███████████████████████████████████████████████████████████████████████████████████████████████████████████████████████████████████████████| 2/2 [02:02<00:00, 61.03s/it]\n"
     ]
    },
    {
     "name": "stdout",
     "output_type": "stream",
     "text": [
      "Test Loss: 0.2494080364704132\n",
      "Group test Loss: 0.27553534135222435\n",
      "[7 / 84] Margin 1e-05 Forget Lr: 0.001 Forget Iters: 2\n"
     ]
    },
    {
     "name": "stderr",
     "output_type": "stream",
     "text": [
      "100%|███████████████████████████████████████████████████████████████████████████████████████████████████████████████████████████████████████████| 2/2 [02:13<00:00, 66.82s/it]\n"
     ]
    },
    {
     "name": "stdout",
     "output_type": "stream",
     "text": [
      "Test Loss: 0.250243216753006\n",
      "Group test Loss: 0.35622743144631386\n",
      "[8 / 84] Margin 1e-05 Forget Lr: 0.001 Forget Iters: 5\n"
     ]
    },
    {
     "name": "stderr",
     "output_type": "stream",
     "text": [
      "100%|███████████████████████████████████████████████████████████████████████████████████████████████████████████████████████████████████████████| 2/2 [02:01<00:00, 60.80s/it]\n"
     ]
    },
    {
     "name": "stdout",
     "output_type": "stream",
     "text": [
      "Test Loss: 0.25301191210746765\n",
      "Group test Loss: 0.3007226400077343\n",
      "[9 / 84] Margin 1e-05 Forget Lr: 0.05 Forget Iters: 2\n"
     ]
    },
    {
     "name": "stderr",
     "output_type": "stream",
     "text": [
      "100%|███████████████████████████████████████████████████████████████████████████████████████████████████████████████████████████████████████████| 2/2 [02:13<00:00, 66.70s/it]\n"
     ]
    },
    {
     "name": "stdout",
     "output_type": "stream",
     "text": [
      "Test Loss: 0.24496157467365265\n",
      "Group test Loss: 0.29209157824516296\n",
      "[10 / 84] Margin 1e-05 Forget Lr: 0.05 Forget Iters: 5\n"
     ]
    },
    {
     "name": "stderr",
     "output_type": "stream",
     "text": [
      "100%|███████████████████████████████████████████████████████████████████████████████████████████████████████████████████████████████████████████| 2/2 [02:01<00:00, 60.92s/it]\n"
     ]
    },
    {
     "name": "stdout",
     "output_type": "stream",
     "text": [
      "Test Loss: 0.22424766421318054\n",
      "Group test Loss: 0.24477041140198708\n",
      "[11 / 84] Margin 1e-05 Forget Lr: 0.01 Forget Iters: 2\n"
     ]
    },
    {
     "name": "stderr",
     "output_type": "stream",
     "text": [
      "100%|███████████████████████████████████████████████████████████████████████████████████████████████████████████████████████████████████████████| 2/2 [02:14<00:00, 67.02s/it]\n"
     ]
    },
    {
     "name": "stdout",
     "output_type": "stream",
     "text": [
      "Test Loss: 0.25948336720466614\n",
      "Group test Loss: 0.28141968324780464\n",
      "[12 / 84] Margin 1e-05 Forget Lr: 0.01 Forget Iters: 5\n"
     ]
    },
    {
     "name": "stderr",
     "output_type": "stream",
     "text": [
      "100%|███████████████████████████████████████████████████████████████████████████████████████████████████████████████████████████████████████████| 2/2 [02:01<00:00, 60.90s/it]\n"
     ]
    },
    {
     "name": "stdout",
     "output_type": "stream",
     "text": [
      "Test Loss: 0.2409316748380661\n",
      "Group test Loss: 0.2676711119711399\n",
      "[13 / 84] Margin 0.0001 Forget Lr: 0.0005 Forget Iters: 2\n"
     ]
    },
    {
     "name": "stderr",
     "output_type": "stream",
     "text": [
      "100%|███████████████████████████████████████████████████████████████████████████████████████████████████████████████████████████████████████████| 2/2 [02:13<00:00, 66.89s/it]\n"
     ]
    },
    {
     "name": "stdout",
     "output_type": "stream",
     "text": [
      "Test Loss: 0.2404683381319046\n",
      "Group test Loss: 0.27362413331866264\n",
      "[14 / 84] Margin 0.0001 Forget Lr: 0.0005 Forget Iters: 5\n"
     ]
    },
    {
     "name": "stderr",
     "output_type": "stream",
     "text": [
      "100%|███████████████████████████████████████████████████████████████████████████████████████████████████████████████████████████████████████████| 2/2 [02:01<00:00, 60.69s/it]\n"
     ]
    },
    {
     "name": "stdout",
     "output_type": "stream",
     "text": [
      "Test Loss: 0.2431734949350357\n",
      "Group test Loss: 0.30009937286376953\n",
      "[15 / 84] Margin 0.0001 Forget Lr: 0.0001 Forget Iters: 2\n"
     ]
    },
    {
     "name": "stderr",
     "output_type": "stream",
     "text": [
      "100%|███████████████████████████████████████████████████████████████████████████████████████████████████████████████████████████████████████████| 2/2 [02:13<00:00, 66.91s/it]\n"
     ]
    },
    {
     "name": "stdout",
     "output_type": "stream",
     "text": [
      "Test Loss: 0.25961464643478394\n",
      "Group test Loss: 0.3857823610305786\n",
      "[16 / 84] Margin 0.0001 Forget Lr: 0.0001 Forget Iters: 5\n"
     ]
    },
    {
     "name": "stderr",
     "output_type": "stream",
     "text": [
      "100%|███████████████████████████████████████████████████████████████████████████████████████████████████████████████████████████████████████████| 2/2 [02:02<00:00, 61.05s/it]\n"
     ]
    },
    {
     "name": "stdout",
     "output_type": "stream",
     "text": [
      "Test Loss: 0.23167145252227783\n",
      "Group test Loss: 0.30955833569169044\n",
      "[17 / 84] Margin 0.0001 Forget Lr: 0.005 Forget Iters: 2\n"
     ]
    },
    {
     "name": "stderr",
     "output_type": "stream",
     "text": [
      "100%|███████████████████████████████████████████████████████████████████████████████████████████████████████████████████████████████████████████| 2/2 [02:13<00:00, 66.67s/it]\n"
     ]
    },
    {
     "name": "stdout",
     "output_type": "stream",
     "text": [
      "Test Loss: 0.3152875602245331\n",
      "Group test Loss: 0.27893446758389473\n",
      "[18 / 84] Margin 0.0001 Forget Lr: 0.005 Forget Iters: 5\n"
     ]
    },
    {
     "name": "stderr",
     "output_type": "stream",
     "text": [
      "100%|███████████████████████████████████████████████████████████████████████████████████████████████████████████████████████████████████████████| 2/2 [02:02<00:00, 61.03s/it]\n"
     ]
    },
    {
     "name": "stdout",
     "output_type": "stream",
     "text": [
      "Test Loss: 0.24209363758563995\n",
      "Group test Loss: 0.2612317204475403\n",
      "[19 / 84] Margin 0.0001 Forget Lr: 0.001 Forget Iters: 2\n"
     ]
    },
    {
     "name": "stderr",
     "output_type": "stream",
     "text": [
      "100%|███████████████████████████████████████████████████████████████████████████████████████████████████████████████████████████████████████████| 2/2 [02:13<00:00, 66.74s/it]\n"
     ]
    },
    {
     "name": "stdout",
     "output_type": "stream",
     "text": [
      "Test Loss: 0.24000710248947144\n",
      "Group test Loss: 0.29528673365712166\n",
      "[20 / 84] Margin 0.0001 Forget Lr: 0.001 Forget Iters: 5\n"
     ]
    },
    {
     "name": "stderr",
     "output_type": "stream",
     "text": [
      "100%|███████████████████████████████████████████████████████████████████████████████████████████████████████████████████████████████████████████| 2/2 [02:02<00:00, 61.06s/it]\n"
     ]
    },
    {
     "name": "stdout",
     "output_type": "stream",
     "text": [
      "Test Loss: 0.2852548658847809\n",
      "Group test Loss: 0.4124104641377926\n",
      "[21 / 84] Margin 0.0001 Forget Lr: 0.05 Forget Iters: 2\n"
     ]
    },
    {
     "name": "stderr",
     "output_type": "stream",
     "text": [
      "100%|███████████████████████████████████████████████████████████████████████████████████████████████████████████████████████████████████████████| 2/2 [02:14<00:00, 67.04s/it]\n"
     ]
    },
    {
     "name": "stdout",
     "output_type": "stream",
     "text": [
      "Test Loss: 0.24419835209846497\n",
      "Group test Loss: 0.2759539410471916\n",
      "[22 / 84] Margin 0.0001 Forget Lr: 0.05 Forget Iters: 5\n"
     ]
    },
    {
     "name": "stderr",
     "output_type": "stream",
     "text": [
      "100%|███████████████████████████████████████████████████████████████████████████████████████████████████████████████████████████████████████████| 2/2 [02:01<00:00, 60.90s/it]\n"
     ]
    },
    {
     "name": "stdout",
     "output_type": "stream",
     "text": [
      "Test Loss: 0.2229621261358261\n",
      "Group test Loss: 0.2890636548399925\n",
      "[23 / 84] Margin 0.0001 Forget Lr: 0.01 Forget Iters: 2\n"
     ]
    },
    {
     "name": "stderr",
     "output_type": "stream",
     "text": [
      "100%|███████████████████████████████████████████████████████████████████████████████████████████████████████████████████████████████████████████| 2/2 [02:13<00:00, 66.59s/it]\n"
     ]
    },
    {
     "name": "stdout",
     "output_type": "stream",
     "text": [
      "Test Loss: 0.23178446292877197\n",
      "Group test Loss: 0.2845158204436302\n",
      "[24 / 84] Margin 0.0001 Forget Lr: 0.01 Forget Iters: 5\n"
     ]
    },
    {
     "name": "stderr",
     "output_type": "stream",
     "text": [
      "100%|███████████████████████████████████████████████████████████████████████████████████████████████████████████████████████████████████████████| 2/2 [02:01<00:00, 60.74s/it]\n"
     ]
    },
    {
     "name": "stdout",
     "output_type": "stream",
     "text": [
      "Test Loss: 0.24259436130523682\n",
      "Group test Loss: 0.3013019561767578\n",
      "[25 / 84] Margin 0.001 Forget Lr: 0.0005 Forget Iters: 2\n"
     ]
    },
    {
     "name": "stderr",
     "output_type": "stream",
     "text": [
      "100%|███████████████████████████████████████████████████████████████████████████████████████████████████████████████████████████████████████████| 2/2 [02:13<00:00, 66.91s/it]\n"
     ]
    },
    {
     "name": "stdout",
     "output_type": "stream",
     "text": [
      "Test Loss: 0.2707047164440155\n",
      "Group test Loss: 0.372705303132534\n",
      "[26 / 84] Margin 0.001 Forget Lr: 0.0005 Forget Iters: 5\n"
     ]
    },
    {
     "name": "stderr",
     "output_type": "stream",
     "text": [
      "100%|███████████████████████████████████████████████████████████████████████████████████████████████████████████████████████████████████████████| 2/2 [02:00<00:00, 60.46s/it]\n"
     ]
    },
    {
     "name": "stdout",
     "output_type": "stream",
     "text": [
      "Test Loss: 0.292744517326355\n",
      "Group test Loss: 0.26968666166067123\n",
      "[27 / 84] Margin 0.001 Forget Lr: 0.0001 Forget Iters: 2\n"
     ]
    },
    {
     "name": "stderr",
     "output_type": "stream",
     "text": [
      "100%|███████████████████████████████████████████████████████████████████████████████████████████████████████████████████████████████████████████| 2/2 [02:13<00:00, 66.66s/it]\n"
     ]
    },
    {
     "name": "stdout",
     "output_type": "stream",
     "text": [
      "Test Loss: 0.2959652841091156\n",
      "Group test Loss: 0.26548390090465546\n",
      "[28 / 84] Margin 0.001 Forget Lr: 0.0001 Forget Iters: 5\n"
     ]
    },
    {
     "name": "stderr",
     "output_type": "stream",
     "text": [
      "100%|███████████████████████████████████████████████████████████████████████████████████████████████████████████████████████████████████████████| 2/2 [02:02<00:00, 61.36s/it]\n"
     ]
    },
    {
     "name": "stdout",
     "output_type": "stream",
     "text": [
      "Test Loss: 0.2716924846172333\n",
      "Group test Loss: 0.31031595915555954\n",
      "[29 / 84] Margin 0.001 Forget Lr: 0.005 Forget Iters: 2\n"
     ]
    },
    {
     "name": "stderr",
     "output_type": "stream",
     "text": [
      "100%|███████████████████████████████████████████████████████████████████████████████████████████████████████████████████████████████████████████| 2/2 [02:13<00:00, 66.82s/it]\n"
     ]
    },
    {
     "name": "stdout",
     "output_type": "stream",
     "text": [
      "Test Loss: 0.2165347784757614\n",
      "Group test Loss: 0.2638704963028431\n",
      "[30 / 84] Margin 0.001 Forget Lr: 0.005 Forget Iters: 5\n"
     ]
    },
    {
     "name": "stderr",
     "output_type": "stream",
     "text": [
      "100%|███████████████████████████████████████████████████████████████████████████████████████████████████████████████████████████████████████████| 2/2 [02:01<00:00, 60.89s/it]\n"
     ]
    },
    {
     "name": "stdout",
     "output_type": "stream",
     "text": [
      "Test Loss: 0.25602778792381287\n",
      "Group test Loss: 0.35451508685946465\n",
      "[31 / 84] Margin 0.001 Forget Lr: 0.001 Forget Iters: 2\n"
     ]
    },
    {
     "name": "stderr",
     "output_type": "stream",
     "text": [
      "100%|███████████████████████████████████████████████████████████████████████████████████████████████████████████████████████████████████████████| 2/2 [02:13<00:00, 66.79s/it]\n"
     ]
    },
    {
     "name": "stdout",
     "output_type": "stream",
     "text": [
      "Test Loss: 0.22970780730247498\n",
      "Group test Loss: 0.29073482006788254\n",
      "[32 / 84] Margin 0.001 Forget Lr: 0.001 Forget Iters: 5\n"
     ]
    },
    {
     "name": "stderr",
     "output_type": "stream",
     "text": [
      "100%|███████████████████████████████████████████████████████████████████████████████████████████████████████████████████████████████████████████| 2/2 [02:02<00:00, 61.19s/it]\n"
     ]
    },
    {
     "name": "stdout",
     "output_type": "stream",
     "text": [
      "Test Loss: 0.25287699699401855\n",
      "Group test Loss: 0.3264843113720417\n",
      "[33 / 84] Margin 0.001 Forget Lr: 0.05 Forget Iters: 2\n"
     ]
    },
    {
     "name": "stderr",
     "output_type": "stream",
     "text": [
      "100%|███████████████████████████████████████████████████████████████████████████████████████████████████████████████████████████████████████████| 2/2 [02:14<00:00, 67.02s/it]\n"
     ]
    },
    {
     "name": "stdout",
     "output_type": "stream",
     "text": [
      "Test Loss: 0.25100916624069214\n",
      "Group test Loss: 0.3665335029363632\n",
      "[34 / 84] Margin 0.001 Forget Lr: 0.05 Forget Iters: 5\n"
     ]
    },
    {
     "name": "stderr",
     "output_type": "stream",
     "text": [
      "100%|███████████████████████████████████████████████████████████████████████████████████████████████████████████████████████████████████████████| 2/2 [02:01<00:00, 60.97s/it]\n"
     ]
    },
    {
     "name": "stdout",
     "output_type": "stream",
     "text": [
      "Test Loss: 0.23871693015098572\n",
      "Group test Loss: 0.29789501801133156\n",
      "[35 / 84] Margin 0.001 Forget Lr: 0.01 Forget Iters: 2\n"
     ]
    },
    {
     "name": "stderr",
     "output_type": "stream",
     "text": [
      "100%|███████████████████████████████████████████████████████████████████████████████████████████████████████████████████████████████████████████| 2/2 [02:14<00:00, 67.21s/it]\n"
     ]
    },
    {
     "name": "stdout",
     "output_type": "stream",
     "text": [
      "Test Loss: 0.2347242534160614\n",
      "Group test Loss: 0.31489842012524605\n",
      "[36 / 84] Margin 0.001 Forget Lr: 0.01 Forget Iters: 5\n"
     ]
    },
    {
     "name": "stderr",
     "output_type": "stream",
     "text": [
      "100%|███████████████████████████████████████████████████████████████████████████████████████████████████████████████████████████████████████████| 2/2 [02:02<00:00, 61.27s/it]\n"
     ]
    },
    {
     "name": "stdout",
     "output_type": "stream",
     "text": [
      "Test Loss: 0.24630875885486603\n",
      "Group test Loss: 0.3167261332273483\n",
      "[37 / 84] Margin 0.001 Forget Lr: 0.0005 Forget Iters: 2\n"
     ]
    },
    {
     "name": "stderr",
     "output_type": "stream",
     "text": [
      "100%|███████████████████████████████████████████████████████████████████████████████████████████████████████████████████████████████████████████| 2/2 [02:13<00:00, 66.74s/it]\n"
     ]
    },
    {
     "name": "stdout",
     "output_type": "stream",
     "text": [
      "Test Loss: 0.22930502891540527\n",
      "Group test Loss: 0.30626748502254486\n",
      "[38 / 84] Margin 0.001 Forget Lr: 0.0005 Forget Iters: 5\n"
     ]
    },
    {
     "name": "stderr",
     "output_type": "stream",
     "text": [
      "100%|███████████████████████████████████████████████████████████████████████████████████████████████████████████████████████████████████████████| 2/2 [02:00<00:00, 60.47s/it]\n"
     ]
    },
    {
     "name": "stdout",
     "output_type": "stream",
     "text": [
      "Test Loss: 0.23342904448509216\n",
      "Group test Loss: 0.2507529594004154\n",
      "[39 / 84] Margin 0.001 Forget Lr: 0.0001 Forget Iters: 2\n"
     ]
    },
    {
     "name": "stderr",
     "output_type": "stream",
     "text": [
      "100%|███████████████████████████████████████████████████████████████████████████████████████████████████████████████████████████████████████████| 2/2 [02:14<00:00, 67.11s/it]\n"
     ]
    },
    {
     "name": "stdout",
     "output_type": "stream",
     "text": [
      "Test Loss: 0.2630274295806885\n",
      "Group test Loss: 0.3666783981025219\n",
      "[40 / 84] Margin 0.001 Forget Lr: 0.0001 Forget Iters: 5\n"
     ]
    },
    {
     "name": "stderr",
     "output_type": "stream",
     "text": [
      "100%|███████████████████████████████████████████████████████████████████████████████████████████████████████████████████████████████████████████| 2/2 [02:01<00:00, 60.86s/it]\n"
     ]
    },
    {
     "name": "stdout",
     "output_type": "stream",
     "text": [
      "Test Loss: 0.2506870925426483\n",
      "Group test Loss: 0.29186099395155907\n",
      "[41 / 84] Margin 0.001 Forget Lr: 0.005 Forget Iters: 2\n"
     ]
    },
    {
     "name": "stderr",
     "output_type": "stream",
     "text": [
      "100%|███████████████████████████████████████████████████████████████████████████████████████████████████████████████████████████████████████████| 2/2 [02:14<00:00, 67.02s/it]\n"
     ]
    },
    {
     "name": "stdout",
     "output_type": "stream",
     "text": [
      "Test Loss: 0.20815728604793549\n",
      "Group test Loss: 0.2435746267437935\n",
      "[42 / 84] Margin 0.001 Forget Lr: 0.005 Forget Iters: 5\n"
     ]
    },
    {
     "name": "stderr",
     "output_type": "stream",
     "text": [
      "100%|███████████████████████████████████████████████████████████████████████████████████████████████████████████████████████████████████████████| 2/2 [02:03<00:00, 61.82s/it]\n"
     ]
    },
    {
     "name": "stdout",
     "output_type": "stream",
     "text": [
      "Test Loss: 0.24095304310321808\n",
      "Group test Loss: 0.32207050919532776\n",
      "[43 / 84] Margin 0.001 Forget Lr: 0.001 Forget Iters: 2\n"
     ]
    },
    {
     "name": "stderr",
     "output_type": "stream",
     "text": [
      "100%|███████████████████████████████████████████████████████████████████████████████████████████████████████████████████████████████████████████| 2/2 [02:14<00:00, 67.05s/it]\n"
     ]
    },
    {
     "name": "stdout",
     "output_type": "stream",
     "text": [
      "Test Loss: 0.2616373300552368\n",
      "Group test Loss: 0.3743518851697445\n",
      "[44 / 84] Margin 0.001 Forget Lr: 0.001 Forget Iters: 5\n"
     ]
    },
    {
     "name": "stderr",
     "output_type": "stream",
     "text": [
      "100%|███████████████████████████████████████████████████████████████████████████████████████████████████████████████████████████████████████████| 2/2 [02:03<00:00, 61.67s/it]\n"
     ]
    },
    {
     "name": "stdout",
     "output_type": "stream",
     "text": [
      "Test Loss: 0.23663771152496338\n",
      "Group test Loss: 0.3021060824394226\n",
      "[45 / 84] Margin 0.001 Forget Lr: 0.05 Forget Iters: 2\n"
     ]
    },
    {
     "name": "stderr",
     "output_type": "stream",
     "text": [
      "100%|███████████████████████████████████████████████████████████████████████████████████████████████████████████████████████████████████████████| 2/2 [02:14<00:00, 67.08s/it]\n"
     ]
    },
    {
     "name": "stdout",
     "output_type": "stream",
     "text": [
      "Test Loss: 0.20990870893001556\n",
      "Group test Loss: 0.25805390253663063\n",
      "[46 / 84] Margin 0.001 Forget Lr: 0.05 Forget Iters: 5\n"
     ]
    },
    {
     "name": "stderr",
     "output_type": "stream",
     "text": [
      "100%|███████████████████████████████████████████████████████████████████████████████████████████████████████████████████████████████████████████| 2/2 [02:02<00:00, 61.21s/it]\n"
     ]
    },
    {
     "name": "stdout",
     "output_type": "stream",
     "text": [
      "Test Loss: 0.23847556114196777\n",
      "Group test Loss: 0.2918405197560787\n",
      "[47 / 84] Margin 0.001 Forget Lr: 0.01 Forget Iters: 2\n"
     ]
    },
    {
     "name": "stderr",
     "output_type": "stream",
     "text": [
      "100%|███████████████████████████████████████████████████████████████████████████████████████████████████████████████████████████████████████████| 2/2 [02:13<00:00, 66.60s/it]\n"
     ]
    },
    {
     "name": "stdout",
     "output_type": "stream",
     "text": [
      "Test Loss: 0.28114208579063416\n",
      "Group test Loss: 0.4035557135939598\n",
      "[48 / 84] Margin 0.001 Forget Lr: 0.01 Forget Iters: 5\n"
     ]
    },
    {
     "name": "stderr",
     "output_type": "stream",
     "text": [
      "100%|███████████████████████████████████████████████████████████████████████████████████████████████████████████████████████████████████████████| 2/2 [02:02<00:00, 61.16s/it]\n"
     ]
    },
    {
     "name": "stdout",
     "output_type": "stream",
     "text": [
      "Test Loss: 0.2293890416622162\n",
      "Group test Loss: 0.2936273254454136\n",
      "[49 / 84] Margin 0.1 Forget Lr: 0.0005 Forget Iters: 2\n"
     ]
    },
    {
     "name": "stderr",
     "output_type": "stream",
     "text": [
      "100%|███████████████████████████████████████████████████████████████████████████████████████████████████████████████████████████████████████████| 2/2 [02:13<00:00, 66.58s/it]\n"
     ]
    },
    {
     "name": "stdout",
     "output_type": "stream",
     "text": [
      "Test Loss: 0.24780437350273132\n",
      "Group test Loss: 0.2842899523675442\n",
      "[50 / 84] Margin 0.1 Forget Lr: 0.0005 Forget Iters: 5\n"
     ]
    },
    {
     "name": "stderr",
     "output_type": "stream",
     "text": [
      "100%|███████████████████████████████████████████████████████████████████████████████████████████████████████████████████████████████████████████| 2/2 [02:01<00:00, 60.92s/it]\n"
     ]
    },
    {
     "name": "stdout",
     "output_type": "stream",
     "text": [
      "Test Loss: 0.3257305920124054\n",
      "Group test Loss: 0.3118399754166603\n",
      "[51 / 84] Margin 0.1 Forget Lr: 0.0001 Forget Iters: 2\n"
     ]
    },
    {
     "name": "stderr",
     "output_type": "stream",
     "text": [
      "100%|███████████████████████████████████████████████████████████████████████████████████████████████████████████████████████████████████████████| 2/2 [02:14<00:00, 67.13s/it]\n"
     ]
    },
    {
     "name": "stdout",
     "output_type": "stream",
     "text": [
      "Test Loss: 0.2190466672182083\n",
      "Group test Loss: 0.2883130721747875\n",
      "[52 / 84] Margin 0.1 Forget Lr: 0.0001 Forget Iters: 5\n"
     ]
    },
    {
     "name": "stderr",
     "output_type": "stream",
     "text": [
      "100%|███████████████████████████████████████████████████████████████████████████████████████████████████████████████████████████████████████████| 2/2 [02:01<00:00, 60.87s/it]\n"
     ]
    },
    {
     "name": "stdout",
     "output_type": "stream",
     "text": [
      "Test Loss: 0.253099262714386\n",
      "Group test Loss: 0.36307037621736526\n",
      "[53 / 84] Margin 0.1 Forget Lr: 0.005 Forget Iters: 2\n"
     ]
    },
    {
     "name": "stderr",
     "output_type": "stream",
     "text": [
      "100%|███████████████████████████████████████████████████████████████████████████████████████████████████████████████████████████████████████████| 2/2 [02:13<00:00, 66.72s/it]\n"
     ]
    },
    {
     "name": "stdout",
     "output_type": "stream",
     "text": [
      "Test Loss: 0.22352100908756256\n",
      "Group test Loss: 0.2790449634194374\n",
      "[54 / 84] Margin 0.1 Forget Lr: 0.005 Forget Iters: 5\n"
     ]
    },
    {
     "name": "stderr",
     "output_type": "stream",
     "text": [
      "100%|███████████████████████████████████████████████████████████████████████████████████████████████████████████████████████████████████████████| 2/2 [02:01<00:00, 60.73s/it]\n"
     ]
    },
    {
     "name": "stdout",
     "output_type": "stream",
     "text": [
      "Test Loss: 0.2417559027671814\n",
      "Group test Loss: 0.32003673538565636\n",
      "[55 / 84] Margin 0.1 Forget Lr: 0.001 Forget Iters: 2\n"
     ]
    },
    {
     "name": "stderr",
     "output_type": "stream",
     "text": [
      "100%|███████████████████████████████████████████████████████████████████████████████████████████████████████████████████████████████████████████| 2/2 [02:13<00:00, 66.70s/it]\n"
     ]
    },
    {
     "name": "stdout",
     "output_type": "stream",
     "text": [
      "Test Loss: 0.22333185374736786\n",
      "Group test Loss: 0.26890425384044647\n",
      "[56 / 84] Margin 0.1 Forget Lr: 0.001 Forget Iters: 5\n"
     ]
    },
    {
     "name": "stderr",
     "output_type": "stream",
     "text": [
      "100%|███████████████████████████████████████████████████████████████████████████████████████████████████████████████████████████████████████████| 2/2 [02:01<00:00, 60.59s/it]\n"
     ]
    },
    {
     "name": "stdout",
     "output_type": "stream",
     "text": [
      "Test Loss: 0.29962894320487976\n",
      "Group test Loss: 0.28254181891679764\n",
      "[57 / 84] Margin 0.1 Forget Lr: 0.05 Forget Iters: 2\n"
     ]
    },
    {
     "name": "stderr",
     "output_type": "stream",
     "text": [
      "100%|███████████████████████████████████████████████████████████████████████████████████████████████████████████████████████████████████████████| 2/2 [02:13<00:00, 66.85s/it]\n"
     ]
    },
    {
     "name": "stdout",
     "output_type": "stream",
     "text": [
      "Test Loss: 0.28016406297683716\n",
      "Group test Loss: 0.3756691962480545\n",
      "[58 / 84] Margin 0.1 Forget Lr: 0.05 Forget Iters: 5\n"
     ]
    },
    {
     "name": "stderr",
     "output_type": "stream",
     "text": [
      "100%|███████████████████████████████████████████████████████████████████████████████████████████████████████████████████████████████████████████| 2/2 [02:02<00:00, 61.03s/it]\n"
     ]
    },
    {
     "name": "stdout",
     "output_type": "stream",
     "text": [
      "Test Loss: 0.23844699561595917\n",
      "Group test Loss: 0.3296084329485893\n",
      "[59 / 84] Margin 0.1 Forget Lr: 0.01 Forget Iters: 2\n"
     ]
    },
    {
     "name": "stderr",
     "output_type": "stream",
     "text": [
      "100%|███████████████████████████████████████████████████████████████████████████████████████████████████████████████████████████████████████████| 2/2 [02:14<00:00, 67.02s/it]\n"
     ]
    },
    {
     "name": "stdout",
     "output_type": "stream",
     "text": [
      "Test Loss: 0.25528615713119507\n",
      "Group test Loss: 0.30238960683345795\n",
      "[60 / 84] Margin 0.1 Forget Lr: 0.01 Forget Iters: 5\n"
     ]
    },
    {
     "name": "stderr",
     "output_type": "stream",
     "text": [
      "100%|███████████████████████████████████████████████████████████████████████████████████████████████████████████████████████████████████████████| 2/2 [02:01<00:00, 60.92s/it]\n"
     ]
    },
    {
     "name": "stdout",
     "output_type": "stream",
     "text": [
      "Test Loss: 0.22043760120868683\n",
      "Group test Loss: 0.287330973893404\n",
      "[61 / 84] Margin 10.0 Forget Lr: 0.0005 Forget Iters: 2\n"
     ]
    },
    {
     "name": "stderr",
     "output_type": "stream",
     "text": [
      "100%|███████████████████████████████████████████████████████████████████████████████████████████████████████████████████████████████████████████| 2/2 [02:13<00:00, 66.53s/it]\n"
     ]
    },
    {
     "name": "stdout",
     "output_type": "stream",
     "text": [
      "Test Loss: 0.25154054164886475\n",
      "Group test Loss: 0.3269183002412319\n",
      "[62 / 84] Margin 10.0 Forget Lr: 0.0005 Forget Iters: 5\n"
     ]
    },
    {
     "name": "stderr",
     "output_type": "stream",
     "text": [
      "100%|███████████████████████████████████████████████████████████████████████████████████████████████████████████████████████████████████████████| 2/2 [02:02<00:00, 61.19s/it]\n"
     ]
    },
    {
     "name": "stdout",
     "output_type": "stream",
     "text": [
      "Test Loss: 0.2698182463645935\n",
      "Group test Loss: 0.38865332305431366\n",
      "[63 / 84] Margin 10.0 Forget Lr: 0.0001 Forget Iters: 2\n"
     ]
    },
    {
     "name": "stderr",
     "output_type": "stream",
     "text": [
      "100%|███████████████████████████████████████████████████████████████████████████████████████████████████████████████████████████████████████████| 2/2 [02:13<00:00, 66.60s/it]\n"
     ]
    },
    {
     "name": "stdout",
     "output_type": "stream",
     "text": [
      "Test Loss: 0.2941034436225891\n",
      "Group test Loss: 0.26788194850087166\n",
      "[64 / 84] Margin 10.0 Forget Lr: 0.0001 Forget Iters: 5\n"
     ]
    },
    {
     "name": "stderr",
     "output_type": "stream",
     "text": [
      "100%|███████████████████████████████████████████████████████████████████████████████████████████████████████████████████████████████████████████| 2/2 [02:01<00:00, 60.76s/it]\n"
     ]
    },
    {
     "name": "stdout",
     "output_type": "stream",
     "text": [
      "Test Loss: 0.23371948301792145\n",
      "Group test Loss: 0.2919367887079716\n",
      "[65 / 84] Margin 10.0 Forget Lr: 0.005 Forget Iters: 2\n"
     ]
    },
    {
     "name": "stderr",
     "output_type": "stream",
     "text": [
      "100%|███████████████████████████████████████████████████████████████████████████████████████████████████████████████████████████████████████████| 2/2 [02:14<00:00, 67.07s/it]\n"
     ]
    },
    {
     "name": "stdout",
     "output_type": "stream",
     "text": [
      "Test Loss: 0.4121279716491699\n",
      "Group test Loss: 0.37573737278580666\n",
      "[66 / 84] Margin 10.0 Forget Lr: 0.005 Forget Iters: 5\n"
     ]
    },
    {
     "name": "stderr",
     "output_type": "stream",
     "text": [
      "100%|███████████████████████████████████████████████████████████████████████████████████████████████████████████████████████████████████████████| 2/2 [02:02<00:00, 61.15s/it]\n"
     ]
    },
    {
     "name": "stdout",
     "output_type": "stream",
     "text": [
      "Test Loss: 0.4831334948539734\n",
      "Group test Loss: 0.409496434032917\n",
      "[67 / 84] Margin 10.0 Forget Lr: 0.001 Forget Iters: 2\n"
     ]
    },
    {
     "name": "stderr",
     "output_type": "stream",
     "text": [
      "100%|███████████████████████████████████████████████████████████████████████████████████████████████████████████████████████████████████████████| 2/2 [02:14<00:00, 67.35s/it]\n"
     ]
    },
    {
     "name": "stdout",
     "output_type": "stream",
     "text": [
      "Test Loss: 0.2706413269042969\n",
      "Group test Loss: 0.35829908400774\n",
      "[68 / 84] Margin 10.0 Forget Lr: 0.001 Forget Iters: 5\n"
     ]
    },
    {
     "name": "stderr",
     "output_type": "stream",
     "text": [
      "100%|███████████████████████████████████████████████████████████████████████████████████████████████████████████████████████████████████████████| 2/2 [02:02<00:00, 61.10s/it]\n"
     ]
    },
    {
     "name": "stdout",
     "output_type": "stream",
     "text": [
      "Test Loss: 0.24075372517108917\n",
      "Group test Loss: 0.313722375780344\n",
      "[69 / 84] Margin 10.0 Forget Lr: 0.05 Forget Iters: 2\n"
     ]
    },
    {
     "name": "stderr",
     "output_type": "stream",
     "text": [
      "100%|███████████████████████████████████████████████████████████████████████████████████████████████████████████████████████████████████████████| 2/2 [02:13<00:00, 66.55s/it]\n"
     ]
    },
    {
     "name": "stdout",
     "output_type": "stream",
     "text": [
      "Test Loss: 0.42479124665260315\n",
      "Group test Loss: 0.5108839869499207\n",
      "[70 / 84] Margin 10.0 Forget Lr: 0.05 Forget Iters: 5\n"
     ]
    },
    {
     "name": "stderr",
     "output_type": "stream",
     "text": [
      "100%|███████████████████████████████████████████████████████████████████████████████████████████████████████████████████████████████████████████| 2/2 [02:01<00:00, 60.82s/it]\n"
     ]
    },
    {
     "name": "stdout",
     "output_type": "stream",
     "text": [
      "Test Loss: 0.4506233334541321\n",
      "Group test Loss: 0.6374466940760612\n",
      "[71 / 84] Margin 10.0 Forget Lr: 0.01 Forget Iters: 2\n"
     ]
    },
    {
     "name": "stderr",
     "output_type": "stream",
     "text": [
      "100%|███████████████████████████████████████████████████████████████████████████████████████████████████████████████████████████████████████████| 2/2 [02:14<00:00, 67.27s/it]\n"
     ]
    },
    {
     "name": "stdout",
     "output_type": "stream",
     "text": [
      "Test Loss: 0.41709646582603455\n",
      "Group test Loss: 0.5804636292159557\n",
      "[72 / 84] Margin 10.0 Forget Lr: 0.01 Forget Iters: 5\n"
     ]
    },
    {
     "name": "stderr",
     "output_type": "stream",
     "text": [
      "100%|███████████████████████████████████████████████████████████████████████████████████████████████████████████████████████████████████████████| 2/2 [02:02<00:00, 61.21s/it]\n"
     ]
    },
    {
     "name": "stdout",
     "output_type": "stream",
     "text": [
      "Test Loss: 0.40681296586990356\n",
      "Group test Loss: 0.5649429857730865\n",
      "[73 / 84] Margin 20.0 Forget Lr: 0.0005 Forget Iters: 2\n"
     ]
    },
    {
     "name": "stderr",
     "output_type": "stream",
     "text": [
      "100%|███████████████████████████████████████████████████████████████████████████████████████████████████████████████████████████████████████████| 2/2 [02:13<00:00, 66.90s/it]\n"
     ]
    },
    {
     "name": "stdout",
     "output_type": "stream",
     "text": [
      "Test Loss: 0.30269041657447815\n",
      "Group test Loss: 0.43701566755771637\n",
      "[74 / 84] Margin 20.0 Forget Lr: 0.0005 Forget Iters: 5\n"
     ]
    },
    {
     "name": "stderr",
     "output_type": "stream",
     "text": [
      "100%|███████████████████████████████████████████████████████████████████████████████████████████████████████████████████████████████████████████| 2/2 [02:02<00:00, 61.08s/it]\n"
     ]
    },
    {
     "name": "stdout",
     "output_type": "stream",
     "text": [
      "Test Loss: 0.322480708360672\n",
      "Group test Loss: 0.31390534341335297\n",
      "[75 / 84] Margin 20.0 Forget Lr: 0.0001 Forget Iters: 2\n"
     ]
    },
    {
     "name": "stderr",
     "output_type": "stream",
     "text": [
      "100%|███████████████████████████████████████████████████████████████████████████████████████████████████████████████████████████████████████████| 2/2 [02:14<00:00, 67.41s/it]\n"
     ]
    },
    {
     "name": "stdout",
     "output_type": "stream",
     "text": [
      "Test Loss: 0.27918845415115356\n",
      "Group test Loss: 0.38363058120012283\n",
      "[76 / 84] Margin 20.0 Forget Lr: 0.0001 Forget Iters: 5\n"
     ]
    },
    {
     "name": "stderr",
     "output_type": "stream",
     "text": [
      "100%|███████████████████████████████████████████████████████████████████████████████████████████████████████████████████████████████████████████| 2/2 [02:02<00:00, 61.15s/it]\n"
     ]
    },
    {
     "name": "stdout",
     "output_type": "stream",
     "text": [
      "Test Loss: 0.2711632549762726\n",
      "Group test Loss: 0.2746436074376106\n",
      "[77 / 84] Margin 20.0 Forget Lr: 0.005 Forget Iters: 2\n"
     ]
    },
    {
     "name": "stderr",
     "output_type": "stream",
     "text": [
      "100%|███████████████████████████████████████████████████████████████████████████████████████████████████████████████████████████████████████████| 2/2 [02:14<00:00, 67.32s/it]\n"
     ]
    },
    {
     "name": "stdout",
     "output_type": "stream",
     "text": [
      "Test Loss: 0.3522423505783081\n",
      "Group test Loss: 0.48064910247921944\n",
      "[78 / 84] Margin 20.0 Forget Lr: 0.005 Forget Iters: 5\n"
     ]
    },
    {
     "name": "stderr",
     "output_type": "stream",
     "text": [
      "100%|███████████████████████████████████████████████████████████████████████████████████████████████████████████████████████████████████████████| 2/2 [02:01<00:00, 60.83s/it]\n"
     ]
    },
    {
     "name": "stdout",
     "output_type": "stream",
     "text": [
      "Test Loss: 0.3754791021347046\n",
      "Group test Loss: 0.52801663428545\n",
      "[79 / 84] Margin 20.0 Forget Lr: 0.001 Forget Iters: 2\n"
     ]
    },
    {
     "name": "stderr",
     "output_type": "stream",
     "text": [
      "100%|███████████████████████████████████████████████████████████████████████████████████████████████████████████████████████████████████████████| 2/2 [02:13<00:00, 66.80s/it]\n"
     ]
    },
    {
     "name": "stdout",
     "output_type": "stream",
     "text": [
      "Test Loss: 0.3195146918296814\n",
      "Group test Loss: 0.44385528191924095\n",
      "[80 / 84] Margin 20.0 Forget Lr: 0.001 Forget Iters: 5\n"
     ]
    },
    {
     "name": "stderr",
     "output_type": "stream",
     "text": [
      "100%|███████████████████████████████████████████████████████████████████████████████████████████████████████████████████████████████████████████| 2/2 [02:01<00:00, 60.86s/it]\n"
     ]
    },
    {
     "name": "stdout",
     "output_type": "stream",
     "text": [
      "Test Loss: 0.28336745500564575\n",
      "Group test Loss: 0.34284134954214096\n",
      "[81 / 84] Margin 20.0 Forget Lr: 0.05 Forget Iters: 2\n"
     ]
    },
    {
     "name": "stderr",
     "output_type": "stream",
     "text": [
      "100%|███████████████████████████████████████████████████████████████████████████████████████████████████████████████████████████████████████████| 2/2 [02:13<00:00, 66.68s/it]\n"
     ]
    },
    {
     "name": "stdout",
     "output_type": "stream",
     "text": [
      "Test Loss: 0.47107571363449097\n",
      "Group test Loss: 0.4650331363081932\n",
      "[82 / 84] Margin 20.0 Forget Lr: 0.05 Forget Iters: 5\n"
     ]
    },
    {
     "name": "stderr",
     "output_type": "stream",
     "text": [
      "100%|███████████████████████████████████████████████████████████████████████████████████████████████████████████████████████████████████████████| 2/2 [02:01<00:00, 60.89s/it]\n"
     ]
    },
    {
     "name": "stdout",
     "output_type": "stream",
     "text": [
      "Test Loss: 0.41591936349868774\n",
      "Group test Loss: 0.47141798585653305\n",
      "[83 / 84] Margin 20.0 Forget Lr: 0.01 Forget Iters: 2\n"
     ]
    },
    {
     "name": "stderr",
     "output_type": "stream",
     "text": [
      "100%|███████████████████████████████████████████████████████████████████████████████████████████████████████████████████████████████████████████| 2/2 [02:13<00:00, 66.77s/it]\n"
     ]
    },
    {
     "name": "stdout",
     "output_type": "stream",
     "text": [
      "Test Loss: 0.4372331202030182\n",
      "Group test Loss: 0.4399315193295479\n",
      "[84 / 84] Margin 20.0 Forget Lr: 0.01 Forget Iters: 5\n"
     ]
    },
    {
     "name": "stderr",
     "output_type": "stream",
     "text": [
      "100%|███████████████████████████████████████████████████████████████████████████████████████████████████████████████████████████████████████████| 2/2 [02:00<00:00, 60.48s/it]\n"
     ]
    },
    {
     "name": "stdout",
     "output_type": "stream",
     "text": [
      "Test Loss: 0.4793549180030823\n",
      "Group test Loss: 0.6616611555218697\n",
      "Best Margin : 0.001 Best Forget LR: 0.005 Best Forget Iter: 2\n",
      "Group hyperparameters: \n",
      " Best margin: 0.001 Best Forget Lr: 0.005 Best Forget Iter: 2\n"
     ]
    }
   ],
   "source": [
    "# hyperparameter tuning\n",
    "# Hyperparameter Tuning\n",
    "margins = [1e-5, 1e-4, 1e-3, 1e-3, 1e-1, 1e+1, 2e+1]\n",
    "forget_lrs = [5e-4, 1e-4, 5e-3, 1e-3, 5e-2, 1e-2]\n",
    "forget_iters = [2, 5]\n",
    "\n",
    "test_losses = np.zeros((len(margins), len(forget_lrs), len(forget_iters)))\n",
    "grp_test_losses = np.zeros((len(margins), len(forget_lrs), len(forget_iters)))\n",
    "\n",
    "for i in range(len(margins)):\n",
    "    for j in range(len(forget_lrs)):\n",
    "        for k in range(len(forget_iters)):\n",
    "            print(f\"[{i*(len(forget_lrs) * len(forget_iters)) + j*(len(forget_iters)) + k + 1} / {len(margins) * len(forget_lrs)* len(forget_iters)}] Margin {margins[i]} Forget Lr: {forget_lrs[j]} Forget Iters: {forget_iters[k]}\")\n",
    "            model = SiFer_margin(x.shape, 1, aux_kernels = [128, 64], layers = [5, 4]).to(device)\n",
    "            model, train_loss, val_loss,_, _ = train_fs_mar(model, train_dataloader, valid_dataloader, margin = margins[i], forget_iters = forget_iters[k], lrs = [5e-4, 5e-4, forget_lrs[j]], epochs = 2, verbose = False)\n",
    "            test_loss = eval_FSModel(model, valid_dataloader)\n",
    "            print(f\"Test Loss: {test_loss}\")\n",
    "            grp_loss = group_eval_fs(model, group_val_dataloaders)\n",
    "\n",
    "            test_losses[i,j,k] = test_loss\n",
    "            grp_test_losses[i,j,k] = grp_loss[0]\n",
    "\n",
    "best_margin, best_forget_lr, best_forget_iter = np.unravel_index(np.argmin(test_losses), test_losses.shape)\n",
    "best_grp_margin, best_grp_forget_lr, best_grp_forget_iter = np.unravel_index(np.argmin(grp_test_losses), grp_test_losses.shape)\n",
    "\n",
    "print(f\"Best Margin : {margins[best_margin]} Best Forget LR: {forget_lrs[best_forget_lr]} Best Forget Iter: {forget_iters[best_forget_iter]}\")\n",
    "print(f\"Group hyperparameters: \\n Best margin: {margins[best_grp_margin]} Best Forget Lr: {forget_lrs[best_grp_forget_lr]} Best Forget Iter: {forget_iters[best_grp_forget_iter]}\")"
   ]
  },
  {
   "cell_type": "code",
   "execution_count": 17,
   "id": "f670f904-4480-44ce-adcb-bb162599f133",
   "metadata": {
    "scrolled": true
   },
   "outputs": [
    {
     "name": "stderr",
     "output_type": "stream",
     "text": [
      "100%|███████████████████████████████████████████████████████████████████████████████████████████████████████████████████████████████████████████| 5/5 [05:03<00:00, 60.69s/it]\n"
     ]
    },
    {
     "name": "stdout",
     "output_type": "stream",
     "text": [
      "Test Loss: 0.2389015555381775\n",
      "Group test Loss: 0.28030364215373993\n"
     ]
    }
   ],
   "source": [
    "margins = [1e-5, 1e-4, 1e-3, 1e-3, 1e-1, 1e+1, 2e+1]\n",
    "forget_lrs = [5e-4, 1e-4, 5e-3, 1e-3, 5e-2, 1e-2]\n",
    "forget_iters = [2, 5]\n",
    "\n",
    "best_grp_margin, best_grp_forget_lr, best_grp_forget_iter = margins.index(0.0001), forget_lrs.index(0.005), forget_iters.index(5)\n",
    "\n",
    "sifer_margin = SiFer_margin(x.shape, 1, aux_kernels = [128, 64], layers = [5, 4]).to(device)\n",
    "sifer_margin, train_loss, val_loss,_, _ = train_fs_mar(sifer_margin, train_dataloader, valid_dataloader, margin = margins[best_grp_margin], forget_iters = forget_iters[best_grp_forget_iter], lrs = [5e-4, 5e-4, forget_lrs[best_grp_forget_lr]], epochs = 5, verbose = False)\n",
    "test_loss_mar = eval_FSModel(sifer_margin, test_dataloader)\n",
    "print(f\"Test Loss: {test_loss_mar}\")\n",
    "group_tst_loss_mar, groups_fs_mar = group_eval_fs(sifer_margin, group_test_dataloaders)"
   ]
  },
  {
   "cell_type": "markdown",
   "id": "1e1a5fdc-b897-4ef1-b7b2-cd191f88e08f",
   "metadata": {},
   "source": [
    "## 3) Cross Entropy Forgetting loss"
   ]
  },
  {
   "cell_type": "code",
   "execution_count": 18,
   "id": "3be46a03-b550-4fb4-bd5b-4337637cc974",
   "metadata": {
    "scrolled": true
   },
   "outputs": [
    {
     "name": "stdout",
     "output_type": "stream",
     "text": [
      "1/96) Num Bins 2 Forget Lr: 0.0005 Forget Iters: 2\n"
     ]
    },
    {
     "name": "stderr",
     "output_type": "stream",
     "text": [
      "100%|███████████████████████████████████████████████████████████████████████████████████████████████████████████████████████████████████████████| 2/2 [02:12<00:00, 66.39s/it]\n"
     ]
    },
    {
     "name": "stdout",
     "output_type": "stream",
     "text": [
      "Test Loss: 0.28791680932044983\n",
      "Group test Loss: 0.3874605521559715\n",
      "2/96) Num Bins 2 Forget Lr: 0.0005 Forget Iters: 5\n"
     ]
    },
    {
     "name": "stderr",
     "output_type": "stream",
     "text": [
      "100%|███████████████████████████████████████████████████████████████████████████████████████████████████████████████████████████████████████████| 2/2 [02:00<00:00, 60.05s/it]\n"
     ]
    },
    {
     "name": "stdout",
     "output_type": "stream",
     "text": [
      "Test Loss: 0.2539582848548889\n",
      "Group test Loss: 0.3357427343726158\n",
      "3/96) Num Bins 2 Forget Lr: 0.0001 Forget Iters: 2\n"
     ]
    },
    {
     "name": "stderr",
     "output_type": "stream",
     "text": [
      "100%|███████████████████████████████████████████████████████████████████████████████████████████████████████████████████████████████████████████| 2/2 [02:12<00:00, 66.25s/it]\n"
     ]
    },
    {
     "name": "stdout",
     "output_type": "stream",
     "text": [
      "Test Loss: 0.2285824716091156\n",
      "Group test Loss: 0.32649416476488113\n",
      "4/96) Num Bins 2 Forget Lr: 0.0001 Forget Iters: 5\n"
     ]
    },
    {
     "name": "stderr",
     "output_type": "stream",
     "text": [
      "100%|███████████████████████████████████████████████████████████████████████████████████████████████████████████████████████████████████████████| 2/2 [01:59<00:00, 59.94s/it]\n"
     ]
    },
    {
     "name": "stdout",
     "output_type": "stream",
     "text": [
      "Test Loss: 0.2483852356672287\n",
      "Group test Loss: 0.31961993128061295\n",
      "5/96) Num Bins 2 Forget Lr: 0.005 Forget Iters: 2\n"
     ]
    },
    {
     "name": "stderr",
     "output_type": "stream",
     "text": [
      "100%|███████████████████████████████████████████████████████████████████████████████████████████████████████████████████████████████████████████| 2/2 [02:12<00:00, 66.19s/it]\n"
     ]
    },
    {
     "name": "stdout",
     "output_type": "stream",
     "text": [
      "Test Loss: 0.436727374792099\n",
      "Group test Loss: 0.617351770401001\n",
      "6/96) Num Bins 2 Forget Lr: 0.005 Forget Iters: 5\n"
     ]
    },
    {
     "name": "stderr",
     "output_type": "stream",
     "text": [
      "100%|███████████████████████████████████████████████████████████████████████████████████████████████████████████████████████████████████████████| 2/2 [02:00<00:00, 60.24s/it]\n"
     ]
    },
    {
     "name": "stdout",
     "output_type": "stream",
     "text": [
      "Test Loss: 0.4348554015159607\n",
      "Group test Loss: 0.39275098592042923\n",
      "7/96) Num Bins 2 Forget Lr: 0.001 Forget Iters: 2\n"
     ]
    },
    {
     "name": "stderr",
     "output_type": "stream",
     "text": [
      "100%|███████████████████████████████████████████████████████████████████████████████████████████████████████████████████████████████████████████| 2/2 [02:12<00:00, 66.36s/it]\n"
     ]
    },
    {
     "name": "stdout",
     "output_type": "stream",
     "text": [
      "Test Loss: 0.35576120018959045\n",
      "Group test Loss: 0.5365009307861328\n",
      "8/96) Num Bins 2 Forget Lr: 0.001 Forget Iters: 5\n"
     ]
    },
    {
     "name": "stderr",
     "output_type": "stream",
     "text": [
      "100%|███████████████████████████████████████████████████████████████████████████████████████████████████████████████████████████████████████████| 2/2 [02:00<00:00, 60.15s/it]\n"
     ]
    },
    {
     "name": "stdout",
     "output_type": "stream",
     "text": [
      "Test Loss: 0.3119000494480133\n",
      "Group test Loss: 0.3557473048567772\n",
      "9/96) Num Bins 2 Forget Lr: 0.05 Forget Iters: 2\n"
     ]
    },
    {
     "name": "stderr",
     "output_type": "stream",
     "text": [
      "100%|███████████████████████████████████████████████████████████████████████████████████████████████████████████████████████████████████████████| 2/2 [02:12<00:00, 66.03s/it]\n"
     ]
    },
    {
     "name": "stdout",
     "output_type": "stream",
     "text": [
      "Test Loss: 0.44916975498199463\n",
      "Group test Loss: 0.4939790517091751\n",
      "10/96) Num Bins 2 Forget Lr: 0.05 Forget Iters: 5\n"
     ]
    },
    {
     "name": "stderr",
     "output_type": "stream",
     "text": [
      "100%|███████████████████████████████████████████████████████████████████████████████████████████████████████████████████████████████████████████| 2/2 [02:00<00:00, 60.09s/it]\n"
     ]
    },
    {
     "name": "stdout",
     "output_type": "stream",
     "text": [
      "Test Loss: 0.4202601909637451\n",
      "Group test Loss: 0.5260079503059387\n",
      "11/96) Num Bins 2 Forget Lr: 0.01 Forget Iters: 2\n"
     ]
    },
    {
     "name": "stderr",
     "output_type": "stream",
     "text": [
      "100%|███████████████████████████████████████████████████████████████████████████████████████████████████████████████████████████████████████████| 2/2 [02:12<00:00, 66.42s/it]\n"
     ]
    },
    {
     "name": "stdout",
     "output_type": "stream",
     "text": [
      "Test Loss: 0.4213695824146271\n",
      "Group test Loss: 0.536586582660675\n",
      "12/96) Num Bins 2 Forget Lr: 0.01 Forget Iters: 5\n"
     ]
    },
    {
     "name": "stderr",
     "output_type": "stream",
     "text": [
      "100%|███████████████████████████████████████████████████████████████████████████████████████████████████████████████████████████████████████████| 2/2 [02:00<00:00, 60.30s/it]\n"
     ]
    },
    {
     "name": "stdout",
     "output_type": "stream",
     "text": [
      "Test Loss: 0.39275500178337097\n",
      "Group test Loss: 0.38527385145425797\n",
      "13/96) Num Bins 10 Forget Lr: 0.0005 Forget Iters: 2\n"
     ]
    },
    {
     "name": "stderr",
     "output_type": "stream",
     "text": [
      "100%|███████████████████████████████████████████████████████████████████████████████████████████████████████████████████████████████████████████| 2/2 [02:12<00:00, 66.49s/it]\n"
     ]
    },
    {
     "name": "stdout",
     "output_type": "stream",
     "text": [
      "Test Loss: 0.24510781466960907\n",
      "Group test Loss: 0.3200372904539108\n",
      "14/96) Num Bins 10 Forget Lr: 0.0005 Forget Iters: 5\n"
     ]
    },
    {
     "name": "stderr",
     "output_type": "stream",
     "text": [
      "100%|███████████████████████████████████████████████████████████████████████████████████████████████████████████████████████████████████████████| 2/2 [02:00<00:00, 60.14s/it]\n"
     ]
    },
    {
     "name": "stdout",
     "output_type": "stream",
     "text": [
      "Test Loss: 0.24450139701366425\n",
      "Group test Loss: 0.2967262789607048\n",
      "15/96) Num Bins 10 Forget Lr: 0.0001 Forget Iters: 2\n"
     ]
    },
    {
     "name": "stderr",
     "output_type": "stream",
     "text": [
      "100%|███████████████████████████████████████████████████████████████████████████████████████████████████████████████████████████████████████████| 2/2 [02:12<00:00, 66.30s/it]\n"
     ]
    },
    {
     "name": "stdout",
     "output_type": "stream",
     "text": [
      "Test Loss: 0.277989000082016\n",
      "Group test Loss: 0.285596389323473\n",
      "16/96) Num Bins 10 Forget Lr: 0.0001 Forget Iters: 5\n"
     ]
    },
    {
     "name": "stderr",
     "output_type": "stream",
     "text": [
      "100%|███████████████████████████████████████████████████████████████████████████████████████████████████████████████████████████████████████████| 2/2 [02:00<00:00, 60.15s/it]\n"
     ]
    },
    {
     "name": "stdout",
     "output_type": "stream",
     "text": [
      "Test Loss: 0.26554006338119507\n",
      "Group test Loss: 0.37129511684179306\n",
      "17/96) Num Bins 10 Forget Lr: 0.005 Forget Iters: 2\n"
     ]
    },
    {
     "name": "stderr",
     "output_type": "stream",
     "text": [
      "100%|███████████████████████████████████████████████████████████████████████████████████████████████████████████████████████████████████████████| 2/2 [02:13<00:00, 66.67s/it]\n"
     ]
    },
    {
     "name": "stdout",
     "output_type": "stream",
     "text": [
      "Test Loss: 0.36983925104141235\n",
      "Group test Loss: 0.4543319121003151\n",
      "18/96) Num Bins 10 Forget Lr: 0.005 Forget Iters: 5\n"
     ]
    },
    {
     "name": "stderr",
     "output_type": "stream",
     "text": [
      "100%|███████████████████████████████████████████████████████████████████████████████████████████████████████████████████████████████████████████| 2/2 [02:00<00:00, 60.15s/it]\n"
     ]
    },
    {
     "name": "stdout",
     "output_type": "stream",
     "text": [
      "Test Loss: 0.3538367748260498\n",
      "Group test Loss: 0.3687000796198845\n",
      "19/96) Num Bins 10 Forget Lr: 0.001 Forget Iters: 2\n"
     ]
    },
    {
     "name": "stderr",
     "output_type": "stream",
     "text": [
      "100%|███████████████████████████████████████████████████████████████████████████████████████████████████████████████████████████████████████████| 2/2 [02:12<00:00, 66.47s/it]\n"
     ]
    },
    {
     "name": "stdout",
     "output_type": "stream",
     "text": [
      "Test Loss: 0.3453609049320221\n",
      "Group test Loss: 0.35500046610832214\n",
      "20/96) Num Bins 10 Forget Lr: 0.001 Forget Iters: 5\n"
     ]
    },
    {
     "name": "stderr",
     "output_type": "stream",
     "text": [
      "100%|███████████████████████████████████████████████████████████████████████████████████████████████████████████████████████████████████████████| 2/2 [02:00<00:00, 60.12s/it]\n"
     ]
    },
    {
     "name": "stdout",
     "output_type": "stream",
     "text": [
      "Test Loss: 0.263620525598526\n",
      "Group test Loss: 0.3512383885681629\n",
      "21/96) Num Bins 10 Forget Lr: 0.05 Forget Iters: 2\n"
     ]
    },
    {
     "name": "stderr",
     "output_type": "stream",
     "text": [
      "100%|███████████████████████████████████████████████████████████████████████████████████████████████████████████████████████████████████████████| 2/2 [02:12<00:00, 66.28s/it]\n"
     ]
    },
    {
     "name": "stdout",
     "output_type": "stream",
     "text": [
      "Test Loss: 0.5490667223930359\n",
      "Group test Loss: 0.48961522430181503\n",
      "22/96) Num Bins 10 Forget Lr: 0.05 Forget Iters: 5\n"
     ]
    },
    {
     "name": "stderr",
     "output_type": "stream",
     "text": [
      "100%|███████████████████████████████████████████████████████████████████████████████████████████████████████████████████████████████████████████| 2/2 [02:00<00:00, 60.10s/it]\n"
     ]
    },
    {
     "name": "stdout",
     "output_type": "stream",
     "text": [
      "Test Loss: 0.5469360947608948\n",
      "Group test Loss: 0.4926386699080467\n",
      "23/96) Num Bins 10 Forget Lr: 0.01 Forget Iters: 2\n"
     ]
    },
    {
     "name": "stderr",
     "output_type": "stream",
     "text": [
      "100%|███████████████████████████████████████████████████████████████████████████████████████████████████████████████████████████████████████████| 2/2 [02:12<00:00, 66.44s/it]\n"
     ]
    },
    {
     "name": "stdout",
     "output_type": "stream",
     "text": [
      "Test Loss: 0.6980248093605042\n",
      "Group test Loss: 0.5954528748989105\n",
      "24/96) Num Bins 10 Forget Lr: 0.01 Forget Iters: 5\n"
     ]
    },
    {
     "name": "stderr",
     "output_type": "stream",
     "text": [
      "100%|███████████████████████████████████████████████████████████████████████████████████████████████████████████████████████████████████████████| 2/2 [02:00<00:00, 60.19s/it]\n"
     ]
    },
    {
     "name": "stdout",
     "output_type": "stream",
     "text": [
      "Test Loss: 0.3658856749534607\n",
      "Group test Loss: 0.40327199548482895\n",
      "25/96) Num Bins 25 Forget Lr: 0.0005 Forget Iters: 2\n"
     ]
    },
    {
     "name": "stderr",
     "output_type": "stream",
     "text": [
      "100%|███████████████████████████████████████████████████████████████████████████████████████████████████████████████████████████████████████████| 2/2 [02:12<00:00, 66.46s/it]\n"
     ]
    },
    {
     "name": "stdout",
     "output_type": "stream",
     "text": [
      "Test Loss: 0.2616243362426758\n",
      "Group test Loss: 0.3335716910660267\n",
      "26/96) Num Bins 25 Forget Lr: 0.0005 Forget Iters: 5\n"
     ]
    },
    {
     "name": "stderr",
     "output_type": "stream",
     "text": [
      "100%|███████████████████████████████████████████████████████████████████████████████████████████████████████████████████████████████████████████| 2/2 [01:59<00:00, 59.96s/it]\n"
     ]
    },
    {
     "name": "stdout",
     "output_type": "stream",
     "text": [
      "Test Loss: 0.3625805974006653\n",
      "Group test Loss: 0.4909418448805809\n",
      "27/96) Num Bins 25 Forget Lr: 0.0001 Forget Iters: 2\n"
     ]
    },
    {
     "name": "stderr",
     "output_type": "stream",
     "text": [
      "100%|███████████████████████████████████████████████████████████████████████████████████████████████████████████████████████████████████████████| 2/2 [02:12<00:00, 66.27s/it]\n"
     ]
    },
    {
     "name": "stdout",
     "output_type": "stream",
     "text": [
      "Test Loss: 0.25669047236442566\n",
      "Group test Loss: 0.3646748475730419\n",
      "28/96) Num Bins 25 Forget Lr: 0.0001 Forget Iters: 5\n"
     ]
    },
    {
     "name": "stderr",
     "output_type": "stream",
     "text": [
      "100%|███████████████████████████████████████████████████████████████████████████████████████████████████████████████████████████████████████████| 2/2 [02:00<00:00, 60.17s/it]\n"
     ]
    },
    {
     "name": "stdout",
     "output_type": "stream",
     "text": [
      "Test Loss: 0.25555744767189026\n",
      "Group test Loss: 0.2808818779885769\n",
      "29/96) Num Bins 25 Forget Lr: 0.005 Forget Iters: 2\n"
     ]
    },
    {
     "name": "stderr",
     "output_type": "stream",
     "text": [
      "100%|███████████████████████████████████████████████████████████████████████████████████████████████████████████████████████████████████████████| 2/2 [02:12<00:00, 66.28s/it]\n"
     ]
    },
    {
     "name": "stdout",
     "output_type": "stream",
     "text": [
      "Test Loss: 0.43144330382347107\n",
      "Group test Loss: 0.5934781581163406\n",
      "30/96) Num Bins 25 Forget Lr: 0.005 Forget Iters: 5\n"
     ]
    },
    {
     "name": "stderr",
     "output_type": "stream",
     "text": [
      "100%|███████████████████████████████████████████████████████████████████████████████████████████████████████████████████████████████████████████| 2/2 [02:00<00:00, 60.34s/it]\n"
     ]
    },
    {
     "name": "stdout",
     "output_type": "stream",
     "text": [
      "Test Loss: 0.3881324231624603\n",
      "Group test Loss: 0.4842502698302269\n",
      "31/96) Num Bins 25 Forget Lr: 0.001 Forget Iters: 2\n"
     ]
    },
    {
     "name": "stderr",
     "output_type": "stream",
     "text": [
      "100%|███████████████████████████████████████████████████████████████████████████████████████████████████████████████████████████████████████████| 2/2 [02:12<00:00, 66.41s/it]\n"
     ]
    },
    {
     "name": "stdout",
     "output_type": "stream",
     "text": [
      "Test Loss: 0.3145660161972046\n",
      "Group test Loss: 0.40382616594433784\n",
      "32/96) Num Bins 25 Forget Lr: 0.001 Forget Iters: 5\n"
     ]
    },
    {
     "name": "stderr",
     "output_type": "stream",
     "text": [
      "100%|███████████████████████████████████████████████████████████████████████████████████████████████████████████████████████████████████████████| 2/2 [02:00<00:00, 60.01s/it]\n"
     ]
    },
    {
     "name": "stdout",
     "output_type": "stream",
     "text": [
      "Test Loss: 0.2608449459075928\n",
      "Group test Loss: 0.3529927246272564\n",
      "33/96) Num Bins 25 Forget Lr: 0.05 Forget Iters: 2\n"
     ]
    },
    {
     "name": "stderr",
     "output_type": "stream",
     "text": [
      "100%|███████████████████████████████████████████████████████████████████████████████████████████████████████████████████████████████████████████| 2/2 [02:12<00:00, 66.13s/it]\n"
     ]
    },
    {
     "name": "stdout",
     "output_type": "stream",
     "text": [
      "Test Loss: 0.5354587435722351\n",
      "Group test Loss: 0.49651988595724106\n",
      "34/96) Num Bins 25 Forget Lr: 0.05 Forget Iters: 5\n"
     ]
    },
    {
     "name": "stderr",
     "output_type": "stream",
     "text": [
      "100%|███████████████████████████████████████████████████████████████████████████████████████████████████████████████████████████████████████████| 2/2 [02:00<00:00, 60.07s/it]\n"
     ]
    },
    {
     "name": "stdout",
     "output_type": "stream",
     "text": [
      "Test Loss: 0.47298377752304077\n",
      "Group test Loss: 0.5965394899249077\n",
      "35/96) Num Bins 25 Forget Lr: 0.01 Forget Iters: 2\n"
     ]
    },
    {
     "name": "stderr",
     "output_type": "stream",
     "text": [
      "100%|███████████████████████████████████████████████████████████████████████████████████████████████████████████████████████████████████████████| 2/2 [02:13<00:00, 66.63s/it]\n"
     ]
    },
    {
     "name": "stdout",
     "output_type": "stream",
     "text": [
      "Test Loss: 0.45483216643333435\n",
      "Group test Loss: 0.49001432955265045\n",
      "36/96) Num Bins 25 Forget Lr: 0.01 Forget Iters: 5\n"
     ]
    },
    {
     "name": "stderr",
     "output_type": "stream",
     "text": [
      "100%|███████████████████████████████████████████████████████████████████████████████████████████████████████████████████████████████████████████| 2/2 [02:00<00:00, 60.15s/it]\n"
     ]
    },
    {
     "name": "stdout",
     "output_type": "stream",
     "text": [
      "Test Loss: 0.9454362392425537\n",
      "Group test Loss: 1.23532435297966\n",
      "37/96) Num Bins 30 Forget Lr: 0.0005 Forget Iters: 2\n"
     ]
    },
    {
     "name": "stderr",
     "output_type": "stream",
     "text": [
      "100%|███████████████████████████████████████████████████████████████████████████████████████████████████████████████████████████████████████████| 2/2 [02:12<00:00, 66.42s/it]\n"
     ]
    },
    {
     "name": "stdout",
     "output_type": "stream",
     "text": [
      "Test Loss: 0.31166577339172363\n",
      "Group test Loss: 0.365261010825634\n",
      "38/96) Num Bins 30 Forget Lr: 0.0005 Forget Iters: 5\n"
     ]
    },
    {
     "name": "stderr",
     "output_type": "stream",
     "text": [
      "100%|███████████████████████████████████████████████████████████████████████████████████████████████████████████████████████████████████████████| 2/2 [02:00<00:00, 60.05s/it]\n"
     ]
    },
    {
     "name": "stdout",
     "output_type": "stream",
     "text": [
      "Test Loss: 0.24551574885845184\n",
      "Group test Loss: 0.3285762704908848\n",
      "39/96) Num Bins 30 Forget Lr: 0.0001 Forget Iters: 2\n"
     ]
    },
    {
     "name": "stderr",
     "output_type": "stream",
     "text": [
      "100%|███████████████████████████████████████████████████████████████████████████████████████████████████████████████████████████████████████████| 2/2 [02:13<00:00, 66.56s/it]\n"
     ]
    },
    {
     "name": "stdout",
     "output_type": "stream",
     "text": [
      "Test Loss: 0.2725876271724701\n",
      "Group test Loss: 0.2632294073700905\n",
      "40/96) Num Bins 30 Forget Lr: 0.0001 Forget Iters: 5\n"
     ]
    },
    {
     "name": "stderr",
     "output_type": "stream",
     "text": [
      "100%|███████████████████████████████████████████████████████████████████████████████████████████████████████████████████████████████████████████| 2/2 [02:00<00:00, 60.01s/it]\n"
     ]
    },
    {
     "name": "stdout",
     "output_type": "stream",
     "text": [
      "Test Loss: 0.22353613376617432\n",
      "Group test Loss: 0.28006646037101746\n",
      "41/96) Num Bins 30 Forget Lr: 0.005 Forget Iters: 2\n"
     ]
    },
    {
     "name": "stderr",
     "output_type": "stream",
     "text": [
      "100%|███████████████████████████████████████████████████████████████████████████████████████████████████████████████████████████████████████████| 2/2 [02:12<00:00, 66.45s/it]\n"
     ]
    },
    {
     "name": "stdout",
     "output_type": "stream",
     "text": [
      "Test Loss: 0.5250070095062256\n",
      "Group test Loss: 0.5393963530659676\n",
      "42/96) Num Bins 30 Forget Lr: 0.005 Forget Iters: 5\n"
     ]
    },
    {
     "name": "stderr",
     "output_type": "stream",
     "text": [
      "100%|███████████████████████████████████████████████████████████████████████████████████████████████████████████████████████████████████████████| 2/2 [02:00<00:00, 60.14s/it]\n"
     ]
    },
    {
     "name": "stdout",
     "output_type": "stream",
     "text": [
      "Test Loss: 0.3324286639690399\n",
      "Group test Loss: 0.4086376167833805\n",
      "43/96) Num Bins 30 Forget Lr: 0.001 Forget Iters: 2\n"
     ]
    },
    {
     "name": "stderr",
     "output_type": "stream",
     "text": [
      "100%|███████████████████████████████████████████████████████████████████████████████████████████████████████████████████████████████████████████| 2/2 [02:12<00:00, 66.40s/it]\n"
     ]
    },
    {
     "name": "stdout",
     "output_type": "stream",
     "text": [
      "Test Loss: 0.28438571095466614\n",
      "Group test Loss: 0.41900578141212463\n",
      "44/96) Num Bins 30 Forget Lr: 0.001 Forget Iters: 5\n"
     ]
    },
    {
     "name": "stderr",
     "output_type": "stream",
     "text": [
      "100%|███████████████████████████████████████████████████████████████████████████████████████████████████████████████████████████████████████████| 2/2 [02:00<00:00, 60.22s/it]\n"
     ]
    },
    {
     "name": "stdout",
     "output_type": "stream",
     "text": [
      "Test Loss: 0.2688494920730591\n",
      "Group test Loss: 0.3058236688375473\n",
      "45/96) Num Bins 30 Forget Lr: 0.05 Forget Iters: 2\n"
     ]
    },
    {
     "name": "stderr",
     "output_type": "stream",
     "text": [
      "100%|███████████████████████████████████████████████████████████████████████████████████████████████████████████████████████████████████████████| 2/2 [02:12<00:00, 66.27s/it]\n"
     ]
    },
    {
     "name": "stdout",
     "output_type": "stream",
     "text": [
      "Test Loss: 0.4662002921104431\n",
      "Group test Loss: 0.5527528673410416\n",
      "46/96) Num Bins 30 Forget Lr: 0.05 Forget Iters: 5\n"
     ]
    },
    {
     "name": "stderr",
     "output_type": "stream",
     "text": [
      "100%|███████████████████████████████████████████████████████████████████████████████████████████████████████████████████████████████████████████| 2/2 [02:00<00:00, 60.03s/it]\n"
     ]
    },
    {
     "name": "stdout",
     "output_type": "stream",
     "text": [
      "Test Loss: 0.5680353045463562\n",
      "Group test Loss: 0.8315586969256401\n",
      "47/96) Num Bins 30 Forget Lr: 0.01 Forget Iters: 2\n"
     ]
    },
    {
     "name": "stderr",
     "output_type": "stream",
     "text": [
      "100%|███████████████████████████████████████████████████████████████████████████████████████████████████████████████████████████████████████████| 2/2 [02:12<00:00, 66.48s/it]\n"
     ]
    },
    {
     "name": "stdout",
     "output_type": "stream",
     "text": [
      "Test Loss: 0.410017192363739\n",
      "Group test Loss: 0.4509861320257187\n",
      "48/96) Num Bins 30 Forget Lr: 0.01 Forget Iters: 5\n"
     ]
    },
    {
     "name": "stderr",
     "output_type": "stream",
     "text": [
      "100%|███████████████████████████████████████████████████████████████████████████████████████████████████████████████████████████████████████████| 2/2 [02:00<00:00, 60.15s/it]\n"
     ]
    },
    {
     "name": "stdout",
     "output_type": "stream",
     "text": [
      "Test Loss: 0.4224052131175995\n",
      "Group test Loss: 0.5381192043423653\n",
      "49/96) Num Bins 50 Forget Lr: 0.0005 Forget Iters: 2\n"
     ]
    },
    {
     "name": "stderr",
     "output_type": "stream",
     "text": [
      "100%|███████████████████████████████████████████████████████████████████████████████████████████████████████████████████████████████████████████| 2/2 [02:13<00:00, 66.65s/it]\n"
     ]
    },
    {
     "name": "stdout",
     "output_type": "stream",
     "text": [
      "Test Loss: 0.301305890083313\n",
      "Group test Loss: 0.29011011123657227\n",
      "50/96) Num Bins 50 Forget Lr: 0.0005 Forget Iters: 5\n"
     ]
    },
    {
     "name": "stderr",
     "output_type": "stream",
     "text": [
      "100%|███████████████████████████████████████████████████████████████████████████████████████████████████████████████████████████████████████████| 2/2 [02:00<00:00, 60.20s/it]\n"
     ]
    },
    {
     "name": "stdout",
     "output_type": "stream",
     "text": [
      "Test Loss: 0.2404114305973053\n",
      "Group test Loss: 0.3121342957019806\n",
      "51/96) Num Bins 50 Forget Lr: 0.0001 Forget Iters: 2\n"
     ]
    },
    {
     "name": "stderr",
     "output_type": "stream",
     "text": [
      "100%|███████████████████████████████████████████████████████████████████████████████████████████████████████████████████████████████████████████| 2/2 [02:12<00:00, 66.50s/it]\n"
     ]
    },
    {
     "name": "stdout",
     "output_type": "stream",
     "text": [
      "Test Loss: 0.3447786569595337\n",
      "Group test Loss: 0.46559446677565575\n",
      "52/96) Num Bins 50 Forget Lr: 0.0001 Forget Iters: 5\n"
     ]
    },
    {
     "name": "stderr",
     "output_type": "stream",
     "text": [
      "100%|███████████████████████████████████████████████████████████████████████████████████████████████████████████████████████████████████████████| 2/2 [02:00<00:00, 60.41s/it]\n"
     ]
    },
    {
     "name": "stdout",
     "output_type": "stream",
     "text": [
      "Test Loss: 0.29986441135406494\n",
      "Group test Loss: 0.4471491202712059\n",
      "53/96) Num Bins 50 Forget Lr: 0.005 Forget Iters: 2\n"
     ]
    },
    {
     "name": "stderr",
     "output_type": "stream",
     "text": [
      "100%|███████████████████████████████████████████████████████████████████████████████████████████████████████████████████████████████████████████| 2/2 [02:12<00:00, 66.20s/it]\n"
     ]
    },
    {
     "name": "stdout",
     "output_type": "stream",
     "text": [
      "Test Loss: 0.4009562134742737\n",
      "Group test Loss: 0.5215667635202408\n",
      "54/96) Num Bins 50 Forget Lr: 0.005 Forget Iters: 5\n"
     ]
    },
    {
     "name": "stderr",
     "output_type": "stream",
     "text": [
      "100%|███████████████████████████████████████████████████████████████████████████████████████████████████████████████████████████████████████████| 2/2 [02:01<00:00, 60.50s/it]\n"
     ]
    },
    {
     "name": "stdout",
     "output_type": "stream",
     "text": [
      "Test Loss: 0.3948719799518585\n",
      "Group test Loss: 0.5664869844913483\n",
      "55/96) Num Bins 50 Forget Lr: 0.001 Forget Iters: 2\n"
     ]
    },
    {
     "name": "stderr",
     "output_type": "stream",
     "text": [
      "100%|███████████████████████████████████████████████████████████████████████████████████████████████████████████████████████████████████████████| 2/2 [02:13<00:00, 66.65s/it]\n"
     ]
    },
    {
     "name": "stdout",
     "output_type": "stream",
     "text": [
      "Test Loss: 0.30427905917167664\n",
      "Group test Loss: 0.3565389849245548\n",
      "56/96) Num Bins 50 Forget Lr: 0.001 Forget Iters: 5\n"
     ]
    },
    {
     "name": "stderr",
     "output_type": "stream",
     "text": [
      "100%|███████████████████████████████████████████████████████████████████████████████████████████████████████████████████████████████████████████| 2/2 [02:00<00:00, 60.20s/it]\n"
     ]
    },
    {
     "name": "stdout",
     "output_type": "stream",
     "text": [
      "Test Loss: 0.27193483710289\n",
      "Group test Loss: 0.33436116576194763\n",
      "57/96) Num Bins 50 Forget Lr: 0.05 Forget Iters: 2\n"
     ]
    },
    {
     "name": "stderr",
     "output_type": "stream",
     "text": [
      "100%|███████████████████████████████████████████████████████████████████████████████████████████████████████████████████████████████████████████| 2/2 [02:12<00:00, 66.13s/it]\n"
     ]
    },
    {
     "name": "stdout",
     "output_type": "stream",
     "text": [
      "Test Loss: 0.490732878446579\n",
      "Group test Loss: 0.5988748893141747\n",
      "58/96) Num Bins 50 Forget Lr: 0.05 Forget Iters: 5\n"
     ]
    },
    {
     "name": "stderr",
     "output_type": "stream",
     "text": [
      "100%|███████████████████████████████████████████████████████████████████████████████████████████████████████████████████████████████████████████| 2/2 [02:00<00:00, 60.43s/it]\n"
     ]
    },
    {
     "name": "stdout",
     "output_type": "stream",
     "text": [
      "Test Loss: 0.4821898937225342\n",
      "Group test Loss: 0.47108159959316254\n",
      "59/96) Num Bins 50 Forget Lr: 0.01 Forget Iters: 2\n"
     ]
    },
    {
     "name": "stderr",
     "output_type": "stream",
     "text": [
      "100%|███████████████████████████████████████████████████████████████████████████████████████████████████████████████████████████████████████████| 2/2 [02:12<00:00, 66.43s/it]\n"
     ]
    },
    {
     "name": "stdout",
     "output_type": "stream",
     "text": [
      "Test Loss: 0.43100157380104065\n",
      "Group test Loss: 0.5174976587295532\n",
      "60/96) Num Bins 50 Forget Lr: 0.01 Forget Iters: 5\n"
     ]
    },
    {
     "name": "stderr",
     "output_type": "stream",
     "text": [
      "100%|███████████████████████████████████████████████████████████████████████████████████████████████████████████████████████████████████████████| 2/2 [02:00<00:00, 60.04s/it]\n"
     ]
    },
    {
     "name": "stdout",
     "output_type": "stream",
     "text": [
      "Test Loss: 0.3740893006324768\n",
      "Group test Loss: 0.45344050228595734\n",
      "61/96) Num Bins 75 Forget Lr: 0.0005 Forget Iters: 2\n"
     ]
    },
    {
     "name": "stderr",
     "output_type": "stream",
     "text": [
      "100%|███████████████████████████████████████████████████████████████████████████████████████████████████████████████████████████████████████████| 2/2 [02:12<00:00, 66.34s/it]\n"
     ]
    },
    {
     "name": "stdout",
     "output_type": "stream",
     "text": [
      "Test Loss: 0.25691524147987366\n",
      "Group test Loss: 0.28571802750229836\n",
      "62/96) Num Bins 75 Forget Lr: 0.0005 Forget Iters: 5\n"
     ]
    },
    {
     "name": "stderr",
     "output_type": "stream",
     "text": [
      "100%|███████████████████████████████████████████████████████████████████████████████████████████████████████████████████████████████████████████| 2/2 [02:00<00:00, 60.04s/it]\n"
     ]
    },
    {
     "name": "stdout",
     "output_type": "stream",
     "text": [
      "Test Loss: 0.27768492698669434\n",
      "Group test Loss: 0.4044380821287632\n",
      "63/96) Num Bins 75 Forget Lr: 0.0001 Forget Iters: 2\n"
     ]
    },
    {
     "name": "stderr",
     "output_type": "stream",
     "text": [
      "100%|███████████████████████████████████████████████████████████████████████████████████████████████████████████████████████████████████████████| 2/2 [02:12<00:00, 66.42s/it]\n"
     ]
    },
    {
     "name": "stdout",
     "output_type": "stream",
     "text": [
      "Test Loss: 0.23668040335178375\n",
      "Group test Loss: 0.3132519982755184\n",
      "64/96) Num Bins 75 Forget Lr: 0.0001 Forget Iters: 5\n"
     ]
    },
    {
     "name": "stderr",
     "output_type": "stream",
     "text": [
      "100%|███████████████████████████████████████████████████████████████████████████████████████████████████████████████████████████████████████████| 2/2 [02:00<00:00, 60.23s/it]\n"
     ]
    },
    {
     "name": "stdout",
     "output_type": "stream",
     "text": [
      "Test Loss: 0.2425561547279358\n",
      "Group test Loss: 0.2958180569112301\n",
      "65/96) Num Bins 75 Forget Lr: 0.005 Forget Iters: 2\n"
     ]
    },
    {
     "name": "stderr",
     "output_type": "stream",
     "text": [
      "100%|███████████████████████████████████████████████████████████████████████████████████████████████████████████████████████████████████████████| 2/2 [02:12<00:00, 66.37s/it]\n"
     ]
    },
    {
     "name": "stdout",
     "output_type": "stream",
     "text": [
      "Test Loss: 0.40262800455093384\n",
      "Group test Loss: 0.37309054657816887\n",
      "66/96) Num Bins 75 Forget Lr: 0.005 Forget Iters: 5\n"
     ]
    },
    {
     "name": "stderr",
     "output_type": "stream",
     "text": [
      "100%|███████████████████████████████████████████████████████████████████████████████████████████████████████████████████████████████████████████| 2/2 [02:00<00:00, 60.36s/it]\n"
     ]
    },
    {
     "name": "stdout",
     "output_type": "stream",
     "text": [
      "Test Loss: 0.34204697608947754\n",
      "Group test Loss: 0.38200491666793823\n",
      "67/96) Num Bins 75 Forget Lr: 0.001 Forget Iters: 2\n"
     ]
    },
    {
     "name": "stderr",
     "output_type": "stream",
     "text": [
      "100%|███████████████████████████████████████████████████████████████████████████████████████████████████████████████████████████████████████████| 2/2 [02:13<00:00, 66.63s/it]\n"
     ]
    },
    {
     "name": "stdout",
     "output_type": "stream",
     "text": [
      "Test Loss: 0.34289711713790894\n",
      "Group test Loss: 0.3001425750553608\n",
      "68/96) Num Bins 75 Forget Lr: 0.001 Forget Iters: 5\n"
     ]
    },
    {
     "name": "stderr",
     "output_type": "stream",
     "text": [
      "100%|███████████████████████████████████████████████████████████████████████████████████████████████████████████████████████████████████████████| 2/2 [02:00<00:00, 60.31s/it]\n"
     ]
    },
    {
     "name": "stdout",
     "output_type": "stream",
     "text": [
      "Test Loss: 0.29270508885383606\n",
      "Group test Loss: 0.3275230675935745\n",
      "69/96) Num Bins 75 Forget Lr: 0.05 Forget Iters: 2\n"
     ]
    },
    {
     "name": "stderr",
     "output_type": "stream",
     "text": [
      "100%|███████████████████████████████████████████████████████████████████████████████████████████████████████████████████████████████████████████| 2/2 [02:12<00:00, 66.46s/it]\n"
     ]
    },
    {
     "name": "stdout",
     "output_type": "stream",
     "text": [
      "Test Loss: 0.5320296287536621\n",
      "Group test Loss: 0.5907744988799095\n",
      "70/96) Num Bins 75 Forget Lr: 0.05 Forget Iters: 5\n"
     ]
    },
    {
     "name": "stderr",
     "output_type": "stream",
     "text": [
      "100%|███████████████████████████████████████████████████████████████████████████████████████████████████████████████████████████████████████████| 2/2 [02:00<00:00, 60.16s/it]\n"
     ]
    },
    {
     "name": "stdout",
     "output_type": "stream",
     "text": [
      "Test Loss: 0.4759296178817749\n",
      "Group test Loss: 0.634051151573658\n",
      "71/96) Num Bins 75 Forget Lr: 0.01 Forget Iters: 2\n"
     ]
    },
    {
     "name": "stderr",
     "output_type": "stream",
     "text": [
      "100%|███████████████████████████████████████████████████████████████████████████████████████████████████████████████████████████████████████████| 2/2 [02:12<00:00, 66.38s/it]\n"
     ]
    },
    {
     "name": "stdout",
     "output_type": "stream",
     "text": [
      "Test Loss: 0.6273096799850464\n",
      "Group test Loss: 0.4732410926371813\n",
      "72/96) Num Bins 75 Forget Lr: 0.01 Forget Iters: 5\n"
     ]
    },
    {
     "name": "stderr",
     "output_type": "stream",
     "text": [
      "100%|███████████████████████████████████████████████████████████████████████████████████████████████████████████████████████████████████████████| 2/2 [02:00<00:00, 60.41s/it]\n"
     ]
    },
    {
     "name": "stdout",
     "output_type": "stream",
     "text": [
      "Test Loss: 0.4191218912601471\n",
      "Group test Loss: 0.3918744772672653\n",
      "73/96) Num Bins 90 Forget Lr: 0.0005 Forget Iters: 2\n"
     ]
    },
    {
     "name": "stderr",
     "output_type": "stream",
     "text": [
      "100%|███████████████████████████████████████████████████████████████████████████████████████████████████████████████████████████████████████████| 2/2 [02:13<00:00, 66.59s/it]\n"
     ]
    },
    {
     "name": "stdout",
     "output_type": "stream",
     "text": [
      "Test Loss: 0.24317848682403564\n",
      "Group test Loss: 0.3127405308187008\n",
      "74/96) Num Bins 90 Forget Lr: 0.0005 Forget Iters: 5\n"
     ]
    },
    {
     "name": "stderr",
     "output_type": "stream",
     "text": [
      "100%|███████████████████████████████████████████████████████████████████████████████████████████████████████████████████████████████████████████| 2/2 [02:00<00:00, 60.31s/it]\n"
     ]
    },
    {
     "name": "stdout",
     "output_type": "stream",
     "text": [
      "Test Loss: 0.2747271656990051\n",
      "Group test Loss: 0.28529804572463036\n",
      "75/96) Num Bins 90 Forget Lr: 0.0001 Forget Iters: 2\n"
     ]
    },
    {
     "name": "stderr",
     "output_type": "stream",
     "text": [
      "100%|███████████████████████████████████████████████████████████████████████████████████████████████████████████████████████████████████████████| 2/2 [02:12<00:00, 66.31s/it]\n"
     ]
    },
    {
     "name": "stdout",
     "output_type": "stream",
     "text": [
      "Test Loss: 0.2595025599002838\n",
      "Group test Loss: 0.2857954278588295\n",
      "76/96) Num Bins 90 Forget Lr: 0.0001 Forget Iters: 5\n"
     ]
    },
    {
     "name": "stderr",
     "output_type": "stream",
     "text": [
      "100%|███████████████████████████████████████████████████████████████████████████████████████████████████████████████████████████████████████████| 2/2 [02:00<00:00, 60.25s/it]\n"
     ]
    },
    {
     "name": "stdout",
     "output_type": "stream",
     "text": [
      "Test Loss: 0.2487526386976242\n",
      "Group test Loss: 0.363537210971117\n",
      "77/96) Num Bins 90 Forget Lr: 0.005 Forget Iters: 2\n"
     ]
    },
    {
     "name": "stderr",
     "output_type": "stream",
     "text": [
      "100%|███████████████████████████████████████████████████████████████████████████████████████████████████████████████████████████████████████████| 2/2 [02:13<00:00, 66.58s/it]\n"
     ]
    },
    {
     "name": "stdout",
     "output_type": "stream",
     "text": [
      "Test Loss: 0.399338960647583\n",
      "Group test Loss: 0.4006408341228962\n",
      "78/96) Num Bins 90 Forget Lr: 0.005 Forget Iters: 5\n"
     ]
    },
    {
     "name": "stderr",
     "output_type": "stream",
     "text": [
      "100%|███████████████████████████████████████████████████████████████████████████████████████████████████████████████████████████████████████████| 2/2 [02:00<00:00, 60.08s/it]\n"
     ]
    },
    {
     "name": "stdout",
     "output_type": "stream",
     "text": [
      "Test Loss: 0.36984777450561523\n",
      "Group test Loss: 0.40293164551258087\n",
      "79/96) Num Bins 90 Forget Lr: 0.001 Forget Iters: 2\n"
     ]
    },
    {
     "name": "stderr",
     "output_type": "stream",
     "text": [
      "100%|███████████████████████████████████████████████████████████████████████████████████████████████████████████████████████████████████████████| 2/2 [02:12<00:00, 66.49s/it]\n"
     ]
    },
    {
     "name": "stdout",
     "output_type": "stream",
     "text": [
      "Test Loss: 0.2955867052078247\n",
      "Group test Loss: 0.4049955941736698\n",
      "80/96) Num Bins 90 Forget Lr: 0.001 Forget Iters: 5\n"
     ]
    },
    {
     "name": "stderr",
     "output_type": "stream",
     "text": [
      "100%|███████████████████████████████████████████████████████████████████████████████████████████████████████████████████████████████████████████| 2/2 [02:01<00:00, 60.63s/it]\n"
     ]
    },
    {
     "name": "stdout",
     "output_type": "stream",
     "text": [
      "Test Loss: 0.2548286020755768\n",
      "Group test Loss: 0.29904769361019135\n",
      "81/96) Num Bins 90 Forget Lr: 0.05 Forget Iters: 2\n"
     ]
    },
    {
     "name": "stderr",
     "output_type": "stream",
     "text": [
      "100%|███████████████████████████████████████████████████████████████████████████████████████████████████████████████████████████████████████████| 2/2 [02:13<00:00, 66.63s/it]\n"
     ]
    },
    {
     "name": "stdout",
     "output_type": "stream",
     "text": [
      "Test Loss: 53.32060623168945\n",
      "Group test Loss: 45.05826544761658\n",
      "82/96) Num Bins 90 Forget Lr: 0.05 Forget Iters: 5\n"
     ]
    },
    {
     "name": "stderr",
     "output_type": "stream",
     "text": [
      "100%|███████████████████████████████████████████████████████████████████████████████████████████████████████████████████████████████████████████| 2/2 [02:00<00:00, 60.25s/it]\n"
     ]
    },
    {
     "name": "stdout",
     "output_type": "stream",
     "text": [
      "Test Loss: 1.0305873155593872\n",
      "Group test Loss: 0.7554767206311226\n",
      "83/96) Num Bins 90 Forget Lr: 0.01 Forget Iters: 2\n"
     ]
    },
    {
     "name": "stderr",
     "output_type": "stream",
     "text": [
      "100%|███████████████████████████████████████████████████████████████████████████████████████████████████████████████████████████████████████████| 2/2 [02:13<00:00, 66.70s/it]\n"
     ]
    },
    {
     "name": "stdout",
     "output_type": "stream",
     "text": [
      "Test Loss: 0.48005831241607666\n",
      "Group test Loss: 0.40842124819755554\n",
      "84/96) Num Bins 90 Forget Lr: 0.01 Forget Iters: 5\n"
     ]
    },
    {
     "name": "stderr",
     "output_type": "stream",
     "text": [
      "100%|███████████████████████████████████████████████████████████████████████████████████████████████████████████████████████████████████████████| 2/2 [02:00<00:00, 60.04s/it]\n"
     ]
    },
    {
     "name": "stdout",
     "output_type": "stream",
     "text": [
      "Test Loss: 0.40414029359817505\n",
      "Group test Loss: 0.508659340441227\n",
      "85/96) Num Bins 100 Forget Lr: 0.0005 Forget Iters: 2\n"
     ]
    },
    {
     "name": "stderr",
     "output_type": "stream",
     "text": [
      "100%|███████████████████████████████████████████████████████████████████████████████████████████████████████████████████████████████████████████| 2/2 [02:13<00:00, 66.57s/it]\n"
     ]
    },
    {
     "name": "stdout",
     "output_type": "stream",
     "text": [
      "Test Loss: 0.28504353761672974\n",
      "Group test Loss: 0.329911932349205\n",
      "86/96) Num Bins 100 Forget Lr: 0.0005 Forget Iters: 5\n"
     ]
    },
    {
     "name": "stderr",
     "output_type": "stream",
     "text": [
      "100%|███████████████████████████████████████████████████████████████████████████████████████████████████████████████████████████████████████████| 2/2 [02:00<00:00, 60.11s/it]\n"
     ]
    },
    {
     "name": "stdout",
     "output_type": "stream",
     "text": [
      "Test Loss: 0.3750945031642914\n",
      "Group test Loss: 0.33043811842799187\n",
      "87/96) Num Bins 100 Forget Lr: 0.0001 Forget Iters: 2\n"
     ]
    },
    {
     "name": "stderr",
     "output_type": "stream",
     "text": [
      "100%|███████████████████████████████████████████████████████████████████████████████████████████████████████████████████████████████████████████| 2/2 [02:12<00:00, 66.34s/it]\n"
     ]
    },
    {
     "name": "stdout",
     "output_type": "stream",
     "text": [
      "Test Loss: 0.23002174496650696\n",
      "Group test Loss: 0.25985314697027206\n",
      "88/96) Num Bins 100 Forget Lr: 0.0001 Forget Iters: 5\n"
     ]
    },
    {
     "name": "stderr",
     "output_type": "stream",
     "text": [
      "100%|███████████████████████████████████████████████████████████████████████████████████████████████████████████████████████████████████████████| 2/2 [02:00<00:00, 60.19s/it]\n"
     ]
    },
    {
     "name": "stdout",
     "output_type": "stream",
     "text": [
      "Test Loss: 0.2509395182132721\n",
      "Group test Loss: 0.36021844297647476\n",
      "89/96) Num Bins 100 Forget Lr: 0.005 Forget Iters: 2\n"
     ]
    },
    {
     "name": "stderr",
     "output_type": "stream",
     "text": [
      "100%|███████████████████████████████████████████████████████████████████████████████████████████████████████████████████████████████████████████| 2/2 [02:12<00:00, 66.48s/it]\n"
     ]
    },
    {
     "name": "stdout",
     "output_type": "stream",
     "text": [
      "Test Loss: 0.3760159909725189\n",
      "Group test Loss: 0.45894521474838257\n",
      "90/96) Num Bins 100 Forget Lr: 0.005 Forget Iters: 5\n"
     ]
    },
    {
     "name": "stderr",
     "output_type": "stream",
     "text": [
      "100%|███████████████████████████████████████████████████████████████████████████████████████████████████████████████████████████████████████████| 2/2 [01:59<00:00, 59.97s/it]\n"
     ]
    },
    {
     "name": "stdout",
     "output_type": "stream",
     "text": [
      "Test Loss: 0.4530521631240845\n",
      "Group test Loss: 0.4126957133412361\n",
      "91/96) Num Bins 100 Forget Lr: 0.001 Forget Iters: 2\n"
     ]
    },
    {
     "name": "stderr",
     "output_type": "stream",
     "text": [
      "100%|███████████████████████████████████████████████████████████████████████████████████████████████████████████████████████████████████████████| 2/2 [02:12<00:00, 66.23s/it]\n"
     ]
    },
    {
     "name": "stdout",
     "output_type": "stream",
     "text": [
      "Test Loss: 0.3595428764820099\n",
      "Group test Loss: 0.3382101468741894\n",
      "92/96) Num Bins 100 Forget Lr: 0.001 Forget Iters: 5\n"
     ]
    },
    {
     "name": "stderr",
     "output_type": "stream",
     "text": [
      "100%|███████████████████████████████████████████████████████████████████████████████████████████████████████████████████████████████████████████| 2/2 [02:00<00:00, 60.42s/it]\n"
     ]
    },
    {
     "name": "stdout",
     "output_type": "stream",
     "text": [
      "Test Loss: 0.2577999532222748\n",
      "Group test Loss: 0.3336857780814171\n",
      "93/96) Num Bins 100 Forget Lr: 0.05 Forget Iters: 2\n"
     ]
    },
    {
     "name": "stderr",
     "output_type": "stream",
     "text": [
      "100%|███████████████████████████████████████████████████████████████████████████████████████████████████████████████████████████████████████████| 2/2 [02:12<00:00, 66.34s/it]\n"
     ]
    },
    {
     "name": "stdout",
     "output_type": "stream",
     "text": [
      "Test Loss: 1.4723238945007324\n",
      "Group test Loss: 1.7584468126296997\n",
      "94/96) Num Bins 100 Forget Lr: 0.05 Forget Iters: 5\n"
     ]
    },
    {
     "name": "stderr",
     "output_type": "stream",
     "text": [
      "100%|███████████████████████████████████████████████████████████████████████████████████████████████████████████████████████████████████████████| 2/2 [02:00<00:00, 60.11s/it]\n"
     ]
    },
    {
     "name": "stdout",
     "output_type": "stream",
     "text": [
      "Test Loss: 0.4275997281074524\n",
      "Group test Loss: 0.5023188516497612\n",
      "95/96) Num Bins 100 Forget Lr: 0.01 Forget Iters: 2\n"
     ]
    },
    {
     "name": "stderr",
     "output_type": "stream",
     "text": [
      "100%|███████████████████████████████████████████████████████████████████████████████████████████████████████████████████████████████████████████| 2/2 [02:13<00:00, 66.61s/it]\n"
     ]
    },
    {
     "name": "stdout",
     "output_type": "stream",
     "text": [
      "Test Loss: 0.477126806974411\n",
      "Group test Loss: 0.662032350897789\n",
      "96/96) Num Bins 100 Forget Lr: 0.01 Forget Iters: 5\n"
     ]
    },
    {
     "name": "stderr",
     "output_type": "stream",
     "text": [
      "100%|███████████████████████████████████████████████████████████████████████████████████████████████████████████████████████████████████████████| 2/2 [02:00<00:00, 60.07s/it]\n"
     ]
    },
    {
     "name": "stdout",
     "output_type": "stream",
     "text": [
      "Test Loss: 0.5679662823677063\n",
      "Group test Loss: 0.738053560256958\n",
      "Test Loss Hyperparameters\n",
      "Best num_bins : 30 Best Forget LR: 0.0001 Best Forget Iter: 5\n",
      "Group Loss Hyperparameters\n",
      "Best num_bins : 100 Best Forget LR: 0.0001 Best Forget Iter: 2\n"
     ]
    }
   ],
   "source": [
    "num_bins = [2, 10, 25, 30, 50, 75, 90, 100]\n",
    "forget_lrs = [5e-4, 1e-4, 5e-3, 1e-3, 5e-2, 1e-2]\n",
    "forget_iters = [2, 5]\n",
    "\n",
    "test_losses = np.zeros((len(num_bins), len(forget_lrs), len(forget_iters)))\n",
    "grp_test_losses = np.zeros((len(num_bins), len(forget_lrs), len(forget_iters)))\n",
    "\n",
    "for i in range(len(num_bins)):\n",
    "    for j in range(len(forget_lrs)):\n",
    "        for k in range(len(forget_iters)):\n",
    "            print(f\"{i*(len(forget_lrs) * len(forget_iters)) + j*(len(forget_iters)) + k + 1}/{len(num_bins) * len(forget_lrs)* len(forget_iters)}) Num Bins {num_bins[i]} Forget Lr: {forget_lrs[j]} Forget Iters: {forget_iters[k]}\")\n",
    "            model = SiFer_ce(x.shape, 1, num_bins = num_bins[i]).to(device)\n",
    "            model, train_loss, val_loss,_, _ = train_fs_ce(model, train_dataloader, valid_dataloader, targets.astype(np.float32), num_bins = num_bins[i], forget_iters = forget_iters[k], lrs = [5e-4, 5e-4, forget_lrs[j]], epochs = 2, verbose = False)\n",
    "            test_loss = eval_FSModel(model, valid_dataloader)\n",
    "            print(f\"Test Loss: {test_loss}\")\n",
    "            group_loss, _ = group_eval_fs(model, group_val_dataloaders)\n",
    "\n",
    "            test_losses[i,j,k] = test_loss\n",
    "            grp_test_losses[i,j,k] = group_loss\n",
    "\n",
    "best_num_bins, best_forget_lr_ce, best_forget_iter_ce = np.unravel_index(np.argmin(test_losses), test_losses.shape)\n",
    "best_num_bins_grp, best_forget_lr_ce_grp, best_forget_iter_ce_grp = np.unravel_index(np.argmin(grp_test_losses), test_losses.shape)\n",
    "\n",
    "print(\"Test Loss Hyperparameters\")\n",
    "print(f\"Best num_bins : {num_bins[best_num_bins]} Best Forget LR: {forget_lrs[best_forget_lr_ce]} Best Forget Iter: {forget_iters[best_forget_iter_ce]}\")\n",
    "print(\"Group Loss Hyperparameters\")\n",
    "print(f\"Best num_bins : {num_bins[best_num_bins_grp]} Best Forget LR: {forget_lrs[best_forget_lr_ce_grp]} Best Forget Iter: {forget_iters[best_forget_iter_ce_grp]}\")"
   ]
  },
  {
   "cell_type": "code",
   "execution_count": 19,
   "id": "916e33f7-5beb-4d24-9448-e4220e054e70",
   "metadata": {},
   "outputs": [
    {
     "name": "stderr",
     "output_type": "stream",
     "text": [
      "100%|███████████████████████████████████████████████████████████████████████████████████████████████████████████████████████████████████████████| 5/5 [05:32<00:00, 66.56s/it]\n"
     ]
    },
    {
     "name": "stdout",
     "output_type": "stream",
     "text": [
      "Test Loss: 0.2186003476381302\n",
      "Group test Loss: 0.23450522869825363\n"
     ]
    }
   ],
   "source": [
    "num_bins = [2, 10, 25, 30, 50, 75, 90, 100]\n",
    "forget_lrs = [5e-4, 1e-4, 5e-3, 1e-3, 5e-2, 1e-2]\n",
    "forget_iters = [2, 5]\n",
    "best_num_bins_grp, best_forget_lr_ce_grp, best_forget_iter_ce_grp = num_bins.index(75), forget_lrs.index(0.0001), forget_iters.index(2)\n",
    "\n",
    "sifer_ce = SiFer_ce(x.shape, 1, num_bins = num_bins[best_num_bins_grp]).to(device)\n",
    "sifer_ce, train_loss, val_loss,_, _ = train_fs_ce(sifer_ce, train_dataloader, valid_dataloader, targets.astype(np.float32), num_bins = num_bins[best_num_bins_grp], forget_iters = forget_iters[best_forget_iter_ce_grp], lrs = [5e-4, 5e-4, forget_lrs[best_forget_lr_ce_grp]], epochs = 5, verbose = False)\n",
    "test_loss_ce = eval_FSModel(sifer_ce, test_dataloader)\n",
    "print(f\"Test Loss: {test_loss_ce}\")\n",
    "group_loss_ce, groups_ce = group_eval_fs(sifer_ce, group_test_dataloaders)"
   ]
  },
  {
   "cell_type": "markdown",
   "id": "e6255c2c-9322-44aa-b0c5-f7ef82a5d2db",
   "metadata": {},
   "source": [
    "## 4) Ordinal Forgetting Loss"
   ]
  },
  {
   "cell_type": "code",
   "execution_count": 20,
   "id": "9a045a70-fbc7-4a5d-9268-c00967473e01",
   "metadata": {
    "scrolled": true
   },
   "outputs": [
    {
     "name": "stdout",
     "output_type": "stream",
     "text": [
      "[1/96] Num Bins 2 Forget Lr: 0.0005 Forget Iters: 2\n"
     ]
    },
    {
     "name": "stderr",
     "output_type": "stream",
     "text": [
      "100%|███████████████████████████████████████████████████████████████████████████████████████████████████████████████████████████████████████████| 2/2 [02:15<00:00, 67.78s/it]\n"
     ]
    },
    {
     "name": "stdout",
     "output_type": "stream",
     "text": [
      "Test Loss: 0.2587223947048187\n",
      "Group test Loss: 0.315237682312727\n",
      "[2/96] Num Bins 2 Forget Lr: 0.0005 Forget Iters: 5\n"
     ]
    },
    {
     "name": "stderr",
     "output_type": "stream",
     "text": [
      "100%|███████████████████████████████████████████████████████████████████████████████████████████████████████████████████████████████████████████| 2/2 [02:02<00:00, 61.46s/it]\n"
     ]
    },
    {
     "name": "stdout",
     "output_type": "stream",
     "text": [
      "Test Loss: 0.2351461499929428\n",
      "Group test Loss: 0.3174755237996578\n",
      "[3/96] Num Bins 2 Forget Lr: 0.0001 Forget Iters: 2\n"
     ]
    },
    {
     "name": "stderr",
     "output_type": "stream",
     "text": [
      "100%|███████████████████████████████████████████████████████████████████████████████████████████████████████████████████████████████████████████| 2/2 [02:15<00:00, 67.64s/it]\n"
     ]
    },
    {
     "name": "stdout",
     "output_type": "stream",
     "text": [
      "Test Loss: 0.2735239565372467\n",
      "Group test Loss: 0.29069799929857254\n",
      "[4/96] Num Bins 2 Forget Lr: 0.0001 Forget Iters: 5\n"
     ]
    },
    {
     "name": "stderr",
     "output_type": "stream",
     "text": [
      "100%|███████████████████████████████████████████████████████████████████████████████████████████████████████████████████████████████████████████| 2/2 [02:02<00:00, 61.39s/it]\n"
     ]
    },
    {
     "name": "stdout",
     "output_type": "stream",
     "text": [
      "Test Loss: 0.23978784680366516\n",
      "Group test Loss: 0.2572862207889557\n",
      "[5/96] Num Bins 2 Forget Lr: 0.005 Forget Iters: 2\n"
     ]
    },
    {
     "name": "stderr",
     "output_type": "stream",
     "text": [
      "100%|███████████████████████████████████████████████████████████████████████████████████████████████████████████████████████████████████████████| 2/2 [02:16<00:00, 68.16s/it]\n"
     ]
    },
    {
     "name": "stdout",
     "output_type": "stream",
     "text": [
      "Test Loss: 0.3120894134044647\n",
      "Group test Loss: 0.38701487332582474\n",
      "[6/96] Num Bins 2 Forget Lr: 0.005 Forget Iters: 5\n"
     ]
    },
    {
     "name": "stderr",
     "output_type": "stream",
     "text": [
      "100%|███████████████████████████████████████████████████████████████████████████████████████████████████████████████████████████████████████████| 2/2 [02:02<00:00, 61.46s/it]\n"
     ]
    },
    {
     "name": "stdout",
     "output_type": "stream",
     "text": [
      "Test Loss: 0.34318697452545166\n",
      "Group test Loss: 0.39723557978868484\n",
      "[7/96] Num Bins 2 Forget Lr: 0.001 Forget Iters: 2\n"
     ]
    },
    {
     "name": "stderr",
     "output_type": "stream",
     "text": [
      "100%|███████████████████████████████████████████████████████████████████████████████████████████████████████████████████████████████████████████| 2/2 [02:16<00:00, 68.12s/it]\n"
     ]
    },
    {
     "name": "stdout",
     "output_type": "stream",
     "text": [
      "Test Loss: 0.2831387221813202\n",
      "Group test Loss: 0.3324824869632721\n",
      "[8/96] Num Bins 2 Forget Lr: 0.001 Forget Iters: 5\n"
     ]
    },
    {
     "name": "stderr",
     "output_type": "stream",
     "text": [
      "100%|███████████████████████████████████████████████████████████████████████████████████████████████████████████████████████████████████████████| 2/2 [02:03<00:00, 61.75s/it]\n"
     ]
    },
    {
     "name": "stdout",
     "output_type": "stream",
     "text": [
      "Test Loss: 0.2614350914955139\n",
      "Group test Loss: 0.29256994277238846\n",
      "[9/96] Num Bins 2 Forget Lr: 0.05 Forget Iters: 2\n"
     ]
    },
    {
     "name": "stderr",
     "output_type": "stream",
     "text": [
      "100%|███████████████████████████████████████████████████████████████████████████████████████████████████████████████████████████████████████████| 2/2 [02:15<00:00, 67.99s/it]\n"
     ]
    },
    {
     "name": "stdout",
     "output_type": "stream",
     "text": [
      "Test Loss: 0.42087000608444214\n",
      "Group test Loss: 0.5082827135920525\n",
      "[10/96] Num Bins 2 Forget Lr: 0.05 Forget Iters: 5\n"
     ]
    },
    {
     "name": "stderr",
     "output_type": "stream",
     "text": [
      "100%|███████████████████████████████████████████████████████████████████████████████████████████████████████████████████████████████████████████| 2/2 [02:02<00:00, 61.14s/it]\n"
     ]
    },
    {
     "name": "stdout",
     "output_type": "stream",
     "text": [
      "Test Loss: 0.45511284470558167\n",
      "Group test Loss: 0.5263348147273064\n",
      "[11/96] Num Bins 2 Forget Lr: 0.01 Forget Iters: 2\n"
     ]
    },
    {
     "name": "stderr",
     "output_type": "stream",
     "text": [
      "100%|███████████████████████████████████████████████████████████████████████████████████████████████████████████████████████████████████████████| 2/2 [02:15<00:00, 67.61s/it]\n"
     ]
    },
    {
     "name": "stdout",
     "output_type": "stream",
     "text": [
      "Test Loss: 0.3983190357685089\n",
      "Group test Loss: 0.5553650259971619\n",
      "[12/96] Num Bins 2 Forget Lr: 0.01 Forget Iters: 5\n"
     ]
    },
    {
     "name": "stderr",
     "output_type": "stream",
     "text": [
      "100%|███████████████████████████████████████████████████████████████████████████████████████████████████████████████████████████████████████████| 2/2 [02:02<00:00, 61.49s/it]\n"
     ]
    },
    {
     "name": "stdout",
     "output_type": "stream",
     "text": [
      "Test Loss: 0.33602553606033325\n",
      "Group test Loss: 0.3830873370170593\n",
      "[13/96] Num Bins 10 Forget Lr: 0.0005 Forget Iters: 2\n"
     ]
    },
    {
     "name": "stderr",
     "output_type": "stream",
     "text": [
      "100%|███████████████████████████████████████████████████████████████████████████████████████████████████████████████████████████████████████████| 2/2 [02:15<00:00, 67.77s/it]\n"
     ]
    },
    {
     "name": "stdout",
     "output_type": "stream",
     "text": [
      "Test Loss: 0.27450546622276306\n",
      "Group test Loss: 0.2868551127612591\n",
      "[14/96] Num Bins 10 Forget Lr: 0.0005 Forget Iters: 5\n"
     ]
    },
    {
     "name": "stderr",
     "output_type": "stream",
     "text": [
      "100%|███████████████████████████████████████████████████████████████████████████████████████████████████████████████████████████████████████████| 2/2 [02:03<00:00, 61.88s/it]\n"
     ]
    },
    {
     "name": "stdout",
     "output_type": "stream",
     "text": [
      "Test Loss: 0.23115584254264832\n",
      "Group test Loss: 0.27241066843271255\n",
      "[15/96] Num Bins 10 Forget Lr: 0.0001 Forget Iters: 2\n"
     ]
    },
    {
     "name": "stderr",
     "output_type": "stream",
     "text": [
      "100%|███████████████████████████████████████████████████████████████████████████████████████████████████████████████████████████████████████████| 2/2 [02:14<00:00, 67.27s/it]\n"
     ]
    },
    {
     "name": "stdout",
     "output_type": "stream",
     "text": [
      "Test Loss: 0.2531631886959076\n",
      "Group test Loss: 0.3047143891453743\n",
      "[16/96] Num Bins 10 Forget Lr: 0.0001 Forget Iters: 5\n"
     ]
    },
    {
     "name": "stderr",
     "output_type": "stream",
     "text": [
      "100%|███████████████████████████████████████████████████████████████████████████████████████████████████████████████████████████████████████████| 2/2 [02:03<00:00, 61.84s/it]\n"
     ]
    },
    {
     "name": "stdout",
     "output_type": "stream",
     "text": [
      "Test Loss: 0.2486829161643982\n",
      "Group test Loss: 0.3418845795094967\n",
      "[17/96] Num Bins 10 Forget Lr: 0.005 Forget Iters: 2\n"
     ]
    },
    {
     "name": "stderr",
     "output_type": "stream",
     "text": [
      "100%|███████████████████████████████████████████████████████████████████████████████████████████████████████████████████████████████████████████| 2/2 [02:15<00:00, 67.90s/it]\n"
     ]
    },
    {
     "name": "stdout",
     "output_type": "stream",
     "text": [
      "Test Loss: 0.49349555373191833\n",
      "Group test Loss: 0.7136269211769104\n",
      "[18/96] Num Bins 10 Forget Lr: 0.005 Forget Iters: 5\n"
     ]
    },
    {
     "name": "stderr",
     "output_type": "stream",
     "text": [
      "100%|███████████████████████████████████████████████████████████████████████████████████████████████████████████████████████████████████████████| 2/2 [02:03<00:00, 61.71s/it]\n"
     ]
    },
    {
     "name": "stdout",
     "output_type": "stream",
     "text": [
      "Test Loss: 0.6207494139671326\n",
      "Group test Loss: 0.9148978218436241\n",
      "[19/96] Num Bins 10 Forget Lr: 0.001 Forget Iters: 2\n"
     ]
    },
    {
     "name": "stderr",
     "output_type": "stream",
     "text": [
      "100%|███████████████████████████████████████████████████████████████████████████████████████████████████████████████████████████████████████████| 2/2 [02:14<00:00, 67.36s/it]\n"
     ]
    },
    {
     "name": "stdout",
     "output_type": "stream",
     "text": [
      "Test Loss: 0.31710273027420044\n",
      "Group test Loss: 0.29939619451761246\n",
      "[20/96] Num Bins 10 Forget Lr: 0.001 Forget Iters: 5\n"
     ]
    },
    {
     "name": "stderr",
     "output_type": "stream",
     "text": [
      "100%|███████████████████████████████████████████████████████████████████████████████████████████████████████████████████████████████████████████| 2/2 [02:02<00:00, 61.38s/it]\n"
     ]
    },
    {
     "name": "stdout",
     "output_type": "stream",
     "text": [
      "Test Loss: 0.29653146862983704\n",
      "Group test Loss: 0.4297321178019047\n",
      "[21/96] Num Bins 10 Forget Lr: 0.05 Forget Iters: 2\n"
     ]
    },
    {
     "name": "stderr",
     "output_type": "stream",
     "text": [
      "100%|███████████████████████████████████████████████████████████████████████████████████████████████████████████████████████████████████████████| 2/2 [02:15<00:00, 67.73s/it]\n"
     ]
    },
    {
     "name": "stdout",
     "output_type": "stream",
     "text": [
      "Test Loss: 0.5083621740341187\n",
      "Group test Loss: 0.42528749629855156\n",
      "[22/96] Num Bins 10 Forget Lr: 0.05 Forget Iters: 5\n"
     ]
    },
    {
     "name": "stderr",
     "output_type": "stream",
     "text": [
      "100%|███████████████████████████████████████████████████████████████████████████████████████████████████████████████████████████████████████████| 2/2 [02:02<00:00, 61.15s/it]\n"
     ]
    },
    {
     "name": "stdout",
     "output_type": "stream",
     "text": [
      "Test Loss: 0.4071804881095886\n",
      "Group test Loss: 0.5384046509861946\n",
      "[23/96] Num Bins 10 Forget Lr: 0.01 Forget Iters: 2\n"
     ]
    },
    {
     "name": "stderr",
     "output_type": "stream",
     "text": [
      "100%|███████████████████████████████████████████████████████████████████████████████████████████████████████████████████████████████████████████| 2/2 [02:15<00:00, 67.55s/it]\n"
     ]
    },
    {
     "name": "stdout",
     "output_type": "stream",
     "text": [
      "Test Loss: 0.35337498784065247\n",
      "Group test Loss: 0.4772387929260731\n",
      "[24/96] Num Bins 10 Forget Lr: 0.01 Forget Iters: 5\n"
     ]
    },
    {
     "name": "stderr",
     "output_type": "stream",
     "text": [
      "100%|███████████████████████████████████████████████████████████████████████████████████████████████████████████████████████████████████████████| 2/2 [02:03<00:00, 61.61s/it]\n"
     ]
    },
    {
     "name": "stdout",
     "output_type": "stream",
     "text": [
      "Test Loss: 0.37646588683128357\n",
      "Group test Loss: 0.5295344740152359\n",
      "[25/96] Num Bins 25 Forget Lr: 0.0005 Forget Iters: 2\n"
     ]
    },
    {
     "name": "stderr",
     "output_type": "stream",
     "text": [
      "100%|███████████████████████████████████████████████████████████████████████████████████████████████████████████████████████████████████████████| 2/2 [02:15<00:00, 67.83s/it]\n"
     ]
    },
    {
     "name": "stdout",
     "output_type": "stream",
     "text": [
      "Test Loss: 0.2569482922554016\n",
      "Group test Loss: 0.30273132398724556\n",
      "[26/96] Num Bins 25 Forget Lr: 0.0005 Forget Iters: 5\n"
     ]
    },
    {
     "name": "stderr",
     "output_type": "stream",
     "text": [
      "100%|███████████████████████████████████████████████████████████████████████████████████████████████████████████████████████████████████████████| 2/2 [02:02<00:00, 61.42s/it]\n"
     ]
    },
    {
     "name": "stdout",
     "output_type": "stream",
     "text": [
      "Test Loss: 0.30630815029144287\n",
      "Group test Loss: 0.27958808839321136\n",
      "[27/96] Num Bins 25 Forget Lr: 0.0001 Forget Iters: 2\n"
     ]
    },
    {
     "name": "stderr",
     "output_type": "stream",
     "text": [
      "100%|███████████████████████████████████████████████████████████████████████████████████████████████████████████████████████████████████████████| 2/2 [02:14<00:00, 67.37s/it]\n"
     ]
    },
    {
     "name": "stdout",
     "output_type": "stream",
     "text": [
      "Test Loss: 0.24331523478031158\n",
      "Group test Loss: 0.33627354353666306\n",
      "[28/96] Num Bins 25 Forget Lr: 0.0001 Forget Iters: 5\n"
     ]
    },
    {
     "name": "stderr",
     "output_type": "stream",
     "text": [
      "100%|███████████████████████████████████████████████████████████████████████████████████████████████████████████████████████████████████████████| 2/2 [02:02<00:00, 61.31s/it]\n"
     ]
    },
    {
     "name": "stdout",
     "output_type": "stream",
     "text": [
      "Test Loss: 0.21980425715446472\n",
      "Group test Loss: 0.28906702995300293\n",
      "[29/96] Num Bins 25 Forget Lr: 0.005 Forget Iters: 2\n"
     ]
    },
    {
     "name": "stderr",
     "output_type": "stream",
     "text": [
      "100%|███████████████████████████████████████████████████████████████████████████████████████████████████████████████████████████████████████████| 2/2 [02:15<00:00, 67.74s/it]\n"
     ]
    },
    {
     "name": "stdout",
     "output_type": "stream",
     "text": [
      "Test Loss: 0.3200313448905945\n",
      "Group test Loss: 0.40216362848877907\n",
      "[30/96] Num Bins 25 Forget Lr: 0.005 Forget Iters: 5\n"
     ]
    },
    {
     "name": "stderr",
     "output_type": "stream",
     "text": [
      "100%|███████████████████████████████████████████████████████████████████████████████████████████████████████████████████████████████████████████| 2/2 [02:03<00:00, 61.58s/it]\n"
     ]
    },
    {
     "name": "stdout",
     "output_type": "stream",
     "text": [
      "Test Loss: 0.35843953490257263\n",
      "Group test Loss: 0.38370364904403687\n",
      "[31/96] Num Bins 25 Forget Lr: 0.001 Forget Iters: 2\n"
     ]
    },
    {
     "name": "stderr",
     "output_type": "stream",
     "text": [
      "100%|███████████████████████████████████████████████████████████████████████████████████████████████████████████████████████████████████████████| 2/2 [02:15<00:00, 67.85s/it]\n"
     ]
    },
    {
     "name": "stdout",
     "output_type": "stream",
     "text": [
      "Test Loss: 0.2751125693321228\n",
      "Group test Loss: 0.3611536994576454\n",
      "[32/96] Num Bins 25 Forget Lr: 0.001 Forget Iters: 5\n"
     ]
    },
    {
     "name": "stderr",
     "output_type": "stream",
     "text": [
      "100%|███████████████████████████████████████████████████████████████████████████████████████████████████████████████████████████████████████████| 2/2 [02:02<00:00, 61.48s/it]\n"
     ]
    },
    {
     "name": "stdout",
     "output_type": "stream",
     "text": [
      "Test Loss: 0.22426052391529083\n",
      "Group test Loss: 0.2986522801220417\n",
      "[33/96] Num Bins 25 Forget Lr: 0.05 Forget Iters: 2\n"
     ]
    },
    {
     "name": "stderr",
     "output_type": "stream",
     "text": [
      "100%|███████████████████████████████████████████████████████████████████████████████████████████████████████████████████████████████████████████| 2/2 [02:15<00:00, 67.55s/it]\n"
     ]
    },
    {
     "name": "stdout",
     "output_type": "stream",
     "text": [
      "Test Loss: 0.49911510944366455\n",
      "Group test Loss: 0.4320395179092884\n",
      "[34/96] Num Bins 25 Forget Lr: 0.05 Forget Iters: 5\n"
     ]
    },
    {
     "name": "stderr",
     "output_type": "stream",
     "text": [
      "100%|███████████████████████████████████████████████████████████████████████████████████████████████████████████████████████████████████████████| 2/2 [02:03<00:00, 61.54s/it]\n"
     ]
    },
    {
     "name": "stdout",
     "output_type": "stream",
     "text": [
      "Test Loss: 0.3650839328765869\n",
      "Group test Loss: 0.40251631289720535\n",
      "[35/96] Num Bins 25 Forget Lr: 0.01 Forget Iters: 2\n"
     ]
    },
    {
     "name": "stderr",
     "output_type": "stream",
     "text": [
      "100%|███████████████████████████████████████████████████████████████████████████████████████████████████████████████████████████████████████████| 2/2 [02:15<00:00, 67.57s/it]\n"
     ]
    },
    {
     "name": "stdout",
     "output_type": "stream",
     "text": [
      "Test Loss: 0.4356130063533783\n",
      "Group test Loss: 0.4550813138484955\n",
      "[36/96] Num Bins 25 Forget Lr: 0.01 Forget Iters: 5\n"
     ]
    },
    {
     "name": "stderr",
     "output_type": "stream",
     "text": [
      "100%|███████████████████████████████████████████████████████████████████████████████████████████████████████████████████████████████████████████| 2/2 [02:03<00:00, 61.59s/it]\n"
     ]
    },
    {
     "name": "stdout",
     "output_type": "stream",
     "text": [
      "Test Loss: 0.4078563451766968\n",
      "Group test Loss: 0.3783067762851715\n",
      "[37/96] Num Bins 30 Forget Lr: 0.0005 Forget Iters: 2\n"
     ]
    },
    {
     "name": "stderr",
     "output_type": "stream",
     "text": [
      "100%|███████████████████████████████████████████████████████████████████████████████████████████████████████████████████████████████████████████| 2/2 [02:15<00:00, 67.71s/it]\n"
     ]
    },
    {
     "name": "stdout",
     "output_type": "stream",
     "text": [
      "Test Loss: 0.23652984201908112\n",
      "Group test Loss: 0.29477087408304214\n",
      "[38/96] Num Bins 30 Forget Lr: 0.0005 Forget Iters: 5\n"
     ]
    },
    {
     "name": "stderr",
     "output_type": "stream",
     "text": [
      "100%|███████████████████████████████████████████████████████████████████████████████████████████████████████████████████████████████████████████| 2/2 [02:03<00:00, 61.75s/it]\n"
     ]
    },
    {
     "name": "stdout",
     "output_type": "stream",
     "text": [
      "Test Loss: 0.28725454211235046\n",
      "Group test Loss: 0.28409479930996895\n",
      "[39/96] Num Bins 30 Forget Lr: 0.0001 Forget Iters: 2\n"
     ]
    },
    {
     "name": "stderr",
     "output_type": "stream",
     "text": [
      "100%|███████████████████████████████████████████████████████████████████████████████████████████████████████████████████████████████████████████| 2/2 [02:15<00:00, 67.83s/it]\n"
     ]
    },
    {
     "name": "stdout",
     "output_type": "stream",
     "text": [
      "Test Loss: 0.21139927208423615\n",
      "Group test Loss: 0.2583431713283062\n",
      "[40/96] Num Bins 30 Forget Lr: 0.0001 Forget Iters: 5\n"
     ]
    },
    {
     "name": "stderr",
     "output_type": "stream",
     "text": [
      "100%|███████████████████████████████████████████████████████████████████████████████████████████████████████████████████████████████████████████| 2/2 [02:03<00:00, 61.68s/it]\n"
     ]
    },
    {
     "name": "stdout",
     "output_type": "stream",
     "text": [
      "Test Loss: 0.22551392018795013\n",
      "Group test Loss: 0.29024430364370346\n",
      "[41/96] Num Bins 30 Forget Lr: 0.005 Forget Iters: 2\n"
     ]
    },
    {
     "name": "stderr",
     "output_type": "stream",
     "text": [
      "100%|███████████████████████████████████████████████████████████████████████████████████████████████████████████████████████████████████████████| 2/2 [02:15<00:00, 67.63s/it]\n"
     ]
    },
    {
     "name": "stdout",
     "output_type": "stream",
     "text": [
      "Test Loss: 0.6149905920028687\n",
      "Group test Loss: 0.8951553851366043\n",
      "[42/96] Num Bins 30 Forget Lr: 0.005 Forget Iters: 5\n"
     ]
    },
    {
     "name": "stderr",
     "output_type": "stream",
     "text": [
      "100%|███████████████████████████████████████████████████████████████████████████████████████████████████████████████████████████████████████████| 2/2 [02:03<00:00, 61.81s/it]\n"
     ]
    },
    {
     "name": "stdout",
     "output_type": "stream",
     "text": [
      "Test Loss: 0.3242785632610321\n",
      "Group test Loss: 0.3648570291697979\n",
      "[43/96] Num Bins 30 Forget Lr: 0.001 Forget Iters: 2\n"
     ]
    },
    {
     "name": "stderr",
     "output_type": "stream",
     "text": [
      "100%|███████████████████████████████████████████████████████████████████████████████████████████████████████████████████████████████████████████| 2/2 [02:14<00:00, 67.50s/it]\n"
     ]
    },
    {
     "name": "stdout",
     "output_type": "stream",
     "text": [
      "Test Loss: 0.28683874011039734\n",
      "Group test Loss: 0.3451084643602371\n",
      "[44/96] Num Bins 30 Forget Lr: 0.001 Forget Iters: 5\n"
     ]
    },
    {
     "name": "stderr",
     "output_type": "stream",
     "text": [
      "100%|███████████████████████████████████████████████████████████████████████████████████████████████████████████████████████████████████████████| 2/2 [02:03<00:00, 61.57s/it]\n"
     ]
    },
    {
     "name": "stdout",
     "output_type": "stream",
     "text": [
      "Test Loss: 0.2794853150844574\n",
      "Group test Loss: 0.4013921953737736\n",
      "[45/96] Num Bins 30 Forget Lr: 0.05 Forget Iters: 2\n"
     ]
    },
    {
     "name": "stderr",
     "output_type": "stream",
     "text": [
      "100%|███████████████████████████████████████████████████████████████████████████████████████████████████████████████████████████████████████████| 2/2 [02:14<00:00, 67.17s/it]\n"
     ]
    },
    {
     "name": "stdout",
     "output_type": "stream",
     "text": [
      "Test Loss: 0.4053473472595215\n",
      "Group test Loss: 0.42108459770679474\n",
      "[46/96] Num Bins 30 Forget Lr: 0.05 Forget Iters: 5\n"
     ]
    },
    {
     "name": "stderr",
     "output_type": "stream",
     "text": [
      "100%|███████████████████████████████████████████████████████████████████████████████████████████████████████████████████████████████████████████| 2/2 [02:03<00:00, 61.53s/it]\n"
     ]
    },
    {
     "name": "stdout",
     "output_type": "stream",
     "text": [
      "Test Loss: 0.3873588740825653\n",
      "Group test Loss: 0.48018331453204155\n",
      "[47/96] Num Bins 30 Forget Lr: 0.01 Forget Iters: 2\n"
     ]
    },
    {
     "name": "stderr",
     "output_type": "stream",
     "text": [
      "100%|███████████████████████████████████████████████████████████████████████████████████████████████████████████████████████████████████████████| 2/2 [02:14<00:00, 67.36s/it]\n"
     ]
    },
    {
     "name": "stdout",
     "output_type": "stream",
     "text": [
      "Test Loss: 0.3281053900718689\n",
      "Group test Loss: 0.43762899935245514\n",
      "[48/96] Num Bins 30 Forget Lr: 0.01 Forget Iters: 5\n"
     ]
    },
    {
     "name": "stderr",
     "output_type": "stream",
     "text": [
      "100%|███████████████████████████████████████████████████████████████████████████████████████████████████████████████████████████████████████████| 2/2 [02:02<00:00, 61.42s/it]\n"
     ]
    },
    {
     "name": "stdout",
     "output_type": "stream",
     "text": [
      "Test Loss: 0.3573054373264313\n",
      "Group test Loss: 0.37536972016096115\n",
      "[49/96] Num Bins 50 Forget Lr: 0.0005 Forget Iters: 2\n"
     ]
    },
    {
     "name": "stderr",
     "output_type": "stream",
     "text": [
      "100%|███████████████████████████████████████████████████████████████████████████████████████████████████████████████████████████████████████████| 2/2 [02:15<00:00, 67.71s/it]\n"
     ]
    },
    {
     "name": "stdout",
     "output_type": "stream",
     "text": [
      "Test Loss: 0.2466297149658203\n",
      "Group test Loss: 0.3106161765754223\n",
      "[50/96] Num Bins 50 Forget Lr: 0.0005 Forget Iters: 5\n"
     ]
    },
    {
     "name": "stderr",
     "output_type": "stream",
     "text": [
      "100%|███████████████████████████████████████████████████████████████████████████████████████████████████████████████████████████████████████████| 2/2 [02:02<00:00, 61.49s/it]\n"
     ]
    },
    {
     "name": "stdout",
     "output_type": "stream",
     "text": [
      "Test Loss: 0.24155837297439575\n",
      "Group test Loss: 0.28284284472465515\n",
      "[51/96] Num Bins 50 Forget Lr: 0.0001 Forget Iters: 2\n"
     ]
    },
    {
     "name": "stderr",
     "output_type": "stream",
     "text": [
      "100%|███████████████████████████████████████████████████████████████████████████████████████████████████████████████████████████████████████████| 2/2 [02:14<00:00, 67.49s/it]\n"
     ]
    },
    {
     "name": "stdout",
     "output_type": "stream",
     "text": [
      "Test Loss: 0.24368080496788025\n",
      "Group test Loss: 0.30703896284103394\n",
      "[52/96] Num Bins 50 Forget Lr: 0.0001 Forget Iters: 5\n"
     ]
    },
    {
     "name": "stderr",
     "output_type": "stream",
     "text": [
      "100%|███████████████████████████████████████████████████████████████████████████████████████████████████████████████████████████████████████████| 2/2 [02:03<00:00, 61.75s/it]\n"
     ]
    },
    {
     "name": "stdout",
     "output_type": "stream",
     "text": [
      "Test Loss: 0.2424314171075821\n",
      "Group test Loss: 0.2913702465593815\n",
      "[53/96] Num Bins 50 Forget Lr: 0.005 Forget Iters: 2\n"
     ]
    },
    {
     "name": "stderr",
     "output_type": "stream",
     "text": [
      "100%|███████████████████████████████████████████████████████████████████████████████████████████████████████████████████████████████████████████| 2/2 [02:15<00:00, 67.77s/it]\n"
     ]
    },
    {
     "name": "stdout",
     "output_type": "stream",
     "text": [
      "Test Loss: 0.3326539397239685\n",
      "Group test Loss: 0.4549136236310005\n",
      "[54/96] Num Bins 50 Forget Lr: 0.005 Forget Iters: 5\n"
     ]
    },
    {
     "name": "stderr",
     "output_type": "stream",
     "text": [
      "100%|███████████████████████████████████████████████████████████████████████████████████████████████████████████████████████████████████████████| 2/2 [02:03<00:00, 61.52s/it]\n"
     ]
    },
    {
     "name": "stdout",
     "output_type": "stream",
     "text": [
      "Test Loss: 0.3726738691329956\n",
      "Group test Loss: 0.3636140376329422\n",
      "[55/96] Num Bins 50 Forget Lr: 0.001 Forget Iters: 2\n"
     ]
    },
    {
     "name": "stderr",
     "output_type": "stream",
     "text": [
      "100%|███████████████████████████████████████████████████████████████████████████████████████████████████████████████████████████████████████████| 2/2 [02:15<00:00, 67.61s/it]\n"
     ]
    },
    {
     "name": "stdout",
     "output_type": "stream",
     "text": [
      "Test Loss: 0.2753400504589081\n",
      "Group test Loss: 0.3862846903502941\n",
      "[56/96] Num Bins 50 Forget Lr: 0.001 Forget Iters: 5\n"
     ]
    },
    {
     "name": "stderr",
     "output_type": "stream",
     "text": [
      "100%|███████████████████████████████████████████████████████████████████████████████████████████████████████████████████████████████████████████| 2/2 [02:03<00:00, 61.60s/it]\n"
     ]
    },
    {
     "name": "stdout",
     "output_type": "stream",
     "text": [
      "Test Loss: 0.27850839495658875\n",
      "Group test Loss: 0.3139261044561863\n",
      "[57/96] Num Bins 50 Forget Lr: 0.05 Forget Iters: 2\n"
     ]
    },
    {
     "name": "stderr",
     "output_type": "stream",
     "text": [
      "100%|███████████████████████████████████████████████████████████████████████████████████████████████████████████████████████████████████████████| 2/2 [02:14<00:00, 67.11s/it]\n"
     ]
    },
    {
     "name": "stdout",
     "output_type": "stream",
     "text": [
      "Test Loss: 0.3600032925605774\n",
      "Group test Loss: 0.38190098106861115\n",
      "[58/96] Num Bins 50 Forget Lr: 0.05 Forget Iters: 5\n"
     ]
    },
    {
     "name": "stderr",
     "output_type": "stream",
     "text": [
      "100%|███████████████████████████████████████████████████████████████████████████████████████████████████████████████████████████████████████████| 2/2 [02:02<00:00, 61.26s/it]\n"
     ]
    },
    {
     "name": "stdout",
     "output_type": "stream",
     "text": [
      "Test Loss: 0.34610527753829956\n",
      "Group test Loss: 0.3806471601128578\n",
      "[59/96] Num Bins 50 Forget Lr: 0.01 Forget Iters: 2\n"
     ]
    },
    {
     "name": "stderr",
     "output_type": "stream",
     "text": [
      "100%|███████████████████████████████████████████████████████████████████████████████████████████████████████████████████████████████████████████| 2/2 [02:15<00:00, 67.51s/it]\n"
     ]
    },
    {
     "name": "stdout",
     "output_type": "stream",
     "text": [
      "Test Loss: 0.3872981369495392\n",
      "Group test Loss: 0.5725775398313999\n",
      "[60/96] Num Bins 50 Forget Lr: 0.01 Forget Iters: 5\n"
     ]
    },
    {
     "name": "stderr",
     "output_type": "stream",
     "text": [
      "100%|███████████████████████████████████████████████████████████████████████████████████████████████████████████████████████████████████████████| 2/2 [02:03<00:00, 61.74s/it]\n"
     ]
    },
    {
     "name": "stdout",
     "output_type": "stream",
     "text": [
      "Test Loss: 0.36093437671661377\n",
      "Group test Loss: 0.41227079182863235\n",
      "[61/96] Num Bins 75 Forget Lr: 0.0005 Forget Iters: 2\n"
     ]
    },
    {
     "name": "stderr",
     "output_type": "stream",
     "text": [
      "100%|███████████████████████████████████████████████████████████████████████████████████████████████████████████████████████████████████████████| 2/2 [02:15<00:00, 67.89s/it]\n"
     ]
    },
    {
     "name": "stdout",
     "output_type": "stream",
     "text": [
      "Test Loss: 0.3003681004047394\n",
      "Group test Loss: 0.42922215908765793\n",
      "[62/96] Num Bins 75 Forget Lr: 0.0005 Forget Iters: 5\n"
     ]
    },
    {
     "name": "stderr",
     "output_type": "stream",
     "text": [
      "100%|███████████████████████████████████████████████████████████████████████████████████████████████████████████████████████████████████████████| 2/2 [02:02<00:00, 61.49s/it]\n"
     ]
    },
    {
     "name": "stdout",
     "output_type": "stream",
     "text": [
      "Test Loss: 0.28821176290512085\n",
      "Group test Loss: 0.4218018017709255\n",
      "[63/96] Num Bins 75 Forget Lr: 0.0001 Forget Iters: 2\n"
     ]
    },
    {
     "name": "stderr",
     "output_type": "stream",
     "text": [
      "100%|███████████████████████████████████████████████████████████████████████████████████████████████████████████████████████████████████████████| 2/2 [02:16<00:00, 68.01s/it]\n"
     ]
    },
    {
     "name": "stdout",
     "output_type": "stream",
     "text": [
      "Test Loss: 0.2413598895072937\n",
      "Group test Loss: 0.279454305768013\n",
      "[64/96] Num Bins 75 Forget Lr: 0.0001 Forget Iters: 5\n"
     ]
    },
    {
     "name": "stderr",
     "output_type": "stream",
     "text": [
      "100%|███████████████████████████████████████████████████████████████████████████████████████████████████████████████████████████████████████████| 2/2 [02:03<00:00, 61.96s/it]\n"
     ]
    },
    {
     "name": "stdout",
     "output_type": "stream",
     "text": [
      "Test Loss: 0.24109169840812683\n",
      "Group test Loss: 0.3296649716794491\n",
      "[65/96] Num Bins 75 Forget Lr: 0.005 Forget Iters: 2\n"
     ]
    },
    {
     "name": "stderr",
     "output_type": "stream",
     "text": [
      "100%|███████████████████████████████████████████████████████████████████████████████████████████████████████████████████████████████████████████| 2/2 [02:15<00:00, 67.80s/it]\n"
     ]
    },
    {
     "name": "stdout",
     "output_type": "stream",
     "text": [
      "Test Loss: 0.41497981548309326\n",
      "Group test Loss: 0.3788731135427952\n",
      "[66/96] Num Bins 75 Forget Lr: 0.005 Forget Iters: 5\n"
     ]
    },
    {
     "name": "stderr",
     "output_type": "stream",
     "text": [
      "100%|███████████████████████████████████████████████████████████████████████████████████████████████████████████████████████████████████████████| 2/2 [02:02<00:00, 61.33s/it]\n"
     ]
    },
    {
     "name": "stdout",
     "output_type": "stream",
     "text": [
      "Test Loss: 0.3396545946598053\n",
      "Group test Loss: 0.4799282178282738\n",
      "[67/96] Num Bins 75 Forget Lr: 0.001 Forget Iters: 2\n"
     ]
    },
    {
     "name": "stderr",
     "output_type": "stream",
     "text": [
      "100%|███████████████████████████████████████████████████████████████████████████████████████████████████████████████████████████████████████████| 2/2 [02:15<00:00, 67.65s/it]\n"
     ]
    },
    {
     "name": "stdout",
     "output_type": "stream",
     "text": [
      "Test Loss: 0.35549023747444153\n",
      "Group test Loss: 0.5048592500388622\n",
      "[68/96] Num Bins 75 Forget Lr: 0.001 Forget Iters: 5\n"
     ]
    },
    {
     "name": "stderr",
     "output_type": "stream",
     "text": [
      "100%|███████████████████████████████████████████████████████████████████████████████████████████████████████████████████████████████████████████| 2/2 [02:03<00:00, 61.68s/it]\n"
     ]
    },
    {
     "name": "stdout",
     "output_type": "stream",
     "text": [
      "Test Loss: 0.2669435441493988\n",
      "Group test Loss: 0.2728160284459591\n",
      "[69/96] Num Bins 75 Forget Lr: 0.05 Forget Iters: 2\n"
     ]
    },
    {
     "name": "stderr",
     "output_type": "stream",
     "text": [
      "100%|███████████████████████████████████████████████████████████████████████████████████████████████████████████████████████████████████████████| 2/2 [02:15<00:00, 67.94s/it]\n"
     ]
    },
    {
     "name": "stdout",
     "output_type": "stream",
     "text": [
      "Test Loss: 0.4405328929424286\n",
      "Group test Loss: 0.4030482694506645\n",
      "[70/96] Num Bins 75 Forget Lr: 0.05 Forget Iters: 5\n"
     ]
    },
    {
     "name": "stderr",
     "output_type": "stream",
     "text": [
      "100%|███████████████████████████████████████████████████████████████████████████████████████████████████████████████████████████████████████████| 2/2 [02:03<00:00, 61.67s/it]\n"
     ]
    },
    {
     "name": "stdout",
     "output_type": "stream",
     "text": [
      "Test Loss: 0.3965228796005249\n",
      "Group test Loss: 0.4076014757156372\n",
      "[71/96] Num Bins 75 Forget Lr: 0.01 Forget Iters: 2\n"
     ]
    },
    {
     "name": "stderr",
     "output_type": "stream",
     "text": [
      "100%|███████████████████████████████████████████████████████████████████████████████████████████████████████████████████████████████████████████| 2/2 [02:15<00:00, 67.80s/it]\n"
     ]
    },
    {
     "name": "stdout",
     "output_type": "stream",
     "text": [
      "Test Loss: 0.3720950484275818\n",
      "Group test Loss: 0.40529679507017136\n",
      "[72/96] Num Bins 75 Forget Lr: 0.01 Forget Iters: 5\n"
     ]
    },
    {
     "name": "stderr",
     "output_type": "stream",
     "text": [
      "100%|███████████████████████████████████████████████████████████████████████████████████████████████████████████████████████████████████████████| 2/2 [02:03<00:00, 61.64s/it]\n"
     ]
    },
    {
     "name": "stdout",
     "output_type": "stream",
     "text": [
      "Test Loss: 0.3521541357040405\n",
      "Group test Loss: 0.37534307688474655\n",
      "[73/96] Num Bins 90 Forget Lr: 0.0005 Forget Iters: 2\n"
     ]
    },
    {
     "name": "stderr",
     "output_type": "stream",
     "text": [
      "100%|███████████████████████████████████████████████████████████████████████████████████████████████████████████████████████████████████████████| 2/2 [02:16<00:00, 68.02s/it]\n"
     ]
    },
    {
     "name": "stdout",
     "output_type": "stream",
     "text": [
      "Test Loss: 0.24122145771980286\n",
      "Group test Loss: 0.31482479721307755\n",
      "[74/96] Num Bins 90 Forget Lr: 0.0005 Forget Iters: 5\n"
     ]
    },
    {
     "name": "stderr",
     "output_type": "stream",
     "text": [
      "100%|███████████████████████████████████████████████████████████████████████████████████████████████████████████████████████████████████████████| 2/2 [02:03<00:00, 61.51s/it]\n"
     ]
    },
    {
     "name": "stdout",
     "output_type": "stream",
     "text": [
      "Test Loss: 0.22036181390285492\n",
      "Group test Loss: 0.2972271740436554\n",
      "[75/96] Num Bins 90 Forget Lr: 0.0001 Forget Iters: 2\n"
     ]
    },
    {
     "name": "stderr",
     "output_type": "stream",
     "text": [
      "100%|███████████████████████████████████████████████████████████████████████████████████████████████████████████████████████████████████████████| 2/2 [02:15<00:00, 67.61s/it]\n"
     ]
    },
    {
     "name": "stdout",
     "output_type": "stream",
     "text": [
      "Test Loss: 0.2368113249540329\n",
      "Group test Loss: 0.3430846966803074\n",
      "[76/96] Num Bins 90 Forget Lr: 0.0001 Forget Iters: 5\n"
     ]
    },
    {
     "name": "stderr",
     "output_type": "stream",
     "text": [
      "100%|███████████████████████████████████████████████████████████████████████████████████████████████████████████████████████████████████████████| 2/2 [02:03<00:00, 61.65s/it]\n"
     ]
    },
    {
     "name": "stdout",
     "output_type": "stream",
     "text": [
      "Test Loss: 0.21449533104896545\n",
      "Group test Loss: 0.24992743134498596\n",
      "[77/96] Num Bins 90 Forget Lr: 0.005 Forget Iters: 2\n"
     ]
    },
    {
     "name": "stderr",
     "output_type": "stream",
     "text": [
      "100%|███████████████████████████████████████████████████████████████████████████████████████████████████████████████████████████████████████████| 2/2 [02:15<00:00, 67.62s/it]\n"
     ]
    },
    {
     "name": "stdout",
     "output_type": "stream",
     "text": [
      "Test Loss: 0.34737738966941833\n",
      "Group test Loss: 0.43934420496225357\n",
      "[78/96] Num Bins 90 Forget Lr: 0.005 Forget Iters: 5\n"
     ]
    },
    {
     "name": "stderr",
     "output_type": "stream",
     "text": [
      "100%|███████████████████████████████████████████████████████████████████████████████████████████████████████████████████████████████████████████| 2/2 [02:03<00:00, 61.50s/it]\n"
     ]
    },
    {
     "name": "stdout",
     "output_type": "stream",
     "text": [
      "Test Loss: 0.3751927316188812\n",
      "Group test Loss: 0.5349536724388599\n",
      "[79/96] Num Bins 90 Forget Lr: 0.001 Forget Iters: 2\n"
     ]
    },
    {
     "name": "stderr",
     "output_type": "stream",
     "text": [
      "100%|███████████████████████████████████████████████████████████████████████████████████████████████████████████████████████████████████████████| 2/2 [02:15<00:00, 67.80s/it]\n"
     ]
    },
    {
     "name": "stdout",
     "output_type": "stream",
     "text": [
      "Test Loss: 0.2630927264690399\n",
      "Group test Loss: 0.2994690015912056\n",
      "[80/96] Num Bins 90 Forget Lr: 0.001 Forget Iters: 5\n"
     ]
    },
    {
     "name": "stderr",
     "output_type": "stream",
     "text": [
      "100%|███████████████████████████████████████████████████████████████████████████████████████████████████████████████████████████████████████████| 2/2 [02:02<00:00, 61.20s/it]\n"
     ]
    },
    {
     "name": "stdout",
     "output_type": "stream",
     "text": [
      "Test Loss: 0.2767171263694763\n",
      "Group test Loss: 0.3834685981273651\n",
      "[81/96] Num Bins 90 Forget Lr: 0.05 Forget Iters: 2\n"
     ]
    },
    {
     "name": "stderr",
     "output_type": "stream",
     "text": [
      "100%|███████████████████████████████████████████████████████████████████████████████████████████████████████████████████████████████████████████| 2/2 [02:15<00:00, 67.67s/it]\n"
     ]
    },
    {
     "name": "stdout",
     "output_type": "stream",
     "text": [
      "Test Loss: 0.4382436275482178\n",
      "Group test Loss: 0.41287364810705185\n",
      "[82/96] Num Bins 90 Forget Lr: 0.05 Forget Iters: 5\n"
     ]
    },
    {
     "name": "stderr",
     "output_type": "stream",
     "text": [
      "100%|███████████████████████████████████████████████████████████████████████████████████████████████████████████████████████████████████████████| 2/2 [02:03<00:00, 61.72s/it]\n"
     ]
    },
    {
     "name": "stdout",
     "output_type": "stream",
     "text": [
      "Test Loss: 0.404305636882782\n",
      "Group test Loss: 0.5906520634889603\n",
      "[83/96] Num Bins 90 Forget Lr: 0.01 Forget Iters: 2\n"
     ]
    },
    {
     "name": "stderr",
     "output_type": "stream",
     "text": [
      "100%|███████████████████████████████████████████████████████████████████████████████████████████████████████████████████████████████████████████| 2/2 [02:15<00:00, 67.63s/it]\n"
     ]
    },
    {
     "name": "stdout",
     "output_type": "stream",
     "text": [
      "Test Loss: 0.5087875127792358\n",
      "Group test Loss: 0.7734473496675491\n",
      "[84/96] Num Bins 90 Forget Lr: 0.01 Forget Iters: 5\n"
     ]
    },
    {
     "name": "stderr",
     "output_type": "stream",
     "text": [
      "100%|███████████████████████████████████████████████████████████████████████████████████████████████████████████████████████████████████████████| 2/2 [02:03<00:00, 61.72s/it]\n"
     ]
    },
    {
     "name": "stdout",
     "output_type": "stream",
     "text": [
      "Test Loss: 0.3525344729423523\n",
      "Group test Loss: 0.4518602825701237\n",
      "[85/96] Num Bins 100 Forget Lr: 0.0005 Forget Iters: 2\n"
     ]
    },
    {
     "name": "stderr",
     "output_type": "stream",
     "text": [
      "100%|███████████████████████████████████████████████████████████████████████████████████████████████████████████████████████████████████████████| 2/2 [02:15<00:00, 67.97s/it]\n"
     ]
    },
    {
     "name": "stdout",
     "output_type": "stream",
     "text": [
      "Test Loss: 0.32178378105163574\n",
      "Group test Loss: 0.43570125102996826\n",
      "[86/96] Num Bins 100 Forget Lr: 0.0005 Forget Iters: 5\n"
     ]
    },
    {
     "name": "stderr",
     "output_type": "stream",
     "text": [
      "100%|███████████████████████████████████████████████████████████████████████████████████████████████████████████████████████████████████████████| 2/2 [02:03<00:00, 61.60s/it]\n"
     ]
    },
    {
     "name": "stdout",
     "output_type": "stream",
     "text": [
      "Test Loss: 0.24686460196971893\n",
      "Group test Loss: 0.32405051961541176\n",
      "[87/96] Num Bins 100 Forget Lr: 0.0001 Forget Iters: 2\n"
     ]
    },
    {
     "name": "stderr",
     "output_type": "stream",
     "text": [
      "100%|███████████████████████████████████████████████████████████████████████████████████████████████████████████████████████████████████████████| 2/2 [02:16<00:00, 68.20s/it]\n"
     ]
    },
    {
     "name": "stdout",
     "output_type": "stream",
     "text": [
      "Test Loss: 0.25811517238616943\n",
      "Group test Loss: 0.26155733317136765\n",
      "[88/96] Num Bins 100 Forget Lr: 0.0001 Forget Iters: 5\n"
     ]
    },
    {
     "name": "stderr",
     "output_type": "stream",
     "text": [
      "100%|███████████████████████████████████████████████████████████████████████████████████████████████████████████████████████████████████████████| 2/2 [02:03<00:00, 61.75s/it]\n"
     ]
    },
    {
     "name": "stdout",
     "output_type": "stream",
     "text": [
      "Test Loss: 0.25150230526924133\n",
      "Group test Loss: 0.2879920192062855\n",
      "[89/96] Num Bins 100 Forget Lr: 0.005 Forget Iters: 2\n"
     ]
    },
    {
     "name": "stderr",
     "output_type": "stream",
     "text": [
      "100%|███████████████████████████████████████████████████████████████████████████████████████████████████████████████████████████████████████████| 2/2 [02:16<00:00, 68.16s/it]\n"
     ]
    },
    {
     "name": "stdout",
     "output_type": "stream",
     "text": [
      "Test Loss: 0.3658701777458191\n",
      "Group test Loss: 0.3592746630311012\n",
      "[90/96] Num Bins 100 Forget Lr: 0.005 Forget Iters: 5\n"
     ]
    },
    {
     "name": "stderr",
     "output_type": "stream",
     "text": [
      "100%|███████████████████████████████████████████████████████████████████████████████████████████████████████████████████████████████████████████| 2/2 [02:03<00:00, 61.86s/it]\n"
     ]
    },
    {
     "name": "stdout",
     "output_type": "stream",
     "text": [
      "Test Loss: 0.3387845754623413\n",
      "Group test Loss: 0.4883575774729252\n",
      "[91/96] Num Bins 100 Forget Lr: 0.001 Forget Iters: 2\n"
     ]
    },
    {
     "name": "stderr",
     "output_type": "stream",
     "text": [
      "100%|███████████████████████████████████████████████████████████████████████████████████████████████████████████████████████████████████████████| 2/2 [02:16<00:00, 68.19s/it]\n"
     ]
    },
    {
     "name": "stdout",
     "output_type": "stream",
     "text": [
      "Test Loss: 0.27856525778770447\n",
      "Group test Loss: 0.3859102874994278\n",
      "[92/96] Num Bins 100 Forget Lr: 0.001 Forget Iters: 5\n"
     ]
    },
    {
     "name": "stderr",
     "output_type": "stream",
     "text": [
      "100%|███████████████████████████████████████████████████████████████████████████████████████████████████████████████████████████████████████████| 2/2 [02:03<00:00, 61.60s/it]\n"
     ]
    },
    {
     "name": "stdout",
     "output_type": "stream",
     "text": [
      "Test Loss: 0.26226964592933655\n",
      "Group test Loss: 0.2926941253244877\n",
      "[93/96] Num Bins 100 Forget Lr: 0.05 Forget Iters: 2\n"
     ]
    },
    {
     "name": "stderr",
     "output_type": "stream",
     "text": [
      "100%|███████████████████████████████████████████████████████████████████████████████████████████████████████████████████████████████████████████| 2/2 [02:15<00:00, 67.76s/it]\n"
     ]
    },
    {
     "name": "stdout",
     "output_type": "stream",
     "text": [
      "Test Loss: 0.40119898319244385\n",
      "Group test Loss: 0.6054722219705582\n",
      "[94/96] Num Bins 100 Forget Lr: 0.05 Forget Iters: 5\n"
     ]
    },
    {
     "name": "stderr",
     "output_type": "stream",
     "text": [
      "100%|███████████████████████████████████████████████████████████████████████████████████████████████████████████████████████████████████████████| 2/2 [02:03<00:00, 61.64s/it]\n"
     ]
    },
    {
     "name": "stdout",
     "output_type": "stream",
     "text": [
      "Test Loss: 0.3887683153152466\n",
      "Group test Loss: 0.5140718519687653\n",
      "[95/96] Num Bins 100 Forget Lr: 0.01 Forget Iters: 2\n"
     ]
    },
    {
     "name": "stderr",
     "output_type": "stream",
     "text": [
      "100%|███████████████████████████████████████████████████████████████████████████████████████████████████████████████████████████████████████████| 2/2 [02:16<00:00, 68.10s/it]\n"
     ]
    },
    {
     "name": "stdout",
     "output_type": "stream",
     "text": [
      "Test Loss: 0.35695770382881165\n",
      "Group test Loss: 0.36685699969530106\n",
      "[96/96] Num Bins 100 Forget Lr: 0.01 Forget Iters: 5\n"
     ]
    },
    {
     "name": "stderr",
     "output_type": "stream",
     "text": [
      "100%|███████████████████████████████████████████████████████████████████████████████████████████████████████████████████████████████████████████| 2/2 [02:04<00:00, 62.10s/it]\n"
     ]
    },
    {
     "name": "stdout",
     "output_type": "stream",
     "text": [
      "Test Loss: 0.34813329577445984\n",
      "Group test Loss: 0.38386673480272293\n",
      "Test Loss Hyperparameters:\n",
      "Best num_bins : 30 Best Forget LR: 0.0001 Best Forget Iter: 2\n",
      "Group Loss Hyperparameters: \n",
      "Best num_bins : 90 Best Forget LR: 0.0001 Best Forget Iter: 5\n"
     ]
    }
   ],
   "source": [
    "# Hyper parameter tuning\n",
    "num_bins = [2, 10, 25, 30, 50, 75, 90, 100]\n",
    "forget_lrs = [5e-4, 1e-4, 5e-3, 1e-3, 5e-2, 1e-2]\n",
    "forget_iters = [2, 5]\n",
    "\n",
    "test_losses = np.zeros((len(num_bins), len(forget_lrs), len(forget_iters)))\n",
    "grp_test_losses = np.zeros((len(num_bins), len(forget_lrs), len(forget_iters)))\n",
    "\n",
    "for i in range(len(num_bins)):\n",
    "    for j in range(len(forget_lrs)):\n",
    "        for k in range(len(forget_iters)):\n",
    "            print(f\"[{i*(len(forget_lrs) * len(forget_iters)) + j*(len(forget_iters)) + k + 1}/{len(num_bins) * len(forget_lrs)* len(forget_iters)}] Num Bins {num_bins[i]} Forget Lr: {forget_lrs[j]} Forget Iters: {forget_iters[k]}\")\n",
    "            model = SiFer_ord(x.shape, 1, aux_kernels = [128, 128], layers = [5, 4], num_bins = num_bins[i]).to(device)\n",
    "            model, train_loss, val_loss,_, _ = train_fs_ord(model, train_dataloader, valid_dataloader, 5, num_bins = num_bins[i], forget_iters = forget_iters[k], lrs = [5e-4, 5e-4, forget_lrs[j]], epochs = 2, verbose = False)\n",
    "            test_loss = eval_FSModel(model, valid_dataloader)\n",
    "            print(f\"Test Loss: {test_loss}\")\n",
    "            group_loss, _ =group_eval_fs(model, group_val_dataloaders)\n",
    "\n",
    "            test_losses[i,j,k] = test_loss\n",
    "            grp_test_losses[i,j,k] = group_loss\n",
    "\n",
    "best_num_bins_ord, best_forget_lr_ord, best_forget_iter_ord = np.unravel_index(np.argmin(test_losses), test_losses.shape)\n",
    "best_num_bins_ord_grp, best_forget_lr_ord_grp, best_forget_iter_ord_grp = np.unravel_index(np.argmin(grp_test_losses), test_losses.shape)\n",
    "\n",
    "print(\"Test Loss Hyperparameters:\")\n",
    "print(f\"Best num_bins : {num_bins[best_num_bins_ord]} Best Forget LR: {forget_lrs[best_forget_lr_ord]} Best Forget Iter: {forget_iters[best_forget_iter_ord]}\")\n",
    "print(\"Group Loss Hyperparameters: \")\n",
    "print(f\"Best num_bins : {num_bins[best_num_bins_ord_grp]} Best Forget LR: {forget_lrs[best_forget_lr_ord_grp]} Best Forget Iter: {forget_iters[best_forget_iter_ord_grp]}\")"
   ]
  },
  {
   "cell_type": "code",
   "execution_count": 21,
   "id": "58a86d67-af05-4897-867d-e0057a87510d",
   "metadata": {},
   "outputs": [
    {
     "name": "stderr",
     "output_type": "stream",
     "text": [
      "100%|███████████████████████████████████████████████████████████████████████████████████████████████████████████████████████████████████████████| 5/5 [05:10<00:00, 62.04s/it]\n"
     ]
    },
    {
     "name": "stdout",
     "output_type": "stream",
     "text": [
      "Test Loss: 0.22614705562591553\n",
      "Group test Loss: 0.2362622134387493\n"
     ]
    }
   ],
   "source": [
    "num_bins = [2, 10, 25, 30, 50, 75, 90, 100]\n",
    "forget_lrs = [5e-4, 1e-4, 5e-3, 1e-3, 5e-2, 1e-2]\n",
    "forget_iters = [2, 5]\n",
    "best_num_bins_ord_grp, best_forget_lr_ord_grp, best_forget_iter_ord_grp = num_bins.index(100), forget_lrs.index(0.0005), forget_iters.index(5)\n",
    "\n",
    "sifer_ord = SiFer_ord(x.shape, 1, aux_kernels = [128, 128], layers = [5, 4], num_bins = num_bins[best_num_bins_ord_grp]).to(device)\n",
    "sifer_ord, train_loss, val_loss,_, _ = train_fs_ord(sifer_ord, train_dataloader, valid_dataloader, 5, num_bins = num_bins[best_num_bins_ord_grp], forget_iters = forget_iters[best_forget_iter_ord_grp], lrs = [5e-4, 5e-4, forget_lrs[best_forget_lr_ord_grp]], epochs = 5, verbose = False)\n",
    "test_loss_ord = eval_FSModel(sifer_ord, test_dataloader)\n",
    "print(f\"Test Loss: {test_loss_ord}\")\n",
    "group_loss_ord, groups_ord =group_eval_fs(sifer_ord, group_test_dataloaders)"
   ]
  },
  {
   "cell_type": "markdown",
   "id": "cd1fe041-fc09-45e6-b2f6-67265a6dd160",
   "metadata": {},
   "source": [
    "## Comparison of the models"
   ]
  },
  {
   "cell_type": "code",
   "execution_count": 22,
   "id": "ce62b7f8-0c50-499d-a79a-ac63013e5a67",
   "metadata": {},
   "outputs": [],
   "source": [
    "def bar_plot(names, dict_values, xlabel, ylabel, title, name):\n",
    "    x = np.arange(len(names))\n",
    "    width = 0.2\n",
    "    multiplier = 0\n",
    "    plt.rcParams[\"figure.figsize\"] = (6,6)\n",
    "    fig, ax = plt.subplots(layout=\"constrained\")\n",
    "    \n",
    "    for model_type, test_loss in dict_values.items():\n",
    "      offset = width*multiplier\n",
    "      rects = ax.bar(x + offset, test_loss, width, label=model_type)\n",
    "      ax.bar_label(rects, padding=3)\n",
    "      multiplier += 1\n",
    "    \n",
    "    ax.set_ylabel(ylabel)\n",
    "    ax.set_xlabel(xlabel)\n",
    "    ax.set_xticks(x+ width, names)\n",
    "    ax.legend(loc=\"upper right\")\n",
    "    plt.title(title)\n",
    "    plt.show()"
   ]
  },
  {
   "cell_type": "code",
   "execution_count": 23,
   "id": "adbf7fef-899a-4f25-9228-343e34f4cf8c",
   "metadata": {},
   "outputs": [
    {
     "data": {
      "image/png": "[encoded data removed]",
      "text/plain": [
       "<Figure size 600x600 with 1 Axes>"
      ]
     },
     "metadata": {},
     "output_type": "display_data"
    }
   ],
   "source": [
    "datasets = ['Complete Dataset']\n",
    "\n",
    "test_losses = {\n",
    "    \"Resnet34\": [test_loss_cnn],\n",
    "    \"Margin Forgetting Loss\": [test_loss_mar], \n",
    "    \"Cross Entropy Forgetting Loss\": [test_loss_ce],\n",
    "    \"Ordinal Forgetting Loss\": [test_loss_ord]\n",
    "}\n",
    "\n",
    "bar_plot(datasets, test_losses, \"Datasets\", \"MSE Loss\", \"Test loss\", 'test_losses')"
   ]
  },
  {
   "cell_type": "code",
   "execution_count": 24,
   "id": "367a3a34-76f6-471e-9fa3-869c8ed002a6",
   "metadata": {},
   "outputs": [
    {
     "data": {
      "image/png": "[encoded data removed]",
      "text/plain": [
       "<Figure size 600x600 with 1 Axes>"
      ]
     },
     "metadata": {},
     "output_type": "display_data"
    }
   ],
   "source": [
    "datasets = ['Complete Dataset']\n",
    "\n",
    "test_losses = {\n",
    "    \"Resnet34\": [group_tst_loss_cnn],\n",
    "    \"Margin Forgetting Loss\": [group_tst_loss_mar], \n",
    "    \"Cross Entropy Forgetting Loss\": [group_loss_ce],\n",
    "    \"Ordinal Forgetting Loss\": [group_loss_ord]\n",
    "}\n",
    "\n",
    "bar_plot(datasets, test_losses, \"Datasets\", \"MSE Loss\", \"Average Group loss\", 'grp_test_losses')"
   ]
  },
  {
   "cell_type": "code",
   "execution_count": 25,
   "id": "61759492-f8ee-4fb3-acb2-f3ed4804cbd2",
   "metadata": {},
   "outputs": [
    {
     "data": {
      "image/png": "[encoded data removed]",
      "text/plain": [
       "<Figure size 600x600 with 1 Axes>"
      ]
     },
     "metadata": {},
     "output_type": "display_data"
    }
   ],
   "source": [
    "datasets = ['Complete Dataset']\n",
    "\n",
    "test_losses = {\n",
    "    \"Resnet34\": [groups_cnn['m b']],\n",
    "    \"Margin Forgetting Loss\": [groups_fs_mar['m b']], \n",
    "    \"Cross Entropy Forgetting Loss\": [groups_ce['m b']],\n",
    "    \"Ordinal Forgetting Loss\": [groups_ord['m b']]\n",
    "}\n",
    "\n",
    "bar_plot(datasets, test_losses, \"Datasets\", \"MSE Loss\", \"Group: Male > 2.5 loss\", 'test_losses')"
   ]
  },
  {
   "cell_type": "code",
   "execution_count": 26,
   "id": "8484c1d6-a142-4e6d-bc82-541de6bc502b",
   "metadata": {},
   "outputs": [
    {
     "data": {
      "image/png": "[encoded data removed]",
      "text/plain": [
       "<Figure size 600x600 with 1 Axes>"
      ]
     },
     "metadata": {},
     "output_type": "display_data"
    }
   ],
   "source": [
    "datasets = ['Complete Dataset']\n",
    "\n",
    "test_losses = {\n",
    "    \"Resnet34\": [groups_cnn['m u']],\n",
    "    \"Margin Forgetting Loss\": [groups_fs_mar['m u']], \n",
    "    \"Cross Entropy Forgetting Loss\": [groups_ce['m u']],\n",
    "    \"Ordinal Forgetting Loss\": [groups_ord['m u']]\n",
    "}\n",
    "\n",
    "bar_plot(datasets, test_losses, \"Datasets\", \"MSE Loss\", \"Group: Male < 2.5 loss\", 'test_losses')"
   ]
  },
  {
   "cell_type": "code",
   "execution_count": 27,
   "id": "a82df428-747b-46a2-8565-84fce51d2d1a",
   "metadata": {},
   "outputs": [
    {
     "data": {
      "image/png": "[encoded data removed]",
      "text/plain": [
       "<Figure size 600x600 with 1 Axes>"
      ]
     },
     "metadata": {},
     "output_type": "display_data"
    }
   ],
   "source": [
    "datasets = ['Complete Dataset']\n",
    "\n",
    "test_losses = {\n",
    "    \"Resnet34\": [groups_cnn['f b']],\n",
    "    \"Margin Forgetting Loss\": [groups_fs_mar['f b']], \n",
    "    \"Cross Entropy Forgetting Loss\": [groups_ce['f b']],\n",
    "    \"Ordinal Forgetting Loss\": [groups_ord['f b']]\n",
    "}\n",
    "\n",
    "bar_plot(datasets, test_losses, \"Datasets\", \"MSE Loss\", \"Group: Female > 2.5 loss\", 'test_losses')"
   ]
  },
  {
   "cell_type": "code",
   "execution_count": 28,
   "id": "2e00b75f-32b2-45d7-8d06-674f5b29137b",
   "metadata": {},
   "outputs": [
    {
     "data": {
      "image/png": "[encoded data removed]",
      "text/plain": [
       "<Figure size 600x600 with 1 Axes>"
      ]
     },
     "metadata": {},
     "output_type": "display_data"
    }
   ],
   "source": [
    "datasets = ['Complete Dataset']\n",
    "\n",
    "test_losses = {\n",
    "    \"Resnet34\": [groups_cnn['f u']],\n",
    "    \"Margin Forgetting Loss\": [groups_fs_mar['f u']], \n",
    "    \"Cross Entropy Forgetting Loss\": [groups_ce['f u']],\n",
    "    \"Ordinal Forgetting Loss\": [groups_ord['f u']]\n",
    "}\n",
    "\n",
    "bar_plot(datasets, test_losses, \"Datasets\", \"MSE Loss\", \"Group: Female < 2.5 loss\", 'test_losses')"
   ]
  }
 ],
 "metadata": {
  "kernelspec": {
   "display_name": "Python 3 (ipykernel)",
   "language": "python",
   "name": "python3"
  },
  "language_info": {
   "codemirror_mode": {
    "name": "ipython",
    "version": 3
   },
   "file_extension": ".py",
   "mimetype": "text/x-python",
   "name": "python",
   "nbconvert_exporter": "python",
   "pygments_lexer": "ipython3",
   "version": "3.11.5"
  }
 },
 "nbformat": 4,
 "nbformat_minor": 5
}
