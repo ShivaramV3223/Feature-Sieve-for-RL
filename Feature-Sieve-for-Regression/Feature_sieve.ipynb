{
 "cells": [
  {
   "cell_type": "markdown",
   "id": "ac563854-28fd-4d8b-8e5c-a7c719054939",
   "metadata": {},
   "source": [
    "# Feature Sieve\n",
    "## Dataset: CelebA"
   ]
  },
  {
   "cell_type": "code",
   "execution_count": 8,
   "id": "7dc8d922-663a-4f9c-a940-bbe838430e02",
   "metadata": {},
   "outputs": [],
   "source": [
    "import pandas as pd\n",
    "import torch\n",
    "from PIL import Image\n",
    "from torch import nn, optim\n",
    "from torchvision import datasets, transforms, models\n",
    "from torch.utils.data import Dataset, DataLoader\n",
    "import torch.nn.functional as F\n",
    "import numpy as np\n",
    "import copy\n",
    "import sklearn\n",
    "import seaborn as sns\n",
    "import matplotlib.pyplot as plt\n",
    "from torchsummary import summary\n",
    "from tqdm import tqdm "
   ]
  },
  {
   "cell_type": "code",
   "execution_count": 2,
   "id": "b43db748-2eb6-48f3-99bd-ab2ea40875b4",
   "metadata": {},
   "outputs": [],
   "source": [
    "torch.manual_seed(42)\n",
    "torch.cuda.manual_seed(42)\n",
    "np.random.seed(42)\n",
    "device = torch.device(\"cuda\" if torch.cuda.is_available() else 'cpu')\n",
    "GRAYSCALE = False"
   ]
  },
  {
   "cell_type": "code",
   "execution_count": 3,
   "id": "675d3aac-1862-4b9d-87d2-b3d97e0d2a73",
   "metadata": {},
   "outputs": [
    {
     "data": {
      "text/html": [
       "<div>\n",
       "<style scoped>\n",
       "    .dataframe tbody tr th:only-of-type {\n",
       "        vertical-align: middle;\n",
       "    }\n",
       "\n",
       "    .dataframe tbody tr th {\n",
       "        vertical-align: top;\n",
       "    }\n",
       "\n",
       "    .dataframe thead th {\n",
       "        text-align: right;\n",
       "    }\n",
       "</style>\n",
       "<table border=\"1\" class=\"dataframe\">\n",
       "  <thead>\n",
       "    <tr style=\"text-align: right;\">\n",
       "      <th></th>\n",
       "      <th>image_id</th>\n",
       "      <th>5_o_Clock_Shadow</th>\n",
       "      <th>Arched_Eyebrows</th>\n",
       "      <th>Attractive</th>\n",
       "      <th>Bags_Under_Eyes</th>\n",
       "      <th>Bald</th>\n",
       "      <th>Bangs</th>\n",
       "      <th>Big_Lips</th>\n",
       "      <th>Big_Nose</th>\n",
       "      <th>Black_Hair</th>\n",
       "      <th>...</th>\n",
       "      <th>Sideburns</th>\n",
       "      <th>Smiling</th>\n",
       "      <th>Straight_Hair</th>\n",
       "      <th>Wavy_Hair</th>\n",
       "      <th>Wearing_Earrings</th>\n",
       "      <th>Wearing_Hat</th>\n",
       "      <th>Wearing_Lipstick</th>\n",
       "      <th>Wearing_Necklace</th>\n",
       "      <th>Wearing_Necktie</th>\n",
       "      <th>Young</th>\n",
       "    </tr>\n",
       "  </thead>\n",
       "  <tbody>\n",
       "    <tr>\n",
       "      <th>0</th>\n",
       "      <td>000001.jpg</td>\n",
       "      <td>0</td>\n",
       "      <td>1</td>\n",
       "      <td>1</td>\n",
       "      <td>0</td>\n",
       "      <td>0</td>\n",
       "      <td>0</td>\n",
       "      <td>0</td>\n",
       "      <td>0</td>\n",
       "      <td>0</td>\n",
       "      <td>...</td>\n",
       "      <td>0</td>\n",
       "      <td>1</td>\n",
       "      <td>1</td>\n",
       "      <td>0</td>\n",
       "      <td>1</td>\n",
       "      <td>0</td>\n",
       "      <td>1</td>\n",
       "      <td>0</td>\n",
       "      <td>0</td>\n",
       "      <td>1</td>\n",
       "    </tr>\n",
       "    <tr>\n",
       "      <th>1</th>\n",
       "      <td>000002.jpg</td>\n",
       "      <td>0</td>\n",
       "      <td>0</td>\n",
       "      <td>0</td>\n",
       "      <td>1</td>\n",
       "      <td>0</td>\n",
       "      <td>0</td>\n",
       "      <td>0</td>\n",
       "      <td>1</td>\n",
       "      <td>0</td>\n",
       "      <td>...</td>\n",
       "      <td>0</td>\n",
       "      <td>1</td>\n",
       "      <td>0</td>\n",
       "      <td>0</td>\n",
       "      <td>0</td>\n",
       "      <td>0</td>\n",
       "      <td>0</td>\n",
       "      <td>0</td>\n",
       "      <td>0</td>\n",
       "      <td>1</td>\n",
       "    </tr>\n",
       "    <tr>\n",
       "      <th>2</th>\n",
       "      <td>000003.jpg</td>\n",
       "      <td>0</td>\n",
       "      <td>0</td>\n",
       "      <td>0</td>\n",
       "      <td>0</td>\n",
       "      <td>0</td>\n",
       "      <td>0</td>\n",
       "      <td>1</td>\n",
       "      <td>0</td>\n",
       "      <td>0</td>\n",
       "      <td>...</td>\n",
       "      <td>0</td>\n",
       "      <td>0</td>\n",
       "      <td>0</td>\n",
       "      <td>1</td>\n",
       "      <td>0</td>\n",
       "      <td>0</td>\n",
       "      <td>0</td>\n",
       "      <td>0</td>\n",
       "      <td>0</td>\n",
       "      <td>1</td>\n",
       "    </tr>\n",
       "    <tr>\n",
       "      <th>3</th>\n",
       "      <td>000004.jpg</td>\n",
       "      <td>0</td>\n",
       "      <td>0</td>\n",
       "      <td>1</td>\n",
       "      <td>0</td>\n",
       "      <td>0</td>\n",
       "      <td>0</td>\n",
       "      <td>0</td>\n",
       "      <td>0</td>\n",
       "      <td>0</td>\n",
       "      <td>...</td>\n",
       "      <td>0</td>\n",
       "      <td>0</td>\n",
       "      <td>1</td>\n",
       "      <td>0</td>\n",
       "      <td>1</td>\n",
       "      <td>0</td>\n",
       "      <td>1</td>\n",
       "      <td>1</td>\n",
       "      <td>0</td>\n",
       "      <td>1</td>\n",
       "    </tr>\n",
       "    <tr>\n",
       "      <th>4</th>\n",
       "      <td>000005.jpg</td>\n",
       "      <td>0</td>\n",
       "      <td>1</td>\n",
       "      <td>1</td>\n",
       "      <td>0</td>\n",
       "      <td>0</td>\n",
       "      <td>0</td>\n",
       "      <td>1</td>\n",
       "      <td>0</td>\n",
       "      <td>0</td>\n",
       "      <td>...</td>\n",
       "      <td>0</td>\n",
       "      <td>0</td>\n",
       "      <td>0</td>\n",
       "      <td>0</td>\n",
       "      <td>0</td>\n",
       "      <td>0</td>\n",
       "      <td>1</td>\n",
       "      <td>0</td>\n",
       "      <td>0</td>\n",
       "      <td>1</td>\n",
       "    </tr>\n",
       "  </tbody>\n",
       "</table>\n",
       "<p>5 rows × 41 columns</p>\n",
       "</div>"
      ],
      "text/plain": [
       "     image_id  5_o_Clock_Shadow  Arched_Eyebrows  Attractive  Bags_Under_Eyes  \\\n",
       "0  000001.jpg                 0                1           1                0   \n",
       "1  000002.jpg                 0                0           0                1   \n",
       "2  000003.jpg                 0                0           0                0   \n",
       "3  000004.jpg                 0                0           1                0   \n",
       "4  000005.jpg                 0                1           1                0   \n",
       "\n",
       "   Bald  Bangs  Big_Lips  Big_Nose  Black_Hair  ...  Sideburns  Smiling  \\\n",
       "0     0      0         0         0           0  ...          0        1   \n",
       "1     0      0         0         1           0  ...          0        1   \n",
       "2     0      0         1         0           0  ...          0        0   \n",
       "3     0      0         0         0           0  ...          0        0   \n",
       "4     0      0         1         0           0  ...          0        0   \n",
       "\n",
       "   Straight_Hair  Wavy_Hair  Wearing_Earrings  Wearing_Hat  Wearing_Lipstick  \\\n",
       "0              1          0                 1            0                 1   \n",
       "1              0          0                 0            0                 0   \n",
       "2              0          1                 0            0                 0   \n",
       "3              1          0                 1            0                 1   \n",
       "4              0          0                 0            0                 1   \n",
       "\n",
       "   Wearing_Necklace  Wearing_Necktie  Young  \n",
       "0                 0                0      1  \n",
       "1                 0                0      1  \n",
       "2                 0                0      1  \n",
       "3                 1                0      1  \n",
       "4                 0                0      1  \n",
       "\n",
       "[5 rows x 41 columns]"
      ]
     },
     "execution_count": 3,
     "metadata": {},
     "output_type": "execute_result"
    }
   ],
   "source": [
    "# Dataset\n",
    "DATA_DIR = \"./CelebA/img_align_celeba/img_align_celeba/\"\n",
    "CSV_DIR = \"./CelebA/list_attr_celeba.csv\"\n",
    "data = pd.read_csv(CSV_DIR)\n",
    "data.replace(-1, 0, inplace = True)\n",
    "data.head()"
   ]
  },
  {
   "cell_type": "code",
   "execution_count": 20,
   "id": "86cfb636-3c26-4742-9acb-0910a20b790a",
   "metadata": {},
   "outputs": [
    {
     "data": {
      "image/png": "[encoded data removed]",
      "text/plain": [
       "<Figure size 640x480 with 1 Axes>"
      ]
     },
     "metadata": {},
     "output_type": "display_data"
    }
   ],
   "source": [
    "t = data.loc[:, ['Blond_Hair', \"Male\"]]\n",
    "blond = t[t['Blond_Hair'] == 1]\n",
    "male_blond = blond[blond['Male'] == 1]\n",
    "female_blond = blond[blond['Male'] == 0]\n",
    "\n",
    "gender = ['Male', \"Female\"]\n",
    "counts = [male_blond.shape[0], female_blond.shape[0]]\n",
    " \n",
    "# creating the bar plot\n",
    "plt.bar(gender, counts, color ='maroon', \n",
    "        width = 0.4)\n",
    " \n",
    "plt.xlabel(\"Genders\")\n",
    "plt.ylabel(\"Counts\")\n",
    "plt.title(\"Gender count in Blond Attribute (CelebA)\")\n",
    "plt.show()"
   ]
  },
  {
   "cell_type": "code",
   "execution_count": 4,
   "id": "b3d5ddb6-f4f3-4314-b9a7-83d22f339345",
   "metadata": {},
   "outputs": [],
   "source": [
    "# Custom Dataset\n",
    "custom_transform = transforms.Compose([transforms.Resize((128, 128)),\n",
    "                                       transforms.RandomCrop((120, 120)),\n",
    "                                       transforms.ToTensor()])\n",
    "\n",
    "class CelebADataset(Dataset):\n",
    "    def __init__(self, dataframe, img_dir, attr = \"Blond_Hair\", transform = None):\n",
    "        self.dataframe = dataframe\n",
    "        self.transform = transform\n",
    "        self.image_dir = img_dir\n",
    "        self.images = dataframe[\"image_id\"].values\n",
    "        self.y = dataframe[attr]\n",
    "\n",
    "    def __len__(self):\n",
    "        return self.y.shape[0]\n",
    "\n",
    "    def __getitem__(self, index):\n",
    "        img = Image.open(self.image_dir + self.images[index])\n",
    "\n",
    "        if self.transform is not None:\n",
    "          img = self.transform(img)\n",
    "    \n",
    "        label = self.y[index]\n",
    "        return img, label"
   ]
  },
  {
   "cell_type": "code",
   "execution_count": 5,
   "id": "cc3e1264-c3ce-4713-919c-13da9b982da8",
   "metadata": {},
   "outputs": [
    {
     "name": "stdout",
     "output_type": "stream",
     "text": [
      "# of Training Datapoints: 121559\n",
      "# of Validation Datapoints: 40519\n",
      "# of Test Datapoints: 40519\n"
     ]
    }
   ],
   "source": [
    "TRAIN_DATAPTS = int(0.6 * len(data))\n",
    "VAL_DATAPTS = int(0.2 * len(data))\n",
    "TEST_DATAPTS = int(0.2 * len(data))\n",
    "\n",
    "print(f\"# of Training Datapoints: {TRAIN_DATAPTS}\")\n",
    "print(f\"# of Validation Datapoints: {VAL_DATAPTS}\")\n",
    "print(f\"# of Test Datapoints: {TEST_DATAPTS}\")\n",
    "\n",
    "data = data.sample(frac = 1).reset_index(drop = True)\n",
    "\n",
    "train_df = data[:TRAIN_DATAPTS].reset_index(drop = True)\n",
    "val_df = data[TRAIN_DATAPTS: TRAIN_DATAPTS + VAL_DATAPTS].reset_index(drop = True)\n",
    "test_df = data[TRAIN_DATAPTS + VAL_DATAPTS: ].reset_index(drop = True)"
   ]
  },
  {
   "cell_type": "code",
   "execution_count": 6,
   "id": "ed7e736e-dcdb-42b5-9ef2-cd2cf877b204",
   "metadata": {},
   "outputs": [
    {
     "name": "stdout",
     "output_type": "stream",
     "text": [
      "Male Datapoints: 16925\n",
      "Female Datapoints :23596\n",
      "Male Blond: 374\n",
      "FeMale Blond: 5643\n",
      "Male Non Blond: 16551\n",
      "FeMale Non Blond: 17953\n"
     ]
    }
   ],
   "source": [
    "# Different groups\n",
    "male_df = test_df[test_df['Male'] == 1].reset_index(drop = True)\n",
    "female_df = test_df[test_df['Male'] == 0].reset_index(drop = True)\n",
    "\n",
    "print(f\"Male Datapoints: {male_df.shape[0]}\")\n",
    "print(f\"Female Datapoints :{female_df.shape[0]}\")\n",
    "\n",
    "## Hair color and Gender\n",
    "male_blond_df = male_df[male_df[\"Blond_Hair\"] == 1].reset_index(drop = True)\n",
    "female_blond_df = female_df[female_df[\"Blond_Hair\"] == 1].reset_index(drop = True)\n",
    "male_non_blond_df = male_df[male_df['Blond_Hair'] == 0].reset_index(drop = True)\n",
    "female_non_blond_df = female_df[female_df['Blond_Hair'] == 0].reset_index(drop = True)\n",
    "\n",
    "print(f\"Male Blond: {male_blond_df.shape[0]}\")\n",
    "print(f\"FeMale Blond: {female_blond_df.shape[0]}\")\n",
    "print(f\"Male Non Blond: {male_non_blond_df.shape[0]}\")\n",
    "print(f\"FeMale Non Blond: {female_non_blond_df.shape[0]}\")"
   ]
  },
  {
   "cell_type": "code",
   "execution_count": 7,
   "id": "a5da8f9d-15b8-42c1-a0cc-51420074ed1f",
   "metadata": {},
   "outputs": [],
   "source": [
    "# Training Dataset\n",
    "train_dataset = CelebADataset(dataframe  = train_df,\n",
    "                             img_dir = DATA_DIR,\n",
    "                             transform = custom_transform)\n",
    "\n",
    "train_dataloader = DataLoader(dataset = train_dataset,\n",
    "                             shuffle = True,\n",
    "                             batch_size = 128)\n",
    "# Validation Dataset\n",
    "val_dataset = CelebADataset(dataframe = val_df,\n",
    "                           img_dir = DATA_DIR,\n",
    "                           transform = custom_transform)\n",
    "\n",
    "val_dataloader = DataLoader(dataset = val_dataset,\n",
    "                           shuffle = True,\n",
    "                           batch_size = 128)\n",
    "\n",
    "# Test Dataset\n",
    "test_dataset = CelebADataset(dataframe = test_df,\n",
    "                            img_dir = DATA_DIR,\n",
    "                            transform = custom_transform)\n",
    "\n",
    "test_dataloader = DataLoader(dataset = test_dataset,\n",
    "                            shuffle = True)"
   ]
  },
  {
   "cell_type": "code",
   "execution_count": 8,
   "id": "f6d2f264-0254-4c16-820f-7d118c4cb87e",
   "metadata": {},
   "outputs": [],
   "source": [
    "# ResNet 34 model for Age Prediction\n",
    "def conv3x3(in_planes, out_planes, stride=1):\n",
    "    \"\"\"3x3 convolution with padding\"\"\"\n",
    "    return nn.Conv2d(in_planes, out_planes, kernel_size=3, stride=stride,\n",
    "                     padding=1, bias=False)\n",
    "\n",
    "## Resnet Block\n",
    "class BasicBlock(nn.Module):\n",
    "    expansion = 1\n",
    "\n",
    "    def __init__(self, inplanes, planes, stride=1, downsample=None):\n",
    "        super(BasicBlock, self).__init__()\n",
    "        self.conv1 = conv3x3(inplanes, planes, stride = stride)\n",
    "        self.bn1 = nn.BatchNorm2d(planes)\n",
    "        self.relu = nn.ReLU(inplace=True)\n",
    "        self.conv2 = conv3x3(planes, planes, stride = 1)\n",
    "        self.bn2 = nn.BatchNorm2d(planes)\n",
    "        self.downsample = downsample\n",
    "        self.stride = stride\n",
    "\n",
    "    def forward(self, x):\n",
    "        residual = x\n",
    "        \n",
    "        out = self.conv1(x)\n",
    "        out = self.bn1(out)\n",
    "        out = self.relu(out)\n",
    "\n",
    "        out = self.conv2(out)\n",
    "        out = self.bn2(out)\n",
    "\n",
    "        if self.downsample is not None:\n",
    "            residual = self.downsample(x)\n",
    "\n",
    "        out += residual\n",
    "        out = self.relu(out)\n",
    "\n",
    "        return out\n",
    "\n",
    "## ResNet\n",
    "class ResNet(nn.Module):\n",
    "\n",
    "    def __init__(self, block, layers, num_classes, grayscale):\n",
    "        self.num_classes = num_classes\n",
    "        self.inplanes = 64\n",
    "        if grayscale:\n",
    "            in_dim = 1\n",
    "        else:\n",
    "            in_dim = 3\n",
    "        super(ResNet, self).__init__()\n",
    "        self.conv1 = nn.Conv2d(in_dim, 64, kernel_size=7, stride=2, padding=3,\n",
    "                               bias=False)\n",
    "        self.bn1 = nn.BatchNorm2d(64)\n",
    "        self.relu = nn.ReLU(inplace=True)\n",
    "        self.maxpool = nn.MaxPool2d(kernel_size=3, stride=2, padding=1)\n",
    "        self.layer1 = self._make_layer(block, 64, layers[0])\n",
    "        self.layer2 = self._make_layer(block, 128, layers[1], stride=2)\n",
    "        self.layer3 = self._make_layer(block, 256, layers[2], stride=2)\n",
    "        self.layer4 = self._make_layer(block, 512, layers[3], stride=2)\n",
    "        self.avgpool = nn.AvgPool2d(7, stride=1, padding=2)\n",
    "        self.fc = nn.Linear(2048 * block.expansion, num_classes)\n",
    "\n",
    "        for m in self.modules():\n",
    "            if isinstance(m, nn.Conv2d):\n",
    "                n = m.kernel_size[0] * m.kernel_size[1] * m.out_channels\n",
    "                m.weight.data.normal_(0, (2. / n)**.5)\n",
    "            elif isinstance(m, nn.BatchNorm2d):\n",
    "                m.weight.data.fill_(1)\n",
    "                m.bias.data.zero_()\n",
    "\n",
    "    def _make_layer(self, block, planes, blocks, stride=1):\n",
    "        downsample = None\n",
    "        if stride != 1 or self.inplanes != planes * block.expansion:\n",
    "            downsample = nn.Sequential(\n",
    "                nn.Conv2d(self.inplanes, planes * block.expansion,\n",
    "                          kernel_size=1, stride=stride, bias=False),\n",
    "                nn.BatchNorm2d(planes * block.expansion),\n",
    "            )\n",
    "\n",
    "        layers = []\n",
    "        layers.append(block(self.inplanes, planes, stride, downsample))\n",
    "        self.inplanes = planes * block.expansion\n",
    "        for i in range(1, blocks):\n",
    "            layers.append(block(self.inplanes, planes))\n",
    "\n",
    "        return nn.Sequential(*layers)\n",
    "\n",
    "    def forward(self, x):\n",
    "        x = self.conv1(x)\n",
    "        x = self.bn1(x)\n",
    "        x = self.relu(x)\n",
    "        x = self.maxpool(x)\n",
    "\n",
    "        x = self.layer1(x)\n",
    "        x = self.layer2(x)\n",
    "        x = self.layer3(x)\n",
    "        x = self.layer4(x)\n",
    "\n",
    "        x = self.avgpool(x)\n",
    "        x = x.view(x.size(0), -1)\n",
    "        logits = F.softmax(self.fc(x), dim  = 1)\n",
    "        return logits\n",
    "\n",
    "## ResNet 34 model\n",
    "def resnet34(num_classes):\n",
    "    \"\"\"Constructs a ResNet-34 model.\"\"\"\n",
    "    model = ResNet(block=BasicBlock,\n",
    "                   layers=[3, 4, 6, 3],\n",
    "                   num_classes=num_classes,\n",
    "                   grayscale=GRAYSCALE)\n",
    "    return model"
   ]
  },
  {
   "cell_type": "code",
   "execution_count": 9,
   "id": "9f43ab6e-f58d-4030-9990-ad641baf6e13",
   "metadata": {},
   "outputs": [],
   "source": [
    "# Training function\n",
    "def train_cnn(model, train_dataloader, val_dataloader, epochs = 10, lr =1e-3, wd= 1e-5, verbose = True):\n",
    "    optimizer = optim.Adam(model.parameters(), lr = lr, weight_decay = wd)\n",
    "\n",
    "    if verbose:\n",
    "        print(\"Training Model...............\")\n",
    "    \n",
    "    train_losses = []\n",
    "    train_accs = []\n",
    "    val_losses = []\n",
    "    val_accs = []\n",
    "\n",
    "    for epoch in tqdm(range(epochs)):\n",
    "        tloss = 0\n",
    "        tloss_num = 0\n",
    "        correct = 0\n",
    "        total = 0\n",
    "        \n",
    "        model.train()\n",
    "        for batch_idx, data in enumerate(train_dataloader):\n",
    "            x, y = data\n",
    "            x = x.to(torch.float32).to(device)\n",
    "            y = y.to(torch.long).to(device)\n",
    "\n",
    "            optimizer.zero_grad()\n",
    "            out = model(x)\n",
    "            loss = F.cross_entropy(out, y)\n",
    "            loss.backward()\n",
    "            optimizer.step()\n",
    "\n",
    "            tloss += loss.detach().cpu()\n",
    "            tloss_num += 1\n",
    "\n",
    "            _, preds = torch.max(out.data, 1)\n",
    "            correct += (preds == y).sum().item()\n",
    "            total += y.shape[0]\n",
    "\n",
    "        with torch.no_grad():\n",
    "            vloss = 0\n",
    "            vloss_num = 0\n",
    "            vcorrect = 0\n",
    "            vtotal = 0\n",
    "\n",
    "            for batch_idx, data in enumerate(val_dataloader):\n",
    "                x, y = data\n",
    "                x = x.to(torch.float32).to(device)\n",
    "                y = y.to(torch.long).to(device)\n",
    "\n",
    "                out = model(x)\n",
    "                loss = F.cross_entropy(out, y)\n",
    "\n",
    "                vloss += loss.detach().cpu()\n",
    "                vloss_num +=1\n",
    "\n",
    "                _, preds = torch.max(out.data, 1)\n",
    "                vcorrect += (preds == y).sum().item()\n",
    "                vtotal += y.shape[0]\n",
    "\n",
    "        train_losses.append(float(tloss / tloss_num))\n",
    "        train_accs.append(float(correct/total))\n",
    "        val_losses.append(float(vloss / vloss_num))\n",
    "        val_accs.append(float(vcorrect / vtotal))\n",
    "\n",
    "        if verbose:\n",
    "            print(f\"Epoch :{epoch}/{epochs}\")\n",
    "            print(f\"Training Loss: {tloss / tloss_num} Accuracy: {correct / total}\")\n",
    "            print(f\"Validation Loss: {vloss / vloss_num} Accuracy: {vcorrect / vtotal}\")\n",
    "\n",
    "    return model, train_losses, train_accs, val_losses, val_accs\n",
    "\n",
    "def eval_cnn(model, test_dataloader):\n",
    "    model.eval()\n",
    "    tloss = 0\n",
    "    tloss_num = 0\n",
    "    total = 0\n",
    "    correct = 0\n",
    "\n",
    "    for batch_idx, data in enumerate(test_dataloader):\n",
    "        x, y = data\n",
    "        x = x.to(torch.float32).to(device)\n",
    "        y = y.to(torch.long).to(device)\n",
    "\n",
    "        out = model(x)\n",
    "        loss = F.cross_entropy(out, y)\n",
    "\n",
    "        tloss += loss.detach().cpu()\n",
    "        tloss_num += 1\n",
    "\n",
    "        _, preds = torch.max(out.data, 1)\n",
    "        total += y.shape[0]\n",
    "        correct += (preds == y).sum().item()\n",
    "\n",
    "    print(f\"Test Loss: {tloss / tloss_num} Accuracy:{correct / total}\")\n",
    "    return tloss / tloss_num, correct / total"
   ]
  },
  {
   "cell_type": "code",
   "execution_count": 10,
   "id": "39eb7974-61bd-4c7e-a4c7-a6b180b418c6",
   "metadata": {},
   "outputs": [],
   "source": [
    "def plot_loss_curves(train_loss, val_loss, test_loss, model_name, metric = \"loss\", epochs = 100):\n",
    "    plt.plot(range(epochs), train_loss, color = \"blue\", label = f\"Training {metric}\")\n",
    "    plt.plot(range(epochs), val_loss, color = \"red\", label = f\"Validation {metric}\")\n",
    "    plt.plot(range(epochs), [test_loss] * epochs, color = \"green\", label = f\"Test {metric}\")\n",
    "    plt.xlabel(\"Epochs\")\n",
    "    plt.ylabel(metric)\n",
    "    plt.title(model_name)\n",
    "    plt.legend()\n",
    "    plt.show()"
   ]
  },
  {
   "cell_type": "code",
   "execution_count": 11,
   "id": "d7a6c7b8-ec95-4afe-bb98-bdd58b630ee4",
   "metadata": {
    "scrolled": true
   },
   "outputs": [
    {
     "name": "stdout",
     "output_type": "stream",
     "text": [
      "----------------------------------------------------------------\n",
      "        Layer (type)               Output Shape         Param #\n",
      "================================================================\n",
      "            Conv2d-1           [-1, 64, 64, 64]           9,408\n",
      "       BatchNorm2d-2           [-1, 64, 64, 64]             128\n",
      "              ReLU-3           [-1, 64, 64, 64]               0\n",
      "         MaxPool2d-4           [-1, 64, 32, 32]               0\n",
      "            Conv2d-5           [-1, 64, 32, 32]          36,864\n",
      "       BatchNorm2d-6           [-1, 64, 32, 32]             128\n",
      "              ReLU-7           [-1, 64, 32, 32]               0\n",
      "            Conv2d-8           [-1, 64, 32, 32]          36,864\n",
      "       BatchNorm2d-9           [-1, 64, 32, 32]             128\n",
      "             ReLU-10           [-1, 64, 32, 32]               0\n",
      "       BasicBlock-11           [-1, 64, 32, 32]               0\n",
      "           Conv2d-12           [-1, 64, 32, 32]          36,864\n",
      "      BatchNorm2d-13           [-1, 64, 32, 32]             128\n",
      "             ReLU-14           [-1, 64, 32, 32]               0\n",
      "           Conv2d-15           [-1, 64, 32, 32]          36,864\n",
      "      BatchNorm2d-16           [-1, 64, 32, 32]             128\n",
      "             ReLU-17           [-1, 64, 32, 32]               0\n",
      "       BasicBlock-18           [-1, 64, 32, 32]               0\n",
      "           Conv2d-19           [-1, 64, 32, 32]          36,864\n",
      "      BatchNorm2d-20           [-1, 64, 32, 32]             128\n",
      "             ReLU-21           [-1, 64, 32, 32]               0\n",
      "           Conv2d-22           [-1, 64, 32, 32]          36,864\n",
      "      BatchNorm2d-23           [-1, 64, 32, 32]             128\n",
      "             ReLU-24           [-1, 64, 32, 32]               0\n",
      "       BasicBlock-25           [-1, 64, 32, 32]               0\n",
      "           Conv2d-26          [-1, 128, 16, 16]          73,728\n",
      "      BatchNorm2d-27          [-1, 128, 16, 16]             256\n",
      "             ReLU-28          [-1, 128, 16, 16]               0\n",
      "           Conv2d-29          [-1, 128, 16, 16]         147,456\n",
      "      BatchNorm2d-30          [-1, 128, 16, 16]             256\n",
      "           Conv2d-31          [-1, 128, 16, 16]           8,192\n",
      "      BatchNorm2d-32          [-1, 128, 16, 16]             256\n",
      "             ReLU-33          [-1, 128, 16, 16]               0\n",
      "       BasicBlock-34          [-1, 128, 16, 16]               0\n",
      "           Conv2d-35          [-1, 128, 16, 16]         147,456\n",
      "      BatchNorm2d-36          [-1, 128, 16, 16]             256\n",
      "             ReLU-37          [-1, 128, 16, 16]               0\n",
      "           Conv2d-38          [-1, 128, 16, 16]         147,456\n",
      "      BatchNorm2d-39          [-1, 128, 16, 16]             256\n",
      "             ReLU-40          [-1, 128, 16, 16]               0\n",
      "       BasicBlock-41          [-1, 128, 16, 16]               0\n",
      "           Conv2d-42          [-1, 128, 16, 16]         147,456\n",
      "      BatchNorm2d-43          [-1, 128, 16, 16]             256\n",
      "             ReLU-44          [-1, 128, 16, 16]               0\n",
      "           Conv2d-45          [-1, 128, 16, 16]         147,456\n",
      "      BatchNorm2d-46          [-1, 128, 16, 16]             256\n",
      "             ReLU-47          [-1, 128, 16, 16]               0\n",
      "       BasicBlock-48          [-1, 128, 16, 16]               0\n",
      "           Conv2d-49          [-1, 128, 16, 16]         147,456\n",
      "      BatchNorm2d-50          [-1, 128, 16, 16]             256\n",
      "             ReLU-51          [-1, 128, 16, 16]               0\n",
      "           Conv2d-52          [-1, 128, 16, 16]         147,456\n",
      "      BatchNorm2d-53          [-1, 128, 16, 16]             256\n",
      "             ReLU-54          [-1, 128, 16, 16]               0\n",
      "       BasicBlock-55          [-1, 128, 16, 16]               0\n",
      "           Conv2d-56            [-1, 256, 8, 8]         294,912\n",
      "      BatchNorm2d-57            [-1, 256, 8, 8]             512\n",
      "             ReLU-58            [-1, 256, 8, 8]               0\n",
      "           Conv2d-59            [-1, 256, 8, 8]         589,824\n",
      "      BatchNorm2d-60            [-1, 256, 8, 8]             512\n",
      "           Conv2d-61            [-1, 256, 8, 8]          32,768\n",
      "      BatchNorm2d-62            [-1, 256, 8, 8]             512\n",
      "             ReLU-63            [-1, 256, 8, 8]               0\n",
      "       BasicBlock-64            [-1, 256, 8, 8]               0\n",
      "           Conv2d-65            [-1, 256, 8, 8]         589,824\n",
      "      BatchNorm2d-66            [-1, 256, 8, 8]             512\n",
      "             ReLU-67            [-1, 256, 8, 8]               0\n",
      "           Conv2d-68            [-1, 256, 8, 8]         589,824\n",
      "      BatchNorm2d-69            [-1, 256, 8, 8]             512\n",
      "             ReLU-70            [-1, 256, 8, 8]               0\n",
      "       BasicBlock-71            [-1, 256, 8, 8]               0\n",
      "           Conv2d-72            [-1, 256, 8, 8]         589,824\n",
      "      BatchNorm2d-73            [-1, 256, 8, 8]             512\n",
      "             ReLU-74            [-1, 256, 8, 8]               0\n",
      "           Conv2d-75            [-1, 256, 8, 8]         589,824\n",
      "      BatchNorm2d-76            [-1, 256, 8, 8]             512\n",
      "             ReLU-77            [-1, 256, 8, 8]               0\n",
      "       BasicBlock-78            [-1, 256, 8, 8]               0\n",
      "           Conv2d-79            [-1, 256, 8, 8]         589,824\n",
      "      BatchNorm2d-80            [-1, 256, 8, 8]             512\n",
      "             ReLU-81            [-1, 256, 8, 8]               0\n",
      "           Conv2d-82            [-1, 256, 8, 8]         589,824\n",
      "      BatchNorm2d-83            [-1, 256, 8, 8]             512\n",
      "             ReLU-84            [-1, 256, 8, 8]               0\n",
      "       BasicBlock-85            [-1, 256, 8, 8]               0\n",
      "           Conv2d-86            [-1, 256, 8, 8]         589,824\n",
      "      BatchNorm2d-87            [-1, 256, 8, 8]             512\n",
      "             ReLU-88            [-1, 256, 8, 8]               0\n",
      "           Conv2d-89            [-1, 256, 8, 8]         589,824\n",
      "      BatchNorm2d-90            [-1, 256, 8, 8]             512\n",
      "             ReLU-91            [-1, 256, 8, 8]               0\n",
      "       BasicBlock-92            [-1, 256, 8, 8]               0\n",
      "           Conv2d-93            [-1, 256, 8, 8]         589,824\n",
      "      BatchNorm2d-94            [-1, 256, 8, 8]             512\n",
      "             ReLU-95            [-1, 256, 8, 8]               0\n",
      "           Conv2d-96            [-1, 256, 8, 8]         589,824\n",
      "      BatchNorm2d-97            [-1, 256, 8, 8]             512\n",
      "             ReLU-98            [-1, 256, 8, 8]               0\n",
      "       BasicBlock-99            [-1, 256, 8, 8]               0\n",
      "          Conv2d-100            [-1, 512, 4, 4]       1,179,648\n",
      "     BatchNorm2d-101            [-1, 512, 4, 4]           1,024\n",
      "            ReLU-102            [-1, 512, 4, 4]               0\n",
      "          Conv2d-103            [-1, 512, 4, 4]       2,359,296\n",
      "     BatchNorm2d-104            [-1, 512, 4, 4]           1,024\n",
      "          Conv2d-105            [-1, 512, 4, 4]         131,072\n",
      "     BatchNorm2d-106            [-1, 512, 4, 4]           1,024\n",
      "            ReLU-107            [-1, 512, 4, 4]               0\n",
      "      BasicBlock-108            [-1, 512, 4, 4]               0\n",
      "          Conv2d-109            [-1, 512, 4, 4]       2,359,296\n",
      "     BatchNorm2d-110            [-1, 512, 4, 4]           1,024\n",
      "            ReLU-111            [-1, 512, 4, 4]               0\n",
      "          Conv2d-112            [-1, 512, 4, 4]       2,359,296\n",
      "     BatchNorm2d-113            [-1, 512, 4, 4]           1,024\n",
      "            ReLU-114            [-1, 512, 4, 4]               0\n",
      "      BasicBlock-115            [-1, 512, 4, 4]               0\n",
      "          Conv2d-116            [-1, 512, 4, 4]       2,359,296\n",
      "     BatchNorm2d-117            [-1, 512, 4, 4]           1,024\n",
      "            ReLU-118            [-1, 512, 4, 4]               0\n",
      "          Conv2d-119            [-1, 512, 4, 4]       2,359,296\n",
      "     BatchNorm2d-120            [-1, 512, 4, 4]           1,024\n",
      "            ReLU-121            [-1, 512, 4, 4]               0\n",
      "      BasicBlock-122            [-1, 512, 4, 4]               0\n",
      "       AvgPool2d-123            [-1, 512, 2, 2]               0\n",
      "          Linear-124                    [-1, 2]           4,098\n",
      "================================================================\n",
      "Total params: 21,288,770\n",
      "Trainable params: 21,288,770\n",
      "Non-trainable params: 0\n",
      "----------------------------------------------------------------\n",
      "Input size (MB): 0.19\n",
      "Forward/backward pass size (MB): 31.45\n",
      "Params size (MB): 81.21\n",
      "Estimated Total Size (MB): 112.85\n",
      "----------------------------------------------------------------\n"
     ]
    }
   ],
   "source": [
    "model = resnet34(2).to(device)\n",
    "summary(model,(3, 128, 128))"
   ]
  },
  {
   "cell_type": "code",
   "execution_count": 34,
   "id": "1f77be3c-7636-440b-8835-d3ea6c3c8661",
   "metadata": {},
   "outputs": [
    {
     "name": "stderr",
     "output_type": "stream",
     "text": [
      "  0%|                                                                                                                                                  | 0/10 [00:34<?, ?it/s]\n"
     ]
    },
    {
     "ename": "KeyboardInterrupt",
     "evalue": "",
     "output_type": "error",
     "traceback": [
      "\u001b[0;31m---------------------------------------------------------------------------\u001b[0m",
      "\u001b[0;31mKeyboardInterrupt\u001b[0m                         Traceback (most recent call last)",
      "Cell \u001b[0;32mIn[34], line 2\u001b[0m\n\u001b[1;32m      1\u001b[0m model \u001b[38;5;241m=\u001b[39m resnet34(\u001b[38;5;241m2\u001b[39m)\u001b[38;5;241m.\u001b[39mto(device)\n\u001b[0;32m----> 2\u001b[0m model, train_losses, train_accs, val_losses, val_accs \u001b[38;5;241m=\u001b[39m \u001b[43mtrain_cnn\u001b[49m\u001b[43m(\u001b[49m\u001b[43mmodel\u001b[49m\u001b[43m,\u001b[49m\u001b[43m \u001b[49m\u001b[43mtrain_dataloader\u001b[49m\u001b[43m,\u001b[49m\u001b[43m \u001b[49m\u001b[43mval_dataloader\u001b[49m\u001b[43m,\u001b[49m\u001b[43m \u001b[49m\u001b[43mepochs\u001b[49m\u001b[43m \u001b[49m\u001b[38;5;241;43m=\u001b[39;49m\u001b[43m \u001b[49m\u001b[38;5;241;43m10\u001b[39;49m\u001b[43m,\u001b[49m\u001b[43m \u001b[49m\u001b[43mverbose\u001b[49m\u001b[43m \u001b[49m\u001b[38;5;241;43m=\u001b[39;49m\u001b[43m \u001b[49m\u001b[38;5;28;43;01mFalse\u001b[39;49;00m\u001b[43m)\u001b[49m\n\u001b[1;32m      3\u001b[0m test_loss, test_acc \u001b[38;5;241m=\u001b[39m eval_cnn(model, test_dataloader)\n",
      "Cell \u001b[0;32mIn[31], line 31\u001b[0m, in \u001b[0;36mtrain_cnn\u001b[0;34m(model, train_dataloader, val_dataloader, epochs, lr, wd, verbose)\u001b[0m\n\u001b[1;32m     28\u001b[0m loss\u001b[38;5;241m.\u001b[39mbackward()\n\u001b[1;32m     29\u001b[0m optimizer\u001b[38;5;241m.\u001b[39mstep()\n\u001b[0;32m---> 31\u001b[0m tloss \u001b[38;5;241m+\u001b[39m\u001b[38;5;241m=\u001b[39m \u001b[43mloss\u001b[49m\u001b[38;5;241;43m.\u001b[39;49m\u001b[43mdetach\u001b[49m\u001b[43m(\u001b[49m\u001b[43m)\u001b[49m\u001b[38;5;241;43m.\u001b[39;49m\u001b[43mcpu\u001b[49m\u001b[43m(\u001b[49m\u001b[43m)\u001b[49m\n\u001b[1;32m     32\u001b[0m tloss_num \u001b[38;5;241m+\u001b[39m\u001b[38;5;241m=\u001b[39m \u001b[38;5;241m1\u001b[39m\n\u001b[1;32m     34\u001b[0m _, preds \u001b[38;5;241m=\u001b[39m torch\u001b[38;5;241m.\u001b[39mmax(out\u001b[38;5;241m.\u001b[39mdata, \u001b[38;5;241m1\u001b[39m)\n",
      "\u001b[0;31mKeyboardInterrupt\u001b[0m: "
     ]
    }
   ],
   "source": [
    "model = resnet34(2).to(device)\n",
    "model, train_losses, train_accs, val_losses, val_accs = train_cnn(model, train_dataloader, val_dataloader, epochs = 10, verbose = False)\n",
    "test_loss, test_acc = eval_cnn(model, test_dataloader)"
   ]
  },
  {
   "cell_type": "code",
   "execution_count": null,
   "id": "67b9aa0e-6168-444d-b78b-29fe52e08bb4",
   "metadata": {
    "scrolled": true
   },
   "outputs": [],
   "source": [
    "plot_loss_curves(train_losses, val_losses, test_loss, model_name = \"CNN Loss Curves\", metric = \"loss\", epochs = 10)\n",
    "plot_loss_curves(train_accs, val_accs, test_acc, model_name = \"CNN Accuracy Currves\", metric = \"Accuracy\", epochs = 10)"
   ]
  },
  {
   "cell_type": "markdown",
   "id": "37e910c5-48e0-43b6-8a41-fdd8cd4bff10",
   "metadata": {},
   "source": [
    "## Hyperparameter tuning"
   ]
  },
  {
   "cell_type": "code",
   "execution_count": 12,
   "id": "77c3823b-a01e-4c34-87f4-7bdf954789ae",
   "metadata": {
    "scrolled": true
   },
   "outputs": [
    {
     "name": "stderr",
     "output_type": "stream",
     "text": [
      "100%|██████████████████████████████████████████████████████████████████████████████████████████████████████████████████████████████████████████| 1/1 [05:32<00:00, 332.62s/it]\n"
     ]
    },
    {
     "name": "stdout",
     "output_type": "stream",
     "text": [
      "Test Loss: 0.3759952783584595 Accuracy:0.9351694183263\n"
     ]
    },
    {
     "name": "stderr",
     "output_type": "stream",
     "text": [
      "100%|██████████████████████████████████████████████████████████████████████████████████████████████████████████████████████████████████████████| 1/1 [05:29<00:00, 329.23s/it]\n"
     ]
    },
    {
     "name": "stdout",
     "output_type": "stream",
     "text": [
      "Test Loss: 0.37796929478645325 Accuracy:0.9330470620172256\n"
     ]
    },
    {
     "name": "stderr",
     "output_type": "stream",
     "text": [
      "100%|██████████████████████████████████████████████████████████████████████████████████████████████████████████████████████████████████████████| 1/1 [05:33<00:00, 333.73s/it]\n"
     ]
    },
    {
     "name": "stdout",
     "output_type": "stream",
     "text": [
      "Test Loss: 0.37806519865989685 Accuracy:0.9342316329804299\n"
     ]
    },
    {
     "name": "stderr",
     "output_type": "stream",
     "text": [
      "100%|██████████████████████████████████████████████████████████████████████████████████████████████████████████████████████████████████████████| 1/1 [05:31<00:00, 331.13s/it]\n"
     ]
    },
    {
     "name": "stdout",
     "output_type": "stream",
     "text": [
      "Test Loss: 0.36727070808410645 Accuracy:0.9431899508896622\n"
     ]
    },
    {
     "name": "stderr",
     "output_type": "stream",
     "text": [
      "100%|██████████████████████████████████████████████████████████████████████████████████████████████████████████████████████████████████████████| 1/1 [05:30<00:00, 330.30s/it]\n"
     ]
    },
    {
     "name": "stdout",
     "output_type": "stream",
     "text": [
      "Test Loss: 0.36684155464172363 Accuracy:0.9440783791120654\n"
     ]
    },
    {
     "name": "stderr",
     "output_type": "stream",
     "text": [
      "100%|██████████████████████████████████████████████████████████████████████████████████████████████████████████████████████████████████████████| 1/1 [05:31<00:00, 331.19s/it]\n"
     ]
    },
    {
     "name": "stdout",
     "output_type": "stream",
     "text": [
      "Test Loss: 0.3710487484931946 Accuracy:0.9384023099133783\n"
     ]
    },
    {
     "name": "stderr",
     "output_type": "stream",
     "text": [
      "100%|██████████████████████████████████████████████████████████████████████████████████████████████████████████████████████████████████████████| 1/1 [05:30<00:00, 330.76s/it]\n"
     ]
    },
    {
     "name": "stdout",
     "output_type": "stream",
     "text": [
      "Test Loss: 0.3900444507598877 Accuracy:0.9197206386811777\n"
     ]
    },
    {
     "name": "stderr",
     "output_type": "stream",
     "text": [
      "100%|██████████████████████████████████████████████████████████████████████████████████████████████████████████████████████████████████████████| 1/1 [05:30<00:00, 330.99s/it]\n"
     ]
    },
    {
     "name": "stdout",
     "output_type": "stream",
     "text": [
      "Test Loss: 0.37999433279037476 Accuracy:0.9308506700229511\n"
     ]
    },
    {
     "name": "stderr",
     "output_type": "stream",
     "text": [
      "100%|██████████████████████████████████████████████████████████████████████████████████████████████████████████████████████████████████████████| 1/1 [05:33<00:00, 333.23s/it]\n"
     ]
    },
    {
     "name": "stdout",
     "output_type": "stream",
     "text": [
      "Test Loss: 0.39930400252342224 Accuracy:0.910095999605143\n",
      "Best LR: 0.0001\n",
      "Best Weight decay: 0.0001\n"
     ]
    }
   ],
   "source": [
    "lrs = [1e-5, 1e-4, 1e-3]\n",
    "wds = [1e-5, 1e-4, 1e-3]\n",
    "\n",
    "test_accs = np.zeros((len(lrs), len(wds)))\n",
    "\n",
    "for lr in range(len(lrs)):\n",
    "    for wd in range(len(wds)):\n",
    "        model = resnet34(2).to(device)\n",
    "        model, train_losses, train_accs, val_losses, val_accs = train_cnn(model, train_dataloader, val_dataloader, epochs = 1, lr= lrs[lr], wd = wds[wd], verbose = False)\n",
    "        test_loss, test_acc = eval_cnn(model, test_dataloader)\n",
    "\n",
    "        test_accs[lr, wd] = test_acc\n",
    "\n",
    "best_lr, best_wd = np.unravel_index(np.argmax(test_accs), test_accs.shape)\n",
    "print(f\"Best LR: {lrs[best_lr]}\")\n",
    "print(f\"Best Weight decay: {wds[best_wd]}\")"
   ]
  },
  {
   "cell_type": "code",
   "execution_count": 13,
   "id": "7bf408f9-f79f-4a81-920e-1b5f9315d64f",
   "metadata": {
    "scrolled": true
   },
   "outputs": [
    {
     "name": "stdout",
     "output_type": "stream",
     "text": [
      "Best LR: 1\n",
      "Best Weight decay: 1\n"
     ]
    }
   ],
   "source": [
    "lrs = [1e-5, 1e-4, 1e-3]\n",
    "wds = [1e-5, 1e-4, 1e-3]\n",
    "\n",
    "best_lr = 1\n",
    "best_wd = 1\n",
    "# best_lr, best_wd = np.unravel_index(np.argmax(test_accs), test_accs.shape)\n",
    "print(f\"Best LR: {best_lr}\")\n",
    "print(f\"Best Weight decay: {best_wd}\")\n"
   ]
  },
  {
   "cell_type": "markdown",
   "id": "ba32849a-14e9-44ab-8eec-d9690a8502b0",
   "metadata": {},
   "source": [
    "### Finetuned Model"
   ]
  },
  {
   "cell_type": "code",
   "execution_count": 14,
   "id": "b4a381e5-bace-4923-a0e1-bb6749e2d671",
   "metadata": {
    "scrolled": true
   },
   "outputs": [
    {
     "name": "stderr",
     "output_type": "stream",
     "text": [
      "100%|████████████████████████████████████████████████████████████████████████████████████████████████████████████████████████████████████████| 10/10 [54:57<00:00, 329.78s/it]\n"
     ]
    },
    {
     "name": "stdout",
     "output_type": "stream",
     "text": [
      "Test Loss: 0.36093124747276306 Accuracy:0.9504454480392883\n"
     ]
    }
   ],
   "source": [
    "model = resnet34(2).to(device)\n",
    "model, train_losses, train_accs, val_losses, val_accs = train_cnn(model, train_dataloader, val_dataloader, epochs = 10, lr = lrs[best_lr], wd = wds[best_wd], verbose = False)\n",
    "test_loss, test_acc = eval_cnn(model, test_dataloader)"
   ]
  },
  {
   "cell_type": "markdown",
   "id": "3cda08af-9839-4c68-81da-7e8c9b9851c5",
   "metadata": {},
   "source": [
    "## Group wise Accuracy"
   ]
  },
  {
   "cell_type": "code",
   "execution_count": 12,
   "id": "f9aa27ba-d85a-4682-9041-035516c43586",
   "metadata": {},
   "outputs": [],
   "source": [
    "#male blond dataloader\n",
    "male_blond_dataset = CelebADataset(dataframe = male_blond_df,\n",
    "                            img_dir = DATA_DIR,\n",
    "                            transform = custom_transform)\n",
    "male_blond_dataloader = DataLoader(dataset = male_blond_dataset,\n",
    "                                  shuffle = True,\n",
    "                                  batch_size= 128)\n",
    "\n",
    "#female blond dataset\n",
    "female_blond_dataset = CelebADataset(dataframe = female_blond_df,\n",
    "                                    img_dir = DATA_DIR,\n",
    "                                    transform = custom_transform)\n",
    "female_blond_dataloader = DataLoader(dataset = female_blond_dataset,\n",
    "                                    shuffle = True,\n",
    "                                    batch_size = 128)\n",
    "\n",
    "#male non blond dataset\n",
    "male_non_blond_dataset = CelebADataset(dataframe = male_non_blond_df,\n",
    "                                      img_dir = DATA_DIR,\n",
    "                                      transform = custom_transform)\n",
    "male_non_blond_dataloader = DataLoader(dataset = male_non_blond_dataset,\n",
    "                                      shuffle = True,\n",
    "                                      batch_size = 128)\n",
    "\n",
    "#female non blond dataloader\n",
    "female_non_blond_dataset = CelebADataset(dataframe = female_non_blond_df,\n",
    "                                        img_dir = DATA_DIR,\n",
    "                                        transform = custom_transform)\n",
    "\n",
    "female_non_blond_dataloader = DataLoader(dataset = female_non_blond_dataset,\n",
    "                                        shuffle = True,\n",
    "                                        batch_size = 128)"
   ]
  },
  {
   "cell_type": "code",
   "execution_count": 13,
   "id": "b5933c27-7aaa-43ad-b164-46aa327bced6",
   "metadata": {},
   "outputs": [],
   "source": [
    "# metric: mean group accuracy:\n",
    "groups = [male_blond_dataloader, female_blond_dataloader, male_non_blond_dataloader, female_non_blond_dataloader]\n",
    "\n",
    "def mean_group(model, groups, type = \"cnn\"):\n",
    "    group_wise_acc_fs = []\n",
    "    group_wise_loss_fs = []\n",
    "    groups = [male_blond_dataloader, female_blond_dataloader, male_non_blond_dataloader, female_non_blond_dataloader]\n",
    "    \n",
    "    for group in range(len(groups)):\n",
    "        if type == \"cnn\":\n",
    "            loss, acc = eval_cnn(model, groups[group])\n",
    "        else:\n",
    "            loss, acc = eval_fsmodel(model, groups[group])\n",
    "            \n",
    "        group_wise_acc_fs.append(acc)\n",
    "        group_wise_loss_fs.append(loss)\n",
    "    \n",
    "    mean_group_acc = np.mean(group_wise_acc_fs)\n",
    "    mean_group_loss = np.mean(group_wise_loss_fs)\n",
    "    \n",
    "    print(f\"Mean group accuracy: {mean_group_acc}\")\n",
    "    print(f\"Mean group loss: {mean_group_loss}\")\n",
    "    return mean_group_acc, mean_group_loss"
   ]
  },
  {
   "cell_type": "code",
   "execution_count": 16,
   "id": "6d6581db-0766-4828-917a-263dfa677b68",
   "metadata": {},
   "outputs": [
    {
     "name": "stdout",
     "output_type": "stream",
     "text": [
      "Test Loss: 0.863316535949707 Accuracy:0.4326647564469914\n",
      "Test Loss: 0.48938846588134766 Accuracy:0.8174760787145694\n",
      "Test Loss: 0.323468953371048 Accuracy:0.9887747790780989\n",
      "Test Loss: 0.346209317445755 Accuracy:0.9647190383002516\n",
      "Mean group wise accuracy: 0.8009086631349778\n",
      "Mean group wise Loss: 0.5055958032608032\n"
     ]
    }
   ],
   "source": [
    "group_wise_acc = []\n",
    "group_wise_loss = []\n",
    "groups = [male_blond_dataloader, female_blond_dataloader, male_non_blond_dataloader, female_non_blond_dataloader]\n",
    "\n",
    "for group in range(len(groups)):\n",
    "    loss, acc = eval_cnn(model, groups[group])\n",
    "    group_wise_acc.append(acc)\n",
    "    group_wise_loss.append(loss)\n",
    "\n",
    "mean_cnn_group_acc = np.mean(group_wise_acc)\n",
    "mean_cnn_group_loss= np.mean(group_wise_loss)\n",
    "print(f\"Mean group wise accuracy: {mean_cnn_group_acc}\")\n",
    "print(f\"Mean group wise Loss: {mean_cnn_group_loss}\")"
   ]
  },
  {
   "cell_type": "markdown",
   "id": "a5afed8e-8d05-47fa-94d9-d65b6c39e228",
   "metadata": {},
   "source": [
    "## Feature Sieve Model"
   ]
  },
  {
   "cell_type": "code",
   "execution_count": 14,
   "id": "9f165cde-a8d4-420f-9228-69dcc59178ca",
   "metadata": {},
   "outputs": [],
   "source": [
    "class Feature_Sieve(nn.Module):\n",
    "\n",
    "    def __init__(self, block, layers, num_classes, grayscale):\n",
    "        self.num_classes = num_classes\n",
    "        self.inplanes = 64\n",
    "        if grayscale:\n",
    "            in_dim = 1\n",
    "        else:\n",
    "            in_dim = 3\n",
    "        super(Feature_Sieve, self).__init__()\n",
    "        self.conv1 = nn.Conv2d(in_dim, 64, kernel_size=7, stride=2, padding=3,\n",
    "                               bias=False)\n",
    "        self.bn1 = nn.BatchNorm2d(64)\n",
    "        self.relu = nn.ReLU(inplace=True)\n",
    "        self.maxpool = nn.MaxPool2d(kernel_size=3, stride=2, padding=1)\n",
    "        self.layer1 = self._make_layer(block, 64, layers[0])\n",
    "        self.layer2 = self._make_layer(block, 128, layers[1], stride=2)\n",
    "        self.layer3 = self._make_layer(block, 256, layers[2], stride=2)\n",
    "        self.layer4 = self._make_layer(block, 512, layers[3], stride=2)\n",
    "        self.avgpool = nn.AvgPool2d(7, stride=1, padding=2)\n",
    "        self.fc = nn.Linear(2048 * block.expansion, self.num_classes)\n",
    "\n",
    "        self.inplanes = 64\n",
    "        self.auxlayer1 = self._make_layer(block, 64, layers[0], stride = 2)\n",
    "        self.auxlayer2 = self._make_layer(block,  64, layers[1], stride=2)\n",
    "        # self.auxlayer3 = self._make_layer(block, 128, layers[2], stride = 2)\n",
    "        self.aux_avgpool = nn.AvgPool2d(7, stride=1, padding=2)\n",
    "        self.aux_fc = nn.Linear(4096, self.num_classes)\n",
    "        # self.aux_out = nn.Linear(128, 1)\n",
    "        \n",
    "\n",
    "        self.params = nn.ModuleDict({\n",
    "            \"main\": nn.ModuleList([self.conv1, self.bn1, self.relu, self.maxpool, self.layer1, self.layer2, self.layer3, self.layer4, self.avgpool, self.fc]),\n",
    "            \"aux\": nn.ModuleList([ self.auxlayer1, self.auxlayer2, self.aux_avgpool, self.aux_fc]),\n",
    "            \"forget\": nn.ModuleList([self.conv1, self.bn1, self.relu, self.maxpool, self.layer1])\n",
    "        })\n",
    "\n",
    "    \n",
    "        for m in self.modules():\n",
    "            if isinstance(m, nn.Conv2d):\n",
    "                n = m.kernel_size[0] * m.kernel_size[1] * m.out_channels\n",
    "                m.weight.data.normal_(0, (2. / n)**.5)\n",
    "            elif isinstance(m, nn.BatchNorm2d):\n",
    "                m.weight.data.fill_(1)\n",
    "                m.bias.data.zero_()\n",
    "        \n",
    "    def _make_layer(self, block, planes, blocks, stride=1):\n",
    "        downsample = None\n",
    "        if stride != 1 or self.inplanes != planes * block.expansion:\n",
    "            downsample = nn.Sequential(\n",
    "                nn.Conv2d(self.inplanes, planes * block.expansion,\n",
    "                          kernel_size=1, stride=stride, bias=False),\n",
    "                nn.BatchNorm2d(planes * block.expansion),\n",
    "            )\n",
    "\n",
    "        layers = []\n",
    "        layers.append(block(self.inplanes, planes, stride, downsample))\n",
    "        self.inplanes = planes * block.expansion\n",
    "        for i in range(1, blocks):\n",
    "            layers.append(block(self.inplanes, planes))\n",
    "\n",
    "        return nn.Sequential(*layers)\n",
    "\n",
    "    def forward(self, x):\n",
    "        x = self.conv1(x)\n",
    "        x = self.bn1(x)\n",
    "        x = self.relu(x)\n",
    "        x = self.maxpool(x)\n",
    "        \n",
    "\n",
    "        #forward of the main network\n",
    "        sh = self.layer1(x)\n",
    "        x = self.layer2(sh)\n",
    "        x = self.layer3(x)\n",
    "        x = self.layer4(x)\n",
    "\n",
    "        x = self.avgpool(x)\n",
    "        x = x.view(x.size(0), -1)\n",
    "        logits = self.fc(x)\n",
    "\n",
    "        #forward of aux network\n",
    "        aux = self.auxlayer1(sh)\n",
    "        aux = self.auxlayer2(aux)\n",
    "        # aux = self.auxlayer3(aux)\n",
    "        # aux = self.aux_avgpool(aux)\n",
    "        aux = aux.view(aux.size(0), -1)\n",
    "        aux = self.aux_fc(aux)\n",
    "        # aux = self.aux_out(aux)\n",
    "        \n",
    "        \n",
    "        return logits, aux\n",
    "\n",
    "def feature_sieve(num_classes, grayscale):\n",
    "    \"\"\"Constructs a ResNet-34 model.\"\"\"\n",
    "    model = Feature_Sieve(block=BasicBlock,\n",
    "                   layers=[3, 4, 6, 3],\n",
    "                   num_classes=num_classes,\n",
    "                   grayscale=grayscale)\n",
    "    return model"
   ]
  },
  {
   "cell_type": "code",
   "execution_count": 15,
   "id": "b0388bf5-72fd-4a50-bba7-64f12514b60a",
   "metadata": {},
   "outputs": [],
   "source": [
    "def learn_main(FS, optim_main, x, y):\n",
    "    FS.train()\n",
    "    optim_main.zero_grad()\n",
    "    out = FS(x)[0]\n",
    "    loss = F.cross_entropy(out, y)\n",
    "    loss.backward()\n",
    "    optim_main.step()\n",
    "    optim_main.zero_grad()\n",
    "    FS.eval()\n",
    "\n",
    "def learn_aux(FS, optim_main, optim_aux, x, y, alpha_aux=1):\n",
    "    FS.train()\n",
    "    optim_main.zero_grad()\n",
    "    aux = FS(x)[1]\n",
    "    loss = alpha_aux * F.cross_entropy(aux, y)\n",
    "    loss.backward()\n",
    "    optim_aux.step()\n",
    "    optim_aux.zero_grad()\n",
    "    FS.eval()\n",
    "\n",
    "def forget_aux(FS, optim_forget, x, num_bins):\n",
    "    FS.train()\n",
    "    optim_forget.zero_grad()\n",
    "    aux = FS(x)[1]\n",
    "    loss = F.cross_entropy(aux, torch.ones_like(aux) * 1/num_bins)\n",
    "    loss.backward()\n",
    "    optim_forget.step()\n",
    "    optim_forget.zero_grad()\n",
    "    FS.eval()"
   ]
  },
  {
   "cell_type": "code",
   "execution_count": 16,
   "id": "47873b20-f50c-4dc7-94cd-7fa7e0b59744",
   "metadata": {},
   "outputs": [],
   "source": [
    "def train_fs(model, train_dataloader, val_dataloader, forget_iters = 5, aux_iters =1, main_iters =1, lrs = [0.0005, 0.0005, 0.0005],epochs = 100, verbose = False, patience = 3, min_delta = 0.1):\n",
    "    if verbose:\n",
    "        print(\"Training Model..............\")\n",
    "\n",
    "    optim_main = optim.Adam(model.params.main.parameters())\n",
    "    optim_aux = optim.Adam(model.params.aux.parameters())\n",
    "    optim_forget = optim.Adam(model.params.forget.parameters())\n",
    "\n",
    "    train_losses = []\n",
    "    train_accs = []\n",
    "    val_losses = []\n",
    "    val_accs = []\n",
    "\n",
    "    steps = 0\n",
    "    for epoch in tqdm(range(epochs)):\n",
    "        tloss = 0\n",
    "        tloss_num = 0\n",
    "        tcorrect = 0\n",
    "        ttotal = 0\n",
    "\n",
    "        for batch_idx, data in enumerate(train_dataloader):\n",
    "            x, y = data\n",
    "            x = x.to(torch.float32).to(device)\n",
    "            y = y.to(torch.long).to(device)\n",
    "        \n",
    "            if main_iters and steps % main_iters == 0:\n",
    "                learn_main(model, optim_main, x, y)\n",
    "            if aux_iters and steps % aux_iters == 0:\n",
    "                learn_aux(model, optim_main, optim_aux, x, y)\n",
    "            if forget_iters and steps % forget_iters == 0:\n",
    "                forget_aux(model, optim_forget, x, model.num_classes)\n",
    "\n",
    "            with torch.no_grad():\n",
    "                out = model(x)[0]\n",
    "                loss = F.cross_entropy(out, y)\n",
    "                tloss += loss.detach().cpu()\n",
    "                tloss_num += 1\n",
    "\n",
    "                _, preds = torch.max(out.data, 1)\n",
    "                tcorrect += (preds == y).sum().item()\n",
    "                ttotal += y.shape[0]\n",
    "                steps += 1\n",
    "\n",
    "        with torch.no_grad():\n",
    "            vloss = 0\n",
    "            vloss_num = 0\n",
    "            vtotal = 0\n",
    "            vcorrect = 0\n",
    "\n",
    "            for batch_idx, data in enumerate(val_dataloader):\n",
    "                x, y = data\n",
    "                x = x.to(torch.float32).to(device)\n",
    "                y = y.to(torch.long).to(device)\n",
    "\n",
    "                out = model(x)[0]\n",
    "                loss = F.cross_entropy(out, y)\n",
    "                vloss += loss.detach().cpu()\n",
    "                vloss_num += 1\n",
    "\n",
    "                _, preds = torch.max(out.data, 1)\n",
    "                vtotal += y.shape[0]\n",
    "                vcorrect += (preds == y).sum().item()\n",
    "\n",
    "        train_losses.append(tloss / tloss_num)\n",
    "        train_accs.append(tcorrect / ttotal)\n",
    "        val_losses.append(vloss / vloss_num)\n",
    "        val_accs.append(vcorrect /  vtotal)\n",
    "\n",
    "        if verbose:\n",
    "            print(f\"Epoch: {epoch} / {epochs}\")\n",
    "            print(f\"Training Loss: {tloss / tloss_num} Accuracy: {tcorrect / ttotal}\")\n",
    "            print(f\"Validation Loss: {vloss / vloss_num} Accuracy: {vcorrect / vtotal}\")\n",
    "\n",
    "    return model, train_losses, train_accs, val_losses, val_accs\n",
    "\n",
    "def eval_fsmodel(model, test_dataloader):\n",
    "    tloss = 0\n",
    "    tloss_num = 0\n",
    "    total = 0\n",
    "    correct = 0\n",
    "\n",
    "    with torch.no_grad():\n",
    "        for batch_idx, data in enumerate(test_dataloader):\n",
    "            x, y = data\n",
    "            x = x.to(torch.float32).to(device)\n",
    "            y= y.to(torch.long).to(device)\n",
    "\n",
    "            out = model(x)[0]\n",
    "            loss = F.cross_entropy(out, y)\n",
    "            tloss += loss.detach().cpu()\n",
    "            tloss_num += 1\n",
    "\n",
    "            _, preds = torch.max(out.data, 1)\n",
    "            correct += (preds == y).sum().item()\n",
    "            total += y.shape[0]\n",
    "\n",
    "    test_loss = tloss / tloss_num\n",
    "    test_acc = correct / total\n",
    "\n",
    "    print(f\"Test Loss: {test_loss} Test Accuracy :{test_acc}\")\n",
    "    return test_loss, test_acc"
   ]
  },
  {
   "cell_type": "code",
   "execution_count": 17,
   "id": "cb4ad18a-f2dd-492d-9309-874dad785c06",
   "metadata": {
    "scrolled": true
   },
   "outputs": [
    {
     "name": "stdout",
     "output_type": "stream",
     "text": [
      "----------------------------------------------------------------\n",
      "        Layer (type)               Output Shape         Param #\n",
      "================================================================\n",
      "            Conv2d-1           [-1, 64, 64, 64]           9,408\n",
      "            Conv2d-2           [-1, 64, 64, 64]           9,408\n",
      "            Conv2d-3           [-1, 64, 64, 64]           9,408\n",
      "       BatchNorm2d-4           [-1, 64, 64, 64]             128\n",
      "       BatchNorm2d-5           [-1, 64, 64, 64]             128\n",
      "       BatchNorm2d-6           [-1, 64, 64, 64]             128\n",
      "              ReLU-7           [-1, 64, 64, 64]               0\n",
      "              ReLU-8           [-1, 64, 64, 64]               0\n",
      "              ReLU-9           [-1, 64, 64, 64]               0\n",
      "        MaxPool2d-10           [-1, 64, 32, 32]               0\n",
      "        MaxPool2d-11           [-1, 64, 32, 32]               0\n",
      "        MaxPool2d-12           [-1, 64, 32, 32]               0\n",
      "           Conv2d-13           [-1, 64, 32, 32]          36,864\n",
      "           Conv2d-14           [-1, 64, 32, 32]          36,864\n",
      "           Conv2d-15           [-1, 64, 32, 32]          36,864\n",
      "      BatchNorm2d-16           [-1, 64, 32, 32]             128\n",
      "      BatchNorm2d-17           [-1, 64, 32, 32]             128\n",
      "      BatchNorm2d-18           [-1, 64, 32, 32]             128\n",
      "             ReLU-19           [-1, 64, 32, 32]               0\n",
      "             ReLU-20           [-1, 64, 32, 32]               0\n",
      "             ReLU-21           [-1, 64, 32, 32]               0\n",
      "           Conv2d-22           [-1, 64, 32, 32]          36,864\n",
      "           Conv2d-23           [-1, 64, 32, 32]          36,864\n",
      "           Conv2d-24           [-1, 64, 32, 32]          36,864\n",
      "      BatchNorm2d-25           [-1, 64, 32, 32]             128\n",
      "      BatchNorm2d-26           [-1, 64, 32, 32]             128\n",
      "      BatchNorm2d-27           [-1, 64, 32, 32]             128\n",
      "             ReLU-28           [-1, 64, 32, 32]               0\n",
      "             ReLU-29           [-1, 64, 32, 32]               0\n",
      "             ReLU-30           [-1, 64, 32, 32]               0\n",
      "       BasicBlock-31           [-1, 64, 32, 32]               0\n",
      "       BasicBlock-32           [-1, 64, 32, 32]               0\n",
      "       BasicBlock-33           [-1, 64, 32, 32]               0\n",
      "           Conv2d-34           [-1, 64, 32, 32]          36,864\n",
      "           Conv2d-35           [-1, 64, 32, 32]          36,864\n",
      "           Conv2d-36           [-1, 64, 32, 32]          36,864\n",
      "      BatchNorm2d-37           [-1, 64, 32, 32]             128\n",
      "      BatchNorm2d-38           [-1, 64, 32, 32]             128\n",
      "      BatchNorm2d-39           [-1, 64, 32, 32]             128\n",
      "             ReLU-40           [-1, 64, 32, 32]               0\n",
      "             ReLU-41           [-1, 64, 32, 32]               0\n",
      "             ReLU-42           [-1, 64, 32, 32]               0\n",
      "           Conv2d-43           [-1, 64, 32, 32]          36,864\n",
      "           Conv2d-44           [-1, 64, 32, 32]          36,864\n",
      "           Conv2d-45           [-1, 64, 32, 32]          36,864\n",
      "      BatchNorm2d-46           [-1, 64, 32, 32]             128\n",
      "      BatchNorm2d-47           [-1, 64, 32, 32]             128\n",
      "      BatchNorm2d-48           [-1, 64, 32, 32]             128\n",
      "             ReLU-49           [-1, 64, 32, 32]               0\n",
      "             ReLU-50           [-1, 64, 32, 32]               0\n",
      "             ReLU-51           [-1, 64, 32, 32]               0\n",
      "       BasicBlock-52           [-1, 64, 32, 32]               0\n",
      "       BasicBlock-53           [-1, 64, 32, 32]               0\n",
      "       BasicBlock-54           [-1, 64, 32, 32]               0\n",
      "           Conv2d-55           [-1, 64, 32, 32]          36,864\n",
      "           Conv2d-56           [-1, 64, 32, 32]          36,864\n",
      "           Conv2d-57           [-1, 64, 32, 32]          36,864\n",
      "      BatchNorm2d-58           [-1, 64, 32, 32]             128\n",
      "      BatchNorm2d-59           [-1, 64, 32, 32]             128\n",
      "      BatchNorm2d-60           [-1, 64, 32, 32]             128\n",
      "             ReLU-61           [-1, 64, 32, 32]               0\n",
      "             ReLU-62           [-1, 64, 32, 32]               0\n",
      "             ReLU-63           [-1, 64, 32, 32]               0\n",
      "           Conv2d-64           [-1, 64, 32, 32]          36,864\n",
      "           Conv2d-65           [-1, 64, 32, 32]          36,864\n",
      "           Conv2d-66           [-1, 64, 32, 32]          36,864\n",
      "      BatchNorm2d-67           [-1, 64, 32, 32]             128\n",
      "      BatchNorm2d-68           [-1, 64, 32, 32]             128\n",
      "      BatchNorm2d-69           [-1, 64, 32, 32]             128\n",
      "             ReLU-70           [-1, 64, 32, 32]               0\n",
      "             ReLU-71           [-1, 64, 32, 32]               0\n",
      "             ReLU-72           [-1, 64, 32, 32]               0\n",
      "       BasicBlock-73           [-1, 64, 32, 32]               0\n",
      "       BasicBlock-74           [-1, 64, 32, 32]               0\n",
      "       BasicBlock-75           [-1, 64, 32, 32]               0\n",
      "           Conv2d-76          [-1, 128, 16, 16]          73,728\n",
      "           Conv2d-77          [-1, 128, 16, 16]          73,728\n",
      "      BatchNorm2d-78          [-1, 128, 16, 16]             256\n",
      "      BatchNorm2d-79          [-1, 128, 16, 16]             256\n",
      "             ReLU-80          [-1, 128, 16, 16]               0\n",
      "             ReLU-81          [-1, 128, 16, 16]               0\n",
      "           Conv2d-82          [-1, 128, 16, 16]         147,456\n",
      "           Conv2d-83          [-1, 128, 16, 16]         147,456\n",
      "      BatchNorm2d-84          [-1, 128, 16, 16]             256\n",
      "      BatchNorm2d-85          [-1, 128, 16, 16]             256\n",
      "           Conv2d-86          [-1, 128, 16, 16]           8,192\n",
      "           Conv2d-87          [-1, 128, 16, 16]           8,192\n",
      "      BatchNorm2d-88          [-1, 128, 16, 16]             256\n",
      "      BatchNorm2d-89          [-1, 128, 16, 16]             256\n",
      "             ReLU-90          [-1, 128, 16, 16]               0\n",
      "             ReLU-91          [-1, 128, 16, 16]               0\n",
      "       BasicBlock-92          [-1, 128, 16, 16]               0\n",
      "       BasicBlock-93          [-1, 128, 16, 16]               0\n",
      "           Conv2d-94          [-1, 128, 16, 16]         147,456\n",
      "           Conv2d-95          [-1, 128, 16, 16]         147,456\n",
      "      BatchNorm2d-96          [-1, 128, 16, 16]             256\n",
      "      BatchNorm2d-97          [-1, 128, 16, 16]             256\n",
      "             ReLU-98          [-1, 128, 16, 16]               0\n",
      "             ReLU-99          [-1, 128, 16, 16]               0\n",
      "          Conv2d-100          [-1, 128, 16, 16]         147,456\n",
      "          Conv2d-101          [-1, 128, 16, 16]         147,456\n",
      "     BatchNorm2d-102          [-1, 128, 16, 16]             256\n",
      "     BatchNorm2d-103          [-1, 128, 16, 16]             256\n",
      "            ReLU-104          [-1, 128, 16, 16]               0\n",
      "            ReLU-105          [-1, 128, 16, 16]               0\n",
      "      BasicBlock-106          [-1, 128, 16, 16]               0\n",
      "      BasicBlock-107          [-1, 128, 16, 16]               0\n",
      "          Conv2d-108          [-1, 128, 16, 16]         147,456\n",
      "          Conv2d-109          [-1, 128, 16, 16]         147,456\n",
      "     BatchNorm2d-110          [-1, 128, 16, 16]             256\n",
      "     BatchNorm2d-111          [-1, 128, 16, 16]             256\n",
      "            ReLU-112          [-1, 128, 16, 16]               0\n",
      "            ReLU-113          [-1, 128, 16, 16]               0\n",
      "          Conv2d-114          [-1, 128, 16, 16]         147,456\n",
      "          Conv2d-115          [-1, 128, 16, 16]         147,456\n",
      "     BatchNorm2d-116          [-1, 128, 16, 16]             256\n",
      "     BatchNorm2d-117          [-1, 128, 16, 16]             256\n",
      "            ReLU-118          [-1, 128, 16, 16]               0\n",
      "            ReLU-119          [-1, 128, 16, 16]               0\n",
      "      BasicBlock-120          [-1, 128, 16, 16]               0\n",
      "      BasicBlock-121          [-1, 128, 16, 16]               0\n",
      "          Conv2d-122          [-1, 128, 16, 16]         147,456\n",
      "          Conv2d-123          [-1, 128, 16, 16]         147,456\n",
      "     BatchNorm2d-124          [-1, 128, 16, 16]             256\n",
      "     BatchNorm2d-125          [-1, 128, 16, 16]             256\n",
      "            ReLU-126          [-1, 128, 16, 16]               0\n",
      "            ReLU-127          [-1, 128, 16, 16]               0\n",
      "          Conv2d-128          [-1, 128, 16, 16]         147,456\n",
      "          Conv2d-129          [-1, 128, 16, 16]         147,456\n",
      "     BatchNorm2d-130          [-1, 128, 16, 16]             256\n",
      "     BatchNorm2d-131          [-1, 128, 16, 16]             256\n",
      "            ReLU-132          [-1, 128, 16, 16]               0\n",
      "            ReLU-133          [-1, 128, 16, 16]               0\n",
      "      BasicBlock-134          [-1, 128, 16, 16]               0\n",
      "      BasicBlock-135          [-1, 128, 16, 16]               0\n",
      "          Conv2d-136            [-1, 256, 8, 8]         294,912\n",
      "          Conv2d-137            [-1, 256, 8, 8]         294,912\n",
      "     BatchNorm2d-138            [-1, 256, 8, 8]             512\n",
      "     BatchNorm2d-139            [-1, 256, 8, 8]             512\n",
      "            ReLU-140            [-1, 256, 8, 8]               0\n",
      "            ReLU-141            [-1, 256, 8, 8]               0\n",
      "          Conv2d-142            [-1, 256, 8, 8]         589,824\n",
      "          Conv2d-143            [-1, 256, 8, 8]         589,824\n",
      "     BatchNorm2d-144            [-1, 256, 8, 8]             512\n",
      "     BatchNorm2d-145            [-1, 256, 8, 8]             512\n",
      "          Conv2d-146            [-1, 256, 8, 8]          32,768\n",
      "          Conv2d-147            [-1, 256, 8, 8]          32,768\n",
      "     BatchNorm2d-148            [-1, 256, 8, 8]             512\n",
      "     BatchNorm2d-149            [-1, 256, 8, 8]             512\n",
      "            ReLU-150            [-1, 256, 8, 8]               0\n",
      "            ReLU-151            [-1, 256, 8, 8]               0\n",
      "      BasicBlock-152            [-1, 256, 8, 8]               0\n",
      "      BasicBlock-153            [-1, 256, 8, 8]               0\n",
      "          Conv2d-154            [-1, 256, 8, 8]         589,824\n",
      "          Conv2d-155            [-1, 256, 8, 8]         589,824\n",
      "     BatchNorm2d-156            [-1, 256, 8, 8]             512\n",
      "     BatchNorm2d-157            [-1, 256, 8, 8]             512\n",
      "            ReLU-158            [-1, 256, 8, 8]               0\n",
      "            ReLU-159            [-1, 256, 8, 8]               0\n",
      "          Conv2d-160            [-1, 256, 8, 8]         589,824\n",
      "          Conv2d-161            [-1, 256, 8, 8]         589,824\n",
      "     BatchNorm2d-162            [-1, 256, 8, 8]             512\n",
      "     BatchNorm2d-163            [-1, 256, 8, 8]             512\n",
      "            ReLU-164            [-1, 256, 8, 8]               0\n",
      "            ReLU-165            [-1, 256, 8, 8]               0\n",
      "      BasicBlock-166            [-1, 256, 8, 8]               0\n",
      "      BasicBlock-167            [-1, 256, 8, 8]               0\n",
      "          Conv2d-168            [-1, 256, 8, 8]         589,824\n",
      "          Conv2d-169            [-1, 256, 8, 8]         589,824\n",
      "     BatchNorm2d-170            [-1, 256, 8, 8]             512\n",
      "     BatchNorm2d-171            [-1, 256, 8, 8]             512\n",
      "            ReLU-172            [-1, 256, 8, 8]               0\n",
      "            ReLU-173            [-1, 256, 8, 8]               0\n",
      "          Conv2d-174            [-1, 256, 8, 8]         589,824\n",
      "          Conv2d-175            [-1, 256, 8, 8]         589,824\n",
      "     BatchNorm2d-176            [-1, 256, 8, 8]             512\n",
      "     BatchNorm2d-177            [-1, 256, 8, 8]             512\n",
      "            ReLU-178            [-1, 256, 8, 8]               0\n",
      "            ReLU-179            [-1, 256, 8, 8]               0\n",
      "      BasicBlock-180            [-1, 256, 8, 8]               0\n",
      "      BasicBlock-181            [-1, 256, 8, 8]               0\n",
      "          Conv2d-182            [-1, 256, 8, 8]         589,824\n",
      "          Conv2d-183            [-1, 256, 8, 8]         589,824\n",
      "     BatchNorm2d-184            [-1, 256, 8, 8]             512\n",
      "     BatchNorm2d-185            [-1, 256, 8, 8]             512\n",
      "            ReLU-186            [-1, 256, 8, 8]               0\n",
      "            ReLU-187            [-1, 256, 8, 8]               0\n",
      "          Conv2d-188            [-1, 256, 8, 8]         589,824\n",
      "          Conv2d-189            [-1, 256, 8, 8]         589,824\n",
      "     BatchNorm2d-190            [-1, 256, 8, 8]             512\n",
      "     BatchNorm2d-191            [-1, 256, 8, 8]             512\n",
      "            ReLU-192            [-1, 256, 8, 8]               0\n",
      "            ReLU-193            [-1, 256, 8, 8]               0\n",
      "      BasicBlock-194            [-1, 256, 8, 8]               0\n",
      "      BasicBlock-195            [-1, 256, 8, 8]               0\n",
      "          Conv2d-196            [-1, 256, 8, 8]         589,824\n",
      "          Conv2d-197            [-1, 256, 8, 8]         589,824\n",
      "     BatchNorm2d-198            [-1, 256, 8, 8]             512\n",
      "     BatchNorm2d-199            [-1, 256, 8, 8]             512\n",
      "            ReLU-200            [-1, 256, 8, 8]               0\n",
      "            ReLU-201            [-1, 256, 8, 8]               0\n",
      "          Conv2d-202            [-1, 256, 8, 8]         589,824\n",
      "          Conv2d-203            [-1, 256, 8, 8]         589,824\n",
      "     BatchNorm2d-204            [-1, 256, 8, 8]             512\n",
      "     BatchNorm2d-205            [-1, 256, 8, 8]             512\n",
      "            ReLU-206            [-1, 256, 8, 8]               0\n",
      "            ReLU-207            [-1, 256, 8, 8]               0\n",
      "      BasicBlock-208            [-1, 256, 8, 8]               0\n",
      "      BasicBlock-209            [-1, 256, 8, 8]               0\n",
      "          Conv2d-210            [-1, 256, 8, 8]         589,824\n",
      "          Conv2d-211            [-1, 256, 8, 8]         589,824\n",
      "     BatchNorm2d-212            [-1, 256, 8, 8]             512\n",
      "     BatchNorm2d-213            [-1, 256, 8, 8]             512\n",
      "            ReLU-214            [-1, 256, 8, 8]               0\n",
      "            ReLU-215            [-1, 256, 8, 8]               0\n",
      "          Conv2d-216            [-1, 256, 8, 8]         589,824\n",
      "          Conv2d-217            [-1, 256, 8, 8]         589,824\n",
      "     BatchNorm2d-218            [-1, 256, 8, 8]             512\n",
      "     BatchNorm2d-219            [-1, 256, 8, 8]             512\n",
      "            ReLU-220            [-1, 256, 8, 8]               0\n",
      "            ReLU-221            [-1, 256, 8, 8]               0\n",
      "      BasicBlock-222            [-1, 256, 8, 8]               0\n",
      "      BasicBlock-223            [-1, 256, 8, 8]               0\n",
      "          Conv2d-224            [-1, 512, 4, 4]       1,179,648\n",
      "          Conv2d-225            [-1, 512, 4, 4]       1,179,648\n",
      "     BatchNorm2d-226            [-1, 512, 4, 4]           1,024\n",
      "     BatchNorm2d-227            [-1, 512, 4, 4]           1,024\n",
      "            ReLU-228            [-1, 512, 4, 4]               0\n",
      "            ReLU-229            [-1, 512, 4, 4]               0\n",
      "          Conv2d-230            [-1, 512, 4, 4]       2,359,296\n",
      "          Conv2d-231            [-1, 512, 4, 4]       2,359,296\n",
      "     BatchNorm2d-232            [-1, 512, 4, 4]           1,024\n",
      "     BatchNorm2d-233            [-1, 512, 4, 4]           1,024\n",
      "          Conv2d-234            [-1, 512, 4, 4]         131,072\n",
      "          Conv2d-235            [-1, 512, 4, 4]         131,072\n",
      "     BatchNorm2d-236            [-1, 512, 4, 4]           1,024\n",
      "     BatchNorm2d-237            [-1, 512, 4, 4]           1,024\n",
      "            ReLU-238            [-1, 512, 4, 4]               0\n",
      "            ReLU-239            [-1, 512, 4, 4]               0\n",
      "      BasicBlock-240            [-1, 512, 4, 4]               0\n",
      "      BasicBlock-241            [-1, 512, 4, 4]               0\n",
      "          Conv2d-242            [-1, 512, 4, 4]       2,359,296\n",
      "          Conv2d-243            [-1, 512, 4, 4]       2,359,296\n",
      "     BatchNorm2d-244            [-1, 512, 4, 4]           1,024\n",
      "     BatchNorm2d-245            [-1, 512, 4, 4]           1,024\n",
      "            ReLU-246            [-1, 512, 4, 4]               0\n",
      "            ReLU-247            [-1, 512, 4, 4]               0\n",
      "          Conv2d-248            [-1, 512, 4, 4]       2,359,296\n",
      "          Conv2d-249            [-1, 512, 4, 4]       2,359,296\n",
      "     BatchNorm2d-250            [-1, 512, 4, 4]           1,024\n",
      "     BatchNorm2d-251            [-1, 512, 4, 4]           1,024\n",
      "            ReLU-252            [-1, 512, 4, 4]               0\n",
      "            ReLU-253            [-1, 512, 4, 4]               0\n",
      "      BasicBlock-254            [-1, 512, 4, 4]               0\n",
      "      BasicBlock-255            [-1, 512, 4, 4]               0\n",
      "          Conv2d-256            [-1, 512, 4, 4]       2,359,296\n",
      "          Conv2d-257            [-1, 512, 4, 4]       2,359,296\n",
      "     BatchNorm2d-258            [-1, 512, 4, 4]           1,024\n",
      "     BatchNorm2d-259            [-1, 512, 4, 4]           1,024\n",
      "            ReLU-260            [-1, 512, 4, 4]               0\n",
      "            ReLU-261            [-1, 512, 4, 4]               0\n",
      "          Conv2d-262            [-1, 512, 4, 4]       2,359,296\n",
      "          Conv2d-263            [-1, 512, 4, 4]       2,359,296\n",
      "     BatchNorm2d-264            [-1, 512, 4, 4]           1,024\n",
      "     BatchNorm2d-265            [-1, 512, 4, 4]           1,024\n",
      "            ReLU-266            [-1, 512, 4, 4]               0\n",
      "            ReLU-267            [-1, 512, 4, 4]               0\n",
      "      BasicBlock-268            [-1, 512, 4, 4]               0\n",
      "      BasicBlock-269            [-1, 512, 4, 4]               0\n",
      "       AvgPool2d-270            [-1, 512, 2, 2]               0\n",
      "       AvgPool2d-271            [-1, 512, 2, 2]               0\n",
      "          Linear-272                    [-1, 2]           4,098\n",
      "          Linear-273                    [-1, 2]           4,098\n",
      "          Conv2d-274           [-1, 64, 16, 16]          36,864\n",
      "          Conv2d-275           [-1, 64, 16, 16]          36,864\n",
      "     BatchNorm2d-276           [-1, 64, 16, 16]             128\n",
      "     BatchNorm2d-277           [-1, 64, 16, 16]             128\n",
      "            ReLU-278           [-1, 64, 16, 16]               0\n",
      "            ReLU-279           [-1, 64, 16, 16]               0\n",
      "          Conv2d-280           [-1, 64, 16, 16]          36,864\n",
      "          Conv2d-281           [-1, 64, 16, 16]          36,864\n",
      "     BatchNorm2d-282           [-1, 64, 16, 16]             128\n",
      "     BatchNorm2d-283           [-1, 64, 16, 16]             128\n",
      "          Conv2d-284           [-1, 64, 16, 16]           4,096\n",
      "          Conv2d-285           [-1, 64, 16, 16]           4,096\n",
      "     BatchNorm2d-286           [-1, 64, 16, 16]             128\n",
      "     BatchNorm2d-287           [-1, 64, 16, 16]             128\n",
      "            ReLU-288           [-1, 64, 16, 16]               0\n",
      "            ReLU-289           [-1, 64, 16, 16]               0\n",
      "      BasicBlock-290           [-1, 64, 16, 16]               0\n",
      "      BasicBlock-291           [-1, 64, 16, 16]               0\n",
      "          Conv2d-292           [-1, 64, 16, 16]          36,864\n",
      "          Conv2d-293           [-1, 64, 16, 16]          36,864\n",
      "     BatchNorm2d-294           [-1, 64, 16, 16]             128\n",
      "     BatchNorm2d-295           [-1, 64, 16, 16]             128\n",
      "            ReLU-296           [-1, 64, 16, 16]               0\n",
      "            ReLU-297           [-1, 64, 16, 16]               0\n",
      "          Conv2d-298           [-1, 64, 16, 16]          36,864\n",
      "          Conv2d-299           [-1, 64, 16, 16]          36,864\n",
      "     BatchNorm2d-300           [-1, 64, 16, 16]             128\n",
      "     BatchNorm2d-301           [-1, 64, 16, 16]             128\n",
      "            ReLU-302           [-1, 64, 16, 16]               0\n",
      "            ReLU-303           [-1, 64, 16, 16]               0\n",
      "      BasicBlock-304           [-1, 64, 16, 16]               0\n",
      "      BasicBlock-305           [-1, 64, 16, 16]               0\n",
      "          Conv2d-306           [-1, 64, 16, 16]          36,864\n",
      "          Conv2d-307           [-1, 64, 16, 16]          36,864\n",
      "     BatchNorm2d-308           [-1, 64, 16, 16]             128\n",
      "     BatchNorm2d-309           [-1, 64, 16, 16]             128\n",
      "            ReLU-310           [-1, 64, 16, 16]               0\n",
      "            ReLU-311           [-1, 64, 16, 16]               0\n",
      "          Conv2d-312           [-1, 64, 16, 16]          36,864\n",
      "          Conv2d-313           [-1, 64, 16, 16]          36,864\n",
      "     BatchNorm2d-314           [-1, 64, 16, 16]             128\n",
      "     BatchNorm2d-315           [-1, 64, 16, 16]             128\n",
      "            ReLU-316           [-1, 64, 16, 16]               0\n",
      "            ReLU-317           [-1, 64, 16, 16]               0\n",
      "      BasicBlock-318           [-1, 64, 16, 16]               0\n",
      "      BasicBlock-319           [-1, 64, 16, 16]               0\n",
      "          Conv2d-320             [-1, 64, 8, 8]          36,864\n",
      "          Conv2d-321             [-1, 64, 8, 8]          36,864\n",
      "     BatchNorm2d-322             [-1, 64, 8, 8]             128\n",
      "     BatchNorm2d-323             [-1, 64, 8, 8]             128\n",
      "            ReLU-324             [-1, 64, 8, 8]               0\n",
      "            ReLU-325             [-1, 64, 8, 8]               0\n",
      "          Conv2d-326             [-1, 64, 8, 8]          36,864\n",
      "          Conv2d-327             [-1, 64, 8, 8]          36,864\n",
      "     BatchNorm2d-328             [-1, 64, 8, 8]             128\n",
      "     BatchNorm2d-329             [-1, 64, 8, 8]             128\n",
      "          Conv2d-330             [-1, 64, 8, 8]           4,096\n",
      "          Conv2d-331             [-1, 64, 8, 8]           4,096\n",
      "     BatchNorm2d-332             [-1, 64, 8, 8]             128\n",
      "     BatchNorm2d-333             [-1, 64, 8, 8]             128\n",
      "            ReLU-334             [-1, 64, 8, 8]               0\n",
      "            ReLU-335             [-1, 64, 8, 8]               0\n",
      "      BasicBlock-336             [-1, 64, 8, 8]               0\n",
      "      BasicBlock-337             [-1, 64, 8, 8]               0\n",
      "          Conv2d-338             [-1, 64, 8, 8]          36,864\n",
      "          Conv2d-339             [-1, 64, 8, 8]          36,864\n",
      "     BatchNorm2d-340             [-1, 64, 8, 8]             128\n",
      "     BatchNorm2d-341             [-1, 64, 8, 8]             128\n",
      "            ReLU-342             [-1, 64, 8, 8]               0\n",
      "            ReLU-343             [-1, 64, 8, 8]               0\n",
      "          Conv2d-344             [-1, 64, 8, 8]          36,864\n",
      "          Conv2d-345             [-1, 64, 8, 8]          36,864\n",
      "     BatchNorm2d-346             [-1, 64, 8, 8]             128\n",
      "     BatchNorm2d-347             [-1, 64, 8, 8]             128\n",
      "            ReLU-348             [-1, 64, 8, 8]               0\n",
      "            ReLU-349             [-1, 64, 8, 8]               0\n",
      "      BasicBlock-350             [-1, 64, 8, 8]               0\n",
      "      BasicBlock-351             [-1, 64, 8, 8]               0\n",
      "          Conv2d-352             [-1, 64, 8, 8]          36,864\n",
      "          Conv2d-353             [-1, 64, 8, 8]          36,864\n",
      "     BatchNorm2d-354             [-1, 64, 8, 8]             128\n",
      "     BatchNorm2d-355             [-1, 64, 8, 8]             128\n",
      "            ReLU-356             [-1, 64, 8, 8]               0\n",
      "            ReLU-357             [-1, 64, 8, 8]               0\n",
      "          Conv2d-358             [-1, 64, 8, 8]          36,864\n",
      "          Conv2d-359             [-1, 64, 8, 8]          36,864\n",
      "     BatchNorm2d-360             [-1, 64, 8, 8]             128\n",
      "     BatchNorm2d-361             [-1, 64, 8, 8]             128\n",
      "            ReLU-362             [-1, 64, 8, 8]               0\n",
      "            ReLU-363             [-1, 64, 8, 8]               0\n",
      "      BasicBlock-364             [-1, 64, 8, 8]               0\n",
      "      BasicBlock-365             [-1, 64, 8, 8]               0\n",
      "          Conv2d-366             [-1, 64, 8, 8]          36,864\n",
      "          Conv2d-367             [-1, 64, 8, 8]          36,864\n",
      "     BatchNorm2d-368             [-1, 64, 8, 8]             128\n",
      "     BatchNorm2d-369             [-1, 64, 8, 8]             128\n",
      "            ReLU-370             [-1, 64, 8, 8]               0\n",
      "            ReLU-371             [-1, 64, 8, 8]               0\n",
      "          Conv2d-372             [-1, 64, 8, 8]          36,864\n",
      "          Conv2d-373             [-1, 64, 8, 8]          36,864\n",
      "     BatchNorm2d-374             [-1, 64, 8, 8]             128\n",
      "     BatchNorm2d-375             [-1, 64, 8, 8]             128\n",
      "            ReLU-376             [-1, 64, 8, 8]               0\n",
      "            ReLU-377             [-1, 64, 8, 8]               0\n",
      "      BasicBlock-378             [-1, 64, 8, 8]               0\n",
      "      BasicBlock-379             [-1, 64, 8, 8]               0\n",
      "          Linear-380                    [-1, 2]           8,194\n",
      "          Linear-381                    [-1, 2]           8,194\n",
      "================================================================\n",
      "Total params: 43,878,088\n",
      "Trainable params: 43,878,088\n",
      "Non-trainable params: 0\n",
      "----------------------------------------------------------------\n",
      "Input size (MB): 0.19\n",
      "Forward/backward pass size (MB): 87.53\n",
      "Params size (MB): 167.38\n",
      "Estimated Total Size (MB): 255.10\n",
      "----------------------------------------------------------------\n"
     ]
    }
   ],
   "source": [
    "model = feature_sieve(2, False).to(device)\n",
    "summary(model, (3, 128, 128))"
   ]
  },
  {
   "cell_type": "code",
   "execution_count": null,
   "id": "14c96d6d-c8c5-4694-9cf8-445f7309a11b",
   "metadata": {},
   "outputs": [
    {
     "name": "stderr",
     "output_type": "stream",
     "text": [
      " 70%|██████████████████████████████████████████████████████████████████████████████████████████████▌                                        | 7/10 [1:02:09<26:35, 531.98s/it]"
     ]
    }
   ],
   "source": [
    "model = feature_sieve(2, False).to(device)\n",
    "model, fs_train_losses, fs_train_accs, fs_val_losses, fs_val_accs = train_fs(model, train_dataloader, val_dataloader, epochs = 10, verbose = False)\n",
    "fs_test_loss, fs_test_acc = eval_fsmodel(model, test_dataloader)"
   ]
  },
  {
   "cell_type": "code",
   "execution_count": null,
   "id": "3ff5ccc2-1f45-4aab-9eb3-80306f91ab13",
   "metadata": {
    "scrolled": true
   },
   "outputs": [],
   "source": [
    "plot_loss_curves(fs_train_losses, fs_val_losses, fs_test_loss, epochs = 10, model_name = \"Feature Sieve Loss Curves\")\n",
    "plot_loss_curves(fs_train_accs, fs_val_accs, fs_test_acc, epochs = 10, model_name = \"Feature Sieve Accuracy\")"
   ]
  },
  {
   "cell_type": "markdown",
   "id": "3e6ce224-310a-4871-b7ab-78cc34797f2a",
   "metadata": {},
   "source": [
    "### Hyperparameter Tuning"
   ]
  },
  {
   "cell_type": "code",
   "execution_count": 45,
   "id": "d630ec91-c0c3-4442-acff-e98c64baa5dd",
   "metadata": {},
   "outputs": [
    {
     "name": "stderr",
     "output_type": "stream",
     "text": [
      "100%|██████████████████████████████████████████████████████████████████████████████████████████████████████████████████████████████████████████| 1/1 [09:20<00:00, 560.22s/it]\n"
     ]
    },
    {
     "name": "stdout",
     "output_type": "stream",
     "text": [
      "Test Loss: 0.14336559176445007 Test Accuracy :0.9413637373213889\n",
      "Test Loss: 1.1971088647842407 Test Accuracy :0.4601063829787234\n",
      "Test Loss: 0.4164236783981323 Test Accuracy :0.8227714033539276\n",
      "Test Loss: 0.043938905000686646 Test Accuracy :0.9885050517272672\n",
      "Test Loss: 0.1259642243385315 Test Accuracy :0.9461868419586652\n",
      "Mean group accuracy: 0.804392420004646\n",
      "Mean group loss: 0.445858895778656\n"
     ]
    },
    {
     "data": {
      "text/plain": [
       "(0.804392420004646, 0.4458589)"
      ]
     },
     "execution_count": 45,
     "metadata": {},
     "output_type": "execute_result"
    }
   ],
   "source": [
    "# hyperparameter tuning based on architecture\n",
    "\n",
    "## different aux layer connections\n",
    "### 1) To first block: 0.9394634880679154\n",
    "### 2) To second block: 0.9151551047604946\n",
    "\n",
    "## different capacity of Aux layer\n",
    "### 1) 64, 64 : 0.9384\n",
    "### 2) 128, 128: 0.939\n",
    "### 3) 64, 128: 0.9430418795192617\n",
    "### 4) 128, 256: :0.9390192739567138\n",
    "### 5) 64, 128, 128: 0.9351694183263\n",
    "### 6) 64, 64, 128: \n",
    "### 7) 64, 2 fcs: 0.92\n",
    "### 8) 64, 64, 64: \n",
    "model = feature_sieve(2, False).to(device)\n",
    "model, fs_train_losses, fs_train_accs, fs_val_losses, fs_val_accs = train_fs(model, train_dataloader, val_dataloader, epochs = 1, verbose = False)\n",
    "fs_test_loss, fs_test_acc = eval_fsmodel(model, test_dataloader)\n",
    "mean_group(model, groups, type='fs')"
   ]
  },
  {
   "cell_type": "code",
   "execution_count": 17,
   "id": "4f01d670-aa68-4e57-8847-c3fb834db0b7",
   "metadata": {
    "scrolled": true
   },
   "outputs": [
    {
     "name": "stderr",
     "output_type": "stream",
     "text": [
      "100%|██████████████████████████████████████████████████████████████████████████████████████████████████████████████████████████████████████████| 1/1 [11:07<00:00, 667.81s/it]\n"
     ]
    },
    {
     "name": "stdout",
     "output_type": "stream",
     "text": [
      "Test Loss: 0.1698313057422638 Test Accuracy :0.9339601688013622\n",
      "Test Loss: 1.1746660470962524 Test Accuracy :0.35097493036211697\n",
      "Test Loss: 0.5441424250602722 Test Accuracy :0.7480861669930567\n",
      "Test Loss: 0.0791403204202652 Test Accuracy :0.9811571445826791\n",
      "Test Loss: 0.11581231653690338 Test Accuracy :0.9594707288597321\n",
      "Mean group accuracy: 0.7599222426993962\n",
      "Mean group loss: 0.4784402549266815\n"
     ]
    },
    {
     "name": "stderr",
     "output_type": "stream",
     "text": [
      "100%|██████████████████████████████████████████████████████████████████████████████████████████████████████████████████████████████████████████| 1/1 [09:52<00:00, 592.18s/it]\n"
     ]
    },
    {
     "name": "stdout",
     "output_type": "stream",
     "text": [
      "Test Loss: 0.1575603187084198 Test Accuracy :0.9368969176476395\n",
      "Test Loss: 1.764522910118103 Test Accuracy :0.20055710306406685\n",
      "Test Loss: 0.716614842414856 Test Accuracy :0.6868435107708741\n",
      "Test Loss: 0.03241842985153198 Test Accuracy :0.9948665297741273\n",
      "Test Loss: 0.06531023234128952 Test Accuracy :0.9755378884750098\n",
      "Mean group accuracy: 0.7144512580210195\n",
      "Mean group loss: 0.6447166204452515\n"
     ]
    },
    {
     "name": "stderr",
     "output_type": "stream",
     "text": [
      "100%|██████████████████████████████████████████████████████████████████████████████████████████████████████████████████████████████████████████| 1/1 [09:48<00:00, 588.10s/it]\n"
     ]
    },
    {
     "name": "stdout",
     "output_type": "stream",
     "text": [
      "Test Loss: 0.15700103342533112 Test Accuracy :0.9340095259248291\n",
      "Test Loss: 1.5517865419387817 Test Accuracy :0.3370473537604457\n",
      "Test Loss: 0.4533149003982544 Test Accuracy :0.8102189781021898\n",
      "Test Loss: 0.040253229439258575 Test Accuracy :0.9897934533156179\n",
      "Test Loss: 0.14442665874958038 Test Accuracy :0.9336743203424696\n",
      "Mean group accuracy: 0.7676835263801807\n",
      "Mean group loss: 0.5474452972412109\n"
     ]
    },
    {
     "name": "stderr",
     "output_type": "stream",
     "text": [
      "100%|██████████████████████████████████████████████████████████████████████████████████████████████████████████████████████████████████████████| 1/1 [11:01<00:00, 661.78s/it]\n"
     ]
    },
    {
     "name": "stdout",
     "output_type": "stream",
     "text": [
      "Test Loss: 0.19825208187103271 Test Accuracy :0.9087140001480714\n",
      "Test Loss: 2.0077927112579346 Test Accuracy :0.1309192200557103\n",
      "Test Loss: 1.1267412900924683 Test Accuracy :0.4299448103970091\n",
      "Test Loss: 0.018203552812337875 Test Accuracy :0.9983089745138302\n",
      "Test Loss: 0.03885316103696823 Test Accuracy :0.9922721965864235\n",
      "Mean group accuracy: 0.6378613003882433\n",
      "Mean group loss: 0.7978976368904114\n"
     ]
    },
    {
     "name": "stderr",
     "output_type": "stream",
     "text": [
      "100%|██████████████████████████████████████████████████████████████████████████████████████████████████████████████████████████████████████████| 1/1 [09:45<00:00, 585.82s/it]\n"
     ]
    },
    {
     "name": "stdout",
     "output_type": "stream",
     "text": [
      "Test Loss: 0.13213969767093658 Test Accuracy :0.9465462352854076\n",
      "Test Loss: 1.5301004648208618 Test Accuracy :0.37604456824512533\n",
      "Test Loss: 0.48555824160575867 Test Accuracy :0.797578778707495\n",
      "Test Loss: 0.031048543751239777 Test Accuracy :0.9910617224302452\n",
      "Test Loss: 0.08672534674406052 Test Accuracy :0.9637515983766053\n",
      "Mean group accuracy: 0.7821091669398678\n",
      "Mean group loss: 0.533358097076416\n"
     ]
    },
    {
     "name": "stderr",
     "output_type": "stream",
     "text": [
      "100%|██████████████████████████████████████████████████████████████████████████████████████████████████████████████████████████████████████████| 1/1 [09:37<00:00, 577.61s/it]\n"
     ]
    },
    {
     "name": "stdout",
     "output_type": "stream",
     "text": [
      "Test Loss: 0.163121297955513 Test Accuracy :0.9276671355593396\n",
      "Test Loss: 1.5047574043273926 Test Accuracy :0.22562674094707522\n",
      "Test Loss: 0.7481865286827087 Test Accuracy :0.6056613850810041\n",
      "Test Loss: 0.03201163187623024 Test Accuracy :0.9966783427950235\n",
      "Test Loss: 0.07459206134080887 Test Accuracy :0.9774281425473953\n",
      "Mean group accuracy: 0.7013486528426246\n",
      "Mean group loss: 0.5898869633674622\n"
     ]
    },
    {
     "name": "stderr",
     "output_type": "stream",
     "text": [
      "100%|██████████████████████████████████████████████████████████████████████████████████████████████████████████████████████████████████████████| 1/1 [10:46<00:00, 646.00s/it]\n"
     ]
    },
    {
     "name": "stdout",
     "output_type": "stream",
     "text": [
      "Test Loss: 0.16511249542236328 Test Accuracy :0.9312455270106859\n",
      "Test Loss: 1.3234869241714478 Test Accuracy :0.41225626740947074\n",
      "Test Loss: 0.44504740834236145 Test Accuracy :0.8260637350899056\n",
      "Test Loss: 0.08427189290523529 Test Accuracy :0.9670250030196884\n",
      "Test Loss: 0.1277719885110855 Test Accuracy :0.9426808250403069\n",
      "Mean group accuracy: 0.7870064576398429\n",
      "Mean group loss: 0.4951445460319519\n"
     ]
    },
    {
     "name": "stderr",
     "output_type": "stream",
     "text": [
      "100%|██████████████████████████████████████████████████████████████████████████████████████████████████████████████████████████████████████████| 1/1 [09:42<00:00, 582.30s/it]\n"
     ]
    },
    {
     "name": "stdout",
     "output_type": "stream",
     "text": [
      "Test Loss: 0.1350981891155243 Test Accuracy :0.9454357000074036\n",
      "Test Loss: 1.2267168760299683 Test Accuracy :0.467966573816156\n",
      "Test Loss: 0.46199342608451843 Test Accuracy :0.8118212568987003\n",
      "Test Loss: 0.042480140924453735 Test Accuracy :0.9878004589926319\n",
      "Test Loss: 0.0962134301662445 Test Accuracy :0.9605270473119475\n",
      "Mean group accuracy: 0.8070288342548589\n",
      "Mean group loss: 0.45685097575187683\n"
     ]
    },
    {
     "name": "stderr",
     "output_type": "stream",
     "text": [
      "100%|██████████████████████████████████████████████████████████████████████████████████████████████████████████████████████████████████████████| 1/1 [08:50<00:00, 530.40s/it]\n"
     ]
    },
    {
     "name": "stdout",
     "output_type": "stream",
     "text": [
      "Test Loss: 0.15875907242298126 Test Accuracy :0.9358357394931024\n",
      "Test Loss: 2.282233476638794 Test Accuracy :0.1671309192200557\n",
      "Test Loss: 0.7636476755142212 Test Accuracy :0.6644116076197258\n",
      "Test Loss: 0.012468041852116585 Test Accuracy :0.9978258243749245\n",
      "Test Loss: 0.060823630541563034 Test Accuracy :0.9778173125034747\n",
      "Mean group accuracy: 0.7017964159295452\n",
      "Mean group loss: 0.7797932624816895\n",
      "Best forget lr: 0.001\n",
      "Best forget iter: 50\n"
     ]
    }
   ],
   "source": [
    "forget_iters = [2, 50, 100]\n",
    "forget_lrs = [1e-5, 1e-4, 1e-3]\n",
    "groups = [male_blond_dataloader, female_blond_dataloader, male_non_blond_dataloader, female_non_blond_dataloader]\n",
    "\n",
    "test_accs = np.zeros((len(forget_lrs), len(forget_iters)))\n",
    "\n",
    "for i in range(len(forget_lrs)):\n",
    "    for j in range(len(forget_iters)):\n",
    "        \n",
    "            model = feature_sieve(2, False).to(device)\n",
    "            model, fs_train_losses, fs_train_accs, fs_val_losses, fs_val_accs = train_fs(model, train_dataloader, val_dataloader, epochs = 1, lrs = [1e-4, 1e-4, forget_lrs[i]], forget_iters = forget_iters[j], verbose= False)\n",
    "            fs_test_loss, fs_test_accs = eval_fsmodel(model, test_dataloader)\n",
    "    \n",
    "            test_accs[i,j] = mean_group(model, groups)[0]\n",
    "\n",
    "best_forget_lr, best_forget_iter = np.unravel_index(np.argmax(test_accs), test_accs.shape)\n",
    "print(f\"Best forget lr: {forget_lrs[best_forget_lr]}\")\n",
    "print(f\"Best forget iter: {forget_iters[best_forget_iter]}\")\n"
   ]
  },
  {
   "cell_type": "code",
   "execution_count": 18,
   "id": "4b43205b-3b7f-4466-8b9d-5ef3786ada4d",
   "metadata": {},
   "outputs": [],
   "source": [
    "forget_iters = [20, 50, 100]\n",
    "forget_lrs = [1e-5, 1e-3, 1e-2]\n",
    "lrs = [1e-5, 1e-4, 1e-3]\n",
    "\n",
    "best_lr = 1\n",
    "best_forget_lr = 0\n",
    "best_forget_iter = 2"
   ]
  },
  {
   "cell_type": "markdown",
   "id": "6d227711-b77d-41ef-99e2-49823e7192e9",
   "metadata": {},
   "source": [
    "### Finetuned model"
   ]
  },
  {
   "cell_type": "code",
   "execution_count": 19,
   "id": "1fd87f4a-6ba6-4db4-80df-e2324dca5ca6",
   "metadata": {},
   "outputs": [
    {
     "name": "stderr",
     "output_type": "stream",
     "text": [
      "100%|██████████████████████████████████████████████████████████████████████████████████████████████████████████████████████████████████████| 10/10 [1:20:59<00:00, 485.97s/it]\n"
     ]
    },
    {
     "name": "stdout",
     "output_type": "stream",
     "text": [
      "Test Loss: 0.11016113311052322 Test Accuracy :0.9565163742257101\n"
     ]
    }
   ],
   "source": [
    "model = feature_sieve(2, False).to(device)\n",
    "model, fs_train_lossses, fs_train_accs, fs_val_losses, fs_val_accs = train_fs(model, train_dataloader, val_dataloader, epochs = 10, lrs = [lrs[best_lr], lrs[best_lr], forget_lrs[best_forget_lr]], forget_iters = forget_iters[best_forget_iter], verbose = False)\n",
    "fs_test_loss, fs_test_acc = eval_fsmodel(model, test_dataloader)"
   ]
  },
  {
   "cell_type": "code",
   "execution_count": 20,
   "id": "73d199c3-1a62-4873-93b9-d866a5b3eee9",
   "metadata": {},
   "outputs": [
    {
     "name": "stdout",
     "output_type": "stream",
     "text": [
      "Test Loss: 1.3099322319030762 Test Accuracy :0.4456824512534819\n",
      "Test Loss: 0.331999808549881 Test Accuracy :0.881075307103436\n",
      "Test Loss: 0.02497711032629013 Test Accuracy :0.9922695977775093\n",
      "Test Loss: 0.09595800936222076 Test Accuracy :0.9561349863790516\n",
      "Mean group accuracy: 0.8187905856283697\n",
      "Mean group loss: 0.44071677327156067\n"
     ]
    }
   ],
   "source": [
    "# 75 1e-5: 81.308\n",
    "group_wise_acc_fs = []\n",
    "group_wise_loss_fs = []\n",
    "groups = [male_blond_dataloader, female_blond_dataloader, male_non_blond_dataloader, female_non_blond_dataloader]\n",
    "\n",
    "for group in range(len(groups)):\n",
    "    loss, acc = eval_fsmodel(model, groups[group])\n",
    "    group_wise_acc_fs.append(acc)\n",
    "    group_wise_loss_fs.append(loss)\n",
    "\n",
    "mean_group_acc = np.mean(group_wise_acc_fs)\n",
    "mean_group_loss = np.mean(group_wise_loss_fs)\n",
    "\n",
    "print(f\"Mean group accuracy: {mean_group_acc}\")\n",
    "print(f\"Mean group loss: {mean_group_loss}\")"
   ]
  },
  {
   "cell_type": "code",
   "execution_count": 21,
   "id": "1100f860-4600-4f20-8ceb-242d6a61b7f3",
   "metadata": {},
   "outputs": [
    {
     "data": {
      "image/png": "[encoded data removed]",
      "text/plain": [
       "<Figure size 640x480 with 1 Axes>"
      ]
     },
     "metadata": {},
     "output_type": "display_data"
    },
    {
     "data": {
      "image/png": "[encoded data removed]",
      "text/plain": [
       "<Figure size 640x480 with 1 Axes>"
      ]
     },
     "metadata": {},
     "output_type": "display_data"
    }
   ],
   "source": [
    "plot_loss_curves(fs_train_lossses, fs_val_losses, fs_test_loss, epochs = 10, model_name = \"Feature Sieve Loss Curves\")\n",
    "plot_loss_curves(fs_train_accs, fs_val_accs, fs_test_acc, epochs = 10, model_name = \"Feature Sieve Accuracy\")"
   ]
  },
  {
   "cell_type": "markdown",
   "id": "f8290c6e-28b8-4e7d-88fb-f18278698597",
   "metadata": {},
   "source": [
    "## Comparison plots"
   ]
  },
  {
   "cell_type": "code",
   "execution_count": null,
   "id": "2da97b0c-dfb9-4b85-91f2-0f29ffe70645",
   "metadata": {},
   "outputs": [],
   "source": [
    "# Plotting the Comparisons\n",
    "plt.rcParams[\"figure.figsize\"] = (20, 10)\n",
    "fig, ax = plt.subplots(2, 3)\n",
    "fig.suptitle(\"CNN vs Feature Sieve (Space Invaders)\")\n",
    "\n",
    "# Training Loss\n",
    "ax[0,0].plot(range(len(train_losses)), train_losses, color = \"blue\", label = \"CNN\")\n",
    "ax[0,0].plot(range(len(fs_train_lossses)), fs_train_lossses,color = \"red\", label= \"Feature Sieve\")\n",
    "ax[0,0].set_xlabel(\"Epochs\")\n",
    "ax[0,0].set_ylabel(\"Loss\")\n",
    "ax[0,0].set_title(\"Training Loss\")\n",
    "ax[0,0].legend()\n",
    "\n",
    "#Validation Loss\n",
    "ax[0,1].plot(range(len(val_losses)), val_losses, color = \"blue\", label = \"CNN\")\n",
    "ax[0,1].plot(range(len(fs_val_losses)), fs_val_losses, color = \"red\", label= \"Feature Sieve\")\n",
    "ax[0,1].set_xlabel(\"Epochs\")\n",
    "ax[0,1].set_ylabel(\"Loss\")\n",
    "ax[0,1].set_title(\"Validation Loss\")\n",
    "ax[0,1].legend()\n",
    "\n",
    "#Training  Accuracy\n",
    "ax[1,0].plot(range(len(train_accs)), train_accs, color = \"blue\", label = \"CNN\")\n",
    "ax[1,0].plot(range(len(fs_train_accs)), fs_train_accs,color = \"red\", label= \"Feature Sieve\")\n",
    "ax[1,0].set_xlabel(\"Epochs\")\n",
    "ax[1,0].set_ylabel(\"Loss\")\n",
    "ax[1,0].set_title(\"Training Accuracy\")\n",
    "ax[1,0].legend()\n",
    "\n",
    "#Validation Accuracy\n",
    "ax[1,1].plot(range(len(val_losses)), val_accs, color = \"blue\", label = \"CNN\")\n",
    "ax[1,1].plot(range(len(val_losses)), fs_val_accs, color = \"red\", label= \"Feature Sieve\")\n",
    "ax[1,1].set_xlabel(\"Epochs\")\n",
    "ax[1,1].set_ylabel(\"Loss\")\n",
    "ax[1,1].set_title(\"Validation Accuracy\")\n",
    "ax[1,1].legend()\n",
    "\n",
    "#Test Loss:\n",
    "models = [\"CNN\", \"Feature Sieve\"]\n",
    "test_losses = [test_loss, fs_test_loss]\n",
    "ax[0,2].bar(models, test_losses, width = 0.4)\n",
    "ax[0,2].set_xlabel(\"Models\")\n",
    "ax[0,2].set_ylabel(\"Test Loss\")\n",
    "ax[0,2].set_title(\"Test Loss\")\n",
    "# ax[0,2].legend()\n",
    "\n",
    "# Test accuracy\n",
    "test_accs = [test_acc, fs_test_acc]\n",
    "ax[1,2].bar(models, test_accs, width = 0.4)\n",
    "ax[1,2].set_xlabel(\"Models\")\n",
    "ax[1,2].set_ylabel(\"Test Accuracy\")\n",
    "ax[1,2].set_title(\"Test Accuracy\")\n",
    "# ax[1,2].legend()\n",
    "\n",
    "plt.tight_layout()\n",
    "plt.savefig(\"./data/cnn_vs_fs_celeba.png\")\n",
    "plt.show()"
   ]
  },
  {
   "cell_type": "markdown",
   "id": "83de9d9b-d90d-440b-b8c1-335d7551458a",
   "metadata": {},
   "source": [
    "## Group wise comparison"
   ]
  },
  {
   "cell_type": "code",
   "execution_count": null,
   "id": "599a93ac-2723-4ca0-ab4f-c150b886449c",
   "metadata": {},
   "outputs": [],
   "source": [
    "group_accuracies = {\n",
    "    'cnn': group_wise_acc,\n",
    "    'Feature Sieve': group_wise_acc_fs\n",
    "}\n",
    "\n",
    "groups = ['male blond', 'female blond', 'male non blond', 'female non blond']\n",
    "\n",
    "x = np.arange(len(group_wise_acc))\n",
    "width = 0.2\n",
    "multiplier = 0\n",
    "\n",
    "fig, ax = plt.subplots(layout=\"constrained\")\n",
    "\n",
    "for model_type, group_acc in group_accuracies.items():\n",
    "    offset = width*multiplier\n",
    "    rects = ax.bar(x + offset, group_acc, width, label=model_type)\n",
    "    ax.bar_label(rects, padding=3)\n",
    "    multiplier += 1\n",
    "\n",
    "ax.set_ylabel(\"Accuracy\")\n",
    "ax.set_title(\"Groups\")\n",
    "ax.set_xticks(x+ width, groups)\n",
    "ax.legend(loc=\"upper left\")\n",
    "\n",
    "plt.savefig(\"./group_accs_comp.png\")\n",
    "plt.show()"
   ]
  },
  {
   "cell_type": "markdown",
   "id": "68018c43-8c61-4fc9-ba59-712a003618e7",
   "metadata": {},
   "source": [
    "# pretrained model"
   ]
  },
  {
   "cell_type": "code",
   "execution_count": 18,
   "id": "412d6cb5-f101-4f04-b83e-479747726de7",
   "metadata": {},
   "outputs": [],
   "source": [
    "class Resnet34(nn.Module):\n",
    "    def __init__(self, num_classes):\n",
    "        super(Resnet34, self).__init__()\n",
    "        resnet = models.resnet34(pretrained = True)\n",
    "        self.features = nn.Sequential(*list(resnet.children())[:-1])\n",
    "        self.fc = nn.Linear(512, num_classes)\n",
    "\n",
    "    def forward(self, x):\n",
    "        x = self.features(x)\n",
    "        x = x.view(x.size(0), -1)\n",
    "        x = self.fc(x)\n",
    "        return x"
   ]
  },
  {
   "cell_type": "code",
   "execution_count": 19,
   "id": "f0a6a3bb-2fc4-49a4-88a0-85e13fdfb068",
   "metadata": {
    "scrolled": true
   },
   "outputs": [
    {
     "name": "stderr",
     "output_type": "stream",
     "text": [
      "/scratch/storage0/be20b032/miniconda3/lib/python3.11/site-packages/torchvision/models/_utils.py:208: UserWarning: The parameter 'pretrained' is deprecated since 0.13 and may be removed in the future, please use 'weights' instead.\n",
      "  warnings.warn(\n",
      "/scratch/storage0/be20b032/miniconda3/lib/python3.11/site-packages/torchvision/models/_utils.py:223: UserWarning: Arguments other than a weight enum or `None` for 'weights' are deprecated since 0.13 and may be removed in the future. The current behavior is equivalent to passing `weights=ResNet34_Weights.IMAGENET1K_V1`. You can also use `weights=ResNet34_Weights.DEFAULT` to get the most up-to-date weights.\n",
      "  warnings.warn(msg)\n"
     ]
    },
    {
     "name": "stdout",
     "output_type": "stream",
     "text": [
      "----------------------------------------------------------------\n",
      "        Layer (type)               Output Shape         Param #\n",
      "================================================================\n",
      "            Conv2d-1           [-1, 64, 64, 64]           9,408\n",
      "       BatchNorm2d-2           [-1, 64, 64, 64]             128\n",
      "              ReLU-3           [-1, 64, 64, 64]               0\n",
      "         MaxPool2d-4           [-1, 64, 32, 32]               0\n",
      "            Conv2d-5           [-1, 64, 32, 32]          36,864\n",
      "       BatchNorm2d-6           [-1, 64, 32, 32]             128\n",
      "              ReLU-7           [-1, 64, 32, 32]               0\n",
      "            Conv2d-8           [-1, 64, 32, 32]          36,864\n",
      "       BatchNorm2d-9           [-1, 64, 32, 32]             128\n",
      "             ReLU-10           [-1, 64, 32, 32]               0\n",
      "       BasicBlock-11           [-1, 64, 32, 32]               0\n",
      "           Conv2d-12           [-1, 64, 32, 32]          36,864\n",
      "      BatchNorm2d-13           [-1, 64, 32, 32]             128\n",
      "             ReLU-14           [-1, 64, 32, 32]               0\n",
      "           Conv2d-15           [-1, 64, 32, 32]          36,864\n",
      "      BatchNorm2d-16           [-1, 64, 32, 32]             128\n",
      "             ReLU-17           [-1, 64, 32, 32]               0\n",
      "       BasicBlock-18           [-1, 64, 32, 32]               0\n",
      "           Conv2d-19           [-1, 64, 32, 32]          36,864\n",
      "      BatchNorm2d-20           [-1, 64, 32, 32]             128\n",
      "             ReLU-21           [-1, 64, 32, 32]               0\n",
      "           Conv2d-22           [-1, 64, 32, 32]          36,864\n",
      "      BatchNorm2d-23           [-1, 64, 32, 32]             128\n",
      "             ReLU-24           [-1, 64, 32, 32]               0\n",
      "       BasicBlock-25           [-1, 64, 32, 32]               0\n",
      "           Conv2d-26          [-1, 128, 16, 16]          73,728\n",
      "      BatchNorm2d-27          [-1, 128, 16, 16]             256\n",
      "             ReLU-28          [-1, 128, 16, 16]               0\n",
      "           Conv2d-29          [-1, 128, 16, 16]         147,456\n",
      "      BatchNorm2d-30          [-1, 128, 16, 16]             256\n",
      "           Conv2d-31          [-1, 128, 16, 16]           8,192\n",
      "      BatchNorm2d-32          [-1, 128, 16, 16]             256\n",
      "             ReLU-33          [-1, 128, 16, 16]               0\n",
      "       BasicBlock-34          [-1, 128, 16, 16]               0\n",
      "           Conv2d-35          [-1, 128, 16, 16]         147,456\n",
      "      BatchNorm2d-36          [-1, 128, 16, 16]             256\n",
      "             ReLU-37          [-1, 128, 16, 16]               0\n",
      "           Conv2d-38          [-1, 128, 16, 16]         147,456\n",
      "      BatchNorm2d-39          [-1, 128, 16, 16]             256\n",
      "             ReLU-40          [-1, 128, 16, 16]               0\n",
      "       BasicBlock-41          [-1, 128, 16, 16]               0\n",
      "           Conv2d-42          [-1, 128, 16, 16]         147,456\n",
      "      BatchNorm2d-43          [-1, 128, 16, 16]             256\n",
      "             ReLU-44          [-1, 128, 16, 16]               0\n",
      "           Conv2d-45          [-1, 128, 16, 16]         147,456\n",
      "      BatchNorm2d-46          [-1, 128, 16, 16]             256\n",
      "             ReLU-47          [-1, 128, 16, 16]               0\n",
      "       BasicBlock-48          [-1, 128, 16, 16]               0\n",
      "           Conv2d-49          [-1, 128, 16, 16]         147,456\n",
      "      BatchNorm2d-50          [-1, 128, 16, 16]             256\n",
      "             ReLU-51          [-1, 128, 16, 16]               0\n",
      "           Conv2d-52          [-1, 128, 16, 16]         147,456\n",
      "      BatchNorm2d-53          [-1, 128, 16, 16]             256\n",
      "             ReLU-54          [-1, 128, 16, 16]               0\n",
      "       BasicBlock-55          [-1, 128, 16, 16]               0\n",
      "           Conv2d-56            [-1, 256, 8, 8]         294,912\n",
      "      BatchNorm2d-57            [-1, 256, 8, 8]             512\n",
      "             ReLU-58            [-1, 256, 8, 8]               0\n",
      "           Conv2d-59            [-1, 256, 8, 8]         589,824\n",
      "      BatchNorm2d-60            [-1, 256, 8, 8]             512\n",
      "           Conv2d-61            [-1, 256, 8, 8]          32,768\n",
      "      BatchNorm2d-62            [-1, 256, 8, 8]             512\n",
      "             ReLU-63            [-1, 256, 8, 8]               0\n",
      "       BasicBlock-64            [-1, 256, 8, 8]               0\n",
      "           Conv2d-65            [-1, 256, 8, 8]         589,824\n",
      "      BatchNorm2d-66            [-1, 256, 8, 8]             512\n",
      "             ReLU-67            [-1, 256, 8, 8]               0\n",
      "           Conv2d-68            [-1, 256, 8, 8]         589,824\n",
      "      BatchNorm2d-69            [-1, 256, 8, 8]             512\n",
      "             ReLU-70            [-1, 256, 8, 8]               0\n",
      "       BasicBlock-71            [-1, 256, 8, 8]               0\n",
      "           Conv2d-72            [-1, 256, 8, 8]         589,824\n",
      "      BatchNorm2d-73            [-1, 256, 8, 8]             512\n",
      "             ReLU-74            [-1, 256, 8, 8]               0\n",
      "           Conv2d-75            [-1, 256, 8, 8]         589,824\n",
      "      BatchNorm2d-76            [-1, 256, 8, 8]             512\n",
      "             ReLU-77            [-1, 256, 8, 8]               0\n",
      "       BasicBlock-78            [-1, 256, 8, 8]               0\n",
      "           Conv2d-79            [-1, 256, 8, 8]         589,824\n",
      "      BatchNorm2d-80            [-1, 256, 8, 8]             512\n",
      "             ReLU-81            [-1, 256, 8, 8]               0\n",
      "           Conv2d-82            [-1, 256, 8, 8]         589,824\n",
      "      BatchNorm2d-83            [-1, 256, 8, 8]             512\n",
      "             ReLU-84            [-1, 256, 8, 8]               0\n",
      "       BasicBlock-85            [-1, 256, 8, 8]               0\n",
      "           Conv2d-86            [-1, 256, 8, 8]         589,824\n",
      "      BatchNorm2d-87            [-1, 256, 8, 8]             512\n",
      "             ReLU-88            [-1, 256, 8, 8]               0\n",
      "           Conv2d-89            [-1, 256, 8, 8]         589,824\n",
      "      BatchNorm2d-90            [-1, 256, 8, 8]             512\n",
      "             ReLU-91            [-1, 256, 8, 8]               0\n",
      "       BasicBlock-92            [-1, 256, 8, 8]               0\n",
      "           Conv2d-93            [-1, 256, 8, 8]         589,824\n",
      "      BatchNorm2d-94            [-1, 256, 8, 8]             512\n",
      "             ReLU-95            [-1, 256, 8, 8]               0\n",
      "           Conv2d-96            [-1, 256, 8, 8]         589,824\n",
      "      BatchNorm2d-97            [-1, 256, 8, 8]             512\n",
      "             ReLU-98            [-1, 256, 8, 8]               0\n",
      "       BasicBlock-99            [-1, 256, 8, 8]               0\n",
      "          Conv2d-100            [-1, 512, 4, 4]       1,179,648\n",
      "     BatchNorm2d-101            [-1, 512, 4, 4]           1,024\n",
      "            ReLU-102            [-1, 512, 4, 4]               0\n",
      "          Conv2d-103            [-1, 512, 4, 4]       2,359,296\n",
      "     BatchNorm2d-104            [-1, 512, 4, 4]           1,024\n",
      "          Conv2d-105            [-1, 512, 4, 4]         131,072\n",
      "     BatchNorm2d-106            [-1, 512, 4, 4]           1,024\n",
      "            ReLU-107            [-1, 512, 4, 4]               0\n",
      "      BasicBlock-108            [-1, 512, 4, 4]               0\n",
      "          Conv2d-109            [-1, 512, 4, 4]       2,359,296\n",
      "     BatchNorm2d-110            [-1, 512, 4, 4]           1,024\n",
      "            ReLU-111            [-1, 512, 4, 4]               0\n",
      "          Conv2d-112            [-1, 512, 4, 4]       2,359,296\n",
      "     BatchNorm2d-113            [-1, 512, 4, 4]           1,024\n",
      "            ReLU-114            [-1, 512, 4, 4]               0\n",
      "      BasicBlock-115            [-1, 512, 4, 4]               0\n",
      "          Conv2d-116            [-1, 512, 4, 4]       2,359,296\n",
      "     BatchNorm2d-117            [-1, 512, 4, 4]           1,024\n",
      "            ReLU-118            [-1, 512, 4, 4]               0\n",
      "          Conv2d-119            [-1, 512, 4, 4]       2,359,296\n",
      "     BatchNorm2d-120            [-1, 512, 4, 4]           1,024\n",
      "            ReLU-121            [-1, 512, 4, 4]               0\n",
      "      BasicBlock-122            [-1, 512, 4, 4]               0\n",
      "AdaptiveAvgPool2d-123            [-1, 512, 1, 1]               0\n",
      "          Linear-124                    [-1, 2]           1,026\n",
      "================================================================\n",
      "Total params: 21,285,698\n",
      "Trainable params: 21,285,698\n",
      "Non-trainable params: 0\n",
      "----------------------------------------------------------------\n",
      "Input size (MB): 0.19\n",
      "Forward/backward pass size (MB): 31.44\n",
      "Params size (MB): 81.20\n",
      "Estimated Total Size (MB): 112.83\n",
      "----------------------------------------------------------------\n"
     ]
    }
   ],
   "source": [
    "resnet_model = Resnet34(2).to(device)\n",
    "summary(resnet_model, (3, 128, 128))"
   ]
  },
  {
   "cell_type": "code",
   "execution_count": 20,
   "id": "859f146a-9b69-4ebb-82e6-b995b0bd2d37",
   "metadata": {},
   "outputs": [
    {
     "name": "stderr",
     "output_type": "stream",
     "text": [
      "100%|██████████████████████████████████████████████████████████████████████████████████████████████████████████████████████████████████████████████████████████████| 1/1 [05:31<00:00, 331.41s/it]\n"
     ]
    },
    {
     "name": "stdout",
     "output_type": "stream",
     "text": [
      "Test Loss: 0.1150081604719162 Accuracy:0.9535549468176995\n",
      "Test Loss: 1.5156474113464355 Accuracy:0.36363636363636365\n",
      "Test Loss: 0.36022359132766724 Accuracy:0.8568137515505937\n",
      "Test Loss: 0.020942971110343933 Accuracy:0.9963144220892998\n",
      "Test Loss: 0.09621182829141617 Accuracy:0.9569431292820142\n",
      "Mean group accuracy: 0.7934269166395679\n",
      "Mean group loss: 0.4982564151287079\n"
     ]
    },
    {
     "data": {
      "text/plain": [
       "(0.7934269166395679, 0.49825642)"
      ]
     },
     "execution_count": 20,
     "metadata": {},
     "output_type": "execute_result"
    }
   ],
   "source": [
    "model = Resnet34(2).to(device)\n",
    "model, train_losses, train_accs, val_losses, val_accs = train_cnn(model, train_dataloader, val_dataloader, epochs = 1, verbose = False)\n",
    "test_loss, test_acc = eval_cnn(model, test_dataloader)\n",
    "mean_group(model, groups)"
   ]
  },
  {
   "cell_type": "code",
   "execution_count": 21,
   "id": "b42d4c48-3864-4a22-8267-226065bbf58c",
   "metadata": {},
   "outputs": [],
   "source": [
    "class SiFer(nn.Module):\n",
    "    def __init__(self, block, num_classes, aux_pos = 1, aux_kernels = [128, 64], layers = [3, 4]):\n",
    "        super(SiFer, self).__init__()\n",
    "        self.num_classes = num_classes\n",
    "        self.aux_pos = aux_pos + 4\n",
    "        # main network\n",
    "        network = models.resnet34(pretrained = True)\n",
    "        self.layers = nn.ModuleList(list(network.children())[:-1])\n",
    "        self.layers.append(nn.Linear(512, num_classes))\n",
    "\n",
    "        # Auxiliary Network\n",
    "        self.aux_layers = nn.ModuleList([])\n",
    "        \n",
    "        self.inplanes = 128\n",
    "        for kernel_id in range(len(aux_kernels)):\n",
    "            self.aux_layers.append(self.__make_layer(block, aux_kernels[kernel_id], layers[kernel_id], stride = 2))\n",
    "            \n",
    "        self.aux_layers.append(nn.AvgPool2d(7, stride=1, padding=2))\n",
    "        self.aux_layers.append(nn.Linear(512, num_classes))\n",
    "\n",
    "        # parameters dict\n",
    "        self.params = nn.ModuleDict({\n",
    "            \"main\" : self.layers,\n",
    "            \"aux\"  : self.aux_layers,\n",
    "            'forget': self.layers[:self.aux_pos]\n",
    "        })\n",
    "        \n",
    "    def forward(self, x):\n",
    "        # forward for the main network\n",
    "        outputs_main = []\n",
    "        \n",
    "        for layer in self.layers[:-1]:\n",
    "            x = layer(x)\n",
    "            outputs_main.append(x)\n",
    "\n",
    "        x = x.view(x.shape[0], -1)\n",
    "        x = self.layers[-1](x)\n",
    "        outputs_main.append(x)\n",
    "\n",
    "        # forward for the aux network\n",
    "        aux = outputs_main[self.aux_pos]\n",
    "        for aux_layer in self.aux_layers[:-1]:\n",
    "            aux = aux_layer(aux)\n",
    "\n",
    "        aux = aux.view(aux.shape[0], -1)\n",
    "        aux = self.aux_layers[-1](aux)\n",
    "        return x, aux\n",
    "\n",
    "    def __make_layer(self, block, planes, blocks, stride=1):\n",
    "        downsample = None\n",
    "        if stride != 1 or self.inplanes != planes * block.expansion:\n",
    "            downsample = nn.Sequential(\n",
    "                nn.Conv2d(self.inplanes, planes * block.expansion,\n",
    "                          kernel_size=1, stride=stride, bias=False),\n",
    "                nn.BatchNorm2d(planes * block.expansion),\n",
    "            )\n",
    "\n",
    "        layers = []\n",
    "        layers.append(block(self.inplanes, planes, stride, downsample))\n",
    "        self.inplanes = planes * block.expansion\n",
    "        for i in range(1, blocks):\n",
    "            layers.append(block(self.inplanes, planes))\n",
    "\n",
    "        return nn.Sequential(*layers)"
   ]
  },
  {
   "cell_type": "code",
   "execution_count": 53,
   "id": "1f1b0e07-ad96-48a7-a066-98efd360333b",
   "metadata": {},
   "outputs": [
    {
     "name": "stderr",
     "output_type": "stream",
     "text": [
      "100%|██████████████████████████████████████████████████████████████████████████████████████████████████████████████████████████████████████████| 1/1 [11:43<00:00, 703.03s/it]\n"
     ]
    },
    {
     "name": "stdout",
     "output_type": "stream",
     "text": [
      "Test Loss: 0.14568211138248444 Test Accuracy :0.9397102736852496\n",
      "Test Loss: 0.9497866034507751 Test Accuracy :0.6382978723404256\n",
      "Test Loss: 0.2329520583152771 Test Accuracy :0.9133274492497794\n",
      "Test Loss: 0.05408108979463577 Test Accuracy :0.9801560892975981\n",
      "Test Loss: 0.1872778832912445 Test Accuracy :0.9166063171968135\n",
      "Mean group accuracy: 0.8620969320211541\n",
      "Mean group loss: 0.3560244143009186\n"
     ]
    },
    {
     "data": {
      "text/plain": [
       "(0.8620969320211541, 0.3560244)"
      ]
     },
     "execution_count": 53,
     "metadata": {},
     "output_type": "execute_result"
    }
   ],
   "source": [
    "model =  SiFer(BasicBlock, 2, aux_kernels = [128, 128], layers = [4, 5]).to(device)\n",
    "model, train_sifer_losses, train_sifer_accs, val_sifer_losses, val_sifer_accs = train_fs(model, train_dataloader, val_dataloader, forget_iters = 10, lrs = [1e-4, 1e-4, 1e-4], epochs = 1, verbose = False)\n",
    "test_loss, test_acc = eval_fsmodel(model, test_dataloader)\n",
    "mean_group(model, groups, type = 'fs')"
   ]
  },
  {
   "cell_type": "code",
   "execution_count": 21,
   "id": "1865f2fb-43d3-427b-9fb9-34dc8a9402a4",
   "metadata": {
    "scrolled": true
   },
   "outputs": [
    {
     "name": "stderr",
     "output_type": "stream",
     "text": [
      "/scratch/storage0/be20b032/miniconda3/lib/python3.11/site-packages/torchvision/models/_utils.py:223: UserWarning: Arguments other than a weight enum or `None` for 'weights' are deprecated since 0.13 and may be removed in the future. The current behavior is equivalent to passing `weights=ResNet34_Weights.IMAGENET1K_V1`. You can also use `weights=ResNet34_Weights.DEFAULT` to get the most up-to-date weights.\n",
      "  warnings.warn(msg)\n",
      "100%|██████████████████████████████████████████████████████████████████████████████████████████████████████████████████████████████████████████| 1/1 [11:22<00:00, 682.50s/it]\n"
     ]
    },
    {
     "name": "stdout",
     "output_type": "stream",
     "text": [
      "Test Loss: 0.13324549794197083 Test Accuracy :0.9462007354211397\n",
      "Test Loss: 1.4875208139419556 Test Accuracy :0.2956989247311828\n",
      "Test Loss: 0.38266441226005554 Test Accuracy :0.8386866523911491\n",
      "Test Loss: 0.03626590967178345 Test Accuracy :0.9921511803417256\n",
      "Test Loss: 0.11645053327083588 Test Accuracy :0.9512290067845623\n",
      "Mean group accuracy: 0.769441441062155\n",
      "Mean group loss: 0.5057254433631897\n"
     ]
    },
    {
     "name": "stderr",
     "output_type": "stream",
     "text": [
      "100%|██████████████████████████████████████████████████████████████████████████████████████████████████████████████████████████████████████████| 1/1 [10:34<00:00, 634.80s/it]\n"
     ]
    },
    {
     "name": "stdout",
     "output_type": "stream",
     "text": [
      "Test Loss: 0.1394372284412384 Test Accuracy :0.9425483082845931\n",
      "Test Loss: 1.355662226676941 Test Accuracy :0.478494623655914\n",
      "Test Loss: 0.2976400554180145 Test Accuracy :0.8888294075660242\n",
      "Test Loss: 0.04159597307443619 Test Accuracy :0.9871400108675964\n",
      "Test Loss: 0.15435107052326202 Test Accuracy :0.9302635969302636\n",
      "Mean group accuracy: 0.8211819097549495\n",
      "Mean group loss: 0.46231234073638916\n"
     ]
    },
    {
     "name": "stderr",
     "output_type": "stream",
     "text": [
      "100%|██████████████████████████████████████████████████████████████████████████████████████████████████████████████████████████████████████████| 1/1 [10:15<00:00, 615.97s/it]\n"
     ]
    },
    {
     "name": "stdout",
     "output_type": "stream",
     "text": [
      "Test Loss: 0.13873571157455444 Test Accuracy :0.9458552355568718\n",
      "Test Loss: 2.1122255325317383 Test Accuracy :0.22311827956989247\n",
      "Test Loss: 0.6402254104614258 Test Accuracy :0.7425053533190579\n",
      "Test Loss: 0.013825788162648678 Test Accuracy :0.9973434764233533\n",
      "Test Loss: 0.056406617164611816 Test Accuracy :0.9776999221443666\n",
      "Mean group accuracy: 0.7351667578641675\n",
      "Mean group loss: 0.7056708335876465\n"
     ]
    },
    {
     "name": "stderr",
     "output_type": "stream",
     "text": [
      "100%|██████████████████████████████████████████████████████████████████████████████████████████████████████████████████████████████████████████| 1/1 [11:25<00:00, 685.88s/it]\n"
     ]
    },
    {
     "name": "stdout",
     "output_type": "stream",
     "text": [
      "Test Loss: 0.1327960193157196 Test Accuracy :0.9472619135756768\n",
      "Test Loss: 1.679449439048767 Test Accuracy :0.2446236559139785\n",
      "Test Loss: 0.5142436027526855 Test Accuracy :0.7855103497501784\n",
      "Test Loss: 0.027545733377337456 Test Accuracy :0.994445450703375\n",
      "Test Loss: 0.07968510687351227 Test Accuracy :0.9686353019686353\n",
      "Mean group accuracy: 0.7483036895840418\n",
      "Mean group loss: 0.5752310156822205\n"
     ]
    },
    {
     "name": "stderr",
     "output_type": "stream",
     "text": [
      "100%|██████████████████████████████████████████████████████████████████████████████████████████████████████████████████████████████████████████| 1/1 [10:10<00:00, 610.19s/it]\n"
     ]
    },
    {
     "name": "stdout",
     "output_type": "stream",
     "text": [
      "Test Loss: 0.12130971997976303 Test Accuracy :0.950840305027023\n",
      "Test Loss: 1.2907079458236694 Test Accuracy :0.43548387096774194\n",
      "Test Loss: 0.2578207552433014 Test Accuracy :0.9029264810849393\n",
      "Test Loss: 0.03014342673122883 Test Accuracy :0.9907625430175693\n",
      "Test Loss: 0.13764218986034393 Test Accuracy :0.9382159937715493\n",
      "Mean group accuracy: 0.8168472222104499\n",
      "Mean group loss: 0.4290785491466522\n"
     ]
    },
    {
     "name": "stderr",
     "output_type": "stream",
     "text": [
      "100%|██████████████████████████████████████████████████████████████████████████████████████████████████████████████████████████████████████████| 1/1 [09:51<00:00, 591.93s/it]\n"
     ]
    },
    {
     "name": "stdout",
     "output_type": "stream",
     "text": [
      "Test Loss: 0.16637958586215973 Test Accuracy :0.9338367759926951\n",
      "Test Loss: 1.7970327138900757 Test Accuracy :0.33064516129032256\n",
      "Test Loss: 0.6173924207687378 Test Accuracy :0.7403640256959315\n",
      "Test Loss: 0.06047535315155983 Test Accuracy :0.980317575318481\n",
      "Test Loss: 0.09032683074474335 Test Accuracy :0.9634634634634635\n",
      "Mean group accuracy: 0.7536975564420497\n",
      "Mean group loss: 0.6413068175315857\n"
     ]
    },
    {
     "name": "stderr",
     "output_type": "stream",
     "text": [
      "100%|██████████████████████████████████████████████████████████████████████████████████████████████████████████████████████████████████████████| 1/1 [11:09<00:00, 669.12s/it]\n"
     ]
    },
    {
     "name": "stdout",
     "output_type": "stream",
     "text": [
      "Test Loss: 0.13834871351718903 Test Accuracy :0.9440043434268651\n",
      "Test Loss: 1.71884286403656 Test Accuracy :0.30913978494623656\n",
      "Test Loss: 0.5062057971954346 Test Accuracy :0.7865810135617416\n",
      "Test Loss: 0.026125380769371986 Test Accuracy :0.9933586910583831\n",
      "Test Loss: 0.09233415126800537 Test Accuracy :0.9620175731286842\n",
      "Mean group accuracy: 0.7627742656737615\n",
      "Mean group loss: 0.5858770608901978\n"
     ]
    },
    {
     "name": "stderr",
     "output_type": "stream",
     "text": [
      "100%|██████████████████████████████████████████████████████████████████████████████████████████████████████████████████████████████████████████| 1/1 [09:54<00:00, 594.86s/it]\n"
     ]
    },
    {
     "name": "stdout",
     "output_type": "stream",
     "text": [
      "Test Loss: 0.12040935456752777 Test Accuracy :0.9509636978356901\n",
      "Test Loss: 1.6925352811813354 Test Accuracy :0.31451612903225806\n",
      "Test Loss: 0.3459051847457886 Test Accuracy :0.8679514632405425\n",
      "Test Loss: 0.02117122709751129 Test Accuracy :0.9938416953450462\n",
      "Test Loss: 0.10935906320810318 Test Accuracy :0.9503392281170059\n",
      "Mean group accuracy: 0.7816621289337131\n",
      "Mean group loss: 0.542242705821991\n"
     ]
    },
    {
     "name": "stderr",
     "output_type": "stream",
     "text": [
      "100%|██████████████████████████████████████████████████████████████████████████████████████████████████████████████████████████████████████████| 1/1 [09:49<00:00, 589.27s/it]\n"
     ]
    },
    {
     "name": "stdout",
     "output_type": "stream",
     "text": [
      "Test Loss: 0.12624716758728027 Test Accuracy :0.9500505910515535\n",
      "Test Loss: 2.1343185901641846 Test Accuracy :0.21236559139784947\n",
      "Test Loss: 0.492754727602005 Test Accuracy :0.7806923625981442\n",
      "Test Loss: 0.014926813542842865 Test Accuracy :0.996981223208356\n",
      "Test Loss: 0.07273456454277039 Test Accuracy :0.9739183628072517\n",
      "Mean group accuracy: 0.7409893850029003\n",
      "Mean group loss: 0.6786836981773376\n",
      "Best forget lr: 1e-05\n",
      "Best forget iter: 10\n"
     ]
    }
   ],
   "source": [
    "forget_iters = [2, 10, 50, 100]\n",
    "forget_lrs = [1e-5, 1e-4, 1e-3]\n",
    "groups = [male_blond_dataloader, female_blond_dataloader, male_non_blond_dataloader, female_non_blond_dataloader]\n",
    "\n",
    "test_accs = np.zeros((len(forget_lrs), len(forget_iters)))\n",
    "\n",
    "for i in range(len(forget_lrs)):\n",
    "    for j in range(len(forget_iters)):\n",
    "            print(f\"Forget lr: {forget_lrs[i]} Forget iters: {forget_iters[j]}\")\n",
    "            model = SiFer(BasicBlock, 2, aux_kernels = [128, 128], layers = [4, 5]).to(device)\n",
    "            model, fs_train_losses, fs_train_accs, fs_val_losses, fs_val_accs = train_fs(model, train_dataloader, val_dataloader, epochs = 1, lrs = [1e-4, 1e-4, forget_lrs[i]], forget_iters = forget_iters[j], verbose= False)\n",
    "            fs_test_loss, fs_test_accs = eval_fsmodel(model, test_dataloader)\n",
    "    \n",
    "            test_accs[i,j] = mean_group(model, groups, type = 'fs')[0]\n",
    "\n",
    "best_forget_lr, best_forget_iter = np.unravel_index(np.argmax(test_accs), test_accs.shape)\n",
    "print(f\"Best forget lr: {forget_lrs[best_forget_lr]}\")\n",
    "print(f\"Best forget iter: {forget_iters[best_forget_iter]}\")"
   ]
  },
  {
   "cell_type": "code",
   "execution_count": 21,
   "id": "316759ce-bb07-430a-8daa-fa1f6d58f519",
   "metadata": {},
   "outputs": [
    {
     "name": "stderr",
     "output_type": "stream",
     "text": [
      "100%|██████████████████████████████████████████████████████████████████████████████████████████████████████████████████████████████████████████| 1/1 [09:07<00:00, 547.30s/it]\n"
     ]
    },
    {
     "name": "stdout",
     "output_type": "stream",
     "text": [
      "Test Loss: 0.14257486164569855 Test Accuracy :0.9426963796549938\n",
      "Test Loss: 0.8375502228736877 Test Accuracy :0.6720430107526881\n",
      "Test Loss: 0.18531036376953125 Test Accuracy :0.9305829596412556\n",
      "Test Loss: 0.05652526766061783 Test Accuracy :0.9802046534291631\n",
      "Test Loss: 0.19450326263904572 Test Accuracy :0.9171072923551443\n",
      "Mean group accuracy: 0.8749844790445627\n",
      "Mean group loss: 0.3184722661972046\n"
     ]
    },
    {
     "data": {
      "text/plain": [
       "(0.8749844790445627, 0.31847227)"
      ]
     },
     "execution_count": 21,
     "metadata": {},
     "output_type": "execute_result"
    }
   ],
   "source": [
    "model =  SiFer(BasicBlock, 2, aux_kernels = [64, 128], layers = [3, 4]).to(device)\n",
    "model, train_sifer_losses, train_sifer_accs, val_sifer_losses, val_sifer_accs = train_fs(model, train_dataloader, val_dataloader, forget_iters = 20, lrs = [1e-4, 1e-4, 1e-4], epochs = 1, verbose = False)\n",
    "test_loss, test_acc = eval_fsmodel(model, test_dataloader)\n",
    "mean_group(model, groups, type = 'fs')"
   ]
  },
  {
   "cell_type": "code",
   "execution_count": 22,
   "id": "884a4fd8-a07e-4c88-9c2b-4be62c666e84",
   "metadata": {},
   "outputs": [
    {
     "name": "stderr",
     "output_type": "stream",
     "text": [
      "100%|██████████████████████████████████████████████████████████████████████████████████████████████████████████████████████████████████████████████████████████████| 1/1 [07:52<00:00, 472.19s/it]\n"
     ]
    },
    {
     "name": "stdout",
     "output_type": "stream",
     "text": [
      "Test Loss: 0.12100166082382202 Test Accuracy :0.9508156264652896\n",
      "Test Loss: 1.6085113286972046 Test Accuracy :0.29411764705882354\n",
      "Test Loss: 0.42256608605384827 Test Accuracy :0.8178273967747652\n",
      "Test Loss: 0.01822655275464058 Test Accuracy :0.9961331641592653\n",
      "Test Loss: 0.09130536764860153 Test Accuracy :0.9632930429454687\n",
      "Mean group accuracy: 0.7678428127345807\n",
      "Mean group loss: 0.5351523160934448\n"
     ]
    },
    {
     "data": {
      "text/plain": [
       "(0.7678428127345807, 0.5351523)"
      ]
     },
     "execution_count": 22,
     "metadata": {},
     "output_type": "execute_result"
    }
   ],
   "source": [
    "model =  SiFer(BasicBlock, 2, aux_kernels = [64, 128], layers = [3, 4]).to(device)\n",
    "model, train_sifer_losses, train_sifer_accs, val_sifer_losses, val_sifer_accs = train_fs(model, train_dataloader, val_dataloader, forget_iters = 20, lrs = [1e-4, 1e-4, 1e-4], epochs = 1, verbose = False)\n",
    "test_loss, test_acc = eval_fsmodel(model, test_dataloader)\n",
    "mean_group(model, groups, type = 'fs')"
   ]
  },
  {
   "cell_type": "code",
   "execution_count": null,
   "id": "84dd6702-3c1f-4748-bf72-ff4efd8a0379",
   "metadata": {},
   "outputs": [],
   "source": []
  }
 ],
 "metadata": {
  "kernelspec": {
   "display_name": "Python 3 (ipykernel)",
   "language": "python",
   "name": "python3"
  },
  "language_info": {
   "codemirror_mode": {
    "name": "ipython",
    "version": 3
   },
   "file_extension": ".py",
   "mimetype": "text/x-python",
   "name": "python",
   "nbconvert_exporter": "python",
   "pygments_lexer": "ipython3",
   "version": "3.11.5"
  }
 },
 "nbformat": 4,
 "nbformat_minor": 5
}
