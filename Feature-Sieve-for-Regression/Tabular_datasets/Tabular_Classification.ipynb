{
 "cells": [
  {
   "cell_type": "markdown",
   "id": "c16b0818-73f9-49be-be3a-96a1a0ed9d13",
   "metadata": {},
   "source": [
    "# Tabular Dataset for Classification\n"
   ]
  },
  {
   "cell_type": "code",
   "execution_count": 1,
   "id": "c9205117-609a-40cc-8cdb-977b4e412168",
   "metadata": {},
   "outputs": [],
   "source": [
    "# importing libraries\n",
    "import torch\n",
    "from torch import nn, optim\n",
    "import torch.nn.functional as F\n",
    "from torch.utils.data import Dataset, DataLoader\n",
    "import numpy as np\n",
    "import openml as oml\n",
    "\n",
    "from sklearn import datasets, linear_model, ensemble, tree, metrics\n",
    "from xgboost import XGBClassifier\n",
    "from catboost import CatBoostClassifier\n",
    "from lightgbm import LGBMClassifier\n",
    "\n",
    "from models.mlp import net, train_net, eval_net\n",
    "from models.sifer_class import SiFer_Class, learn_main_clf, learn_aux_clf, forget_aux_clf, train_class, eval_fsclass\n",
    "\n",
    "import pandas as pd\n",
    "import seaborn as sns\n",
    "import matplotlib.pyplot as plt\n",
    "from tqdm import tqdm\n",
    "\n",
    "SEED = 3407\n",
    "\n",
    "torch.manual_seed(SEED)\n",
    "torch.cuda.set_device(2)\n",
    "torch.cuda.manual_seed(SEED)\n",
    "device = torch.device(\"cuda\" if torch.cuda.is_available() else \"cpu\")\n",
    "torch.backends.cudnn.deterministic = True\n",
    "torch.backends.cudnn.benchmark = False"
   ]
  },
  {
   "cell_type": "markdown",
   "id": "584c5e75-8a4a-42e6-8cec-d5efcd5967cf",
   "metadata": {},
   "source": [
    "## Datasets"
   ]
  },
  {
   "cell_type": "code",
   "execution_count": 2,
   "id": "cdfb24d4-59a7-476b-b99a-5421d7319697",
   "metadata": {},
   "outputs": [],
   "source": [
    "dataset_name = \"electricity\"\n",
    "df = datasets.fetch_openml(name =dataset_name, version = 1)"
   ]
  },
  {
   "cell_type": "code",
   "execution_count": 3,
   "id": "9a4b2f3c-77a0-4d46-a6fe-25a0e95536d7",
   "metadata": {},
   "outputs": [
    {
     "name": "stdout",
     "output_type": "stream",
     "text": [
      "Num of features: 8\n",
      "Num of Classes: 2\n",
      "Features:  ['date', 'day', 'period', 'nswprice', 'nswdemand', 'vicprice', 'vicdemand', 'transfer']\n",
      "Targets:  ['class']\n",
      "Dataset size:  (45312, 8)\n"
     ]
    },
    {
     "data": {
      "text/html": [
       "<div>\n",
       "<style scoped>\n",
       "    .dataframe tbody tr th:only-of-type {\n",
       "        vertical-align: middle;\n",
       "    }\n",
       "\n",
       "    .dataframe tbody tr th {\n",
       "        vertical-align: top;\n",
       "    }\n",
       "\n",
       "    .dataframe thead th {\n",
       "        text-align: right;\n",
       "    }\n",
       "</style>\n",
       "<table border=\"1\" class=\"dataframe\">\n",
       "  <thead>\n",
       "    <tr style=\"text-align: right;\">\n",
       "      <th></th>\n",
       "      <th>date</th>\n",
       "      <th>day</th>\n",
       "      <th>period</th>\n",
       "      <th>nswprice</th>\n",
       "      <th>nswdemand</th>\n",
       "      <th>vicprice</th>\n",
       "      <th>vicdemand</th>\n",
       "      <th>transfer</th>\n",
       "    </tr>\n",
       "  </thead>\n",
       "  <tbody>\n",
       "    <tr>\n",
       "      <th>0</th>\n",
       "      <td>0.0</td>\n",
       "      <td>2.0</td>\n",
       "      <td>0.000000</td>\n",
       "      <td>0.056443</td>\n",
       "      <td>0.439155</td>\n",
       "      <td>0.003467</td>\n",
       "      <td>0.422915</td>\n",
       "      <td>0.414912</td>\n",
       "    </tr>\n",
       "    <tr>\n",
       "      <th>1</th>\n",
       "      <td>0.0</td>\n",
       "      <td>2.0</td>\n",
       "      <td>0.021277</td>\n",
       "      <td>0.051699</td>\n",
       "      <td>0.415055</td>\n",
       "      <td>0.003467</td>\n",
       "      <td>0.422915</td>\n",
       "      <td>0.414912</td>\n",
       "    </tr>\n",
       "    <tr>\n",
       "      <th>2</th>\n",
       "      <td>0.0</td>\n",
       "      <td>2.0</td>\n",
       "      <td>0.042553</td>\n",
       "      <td>0.051489</td>\n",
       "      <td>0.385004</td>\n",
       "      <td>0.003467</td>\n",
       "      <td>0.422915</td>\n",
       "      <td>0.414912</td>\n",
       "    </tr>\n",
       "    <tr>\n",
       "      <th>3</th>\n",
       "      <td>0.0</td>\n",
       "      <td>2.0</td>\n",
       "      <td>0.063830</td>\n",
       "      <td>0.045485</td>\n",
       "      <td>0.314639</td>\n",
       "      <td>0.003467</td>\n",
       "      <td>0.422915</td>\n",
       "      <td>0.414912</td>\n",
       "    </tr>\n",
       "    <tr>\n",
       "      <th>4</th>\n",
       "      <td>0.0</td>\n",
       "      <td>2.0</td>\n",
       "      <td>0.085106</td>\n",
       "      <td>0.042482</td>\n",
       "      <td>0.251116</td>\n",
       "      <td>0.003467</td>\n",
       "      <td>0.422915</td>\n",
       "      <td>0.414912</td>\n",
       "    </tr>\n",
       "  </tbody>\n",
       "</table>\n",
       "</div>"
      ],
      "text/plain": [
       "   date  day    period  nswprice  nswdemand  vicprice  vicdemand  transfer\n",
       "0   0.0  2.0  0.000000  0.056443   0.439155  0.003467   0.422915  0.414912\n",
       "1   0.0  2.0  0.021277  0.051699   0.415055  0.003467   0.422915  0.414912\n",
       "2   0.0  2.0  0.042553  0.051489   0.385004  0.003467   0.422915  0.414912\n",
       "3   0.0  2.0  0.063830  0.045485   0.314639  0.003467   0.422915  0.414912\n",
       "4   0.0  2.0  0.085106  0.042482   0.251116  0.003467   0.422915  0.414912"
      ]
     },
     "execution_count": 3,
     "metadata": {},
     "output_type": "execute_result"
    }
   ],
   "source": [
    "inputs = df['data']\n",
    "targets = df['target']\n",
    "data = pd.concat([inputs, targets], axis = 1).dropna().reset_index(drop = True)\n",
    "\n",
    "inputs, targets = data.loc[:, df['feature_names']], data.loc[:, df['target_names']]\n",
    "inputs['day'] = inputs['day'].astype(float)\n",
    "\n",
    "num_classes = pd.unique(targets.squeeze()).shape[0]\n",
    "num_features = inputs.shape[1]\n",
    "\n",
    "print(f\"Num of features: {num_features}\")\n",
    "print(f\"Num of Classes: {num_classes}\")\n",
    "print(\"Features: \", df['feature_names'])\n",
    "print(\"Targets: \", df['target_names'])\n",
    "print(\"Dataset size: \", inputs.shape)\n",
    "inputs.head()"
   ]
  },
  {
   "cell_type": "code",
   "execution_count": 4,
   "id": "a7da7c15-05a9-4a57-a3e5-f123157348fb",
   "metadata": {},
   "outputs": [
    {
     "data": {
      "text/html": [
       "<div>\n",
       "<style scoped>\n",
       "    .dataframe tbody tr th:only-of-type {\n",
       "        vertical-align: middle;\n",
       "    }\n",
       "\n",
       "    .dataframe tbody tr th {\n",
       "        vertical-align: top;\n",
       "    }\n",
       "\n",
       "    .dataframe thead th {\n",
       "        text-align: right;\n",
       "    }\n",
       "</style>\n",
       "<table border=\"1\" class=\"dataframe\">\n",
       "  <thead>\n",
       "    <tr style=\"text-align: right;\">\n",
       "      <th></th>\n",
       "      <th>class</th>\n",
       "    </tr>\n",
       "  </thead>\n",
       "  <tbody>\n",
       "    <tr>\n",
       "      <th>0</th>\n",
       "      <td>0</td>\n",
       "    </tr>\n",
       "    <tr>\n",
       "      <th>1</th>\n",
       "      <td>0</td>\n",
       "    </tr>\n",
       "    <tr>\n",
       "      <th>2</th>\n",
       "      <td>0</td>\n",
       "    </tr>\n",
       "    <tr>\n",
       "      <th>3</th>\n",
       "      <td>1</td>\n",
       "    </tr>\n",
       "    <tr>\n",
       "      <th>4</th>\n",
       "      <td>0</td>\n",
       "    </tr>\n",
       "  </tbody>\n",
       "</table>\n",
       "</div>"
      ],
      "text/plain": [
       "   class\n",
       "0      0\n",
       "1      0\n",
       "2      0\n",
       "3      1\n",
       "4      0"
      ]
     },
     "execution_count": 4,
     "metadata": {},
     "output_type": "execute_result"
    }
   ],
   "source": [
    "data = pd.concat([inputs, targets], axis = 1)\n",
    "sampled_data = data.sample(frac =1, replace = False, random_state = SEED).reset_index(drop = True)\n",
    "inputs = sampled_data.loc[:, inputs.columns]\n",
    "targets = sampled_data.loc[:, df['target_names']]\n",
    "targets[df['target_names']] = targets[df['target_names']].astype(\"category\").apply(lambda x: x.cat.codes)\n",
    "targets.head()"
   ]
  },
  {
   "cell_type": "markdown",
   "id": "66335cca-7535-427b-8de5-63a097780393",
   "metadata": {},
   "source": [
    "## Train Test Split"
   ]
  },
  {
   "cell_type": "code",
   "execution_count": 5,
   "id": "55c8d1fb-349d-46c6-b890-6433a549d072",
   "metadata": {},
   "outputs": [
    {
     "name": "stdout",
     "output_type": "stream",
     "text": [
      "Train datapoints: 27187\n",
      "Validation datapoints: 9062\n",
      "Test datapoints: 9063\n"
     ]
    }
   ],
   "source": [
    "TRAIN_PTS = int(inputs.shape[0] * 0.6)\n",
    "VALID_PTS = int(inputs.shape[0] * 0.2)\n",
    "TEST_PTS = int(inputs.shape[0] * 0.2)\n",
    "\n",
    "train_inputs, train_targets = inputs[:TRAIN_PTS], targets[:TRAIN_PTS]\n",
    "valid_inputs, valid_targets = inputs[TRAIN_PTS: TRAIN_PTS + VALID_PTS], targets[TRAIN_PTS: TRAIN_PTS + VALID_PTS]\n",
    "test_inputs, test_targets = inputs[TRAIN_PTS + VALID_PTS: ], targets[TRAIN_PTS + VALID_PTS: ]\n",
    "\n",
    "print(f\"Train datapoints: {train_inputs.shape[0]}\")\n",
    "print(f\"Validation datapoints: {valid_inputs.shape[0]}\")\n",
    "print(f\"Test datapoints: {test_inputs.shape[0]}\")"
   ]
  },
  {
   "cell_type": "markdown",
   "id": "c6ad5aee-c1ad-43fa-946e-694e37df736a",
   "metadata": {},
   "source": [
    "## Analysis of the dataset"
   ]
  },
  {
   "cell_type": "code",
   "execution_count": 6,
   "id": "bebd6c59-e3e1-4093-a09c-02bc5a9325c6",
   "metadata": {
    "scrolled": true
   },
   "outputs": [
    {
     "data": {
      "image/png": "[encoded data removed]",
      "text/plain": [
       "<Figure size 800x600 with 2 Axes>"
      ]
     },
     "metadata": {},
     "output_type": "display_data"
    }
   ],
   "source": [
    "# correlation between the features and targets\n",
    "plt.figure(figsize = (8, 6))\n",
    "corr_df = pd.concat([train_inputs, train_targets], axis = 1)\n",
    "corr_df = corr_df.corr()\n",
    "sns.heatmap(corr_df)\n",
    "plt.show()"
   ]
  },
  {
   "cell_type": "code",
   "execution_count": 7,
   "id": "78912915-c9d5-48ad-ba56-4eabf6bda18d",
   "metadata": {
    "scrolled": true
   },
   "outputs": [
    {
     "data": {
      "image/png": "[encoded data removed]",
      "text/plain": [
       "<Figure size 800x600 with 1 Axes>"
      ]
     },
     "metadata": {},
     "output_type": "display_data"
    }
   ],
   "source": [
    "plt.figure(figsize = (8,6))\n",
    "plt.hist(test_targets)\n",
    "plt.show()"
   ]
  },
  {
   "cell_type": "markdown",
   "id": "d0622c94-f8cf-42c4-83f1-94c48dcbe708",
   "metadata": {},
   "source": [
    "### Datasets and DataLoader"
   ]
  },
  {
   "cell_type": "code",
   "execution_count": 8,
   "id": "17b5fffc-587c-45a7-a316-9c1399d534fe",
   "metadata": {},
   "outputs": [],
   "source": [
    "class CustomDataset(Dataset):\n",
    "    def __init__(self, data, targets):\n",
    "        self.data = data\n",
    "        self.targets = targets\n",
    "\n",
    "    def __getitem__(self, idx):\n",
    "        x = self.data[idx]\n",
    "        y = self.targets[idx]\n",
    "        return x,y\n",
    "\n",
    "    def __len__(self):\n",
    "        return self.data.shape[0]\n",
    "\n",
    "EPSILON = 1e-12\n",
    "# normalization of the input(min max normali)\n",
    "norm_val_inputs = ((valid_inputs - valid_inputs.min()) / (valid_inputs.max() - valid_inputs.min()+EPSILON)).to_numpy()\n",
    "norm_tst_inputs = ((test_inputs - test_inputs.min()) / (test_inputs.max() - test_inputs.min()+EPSILON)).to_numpy()\n",
    "norm_train_inputs = ((train_inputs - train_inputs.min()) / (train_inputs.max() - train_inputs.min()+EPSILON)).to_numpy()\n",
    "\n",
    "val_inputs, val_targets = valid_inputs.to_numpy(), valid_targets.to_numpy().reshape((-1,1))\n",
    "tst_inputs, tst_targets = test_inputs.to_numpy(), test_targets.to_numpy().reshape((-1,1))\n",
    "train_inputs, train_targets = train_inputs.to_numpy(), train_targets.to_numpy().reshape((-1,1))\n",
    "\n",
    "train_dataset = CustomDataset(train_inputs, train_targets)\n",
    "train_dataloader = DataLoader(\n",
    "    dataset = train_dataset, \n",
    "    shuffle = True, \n",
    "    batch_size = 64\n",
    ")\n",
    "\n",
    "norm_train_dataset = CustomDataset(norm_train_inputs, train_targets)\n",
    "norm_train_dataloader = DataLoader(\n",
    "    dataset = norm_train_dataset, \n",
    "    shuffle = True, \n",
    "    batch_size = 64\n",
    ")"
   ]
  },
  {
   "cell_type": "markdown",
   "id": "990f53cf-d953-488c-840f-eef3c09cbd00",
   "metadata": {},
   "source": [
    "## 1) Logistic Regression"
   ]
  },
  {
   "cell_type": "code",
   "execution_count": 9,
   "id": "37319597-4ef5-46e6-b0db-7f78eb5c6534",
   "metadata": {},
   "outputs": [
    {
     "name": "stderr",
     "output_type": "stream",
     "text": [
      "/scratch/storage0/be20b032/miniconda3/lib/python3.11/site-packages/sklearn/utils/validation.py:1229: DataConversionWarning: A column-vector y was passed when a 1d array was expected. Please change the shape of y to (n_samples, ), for example using ravel().\n",
      "  y = column_or_1d(y, warn=True)\n"
     ]
    },
    {
     "name": "stdout",
     "output_type": "stream",
     "text": [
      "Test Accuracy: 0.7484276729559748\n"
     ]
    }
   ],
   "source": [
    "lr = linear_model.LogisticRegression(random_state = SEED)\n",
    "lr.fit(norm_train_inputs, train_targets)\n",
    "test_preds = lr.predict(norm_tst_inputs)\n",
    "\n",
    "test_acc_lr = metrics.accuracy_score(tst_targets, test_preds)\n",
    "# test_f1_lr = metrics.f1_score(tst_targets, test_preds)\n",
    "# test_recall_lr = metrics.recall_score(tst_targets, test_preds)\n",
    "# test_precision_lr = metrics.precision_score(tst_targets, test_preds)\n",
    "\n",
    "print(f\"Test Accuracy: {test_acc_lr}\")\n",
    "# print(f\"Test F1 score: {test_f1_lr}\")\n",
    "# print(f\"Test Recall score: {test_recall_lr}\")\n",
    "# print(f\"Test precision score: {test_precision_lr}\")"
   ]
  },
  {
   "cell_type": "markdown",
   "id": "4d974b25-5443-4ee1-a837-b55ca4b4f1f5",
   "metadata": {},
   "source": [
    "## 2) Random Forest Classifier"
   ]
  },
  {
   "cell_type": "code",
   "execution_count": 10,
   "id": "3f3bb1ac-a5b4-4a43-9bd8-145e101e1203",
   "metadata": {
    "scrolled": true
   },
   "outputs": [
    {
     "name": "stderr",
     "output_type": "stream",
     "text": [
      "  0%|                                                           | 0/11 [00:00<?, ?it/s]/scratch/storage0/be20b032/miniconda3/lib/python3.11/site-packages/sklearn/base.py:1351: DataConversionWarning: A column-vector y was passed when a 1d array was expected. Please change the shape of y to (n_samples,), for example using ravel().\n",
      "  return fit_method(estimator, *args, **kwargs)\n",
      "  9%|████▋                                              | 1/11 [00:00<00:01,  6.99it/s]/scratch/storage0/be20b032/miniconda3/lib/python3.11/site-packages/sklearn/base.py:1351: DataConversionWarning: A column-vector y was passed when a 1d array was expected. Please change the shape of y to (n_samples,), for example using ravel().\n",
      "  return fit_method(estimator, *args, **kwargs)\n",
      " 18%|█████████▎                                         | 2/11 [00:00<00:02,  3.69it/s]/scratch/storage0/be20b032/miniconda3/lib/python3.11/site-packages/sklearn/base.py:1351: DataConversionWarning: A column-vector y was passed when a 1d array was expected. Please change the shape of y to (n_samples,), for example using ravel().\n",
      "  return fit_method(estimator, *args, **kwargs)\n",
      " 27%|█████████████▉                                     | 3/11 [00:01<00:03,  2.13it/s]/scratch/storage0/be20b032/miniconda3/lib/python3.11/site-packages/sklearn/base.py:1351: DataConversionWarning: A column-vector y was passed when a 1d array was expected. Please change the shape of y to (n_samples,), for example using ravel().\n",
      "  return fit_method(estimator, *args, **kwargs)\n",
      " 36%|██████████████████▌                                | 4/11 [00:03<00:07,  1.07s/it]/scratch/storage0/be20b032/miniconda3/lib/python3.11/site-packages/sklearn/base.py:1351: DataConversionWarning: A column-vector y was passed when a 1d array was expected. Please change the shape of y to (n_samples,), for example using ravel().\n",
      "  return fit_method(estimator, *args, **kwargs)\n",
      " 45%|███████████████████████▏                           | 5/11 [00:06<00:11,  1.93s/it]/scratch/storage0/be20b032/miniconda3/lib/python3.11/site-packages/sklearn/base.py:1351: DataConversionWarning: A column-vector y was passed when a 1d array was expected. Please change the shape of y to (n_samples,), for example using ravel().\n",
      "  return fit_method(estimator, *args, **kwargs)\n",
      " 55%|███████████████████████████▊                       | 6/11 [00:11<00:15,  3.04s/it]/scratch/storage0/be20b032/miniconda3/lib/python3.11/site-packages/sklearn/base.py:1351: DataConversionWarning: A column-vector y was passed when a 1d array was expected. Please change the shape of y to (n_samples,), for example using ravel().\n",
      "  return fit_method(estimator, *args, **kwargs)\n",
      " 64%|████████████████████████████████▍                  | 7/11 [00:19<00:17,  4.43s/it]/scratch/storage0/be20b032/miniconda3/lib/python3.11/site-packages/sklearn/base.py:1351: DataConversionWarning: A column-vector y was passed when a 1d array was expected. Please change the shape of y to (n_samples,), for example using ravel().\n",
      "  return fit_method(estimator, *args, **kwargs)\n",
      " 73%|█████████████████████████████████████              | 8/11 [00:27<00:17,  5.72s/it]/scratch/storage0/be20b032/miniconda3/lib/python3.11/site-packages/sklearn/base.py:1351: DataConversionWarning: A column-vector y was passed when a 1d array was expected. Please change the shape of y to (n_samples,), for example using ravel().\n",
      "  return fit_method(estimator, *args, **kwargs)\n",
      " 82%|█████████████████████████████████████████▋         | 9/11 [00:37<00:14,  7.11s/it]/scratch/storage0/be20b032/miniconda3/lib/python3.11/site-packages/sklearn/base.py:1351: DataConversionWarning: A column-vector y was passed when a 1d array was expected. Please change the shape of y to (n_samples,), for example using ravel().\n",
      "  return fit_method(estimator, *args, **kwargs)\n",
      " 91%|█████████████████████████████████████████████▍    | 10/11 [00:49<00:08,  8.59s/it]/scratch/storage0/be20b032/miniconda3/lib/python3.11/site-packages/sklearn/base.py:1351: DataConversionWarning: A column-vector y was passed when a 1d array was expected. Please change the shape of y to (n_samples,), for example using ravel().\n",
      "  return fit_method(estimator, *args, **kwargs)\n",
      "100%|██████████████████████████████████████████████████| 11/11 [01:03<00:00,  5.76s/it]\n"
     ]
    },
    {
     "name": "stdout",
     "output_type": "stream",
     "text": [
      "Best n estimator with respect to Accuracy: 25\n"
     ]
    },
    {
     "data": {
      "image/png": "[encoded data removed]",
      "text/plain": [
       "<Figure size 800x600 with 1 Axes>"
      ]
     },
     "metadata": {},
     "output_type": "display_data"
    }
   ],
   "source": [
    "## hyperparameter tuning\n",
    "num_estimators = [2, 5, 10, 25, 50, 75, 100, 125, 150, 175, 200]\n",
    "val_accs = []\n",
    "val_f1s = []\n",
    "val_recalls = []\n",
    "val_precisions = []\n",
    "\n",
    "for num_est in tqdm(num_estimators):\n",
    "    rf = ensemble.RandomForestClassifier(random_state = SEED, n_estimators = num_est)\n",
    "    rf.fit(norm_train_inputs, train_targets)\n",
    "    val_preds = rf.predict(norm_val_inputs)\n",
    "\n",
    "    val_acc = metrics.accuracy_score(val_targets, val_preds)\n",
    "    # val_f1 = metrics.f1_score(val_targets, val_preds)\n",
    "    # val_recall = metrics.recall_score(val_targets, val_preds)\n",
    "    # val_precision = metrics.precision_score(val_targets, val_preds)\n",
    "    \n",
    "    val_accs.append(val_acc)\n",
    "    # val_f1s.append(val_f1)\n",
    "    # val_recalls.append(val_recall)\n",
    "    # val_precisions.append(val_precision)\n",
    "\n",
    "best_n_estimator_acc = num_estimators[val_accs.index(max(val_accs))]\n",
    "# best_n_estimator_f1 = num_estimators[val_f1s.index(max(val_f1s))]\n",
    "\n",
    "print(f\"Best n estimator with respect to Accuracy: {best_n_estimator_acc}\")\n",
    "# print(f\"Best n estimator with respect to F1 Score: {best_n_estimator_f1}\")\n",
    "\n",
    "plt.figure(figsize = (8,6))\n",
    "plt.plot(num_estimators, val_accs, label = 'accuracy')\n",
    "# plt.plot(num_estimators, val_f1s, label = 'f1 score')\n",
    "# plt.plot(num_estimators, val_recalls, label = 'recall')\n",
    "# plt.plot(num_estimators, val_precisions, label = 'precision')\n",
    "plt.legend()\n",
    "plt.show()"
   ]
  },
  {
   "cell_type": "code",
   "execution_count": 11,
   "id": "57e0bb2b-32f9-4b4f-9855-a36a847caf6f",
   "metadata": {},
   "outputs": [
    {
     "name": "stderr",
     "output_type": "stream",
     "text": [
      "/scratch/storage0/be20b032/miniconda3/lib/python3.11/site-packages/sklearn/base.py:1351: DataConversionWarning: A column-vector y was passed when a 1d array was expected. Please change the shape of y to (n_samples,), for example using ravel().\n",
      "  return fit_method(estimator, *args, **kwargs)\n"
     ]
    },
    {
     "name": "stdout",
     "output_type": "stream",
     "text": [
      "Test Accuracy: 0.8717863841994924\n"
     ]
    }
   ],
   "source": [
    "rf = ensemble.RandomForestClassifier(random_state = SEED, n_estimators = best_n_estimator_acc)\n",
    "rf.fit(norm_train_inputs, train_targets)\n",
    "test_preds = rf.predict(norm_tst_inputs)\n",
    "\n",
    "test_acc_rf = metrics.accuracy_score(tst_targets, test_preds)\n",
    "# test_f1_rf = metrics.f1_score(tst_targets, test_preds)\n",
    "# test_recall_rf = metrics.recall_score(tst_targets, test_preds)\n",
    "# test_precision_rf = metrics.precision_score(tst_targets, test_preds)\n",
    "\n",
    "print(f\"Test Accuracy: {test_acc_rf}\")\n",
    "# print(f\"Test F1 score: {test_f1_rf}\")\n",
    "# print(f\"Test Recall score: {test_recall_rf}\")\n",
    "# print(f\"Test precision score: {test_precision_rf}\")"
   ]
  },
  {
   "cell_type": "markdown",
   "id": "51ea0fb7-42ad-49fb-9e87-cea7193d3422",
   "metadata": {},
   "source": [
    "## 3) Tree Classifier"
   ]
  },
  {
   "cell_type": "code",
   "execution_count": 12,
   "id": "6aa286e2-b5c6-4396-bc4b-694712520d82",
   "metadata": {},
   "outputs": [
    {
     "name": "stdout",
     "output_type": "stream",
     "text": [
      "Test Accuracy: 0.8280922431865828\n"
     ]
    }
   ],
   "source": [
    "dtc = tree.DecisionTreeClassifier(random_state = SEED)\n",
    "dtc.fit(norm_train_inputs, train_targets)\n",
    "\n",
    "test_preds = dtc.predict(norm_tst_inputs)\n",
    "\n",
    "test_acc_dtc = metrics.accuracy_score(tst_targets, test_preds)\n",
    "# test_f1_dtc = metrics.f1_score(tst_targets, test_preds)\n",
    "# test_recall_dtc = metrics.recall_score(tst_targets, test_preds)\n",
    "# test_precision_dtc = metrics.precision_score(tst_targets, test_preds)\n",
    "\n",
    "print(f\"Test Accuracy: {test_acc_dtc}\")\n",
    "# print(f\"Test F1 score: {test_f1_dtc}\")\n",
    "# print(f\"Test Recall score: {test_recall_dtc}\")\n",
    "# print(f\"Test precision score: {test_precision_dtc}\")"
   ]
  },
  {
   "cell_type": "markdown",
   "id": "74e54bd1-9391-47f8-8022-0b680a537a61",
   "metadata": {},
   "source": [
    "## 4) XGBoost Classifier"
   ]
  },
  {
   "cell_type": "code",
   "execution_count": 13,
   "id": "ce57aec5-d66f-42f4-b4b1-7ac07e6924f6",
   "metadata": {
    "scrolled": true
   },
   "outputs": [
    {
     "name": "stderr",
     "output_type": "stream",
     "text": [
      "100%|██████████████████████████████████████████████████| 11/11 [02:41<00:00, 14.66s/it]\n"
     ]
    },
    {
     "name": "stdout",
     "output_type": "stream",
     "text": [
      "Best n estimator with respect to Accuracy: 50\n"
     ]
    },
    {
     "data": {
      "image/png": "[encoded data removed]",
      "text/plain": [
       "<Figure size 800x600 with 1 Axes>"
      ]
     },
     "metadata": {},
     "output_type": "display_data"
    }
   ],
   "source": [
    "## hyperparameter tuning\n",
    "num_estimators = [2, 5, 10, 25, 50, 75, 100, 125, 150, 175, 200]\n",
    "val_accs = []\n",
    "val_f1s = []\n",
    "val_recalls = []\n",
    "val_precisions = []\n",
    "\n",
    "for num_est in tqdm(num_estimators):\n",
    "    xgb = XGBClassifier(random_state = SEED, n_estimators = num_est)\n",
    "    xgb.fit(norm_train_inputs, train_targets)\n",
    "    val_preds = xgb.predict(norm_val_inputs)\n",
    "\n",
    "    val_acc = metrics.accuracy_score(val_targets, val_preds)\n",
    "    # val_f1 = metrics.f1_score(val_targets, val_preds)\n",
    "    # val_recall = metrics.recall_score(val_targets, val_preds)\n",
    "    # val_precision = metrics.precision_score(val_targets, val_preds)\n",
    "    \n",
    "    val_accs.append(val_acc)\n",
    "    # val_f1s.append(val_f1)\n",
    "    # val_recalls.append(val_recall)\n",
    "    # val_precisions.append(val_precision)\n",
    "\n",
    "best_n_estimator_acc = num_estimators[val_accs.index(max(val_accs))]\n",
    "# best_n_estimator_f1 = num_estimators[val_f1s.index(max(val_f1s))]\n",
    "\n",
    "print(f\"Best n estimator with respect to Accuracy: {best_n_estimator_acc}\")\n",
    "# print(f\"Best n estimator with respect to F1 Score: {best_n_estimator_f1}\")\n",
    "\n",
    "plt.figure(figsize = (8,6))\n",
    "plt.plot(num_estimators, val_accs, label = 'accuracy')\n",
    "# plt.plot(num_estimators, val_f1s, label = 'f1 score')\n",
    "# plt.plot(num_estimators, val_recalls, label = 'recall')\n",
    "# plt.plot(num_estimators, val_precisions, label = 'precision')\n",
    "plt.legend()\n",
    "plt.show()"
   ]
  },
  {
   "cell_type": "code",
   "execution_count": 14,
   "id": "b785098b-f1e6-47d8-9404-fc7e3fb2dc04",
   "metadata": {},
   "outputs": [
    {
     "name": "stdout",
     "output_type": "stream",
     "text": [
      "Test Accuracy: 0.8704623193203134\n"
     ]
    }
   ],
   "source": [
    "xgb = XGBClassifier(random_state = SEED, n_estimators = best_n_estimator_acc)\n",
    "xgb.fit(norm_train_inputs, train_targets)\n",
    "test_preds = xgb.predict(norm_tst_inputs)\n",
    "\n",
    "test_acc_xgb = metrics.accuracy_score(tst_targets, test_preds)\n",
    "# test_f1_xgb = metrics.f1_score(tst_targets, test_preds)\n",
    "# test_recall_xgb = metrics.recall_score(tst_targets, test_preds)\n",
    "# test_precision_xgb = metrics.precision_score(tst_targets, test_preds)\n",
    "\n",
    "print(f\"Test Accuracy: {test_acc_xgb}\")\n",
    "# print(f\"Test F1 score: {test_f1_xgb}\")\n",
    "# print(f\"Test Recall score: {test_recall_xgb}\")\n",
    "# print(f\"Test precision score: {test_precision_xgb}\")"
   ]
  },
  {
   "cell_type": "markdown",
   "id": "e106a624-2ca5-4aa0-a37e-6fe09ad501e8",
   "metadata": {},
   "source": [
    "## 5) CatBoost Classifier"
   ]
  },
  {
   "cell_type": "code",
   "execution_count": 15,
   "id": "d090a61c-ebd0-427d-b740-6565ce2c6152",
   "metadata": {},
   "outputs": [
    {
     "name": "stdout",
     "output_type": "stream",
     "text": [
      "Learning rate set to 0.5\n",
      "0:\tlearn: 0.5528561\ttotal: 52ms\tremaining: 2.55s\n",
      "1:\tlearn: 0.4961239\ttotal: 91.2ms\tremaining: 2.19s\n",
      "2:\tlearn: 0.4616446\ttotal: 98ms\tremaining: 1.53s\n",
      "3:\tlearn: 0.4443042\ttotal: 112ms\tremaining: 1.29s\n",
      "4:\tlearn: 0.4338925\ttotal: 116ms\tremaining: 1.04s\n",
      "5:\tlearn: 0.4271171\ttotal: 148ms\tremaining: 1.09s\n",
      "6:\tlearn: 0.4206661\ttotal: 161ms\tremaining: 988ms\n",
      "7:\tlearn: 0.4137037\ttotal: 174ms\tremaining: 913ms\n",
      "8:\tlearn: 0.4070881\ttotal: 182ms\tremaining: 827ms\n",
      "9:\tlearn: 0.4011175\ttotal: 184ms\tremaining: 737ms\n",
      "10:\tlearn: 0.3964852\ttotal: 228ms\tremaining: 808ms\n",
      "11:\tlearn: 0.3921956\ttotal: 231ms\tremaining: 730ms\n",
      "12:\tlearn: 0.3879326\ttotal: 233ms\tremaining: 663ms\n",
      "13:\tlearn: 0.3857672\ttotal: 235ms\tremaining: 605ms\n",
      "14:\tlearn: 0.3836437\ttotal: 237ms\tremaining: 554ms\n",
      "15:\tlearn: 0.3815581\ttotal: 240ms\tremaining: 509ms\n",
      "16:\tlearn: 0.3763879\ttotal: 242ms\tremaining: 470ms\n",
      "17:\tlearn: 0.3743156\ttotal: 244ms\tremaining: 434ms\n",
      "18:\tlearn: 0.3715756\ttotal: 247ms\tremaining: 403ms\n",
      "19:\tlearn: 0.3689425\ttotal: 249ms\tremaining: 374ms\n",
      "20:\tlearn: 0.3657950\ttotal: 252ms\tremaining: 347ms\n",
      "21:\tlearn: 0.3642126\ttotal: 254ms\tremaining: 323ms\n",
      "22:\tlearn: 0.3599733\ttotal: 256ms\tremaining: 301ms\n",
      "23:\tlearn: 0.3580262\ttotal: 259ms\tremaining: 280ms\n",
      "24:\tlearn: 0.3570338\ttotal: 261ms\tremaining: 261ms\n",
      "25:\tlearn: 0.3551571\ttotal: 263ms\tremaining: 243ms\n",
      "26:\tlearn: 0.3520086\ttotal: 274ms\tremaining: 233ms\n",
      "27:\tlearn: 0.3504677\ttotal: 277ms\tremaining: 218ms\n",
      "28:\tlearn: 0.3475595\ttotal: 280ms\tremaining: 203ms\n",
      "29:\tlearn: 0.3449751\ttotal: 283ms\tremaining: 188ms\n",
      "30:\tlearn: 0.3432278\ttotal: 285ms\tremaining: 175ms\n",
      "31:\tlearn: 0.3415221\ttotal: 288ms\tremaining: 162ms\n",
      "32:\tlearn: 0.3397152\ttotal: 291ms\tremaining: 150ms\n",
      "33:\tlearn: 0.3372696\ttotal: 295ms\tremaining: 139ms\n",
      "34:\tlearn: 0.3342333\ttotal: 298ms\tremaining: 128ms\n",
      "35:\tlearn: 0.3331562\ttotal: 301ms\tremaining: 117ms\n",
      "36:\tlearn: 0.3305767\ttotal: 304ms\tremaining: 107ms\n",
      "37:\tlearn: 0.3289841\ttotal: 306ms\tremaining: 96.6ms\n",
      "38:\tlearn: 0.3269060\ttotal: 309ms\tremaining: 87ms\n",
      "39:\tlearn: 0.3253053\ttotal: 312ms\tremaining: 78ms\n",
      "40:\tlearn: 0.3236873\ttotal: 315ms\tremaining: 69.1ms\n",
      "41:\tlearn: 0.3209567\ttotal: 319ms\tremaining: 60.9ms\n",
      "42:\tlearn: 0.3198947\ttotal: 322ms\tremaining: 52.4ms\n",
      "43:\tlearn: 0.3187028\ttotal: 325ms\tremaining: 44.3ms\n",
      "44:\tlearn: 0.3162328\ttotal: 328ms\tremaining: 36.5ms\n",
      "45:\tlearn: 0.3143412\ttotal: 331ms\tremaining: 28.8ms\n",
      "46:\tlearn: 0.3135290\ttotal: 334ms\tremaining: 21.3ms\n",
      "47:\tlearn: 0.3118090\ttotal: 338ms\tremaining: 14.1ms\n",
      "48:\tlearn: 0.3103304\ttotal: 341ms\tremaining: 6.95ms\n",
      "49:\tlearn: 0.3084275\ttotal: 347ms\tremaining: 0us\n",
      "Test Accuracy: 0.8493876199933796\n"
     ]
    }
   ],
   "source": [
    "cat = CatBoostClassifier(random_state = SEED, n_estimators = best_n_estimator_acc)\n",
    "cat.fit(norm_train_inputs, train_targets)\n",
    "test_preds = cat.predict(norm_tst_inputs)\n",
    "\n",
    "test_acc_cat = metrics.accuracy_score(tst_targets, test_preds)\n",
    "# test_f1_cat = metrics.f1_score(tst_targets, test_preds)\n",
    "# test_recall_cat = metrics.recall_score(tst_targets, test_preds)\n",
    "# test_precision_cat = metrics.precision_score(tst_targets, test_preds)\n",
    "\n",
    "print(f\"Test Accuracy: {test_acc_cat}\")\n",
    "# print(f\"Test F1 score: {test_f1_cat}\")\n",
    "# print(f\"Test Recall score: {test_recall_cat}\")\n",
    "# print(f\"Test precision score: {test_precision_cat}\")"
   ]
  },
  {
   "cell_type": "markdown",
   "id": "038c7a59-ea16-49dd-bc72-18cf7f5cd8de",
   "metadata": {},
   "source": [
    "## 6) LightGBM classifier"
   ]
  },
  {
   "cell_type": "code",
   "execution_count": 16,
   "id": "c5667c83-f49d-47d5-a3c0-0eede54f71a5",
   "metadata": {
    "scrolled": true
   },
   "outputs": [
    {
     "name": "stderr",
     "output_type": "stream",
     "text": [
      "  0%|                                                           | 0/11 [00:00<?, ?it/s]"
     ]
    },
    {
     "name": "stdout",
     "output_type": "stream",
     "text": [
      "[LightGBM] [Info] Number of positive: 11491, number of negative: 15696\n"
     ]
    },
    {
     "name": "stderr",
     "output_type": "stream",
     "text": [
      "/scratch/storage0/be20b032/miniconda3/lib/python3.11/site-packages/sklearn/preprocessing/_label.py:97: DataConversionWarning: A column-vector y was passed when a 1d array was expected. Please change the shape of y to (n_samples, ), for example using ravel().\n",
      "  y = column_or_1d(y, warn=True)\n",
      "/scratch/storage0/be20b032/miniconda3/lib/python3.11/site-packages/sklearn/preprocessing/_label.py:132: DataConversionWarning: A column-vector y was passed when a 1d array was expected. Please change the shape of y to (n_samples, ), for example using ravel().\n",
      "  y = column_or_1d(y, dtype=self.classes_.dtype, warn=True)\n"
     ]
    },
    {
     "name": "stdout",
     "output_type": "stream",
     "text": [
      "[LightGBM] [Info] Auto-choosing col-wise multi-threading, the overhead of testing was 0.080095 seconds.\n",
      "You can set `force_col_wise=true` to remove the overhead.\n",
      "[LightGBM] [Info] Total Bins 1585\n",
      "[LightGBM] [Info] Number of data points in the train set: 27187, number of used features: 8\n",
      "[LightGBM] [Info] [binary:BoostFromScore]: pavg=0.422665 -> initscore=-0.311842\n",
      "[LightGBM] [Info] Start training from score -0.311842\n"
     ]
    },
    {
     "name": "stderr",
     "output_type": "stream",
     "text": [
      "  9%|████▋                                              | 1/11 [00:03<00:32,  3.26s/it]/scratch/storage0/be20b032/miniconda3/lib/python3.11/site-packages/sklearn/preprocessing/_label.py:97: DataConversionWarning: A column-vector y was passed when a 1d array was expected. Please change the shape of y to (n_samples, ), for example using ravel().\n",
      "  y = column_or_1d(y, warn=True)\n",
      "/scratch/storage0/be20b032/miniconda3/lib/python3.11/site-packages/sklearn/preprocessing/_label.py:132: DataConversionWarning: A column-vector y was passed when a 1d array was expected. Please change the shape of y to (n_samples, ), for example using ravel().\n",
      "  y = column_or_1d(y, dtype=self.classes_.dtype, warn=True)\n"
     ]
    },
    {
     "name": "stdout",
     "output_type": "stream",
     "text": [
      "[LightGBM] [Info] Number of positive: 11491, number of negative: 15696\n",
      "[LightGBM] [Info] Auto-choosing col-wise multi-threading, the overhead of testing was 0.038063 seconds.\n",
      "You can set `force_col_wise=true` to remove the overhead.\n",
      "[LightGBM] [Info] Total Bins 1585\n",
      "[LightGBM] [Info] Number of data points in the train set: 27187, number of used features: 8\n",
      "[LightGBM] [Info] [binary:BoostFromScore]: pavg=0.422665 -> initscore=-0.311842\n",
      "[LightGBM] [Info] Start training from score -0.311842\n"
     ]
    },
    {
     "name": "stderr",
     "output_type": "stream",
     "text": [
      " 18%|█████████▎                                         | 2/11 [00:11<00:53,  6.00s/it]/scratch/storage0/be20b032/miniconda3/lib/python3.11/site-packages/sklearn/preprocessing/_label.py:97: DataConversionWarning: A column-vector y was passed when a 1d array was expected. Please change the shape of y to (n_samples, ), for example using ravel().\n",
      "  y = column_or_1d(y, warn=True)\n",
      "/scratch/storage0/be20b032/miniconda3/lib/python3.11/site-packages/sklearn/preprocessing/_label.py:132: DataConversionWarning: A column-vector y was passed when a 1d array was expected. Please change the shape of y to (n_samples, ), for example using ravel().\n",
      "  y = column_or_1d(y, dtype=self.classes_.dtype, warn=True)\n"
     ]
    },
    {
     "name": "stdout",
     "output_type": "stream",
     "text": [
      "[LightGBM] [Info] Number of positive: 11491, number of negative: 15696\n",
      "[LightGBM] [Info] Auto-choosing col-wise multi-threading, the overhead of testing was 0.034007 seconds.\n",
      "You can set `force_col_wise=true` to remove the overhead.\n",
      "[LightGBM] [Info] Total Bins 1585\n",
      "[LightGBM] [Info] Number of data points in the train set: 27187, number of used features: 8\n",
      "[LightGBM] [Info] [binary:BoostFromScore]: pavg=0.422665 -> initscore=-0.311842\n",
      "[LightGBM] [Info] Start training from score -0.311842\n"
     ]
    },
    {
     "name": "stderr",
     "output_type": "stream",
     "text": [
      " 27%|█████████████▉                                     | 3/11 [00:11<00:28,  3.59s/it]/scratch/storage0/be20b032/miniconda3/lib/python3.11/site-packages/sklearn/preprocessing/_label.py:97: DataConversionWarning: A column-vector y was passed when a 1d array was expected. Please change the shape of y to (n_samples, ), for example using ravel().\n",
      "  y = column_or_1d(y, warn=True)\n",
      "/scratch/storage0/be20b032/miniconda3/lib/python3.11/site-packages/sklearn/preprocessing/_label.py:132: DataConversionWarning: A column-vector y was passed when a 1d array was expected. Please change the shape of y to (n_samples, ), for example using ravel().\n",
      "  y = column_or_1d(y, dtype=self.classes_.dtype, warn=True)\n"
     ]
    },
    {
     "name": "stdout",
     "output_type": "stream",
     "text": [
      "[LightGBM] [Info] Number of positive: 11491, number of negative: 15696\n",
      "[LightGBM] [Info] Auto-choosing col-wise multi-threading, the overhead of testing was 0.036241 seconds.\n",
      "You can set `force_col_wise=true` to remove the overhead.\n",
      "[LightGBM] [Info] Total Bins 1585\n",
      "[LightGBM] [Info] Number of data points in the train set: 27187, number of used features: 8\n",
      "[LightGBM] [Info] [binary:BoostFromScore]: pavg=0.422665 -> initscore=-0.311842\n",
      "[LightGBM] [Info] Start training from score -0.311842\n"
     ]
    },
    {
     "name": "stderr",
     "output_type": "stream",
     "text": [
      " 36%|██████████████████▌                                | 4/11 [00:14<00:21,  3.07s/it]/scratch/storage0/be20b032/miniconda3/lib/python3.11/site-packages/sklearn/preprocessing/_label.py:97: DataConversionWarning: A column-vector y was passed when a 1d array was expected. Please change the shape of y to (n_samples, ), for example using ravel().\n",
      "  y = column_or_1d(y, warn=True)\n",
      "/scratch/storage0/be20b032/miniconda3/lib/python3.11/site-packages/sklearn/preprocessing/_label.py:132: DataConversionWarning: A column-vector y was passed when a 1d array was expected. Please change the shape of y to (n_samples, ), for example using ravel().\n",
      "  y = column_or_1d(y, dtype=self.classes_.dtype, warn=True)\n"
     ]
    },
    {
     "name": "stdout",
     "output_type": "stream",
     "text": [
      "[LightGBM] [Info] Number of positive: 11491, number of negative: 15696\n",
      "[LightGBM] [Info] Auto-choosing row-wise multi-threading, the overhead of testing was 0.000284 seconds.\n",
      "You can set `force_row_wise=true` to remove the overhead.\n",
      "And if memory is not enough, you can set `force_col_wise=true`.\n",
      "[LightGBM] [Info] Total Bins 1585\n",
      "[LightGBM] [Info] Number of data points in the train set: 27187, number of used features: 8\n",
      "[LightGBM] [Info] [binary:BoostFromScore]: pavg=0.422665 -> initscore=-0.311842\n",
      "[LightGBM] [Info] Start training from score -0.311842\n"
     ]
    },
    {
     "name": "stderr",
     "output_type": "stream",
     "text": [
      " 45%|███████████████████████▏                           | 5/11 [00:18<00:21,  3.56s/it]/scratch/storage0/be20b032/miniconda3/lib/python3.11/site-packages/sklearn/preprocessing/_label.py:97: DataConversionWarning: A column-vector y was passed when a 1d array was expected. Please change the shape of y to (n_samples, ), for example using ravel().\n",
      "  y = column_or_1d(y, warn=True)\n",
      "/scratch/storage0/be20b032/miniconda3/lib/python3.11/site-packages/sklearn/preprocessing/_label.py:132: DataConversionWarning: A column-vector y was passed when a 1d array was expected. Please change the shape of y to (n_samples, ), for example using ravel().\n",
      "  y = column_or_1d(y, dtype=self.classes_.dtype, warn=True)\n"
     ]
    },
    {
     "name": "stdout",
     "output_type": "stream",
     "text": [
      "[LightGBM] [Info] Number of positive: 11491, number of negative: 15696\n",
      "[LightGBM] [Info] Auto-choosing row-wise multi-threading, the overhead of testing was 0.000275 seconds.\n",
      "You can set `force_row_wise=true` to remove the overhead.\n",
      "And if memory is not enough, you can set `force_col_wise=true`.\n",
      "[LightGBM] [Info] Total Bins 1585\n",
      "[LightGBM] [Info] Number of data points in the train set: 27187, number of used features: 8\n",
      "[LightGBM] [Info] [binary:BoostFromScore]: pavg=0.422665 -> initscore=-0.311842\n",
      "[LightGBM] [Info] Start training from score -0.311842\n"
     ]
    },
    {
     "name": "stderr",
     "output_type": "stream",
     "text": [
      " 55%|███████████████████████████▊                       | 6/11 [00:27<00:26,  5.31s/it]/scratch/storage0/be20b032/miniconda3/lib/python3.11/site-packages/sklearn/preprocessing/_label.py:97: DataConversionWarning: A column-vector y was passed when a 1d array was expected. Please change the shape of y to (n_samples, ), for example using ravel().\n",
      "  y = column_or_1d(y, warn=True)\n",
      "/scratch/storage0/be20b032/miniconda3/lib/python3.11/site-packages/sklearn/preprocessing/_label.py:132: DataConversionWarning: A column-vector y was passed when a 1d array was expected. Please change the shape of y to (n_samples, ), for example using ravel().\n",
      "  y = column_or_1d(y, dtype=self.classes_.dtype, warn=True)\n"
     ]
    },
    {
     "name": "stdout",
     "output_type": "stream",
     "text": [
      "[LightGBM] [Info] Number of positive: 11491, number of negative: 15696\n",
      "[LightGBM] [Info] Auto-choosing col-wise multi-threading, the overhead of testing was 0.000711 seconds.\n",
      "You can set `force_col_wise=true` to remove the overhead.\n",
      "[LightGBM] [Info] Total Bins 1585\n",
      "[LightGBM] [Info] Number of data points in the train set: 27187, number of used features: 8\n",
      "[LightGBM] [Info] [binary:BoostFromScore]: pavg=0.422665 -> initscore=-0.311842\n",
      "[LightGBM] [Info] Start training from score -0.311842\n"
     ]
    },
    {
     "name": "stderr",
     "output_type": "stream",
     "text": [
      " 64%|████████████████████████████████▍                  | 7/11 [00:44<00:36,  9.18s/it]/scratch/storage0/be20b032/miniconda3/lib/python3.11/site-packages/sklearn/preprocessing/_label.py:97: DataConversionWarning: A column-vector y was passed when a 1d array was expected. Please change the shape of y to (n_samples, ), for example using ravel().\n",
      "  y = column_or_1d(y, warn=True)\n",
      "/scratch/storage0/be20b032/miniconda3/lib/python3.11/site-packages/sklearn/preprocessing/_label.py:132: DataConversionWarning: A column-vector y was passed when a 1d array was expected. Please change the shape of y to (n_samples, ), for example using ravel().\n",
      "  y = column_or_1d(y, dtype=self.classes_.dtype, warn=True)\n"
     ]
    },
    {
     "name": "stdout",
     "output_type": "stream",
     "text": [
      "[LightGBM] [Info] Number of positive: 11491, number of negative: 15696\n",
      "[LightGBM] [Info] Auto-choosing col-wise multi-threading, the overhead of testing was 0.031833 seconds.\n",
      "You can set `force_col_wise=true` to remove the overhead.\n",
      "[LightGBM] [Info] Total Bins 1585\n",
      "[LightGBM] [Info] Number of data points in the train set: 27187, number of used features: 8\n",
      "[LightGBM] [Info] [binary:BoostFromScore]: pavg=0.422665 -> initscore=-0.311842\n",
      "[LightGBM] [Info] Start training from score -0.311842\n"
     ]
    },
    {
     "name": "stderr",
     "output_type": "stream",
     "text": [
      " 73%|█████████████████████████████████████              | 8/11 [00:49<00:23,  7.88s/it]/scratch/storage0/be20b032/miniconda3/lib/python3.11/site-packages/sklearn/preprocessing/_label.py:97: DataConversionWarning: A column-vector y was passed when a 1d array was expected. Please change the shape of y to (n_samples, ), for example using ravel().\n",
      "  y = column_or_1d(y, warn=True)\n",
      "/scratch/storage0/be20b032/miniconda3/lib/python3.11/site-packages/sklearn/preprocessing/_label.py:132: DataConversionWarning: A column-vector y was passed when a 1d array was expected. Please change the shape of y to (n_samples, ), for example using ravel().\n",
      "  y = column_or_1d(y, dtype=self.classes_.dtype, warn=True)\n"
     ]
    },
    {
     "name": "stdout",
     "output_type": "stream",
     "text": [
      "[LightGBM] [Info] Number of positive: 11491, number of negative: 15696\n",
      "[LightGBM] [Info] Auto-choosing col-wise multi-threading, the overhead of testing was 0.037983 seconds.\n",
      "You can set `force_col_wise=true` to remove the overhead.\n",
      "[LightGBM] [Info] Total Bins 1585\n",
      "[LightGBM] [Info] Number of data points in the train set: 27187, number of used features: 8\n",
      "[LightGBM] [Info] [binary:BoostFromScore]: pavg=0.422665 -> initscore=-0.311842\n",
      "[LightGBM] [Info] Start training from score -0.311842\n"
     ]
    },
    {
     "name": "stderr",
     "output_type": "stream",
     "text": [
      " 82%|█████████████████████████████████████████▋         | 9/11 [00:56<00:15,  7.57s/it]/scratch/storage0/be20b032/miniconda3/lib/python3.11/site-packages/sklearn/preprocessing/_label.py:97: DataConversionWarning: A column-vector y was passed when a 1d array was expected. Please change the shape of y to (n_samples, ), for example using ravel().\n",
      "  y = column_or_1d(y, warn=True)\n",
      "/scratch/storage0/be20b032/miniconda3/lib/python3.11/site-packages/sklearn/preprocessing/_label.py:132: DataConversionWarning: A column-vector y was passed when a 1d array was expected. Please change the shape of y to (n_samples, ), for example using ravel().\n",
      "  y = column_or_1d(y, dtype=self.classes_.dtype, warn=True)\n"
     ]
    },
    {
     "name": "stdout",
     "output_type": "stream",
     "text": [
      "[LightGBM] [Info] Number of positive: 11491, number of negative: 15696\n",
      "[LightGBM] [Info] Auto-choosing col-wise multi-threading, the overhead of testing was 0.057175 seconds.\n",
      "You can set `force_col_wise=true` to remove the overhead.\n",
      "[LightGBM] [Info] Total Bins 1585\n",
      "[LightGBM] [Info] Number of data points in the train set: 27187, number of used features: 8\n",
      "[LightGBM] [Info] [binary:BoostFromScore]: pavg=0.422665 -> initscore=-0.311842\n",
      "[LightGBM] [Info] Start training from score -0.311842\n"
     ]
    },
    {
     "name": "stderr",
     "output_type": "stream",
     "text": [
      " 91%|█████████████████████████████████████████████▍    | 10/11 [02:01<00:25, 25.19s/it]/scratch/storage0/be20b032/miniconda3/lib/python3.11/site-packages/sklearn/preprocessing/_label.py:97: DataConversionWarning: A column-vector y was passed when a 1d array was expected. Please change the shape of y to (n_samples, ), for example using ravel().\n",
      "  y = column_or_1d(y, warn=True)\n",
      "/scratch/storage0/be20b032/miniconda3/lib/python3.11/site-packages/sklearn/preprocessing/_label.py:132: DataConversionWarning: A column-vector y was passed when a 1d array was expected. Please change the shape of y to (n_samples, ), for example using ravel().\n",
      "  y = column_or_1d(y, dtype=self.classes_.dtype, warn=True)\n"
     ]
    },
    {
     "name": "stdout",
     "output_type": "stream",
     "text": [
      "[LightGBM] [Info] Number of positive: 11491, number of negative: 15696\n",
      "[LightGBM] [Info] Auto-choosing col-wise multi-threading, the overhead of testing was 0.044029 seconds.\n",
      "You can set `force_col_wise=true` to remove the overhead.\n",
      "[LightGBM] [Info] Total Bins 1585\n",
      "[LightGBM] [Info] Number of data points in the train set: 27187, number of used features: 8\n",
      "[LightGBM] [Info] [binary:BoostFromScore]: pavg=0.422665 -> initscore=-0.311842\n",
      "[LightGBM] [Info] Start training from score -0.311842\n"
     ]
    },
    {
     "name": "stderr",
     "output_type": "stream",
     "text": [
      "100%|██████████████████████████████████████████████████| 11/11 [02:49<00:00, 15.45s/it]"
     ]
    },
    {
     "name": "stdout",
     "output_type": "stream",
     "text": [
      "Best n estimator with respect to Accuracy: 175\n"
     ]
    },
    {
     "name": "stderr",
     "output_type": "stream",
     "text": [
      "\n"
     ]
    },
    {
     "data": {
      "image/png": "[encoded data removed]",
      "text/plain": [
       "<Figure size 800x600 with 1 Axes>"
      ]
     },
     "metadata": {},
     "output_type": "display_data"
    }
   ],
   "source": [
    "## hyperparameter tuning\n",
    "num_estimators = [2, 5, 10, 25, 50, 75, 100, 125, 150, 175, 200]\n",
    "val_accs = []\n",
    "val_f1s = []\n",
    "val_recalls = []\n",
    "val_precisions = []\n",
    "\n",
    "for num_est in tqdm(num_estimators):\n",
    "    lgbm = LGBMClassifier(random_state = SEED, n_estimators = num_est)\n",
    "    lgbm.fit(norm_train_inputs, train_targets)\n",
    "    val_preds = lgbm.predict(norm_val_inputs)\n",
    "\n",
    "    val_acc = metrics.accuracy_score(val_targets, val_preds)\n",
    "    # val_f1 = metrics.f1_score(val_targets, val_preds)\n",
    "    # val_recall = metrics.recall_score(val_targets, val_preds)\n",
    "    # val_precision = metrics.precision_score(val_targets, val_preds)\n",
    "    \n",
    "    val_accs.append(val_acc)\n",
    "    # val_f1s.append(val_f1)\n",
    "    # val_recalls.append(val_recall)\n",
    "    # val_precisions.append(val_precision)\n",
    "\n",
    "best_n_estimator_acc = num_estimators[val_accs.index(max(val_accs))]\n",
    "# best_n_estimator_f1 = num_estimators[val_f1s.index(max(val_f1s))]\n",
    "\n",
    "print(f\"Best n estimator with respect to Accuracy: {best_n_estimator_acc}\")\n",
    "# print(f\"Best n estimator with respect to F1 Score: {best_n_estimator_f1}\")\n",
    "\n",
    "plt.figure(figsize = (8,6))\n",
    "plt.plot(num_estimators, val_accs, label = 'accuracy')\n",
    "# plt.plot(num_estimators, val_f1s, label = 'f1 score')\n",
    "# plt.plot(num_estimators, val_recalls, label = 'recall')\n",
    "# plt.plot(num_estimators, val_precisions, label = 'precision')\n",
    "plt.legend()\n",
    "plt.show()"
   ]
  },
  {
   "cell_type": "code",
   "execution_count": 17,
   "id": "b8c824c7-9ddf-401d-b59f-37e63c7a7b7c",
   "metadata": {},
   "outputs": [
    {
     "name": "stderr",
     "output_type": "stream",
     "text": [
      "/scratch/storage0/be20b032/miniconda3/lib/python3.11/site-packages/sklearn/preprocessing/_label.py:97: DataConversionWarning: A column-vector y was passed when a 1d array was expected. Please change the shape of y to (n_samples, ), for example using ravel().\n",
      "  y = column_or_1d(y, warn=True)\n",
      "/scratch/storage0/be20b032/miniconda3/lib/python3.11/site-packages/sklearn/preprocessing/_label.py:132: DataConversionWarning: A column-vector y was passed when a 1d array was expected. Please change the shape of y to (n_samples, ), for example using ravel().\n",
      "  y = column_or_1d(y, dtype=self.classes_.dtype, warn=True)\n"
     ]
    },
    {
     "name": "stdout",
     "output_type": "stream",
     "text": [
      "[LightGBM] [Info] Number of positive: 11491, number of negative: 15696\n",
      "[LightGBM] [Info] Auto-choosing col-wise multi-threading, the overhead of testing was 0.057705 seconds.\n",
      "You can set `force_col_wise=true` to remove the overhead.\n",
      "[LightGBM] [Info] Total Bins 1585\n",
      "[LightGBM] [Info] Number of data points in the train set: 27187, number of used features: 8\n",
      "[LightGBM] [Info] [binary:BoostFromScore]: pavg=0.422665 -> initscore=-0.311842\n",
      "[LightGBM] [Info] Start training from score -0.311842\n",
      "Test Accuracy: 0.8788480635551142\n"
     ]
    }
   ],
   "source": [
    "lgbm = LGBMClassifier(random_state = SEED, n_estimators = best_n_estimator_acc)\n",
    "lgbm.fit(norm_train_inputs, train_targets)\n",
    "test_preds = lgbm.predict(norm_tst_inputs)\n",
    "\n",
    "test_acc_lgbm = metrics.accuracy_score(tst_targets, test_preds)\n",
    "# test_f1_lgbm = metrics.f1_score(tst_targets, test_preds)\n",
    "# test_recall_lgbm = metrics.recall_score(tst_targets, test_preds)\n",
    "# test_precision_lgbm = metrics.precision_score(tst_targets, test_preds)\n",
    "\n",
    "print(f\"Test Accuracy: {test_acc_lgbm}\")\n",
    "# print(f\"Test F1 score: {test_f1_lgbm}\")\n",
    "# print(f\"Test Recall score: {test_recall_lgbm}\")\n",
    "# print(f\"Test precision score: {test_precision_lgbm}\")"
   ]
  },
  {
   "cell_type": "markdown",
   "id": "cc8ee2e1-2aba-4080-a11a-dad19095d83f",
   "metadata": {},
   "source": [
    "## 7) GradientBoosting Classifier"
   ]
  },
  {
   "cell_type": "code",
   "execution_count": 18,
   "id": "6941c795-9503-49fa-be05-ab047df2932b",
   "metadata": {
    "scrolled": true
   },
   "outputs": [
    {
     "name": "stderr",
     "output_type": "stream",
     "text": [
      "  0%|                                                           | 0/11 [00:00<?, ?it/s]/scratch/storage0/be20b032/miniconda3/lib/python3.11/site-packages/sklearn/preprocessing/_label.py:114: DataConversionWarning: A column-vector y was passed when a 1d array was expected. Please change the shape of y to (n_samples, ), for example using ravel().\n",
      "  y = column_or_1d(y, warn=True)\n",
      "  9%|████▋                                              | 1/11 [00:00<00:01,  6.99it/s]/scratch/storage0/be20b032/miniconda3/lib/python3.11/site-packages/sklearn/preprocessing/_label.py:114: DataConversionWarning: A column-vector y was passed when a 1d array was expected. Please change the shape of y to (n_samples, ), for example using ravel().\n",
      "  y = column_or_1d(y, warn=True)\n",
      " 18%|█████████▎                                         | 2/11 [00:00<00:02,  3.87it/s]/scratch/storage0/be20b032/miniconda3/lib/python3.11/site-packages/sklearn/preprocessing/_label.py:114: DataConversionWarning: A column-vector y was passed when a 1d array was expected. Please change the shape of y to (n_samples, ), for example using ravel().\n",
      "  y = column_or_1d(y, warn=True)\n",
      " 27%|█████████████▉                                     | 3/11 [00:01<00:03,  2.23it/s]/scratch/storage0/be20b032/miniconda3/lib/python3.11/site-packages/sklearn/preprocessing/_label.py:114: DataConversionWarning: A column-vector y was passed when a 1d array was expected. Please change the shape of y to (n_samples, ), for example using ravel().\n",
      "  y = column_or_1d(y, warn=True)\n",
      " 36%|██████████████████▌                                | 4/11 [00:02<00:06,  1.01it/s]/scratch/storage0/be20b032/miniconda3/lib/python3.11/site-packages/sklearn/preprocessing/_label.py:114: DataConversionWarning: A column-vector y was passed when a 1d array was expected. Please change the shape of y to (n_samples, ), for example using ravel().\n",
      "  y = column_or_1d(y, warn=True)\n",
      " 45%|███████████████████████▏                           | 5/11 [00:06<00:10,  1.81s/it]/scratch/storage0/be20b032/miniconda3/lib/python3.11/site-packages/sklearn/preprocessing/_label.py:114: DataConversionWarning: A column-vector y was passed when a 1d array was expected. Please change the shape of y to (n_samples, ), for example using ravel().\n",
      "  y = column_or_1d(y, warn=True)\n",
      " 55%|███████████████████████████▊                       | 6/11 [00:11<00:14,  2.89s/it]/scratch/storage0/be20b032/miniconda3/lib/python3.11/site-packages/sklearn/preprocessing/_label.py:114: DataConversionWarning: A column-vector y was passed when a 1d array was expected. Please change the shape of y to (n_samples, ), for example using ravel().\n",
      "  y = column_or_1d(y, warn=True)\n",
      " 64%|████████████████████████████████▍                  | 7/11 [00:18<00:16,  4.21s/it]/scratch/storage0/be20b032/miniconda3/lib/python3.11/site-packages/sklearn/preprocessing/_label.py:114: DataConversionWarning: A column-vector y was passed when a 1d array was expected. Please change the shape of y to (n_samples, ), for example using ravel().\n",
      "  y = column_or_1d(y, warn=True)\n",
      " 73%|█████████████████████████████████████              | 8/11 [00:26<00:16,  5.52s/it]/scratch/storage0/be20b032/miniconda3/lib/python3.11/site-packages/sklearn/preprocessing/_label.py:114: DataConversionWarning: A column-vector y was passed when a 1d array was expected. Please change the shape of y to (n_samples, ), for example using ravel().\n",
      "  y = column_or_1d(y, warn=True)\n",
      " 82%|█████████████████████████████████████████▋         | 9/11 [00:36<00:13,  6.81s/it]/scratch/storage0/be20b032/miniconda3/lib/python3.11/site-packages/sklearn/preprocessing/_label.py:114: DataConversionWarning: A column-vector y was passed when a 1d array was expected. Please change the shape of y to (n_samples, ), for example using ravel().\n",
      "  y = column_or_1d(y, warn=True)\n",
      " 91%|█████████████████████████████████████████████▍    | 10/11 [00:47<00:08,  8.17s/it]/scratch/storage0/be20b032/miniconda3/lib/python3.11/site-packages/sklearn/preprocessing/_label.py:114: DataConversionWarning: A column-vector y was passed when a 1d array was expected. Please change the shape of y to (n_samples, ), for example using ravel().\n",
      "  y = column_or_1d(y, warn=True)\n",
      "100%|██████████████████████████████████████████████████| 11/11 [01:00<00:00,  5.47s/it]\n"
     ]
    },
    {
     "name": "stdout",
     "output_type": "stream",
     "text": [
      "Best n estimator with respect to Accuracy: 200\n"
     ]
    },
    {
     "data": {
      "image/png": "[encoded data removed]",
      "text/plain": [
       "<Figure size 800x600 with 1 Axes>"
      ]
     },
     "metadata": {},
     "output_type": "display_data"
    }
   ],
   "source": [
    "## hyperparameter tuning\n",
    "num_estimators = [2, 5, 10, 25, 50, 75, 100, 125, 150, 175, 200]\n",
    "val_accs = []\n",
    "val_f1s = []\n",
    "val_recalls = []\n",
    "val_precisions = []\n",
    "\n",
    "for num_est in tqdm(num_estimators):\n",
    "    gbc = ensemble.GradientBoostingClassifier(random_state = SEED, n_estimators = num_est)\n",
    "    gbc.fit(norm_train_inputs, train_targets)\n",
    "    val_preds = gbc.predict(norm_val_inputs)\n",
    "\n",
    "    val_acc = metrics.accuracy_score(val_targets, val_preds)\n",
    "    # val_f1 = metrics.f1_score(val_targets, val_preds)\n",
    "    # val_recall = metrics.recall_score(val_targets, val_preds)\n",
    "    # val_precision = metrics.precision_score(val_targets, val_preds)\n",
    "    \n",
    "    val_accs.append(val_acc)\n",
    "    # val_f1s.append(val_f1)\n",
    "    # val_recalls.append(val_recall)\n",
    "    # val_precisions.append(val_precision)\n",
    "\n",
    "best_n_estimator_acc = num_estimators[val_accs.index(max(val_accs))]\n",
    "# best_n_estimator_f1 = num_estimators[val_f1s.index(max(val_f1s))]\n",
    "\n",
    "print(f\"Best n estimator with respect to Accuracy: {best_n_estimator_acc}\")\n",
    "# print(f\"Best n estimator with respect to F1 Score: {best_n_estimator_f1}\")\n",
    "\n",
    "plt.figure(figsize = (8,6))\n",
    "plt.plot(num_estimators, val_accs, label = 'accuracy')\n",
    "# plt.plot(num_estimators, val_f1s, label = 'f1 score')\n",
    "# plt.plot(num_estimators, val_recalls, label = 'recall')\n",
    "# plt.plot(num_estimators, val_precisions, label = 'precision')\n",
    "plt.legend()\n",
    "plt.show()"
   ]
  },
  {
   "cell_type": "code",
   "execution_count": 19,
   "id": "efb44ec7-783a-4cfc-82a4-48e725752640",
   "metadata": {},
   "outputs": [
    {
     "name": "stderr",
     "output_type": "stream",
     "text": [
      "/scratch/storage0/be20b032/miniconda3/lib/python3.11/site-packages/sklearn/preprocessing/_label.py:114: DataConversionWarning: A column-vector y was passed when a 1d array was expected. Please change the shape of y to (n_samples, ), for example using ravel().\n",
      "  y = column_or_1d(y, warn=True)\n"
     ]
    },
    {
     "name": "stdout",
     "output_type": "stream",
     "text": [
      "Test Accuracy: 0.8447533929162528\n"
     ]
    }
   ],
   "source": [
    "gbc = ensemble.GradientBoostingClassifier(random_state = SEED, n_estimators = best_n_estimator_acc)\n",
    "gbc.fit(norm_train_inputs, train_targets)\n",
    "test_preds = gbc.predict(norm_tst_inputs)\n",
    "\n",
    "test_acc_gbc = metrics.accuracy_score(tst_targets, test_preds)\n",
    "# test_f1_gbc = metrics.f1_score(tst_targets, test_preds)\n",
    "# test_recall_gbc = metrics.recall_score(tst_targets, test_preds)\n",
    "# test_precision_gbc = metrics.precision_score(tst_targets, test_preds)\n",
    "\n",
    "print(f\"Test Accuracy: {test_acc_gbc}\")\n",
    "# print(f\"Test F1 score: {test_f1_gbc}\")\n",
    "# print(f\"Test Recall score: {test_recall_gbc}\")\n",
    "# print(f\"Test precision score: {test_precision_gbc}\")"
   ]
  },
  {
   "cell_type": "markdown",
   "id": "5eac4487-7ee8-4ef3-a820-84b2aaf3862e",
   "metadata": {},
   "source": [
    "## 8) Vanilla Neural Network"
   ]
  },
  {
   "cell_type": "code",
   "execution_count": 20,
   "id": "37e5b382-ef93-479b-9cd7-45bb0a598b44",
   "metadata": {
    "scrolled": true
   },
   "outputs": [
    {
     "name": "stderr",
     "output_type": "stream",
     "text": [
      "  0%|                                                            | 0/5 [00:00<?, ?it/s]/scratch/storage0/be20b032/miniconda3/lib/python3.11/site-packages/torch/utils/data/_utils/collate.py:222: UserWarning: The given NumPy array is not writable, and PyTorch does not support non-writable tensors. This means writing to this tensor will result in undefined behavior. You may want to copy the array to protect its data or make it writable before converting it to a tensor. This type of warning will be suppressed for the rest of this program. (Triggered internally at ../torch/csrc/utils/tensor_numpy.cpp:206.)\n",
      "  return collate([torch.as_tensor(b) for b in batch], collate_fn_map=collate_fn_map)\n",
      "100%|████████████████████████████████████████████████████| 5/5 [00:08<00:00,  1.66s/it]\n"
     ]
    },
    {
     "name": "stdout",
     "output_type": "stream",
     "text": [
      "1 / 48) Lr: 0.001 Wds: 1e-05\n",
      "Validation Loss: 0.7559037740013242\n"
     ]
    },
    {
     "name": "stderr",
     "output_type": "stream",
     "text": [
      "100%|████████████████████████████████████████████████████| 5/5 [00:08<00:00,  1.64s/it]\n"
     ]
    },
    {
     "name": "stdout",
     "output_type": "stream",
     "text": [
      "2 / 48) Lr: 0.001 Wds: 0.0005\n",
      "Validation Loss: 0.7785257117634077\n"
     ]
    },
    {
     "name": "stderr",
     "output_type": "stream",
     "text": [
      "100%|████████████████████████████████████████████████████| 5/5 [00:08<00:00,  1.64s/it]\n"
     ]
    },
    {
     "name": "stdout",
     "output_type": "stream",
     "text": [
      "3 / 48) Lr: 0.001 Wds: 0.0001\n",
      "Validation Loss: 0.765393952769808\n"
     ]
    },
    {
     "name": "stderr",
     "output_type": "stream",
     "text": [
      "100%|████████████████████████████████████████████████████| 5/5 [00:08<00:00,  1.62s/it]\n"
     ]
    },
    {
     "name": "stdout",
     "output_type": "stream",
     "text": [
      "4 / 48) Lr: 0.001 Wds: 0.005\n",
      "Validation Loss: 0.5707349370999779\n"
     ]
    },
    {
     "name": "stderr",
     "output_type": "stream",
     "text": [
      "100%|████████████████████████████████████████████████████| 5/5 [00:08<00:00,  1.62s/it]\n"
     ]
    },
    {
     "name": "stdout",
     "output_type": "stream",
     "text": [
      "5 / 48) Lr: 0.001 Wds: 0.001\n",
      "Validation Loss: 0.7755462370337673\n"
     ]
    },
    {
     "name": "stderr",
     "output_type": "stream",
     "text": [
      "100%|████████████████████████████████████████████████████| 5/5 [00:08<00:00,  1.63s/it]\n"
     ]
    },
    {
     "name": "stdout",
     "output_type": "stream",
     "text": [
      "6 / 48) Lr: 0.001 Wds: 0.05\n",
      "Validation Loss: 0.5707349370999779\n"
     ]
    },
    {
     "name": "stderr",
     "output_type": "stream",
     "text": [
      "100%|████████████████████████████████████████████████████| 5/5 [00:08<00:00,  1.66s/it]\n"
     ]
    },
    {
     "name": "stdout",
     "output_type": "stream",
     "text": [
      "7 / 48) Lr: 0.005 Wds: 1e-05\n",
      "Validation Loss: 0.7450893842418892\n"
     ]
    },
    {
     "name": "stderr",
     "output_type": "stream",
     "text": [
      "100%|████████████████████████████████████████████████████| 5/5 [00:08<00:00,  1.63s/it]\n"
     ]
    },
    {
     "name": "stdout",
     "output_type": "stream",
     "text": [
      "8 / 48) Lr: 0.005 Wds: 0.0005\n",
      "Validation Loss: 0.7716839549768263\n"
     ]
    },
    {
     "name": "stderr",
     "output_type": "stream",
     "text": [
      "100%|████████████████████████████████████████████████████| 5/5 [00:08<00:00,  1.64s/it]\n"
     ]
    },
    {
     "name": "stdout",
     "output_type": "stream",
     "text": [
      "9 / 48) Lr: 0.005 Wds: 0.0001\n",
      "Validation Loss: 0.7741116751269036\n"
     ]
    },
    {
     "name": "stderr",
     "output_type": "stream",
     "text": [
      "100%|████████████████████████████████████████████████████| 5/5 [00:08<00:00,  1.61s/it]\n"
     ]
    },
    {
     "name": "stdout",
     "output_type": "stream",
     "text": [
      "10 / 48) Lr: 0.005 Wds: 0.005\n",
      "Validation Loss: 0.5707349370999779\n"
     ]
    },
    {
     "name": "stderr",
     "output_type": "stream",
     "text": [
      "100%|████████████████████████████████████████████████████| 5/5 [00:08<00:00,  1.60s/it]\n"
     ]
    },
    {
     "name": "stdout",
     "output_type": "stream",
     "text": [
      "11 / 48) Lr: 0.005 Wds: 0.001\n",
      "Validation Loss: 0.7678216729198852\n"
     ]
    },
    {
     "name": "stderr",
     "output_type": "stream",
     "text": [
      "100%|████████████████████████████████████████████████████| 5/5 [00:08<00:00,  1.63s/it]\n"
     ]
    },
    {
     "name": "stdout",
     "output_type": "stream",
     "text": [
      "12 / 48) Lr: 0.005 Wds: 0.05\n",
      "Validation Loss: 0.5707349370999779\n"
     ]
    },
    {
     "name": "stderr",
     "output_type": "stream",
     "text": [
      "100%|████████████████████████████████████████████████████| 5/5 [00:08<00:00,  1.61s/it]\n"
     ]
    },
    {
     "name": "stdout",
     "output_type": "stream",
     "text": [
      "13 / 48) Lr: 0.0001 Wds: 1e-05\n",
      "Validation Loss: 0.6676230412712425\n"
     ]
    },
    {
     "name": "stderr",
     "output_type": "stream",
     "text": [
      "100%|████████████████████████████████████████████████████| 5/5 [00:08<00:00,  1.62s/it]\n"
     ]
    },
    {
     "name": "stdout",
     "output_type": "stream",
     "text": [
      "14 / 48) Lr: 0.0001 Wds: 0.0005\n",
      "Validation Loss: 0.6504082983888766\n"
     ]
    },
    {
     "name": "stderr",
     "output_type": "stream",
     "text": [
      "100%|████████████████████████████████████████████████████| 5/5 [00:08<00:00,  1.61s/it]\n"
     ]
    },
    {
     "name": "stdout",
     "output_type": "stream",
     "text": [
      "15 / 48) Lr: 0.0001 Wds: 0.0001\n",
      "Validation Loss: 0.6636504082983888\n"
     ]
    },
    {
     "name": "stderr",
     "output_type": "stream",
     "text": [
      "100%|████████████████████████████████████████████████████| 5/5 [00:09<00:00,  1.87s/it]\n"
     ]
    },
    {
     "name": "stdout",
     "output_type": "stream",
     "text": [
      "16 / 48) Lr: 0.0001 Wds: 0.005\n",
      "Validation Loss: 0.5707349370999779\n"
     ]
    },
    {
     "name": "stderr",
     "output_type": "stream",
     "text": [
      "100%|████████████████████████████████████████████████████| 5/5 [00:08<00:00,  1.64s/it]\n"
     ]
    },
    {
     "name": "stdout",
     "output_type": "stream",
     "text": [
      "17 / 48) Lr: 0.0001 Wds: 0.001\n",
      "Validation Loss: 0.6370558375634517\n"
     ]
    },
    {
     "name": "stderr",
     "output_type": "stream",
     "text": [
      "100%|████████████████████████████████████████████████████| 5/5 [00:08<00:00,  1.61s/it]\n"
     ]
    },
    {
     "name": "stdout",
     "output_type": "stream",
     "text": [
      "18 / 48) Lr: 0.0001 Wds: 0.05\n",
      "Validation Loss: 0.5707349370999779\n"
     ]
    },
    {
     "name": "stderr",
     "output_type": "stream",
     "text": [
      "100%|████████████████████████████████████████████████████| 5/5 [00:08<00:00,  1.61s/it]\n"
     ]
    },
    {
     "name": "stdout",
     "output_type": "stream",
     "text": [
      "19 / 48) Lr: 0.0005 Wds: 1e-05\n",
      "Validation Loss: 0.7701390421540498\n"
     ]
    },
    {
     "name": "stderr",
     "output_type": "stream",
     "text": [
      "100%|████████████████████████████████████████████████████| 5/5 [00:07<00:00,  1.59s/it]\n"
     ]
    },
    {
     "name": "stdout",
     "output_type": "stream",
     "text": [
      "20 / 48) Lr: 0.0005 Wds: 0.0005\n",
      "Validation Loss: 0.5707349370999779\n"
     ]
    },
    {
     "name": "stderr",
     "output_type": "stream",
     "text": [
      "100%|████████████████████████████████████████████████████| 5/5 [00:07<00:00,  1.59s/it]\n"
     ]
    },
    {
     "name": "stdout",
     "output_type": "stream",
     "text": [
      "21 / 48) Lr: 0.0005 Wds: 0.0001\n",
      "Validation Loss: 0.7574486868241006\n"
     ]
    },
    {
     "name": "stderr",
     "output_type": "stream",
     "text": [
      "100%|████████████████████████████████████████████████████| 5/5 [00:08<00:00,  1.62s/it]\n"
     ]
    },
    {
     "name": "stdout",
     "output_type": "stream",
     "text": [
      "22 / 48) Lr: 0.0005 Wds: 0.005\n",
      "Validation Loss: 0.5707349370999779\n"
     ]
    },
    {
     "name": "stderr",
     "output_type": "stream",
     "text": [
      "100%|████████████████████████████████████████████████████| 5/5 [00:08<00:00,  1.71s/it]\n"
     ]
    },
    {
     "name": "stdout",
     "output_type": "stream",
     "text": [
      "23 / 48) Lr: 0.0005 Wds: 0.001\n",
      "Validation Loss: 0.7626351798719929\n"
     ]
    },
    {
     "name": "stderr",
     "output_type": "stream",
     "text": [
      "100%|████████████████████████████████████████████████████| 5/5 [00:07<00:00,  1.60s/it]\n"
     ]
    },
    {
     "name": "stdout",
     "output_type": "stream",
     "text": [
      "24 / 48) Lr: 0.0005 Wds: 0.05\n",
      "Validation Loss: 0.5707349370999779\n"
     ]
    },
    {
     "name": "stderr",
     "output_type": "stream",
     "text": [
      "100%|████████████████████████████████████████████████████| 5/5 [00:08<00:00,  1.68s/it]\n"
     ]
    },
    {
     "name": "stdout",
     "output_type": "stream",
     "text": [
      "25 / 48) Lr: 1e-05 Wds: 1e-05\n",
      "Validation Loss: 0.4292650629000221\n"
     ]
    },
    {
     "name": "stderr",
     "output_type": "stream",
     "text": [
      "100%|████████████████████████████████████████████████████| 5/5 [00:08<00:00,  1.60s/it]\n"
     ]
    },
    {
     "name": "stdout",
     "output_type": "stream",
     "text": [
      "26 / 48) Lr: 1e-05 Wds: 0.0005\n",
      "Validation Loss: 0.5707349370999779\n"
     ]
    },
    {
     "name": "stderr",
     "output_type": "stream",
     "text": [
      "100%|████████████████████████████████████████████████████| 5/5 [00:08<00:00,  1.61s/it]\n"
     ]
    },
    {
     "name": "stdout",
     "output_type": "stream",
     "text": [
      "27 / 48) Lr: 1e-05 Wds: 0.0001\n",
      "Validation Loss: 0.5707349370999779\n"
     ]
    },
    {
     "name": "stderr",
     "output_type": "stream",
     "text": [
      "100%|████████████████████████████████████████████████████| 5/5 [00:07<00:00,  1.60s/it]\n"
     ]
    },
    {
     "name": "stdout",
     "output_type": "stream",
     "text": [
      "28 / 48) Lr: 1e-05 Wds: 0.005\n",
      "Validation Loss: 0.5707349370999779\n"
     ]
    },
    {
     "name": "stderr",
     "output_type": "stream",
     "text": [
      "100%|████████████████████████████████████████████████████| 5/5 [00:08<00:00,  1.61s/it]\n"
     ]
    },
    {
     "name": "stdout",
     "output_type": "stream",
     "text": [
      "29 / 48) Lr: 1e-05 Wds: 0.001\n",
      "Validation Loss: 0.5707349370999779\n"
     ]
    },
    {
     "name": "stderr",
     "output_type": "stream",
     "text": [
      "100%|████████████████████████████████████████████████████| 5/5 [00:08<00:00,  1.63s/it]\n"
     ]
    },
    {
     "name": "stdout",
     "output_type": "stream",
     "text": [
      "30 / 48) Lr: 1e-05 Wds: 0.05\n",
      "Validation Loss: 0.5707349370999779\n"
     ]
    },
    {
     "name": "stderr",
     "output_type": "stream",
     "text": [
      "100%|████████████████████████████████████████████████████| 5/5 [00:08<00:00,  1.72s/it]\n"
     ]
    },
    {
     "name": "stdout",
     "output_type": "stream",
     "text": [
      "31 / 48) Lr: 5e-05 Wds: 1e-05\n",
      "Validation Loss: 0.5988744206576915\n"
     ]
    },
    {
     "name": "stderr",
     "output_type": "stream",
     "text": [
      "100%|████████████████████████████████████████████████████| 5/5 [00:08<00:00,  1.68s/it]\n"
     ]
    },
    {
     "name": "stdout",
     "output_type": "stream",
     "text": [
      "32 / 48) Lr: 5e-05 Wds: 0.0005\n",
      "Validation Loss: 0.5707349370999779\n"
     ]
    },
    {
     "name": "stderr",
     "output_type": "stream",
     "text": [
      "100%|████████████████████████████████████████████████████| 5/5 [00:07<00:00,  1.59s/it]\n"
     ]
    },
    {
     "name": "stdout",
     "output_type": "stream",
     "text": [
      "33 / 48) Lr: 5e-05 Wds: 0.0001\n",
      "Validation Loss: 0.6179651291105717\n"
     ]
    },
    {
     "name": "stderr",
     "output_type": "stream",
     "text": [
      "100%|████████████████████████████████████████████████████| 5/5 [00:08<00:00,  1.64s/it]\n"
     ]
    },
    {
     "name": "stdout",
     "output_type": "stream",
     "text": [
      "34 / 48) Lr: 5e-05 Wds: 0.005\n",
      "Validation Loss: 0.5707349370999779\n"
     ]
    },
    {
     "name": "stderr",
     "output_type": "stream",
     "text": [
      "100%|████████████████████████████████████████████████████| 5/5 [00:08<00:00,  1.66s/it]\n"
     ]
    },
    {
     "name": "stdout",
     "output_type": "stream",
     "text": [
      "35 / 48) Lr: 5e-05 Wds: 0.001\n",
      "Validation Loss: 0.5707349370999779\n"
     ]
    },
    {
     "name": "stderr",
     "output_type": "stream",
     "text": [
      "100%|████████████████████████████████████████████████████| 5/5 [00:08<00:00,  1.63s/it]\n"
     ]
    },
    {
     "name": "stdout",
     "output_type": "stream",
     "text": [
      "36 / 48) Lr: 5e-05 Wds: 0.05\n",
      "Validation Loss: 0.4292650629000221\n"
     ]
    },
    {
     "name": "stderr",
     "output_type": "stream",
     "text": [
      "100%|████████████████████████████████████████████████████| 5/5 [00:08<00:00,  1.61s/it]\n"
     ]
    },
    {
     "name": "stdout",
     "output_type": "stream",
     "text": [
      "37 / 48) Lr: 0.01 Wds: 1e-05\n",
      "Validation Loss: 0.7548002648421982\n"
     ]
    },
    {
     "name": "stderr",
     "output_type": "stream",
     "text": [
      "100%|████████████████████████████████████████████████████| 5/5 [00:08<00:00,  1.62s/it]\n"
     ]
    },
    {
     "name": "stdout",
     "output_type": "stream",
     "text": [
      "38 / 48) Lr: 0.01 Wds: 0.0005\n",
      "Validation Loss: 0.7723460604723019\n"
     ]
    },
    {
     "name": "stderr",
     "output_type": "stream",
     "text": [
      "100%|████████████████████████████████████████████████████| 5/5 [00:08<00:00,  1.63s/it]\n"
     ]
    },
    {
     "name": "stdout",
     "output_type": "stream",
     "text": [
      "39 / 48) Lr: 0.01 Wds: 0.0001\n",
      "Validation Loss: 0.7399028911939969\n"
     ]
    },
    {
     "name": "stderr",
     "output_type": "stream",
     "text": [
      "100%|████████████████████████████████████████████████████| 5/5 [00:07<00:00,  1.59s/it]\n"
     ]
    },
    {
     "name": "stdout",
     "output_type": "stream",
     "text": [
      "40 / 48) Lr: 0.01 Wds: 0.005\n",
      "Validation Loss: 0.5707349370999779\n"
     ]
    },
    {
     "name": "stderr",
     "output_type": "stream",
     "text": [
      "100%|████████████████████████████████████████████████████| 5/5 [00:08<00:00,  1.63s/it]\n"
     ]
    },
    {
     "name": "stdout",
     "output_type": "stream",
     "text": [
      "41 / 48) Lr: 0.01 Wds: 0.001\n",
      "Validation Loss: 0.7103288457294196\n"
     ]
    },
    {
     "name": "stderr",
     "output_type": "stream",
     "text": [
      "100%|████████████████████████████████████████████████████| 5/5 [00:08<00:00,  1.63s/it]\n"
     ]
    },
    {
     "name": "stdout",
     "output_type": "stream",
     "text": [
      "42 / 48) Lr: 0.01 Wds: 0.05\n",
      "Validation Loss: 0.5707349370999779\n"
     ]
    },
    {
     "name": "stderr",
     "output_type": "stream",
     "text": [
      "100%|████████████████████████████████████████████████████| 5/5 [00:09<00:00,  1.81s/it]\n"
     ]
    },
    {
     "name": "stdout",
     "output_type": "stream",
     "text": [
      "43 / 48) Lr: 0.05 Wds: 1e-05\n",
      "Validation Loss: 0.4292650629000221\n"
     ]
    },
    {
     "name": "stderr",
     "output_type": "stream",
     "text": [
      "100%|████████████████████████████████████████████████████| 5/5 [00:10<00:00,  2.05s/it]\n"
     ]
    },
    {
     "name": "stdout",
     "output_type": "stream",
     "text": [
      "44 / 48) Lr: 0.05 Wds: 0.0005\n",
      "Validation Loss: 0.5707349370999779\n"
     ]
    },
    {
     "name": "stderr",
     "output_type": "stream",
     "text": [
      "100%|████████████████████████████████████████████████████| 5/5 [00:10<00:00,  2.10s/it]\n"
     ]
    },
    {
     "name": "stdout",
     "output_type": "stream",
     "text": [
      "45 / 48) Lr: 0.05 Wds: 0.0001\n",
      "Validation Loss: 0.5707349370999779\n"
     ]
    },
    {
     "name": "stderr",
     "output_type": "stream",
     "text": [
      "100%|████████████████████████████████████████████████████| 5/5 [00:10<00:00,  2.05s/it]\n"
     ]
    },
    {
     "name": "stdout",
     "output_type": "stream",
     "text": [
      "46 / 48) Lr: 0.05 Wds: 0.005\n",
      "Validation Loss: 0.5707349370999779\n"
     ]
    },
    {
     "name": "stderr",
     "output_type": "stream",
     "text": [
      "100%|████████████████████████████████████████████████████| 5/5 [00:09<00:00,  1.92s/it]\n"
     ]
    },
    {
     "name": "stdout",
     "output_type": "stream",
     "text": [
      "47 / 48) Lr: 0.05 Wds: 0.001\n",
      "Validation Loss: 0.5707349370999779\n"
     ]
    },
    {
     "name": "stderr",
     "output_type": "stream",
     "text": [
      "100%|████████████████████████████████████████████████████| 5/5 [00:08<00:00,  1.61s/it]"
     ]
    },
    {
     "name": "stdout",
     "output_type": "stream",
     "text": [
      "48 / 48) Lr: 0.05 Wds: 0.05\n",
      "Validation Loss: 0.5707349370999779\n",
      "Best LR: 0.001 Best WD: 0.0005\n"
     ]
    },
    {
     "name": "stderr",
     "output_type": "stream",
     "text": [
      "\n"
     ]
    }
   ],
   "source": [
    "lrs = [1e-3, 5e-3, 1e-4, 5e-4, 1e-5, 5e-5, 1e-2, 5e-2]\n",
    "wds = [1e-5, 5e-4, 1e-4, 5e-3, 1e-3, 5e-2]\n",
    "\n",
    "hyp_losses = np.zeros((len(lrs), len(wds)))\n",
    "\n",
    "for i in range(len(lrs)):\n",
    "    for j in range(len(wds)):\n",
    "        model = net(val_inputs.shape[1], [32, 32, 32, 8], num_classes, task = 'clf').to(device)\n",
    "        model, train_losses, val_losses = train_net(model, norm_train_dataloader, val_inputs, val_targets, device, epochs = 5, lr = lrs[i], wd = wds[j])\n",
    "        hyp_losses[i, j] += eval_net(model, norm_val_inputs, val_targets, device)\n",
    "        print(f\"{i * len(wds) + j + 1} / {len(lrs) * len(wds)}) Lr: {lrs[i]} Wds: {wds[j]}\")\n",
    "        print(f\"Validation Loss: {hyp_losses[i,j]}\")\n",
    "        \n",
    "best_lr, best_wd = np.unravel_index(np.argmax(hyp_losses), hyp_losses.shape)\n",
    "print(f\"Best LR: {lrs[best_lr]} Best WD: {wds[best_wd]}\")"
   ]
  },
  {
   "cell_type": "code",
   "execution_count": 21,
   "id": "cb715b3d-06b7-4bc9-876e-64e71104c363",
   "metadata": {
    "scrolled": true
   },
   "outputs": [
    {
     "name": "stderr",
     "output_type": "stream",
     "text": [
      "100%|██████████████████████████████████████████████████| 10/10 [00:16<00:00,  1.61s/it]"
     ]
    },
    {
     "name": "stdout",
     "output_type": "stream",
     "text": [
      "0.7680679686637979\n"
     ]
    },
    {
     "name": "stderr",
     "output_type": "stream",
     "text": [
      "\n"
     ]
    }
   ],
   "source": [
    "model = net(val_inputs.shape[1], [32, 32, 32, 8], num_classes, task = 'clf').to(device)\n",
    "model, train_losses, val_losses = train_net(model, norm_train_dataloader, val_inputs, val_targets, device, lr = lrs[best_lr], wd = wds[best_wd])\n",
    "test_acc_mlp = eval_net(model, norm_tst_inputs, tst_targets, device)\n",
    "print(test_acc_mlp)"
   ]
  },
  {
   "cell_type": "markdown",
   "id": "d219ac00-0fb1-4f69-9d52-76cbd5de61a5",
   "metadata": {},
   "source": [
    "## 9) SiFer Classification"
   ]
  },
  {
   "cell_type": "code",
   "execution_count": null,
   "id": "ab0aaaf8-33e4-4c2b-8294-ca047aef66b3",
   "metadata": {
    "scrolled": true
   },
   "outputs": [
    {
     "name": "stderr",
     "output_type": "stream",
     "text": [
      "100%|████████████████████████████████████████████████████| 5/5 [00:21<00:00,  4.40s/it]\n"
     ]
    },
    {
     "name": "stdout",
     "output_type": "stream",
     "text": [
      "[1 / 128] LR: 0.001 Forget Lr: 0.001 Forget Iter: 2\n",
      "0.7416685058485986\n"
     ]
    },
    {
     "name": "stderr",
     "output_type": "stream",
     "text": [
      "100%|████████████████████████████████████████████████████| 5/5 [00:21<00:00,  4.34s/it]\n"
     ]
    },
    {
     "name": "stdout",
     "output_type": "stream",
     "text": [
      "[2 / 128] LR: 0.005 Forget Lr: 0.001 Forget Iter: 2\n",
      "0.7338335908188038\n"
     ]
    },
    {
     "name": "stderr",
     "output_type": "stream",
     "text": [
      "100%|████████████████████████████████████████████████████| 5/5 [00:22<00:00,  4.40s/it]\n"
     ]
    },
    {
     "name": "stdout",
     "output_type": "stream",
     "text": [
      "[3 / 128] LR: 0.0001 Forget Lr: 0.001 Forget Iter: 2\n",
      "0.5707349370999779\n"
     ]
    },
    {
     "name": "stderr",
     "output_type": "stream",
     "text": [
      "100%|████████████████████████████████████████████████████| 5/5 [00:22<00:00,  4.47s/it]\n"
     ]
    },
    {
     "name": "stdout",
     "output_type": "stream",
     "text": [
      "[4 / 128] LR: 0.0005 Forget Lr: 0.001 Forget Iter: 2\n",
      "0.6011917898918561\n"
     ]
    },
    {
     "name": "stderr",
     "output_type": "stream",
     "text": [
      "100%|████████████████████████████████████████████████████| 5/5 [00:27<00:00,  5.50s/it]\n"
     ]
    },
    {
     "name": "stdout",
     "output_type": "stream",
     "text": [
      "[5 / 128] LR: 1e-05 Forget Lr: 0.001 Forget Iter: 2\n",
      "0.5707349370999779\n"
     ]
    },
    {
     "name": "stderr",
     "output_type": "stream",
     "text": [
      "100%|████████████████████████████████████████████████████| 5/5 [00:24<00:00,  4.84s/it]\n"
     ]
    },
    {
     "name": "stdout",
     "output_type": "stream",
     "text": [
      "[6 / 128] LR: 5e-05 Forget Lr: 0.001 Forget Iter: 2\n",
      "0.5707349370999779\n"
     ]
    },
    {
     "name": "stderr",
     "output_type": "stream",
     "text": [
      "100%|████████████████████████████████████████████████████| 5/5 [00:22<00:00,  4.50s/it]\n"
     ]
    },
    {
     "name": "stdout",
     "output_type": "stream",
     "text": [
      "[7 / 128] LR: 0.01 Forget Lr: 0.001 Forget Iter: 2\n",
      "0.7640697417788568\n"
     ]
    },
    {
     "name": "stderr",
     "output_type": "stream",
     "text": [
      "100%|████████████████████████████████████████████████████| 5/5 [00:23<00:00,  4.79s/it]\n"
     ]
    },
    {
     "name": "stdout",
     "output_type": "stream",
     "text": [
      "[8 / 128] LR: 0.05 Forget Lr: 0.001 Forget Iter: 2\n",
      "0.5707349370999779\n"
     ]
    },
    {
     "name": "stderr",
     "output_type": "stream",
     "text": [
      "100%|████████████████████████████████████████████████████| 5/5 [00:22<00:00,  4.44s/it]\n"
     ]
    },
    {
     "name": "stdout",
     "output_type": "stream",
     "text": [
      "[9 / 128] LR: 0.001 Forget Lr: 0.005 Forget Iter: 2\n",
      "0.5707349370999779\n"
     ]
    },
    {
     "name": "stderr",
     "output_type": "stream",
     "text": [
      "100%|████████████████████████████████████████████████████| 5/5 [00:22<00:00,  4.48s/it]\n"
     ]
    },
    {
     "name": "stdout",
     "output_type": "stream",
     "text": [
      "[10 / 128] LR: 0.005 Forget Lr: 0.005 Forget Iter: 2\n",
      "0.5707349370999779\n"
     ]
    },
    {
     "name": "stderr",
     "output_type": "stream",
     "text": [
      "100%|████████████████████████████████████████████████████| 5/5 [00:21<00:00,  4.38s/it]\n"
     ]
    },
    {
     "name": "stdout",
     "output_type": "stream",
     "text": [
      "[11 / 128] LR: 0.0001 Forget Lr: 0.005 Forget Iter: 2\n",
      "0.5707349370999779\n"
     ]
    },
    {
     "name": "stderr",
     "output_type": "stream",
     "text": [
      "100%|████████████████████████████████████████████████████| 5/5 [00:22<00:00,  4.53s/it]\n"
     ]
    },
    {
     "name": "stdout",
     "output_type": "stream",
     "text": [
      "[12 / 128] LR: 0.0005 Forget Lr: 0.005 Forget Iter: 2\n",
      "0.5707349370999779\n"
     ]
    },
    {
     "name": "stderr",
     "output_type": "stream",
     "text": [
      "100%|████████████████████████████████████████████████████| 5/5 [00:22<00:00,  4.59s/it]\n"
     ]
    },
    {
     "name": "stdout",
     "output_type": "stream",
     "text": [
      "[13 / 128] LR: 1e-05 Forget Lr: 0.005 Forget Iter: 2\n",
      "0.5707349370999779\n"
     ]
    },
    {
     "name": "stderr",
     "output_type": "stream",
     "text": [
      "100%|████████████████████████████████████████████████████| 5/5 [00:23<00:00,  4.62s/it]\n"
     ]
    },
    {
     "name": "stdout",
     "output_type": "stream",
     "text": [
      "[14 / 128] LR: 5e-05 Forget Lr: 0.005 Forget Iter: 2\n",
      "0.6283381152063562\n"
     ]
    },
    {
     "name": "stderr",
     "output_type": "stream",
     "text": [
      "100%|████████████████████████████████████████████████████| 5/5 [00:24<00:00,  5.00s/it]\n"
     ]
    },
    {
     "name": "stdout",
     "output_type": "stream",
     "text": [
      "[15 / 128] LR: 0.01 Forget Lr: 0.005 Forget Iter: 2\n",
      "0.5707349370999779\n"
     ]
    },
    {
     "name": "stderr",
     "output_type": "stream",
     "text": [
      "100%|████████████████████████████████████████████████████| 5/5 [00:23<00:00,  4.61s/it]\n"
     ]
    },
    {
     "name": "stdout",
     "output_type": "stream",
     "text": [
      "[16 / 128] LR: 0.05 Forget Lr: 0.005 Forget Iter: 2\n",
      "0.6569190024277202\n"
     ]
    },
    {
     "name": "stderr",
     "output_type": "stream",
     "text": [
      "100%|████████████████████████████████████████████████████| 5/5 [00:23<00:00,  4.67s/it]\n"
     ]
    },
    {
     "name": "stdout",
     "output_type": "stream",
     "text": [
      "[17 / 128] LR: 0.001 Forget Lr: 0.0001 Forget Iter: 2\n",
      "0.7134186713749724\n"
     ]
    },
    {
     "name": "stderr",
     "output_type": "stream",
     "text": [
      "100%|████████████████████████████████████████████████████| 5/5 [00:21<00:00,  4.35s/it]\n"
     ]
    },
    {
     "name": "stdout",
     "output_type": "stream",
     "text": [
      "[18 / 128] LR: 0.005 Forget Lr: 0.0001 Forget Iter: 2\n",
      "0.5707349370999779\n"
     ]
    },
    {
     "name": "stderr",
     "output_type": "stream",
     "text": [
      "100%|████████████████████████████████████████████████████| 5/5 [00:21<00:00,  4.36s/it]\n"
     ]
    },
    {
     "name": "stdout",
     "output_type": "stream",
     "text": [
      "[19 / 128] LR: 0.0001 Forget Lr: 0.0001 Forget Iter: 2\n",
      "0.6601191789891856\n"
     ]
    },
    {
     "name": "stderr",
     "output_type": "stream",
     "text": [
      "100%|████████████████████████████████████████████████████| 5/5 [00:24<00:00,  4.97s/it]\n"
     ]
    },
    {
     "name": "stdout",
     "output_type": "stream",
     "text": [
      "[20 / 128] LR: 0.0005 Forget Lr: 0.0001 Forget Iter: 2\n",
      "0.719929375413816\n"
     ]
    },
    {
     "name": "stderr",
     "output_type": "stream",
     "text": [
      "100%|████████████████████████████████████████████████████| 5/5 [00:22<00:00,  4.48s/it]\n"
     ]
    },
    {
     "name": "stdout",
     "output_type": "stream",
     "text": [
      "[21 / 128] LR: 1e-05 Forget Lr: 0.0001 Forget Iter: 2\n",
      "0.4256234826749062\n"
     ]
    },
    {
     "name": "stderr",
     "output_type": "stream",
     "text": [
      "100%|████████████████████████████████████████████████████| 5/5 [00:26<00:00,  5.26s/it]\n"
     ]
    },
    {
     "name": "stdout",
     "output_type": "stream",
     "text": [
      "[22 / 128] LR: 5e-05 Forget Lr: 0.0001 Forget Iter: 2\n",
      "0.5715073935113661\n"
     ]
    },
    {
     "name": "stderr",
     "output_type": "stream",
     "text": [
      "100%|████████████████████████████████████████████████████| 5/5 [00:23<00:00,  4.66s/it]\n"
     ]
    },
    {
     "name": "stdout",
     "output_type": "stream",
     "text": [
      "[23 / 128] LR: 0.01 Forget Lr: 0.0001 Forget Iter: 2\n",
      "0.7205914809092916\n"
     ]
    },
    {
     "name": "stderr",
     "output_type": "stream",
     "text": [
      "100%|████████████████████████████████████████████████████| 5/5 [00:22<00:00,  4.46s/it]\n"
     ]
    },
    {
     "name": "stdout",
     "output_type": "stream",
     "text": [
      "[24 / 128] LR: 0.05 Forget Lr: 0.0001 Forget Iter: 2\n",
      "0.7290885014345619\n"
     ]
    },
    {
     "name": "stderr",
     "output_type": "stream",
     "text": [
      "100%|████████████████████████████████████████████████████| 5/5 [00:23<00:00,  4.69s/it]\n"
     ]
    },
    {
     "name": "stdout",
     "output_type": "stream",
     "text": [
      "[25 / 128] LR: 0.001 Forget Lr: 0.0005 Forget Iter: 2\n",
      "0.7382476274553079\n"
     ]
    },
    {
     "name": "stderr",
     "output_type": "stream",
     "text": [
      "100%|████████████████████████████████████████████████████| 5/5 [00:22<00:00,  4.60s/it]\n"
     ]
    },
    {
     "name": "stdout",
     "output_type": "stream",
     "text": [
      "[26 / 128] LR: 0.005 Forget Lr: 0.0005 Forget Iter: 2\n",
      "0.6774442727874641\n"
     ]
    },
    {
     "name": "stderr",
     "output_type": "stream",
     "text": [
      "100%|████████████████████████████████████████████████████| 5/5 [00:25<00:00,  5.07s/it]\n"
     ]
    },
    {
     "name": "stdout",
     "output_type": "stream",
     "text": [
      "[27 / 128] LR: 0.0001 Forget Lr: 0.0005 Forget Iter: 2\n",
      "0.5707349370999779\n"
     ]
    },
    {
     "name": "stderr",
     "output_type": "stream",
     "text": [
      "100%|████████████████████████████████████████████████████| 5/5 [00:22<00:00,  4.51s/it]\n"
     ]
    },
    {
     "name": "stdout",
     "output_type": "stream",
     "text": [
      "[28 / 128] LR: 0.0005 Forget Lr: 0.0005 Forget Iter: 2\n",
      "0.7182741116751269\n"
     ]
    },
    {
     "name": "stderr",
     "output_type": "stream",
     "text": [
      "100%|████████████████████████████████████████████████████| 5/5 [00:21<00:00,  4.40s/it]\n"
     ]
    },
    {
     "name": "stdout",
     "output_type": "stream",
     "text": [
      "[29 / 128] LR: 1e-05 Forget Lr: 0.0005 Forget Iter: 2\n",
      "0.5707349370999779\n"
     ]
    },
    {
     "name": "stderr",
     "output_type": "stream",
     "text": [
      "100%|████████████████████████████████████████████████████| 5/5 [00:22<00:00,  4.40s/it]\n"
     ]
    },
    {
     "name": "stdout",
     "output_type": "stream",
     "text": [
      "[30 / 128] LR: 5e-05 Forget Lr: 0.0005 Forget Iter: 2\n",
      "0.5707349370999779\n"
     ]
    },
    {
     "name": "stderr",
     "output_type": "stream",
     "text": [
      "100%|████████████████████████████████████████████████████| 5/5 [00:22<00:00,  4.40s/it]\n"
     ]
    },
    {
     "name": "stdout",
     "output_type": "stream",
     "text": [
      "[31 / 128] LR: 0.01 Forget Lr: 0.0005 Forget Iter: 2\n",
      "0.7535864047671595\n"
     ]
    },
    {
     "name": "stderr",
     "output_type": "stream",
     "text": [
      "100%|████████████████████████████████████████████████████| 5/5 [00:22<00:00,  4.46s/it]\n"
     ]
    },
    {
     "name": "stdout",
     "output_type": "stream",
     "text": [
      "[32 / 128] LR: 0.05 Forget Lr: 0.0005 Forget Iter: 2\n",
      "0.5986537188258663\n"
     ]
    },
    {
     "name": "stderr",
     "output_type": "stream",
     "text": [
      "100%|████████████████████████████████████████████████████| 5/5 [00:22<00:00,  4.55s/it]\n"
     ]
    },
    {
     "name": "stdout",
     "output_type": "stream",
     "text": [
      "[33 / 128] LR: 0.001 Forget Lr: 1e-05 Forget Iter: 2\n",
      "0.7047009490178768\n"
     ]
    },
    {
     "name": "stderr",
     "output_type": "stream",
     "text": [
      "100%|████████████████████████████████████████████████████| 5/5 [00:22<00:00,  4.55s/it]\n"
     ]
    },
    {
     "name": "stdout",
     "output_type": "stream",
     "text": [
      "[34 / 128] LR: 0.005 Forget Lr: 1e-05 Forget Iter: 2\n",
      "0.7774222026042816\n"
     ]
    },
    {
     "name": "stderr",
     "output_type": "stream",
     "text": [
      "100%|████████████████████████████████████████████████████| 5/5 [00:22<00:00,  4.59s/it]\n"
     ]
    },
    {
     "name": "stdout",
     "output_type": "stream",
     "text": [
      "[35 / 128] LR: 0.0001 Forget Lr: 1e-05 Forget Iter: 2\n",
      "0.646987419995586\n"
     ]
    },
    {
     "name": "stderr",
     "output_type": "stream",
     "text": [
      "100%|████████████████████████████████████████████████████| 5/5 [00:22<00:00,  4.46s/it]\n"
     ]
    },
    {
     "name": "stdout",
     "output_type": "stream",
     "text": [
      "[36 / 128] LR: 0.0005 Forget Lr: 1e-05 Forget Iter: 2\n",
      "0.7400132421099095\n"
     ]
    },
    {
     "name": "stderr",
     "output_type": "stream",
     "text": [
      "100%|████████████████████████████████████████████████████| 5/5 [00:22<00:00,  4.52s/it]\n"
     ]
    },
    {
     "name": "stdout",
     "output_type": "stream",
     "text": [
      "[37 / 128] LR: 1e-05 Forget Lr: 1e-05 Forget Iter: 2\n",
      "0.5707349370999779\n"
     ]
    },
    {
     "name": "stderr",
     "output_type": "stream",
     "text": [
      "100%|████████████████████████████████████████████████████| 5/5 [00:22<00:00,  4.60s/it]\n"
     ]
    },
    {
     "name": "stdout",
     "output_type": "stream",
     "text": [
      "[38 / 128] LR: 5e-05 Forget Lr: 1e-05 Forget Iter: 2\n",
      "0.6234826749062017\n"
     ]
    },
    {
     "name": "stderr",
     "output_type": "stream",
     "text": [
      "100%|████████████████████████████████████████████████████| 5/5 [00:21<00:00,  4.37s/it]\n"
     ]
    },
    {
     "name": "stdout",
     "output_type": "stream",
     "text": [
      "[39 / 128] LR: 0.01 Forget Lr: 1e-05 Forget Iter: 2\n",
      "0.7182741116751269\n"
     ]
    },
    {
     "name": "stderr",
     "output_type": "stream",
     "text": [
      "100%|████████████████████████████████████████████████████| 5/5 [00:22<00:00,  4.51s/it]\n"
     ]
    },
    {
     "name": "stdout",
     "output_type": "stream",
     "text": [
      "[40 / 128] LR: 0.05 Forget Lr: 1e-05 Forget Iter: 2\n",
      "0.7229088501434562\n"
     ]
    },
    {
     "name": "stderr",
     "output_type": "stream",
     "text": [
      "100%|████████████████████████████████████████████████████| 5/5 [00:23<00:00,  4.61s/it]\n"
     ]
    },
    {
     "name": "stdout",
     "output_type": "stream",
     "text": [
      "[41 / 128] LR: 0.001 Forget Lr: 5e-05 Forget Iter: 2\n",
      "0.7469653498124035\n"
     ]
    },
    {
     "name": "stderr",
     "output_type": "stream",
     "text": [
      "100%|████████████████████████████████████████████████████| 5/5 [00:23<00:00,  4.67s/it]\n"
     ]
    },
    {
     "name": "stdout",
     "output_type": "stream",
     "text": [
      "[42 / 128] LR: 0.005 Forget Lr: 5e-05 Forget Iter: 2\n",
      "0.7553520194217612\n"
     ]
    },
    {
     "name": "stderr",
     "output_type": "stream",
     "text": [
      "100%|████████████████████████████████████████████████████| 5/5 [00:22<00:00,  4.45s/it]\n"
     ]
    },
    {
     "name": "stdout",
     "output_type": "stream",
     "text": [
      "[43 / 128] LR: 0.0001 Forget Lr: 5e-05 Forget Iter: 2\n",
      "0.6125579342308541\n"
     ]
    },
    {
     "name": "stderr",
     "output_type": "stream",
     "text": [
      "100%|████████████████████████████████████████████████████| 5/5 [00:23<00:00,  4.64s/it]\n"
     ]
    },
    {
     "name": "stdout",
     "output_type": "stream",
     "text": [
      "[44 / 128] LR: 0.0005 Forget Lr: 5e-05 Forget Iter: 2\n",
      "0.7533657029353343\n"
     ]
    },
    {
     "name": "stderr",
     "output_type": "stream",
     "text": [
      "100%|████████████████████████████████████████████████████| 5/5 [00:22<00:00,  4.54s/it]\n"
     ]
    },
    {
     "name": "stdout",
     "output_type": "stream",
     "text": [
      "[45 / 128] LR: 1e-05 Forget Lr: 5e-05 Forget Iter: 2\n",
      "0.5707349370999779\n"
     ]
    },
    {
     "name": "stderr",
     "output_type": "stream",
     "text": [
      "100%|████████████████████████████████████████████████████| 5/5 [00:23<00:00,  4.66s/it]\n"
     ]
    },
    {
     "name": "stdout",
     "output_type": "stream",
     "text": [
      "[46 / 128] LR: 5e-05 Forget Lr: 5e-05 Forget Iter: 2\n",
      "0.5707349370999779\n"
     ]
    },
    {
     "name": "stderr",
     "output_type": "stream",
     "text": [
      "100%|████████████████████████████████████████████████████| 5/5 [00:22<00:00,  4.41s/it]\n"
     ]
    },
    {
     "name": "stdout",
     "output_type": "stream",
     "text": [
      "[47 / 128] LR: 0.01 Forget Lr: 5e-05 Forget Iter: 2\n",
      "0.7520414919443832\n"
     ]
    },
    {
     "name": "stderr",
     "output_type": "stream",
     "text": [
      "100%|████████████████████████████████████████████████████| 5/5 [00:22<00:00,  4.44s/it]\n"
     ]
    },
    {
     "name": "stdout",
     "output_type": "stream",
     "text": [
      "[48 / 128] LR: 0.05 Forget Lr: 5e-05 Forget Iter: 2\n",
      "0.5715073935113661\n"
     ]
    },
    {
     "name": "stderr",
     "output_type": "stream",
     "text": [
      "100%|████████████████████████████████████████████████████| 5/5 [00:25<00:00,  5.06s/it]\n"
     ]
    },
    {
     "name": "stdout",
     "output_type": "stream",
     "text": [
      "[49 / 128] LR: 0.001 Forget Lr: 0.01 Forget Iter: 2\n",
      "0.5707349370999779\n"
     ]
    },
    {
     "name": "stderr",
     "output_type": "stream",
     "text": [
      "100%|████████████████████████████████████████████████████| 5/5 [00:23<00:00,  4.70s/it]\n"
     ]
    },
    {
     "name": "stdout",
     "output_type": "stream",
     "text": [
      "[50 / 128] LR: 0.005 Forget Lr: 0.01 Forget Iter: 2\n",
      "0.5787905539615978\n"
     ]
    },
    {
     "name": "stderr",
     "output_type": "stream",
     "text": [
      "100%|████████████████████████████████████████████████████| 5/5 [00:22<00:00,  4.42s/it]\n"
     ]
    },
    {
     "name": "stdout",
     "output_type": "stream",
     "text": [
      "[51 / 128] LR: 0.0001 Forget Lr: 0.01 Forget Iter: 2\n",
      "0.5707349370999779\n"
     ]
    },
    {
     "name": "stderr",
     "output_type": "stream",
     "text": [
      "100%|████████████████████████████████████████████████████| 5/5 [00:22<00:00,  4.59s/it]\n"
     ]
    },
    {
     "name": "stdout",
     "output_type": "stream",
     "text": [
      "[52 / 128] LR: 0.0005 Forget Lr: 0.01 Forget Iter: 2\n",
      "0.5707349370999779\n"
     ]
    },
    {
     "name": "stderr",
     "output_type": "stream",
     "text": [
      "100%|████████████████████████████████████████████████████| 5/5 [00:24<00:00,  4.83s/it]\n"
     ]
    },
    {
     "name": "stdout",
     "output_type": "stream",
     "text": [
      "[53 / 128] LR: 1e-05 Forget Lr: 0.01 Forget Iter: 2\n",
      "0.5707349370999779\n"
     ]
    },
    {
     "name": "stderr",
     "output_type": "stream",
     "text": [
      "100%|████████████████████████████████████████████████████| 5/5 [00:22<00:00,  4.56s/it]\n"
     ]
    },
    {
     "name": "stdout",
     "output_type": "stream",
     "text": [
      "[54 / 128] LR: 5e-05 Forget Lr: 0.01 Forget Iter: 2\n",
      "0.5707349370999779\n"
     ]
    },
    {
     "name": "stderr",
     "output_type": "stream",
     "text": [
      "100%|████████████████████████████████████████████████████| 5/5 [00:22<00:00,  4.52s/it]\n"
     ]
    },
    {
     "name": "stdout",
     "output_type": "stream",
     "text": [
      "[55 / 128] LR: 0.01 Forget Lr: 0.01 Forget Iter: 2\n",
      "0.6675126903553299\n"
     ]
    },
    {
     "name": "stderr",
     "output_type": "stream",
     "text": [
      "100%|████████████████████████████████████████████████████| 5/5 [00:22<00:00,  4.55s/it]\n"
     ]
    },
    {
     "name": "stdout",
     "output_type": "stream",
     "text": [
      "[56 / 128] LR: 0.05 Forget Lr: 0.01 Forget Iter: 2\n",
      "0.5707349370999779\n"
     ]
    },
    {
     "name": "stderr",
     "output_type": "stream",
     "text": [
      "100%|████████████████████████████████████████████████████| 5/5 [00:21<00:00,  4.36s/it]\n"
     ]
    },
    {
     "name": "stdout",
     "output_type": "stream",
     "text": [
      "[57 / 128] LR: 0.001 Forget Lr: 0.05 Forget Iter: 2\n",
      "0.5707349370999779\n"
     ]
    },
    {
     "name": "stderr",
     "output_type": "stream",
     "text": [
      "100%|████████████████████████████████████████████████████| 5/5 [00:21<00:00,  4.37s/it]\n"
     ]
    },
    {
     "name": "stdout",
     "output_type": "stream",
     "text": [
      "[58 / 128] LR: 0.005 Forget Lr: 0.05 Forget Iter: 2\n",
      "0.7210328845729419\n"
     ]
    },
    {
     "name": "stderr",
     "output_type": "stream",
     "text": [
      "100%|████████████████████████████████████████████████████| 5/5 [00:22<00:00,  4.40s/it]\n"
     ]
    },
    {
     "name": "stdout",
     "output_type": "stream",
     "text": [
      "[59 / 128] LR: 0.0001 Forget Lr: 0.05 Forget Iter: 2\n",
      "0.5707349370999779\n"
     ]
    },
    {
     "name": "stderr",
     "output_type": "stream",
     "text": [
      "100%|████████████████████████████████████████████████████| 5/5 [00:23<00:00,  4.67s/it]\n"
     ]
    },
    {
     "name": "stdout",
     "output_type": "stream",
     "text": [
      "[60 / 128] LR: 0.0005 Forget Lr: 0.05 Forget Iter: 2\n",
      "0.5707349370999779\n"
     ]
    },
    {
     "name": "stderr",
     "output_type": "stream",
     "text": [
      "100%|████████████████████████████████████████████████████| 5/5 [00:21<00:00,  4.39s/it]\n"
     ]
    },
    {
     "name": "stdout",
     "output_type": "stream",
     "text": [
      "[61 / 128] LR: 1e-05 Forget Lr: 0.05 Forget Iter: 2\n",
      "0.5707349370999779\n"
     ]
    },
    {
     "name": "stderr",
     "output_type": "stream",
     "text": [
      "100%|████████████████████████████████████████████████████| 5/5 [00:22<00:00,  4.43s/it]\n"
     ]
    },
    {
     "name": "stdout",
     "output_type": "stream",
     "text": [
      "[62 / 128] LR: 5e-05 Forget Lr: 0.05 Forget Iter: 2\n",
      "0.5707349370999779\n"
     ]
    },
    {
     "name": "stderr",
     "output_type": "stream",
     "text": [
      "100%|████████████████████████████████████████████████████| 5/5 [00:22<00:00,  4.46s/it]\n"
     ]
    },
    {
     "name": "stdout",
     "output_type": "stream",
     "text": [
      "[63 / 128] LR: 0.01 Forget Lr: 0.05 Forget Iter: 2\n",
      "0.5707349370999779\n"
     ]
    },
    {
     "name": "stderr",
     "output_type": "stream",
     "text": [
      "100%|████████████████████████████████████████████████████| 5/5 [00:22<00:00,  4.57s/it]\n"
     ]
    },
    {
     "name": "stdout",
     "output_type": "stream",
     "text": [
      "[64 / 128] LR: 0.05 Forget Lr: 0.05 Forget Iter: 2\n",
      "0.5707349370999779\n"
     ]
    },
    {
     "name": "stderr",
     "output_type": "stream",
     "text": [
      "100%|████████████████████████████████████████████████████| 5/5 [00:20<00:00,  4.01s/it]\n"
     ]
    },
    {
     "name": "stdout",
     "output_type": "stream",
     "text": [
      "[65 / 128] LR: 0.001 Forget Lr: 0.001 Forget Iter: 5\n",
      "0.7661664091811962\n"
     ]
    },
    {
     "name": "stderr",
     "output_type": "stream",
     "text": [
      "100%|████████████████████████████████████████████████████| 5/5 [00:19<00:00,  3.94s/it]\n"
     ]
    },
    {
     "name": "stdout",
     "output_type": "stream",
     "text": [
      "[66 / 128] LR: 0.005 Forget Lr: 0.001 Forget Iter: 5\n",
      "0.7136393732067976\n"
     ]
    },
    {
     "name": "stderr",
     "output_type": "stream",
     "text": [
      "100%|████████████████████████████████████████████████████| 5/5 [00:23<00:00,  4.67s/it]\n"
     ]
    },
    {
     "name": "stdout",
     "output_type": "stream",
     "text": [
      "[67 / 128] LR: 0.0001 Forget Lr: 0.001 Forget Iter: 5\n",
      "0.5707349370999779\n"
     ]
    },
    {
     "name": "stderr",
     "output_type": "stream",
     "text": [
      "100%|████████████████████████████████████████████████████| 5/5 [00:20<00:00,  4.09s/it]\n"
     ]
    },
    {
     "name": "stdout",
     "output_type": "stream",
     "text": [
      "[68 / 128] LR: 0.0005 Forget Lr: 0.001 Forget Iter: 5\n",
      "0.7445376296623262\n"
     ]
    },
    {
     "name": "stderr",
     "output_type": "stream",
     "text": [
      "100%|████████████████████████████████████████████████████| 5/5 [00:21<00:00,  4.39s/it]\n"
     ]
    },
    {
     "name": "stdout",
     "output_type": "stream",
     "text": [
      "[69 / 128] LR: 1e-05 Forget Lr: 0.001 Forget Iter: 5\n",
      "0.5707349370999779\n"
     ]
    },
    {
     "name": "stderr",
     "output_type": "stream",
     "text": [
      "100%|████████████████████████████████████████████████████| 5/5 [00:20<00:00,  4.07s/it]\n"
     ]
    },
    {
     "name": "stdout",
     "output_type": "stream",
     "text": [
      "[70 / 128] LR: 5e-05 Forget Lr: 0.001 Forget Iter: 5\n",
      "0.5707349370999779\n"
     ]
    },
    {
     "name": "stderr",
     "output_type": "stream",
     "text": [
      "100%|████████████████████████████████████████████████████| 5/5 [00:20<00:00,  4.00s/it]\n"
     ]
    },
    {
     "name": "stdout",
     "output_type": "stream",
     "text": [
      "[71 / 128] LR: 0.01 Forget Lr: 0.001 Forget Iter: 5\n",
      "0.7205914809092916\n"
     ]
    },
    {
     "name": "stderr",
     "output_type": "stream",
     "text": [
      "100%|████████████████████████████████████████████████████| 5/5 [00:21<00:00,  4.24s/it]\n"
     ]
    },
    {
     "name": "stdout",
     "output_type": "stream",
     "text": [
      "[72 / 128] LR: 0.05 Forget Lr: 0.001 Forget Iter: 5\n",
      "0.5707349370999779\n"
     ]
    },
    {
     "name": "stderr",
     "output_type": "stream",
     "text": [
      "100%|████████████████████████████████████████████████████| 5/5 [00:20<00:00,  4.08s/it]\n"
     ]
    },
    {
     "name": "stdout",
     "output_type": "stream",
     "text": [
      "[73 / 128] LR: 0.001 Forget Lr: 0.005 Forget Iter: 5\n",
      "0.5924740675347605\n"
     ]
    },
    {
     "name": "stderr",
     "output_type": "stream",
     "text": [
      "100%|████████████████████████████████████████████████████| 5/5 [00:20<00:00,  4.04s/it]\n"
     ]
    },
    {
     "name": "stdout",
     "output_type": "stream",
     "text": [
      "[74 / 128] LR: 0.005 Forget Lr: 0.005 Forget Iter: 5\n",
      "0.7635179871992938\n"
     ]
    },
    {
     "name": "stderr",
     "output_type": "stream",
     "text": [
      "100%|████████████████████████████████████████████████████| 5/5 [00:21<00:00,  4.35s/it]\n"
     ]
    },
    {
     "name": "stdout",
     "output_type": "stream",
     "text": [
      "[75 / 128] LR: 0.0001 Forget Lr: 0.005 Forget Iter: 5\n",
      "0.5707349370999779\n"
     ]
    },
    {
     "name": "stderr",
     "output_type": "stream",
     "text": [
      "100%|████████████████████████████████████████████████████| 5/5 [00:19<00:00,  3.99s/it]\n"
     ]
    },
    {
     "name": "stdout",
     "output_type": "stream",
     "text": [
      "[76 / 128] LR: 0.0005 Forget Lr: 0.005 Forget Iter: 5\n",
      "0.6073714411829618\n"
     ]
    },
    {
     "name": "stderr",
     "output_type": "stream",
     "text": [
      "100%|████████████████████████████████████████████████████| 5/5 [00:20<00:00,  4.02s/it]\n"
     ]
    },
    {
     "name": "stdout",
     "output_type": "stream",
     "text": [
      "[77 / 128] LR: 1e-05 Forget Lr: 0.005 Forget Iter: 5\n",
      "0.5707349370999779\n"
     ]
    },
    {
     "name": "stderr",
     "output_type": "stream",
     "text": [
      "100%|████████████████████████████████████████████████████| 5/5 [00:20<00:00,  4.04s/it]\n"
     ]
    },
    {
     "name": "stdout",
     "output_type": "stream",
     "text": [
      "[78 / 128] LR: 5e-05 Forget Lr: 0.005 Forget Iter: 5\n",
      "0.5707349370999779\n"
     ]
    },
    {
     "name": "stderr",
     "output_type": "stream",
     "text": [
      " 80%|█████████████████████████████████████████▌          | 4/5 [00:17<00:04,  4.44s/it]"
     ]
    }
   ],
   "source": [
    "forget_lrs = [1e-3, 5e-3, 1e-4, 5e-4, 1e-5, 5e-5, 1e-2, 5e-2]\n",
    "forget_iters = [2,5]\n",
    "lrs = [1e-3, 5e-3, 1e-4, 5e-4, 1e-5, 5e-5, 1e-2, 5e-2]\n",
    "\n",
    "hyp_losses = np.zeros((len(forget_iters), len(forget_lrs), len(lrs)))\n",
    "\n",
    "for i in range(len(forget_iters)):\n",
    "    for j in range(len(forget_lrs)):\n",
    "        for k in range(len(lrs)):\n",
    "            model = SiFer_Class([32, 32, 32, 8], [8, 8], 1, num_features, num_classes).to(device)\n",
    "            model, train_losses, val_losses = train_class(model, norm_train_dataloader, val_inputs, val_targets, num_classes,  forget_iters = forget_iters[i], lrs = [lrs[k], lrs[k], forget_lrs[j]], epochs = 5)\n",
    "            hyp_losses[i, j, k] += eval_fsclass(model, norm_val_inputs, val_targets)\n",
    "            print(f\"[{i*(len(forget_lrs) * len(lrs)) + j*(len(lrs)) + k + 1} / {len(forget_lrs) * len(lrs)* len(forget_iters)}] LR: {lrs[k]} Forget Lr: {forget_lrs[j]} Forget Iter: {forget_iters[i]}\")\n",
    "            print(hyp_losses[i,j,k])\n",
    "            \n",
    "best_forget_iter, best_forget_lr, best_lr = np.unravel_index(np.argmax(hyp_losses), hyp_losses.shape)\n",
    "print(f\"Best Forget Iter: {forget_iters[best_forget_iter]} Best Forget Lr: {forget_lrs[best_forget_lr]} Best Lr: {lrs[best_lr]}\")"
   ]
  },
  {
   "cell_type": "code",
   "execution_count": null,
   "id": "1aec8ae2-2821-4bf4-a806-821fa1d472db",
   "metadata": {},
   "outputs": [],
   "source": [
    "model = SiFer_Class([32, 32, 32, 8], [8, 8], 1, num_features, num_classes).to(device)\n",
    "model, train_losses, val_losses = train_class(model, norm_train_dataloader, val_inputs, val_targets, num_classes, forget_iters = forget_iters[best_forget_iter], lrs = [lrs[best_lr], lrs[best_lr], forget_lrs[best_forget_lr]])\n",
    "test_acc_sifer = eval_fsclass(model, norm_tst_inputs, tst_targets)\n",
    "print(test_acc_sifer)"
   ]
  },
  {
   "cell_type": "markdown",
   "id": "bfa25df9-f34d-4624-9b76-e87cf1cbb701",
   "metadata": {},
   "source": [
    "## Visualization "
   ]
  },
  {
   "cell_type": "code",
   "execution_count": null,
   "id": "75f49b58-0d8e-460e-ae0c-25f6b1b35580",
   "metadata": {},
   "outputs": [],
   "source": [
    "def bar_plot(data, xlabel, ylabel, title, name):\n",
    "    x = list(data.keys())\n",
    "    y = list(data.values())\n",
    "    \n",
    "    fig, ax = plt.subplots(figsize = (20, 10))\n",
    "    # Create the bar plot\n",
    "    ax.bar(x, y, color ='maroon', width = 0.4)\n",
    "    # Set the title and labels\n",
    "    ax.set_title(title)\n",
    "    ax.set_xlabel(xlabel)\n",
    "    ax.set_ylabel(ylabel)\n",
    "    ax.axhline(y = 0.5, linestyle = '--', color = 'black')\n",
    "    # Display the values on top of the bars\n",
    "    plt.xticks(rotation = 45)\n",
    "    for i, v in enumerate(y):\n",
    "        ax.text(i, v + 0.005 if v> 0 else v-5, '{:.4f}'.format(v), color='black', ha='center')\n",
    "        \n",
    "    plt.savefig(f\"./Outputs/Classification/{name}.png\")"
   ]
  },
  {
   "cell_type": "code",
   "execution_count": null,
   "id": "df51dbed-6ca7-4ed8-9c04-9337d02ea1cd",
   "metadata": {},
   "outputs": [],
   "source": [
    "dict_ = {\n",
    "    \"Logistic Regression\":test_acc_lr,\n",
    "    \"Decision Tree Classifier\":test_acc_dtc,\n",
    "    \"Random Forest Classifier\": test_acc_rf,\n",
    "    \"XGBoost Classifier\": test_acc_xgb, \n",
    "    \"Gradient Boosting Classifier\": test_acc_gbc, \n",
    "    \"CatBoost Classifier\": test_acc_cat, \n",
    "    \"LightGBM Classifier\": test_acc_lgbm, \n",
    "    \"Neural Network\": test_acc_mlp, \n",
    "    \"SiFer Classification\": test_acc_sifer, \n",
    "}\n",
    "bar_plot(dict_, f\"{dataset_name}\", df['target_names'][0] + \" Accuracy\", f\"Tabular Dataset Comparison ({dataset_name})\", f'tab-data-{dataset_name}-accuracy')"
   ]
  },
  {
   "cell_type": "code",
   "execution_count": null,
   "id": "f4c40b8f-241c-416f-ba87-8cbce1da6406",
   "metadata": {},
   "outputs": [],
   "source": [
    "results_df = pd.DataFrame(dict_.values(), index = dict_.keys(), columns = [df['target_names'][0] + \"-Accuracy\"])\n",
    "results_df[df['target_names'][0] + '-Accuracy'] = results_df[df['target_names'][0] + '-Accuracy'].apply(lambda x: float(x))\n",
    "results_df.to_csv(f\"./Outputs/Classification/tab-data-{dataset_name}-accuracy.csv\")\n",
    "results_df"
   ]
  },
  {
   "cell_type": "code",
   "execution_count": null,
   "id": "e23c1c80-a91e-402c-ae99-1daef60ff2bb",
   "metadata": {},
   "outputs": [],
   "source": []
  }
 ],
 "metadata": {
  "kernelspec": {
   "display_name": "Python 3 (ipykernel)",
   "language": "python",
   "name": "python3"
  },
  "language_info": {
   "codemirror_mode": {
    "name": "ipython",
    "version": 3
   },
   "file_extension": ".py",
   "mimetype": "text/x-python",
   "name": "python",
   "nbconvert_exporter": "python",
   "pygments_lexer": "ipython3",
   "version": "3.11.5"
  }
 },
 "nbformat": 4,
 "nbformat_minor": 5
}
