{
 "cells": [
  {
   "cell_type": "markdown",
   "id": "b8ecbf01-de27-4232-8b15-b4f60813701d",
   "metadata": {},
   "source": [
    "# Feature Sieve for Regression\n",
    "## Tabular Datasets"
   ]
  },
  {
   "cell_type": "code",
   "execution_count": 1,
   "id": "7ae321fd-5b02-4031-9e75-d4d9c90e331f",
   "metadata": {},
   "outputs": [],
   "source": [
    "import torch\n",
    "from torch import nn, optim\n",
    "import torch.nn.functional as F\n",
    "from torch.utils.data import Dataset, DataLoader\n",
    "import numpy as np\n",
    "import openml as oml\n",
    "\n",
    "from sklearn import datasets, linear_model, ensemble, tree, metrics\n",
    "from xgboost import XGBRegressor\n",
    "from catboost import CatBoostRegressor\n",
    "from lightgbm import LGBMRegressor\n",
    "from models.mlp import net, train_net, eval_net\n",
    "from models.sifer_margin import SiFer_Margin, learn_main, learn_aux, forget_aux, train_margin, eval_fsmodel\n",
    "from models.sifer_cross_entropy import SiFer_Cross, learn_main_ce, learn_aux_ce, forget_aux_ce, train_cross\n",
    "from models.sifer_ordinal import SiFer_Ord, learn_main_ordinal, learn_aux_ordinal, forget_aux_ordinal, train_ordinal\n",
    "\n",
    "import pandas as pd\n",
    "import seaborn as sns\n",
    "import matplotlib.pyplot as plt\n",
    "from tqdm import tqdm\n",
    "\n",
    "torch.manual_seed(3407)\n",
    "torch.cuda.set_device(2)\n",
    "torch.cuda.manual_seed(3407)\n",
    "device = torch.device(\"cuda\" if torch.cuda.is_available() else \"cpu\")"
   ]
  },
  {
   "cell_type": "markdown",
   "id": "1daabde1-20b2-4bb7-a62b-c22a3e1ea03e",
   "metadata": {},
   "source": [
    "## Datasets"
   ]
  },
  {
   "cell_type": "code",
   "execution_count": 5,
   "id": "5974df9c-1af5-49c0-8ec6-c3bb535b788b",
   "metadata": {},
   "outputs": [],
   "source": [
    "# fetching\n",
    "dataset_name = \"california\"\n",
    "df = datasets.fetch_openml(name =dataset_name, version = 2)"
   ]
  },
  {
   "cell_type": "code",
   "execution_count": 6,
   "id": "14a3f9ce-0f88-48ff-8140-0624c88cd2f7",
   "metadata": {},
   "outputs": [
    {
     "name": "stdout",
     "output_type": "stream",
     "text": [
      "Features:  ['MedInc', 'HouseAge', 'AveRooms', 'AveBedrms', 'Population', 'AveOccup', 'Latitude', 'Longitude']\n",
      "Targets:  ['price']\n",
      "Dataset size:  (20640, 8)\n"
     ]
    },
    {
     "data": {
      "text/html": [
       "<div>\n",
       "<style scoped>\n",
       "    .dataframe tbody tr th:only-of-type {\n",
       "        vertical-align: middle;\n",
       "    }\n",
       "\n",
       "    .dataframe tbody tr th {\n",
       "        vertical-align: top;\n",
       "    }\n",
       "\n",
       "    .dataframe thead th {\n",
       "        text-align: right;\n",
       "    }\n",
       "</style>\n",
       "<table border=\"1\" class=\"dataframe\">\n",
       "  <thead>\n",
       "    <tr style=\"text-align: right;\">\n",
       "      <th></th>\n",
       "      <th>MedInc</th>\n",
       "      <th>HouseAge</th>\n",
       "      <th>AveRooms</th>\n",
       "      <th>AveBedrms</th>\n",
       "      <th>Population</th>\n",
       "      <th>AveOccup</th>\n",
       "      <th>Latitude</th>\n",
       "      <th>Longitude</th>\n",
       "    </tr>\n",
       "  </thead>\n",
       "  <tbody>\n",
       "    <tr>\n",
       "      <th>0</th>\n",
       "      <td>8.3252</td>\n",
       "      <td>41.0</td>\n",
       "      <td>6.984127</td>\n",
       "      <td>1.023810</td>\n",
       "      <td>322.0</td>\n",
       "      <td>2.555556</td>\n",
       "      <td>37.88</td>\n",
       "      <td>-122.23</td>\n",
       "    </tr>\n",
       "    <tr>\n",
       "      <th>1</th>\n",
       "      <td>8.3014</td>\n",
       "      <td>21.0</td>\n",
       "      <td>6.238137</td>\n",
       "      <td>0.971880</td>\n",
       "      <td>2401.0</td>\n",
       "      <td>2.109842</td>\n",
       "      <td>37.86</td>\n",
       "      <td>-122.22</td>\n",
       "    </tr>\n",
       "    <tr>\n",
       "      <th>2</th>\n",
       "      <td>7.2574</td>\n",
       "      <td>52.0</td>\n",
       "      <td>8.288136</td>\n",
       "      <td>1.073446</td>\n",
       "      <td>496.0</td>\n",
       "      <td>2.802260</td>\n",
       "      <td>37.85</td>\n",
       "      <td>-122.24</td>\n",
       "    </tr>\n",
       "    <tr>\n",
       "      <th>3</th>\n",
       "      <td>5.6431</td>\n",
       "      <td>52.0</td>\n",
       "      <td>5.817352</td>\n",
       "      <td>1.073059</td>\n",
       "      <td>558.0</td>\n",
       "      <td>2.547945</td>\n",
       "      <td>37.85</td>\n",
       "      <td>-122.25</td>\n",
       "    </tr>\n",
       "    <tr>\n",
       "      <th>4</th>\n",
       "      <td>3.8462</td>\n",
       "      <td>52.0</td>\n",
       "      <td>6.281853</td>\n",
       "      <td>1.081081</td>\n",
       "      <td>565.0</td>\n",
       "      <td>2.181467</td>\n",
       "      <td>37.85</td>\n",
       "      <td>-122.25</td>\n",
       "    </tr>\n",
       "  </tbody>\n",
       "</table>\n",
       "</div>"
      ],
      "text/plain": [
       "   MedInc  HouseAge  AveRooms  AveBedrms  Population  AveOccup  Latitude  \\\n",
       "0  8.3252      41.0  6.984127   1.023810       322.0  2.555556     37.88   \n",
       "1  8.3014      21.0  6.238137   0.971880      2401.0  2.109842     37.86   \n",
       "2  7.2574      52.0  8.288136   1.073446       496.0  2.802260     37.85   \n",
       "3  5.6431      52.0  5.817352   1.073059       558.0  2.547945     37.85   \n",
       "4  3.8462      52.0  6.281853   1.081081       565.0  2.181467     37.85   \n",
       "\n",
       "   Longitude  \n",
       "0    -122.23  \n",
       "1    -122.22  \n",
       "2    -122.24  \n",
       "3    -122.25  \n",
       "4    -122.25  "
      ]
     },
     "execution_count": 6,
     "metadata": {},
     "output_type": "execute_result"
    }
   ],
   "source": [
    "inputs = df['data']\n",
    "targets = df['target']\n",
    "print(\"Features: \", df['feature_names'])\n",
    "print(\"Targets: \", df['target_names'])\n",
    "print(\"Dataset size: \", inputs.shape)\n",
    "inputs.head()"
   ]
  },
  {
   "cell_type": "code",
   "execution_count": 7,
   "id": "de1ee6fe-06a0-4aed-9631-faea51d2c70a",
   "metadata": {},
   "outputs": [
    {
     "data": {
      "text/plain": [
       "0    1.709464\n",
       "1    1.522790\n",
       "2    1.508733\n",
       "3    1.484555\n",
       "4    1.486592\n",
       "Name: price, dtype: float64"
      ]
     },
     "execution_count": 7,
     "metadata": {},
     "output_type": "execute_result"
    }
   ],
   "source": [
    "targets.head()"
   ]
  },
  {
   "cell_type": "markdown",
   "id": "13fd706e-8e6d-4063-9225-b73bb0f22895",
   "metadata": {},
   "source": [
    "## Train, Validation and Test Split"
   ]
  },
  {
   "cell_type": "code",
   "execution_count": 8,
   "id": "6e8427e3-4da1-4aea-a081-7dc343e01b65",
   "metadata": {},
   "outputs": [
    {
     "name": "stdout",
     "output_type": "stream",
     "text": [
      "Train datapoints: 12384\n",
      "Validation datapoints: 4128\n",
      "Test datapoints: 4128\n"
     ]
    }
   ],
   "source": [
    "TRAIN_PTS = int(inputs.shape[0] * 0.6)\n",
    "VALID_PTS = int(inputs.shape[0] * 0.2)\n",
    "TEST_PTS = int(inputs.shape[0] * 0.2)\n",
    "\n",
    "train_inputs, train_targets = inputs[:TRAIN_PTS], targets[:TRAIN_PTS]\n",
    "valid_inputs, valid_targets = inputs[TRAIN_PTS: TRAIN_PTS + VALID_PTS], targets[TRAIN_PTS: TRAIN_PTS + VALID_PTS]\n",
    "test_inputs, test_targets = inputs[TRAIN_PTS + VALID_PTS: ], targets[TRAIN_PTS + VALID_PTS: ]\n",
    "\n",
    "print(f\"Train datapoints: {train_inputs.shape[0]}\")\n",
    "print(f\"Validation datapoints: {valid_inputs.shape[0]}\")\n",
    "print(f\"Test datapoints: {test_inputs.shape[0]}\")"
   ]
  },
  {
   "cell_type": "markdown",
   "id": "1c32faf4-ed9c-42da-b175-b29ec56ebbbc",
   "metadata": {},
   "source": [
    "## Analysis of the dataset"
   ]
  },
  {
   "cell_type": "code",
   "execution_count": 9,
   "id": "1d328828-fe00-44c8-bd5e-d5b962caaecc",
   "metadata": {
    "scrolled": true
   },
   "outputs": [
    {
     "data": {
      "image/png": "[encoded data removed]",
      "text/plain": [
       "<Figure size 800x600 with 2 Axes>"
      ]
     },
     "metadata": {},
     "output_type": "display_data"
    }
   ],
   "source": [
    "# correlation between the features and targets\n",
    "plt.figure(figsize = (8, 6))\n",
    "corr_df = pd.concat([train_inputs, train_targets], axis = 1)\n",
    "corr_df = corr_df.corr()\n",
    "sns.heatmap(corr_df)\n",
    "plt.show()"
   ]
  },
  {
   "cell_type": "code",
   "execution_count": 10,
   "id": "a82245b0-58f8-4a55-9c7a-1e62601ee6f1",
   "metadata": {
    "scrolled": true
   },
   "outputs": [
    {
     "data": {
      "image/png": "[encoded data removed]",
      "text/plain": [
       "<Figure size 800x600 with 1 Axes>"
      ]
     },
     "metadata": {},
     "output_type": "display_data"
    }
   ],
   "source": [
    "plt.figure(figsize = (8,6))\n",
    "plt.hist(train_targets, bins = 100)\n",
    "plt.show()"
   ]
  },
  {
   "cell_type": "markdown",
   "id": "1c4f450b-46dc-4706-8447-7a9ae41f3050",
   "metadata": {},
   "source": [
    "### Datasets and DataLoader"
   ]
  },
  {
   "cell_type": "code",
   "execution_count": 11,
   "id": "eb8269ab-e85b-464f-b573-4317776806ae",
   "metadata": {},
   "outputs": [],
   "source": [
    "class CustomDataset(Dataset):\n",
    "    def __init__(self, data, targets):\n",
    "        self.data = data\n",
    "        self.targets = targets\n",
    "\n",
    "    def __getitem__(self, idx):\n",
    "        x = self.data[idx]\n",
    "        y = self.targets[idx]\n",
    "        return x,y\n",
    "\n",
    "    def __len__(self):\n",
    "        return self.data.shape[0]\n",
    "\n",
    "EPSILON = 1e-12\n",
    "# normalization of the input(min max normali)\n",
    "norm_val_inputs = ((valid_inputs - valid_inputs.min()) / (valid_inputs.max() - valid_inputs.min()+EPSILON)).to_numpy()\n",
    "norm_tst_inputs = ((test_inputs - test_inputs.min()) / (test_inputs.max() - test_inputs.min()+EPSILON)).to_numpy()\n",
    "norm_train_inputs = ((train_inputs - train_inputs.min()) / (train_inputs.max() - train_inputs.min()+EPSILON)).to_numpy()\n",
    "\n",
    "val_inputs, val_targets = valid_inputs.to_numpy(), valid_targets.to_numpy()\n",
    "tst_inputs, tst_targets = test_inputs.to_numpy(), test_targets.to_numpy()\n",
    "train_inputs, train_targets = train_inputs.to_numpy(), train_targets.to_numpy()\n",
    "\n",
    "train_dataset = CustomDataset(train_inputs, train_targets)\n",
    "train_dataloader = DataLoader(\n",
    "    dataset = train_dataset, \n",
    "    shuffle = True, \n",
    "    batch_size = 64\n",
    ")\n",
    "\n",
    "norm_train_dataset = CustomDataset(norm_train_inputs, train_targets)\n",
    "norm_train_dataloader = DataLoader(\n",
    "    dataset = norm_train_dataset, \n",
    "    shuffle = True, \n",
    "    batch_size = 64\n",
    ")"
   ]
  },
  {
   "cell_type": "markdown",
   "id": "d50b8046-31d1-4aef-be00-adb503855b1e",
   "metadata": {},
   "source": [
    "## 1) Random Forest Regressor"
   ]
  },
  {
   "cell_type": "code",
   "execution_count": 12,
   "id": "58914ee9-cd6d-4728-83e5-d231d764066e",
   "metadata": {
    "scrolled": true
   },
   "outputs": [
    {
     "name": "stderr",
     "output_type": "stream",
     "text": [
      "100%|█████████████████████████████████████████████████████████████████████████████████████████████████████████████████████████████████████████| 11/11 [01:57<00:00, 10.64s/it]\n"
     ]
    },
    {
     "data": {
      "image/png": "[encoded data removed]",
      "text/plain": [
       "<Figure size 800x600 with 1 Axes>"
      ]
     },
     "metadata": {},
     "output_type": "display_data"
    }
   ],
   "source": [
    "## hyperparameter tuning\n",
    "num_estimators = [2, 5, 10, 25, 50, 75, 100, 125, 150, 175, 200]\n",
    "val_losses = []\n",
    "\n",
    "for num_est in tqdm(num_estimators):\n",
    "    rf = ensemble.RandomForestRegressor(random_state = 42, n_estimators = num_est)\n",
    "    rf.fit(norm_train_inputs, train_targets)\n",
    "    val_preds = rf.predict(norm_val_inputs)\n",
    "\n",
    "    val_loss = metrics.mean_squared_error(val_preds, val_targets)\n",
    "    val_losses.append(val_loss)\n",
    "\n",
    "best_n_estimator = num_estimators[val_losses.index(min(val_losses))]\n",
    "plt.figure(figsize = (8,6))\n",
    "plt.plot(num_estimators, val_losses)\n",
    "plt.show()"
   ]
  },
  {
   "cell_type": "code",
   "execution_count": 13,
   "id": "6a5e8f99-c55b-460d-a2b3-89d63407ff70",
   "metadata": {},
   "outputs": [
    {
     "name": "stdout",
     "output_type": "stream",
     "text": [
      "0.08777712820836102\n"
     ]
    }
   ],
   "source": [
    "rf = ensemble.RandomForestRegressor(random_state = 42, n_estimators = best_n_estimator)\n",
    "rf.fit(norm_train_inputs, train_targets)\n",
    "test_preds = rf.predict(norm_tst_inputs)\n",
    "\n",
    "test_loss_rf = metrics.mean_squared_error(test_preds, tst_targets)\n",
    "print(test_loss_rf)"
   ]
  },
  {
   "cell_type": "markdown",
   "id": "73abb73c-afd7-4db8-b09c-4d3c73bcdca4",
   "metadata": {},
   "source": [
    "## 2) XGBoost regressor"
   ]
  },
  {
   "cell_type": "code",
   "execution_count": 14,
   "id": "afa0cdc8-0cff-4322-968d-c13a4a17930b",
   "metadata": {
    "scrolled": true
   },
   "outputs": [
    {
     "name": "stderr",
     "output_type": "stream",
     "text": [
      "100%|█████████████████████████████████████████████████████████████████████████████████████████████████████████████████████████████████████████| 11/11 [00:01<00:00,  6.54it/s]\n"
     ]
    },
    {
     "name": "stdout",
     "output_type": "stream",
     "text": [
      "5\n"
     ]
    },
    {
     "data": {
      "image/png": "[encoded data removed]",
      "text/plain": [
       "<Figure size 800x600 with 1 Axes>"
      ]
     },
     "metadata": {},
     "output_type": "display_data"
    }
   ],
   "source": [
    "num_estimators = [2, 5, 10, 25, 50, 75, 100, 125, 150, 175, 200]\n",
    "val_losses = []\n",
    "\n",
    "for num_est in tqdm(num_estimators):\n",
    "    xgb = XGBRegressor(random_state = 42, n_estimators = num_est)\n",
    "    xgb.fit(norm_train_inputs, train_targets)\n",
    "    val_preds = xgb.predict(norm_val_inputs)\n",
    "\n",
    "    val_loss = metrics.mean_squared_error(val_preds, val_targets)\n",
    "    val_losses.append(val_loss)\n",
    "\n",
    "best_n_estimator = num_estimators[val_losses.index(min(val_losses))]\n",
    "print(best_n_estimator)\n",
    "\n",
    "plt.figure(figsize = (8,6))\n",
    "plt.plot(num_estimators, val_losses)\n",
    "plt.show()"
   ]
  },
  {
   "cell_type": "code",
   "execution_count": 15,
   "id": "3ec687c9-f98e-4a49-9033-47884498aee0",
   "metadata": {},
   "outputs": [
    {
     "name": "stdout",
     "output_type": "stream",
     "text": [
      "0.07004330061040617\n"
     ]
    }
   ],
   "source": [
    "xgb =XGBRegressor(random_state = 42, n_estimators = best_n_estimator)\n",
    "xgb.fit(norm_train_inputs, train_targets)\n",
    "test_preds = xgb.predict(norm_tst_inputs)\n",
    "\n",
    "test_loss_xgb = metrics.mean_squared_error(test_preds, tst_targets)\n",
    "print(test_loss_xgb)"
   ]
  },
  {
   "cell_type": "markdown",
   "id": "c5ed5e5d-0ab6-470c-9d30-af1a987188ab",
   "metadata": {},
   "source": [
    "## 3) CatBoost"
   ]
  },
  {
   "cell_type": "code",
   "execution_count": 16,
   "id": "20c80766-8fe7-4b97-b4d9-9764fa65c8a3",
   "metadata": {
    "scrolled": true
   },
   "outputs": [
    {
     "name": "stdout",
     "output_type": "stream",
     "text": [
      "Learning rate set to 0.060933\n",
      "0:\tlearn: 0.3381949\ttotal: 62.8ms\tremaining: 1m 2s\n",
      "1:\tlearn: 0.3262623\ttotal: 69.7ms\tremaining: 34.8s\n",
      "2:\tlearn: 0.3146618\ttotal: 77.2ms\tremaining: 25.7s\n",
      "3:\tlearn: 0.3041902\ttotal: 92.2ms\tremaining: 23s\n",
      "4:\tlearn: 0.2939939\ttotal: 95.4ms\tremaining: 19s\n",
      "5:\tlearn: 0.2846208\ttotal: 98ms\tremaining: 16.2s\n",
      "6:\tlearn: 0.2758961\ttotal: 101ms\tremaining: 14.3s\n",
      "7:\tlearn: 0.2679208\ttotal: 103ms\tremaining: 12.7s\n",
      "8:\tlearn: 0.2605651\ttotal: 105ms\tremaining: 11.6s\n",
      "9:\tlearn: 0.2536883\ttotal: 107ms\tremaining: 10.6s\n",
      "10:\tlearn: 0.2473799\ttotal: 110ms\tremaining: 9.86s\n",
      "11:\tlearn: 0.2414444\ttotal: 113ms\tremaining: 9.33s\n",
      "12:\tlearn: 0.2357842\ttotal: 116ms\tremaining: 8.82s\n",
      "13:\tlearn: 0.2306470\ttotal: 118ms\tremaining: 8.34s\n",
      "14:\tlearn: 0.2259535\ttotal: 121ms\tremaining: 7.92s\n",
      "15:\tlearn: 0.2216628\ttotal: 123ms\tremaining: 7.55s\n",
      "16:\tlearn: 0.2173982\ttotal: 125ms\tremaining: 7.23s\n",
      "17:\tlearn: 0.2135709\ttotal: 127ms\tremaining: 6.94s\n",
      "18:\tlearn: 0.2099042\ttotal: 129ms\tremaining: 6.68s\n",
      "19:\tlearn: 0.2066708\ttotal: 134ms\tremaining: 6.57s\n",
      "20:\tlearn: 0.2038627\ttotal: 137ms\tremaining: 6.37s\n",
      "21:\tlearn: 0.2009300\ttotal: 139ms\tremaining: 6.17s\n",
      "22:\tlearn: 0.1980900\ttotal: 141ms\tremaining: 5.99s\n",
      "23:\tlearn: 0.1957038\ttotal: 143ms\tremaining: 5.82s\n",
      "24:\tlearn: 0.1933487\ttotal: 145ms\tremaining: 5.66s\n",
      "25:\tlearn: 0.1912581\ttotal: 147ms\tremaining: 5.51s\n",
      "26:\tlearn: 0.1892364\ttotal: 150ms\tremaining: 5.4s\n",
      "27:\tlearn: 0.1875402\ttotal: 154ms\tremaining: 5.35s\n",
      "28:\tlearn: 0.1859307\ttotal: 157ms\tremaining: 5.26s\n",
      "29:\tlearn: 0.1843102\ttotal: 161ms\tremaining: 5.21s\n",
      "30:\tlearn: 0.1828809\ttotal: 167ms\tremaining: 5.21s\n",
      "31:\tlearn: 0.1815308\ttotal: 171ms\tremaining: 5.16s\n",
      "32:\tlearn: 0.1802969\ttotal: 177ms\tremaining: 5.19s\n",
      "33:\tlearn: 0.1791866\ttotal: 179ms\tremaining: 5.09s\n",
      "34:\tlearn: 0.1776146\ttotal: 181ms\tremaining: 5s\n",
      "35:\tlearn: 0.1762347\ttotal: 183ms\tremaining: 4.91s\n",
      "36:\tlearn: 0.1752426\ttotal: 186ms\tremaining: 4.83s\n",
      "37:\tlearn: 0.1740015\ttotal: 188ms\tremaining: 4.75s\n",
      "38:\tlearn: 0.1727020\ttotal: 190ms\tremaining: 4.68s\n",
      "39:\tlearn: 0.1716316\ttotal: 192ms\tremaining: 4.61s\n",
      "40:\tlearn: 0.1708646\ttotal: 195ms\tremaining: 4.55s\n",
      "41:\tlearn: 0.1700245\ttotal: 197ms\tremaining: 4.48s\n",
      "42:\tlearn: 0.1692427\ttotal: 199ms\tremaining: 4.42s\n",
      "43:\tlearn: 0.1685891\ttotal: 201ms\tremaining: 4.36s\n",
      "44:\tlearn: 0.1678645\ttotal: 203ms\tremaining: 4.31s\n",
      "45:\tlearn: 0.1672743\ttotal: 206ms\tremaining: 4.27s\n",
      "46:\tlearn: 0.1666856\ttotal: 210ms\tremaining: 4.25s\n",
      "47:\tlearn: 0.1659618\ttotal: 213ms\tremaining: 4.22s\n",
      "48:\tlearn: 0.1650190\ttotal: 215ms\tremaining: 4.17s\n",
      "49:\tlearn: 0.1641019\ttotal: 217ms\tremaining: 4.13s\n",
      "50:\tlearn: 0.1635931\ttotal: 219ms\tremaining: 4.08s\n",
      "51:\tlearn: 0.1630877\ttotal: 222ms\tremaining: 4.04s\n",
      "52:\tlearn: 0.1627225\ttotal: 224ms\tremaining: 4s\n",
      "53:\tlearn: 0.1620904\ttotal: 226ms\tremaining: 3.95s\n",
      "54:\tlearn: 0.1615340\ttotal: 229ms\tremaining: 3.93s\n",
      "55:\tlearn: 0.1611039\ttotal: 232ms\tremaining: 3.91s\n",
      "56:\tlearn: 0.1605822\ttotal: 237ms\tremaining: 3.92s\n",
      "57:\tlearn: 0.1599649\ttotal: 241ms\tremaining: 3.91s\n",
      "58:\tlearn: 0.1594125\ttotal: 246ms\tremaining: 3.92s\n",
      "59:\tlearn: 0.1590399\ttotal: 249ms\tremaining: 3.9s\n",
      "60:\tlearn: 0.1586185\ttotal: 253ms\tremaining: 3.9s\n",
      "61:\tlearn: 0.1582903\ttotal: 256ms\tremaining: 3.87s\n",
      "62:\tlearn: 0.1576113\ttotal: 260ms\tremaining: 3.87s\n",
      "63:\tlearn: 0.1571630\ttotal: 263ms\tremaining: 3.84s\n",
      "64:\tlearn: 0.1567608\ttotal: 265ms\tremaining: 3.81s\n",
      "65:\tlearn: 0.1563198\ttotal: 267ms\tremaining: 3.78s\n",
      "66:\tlearn: 0.1559730\ttotal: 270ms\tremaining: 3.75s\n",
      "67:\tlearn: 0.1556838\ttotal: 272ms\tremaining: 3.72s\n",
      "68:\tlearn: 0.1552941\ttotal: 274ms\tremaining: 3.69s\n",
      "69:\tlearn: 0.1549516\ttotal: 277ms\tremaining: 3.68s\n",
      "70:\tlearn: 0.1546414\ttotal: 281ms\tremaining: 3.68s\n",
      "71:\tlearn: 0.1542544\ttotal: 284ms\tremaining: 3.67s\n",
      "72:\tlearn: 0.1539469\ttotal: 287ms\tremaining: 3.64s\n",
      "73:\tlearn: 0.1536326\ttotal: 294ms\tremaining: 3.67s\n",
      "74:\tlearn: 0.1531550\ttotal: 299ms\tremaining: 3.68s\n",
      "75:\tlearn: 0.1528008\ttotal: 303ms\tremaining: 3.68s\n",
      "76:\tlearn: 0.1525708\ttotal: 305ms\tremaining: 3.65s\n",
      "77:\tlearn: 0.1519409\ttotal: 307ms\tremaining: 3.63s\n",
      "78:\tlearn: 0.1515873\ttotal: 309ms\tremaining: 3.6s\n",
      "79:\tlearn: 0.1513914\ttotal: 311ms\tremaining: 3.57s\n",
      "80:\tlearn: 0.1510865\ttotal: 313ms\tremaining: 3.55s\n",
      "81:\tlearn: 0.1508200\ttotal: 315ms\tremaining: 3.52s\n",
      "82:\tlearn: 0.1505034\ttotal: 317ms\tremaining: 3.5s\n",
      "83:\tlearn: 0.1500618\ttotal: 319ms\tremaining: 3.48s\n",
      "84:\tlearn: 0.1496571\ttotal: 321ms\tremaining: 3.46s\n",
      "85:\tlearn: 0.1493585\ttotal: 323ms\tremaining: 3.44s\n",
      "86:\tlearn: 0.1491160\ttotal: 325ms\tremaining: 3.42s\n",
      "87:\tlearn: 0.1488836\ttotal: 328ms\tremaining: 3.39s\n",
      "88:\tlearn: 0.1487363\ttotal: 330ms\tremaining: 3.38s\n",
      "89:\tlearn: 0.1484798\ttotal: 333ms\tremaining: 3.37s\n",
      "90:\tlearn: 0.1482370\ttotal: 339ms\tremaining: 3.38s\n",
      "91:\tlearn: 0.1479693\ttotal: 341ms\tremaining: 3.37s\n",
      "92:\tlearn: 0.1477307\ttotal: 344ms\tremaining: 3.35s\n",
      "93:\tlearn: 0.1474676\ttotal: 346ms\tremaining: 3.33s\n",
      "94:\tlearn: 0.1471377\ttotal: 348ms\tremaining: 3.31s\n",
      "95:\tlearn: 0.1469080\ttotal: 350ms\tremaining: 3.29s\n",
      "96:\tlearn: 0.1467500\ttotal: 352ms\tremaining: 3.27s\n",
      "97:\tlearn: 0.1465400\ttotal: 354ms\tremaining: 3.25s\n",
      "98:\tlearn: 0.1463887\ttotal: 356ms\tremaining: 3.24s\n",
      "99:\tlearn: 0.1459593\ttotal: 359ms\tremaining: 3.23s\n",
      "100:\tlearn: 0.1456329\ttotal: 363ms\tremaining: 3.23s\n",
      "101:\tlearn: 0.1453988\ttotal: 365ms\tremaining: 3.21s\n",
      "102:\tlearn: 0.1450988\ttotal: 367ms\tremaining: 3.19s\n",
      "103:\tlearn: 0.1448880\ttotal: 369ms\tremaining: 3.18s\n",
      "104:\tlearn: 0.1444425\ttotal: 371ms\tremaining: 3.16s\n",
      "105:\tlearn: 0.1442538\ttotal: 373ms\tremaining: 3.15s\n",
      "106:\tlearn: 0.1441335\ttotal: 375ms\tremaining: 3.13s\n",
      "107:\tlearn: 0.1438959\ttotal: 379ms\tremaining: 3.13s\n",
      "108:\tlearn: 0.1435717\ttotal: 383ms\tremaining: 3.13s\n",
      "109:\tlearn: 0.1434179\ttotal: 387ms\tremaining: 3.13s\n",
      "110:\tlearn: 0.1431638\ttotal: 394ms\tremaining: 3.15s\n",
      "111:\tlearn: 0.1429823\ttotal: 397ms\tremaining: 3.15s\n",
      "112:\tlearn: 0.1427516\ttotal: 404ms\tremaining: 3.17s\n",
      "113:\tlearn: 0.1426015\ttotal: 406ms\tremaining: 3.15s\n",
      "114:\tlearn: 0.1423787\ttotal: 408ms\tremaining: 3.14s\n",
      "115:\tlearn: 0.1421199\ttotal: 410ms\tremaining: 3.13s\n",
      "116:\tlearn: 0.1419066\ttotal: 412ms\tremaining: 3.11s\n",
      "117:\tlearn: 0.1417557\ttotal: 414ms\tremaining: 3.1s\n",
      "118:\tlearn: 0.1416383\ttotal: 417ms\tremaining: 3.08s\n",
      "119:\tlearn: 0.1415157\ttotal: 419ms\tremaining: 3.07s\n",
      "120:\tlearn: 0.1412918\ttotal: 421ms\tremaining: 3.06s\n",
      "121:\tlearn: 0.1410747\ttotal: 423ms\tremaining: 3.04s\n",
      "122:\tlearn: 0.1408889\ttotal: 425ms\tremaining: 3.03s\n",
      "123:\tlearn: 0.1407004\ttotal: 427ms\tremaining: 3.02s\n",
      "124:\tlearn: 0.1404646\ttotal: 429ms\tremaining: 3.01s\n",
      "125:\tlearn: 0.1402657\ttotal: 433ms\tremaining: 3s\n",
      "126:\tlearn: 0.1401210\ttotal: 436ms\tremaining: 3s\n",
      "127:\tlearn: 0.1400164\ttotal: 439ms\tremaining: 2.99s\n",
      "128:\tlearn: 0.1398311\ttotal: 444ms\tremaining: 3s\n",
      "129:\tlearn: 0.1396974\ttotal: 447ms\tremaining: 2.99s\n",
      "130:\tlearn: 0.1395582\ttotal: 450ms\tremaining: 2.99s\n",
      "131:\tlearn: 0.1393311\ttotal: 453ms\tremaining: 2.98s\n",
      "132:\tlearn: 0.1392387\ttotal: 456ms\tremaining: 2.97s\n",
      "133:\tlearn: 0.1390577\ttotal: 458ms\tremaining: 2.96s\n",
      "134:\tlearn: 0.1388365\ttotal: 462ms\tremaining: 2.96s\n",
      "135:\tlearn: 0.1386402\ttotal: 465ms\tremaining: 2.95s\n",
      "136:\tlearn: 0.1384852\ttotal: 468ms\tremaining: 2.95s\n",
      "137:\tlearn: 0.1383393\ttotal: 471ms\tremaining: 2.94s\n",
      "138:\tlearn: 0.1381880\ttotal: 474ms\tremaining: 2.93s\n",
      "139:\tlearn: 0.1380421\ttotal: 476ms\tremaining: 2.92s\n",
      "140:\tlearn: 0.1378611\ttotal: 478ms\tremaining: 2.91s\n",
      "141:\tlearn: 0.1377176\ttotal: 480ms\tremaining: 2.9s\n",
      "142:\tlearn: 0.1375081\ttotal: 482ms\tremaining: 2.89s\n",
      "143:\tlearn: 0.1373492\ttotal: 485ms\tremaining: 2.88s\n",
      "144:\tlearn: 0.1371037\ttotal: 488ms\tremaining: 2.87s\n",
      "145:\tlearn: 0.1369003\ttotal: 491ms\tremaining: 2.87s\n",
      "146:\tlearn: 0.1367530\ttotal: 498ms\tremaining: 2.89s\n",
      "147:\tlearn: 0.1366023\ttotal: 503ms\tremaining: 2.89s\n",
      "148:\tlearn: 0.1365421\ttotal: 505ms\tremaining: 2.88s\n",
      "149:\tlearn: 0.1364457\ttotal: 507ms\tremaining: 2.87s\n",
      "150:\tlearn: 0.1362263\ttotal: 509ms\tremaining: 2.86s\n",
      "151:\tlearn: 0.1360815\ttotal: 512ms\tremaining: 2.85s\n",
      "152:\tlearn: 0.1359034\ttotal: 514ms\tremaining: 2.84s\n",
      "153:\tlearn: 0.1357813\ttotal: 516ms\tremaining: 2.83s\n",
      "154:\tlearn: 0.1356284\ttotal: 518ms\tremaining: 2.82s\n",
      "155:\tlearn: 0.1355002\ttotal: 520ms\tremaining: 2.81s\n",
      "156:\tlearn: 0.1353215\ttotal: 523ms\tremaining: 2.81s\n",
      "157:\tlearn: 0.1351861\ttotal: 528ms\tremaining: 2.81s\n",
      "158:\tlearn: 0.1350023\ttotal: 533ms\tremaining: 2.82s\n",
      "159:\tlearn: 0.1348717\ttotal: 538ms\tremaining: 2.83s\n",
      "160:\tlearn: 0.1347292\ttotal: 541ms\tremaining: 2.82s\n",
      "161:\tlearn: 0.1345894\ttotal: 548ms\tremaining: 2.83s\n",
      "162:\tlearn: 0.1344205\ttotal: 551ms\tremaining: 2.83s\n",
      "163:\tlearn: 0.1342955\ttotal: 553ms\tremaining: 2.82s\n",
      "164:\tlearn: 0.1341712\ttotal: 556ms\tremaining: 2.81s\n",
      "165:\tlearn: 0.1339470\ttotal: 558ms\tremaining: 2.8s\n",
      "166:\tlearn: 0.1338450\ttotal: 560ms\tremaining: 2.79s\n",
      "167:\tlearn: 0.1337153\ttotal: 562ms\tremaining: 2.78s\n",
      "168:\tlearn: 0.1335679\ttotal: 564ms\tremaining: 2.77s\n",
      "169:\tlearn: 0.1334248\ttotal: 566ms\tremaining: 2.76s\n",
      "170:\tlearn: 0.1332647\ttotal: 568ms\tremaining: 2.75s\n",
      "171:\tlearn: 0.1331580\ttotal: 571ms\tremaining: 2.75s\n",
      "172:\tlearn: 0.1330664\ttotal: 573ms\tremaining: 2.74s\n",
      "173:\tlearn: 0.1329719\ttotal: 575ms\tremaining: 2.73s\n",
      "174:\tlearn: 0.1328390\ttotal: 577ms\tremaining: 2.72s\n",
      "175:\tlearn: 0.1327478\ttotal: 579ms\tremaining: 2.71s\n",
      "176:\tlearn: 0.1326059\ttotal: 581ms\tremaining: 2.7s\n",
      "177:\tlearn: 0.1324454\ttotal: 596ms\tremaining: 2.75s\n",
      "178:\tlearn: 0.1322781\ttotal: 599ms\tremaining: 2.75s\n",
      "179:\tlearn: 0.1321336\ttotal: 602ms\tremaining: 2.74s\n",
      "180:\tlearn: 0.1320066\ttotal: 604ms\tremaining: 2.73s\n",
      "181:\tlearn: 0.1318819\ttotal: 606ms\tremaining: 2.72s\n",
      "182:\tlearn: 0.1317687\ttotal: 608ms\tremaining: 2.71s\n",
      "183:\tlearn: 0.1316088\ttotal: 610ms\tremaining: 2.71s\n",
      "184:\tlearn: 0.1313767\ttotal: 612ms\tremaining: 2.7s\n",
      "185:\tlearn: 0.1312516\ttotal: 614ms\tremaining: 2.69s\n",
      "186:\tlearn: 0.1311575\ttotal: 617ms\tremaining: 2.68s\n",
      "187:\tlearn: 0.1310585\ttotal: 619ms\tremaining: 2.67s\n",
      "188:\tlearn: 0.1309077\ttotal: 621ms\tremaining: 2.66s\n",
      "189:\tlearn: 0.1307880\ttotal: 623ms\tremaining: 2.65s\n",
      "190:\tlearn: 0.1306712\ttotal: 625ms\tremaining: 2.65s\n",
      "191:\tlearn: 0.1305626\ttotal: 627ms\tremaining: 2.64s\n",
      "192:\tlearn: 0.1304460\ttotal: 629ms\tremaining: 2.63s\n",
      "193:\tlearn: 0.1303616\ttotal: 632ms\tremaining: 2.62s\n",
      "194:\tlearn: 0.1302137\ttotal: 634ms\tremaining: 2.62s\n",
      "195:\tlearn: 0.1301175\ttotal: 636ms\tremaining: 2.61s\n",
      "196:\tlearn: 0.1300109\ttotal: 638ms\tremaining: 2.6s\n",
      "197:\tlearn: 0.1298786\ttotal: 640ms\tremaining: 2.59s\n",
      "198:\tlearn: 0.1297851\ttotal: 650ms\tremaining: 2.62s\n",
      "199:\tlearn: 0.1296719\ttotal: 654ms\tremaining: 2.62s\n",
      "200:\tlearn: 0.1295468\ttotal: 656ms\tremaining: 2.61s\n",
      "201:\tlearn: 0.1293251\ttotal: 659ms\tremaining: 2.6s\n",
      "202:\tlearn: 0.1292413\ttotal: 661ms\tremaining: 2.59s\n",
      "203:\tlearn: 0.1291536\ttotal: 663ms\tremaining: 2.59s\n",
      "204:\tlearn: 0.1290574\ttotal: 665ms\tremaining: 2.58s\n",
      "205:\tlearn: 0.1288688\ttotal: 667ms\tremaining: 2.57s\n",
      "206:\tlearn: 0.1287596\ttotal: 669ms\tremaining: 2.56s\n",
      "207:\tlearn: 0.1285899\ttotal: 671ms\tremaining: 2.56s\n",
      "208:\tlearn: 0.1284924\ttotal: 674ms\tremaining: 2.55s\n",
      "209:\tlearn: 0.1283375\ttotal: 676ms\tremaining: 2.54s\n",
      "210:\tlearn: 0.1281429\ttotal: 678ms\tremaining: 2.53s\n",
      "211:\tlearn: 0.1280253\ttotal: 680ms\tremaining: 2.53s\n",
      "212:\tlearn: 0.1279371\ttotal: 682ms\tremaining: 2.52s\n",
      "213:\tlearn: 0.1277900\ttotal: 684ms\tremaining: 2.51s\n",
      "214:\tlearn: 0.1277208\ttotal: 686ms\tremaining: 2.51s\n",
      "215:\tlearn: 0.1276244\ttotal: 689ms\tremaining: 2.5s\n",
      "216:\tlearn: 0.1275073\ttotal: 691ms\tremaining: 2.49s\n",
      "217:\tlearn: 0.1274331\ttotal: 693ms\tremaining: 2.48s\n",
      "218:\tlearn: 0.1273043\ttotal: 695ms\tremaining: 2.48s\n",
      "219:\tlearn: 0.1272153\ttotal: 701ms\tremaining: 2.48s\n",
      "220:\tlearn: 0.1270900\ttotal: 709ms\tremaining: 2.5s\n",
      "221:\tlearn: 0.1269488\ttotal: 714ms\tremaining: 2.5s\n",
      "222:\tlearn: 0.1268431\ttotal: 716ms\tremaining: 2.5s\n",
      "223:\tlearn: 0.1267913\ttotal: 721ms\tremaining: 2.5s\n",
      "224:\tlearn: 0.1267049\ttotal: 726ms\tremaining: 2.5s\n",
      "225:\tlearn: 0.1265346\ttotal: 729ms\tremaining: 2.5s\n",
      "226:\tlearn: 0.1264105\ttotal: 736ms\tremaining: 2.51s\n",
      "227:\tlearn: 0.1262619\ttotal: 744ms\tremaining: 2.52s\n",
      "228:\tlearn: 0.1261660\ttotal: 747ms\tremaining: 2.51s\n",
      "229:\tlearn: 0.1260755\ttotal: 750ms\tremaining: 2.51s\n",
      "230:\tlearn: 0.1259960\ttotal: 754ms\tremaining: 2.51s\n",
      "231:\tlearn: 0.1259215\ttotal: 756ms\tremaining: 2.5s\n",
      "232:\tlearn: 0.1258305\ttotal: 760ms\tremaining: 2.5s\n",
      "233:\tlearn: 0.1257645\ttotal: 764ms\tremaining: 2.5s\n",
      "234:\tlearn: 0.1256766\ttotal: 768ms\tremaining: 2.5s\n",
      "235:\tlearn: 0.1255887\ttotal: 771ms\tremaining: 2.5s\n",
      "236:\tlearn: 0.1255212\ttotal: 773ms\tremaining: 2.49s\n",
      "237:\tlearn: 0.1254456\ttotal: 775ms\tremaining: 2.48s\n",
      "238:\tlearn: 0.1253664\ttotal: 777ms\tremaining: 2.47s\n",
      "239:\tlearn: 0.1252680\ttotal: 779ms\tremaining: 2.47s\n",
      "240:\tlearn: 0.1251295\ttotal: 782ms\tremaining: 2.46s\n",
      "241:\tlearn: 0.1250451\ttotal: 784ms\tremaining: 2.45s\n",
      "242:\tlearn: 0.1248975\ttotal: 786ms\tremaining: 2.45s\n",
      "243:\tlearn: 0.1248184\ttotal: 788ms\tremaining: 2.44s\n",
      "244:\tlearn: 0.1246963\ttotal: 790ms\tremaining: 2.43s\n",
      "245:\tlearn: 0.1246448\ttotal: 792ms\tremaining: 2.43s\n",
      "246:\tlearn: 0.1245520\ttotal: 794ms\tremaining: 2.42s\n",
      "247:\tlearn: 0.1244154\ttotal: 796ms\tremaining: 2.41s\n",
      "248:\tlearn: 0.1243392\ttotal: 798ms\tremaining: 2.41s\n",
      "249:\tlearn: 0.1242569\ttotal: 800ms\tremaining: 2.4s\n",
      "250:\tlearn: 0.1241756\ttotal: 803ms\tremaining: 2.4s\n",
      "251:\tlearn: 0.1241296\ttotal: 805ms\tremaining: 2.39s\n",
      "252:\tlearn: 0.1240263\ttotal: 807ms\tremaining: 2.38s\n",
      "253:\tlearn: 0.1239467\ttotal: 809ms\tremaining: 2.38s\n",
      "254:\tlearn: 0.1238725\ttotal: 811ms\tremaining: 2.37s\n",
      "255:\tlearn: 0.1237904\ttotal: 813ms\tremaining: 2.36s\n",
      "256:\tlearn: 0.1237026\ttotal: 815ms\tremaining: 2.36s\n",
      "257:\tlearn: 0.1236372\ttotal: 818ms\tremaining: 2.35s\n",
      "258:\tlearn: 0.1234756\ttotal: 820ms\tremaining: 2.35s\n",
      "259:\tlearn: 0.1233175\ttotal: 822ms\tremaining: 2.34s\n",
      "260:\tlearn: 0.1232573\ttotal: 824ms\tremaining: 2.33s\n",
      "261:\tlearn: 0.1231568\ttotal: 826ms\tremaining: 2.33s\n",
      "262:\tlearn: 0.1230663\ttotal: 828ms\tremaining: 2.32s\n",
      "263:\tlearn: 0.1230159\ttotal: 830ms\tremaining: 2.31s\n",
      "264:\tlearn: 0.1229674\ttotal: 833ms\tremaining: 2.31s\n",
      "265:\tlearn: 0.1228986\ttotal: 835ms\tremaining: 2.3s\n",
      "266:\tlearn: 0.1227738\ttotal: 837ms\tremaining: 2.3s\n",
      "267:\tlearn: 0.1226743\ttotal: 839ms\tremaining: 2.29s\n",
      "268:\tlearn: 0.1225370\ttotal: 841ms\tremaining: 2.29s\n",
      "269:\tlearn: 0.1224848\ttotal: 843ms\tremaining: 2.28s\n",
      "270:\tlearn: 0.1223583\ttotal: 845ms\tremaining: 2.27s\n",
      "271:\tlearn: 0.1223195\ttotal: 847ms\tremaining: 2.27s\n",
      "272:\tlearn: 0.1222278\ttotal: 852ms\tremaining: 2.27s\n",
      "273:\tlearn: 0.1221487\ttotal: 855ms\tremaining: 2.27s\n",
      "274:\tlearn: 0.1220729\ttotal: 858ms\tremaining: 2.26s\n",
      "275:\tlearn: 0.1219683\ttotal: 861ms\tremaining: 2.26s\n",
      "276:\tlearn: 0.1219267\ttotal: 864ms\tremaining: 2.25s\n",
      "277:\tlearn: 0.1218157\ttotal: 867ms\tremaining: 2.25s\n",
      "278:\tlearn: 0.1217409\ttotal: 871ms\tremaining: 2.25s\n",
      "279:\tlearn: 0.1216368\ttotal: 874ms\tremaining: 2.25s\n",
      "280:\tlearn: 0.1215619\ttotal: 876ms\tremaining: 2.24s\n",
      "281:\tlearn: 0.1214341\ttotal: 878ms\tremaining: 2.23s\n",
      "282:\tlearn: 0.1213600\ttotal: 880ms\tremaining: 2.23s\n",
      "283:\tlearn: 0.1212767\ttotal: 882ms\tremaining: 2.22s\n",
      "284:\tlearn: 0.1212099\ttotal: 884ms\tremaining: 2.22s\n",
      "285:\tlearn: 0.1211597\ttotal: 887ms\tremaining: 2.21s\n",
      "286:\tlearn: 0.1211131\ttotal: 889ms\tremaining: 2.21s\n",
      "287:\tlearn: 0.1210033\ttotal: 891ms\tremaining: 2.2s\n",
      "288:\tlearn: 0.1209181\ttotal: 893ms\tremaining: 2.2s\n",
      "289:\tlearn: 0.1208664\ttotal: 895ms\tremaining: 2.19s\n",
      "290:\tlearn: 0.1207686\ttotal: 897ms\tremaining: 2.19s\n",
      "291:\tlearn: 0.1207041\ttotal: 899ms\tremaining: 2.18s\n",
      "292:\tlearn: 0.1206301\ttotal: 901ms\tremaining: 2.17s\n",
      "293:\tlearn: 0.1204594\ttotal: 903ms\tremaining: 2.17s\n",
      "294:\tlearn: 0.1203840\ttotal: 906ms\tremaining: 2.16s\n",
      "295:\tlearn: 0.1202136\ttotal: 908ms\tremaining: 2.16s\n",
      "296:\tlearn: 0.1201453\ttotal: 910ms\tremaining: 2.15s\n",
      "297:\tlearn: 0.1200331\ttotal: 912ms\tremaining: 2.15s\n",
      "298:\tlearn: 0.1199045\ttotal: 914ms\tremaining: 2.14s\n",
      "299:\tlearn: 0.1198581\ttotal: 916ms\tremaining: 2.14s\n",
      "300:\tlearn: 0.1197806\ttotal: 919ms\tremaining: 2.13s\n",
      "301:\tlearn: 0.1197257\ttotal: 924ms\tremaining: 2.13s\n",
      "302:\tlearn: 0.1196750\ttotal: 928ms\tremaining: 2.13s\n",
      "303:\tlearn: 0.1195853\ttotal: 933ms\tremaining: 2.13s\n",
      "304:\tlearn: 0.1195157\ttotal: 937ms\tremaining: 2.13s\n",
      "305:\tlearn: 0.1194120\ttotal: 940ms\tremaining: 2.13s\n",
      "306:\tlearn: 0.1193482\ttotal: 943ms\tremaining: 2.13s\n",
      "307:\tlearn: 0.1192750\ttotal: 947ms\tremaining: 2.13s\n",
      "308:\tlearn: 0.1191705\ttotal: 952ms\tremaining: 2.13s\n",
      "309:\tlearn: 0.1190214\ttotal: 956ms\tremaining: 2.13s\n",
      "310:\tlearn: 0.1189309\ttotal: 962ms\tremaining: 2.13s\n",
      "311:\tlearn: 0.1188468\ttotal: 964ms\tremaining: 2.13s\n",
      "312:\tlearn: 0.1187703\ttotal: 966ms\tremaining: 2.12s\n",
      "313:\tlearn: 0.1187122\ttotal: 969ms\tremaining: 2.12s\n",
      "314:\tlearn: 0.1186454\ttotal: 971ms\tremaining: 2.11s\n",
      "315:\tlearn: 0.1185573\ttotal: 973ms\tremaining: 2.11s\n",
      "316:\tlearn: 0.1185045\ttotal: 976ms\tremaining: 2.1s\n",
      "317:\tlearn: 0.1184188\ttotal: 982ms\tremaining: 2.1s\n",
      "318:\tlearn: 0.1182572\ttotal: 985ms\tremaining: 2.1s\n",
      "319:\tlearn: 0.1181571\ttotal: 988ms\tremaining: 2.1s\n",
      "320:\tlearn: 0.1180977\ttotal: 995ms\tremaining: 2.1s\n",
      "321:\tlearn: 0.1180083\ttotal: 999ms\tremaining: 2.1s\n",
      "322:\tlearn: 0.1179024\ttotal: 1s\tremaining: 2.1s\n",
      "323:\tlearn: 0.1178499\ttotal: 1s\tremaining: 2.1s\n",
      "324:\tlearn: 0.1177935\ttotal: 1.01s\tremaining: 2.09s\n",
      "325:\tlearn: 0.1177164\ttotal: 1.01s\tremaining: 2.09s\n",
      "326:\tlearn: 0.1176624\ttotal: 1.01s\tremaining: 2.08s\n",
      "327:\tlearn: 0.1175937\ttotal: 1.01s\tremaining: 2.08s\n",
      "328:\tlearn: 0.1174985\ttotal: 1.01s\tremaining: 2.07s\n",
      "329:\tlearn: 0.1174460\ttotal: 1.02s\tremaining: 2.07s\n",
      "330:\tlearn: 0.1173584\ttotal: 1.02s\tremaining: 2.06s\n",
      "331:\tlearn: 0.1172848\ttotal: 1.02s\tremaining: 2.06s\n",
      "332:\tlearn: 0.1172249\ttotal: 1.02s\tremaining: 2.05s\n",
      "333:\tlearn: 0.1171609\ttotal: 1.03s\tremaining: 2.05s\n",
      "334:\tlearn: 0.1170980\ttotal: 1.03s\tremaining: 2.04s\n",
      "335:\tlearn: 0.1170245\ttotal: 1.03s\tremaining: 2.04s\n",
      "336:\tlearn: 0.1169574\ttotal: 1.04s\tremaining: 2.04s\n",
      "337:\tlearn: 0.1168762\ttotal: 1.05s\tremaining: 2.05s\n",
      "338:\tlearn: 0.1168258\ttotal: 1.05s\tremaining: 2.05s\n",
      "339:\tlearn: 0.1167734\ttotal: 1.06s\tremaining: 2.05s\n",
      "340:\tlearn: 0.1166785\ttotal: 1.06s\tremaining: 2.05s\n",
      "341:\tlearn: 0.1166103\ttotal: 1.06s\tremaining: 2.04s\n",
      "342:\tlearn: 0.1165556\ttotal: 1.06s\tremaining: 2.04s\n",
      "343:\tlearn: 0.1165030\ttotal: 1.07s\tremaining: 2.03s\n",
      "344:\tlearn: 0.1164379\ttotal: 1.07s\tremaining: 2.03s\n",
      "345:\tlearn: 0.1163708\ttotal: 1.07s\tremaining: 2.02s\n",
      "346:\tlearn: 0.1163130\ttotal: 1.07s\tremaining: 2.02s\n",
      "347:\tlearn: 0.1162109\ttotal: 1.07s\tremaining: 2.01s\n",
      "348:\tlearn: 0.1161438\ttotal: 1.08s\tremaining: 2.01s\n",
      "349:\tlearn: 0.1160010\ttotal: 1.08s\tremaining: 2s\n",
      "350:\tlearn: 0.1159435\ttotal: 1.08s\tremaining: 2s\n",
      "351:\tlearn: 0.1158866\ttotal: 1.09s\tremaining: 2s\n",
      "352:\tlearn: 0.1158228\ttotal: 1.09s\tremaining: 2s\n",
      "353:\tlearn: 0.1157805\ttotal: 1.1s\tremaining: 2s\n",
      "354:\tlearn: 0.1156966\ttotal: 1.1s\tremaining: 2s\n",
      "355:\tlearn: 0.1156016\ttotal: 1.11s\tremaining: 2s\n",
      "356:\tlearn: 0.1155630\ttotal: 1.11s\tremaining: 2s\n",
      "357:\tlearn: 0.1154210\ttotal: 1.11s\tremaining: 2s\n",
      "358:\tlearn: 0.1152915\ttotal: 1.11s\tremaining: 1.99s\n",
      "359:\tlearn: 0.1151964\ttotal: 1.12s\tremaining: 1.99s\n",
      "360:\tlearn: 0.1151495\ttotal: 1.12s\tremaining: 1.98s\n",
      "361:\tlearn: 0.1150829\ttotal: 1.12s\tremaining: 1.98s\n",
      "362:\tlearn: 0.1150147\ttotal: 1.12s\tremaining: 1.97s\n",
      "363:\tlearn: 0.1149315\ttotal: 1.13s\tremaining: 1.97s\n",
      "364:\tlearn: 0.1148596\ttotal: 1.13s\tremaining: 1.96s\n",
      "365:\tlearn: 0.1148000\ttotal: 1.13s\tremaining: 1.96s\n",
      "366:\tlearn: 0.1147209\ttotal: 1.13s\tremaining: 1.96s\n",
      "367:\tlearn: 0.1146924\ttotal: 1.14s\tremaining: 1.95s\n",
      "368:\tlearn: 0.1146425\ttotal: 1.14s\tremaining: 1.95s\n",
      "369:\tlearn: 0.1145825\ttotal: 1.14s\tremaining: 1.94s\n",
      "370:\tlearn: 0.1145439\ttotal: 1.14s\tremaining: 1.94s\n",
      "371:\tlearn: 0.1144800\ttotal: 1.15s\tremaining: 1.93s\n",
      "372:\tlearn: 0.1144098\ttotal: 1.15s\tremaining: 1.93s\n",
      "373:\tlearn: 0.1143621\ttotal: 1.15s\tremaining: 1.93s\n",
      "374:\tlearn: 0.1143258\ttotal: 1.15s\tremaining: 1.92s\n",
      "375:\tlearn: 0.1142867\ttotal: 1.16s\tremaining: 1.92s\n",
      "376:\tlearn: 0.1142462\ttotal: 1.16s\tremaining: 1.91s\n",
      "377:\tlearn: 0.1141568\ttotal: 1.16s\tremaining: 1.91s\n",
      "378:\tlearn: 0.1140890\ttotal: 1.16s\tremaining: 1.9s\n",
      "379:\tlearn: 0.1140253\ttotal: 1.16s\tremaining: 1.9s\n",
      "380:\tlearn: 0.1139594\ttotal: 1.17s\tremaining: 1.89s\n",
      "381:\tlearn: 0.1139044\ttotal: 1.17s\tremaining: 1.89s\n",
      "382:\tlearn: 0.1138448\ttotal: 1.17s\tremaining: 1.89s\n",
      "383:\tlearn: 0.1137682\ttotal: 1.17s\tremaining: 1.88s\n",
      "384:\tlearn: 0.1136970\ttotal: 1.18s\tremaining: 1.88s\n",
      "385:\tlearn: 0.1136352\ttotal: 1.18s\tremaining: 1.87s\n",
      "386:\tlearn: 0.1135903\ttotal: 1.18s\tremaining: 1.87s\n",
      "387:\tlearn: 0.1135456\ttotal: 1.18s\tremaining: 1.87s\n",
      "388:\tlearn: 0.1135005\ttotal: 1.19s\tremaining: 1.87s\n",
      "389:\tlearn: 0.1134431\ttotal: 1.2s\tremaining: 1.87s\n",
      "390:\tlearn: 0.1134054\ttotal: 1.2s\tremaining: 1.87s\n",
      "391:\tlearn: 0.1133422\ttotal: 1.2s\tremaining: 1.86s\n",
      "392:\tlearn: 0.1132839\ttotal: 1.21s\tremaining: 1.86s\n",
      "393:\tlearn: 0.1132618\ttotal: 1.21s\tremaining: 1.86s\n",
      "394:\tlearn: 0.1132123\ttotal: 1.21s\tremaining: 1.86s\n",
      "395:\tlearn: 0.1131536\ttotal: 1.21s\tremaining: 1.85s\n",
      "396:\tlearn: 0.1131090\ttotal: 1.22s\tremaining: 1.85s\n",
      "397:\tlearn: 0.1130763\ttotal: 1.22s\tremaining: 1.84s\n",
      "398:\tlearn: 0.1129980\ttotal: 1.22s\tremaining: 1.84s\n",
      "399:\tlearn: 0.1129563\ttotal: 1.22s\tremaining: 1.83s\n",
      "400:\tlearn: 0.1129058\ttotal: 1.23s\tremaining: 1.83s\n",
      "401:\tlearn: 0.1128415\ttotal: 1.23s\tremaining: 1.83s\n",
      "402:\tlearn: 0.1127630\ttotal: 1.23s\tremaining: 1.83s\n",
      "403:\tlearn: 0.1127075\ttotal: 1.24s\tremaining: 1.82s\n",
      "404:\tlearn: 0.1126418\ttotal: 1.24s\tremaining: 1.82s\n",
      "405:\tlearn: 0.1125804\ttotal: 1.24s\tremaining: 1.82s\n",
      "406:\tlearn: 0.1125270\ttotal: 1.25s\tremaining: 1.82s\n",
      "407:\tlearn: 0.1125003\ttotal: 1.25s\tremaining: 1.81s\n",
      "408:\tlearn: 0.1124496\ttotal: 1.25s\tremaining: 1.81s\n",
      "409:\tlearn: 0.1123935\ttotal: 1.26s\tremaining: 1.81s\n",
      "410:\tlearn: 0.1123648\ttotal: 1.26s\tremaining: 1.8s\n",
      "411:\tlearn: 0.1123090\ttotal: 1.26s\tremaining: 1.8s\n",
      "412:\tlearn: 0.1122750\ttotal: 1.26s\tremaining: 1.8s\n",
      "413:\tlearn: 0.1122569\ttotal: 1.27s\tremaining: 1.79s\n",
      "414:\tlearn: 0.1121942\ttotal: 1.27s\tremaining: 1.79s\n",
      "415:\tlearn: 0.1121089\ttotal: 1.27s\tremaining: 1.78s\n",
      "416:\tlearn: 0.1120388\ttotal: 1.27s\tremaining: 1.78s\n",
      "417:\tlearn: 0.1120057\ttotal: 1.27s\tremaining: 1.77s\n",
      "418:\tlearn: 0.1119720\ttotal: 1.28s\tremaining: 1.77s\n",
      "419:\tlearn: 0.1119139\ttotal: 1.28s\tremaining: 1.77s\n",
      "420:\tlearn: 0.1118909\ttotal: 1.28s\tremaining: 1.76s\n",
      "421:\tlearn: 0.1118289\ttotal: 1.28s\tremaining: 1.76s\n",
      "422:\tlearn: 0.1117854\ttotal: 1.29s\tremaining: 1.76s\n",
      "423:\tlearn: 0.1117109\ttotal: 1.29s\tremaining: 1.76s\n",
      "424:\tlearn: 0.1116446\ttotal: 1.3s\tremaining: 1.75s\n",
      "425:\tlearn: 0.1115896\ttotal: 1.3s\tremaining: 1.75s\n",
      "426:\tlearn: 0.1115567\ttotal: 1.3s\tremaining: 1.75s\n",
      "427:\tlearn: 0.1115038\ttotal: 1.3s\tremaining: 1.74s\n",
      "428:\tlearn: 0.1114270\ttotal: 1.3s\tremaining: 1.74s\n",
      "429:\tlearn: 0.1112978\ttotal: 1.31s\tremaining: 1.73s\n",
      "430:\tlearn: 0.1112360\ttotal: 1.31s\tremaining: 1.73s\n",
      "431:\tlearn: 0.1111961\ttotal: 1.31s\tremaining: 1.72s\n",
      "432:\tlearn: 0.1111532\ttotal: 1.31s\tremaining: 1.72s\n",
      "433:\tlearn: 0.1111028\ttotal: 1.32s\tremaining: 1.72s\n",
      "434:\tlearn: 0.1110560\ttotal: 1.33s\tremaining: 1.72s\n",
      "435:\tlearn: 0.1110049\ttotal: 1.33s\tremaining: 1.73s\n",
      "436:\tlearn: 0.1109344\ttotal: 1.34s\tremaining: 1.72s\n",
      "437:\tlearn: 0.1108875\ttotal: 1.34s\tremaining: 1.72s\n",
      "438:\tlearn: 0.1108528\ttotal: 1.34s\tremaining: 1.72s\n",
      "439:\tlearn: 0.1108271\ttotal: 1.35s\tremaining: 1.71s\n",
      "440:\tlearn: 0.1107266\ttotal: 1.35s\tremaining: 1.71s\n",
      "441:\tlearn: 0.1106416\ttotal: 1.35s\tremaining: 1.71s\n",
      "442:\tlearn: 0.1105753\ttotal: 1.35s\tremaining: 1.7s\n",
      "443:\tlearn: 0.1105152\ttotal: 1.35s\tremaining: 1.7s\n",
      "444:\tlearn: 0.1104118\ttotal: 1.36s\tremaining: 1.69s\n",
      "445:\tlearn: 0.1103414\ttotal: 1.36s\tremaining: 1.69s\n",
      "446:\tlearn: 0.1102931\ttotal: 1.36s\tremaining: 1.69s\n",
      "447:\tlearn: 0.1102364\ttotal: 1.36s\tremaining: 1.68s\n",
      "448:\tlearn: 0.1101828\ttotal: 1.37s\tremaining: 1.68s\n",
      "449:\tlearn: 0.1101420\ttotal: 1.37s\tremaining: 1.67s\n",
      "450:\tlearn: 0.1100885\ttotal: 1.37s\tremaining: 1.67s\n",
      "451:\tlearn: 0.1100551\ttotal: 1.37s\tremaining: 1.67s\n",
      "452:\tlearn: 0.1100077\ttotal: 1.38s\tremaining: 1.66s\n",
      "453:\tlearn: 0.1099459\ttotal: 1.38s\tremaining: 1.66s\n",
      "454:\tlearn: 0.1098826\ttotal: 1.38s\tremaining: 1.65s\n",
      "455:\tlearn: 0.1098279\ttotal: 1.38s\tremaining: 1.65s\n",
      "456:\tlearn: 0.1097566\ttotal: 1.38s\tremaining: 1.64s\n",
      "457:\tlearn: 0.1097264\ttotal: 1.39s\tremaining: 1.64s\n",
      "458:\tlearn: 0.1097015\ttotal: 1.39s\tremaining: 1.64s\n",
      "459:\tlearn: 0.1096464\ttotal: 1.39s\tremaining: 1.64s\n",
      "460:\tlearn: 0.1095773\ttotal: 1.41s\tremaining: 1.64s\n",
      "461:\tlearn: 0.1095268\ttotal: 1.41s\tremaining: 1.64s\n",
      "462:\tlearn: 0.1094627\ttotal: 1.42s\tremaining: 1.64s\n",
      "463:\tlearn: 0.1094242\ttotal: 1.42s\tremaining: 1.64s\n",
      "464:\tlearn: 0.1093898\ttotal: 1.42s\tremaining: 1.64s\n",
      "465:\tlearn: 0.1093156\ttotal: 1.43s\tremaining: 1.63s\n",
      "466:\tlearn: 0.1092818\ttotal: 1.43s\tremaining: 1.63s\n",
      "467:\tlearn: 0.1092579\ttotal: 1.43s\tremaining: 1.63s\n",
      "468:\tlearn: 0.1092225\ttotal: 1.44s\tremaining: 1.62s\n",
      "469:\tlearn: 0.1091778\ttotal: 1.44s\tremaining: 1.62s\n",
      "470:\tlearn: 0.1091241\ttotal: 1.44s\tremaining: 1.62s\n",
      "471:\tlearn: 0.1090908\ttotal: 1.45s\tremaining: 1.62s\n",
      "472:\tlearn: 0.1090612\ttotal: 1.45s\tremaining: 1.61s\n",
      "473:\tlearn: 0.1089944\ttotal: 1.45s\tremaining: 1.61s\n",
      "474:\tlearn: 0.1088948\ttotal: 1.45s\tremaining: 1.61s\n",
      "475:\tlearn: 0.1088570\ttotal: 1.46s\tremaining: 1.6s\n",
      "476:\tlearn: 0.1088318\ttotal: 1.46s\tremaining: 1.6s\n",
      "477:\tlearn: 0.1087929\ttotal: 1.46s\tremaining: 1.59s\n",
      "478:\tlearn: 0.1087407\ttotal: 1.47s\tremaining: 1.59s\n",
      "479:\tlearn: 0.1086934\ttotal: 1.47s\tremaining: 1.59s\n",
      "480:\tlearn: 0.1086287\ttotal: 1.47s\tremaining: 1.59s\n",
      "481:\tlearn: 0.1085969\ttotal: 1.47s\tremaining: 1.58s\n",
      "482:\tlearn: 0.1085316\ttotal: 1.48s\tremaining: 1.58s\n",
      "483:\tlearn: 0.1084952\ttotal: 1.48s\tremaining: 1.58s\n",
      "484:\tlearn: 0.1084363\ttotal: 1.48s\tremaining: 1.57s\n",
      "485:\tlearn: 0.1084046\ttotal: 1.49s\tremaining: 1.57s\n",
      "486:\tlearn: 0.1083119\ttotal: 1.49s\tremaining: 1.57s\n",
      "487:\tlearn: 0.1082621\ttotal: 1.49s\tremaining: 1.56s\n",
      "488:\tlearn: 0.1082151\ttotal: 1.49s\tremaining: 1.56s\n",
      "489:\tlearn: 0.1081907\ttotal: 1.49s\tremaining: 1.55s\n",
      "490:\tlearn: 0.1081287\ttotal: 1.5s\tremaining: 1.55s\n",
      "491:\tlearn: 0.1080748\ttotal: 1.5s\tremaining: 1.55s\n",
      "492:\tlearn: 0.1080136\ttotal: 1.5s\tremaining: 1.54s\n",
      "493:\tlearn: 0.1079603\ttotal: 1.5s\tremaining: 1.54s\n",
      "494:\tlearn: 0.1079091\ttotal: 1.51s\tremaining: 1.54s\n",
      "495:\tlearn: 0.1078767\ttotal: 1.51s\tremaining: 1.53s\n",
      "496:\tlearn: 0.1078380\ttotal: 1.51s\tremaining: 1.53s\n",
      "497:\tlearn: 0.1078111\ttotal: 1.52s\tremaining: 1.53s\n",
      "498:\tlearn: 0.1077404\ttotal: 1.52s\tremaining: 1.53s\n",
      "499:\tlearn: 0.1077058\ttotal: 1.52s\tremaining: 1.52s\n",
      "500:\tlearn: 0.1076470\ttotal: 1.53s\tremaining: 1.52s\n",
      "501:\tlearn: 0.1075918\ttotal: 1.53s\tremaining: 1.52s\n",
      "502:\tlearn: 0.1075614\ttotal: 1.53s\tremaining: 1.51s\n",
      "503:\tlearn: 0.1075080\ttotal: 1.53s\tremaining: 1.51s\n",
      "504:\tlearn: 0.1074637\ttotal: 1.53s\tremaining: 1.5s\n",
      "505:\tlearn: 0.1074247\ttotal: 1.54s\tremaining: 1.5s\n",
      "506:\tlearn: 0.1073732\ttotal: 1.54s\tremaining: 1.5s\n",
      "507:\tlearn: 0.1073252\ttotal: 1.54s\tremaining: 1.5s\n",
      "508:\tlearn: 0.1072999\ttotal: 1.55s\tremaining: 1.5s\n",
      "509:\tlearn: 0.1072464\ttotal: 1.55s\tremaining: 1.49s\n",
      "510:\tlearn: 0.1072157\ttotal: 1.56s\tremaining: 1.49s\n",
      "511:\tlearn: 0.1071565\ttotal: 1.56s\tremaining: 1.49s\n",
      "512:\tlearn: 0.1071118\ttotal: 1.56s\tremaining: 1.48s\n",
      "513:\tlearn: 0.1070495\ttotal: 1.57s\tremaining: 1.48s\n",
      "514:\tlearn: 0.1069999\ttotal: 1.57s\tremaining: 1.48s\n",
      "515:\tlearn: 0.1069670\ttotal: 1.57s\tremaining: 1.48s\n",
      "516:\tlearn: 0.1069432\ttotal: 1.57s\tremaining: 1.47s\n",
      "517:\tlearn: 0.1069094\ttotal: 1.58s\tremaining: 1.47s\n",
      "518:\tlearn: 0.1068471\ttotal: 1.58s\tremaining: 1.46s\n",
      "519:\tlearn: 0.1067877\ttotal: 1.58s\tremaining: 1.46s\n",
      "520:\tlearn: 0.1067477\ttotal: 1.58s\tremaining: 1.46s\n",
      "521:\tlearn: 0.1067254\ttotal: 1.59s\tremaining: 1.45s\n",
      "522:\tlearn: 0.1066876\ttotal: 1.59s\tremaining: 1.45s\n",
      "523:\tlearn: 0.1065896\ttotal: 1.6s\tremaining: 1.45s\n",
      "524:\tlearn: 0.1065467\ttotal: 1.6s\tremaining: 1.45s\n",
      "525:\tlearn: 0.1065155\ttotal: 1.6s\tremaining: 1.45s\n",
      "526:\tlearn: 0.1064816\ttotal: 1.61s\tremaining: 1.44s\n",
      "527:\tlearn: 0.1064484\ttotal: 1.61s\tremaining: 1.44s\n",
      "528:\tlearn: 0.1064095\ttotal: 1.61s\tremaining: 1.44s\n",
      "529:\tlearn: 0.1063560\ttotal: 1.61s\tremaining: 1.43s\n",
      "530:\tlearn: 0.1063122\ttotal: 1.62s\tremaining: 1.43s\n",
      "531:\tlearn: 0.1062697\ttotal: 1.62s\tremaining: 1.43s\n",
      "532:\tlearn: 0.1062308\ttotal: 1.62s\tremaining: 1.42s\n",
      "533:\tlearn: 0.1061981\ttotal: 1.63s\tremaining: 1.42s\n",
      "534:\tlearn: 0.1061689\ttotal: 1.63s\tremaining: 1.41s\n",
      "535:\tlearn: 0.1061300\ttotal: 1.63s\tremaining: 1.41s\n",
      "536:\tlearn: 0.1061002\ttotal: 1.63s\tremaining: 1.41s\n",
      "537:\tlearn: 0.1060145\ttotal: 1.64s\tremaining: 1.41s\n",
      "538:\tlearn: 0.1059673\ttotal: 1.64s\tremaining: 1.4s\n",
      "539:\tlearn: 0.1059378\ttotal: 1.64s\tremaining: 1.4s\n",
      "540:\tlearn: 0.1059076\ttotal: 1.65s\tremaining: 1.4s\n",
      "541:\tlearn: 0.1058709\ttotal: 1.65s\tremaining: 1.39s\n",
      "542:\tlearn: 0.1058255\ttotal: 1.65s\tremaining: 1.39s\n",
      "543:\tlearn: 0.1057717\ttotal: 1.66s\tremaining: 1.39s\n",
      "544:\tlearn: 0.1057237\ttotal: 1.66s\tremaining: 1.38s\n",
      "545:\tlearn: 0.1056841\ttotal: 1.66s\tremaining: 1.38s\n",
      "546:\tlearn: 0.1056453\ttotal: 1.67s\tremaining: 1.38s\n",
      "547:\tlearn: 0.1056029\ttotal: 1.67s\tremaining: 1.38s\n",
      "548:\tlearn: 0.1055806\ttotal: 1.67s\tremaining: 1.37s\n",
      "549:\tlearn: 0.1055290\ttotal: 1.67s\tremaining: 1.37s\n",
      "550:\tlearn: 0.1055016\ttotal: 1.68s\tremaining: 1.37s\n",
      "551:\tlearn: 0.1054487\ttotal: 1.68s\tremaining: 1.36s\n",
      "552:\tlearn: 0.1053947\ttotal: 1.69s\tremaining: 1.36s\n",
      "553:\tlearn: 0.1053536\ttotal: 1.69s\tremaining: 1.36s\n",
      "554:\tlearn: 0.1053315\ttotal: 1.69s\tremaining: 1.36s\n",
      "555:\tlearn: 0.1053035\ttotal: 1.69s\tremaining: 1.35s\n",
      "556:\tlearn: 0.1052166\ttotal: 1.7s\tremaining: 1.35s\n",
      "557:\tlearn: 0.1051888\ttotal: 1.7s\tremaining: 1.35s\n",
      "558:\tlearn: 0.1051530\ttotal: 1.7s\tremaining: 1.34s\n",
      "559:\tlearn: 0.1051011\ttotal: 1.71s\tremaining: 1.34s\n",
      "560:\tlearn: 0.1050581\ttotal: 1.71s\tremaining: 1.34s\n",
      "561:\tlearn: 0.1050263\ttotal: 1.71s\tremaining: 1.33s\n",
      "562:\tlearn: 0.1049644\ttotal: 1.72s\tremaining: 1.33s\n",
      "563:\tlearn: 0.1049316\ttotal: 1.72s\tremaining: 1.33s\n",
      "564:\tlearn: 0.1049008\ttotal: 1.72s\tremaining: 1.32s\n",
      "565:\tlearn: 0.1048752\ttotal: 1.72s\tremaining: 1.32s\n",
      "566:\tlearn: 0.1048323\ttotal: 1.73s\tremaining: 1.32s\n",
      "567:\tlearn: 0.1047893\ttotal: 1.73s\tremaining: 1.32s\n",
      "568:\tlearn: 0.1047467\ttotal: 1.73s\tremaining: 1.31s\n",
      "569:\tlearn: 0.1046967\ttotal: 1.74s\tremaining: 1.31s\n",
      "570:\tlearn: 0.1046594\ttotal: 1.74s\tremaining: 1.31s\n",
      "571:\tlearn: 0.1046161\ttotal: 1.74s\tremaining: 1.3s\n",
      "572:\tlearn: 0.1045808\ttotal: 1.75s\tremaining: 1.3s\n",
      "573:\tlearn: 0.1045609\ttotal: 1.75s\tremaining: 1.3s\n",
      "574:\tlearn: 0.1045313\ttotal: 1.75s\tremaining: 1.29s\n",
      "575:\tlearn: 0.1044880\ttotal: 1.76s\tremaining: 1.29s\n",
      "576:\tlearn: 0.1044411\ttotal: 1.76s\tremaining: 1.29s\n",
      "577:\tlearn: 0.1044018\ttotal: 1.76s\tremaining: 1.29s\n",
      "578:\tlearn: 0.1043760\ttotal: 1.76s\tremaining: 1.28s\n",
      "579:\tlearn: 0.1043552\ttotal: 1.77s\tremaining: 1.28s\n",
      "580:\tlearn: 0.1043004\ttotal: 1.77s\tremaining: 1.27s\n",
      "581:\tlearn: 0.1042444\ttotal: 1.77s\tremaining: 1.27s\n",
      "582:\tlearn: 0.1042188\ttotal: 1.77s\tremaining: 1.27s\n",
      "583:\tlearn: 0.1041845\ttotal: 1.78s\tremaining: 1.27s\n",
      "584:\tlearn: 0.1041488\ttotal: 1.78s\tremaining: 1.26s\n",
      "585:\tlearn: 0.1041321\ttotal: 1.78s\tremaining: 1.26s\n",
      "586:\tlearn: 0.1040918\ttotal: 1.78s\tremaining: 1.26s\n",
      "587:\tlearn: 0.1040568\ttotal: 1.79s\tremaining: 1.25s\n",
      "588:\tlearn: 0.1040170\ttotal: 1.79s\tremaining: 1.25s\n",
      "589:\tlearn: 0.1039895\ttotal: 1.79s\tremaining: 1.25s\n",
      "590:\tlearn: 0.1039592\ttotal: 1.8s\tremaining: 1.24s\n",
      "591:\tlearn: 0.1039246\ttotal: 1.8s\tremaining: 1.24s\n",
      "592:\tlearn: 0.1038924\ttotal: 1.8s\tremaining: 1.24s\n",
      "593:\tlearn: 0.1038400\ttotal: 1.8s\tremaining: 1.23s\n",
      "594:\tlearn: 0.1038057\ttotal: 1.81s\tremaining: 1.23s\n",
      "595:\tlearn: 0.1037565\ttotal: 1.81s\tremaining: 1.23s\n",
      "596:\tlearn: 0.1037114\ttotal: 1.81s\tremaining: 1.22s\n",
      "597:\tlearn: 0.1036855\ttotal: 1.82s\tremaining: 1.22s\n",
      "598:\tlearn: 0.1036405\ttotal: 1.82s\tremaining: 1.22s\n",
      "599:\tlearn: 0.1035870\ttotal: 1.82s\tremaining: 1.22s\n",
      "600:\tlearn: 0.1035356\ttotal: 1.83s\tremaining: 1.21s\n",
      "601:\tlearn: 0.1035047\ttotal: 1.83s\tremaining: 1.21s\n",
      "602:\tlearn: 0.1034678\ttotal: 1.83s\tremaining: 1.21s\n",
      "603:\tlearn: 0.1033863\ttotal: 1.84s\tremaining: 1.2s\n",
      "604:\tlearn: 0.1033546\ttotal: 1.84s\tremaining: 1.2s\n",
      "605:\tlearn: 0.1033089\ttotal: 1.84s\tremaining: 1.2s\n",
      "606:\tlearn: 0.1032543\ttotal: 1.85s\tremaining: 1.2s\n",
      "607:\tlearn: 0.1032222\ttotal: 1.85s\tremaining: 1.19s\n",
      "608:\tlearn: 0.1031892\ttotal: 1.85s\tremaining: 1.19s\n",
      "609:\tlearn: 0.1031572\ttotal: 1.86s\tremaining: 1.19s\n",
      "610:\tlearn: 0.1031181\ttotal: 1.86s\tremaining: 1.18s\n",
      "611:\tlearn: 0.1030890\ttotal: 1.86s\tremaining: 1.18s\n",
      "612:\tlearn: 0.1030451\ttotal: 1.87s\tremaining: 1.18s\n",
      "613:\tlearn: 0.1030120\ttotal: 1.87s\tremaining: 1.18s\n",
      "614:\tlearn: 0.1029687\ttotal: 1.87s\tremaining: 1.17s\n",
      "615:\tlearn: 0.1029472\ttotal: 1.88s\tremaining: 1.17s\n",
      "616:\tlearn: 0.1028841\ttotal: 1.88s\tremaining: 1.17s\n",
      "617:\tlearn: 0.1028385\ttotal: 1.88s\tremaining: 1.16s\n",
      "618:\tlearn: 0.1027976\ttotal: 1.88s\tremaining: 1.16s\n",
      "619:\tlearn: 0.1027658\ttotal: 1.89s\tremaining: 1.16s\n",
      "620:\tlearn: 0.1027266\ttotal: 1.89s\tremaining: 1.15s\n",
      "621:\tlearn: 0.1026865\ttotal: 1.89s\tremaining: 1.15s\n",
      "622:\tlearn: 0.1026372\ttotal: 1.89s\tremaining: 1.15s\n",
      "623:\tlearn: 0.1025861\ttotal: 1.9s\tremaining: 1.14s\n",
      "624:\tlearn: 0.1025302\ttotal: 1.9s\tremaining: 1.14s\n",
      "625:\tlearn: 0.1024931\ttotal: 1.9s\tremaining: 1.14s\n",
      "626:\tlearn: 0.1024557\ttotal: 1.9s\tremaining: 1.13s\n",
      "627:\tlearn: 0.1024156\ttotal: 1.91s\tremaining: 1.13s\n",
      "628:\tlearn: 0.1023816\ttotal: 1.91s\tremaining: 1.13s\n",
      "629:\tlearn: 0.1023515\ttotal: 1.91s\tremaining: 1.12s\n",
      "630:\tlearn: 0.1023089\ttotal: 1.92s\tremaining: 1.12s\n",
      "631:\tlearn: 0.1022776\ttotal: 1.92s\tremaining: 1.12s\n",
      "632:\tlearn: 0.1022416\ttotal: 1.92s\tremaining: 1.11s\n",
      "633:\tlearn: 0.1021927\ttotal: 1.93s\tremaining: 1.11s\n",
      "634:\tlearn: 0.1021756\ttotal: 1.93s\tremaining: 1.11s\n",
      "635:\tlearn: 0.1021349\ttotal: 1.93s\tremaining: 1.11s\n",
      "636:\tlearn: 0.1020901\ttotal: 1.94s\tremaining: 1.1s\n",
      "637:\tlearn: 0.1020577\ttotal: 1.94s\tremaining: 1.1s\n",
      "638:\tlearn: 0.1020167\ttotal: 1.95s\tremaining: 1.1s\n",
      "639:\tlearn: 0.1019768\ttotal: 1.95s\tremaining: 1.1s\n",
      "640:\tlearn: 0.1019282\ttotal: 1.95s\tremaining: 1.09s\n",
      "641:\tlearn: 0.1018938\ttotal: 1.96s\tremaining: 1.09s\n",
      "642:\tlearn: 0.1018424\ttotal: 1.96s\tremaining: 1.09s\n",
      "643:\tlearn: 0.1018041\ttotal: 1.97s\tremaining: 1.09s\n",
      "644:\tlearn: 0.1017939\ttotal: 1.97s\tremaining: 1.08s\n",
      "645:\tlearn: 0.1017718\ttotal: 1.97s\tremaining: 1.08s\n",
      "646:\tlearn: 0.1017019\ttotal: 1.98s\tremaining: 1.08s\n",
      "647:\tlearn: 0.1016571\ttotal: 1.98s\tremaining: 1.07s\n",
      "648:\tlearn: 0.1016276\ttotal: 1.98s\tremaining: 1.07s\n",
      "649:\tlearn: 0.1015919\ttotal: 1.99s\tremaining: 1.07s\n",
      "650:\tlearn: 0.1015258\ttotal: 1.99s\tremaining: 1.06s\n",
      "651:\tlearn: 0.1014972\ttotal: 1.99s\tremaining: 1.06s\n",
      "652:\tlearn: 0.1014608\ttotal: 1.99s\tremaining: 1.06s\n",
      "653:\tlearn: 0.1014215\ttotal: 2s\tremaining: 1.06s\n",
      "654:\tlearn: 0.1013774\ttotal: 2s\tremaining: 1.05s\n",
      "655:\tlearn: 0.1013302\ttotal: 2s\tremaining: 1.05s\n",
      "656:\tlearn: 0.1012925\ttotal: 2.01s\tremaining: 1.05s\n",
      "657:\tlearn: 0.1012631\ttotal: 2.01s\tremaining: 1.04s\n",
      "658:\tlearn: 0.1012440\ttotal: 2.01s\tremaining: 1.04s\n",
      "659:\tlearn: 0.1012068\ttotal: 2.01s\tremaining: 1.04s\n",
      "660:\tlearn: 0.1011478\ttotal: 2.02s\tremaining: 1.03s\n",
      "661:\tlearn: 0.1011123\ttotal: 2.02s\tremaining: 1.03s\n",
      "662:\tlearn: 0.1010806\ttotal: 2.02s\tremaining: 1.03s\n",
      "663:\tlearn: 0.1010637\ttotal: 2.03s\tremaining: 1.02s\n",
      "664:\tlearn: 0.1010172\ttotal: 2.03s\tremaining: 1.02s\n",
      "665:\tlearn: 0.1009711\ttotal: 2.03s\tremaining: 1.02s\n",
      "666:\tlearn: 0.1009273\ttotal: 2.04s\tremaining: 1.02s\n",
      "667:\tlearn: 0.1008936\ttotal: 2.04s\tremaining: 1.01s\n",
      "668:\tlearn: 0.1008621\ttotal: 2.05s\tremaining: 1.01s\n",
      "669:\tlearn: 0.1008185\ttotal: 2.05s\tremaining: 1.01s\n",
      "670:\tlearn: 0.1008024\ttotal: 2.05s\tremaining: 1.01s\n",
      "671:\tlearn: 0.1007723\ttotal: 2.06s\tremaining: 1s\n",
      "672:\tlearn: 0.1007458\ttotal: 2.06s\tremaining: 1s\n",
      "673:\tlearn: 0.1007260\ttotal: 2.06s\tremaining: 998ms\n",
      "674:\tlearn: 0.1007034\ttotal: 2.07s\tremaining: 996ms\n",
      "675:\tlearn: 0.1006426\ttotal: 2.07s\tremaining: 993ms\n",
      "676:\tlearn: 0.1006125\ttotal: 2.07s\tremaining: 990ms\n",
      "677:\tlearn: 0.1005884\ttotal: 2.08s\tremaining: 987ms\n",
      "678:\tlearn: 0.1005641\ttotal: 2.08s\tremaining: 984ms\n",
      "679:\tlearn: 0.1005283\ttotal: 2.09s\tremaining: 982ms\n",
      "680:\tlearn: 0.1005034\ttotal: 2.09s\tremaining: 979ms\n",
      "681:\tlearn: 0.1004724\ttotal: 2.09s\tremaining: 977ms\n",
      "682:\tlearn: 0.1004266\ttotal: 2.1s\tremaining: 974ms\n",
      "683:\tlearn: 0.1003931\ttotal: 2.1s\tremaining: 971ms\n",
      "684:\tlearn: 0.1003626\ttotal: 2.1s\tremaining: 968ms\n",
      "685:\tlearn: 0.1003158\ttotal: 2.11s\tremaining: 965ms\n",
      "686:\tlearn: 0.1002759\ttotal: 2.11s\tremaining: 963ms\n",
      "687:\tlearn: 0.1002460\ttotal: 2.12s\tremaining: 960ms\n",
      "688:\tlearn: 0.1002277\ttotal: 2.12s\tremaining: 958ms\n",
      "689:\tlearn: 0.1002073\ttotal: 2.13s\tremaining: 955ms\n",
      "690:\tlearn: 0.1001349\ttotal: 2.13s\tremaining: 952ms\n",
      "691:\tlearn: 0.1000968\ttotal: 2.13s\tremaining: 949ms\n",
      "692:\tlearn: 0.1000122\ttotal: 2.14s\tremaining: 947ms\n",
      "693:\tlearn: 0.0999829\ttotal: 2.14s\tremaining: 945ms\n",
      "694:\tlearn: 0.0999390\ttotal: 2.15s\tremaining: 942ms\n",
      "695:\tlearn: 0.0999076\ttotal: 2.15s\tremaining: 939ms\n",
      "696:\tlearn: 0.0998838\ttotal: 2.15s\tremaining: 937ms\n",
      "697:\tlearn: 0.0998564\ttotal: 2.16s\tremaining: 934ms\n",
      "698:\tlearn: 0.0998175\ttotal: 2.16s\tremaining: 931ms\n",
      "699:\tlearn: 0.0997922\ttotal: 2.17s\tremaining: 929ms\n",
      "700:\tlearn: 0.0997687\ttotal: 2.17s\tremaining: 926ms\n",
      "701:\tlearn: 0.0997412\ttotal: 2.17s\tremaining: 922ms\n",
      "702:\tlearn: 0.0997020\ttotal: 2.18s\tremaining: 920ms\n",
      "703:\tlearn: 0.0996814\ttotal: 2.18s\tremaining: 918ms\n",
      "704:\tlearn: 0.0996502\ttotal: 2.19s\tremaining: 915ms\n",
      "705:\tlearn: 0.0996231\ttotal: 2.19s\tremaining: 912ms\n",
      "706:\tlearn: 0.0995834\ttotal: 2.19s\tremaining: 909ms\n",
      "707:\tlearn: 0.0995637\ttotal: 2.2s\tremaining: 906ms\n",
      "708:\tlearn: 0.0995384\ttotal: 2.2s\tremaining: 903ms\n",
      "709:\tlearn: 0.0994896\ttotal: 2.2s\tremaining: 899ms\n",
      "710:\tlearn: 0.0994553\ttotal: 2.2s\tremaining: 896ms\n",
      "711:\tlearn: 0.0994256\ttotal: 2.21s\tremaining: 893ms\n",
      "712:\tlearn: 0.0993915\ttotal: 2.21s\tremaining: 890ms\n",
      "713:\tlearn: 0.0993603\ttotal: 2.21s\tremaining: 886ms\n",
      "714:\tlearn: 0.0993279\ttotal: 2.21s\tremaining: 883ms\n",
      "715:\tlearn: 0.0992826\ttotal: 2.22s\tremaining: 880ms\n",
      "716:\tlearn: 0.0992459\ttotal: 2.22s\tremaining: 876ms\n",
      "717:\tlearn: 0.0992314\ttotal: 2.22s\tremaining: 873ms\n",
      "718:\tlearn: 0.0992054\ttotal: 2.22s\tremaining: 869ms\n",
      "719:\tlearn: 0.0991922\ttotal: 2.23s\tremaining: 866ms\n",
      "720:\tlearn: 0.0991713\ttotal: 2.23s\tremaining: 863ms\n",
      "721:\tlearn: 0.0991437\ttotal: 2.23s\tremaining: 860ms\n",
      "722:\tlearn: 0.0991100\ttotal: 2.24s\tremaining: 857ms\n",
      "723:\tlearn: 0.0990739\ttotal: 2.24s\tremaining: 853ms\n",
      "724:\tlearn: 0.0990181\ttotal: 2.24s\tremaining: 850ms\n",
      "725:\tlearn: 0.0989899\ttotal: 2.24s\tremaining: 846ms\n",
      "726:\tlearn: 0.0989369\ttotal: 2.24s\tremaining: 843ms\n",
      "727:\tlearn: 0.0988906\ttotal: 2.25s\tremaining: 840ms\n",
      "728:\tlearn: 0.0988619\ttotal: 2.25s\tremaining: 837ms\n",
      "729:\tlearn: 0.0988219\ttotal: 2.25s\tremaining: 834ms\n",
      "730:\tlearn: 0.0987927\ttotal: 2.26s\tremaining: 830ms\n",
      "731:\tlearn: 0.0987510\ttotal: 2.26s\tremaining: 827ms\n",
      "732:\tlearn: 0.0987151\ttotal: 2.26s\tremaining: 823ms\n",
      "733:\tlearn: 0.0986863\ttotal: 2.26s\tremaining: 820ms\n",
      "734:\tlearn: 0.0986657\ttotal: 2.26s\tremaining: 817ms\n",
      "735:\tlearn: 0.0986306\ttotal: 2.27s\tremaining: 813ms\n",
      "736:\tlearn: 0.0985908\ttotal: 2.27s\tremaining: 812ms\n",
      "737:\tlearn: 0.0985498\ttotal: 2.28s\tremaining: 809ms\n",
      "738:\tlearn: 0.0985232\ttotal: 2.28s\tremaining: 806ms\n",
      "739:\tlearn: 0.0984925\ttotal: 2.29s\tremaining: 804ms\n",
      "740:\tlearn: 0.0984529\ttotal: 2.29s\tremaining: 801ms\n",
      "741:\tlearn: 0.0983876\ttotal: 2.3s\tremaining: 798ms\n",
      "742:\tlearn: 0.0983688\ttotal: 2.3s\tremaining: 795ms\n",
      "743:\tlearn: 0.0983368\ttotal: 2.3s\tremaining: 792ms\n",
      "744:\tlearn: 0.0983134\ttotal: 2.3s\tremaining: 788ms\n",
      "745:\tlearn: 0.0982667\ttotal: 2.3s\tremaining: 785ms\n",
      "746:\tlearn: 0.0982244\ttotal: 2.31s\tremaining: 781ms\n",
      "747:\tlearn: 0.0981968\ttotal: 2.31s\tremaining: 778ms\n",
      "748:\tlearn: 0.0981488\ttotal: 2.31s\tremaining: 775ms\n",
      "749:\tlearn: 0.0981292\ttotal: 2.31s\tremaining: 771ms\n",
      "750:\tlearn: 0.0980932\ttotal: 2.31s\tremaining: 768ms\n",
      "751:\tlearn: 0.0980713\ttotal: 2.32s\tremaining: 764ms\n",
      "752:\tlearn: 0.0980278\ttotal: 2.32s\tremaining: 761ms\n",
      "753:\tlearn: 0.0979954\ttotal: 2.32s\tremaining: 758ms\n",
      "754:\tlearn: 0.0979752\ttotal: 2.33s\tremaining: 755ms\n",
      "755:\tlearn: 0.0979470\ttotal: 2.33s\tremaining: 751ms\n",
      "756:\tlearn: 0.0979135\ttotal: 2.33s\tremaining: 749ms\n",
      "757:\tlearn: 0.0978724\ttotal: 2.34s\tremaining: 746ms\n",
      "758:\tlearn: 0.0978501\ttotal: 2.34s\tremaining: 743ms\n",
      "759:\tlearn: 0.0978273\ttotal: 2.34s\tremaining: 740ms\n",
      "760:\tlearn: 0.0977887\ttotal: 2.34s\tremaining: 736ms\n",
      "761:\tlearn: 0.0977590\ttotal: 2.35s\tremaining: 733ms\n",
      "762:\tlearn: 0.0977260\ttotal: 2.35s\tremaining: 730ms\n",
      "763:\tlearn: 0.0976882\ttotal: 2.35s\tremaining: 727ms\n",
      "764:\tlearn: 0.0976461\ttotal: 2.36s\tremaining: 724ms\n",
      "765:\tlearn: 0.0976177\ttotal: 2.36s\tremaining: 721ms\n",
      "766:\tlearn: 0.0975869\ttotal: 2.36s\tremaining: 718ms\n",
      "767:\tlearn: 0.0975594\ttotal: 2.37s\tremaining: 715ms\n",
      "768:\tlearn: 0.0975248\ttotal: 2.37s\tremaining: 712ms\n",
      "769:\tlearn: 0.0975005\ttotal: 2.37s\tremaining: 708ms\n",
      "770:\tlearn: 0.0974708\ttotal: 2.37s\tremaining: 705ms\n",
      "771:\tlearn: 0.0974505\ttotal: 2.38s\tremaining: 702ms\n",
      "772:\tlearn: 0.0974245\ttotal: 2.38s\tremaining: 699ms\n",
      "773:\tlearn: 0.0973883\ttotal: 2.38s\tremaining: 695ms\n",
      "774:\tlearn: 0.0973634\ttotal: 2.38s\tremaining: 692ms\n",
      "775:\tlearn: 0.0973186\ttotal: 2.38s\tremaining: 689ms\n",
      "776:\tlearn: 0.0972893\ttotal: 2.39s\tremaining: 685ms\n",
      "777:\tlearn: 0.0972799\ttotal: 2.39s\tremaining: 682ms\n",
      "778:\tlearn: 0.0972496\ttotal: 2.39s\tremaining: 679ms\n",
      "779:\tlearn: 0.0972320\ttotal: 2.4s\tremaining: 676ms\n",
      "780:\tlearn: 0.0972074\ttotal: 2.4s\tremaining: 673ms\n",
      "781:\tlearn: 0.0971520\ttotal: 2.4s\tremaining: 670ms\n",
      "782:\tlearn: 0.0971130\ttotal: 2.41s\tremaining: 667ms\n",
      "783:\tlearn: 0.0970660\ttotal: 2.41s\tremaining: 665ms\n",
      "784:\tlearn: 0.0970194\ttotal: 2.42s\tremaining: 662ms\n",
      "785:\tlearn: 0.0969913\ttotal: 2.42s\tremaining: 659ms\n",
      "786:\tlearn: 0.0969501\ttotal: 2.42s\tremaining: 655ms\n",
      "787:\tlearn: 0.0969275\ttotal: 2.42s\tremaining: 652ms\n",
      "788:\tlearn: 0.0969129\ttotal: 2.42s\tremaining: 649ms\n",
      "789:\tlearn: 0.0968947\ttotal: 2.43s\tremaining: 645ms\n",
      "790:\tlearn: 0.0968734\ttotal: 2.43s\tremaining: 642ms\n",
      "791:\tlearn: 0.0968328\ttotal: 2.43s\tremaining: 639ms\n",
      "792:\tlearn: 0.0967609\ttotal: 2.43s\tremaining: 635ms\n",
      "793:\tlearn: 0.0967049\ttotal: 2.44s\tremaining: 632ms\n",
      "794:\tlearn: 0.0966803\ttotal: 2.44s\tremaining: 629ms\n",
      "795:\tlearn: 0.0966554\ttotal: 2.44s\tremaining: 626ms\n",
      "796:\tlearn: 0.0966062\ttotal: 2.44s\tremaining: 622ms\n",
      "797:\tlearn: 0.0965790\ttotal: 2.44s\tremaining: 619ms\n",
      "798:\tlearn: 0.0965373\ttotal: 2.45s\tremaining: 616ms\n",
      "799:\tlearn: 0.0965081\ttotal: 2.45s\tremaining: 613ms\n",
      "800:\tlearn: 0.0964709\ttotal: 2.45s\tremaining: 610ms\n",
      "801:\tlearn: 0.0964280\ttotal: 2.46s\tremaining: 607ms\n",
      "802:\tlearn: 0.0964146\ttotal: 2.46s\tremaining: 603ms\n",
      "803:\tlearn: 0.0963815\ttotal: 2.46s\tremaining: 600ms\n",
      "804:\tlearn: 0.0963495\ttotal: 2.46s\tremaining: 597ms\n",
      "805:\tlearn: 0.0963378\ttotal: 2.47s\tremaining: 594ms\n",
      "806:\tlearn: 0.0962873\ttotal: 2.47s\tremaining: 590ms\n",
      "807:\tlearn: 0.0962590\ttotal: 2.47s\tremaining: 587ms\n",
      "808:\tlearn: 0.0962191\ttotal: 2.47s\tremaining: 584ms\n",
      "809:\tlearn: 0.0961706\ttotal: 2.48s\tremaining: 581ms\n",
      "810:\tlearn: 0.0961420\ttotal: 2.48s\tremaining: 577ms\n",
      "811:\tlearn: 0.0960967\ttotal: 2.48s\tremaining: 575ms\n",
      "812:\tlearn: 0.0960297\ttotal: 2.48s\tremaining: 571ms\n",
      "813:\tlearn: 0.0959988\ttotal: 2.49s\tremaining: 568ms\n",
      "814:\tlearn: 0.0959614\ttotal: 2.49s\tremaining: 565ms\n",
      "815:\tlearn: 0.0959314\ttotal: 2.49s\tremaining: 562ms\n",
      "816:\tlearn: 0.0958971\ttotal: 2.49s\tremaining: 558ms\n",
      "817:\tlearn: 0.0958702\ttotal: 2.49s\tremaining: 555ms\n",
      "818:\tlearn: 0.0958384\ttotal: 2.5s\tremaining: 552ms\n",
      "819:\tlearn: 0.0958181\ttotal: 2.5s\tremaining: 549ms\n",
      "820:\tlearn: 0.0957876\ttotal: 2.5s\tremaining: 546ms\n",
      "821:\tlearn: 0.0957553\ttotal: 2.51s\tremaining: 543ms\n",
      "822:\tlearn: 0.0957165\ttotal: 2.52s\tremaining: 541ms\n",
      "823:\tlearn: 0.0956950\ttotal: 2.52s\tremaining: 538ms\n",
      "824:\tlearn: 0.0956825\ttotal: 2.52s\tremaining: 536ms\n",
      "825:\tlearn: 0.0956547\ttotal: 2.53s\tremaining: 532ms\n",
      "826:\tlearn: 0.0956029\ttotal: 2.53s\tremaining: 529ms\n",
      "827:\tlearn: 0.0955845\ttotal: 2.53s\tremaining: 526ms\n",
      "828:\tlearn: 0.0955630\ttotal: 2.53s\tremaining: 523ms\n",
      "829:\tlearn: 0.0955341\ttotal: 2.54s\tremaining: 520ms\n",
      "830:\tlearn: 0.0955122\ttotal: 2.54s\tremaining: 516ms\n",
      "831:\tlearn: 0.0954800\ttotal: 2.54s\tremaining: 513ms\n",
      "832:\tlearn: 0.0954553\ttotal: 2.54s\tremaining: 510ms\n",
      "833:\tlearn: 0.0954407\ttotal: 2.54s\tremaining: 507ms\n",
      "834:\tlearn: 0.0954132\ttotal: 2.55s\tremaining: 503ms\n",
      "835:\tlearn: 0.0953840\ttotal: 2.55s\tremaining: 500ms\n",
      "836:\tlearn: 0.0953561\ttotal: 2.55s\tremaining: 497ms\n",
      "837:\tlearn: 0.0953414\ttotal: 2.55s\tremaining: 494ms\n",
      "838:\tlearn: 0.0953168\ttotal: 2.56s\tremaining: 491ms\n",
      "839:\tlearn: 0.0952850\ttotal: 2.56s\tremaining: 488ms\n",
      "840:\tlearn: 0.0952734\ttotal: 2.56s\tremaining: 485ms\n",
      "841:\tlearn: 0.0952484\ttotal: 2.57s\tremaining: 482ms\n",
      "842:\tlearn: 0.0952274\ttotal: 2.57s\tremaining: 479ms\n",
      "843:\tlearn: 0.0952080\ttotal: 2.57s\tremaining: 476ms\n",
      "844:\tlearn: 0.0951632\ttotal: 2.58s\tremaining: 473ms\n",
      "845:\tlearn: 0.0951278\ttotal: 2.58s\tremaining: 470ms\n",
      "846:\tlearn: 0.0950952\ttotal: 2.58s\tremaining: 466ms\n",
      "847:\tlearn: 0.0950772\ttotal: 2.58s\tremaining: 463ms\n",
      "848:\tlearn: 0.0950435\ttotal: 2.59s\tremaining: 460ms\n",
      "849:\tlearn: 0.0950224\ttotal: 2.59s\tremaining: 457ms\n",
      "850:\tlearn: 0.0949949\ttotal: 2.6s\tremaining: 454ms\n",
      "851:\tlearn: 0.0949610\ttotal: 2.6s\tremaining: 451ms\n",
      "852:\tlearn: 0.0949199\ttotal: 2.6s\tremaining: 448ms\n",
      "853:\tlearn: 0.0948894\ttotal: 2.6s\tremaining: 445ms\n",
      "854:\tlearn: 0.0948640\ttotal: 2.6s\tremaining: 442ms\n",
      "855:\tlearn: 0.0948396\ttotal: 2.61s\tremaining: 439ms\n",
      "856:\tlearn: 0.0948190\ttotal: 2.61s\tremaining: 436ms\n",
      "857:\tlearn: 0.0947715\ttotal: 2.62s\tremaining: 433ms\n",
      "858:\tlearn: 0.0947306\ttotal: 2.62s\tremaining: 430ms\n",
      "859:\tlearn: 0.0946982\ttotal: 2.63s\tremaining: 428ms\n",
      "860:\tlearn: 0.0946785\ttotal: 2.63s\tremaining: 424ms\n",
      "861:\tlearn: 0.0946317\ttotal: 2.63s\tremaining: 421ms\n",
      "862:\tlearn: 0.0945587\ttotal: 2.63s\tremaining: 418ms\n",
      "863:\tlearn: 0.0945451\ttotal: 2.63s\tremaining: 415ms\n",
      "864:\tlearn: 0.0945099\ttotal: 2.64s\tremaining: 412ms\n",
      "865:\tlearn: 0.0944826\ttotal: 2.64s\tremaining: 408ms\n",
      "866:\tlearn: 0.0944574\ttotal: 2.64s\tremaining: 405ms\n",
      "867:\tlearn: 0.0944094\ttotal: 2.64s\tremaining: 402ms\n",
      "868:\tlearn: 0.0943762\ttotal: 2.65s\tremaining: 399ms\n",
      "869:\tlearn: 0.0943643\ttotal: 2.65s\tremaining: 396ms\n",
      "870:\tlearn: 0.0943308\ttotal: 2.65s\tremaining: 393ms\n",
      "871:\tlearn: 0.0942830\ttotal: 2.66s\tremaining: 390ms\n",
      "872:\tlearn: 0.0942488\ttotal: 2.66s\tremaining: 387ms\n",
      "873:\tlearn: 0.0942246\ttotal: 2.66s\tremaining: 384ms\n",
      "874:\tlearn: 0.0942074\ttotal: 2.67s\tremaining: 381ms\n",
      "875:\tlearn: 0.0941762\ttotal: 2.67s\tremaining: 378ms\n",
      "876:\tlearn: 0.0941479\ttotal: 2.67s\tremaining: 375ms\n",
      "877:\tlearn: 0.0941294\ttotal: 2.68s\tremaining: 372ms\n",
      "878:\tlearn: 0.0941167\ttotal: 2.68s\tremaining: 369ms\n",
      "879:\tlearn: 0.0940769\ttotal: 2.68s\tremaining: 366ms\n",
      "880:\tlearn: 0.0940588\ttotal: 2.68s\tremaining: 363ms\n",
      "881:\tlearn: 0.0940231\ttotal: 2.69s\tremaining: 359ms\n",
      "882:\tlearn: 0.0940086\ttotal: 2.69s\tremaining: 356ms\n",
      "883:\tlearn: 0.0939921\ttotal: 2.69s\tremaining: 353ms\n",
      "884:\tlearn: 0.0939656\ttotal: 2.69s\tremaining: 350ms\n",
      "885:\tlearn: 0.0939357\ttotal: 2.69s\tremaining: 347ms\n",
      "886:\tlearn: 0.0938989\ttotal: 2.7s\tremaining: 344ms\n",
      "887:\tlearn: 0.0938811\ttotal: 2.7s\tremaining: 341ms\n",
      "888:\tlearn: 0.0938438\ttotal: 2.7s\tremaining: 337ms\n",
      "889:\tlearn: 0.0938189\ttotal: 2.7s\tremaining: 334ms\n",
      "890:\tlearn: 0.0937845\ttotal: 2.71s\tremaining: 331ms\n",
      "891:\tlearn: 0.0937589\ttotal: 2.71s\tremaining: 328ms\n",
      "892:\tlearn: 0.0937228\ttotal: 2.71s\tremaining: 325ms\n",
      "893:\tlearn: 0.0936585\ttotal: 2.71s\tremaining: 322ms\n",
      "894:\tlearn: 0.0936291\ttotal: 2.72s\tremaining: 319ms\n",
      "895:\tlearn: 0.0936072\ttotal: 2.72s\tremaining: 316ms\n",
      "896:\tlearn: 0.0935739\ttotal: 2.73s\tremaining: 313ms\n",
      "897:\tlearn: 0.0935447\ttotal: 2.73s\tremaining: 310ms\n",
      "898:\tlearn: 0.0935144\ttotal: 2.73s\tremaining: 307ms\n",
      "899:\tlearn: 0.0934916\ttotal: 2.74s\tremaining: 304ms\n",
      "900:\tlearn: 0.0934666\ttotal: 2.74s\tremaining: 301ms\n",
      "901:\tlearn: 0.0934407\ttotal: 2.74s\tremaining: 298ms\n",
      "902:\tlearn: 0.0934233\ttotal: 2.74s\tremaining: 295ms\n",
      "903:\tlearn: 0.0933803\ttotal: 2.74s\tremaining: 291ms\n",
      "904:\tlearn: 0.0933540\ttotal: 2.75s\tremaining: 288ms\n",
      "905:\tlearn: 0.0933367\ttotal: 2.75s\tremaining: 285ms\n",
      "906:\tlearn: 0.0932832\ttotal: 2.75s\tremaining: 282ms\n",
      "907:\tlearn: 0.0932595\ttotal: 2.75s\tremaining: 279ms\n",
      "908:\tlearn: 0.0932309\ttotal: 2.75s\tremaining: 276ms\n",
      "909:\tlearn: 0.0931998\ttotal: 2.76s\tremaining: 273ms\n",
      "910:\tlearn: 0.0931675\ttotal: 2.76s\tremaining: 270ms\n",
      "911:\tlearn: 0.0931483\ttotal: 2.76s\tremaining: 267ms\n",
      "912:\tlearn: 0.0931181\ttotal: 2.76s\tremaining: 263ms\n",
      "913:\tlearn: 0.0930879\ttotal: 2.77s\tremaining: 260ms\n",
      "914:\tlearn: 0.0930372\ttotal: 2.77s\tremaining: 257ms\n",
      "915:\tlearn: 0.0930103\ttotal: 2.77s\tremaining: 254ms\n",
      "916:\tlearn: 0.0930005\ttotal: 2.77s\tremaining: 251ms\n",
      "917:\tlearn: 0.0929784\ttotal: 2.78s\tremaining: 248ms\n",
      "918:\tlearn: 0.0929409\ttotal: 2.79s\tremaining: 246ms\n",
      "919:\tlearn: 0.0929209\ttotal: 2.79s\tremaining: 242ms\n",
      "920:\tlearn: 0.0928982\ttotal: 2.79s\tremaining: 239ms\n",
      "921:\tlearn: 0.0928684\ttotal: 2.79s\tremaining: 236ms\n",
      "922:\tlearn: 0.0928359\ttotal: 2.79s\tremaining: 233ms\n",
      "923:\tlearn: 0.0927995\ttotal: 2.8s\tremaining: 230ms\n",
      "924:\tlearn: 0.0927690\ttotal: 2.8s\tremaining: 227ms\n",
      "925:\tlearn: 0.0927526\ttotal: 2.8s\tremaining: 224ms\n",
      "926:\tlearn: 0.0927173\ttotal: 2.8s\tremaining: 221ms\n",
      "927:\tlearn: 0.0926875\ttotal: 2.81s\tremaining: 218ms\n",
      "928:\tlearn: 0.0926617\ttotal: 2.81s\tremaining: 215ms\n",
      "929:\tlearn: 0.0926473\ttotal: 2.81s\tremaining: 212ms\n",
      "930:\tlearn: 0.0925995\ttotal: 2.81s\tremaining: 208ms\n",
      "931:\tlearn: 0.0925486\ttotal: 2.81s\tremaining: 205ms\n",
      "932:\tlearn: 0.0925303\ttotal: 2.82s\tremaining: 202ms\n",
      "933:\tlearn: 0.0924864\ttotal: 2.82s\tremaining: 199ms\n",
      "934:\tlearn: 0.0924487\ttotal: 2.82s\tremaining: 196ms\n",
      "935:\tlearn: 0.0924003\ttotal: 2.82s\tremaining: 193ms\n",
      "936:\tlearn: 0.0923566\ttotal: 2.83s\tremaining: 190ms\n",
      "937:\tlearn: 0.0923273\ttotal: 2.83s\tremaining: 187ms\n",
      "938:\tlearn: 0.0922979\ttotal: 2.83s\tremaining: 184ms\n",
      "939:\tlearn: 0.0922512\ttotal: 2.84s\tremaining: 181ms\n",
      "940:\tlearn: 0.0922228\ttotal: 2.84s\tremaining: 178ms\n",
      "941:\tlearn: 0.0921631\ttotal: 2.85s\tremaining: 175ms\n",
      "942:\tlearn: 0.0921304\ttotal: 2.85s\tremaining: 172ms\n",
      "943:\tlearn: 0.0921062\ttotal: 2.85s\tremaining: 169ms\n",
      "944:\tlearn: 0.0920648\ttotal: 2.85s\tremaining: 166ms\n",
      "945:\tlearn: 0.0920190\ttotal: 2.86s\tremaining: 163ms\n",
      "946:\tlearn: 0.0919980\ttotal: 2.86s\tremaining: 160ms\n",
      "947:\tlearn: 0.0919675\ttotal: 2.87s\tremaining: 157ms\n",
      "948:\tlearn: 0.0919387\ttotal: 2.87s\tremaining: 154ms\n",
      "949:\tlearn: 0.0919009\ttotal: 2.88s\tremaining: 151ms\n",
      "950:\tlearn: 0.0918743\ttotal: 2.88s\tremaining: 148ms\n",
      "951:\tlearn: 0.0918624\ttotal: 2.88s\tremaining: 145ms\n",
      "952:\tlearn: 0.0918236\ttotal: 2.89s\tremaining: 142ms\n",
      "953:\tlearn: 0.0917917\ttotal: 2.9s\tremaining: 140ms\n",
      "954:\tlearn: 0.0917568\ttotal: 2.9s\tremaining: 137ms\n",
      "955:\tlearn: 0.0917225\ttotal: 2.9s\tremaining: 134ms\n",
      "956:\tlearn: 0.0916907\ttotal: 2.91s\tremaining: 131ms\n",
      "957:\tlearn: 0.0916592\ttotal: 2.91s\tremaining: 128ms\n",
      "958:\tlearn: 0.0916216\ttotal: 2.91s\tremaining: 124ms\n",
      "959:\tlearn: 0.0916012\ttotal: 2.91s\tremaining: 121ms\n",
      "960:\tlearn: 0.0915827\ttotal: 2.91s\tremaining: 118ms\n",
      "961:\tlearn: 0.0915683\ttotal: 2.92s\tremaining: 115ms\n",
      "962:\tlearn: 0.0915436\ttotal: 2.92s\tremaining: 112ms\n",
      "963:\tlearn: 0.0915077\ttotal: 2.92s\tremaining: 109ms\n",
      "964:\tlearn: 0.0914893\ttotal: 2.92s\tremaining: 106ms\n",
      "965:\tlearn: 0.0914675\ttotal: 2.93s\tremaining: 103ms\n",
      "966:\tlearn: 0.0914366\ttotal: 2.93s\tremaining: 99.9ms\n",
      "967:\tlearn: 0.0914234\ttotal: 2.93s\tremaining: 96.9ms\n",
      "968:\tlearn: 0.0913853\ttotal: 2.93s\tremaining: 93.8ms\n",
      "969:\tlearn: 0.0913507\ttotal: 2.94s\tremaining: 90.8ms\n",
      "970:\tlearn: 0.0913228\ttotal: 2.94s\tremaining: 87.7ms\n",
      "971:\tlearn: 0.0913002\ttotal: 2.94s\tremaining: 84.7ms\n",
      "972:\tlearn: 0.0912847\ttotal: 2.94s\tremaining: 81.6ms\n",
      "973:\tlearn: 0.0912724\ttotal: 2.94s\tremaining: 78.6ms\n",
      "974:\tlearn: 0.0912412\ttotal: 2.94s\tremaining: 75.5ms\n",
      "975:\tlearn: 0.0912246\ttotal: 2.95s\tremaining: 72.5ms\n",
      "976:\tlearn: 0.0912034\ttotal: 2.95s\tremaining: 69.5ms\n",
      "977:\tlearn: 0.0911736\ttotal: 2.95s\tremaining: 66.4ms\n",
      "978:\tlearn: 0.0911377\ttotal: 2.95s\tremaining: 63.4ms\n",
      "979:\tlearn: 0.0911228\ttotal: 2.96s\tremaining: 60.3ms\n",
      "980:\tlearn: 0.0911055\ttotal: 2.96s\tremaining: 57.3ms\n",
      "981:\tlearn: 0.0910812\ttotal: 2.96s\tremaining: 54.3ms\n",
      "982:\tlearn: 0.0910444\ttotal: 2.96s\tremaining: 51.2ms\n",
      "983:\tlearn: 0.0910143\ttotal: 2.96s\tremaining: 48.2ms\n",
      "984:\tlearn: 0.0909856\ttotal: 2.97s\tremaining: 45.2ms\n",
      "985:\tlearn: 0.0909589\ttotal: 2.97s\tremaining: 42.2ms\n",
      "986:\tlearn: 0.0909321\ttotal: 2.97s\tremaining: 39.1ms\n",
      "987:\tlearn: 0.0909011\ttotal: 2.97s\tremaining: 36.1ms\n",
      "988:\tlearn: 0.0908700\ttotal: 2.98s\tremaining: 33.1ms\n",
      "989:\tlearn: 0.0908453\ttotal: 2.98s\tremaining: 30.1ms\n",
      "990:\tlearn: 0.0908170\ttotal: 2.98s\tremaining: 27.1ms\n",
      "991:\tlearn: 0.0908008\ttotal: 2.98s\tremaining: 24.1ms\n",
      "992:\tlearn: 0.0907863\ttotal: 2.99s\tremaining: 21.1ms\n",
      "993:\tlearn: 0.0907716\ttotal: 2.99s\tremaining: 18.1ms\n",
      "994:\tlearn: 0.0907370\ttotal: 2.99s\tremaining: 15ms\n",
      "995:\tlearn: 0.0906926\ttotal: 3s\tremaining: 12ms\n",
      "996:\tlearn: 0.0906692\ttotal: 3s\tremaining: 9.03ms\n",
      "997:\tlearn: 0.0906395\ttotal: 3s\tremaining: 6.02ms\n",
      "998:\tlearn: 0.0906093\ttotal: 3.01s\tremaining: 3.01ms\n",
      "999:\tlearn: 0.0905919\ttotal: 3.01s\tremaining: 0us\n",
      "0.1121587788234917\n"
     ]
    }
   ],
   "source": [
    "cat = CatBoostRegressor(random_seed = 42)\n",
    "cat.fit(norm_train_inputs, train_targets)\n",
    "test_preds = cat.predict(norm_tst_inputs)\n",
    "\n",
    "test_loss_cat = metrics.mean_squared_error(test_preds, test_targets)\n",
    "print(test_loss_cat)"
   ]
  },
  {
   "cell_type": "markdown",
   "id": "862aa5fc-b922-4dd7-bf6d-85355a9234d2",
   "metadata": {},
   "source": [
    "## 4) LightGBM"
   ]
  },
  {
   "cell_type": "code",
   "execution_count": 17,
   "id": "d93e63e9-d8d3-453f-be91-f69ec5bb5be1",
   "metadata": {
    "scrolled": true
   },
   "outputs": [
    {
     "name": "stderr",
     "output_type": "stream",
     "text": [
      " 27%|█████████████████████████████████████▋                                                                                                    | 3/11 [00:00<00:00, 26.69it/s]"
     ]
    },
    {
     "name": "stdout",
     "output_type": "stream",
     "text": [
      "[LightGBM] [Info] Auto-choosing col-wise multi-threading, the overhead of testing was 0.000444 seconds.\n",
      "You can set `force_col_wise=true` to remove the overhead.\n",
      "[LightGBM] [Info] Total Bins 1837\n",
      "[LightGBM] [Info] Number of data points in the train set: 12384, number of used features: 8\n",
      "[LightGBM] [Info] Start training from score 1.062439\n",
      "[LightGBM] [Info] Auto-choosing col-wise multi-threading, the overhead of testing was 0.000452 seconds.\n",
      "You can set `force_col_wise=true` to remove the overhead.\n",
      "[LightGBM] [Info] Total Bins 1837\n",
      "[LightGBM] [Info] Number of data points in the train set: 12384, number of used features: 8\n",
      "[LightGBM] [Info] Start training from score 1.062439\n",
      "[LightGBM] [Info] Auto-choosing col-wise multi-threading, the overhead of testing was 0.000480 seconds.\n",
      "You can set `force_col_wise=true` to remove the overhead.\n",
      "[LightGBM] [Info] Total Bins 1837\n",
      "[LightGBM] [Info] Number of data points in the train set: 12384, number of used features: 8\n",
      "[LightGBM] [Info] Start training from score 1.062439\n",
      "[LightGBM] [Info] Auto-choosing col-wise multi-threading, the overhead of testing was 0.000546 seconds.\n",
      "You can set `force_col_wise=true` to remove the overhead.\n",
      "[LightGBM] [Info] Total Bins 1837\n",
      "[LightGBM] [Info] Number of data points in the train set: 12384, number of used features: 8\n",
      "[LightGBM] [Info] Start training from score 1.062439\n",
      "[LightGBM] [Info] Auto-choosing col-wise multi-threading, the overhead of testing was 0.000519 seconds.\n",
      "You can set `force_col_wise=true` to remove the overhead.\n",
      "[LightGBM] [Info] Total Bins 1837\n",
      "[LightGBM] [Info] Number of data points in the train set: 12384, number of used features: 8\n",
      "[LightGBM] [Info] Start training from score 1.062439\n"
     ]
    },
    {
     "name": "stderr",
     "output_type": "stream",
     "text": [
      " 55%|███████████████████████████████████████████████████████████████████████████▎                                                              | 6/11 [00:00<00:00, 11.77it/s]"
     ]
    },
    {
     "name": "stdout",
     "output_type": "stream",
     "text": [
      "[LightGBM] [Info] Auto-choosing col-wise multi-threading, the overhead of testing was 0.000416 seconds.\n",
      "You can set `force_col_wise=true` to remove the overhead.\n",
      "[LightGBM] [Info] Total Bins 1837\n",
      "[LightGBM] [Info] Number of data points in the train set: 12384, number of used features: 8\n",
      "[LightGBM] [Info] Start training from score 1.062439\n",
      "[LightGBM] [Info] Auto-choosing col-wise multi-threading, the overhead of testing was 0.000380 seconds.\n",
      "You can set `force_col_wise=true` to remove the overhead.\n",
      "[LightGBM] [Info] Total Bins 1837\n",
      "[LightGBM] [Info] Number of data points in the train set: 12384, number of used features: 8\n",
      "[LightGBM] [Info] Start training from score 1.062439\n",
      "[LightGBM] [Info] Auto-choosing col-wise multi-threading, the overhead of testing was 0.000504 seconds.\n",
      "You can set `force_col_wise=true` to remove the overhead.\n",
      "[LightGBM] [Info] Total Bins 1837\n",
      "[LightGBM] [Info] Number of data points in the train set: 12384, number of used features: 8\n",
      "[LightGBM] [Info] Start training from score 1.062439\n"
     ]
    },
    {
     "name": "stderr",
     "output_type": "stream",
     "text": [
      " 73%|████████████████████████████████████████████████████████████████████████████████████████████████████▎                                     | 8/11 [00:00<00:00,  7.90it/s]"
     ]
    },
    {
     "name": "stdout",
     "output_type": "stream",
     "text": [
      "[LightGBM] [Info] Auto-choosing col-wise multi-threading, the overhead of testing was 0.000428 seconds.\n",
      "You can set `force_col_wise=true` to remove the overhead.\n",
      "[LightGBM] [Info] Total Bins 1837\n",
      "[LightGBM] [Info] Number of data points in the train set: 12384, number of used features: 8\n",
      "[LightGBM] [Info] Start training from score 1.062439\n",
      "[LightGBM] [Info] Auto-choosing col-wise multi-threading, the overhead of testing was 0.000421 seconds.\n",
      "You can set `force_col_wise=true` to remove the overhead.\n",
      "[LightGBM] [Info] Total Bins 1837\n",
      "[LightGBM] [Info] Number of data points in the train set: 12384, number of used features: 8\n",
      "[LightGBM] [Info] Start training from score 1.062439\n"
     ]
    },
    {
     "name": "stderr",
     "output_type": "stream",
     "text": [
      " 91%|████████████████████████████████████████████████████████████████████████████████████████████████████████████████████████████▌            | 10/11 [00:01<00:00,  5.46it/s]"
     ]
    },
    {
     "name": "stdout",
     "output_type": "stream",
     "text": [
      "[LightGBM] [Info] Auto-choosing col-wise multi-threading, the overhead of testing was 0.000580 seconds.\n",
      "You can set `force_col_wise=true` to remove the overhead.\n",
      "[LightGBM] [Info] Total Bins 1837\n",
      "[LightGBM] [Info] Number of data points in the train set: 12384, number of used features: 8\n",
      "[LightGBM] [Info] Start training from score 1.062439\n"
     ]
    },
    {
     "name": "stderr",
     "output_type": "stream",
     "text": [
      "100%|█████████████████████████████████████████████████████████████████████████████████████████████████████████████████████████████████████████| 11/11 [00:01<00:00,  6.12it/s]"
     ]
    },
    {
     "name": "stdout",
     "output_type": "stream",
     "text": [
      "25\n"
     ]
    },
    {
     "name": "stderr",
     "output_type": "stream",
     "text": [
      "\n"
     ]
    },
    {
     "data": {
      "image/png": "[encoded data removed]",
      "text/plain": [
       "<Figure size 800x600 with 1 Axes>"
      ]
     },
     "metadata": {},
     "output_type": "display_data"
    }
   ],
   "source": [
    "num_estimators = [2, 5, 10, 25, 50, 75, 100, 125, 150, 175, 200]\n",
    "val_losses = []\n",
    "\n",
    "for num_est in tqdm(num_estimators):\n",
    "    lgbm = LGBMRegressor(random_state = 42, n_estimators = num_est)\n",
    "    lgbm.fit(norm_train_inputs, train_targets)\n",
    "    val_preds = lgbm.predict(norm_val_inputs)\n",
    "\n",
    "    val_loss = metrics.mean_squared_error(val_preds, val_targets)\n",
    "    val_losses.append(val_loss)\n",
    "\n",
    "best_n_estimator = num_estimators[val_losses.index(min(val_losses))]\n",
    "print(best_n_estimator)\n",
    "plt.figure(figsize = (8,6))\n",
    "plt.plot(num_estimators, val_losses)\n",
    "plt.show()"
   ]
  },
  {
   "cell_type": "code",
   "execution_count": 18,
   "id": "c6144c51-b9c6-4918-9e45-64ac3a93ccc3",
   "metadata": {},
   "outputs": [
    {
     "name": "stdout",
     "output_type": "stream",
     "text": [
      "[LightGBM] [Info] Auto-choosing col-wise multi-threading, the overhead of testing was 0.000460 seconds.\n",
      "You can set `force_col_wise=true` to remove the overhead.\n",
      "[LightGBM] [Info] Total Bins 1837\n",
      "[LightGBM] [Info] Number of data points in the train set: 12384, number of used features: 8\n",
      "[LightGBM] [Info] Start training from score 1.062439\n",
      "0.06521395390477432\n"
     ]
    }
   ],
   "source": [
    "lgbm = LGBMRegressor(random_state = 42, n_estimators = best_n_estimator)\n",
    "lgbm.fit(norm_train_inputs, train_targets)\n",
    "test_preds = lgbm.predict(norm_tst_inputs)\n",
    "\n",
    "test_loss_lgbm = metrics.mean_squared_error(test_preds, tst_targets)\n",
    "print(test_loss_lgbm)"
   ]
  },
  {
   "cell_type": "markdown",
   "id": "12e2630d-1022-4553-bfea-06514708818d",
   "metadata": {},
   "source": [
    "## 5) Linear Regression"
   ]
  },
  {
   "cell_type": "code",
   "execution_count": 19,
   "id": "4b604143-c4ba-4ba4-afcd-da786c69b2fe",
   "metadata": {},
   "outputs": [
    {
     "name": "stdout",
     "output_type": "stream",
     "text": [
      "0.07614427954882125\n"
     ]
    }
   ],
   "source": [
    "lr = linear_model.LinearRegression()\n",
    "lr.fit(norm_train_inputs, train_targets)\n",
    "test_preds = lr.predict(norm_tst_inputs)\n",
    "\n",
    "test_loss_lr = metrics.mean_squared_error(test_preds, tst_targets)\n",
    "print(test_loss_lr)"
   ]
  },
  {
   "cell_type": "markdown",
   "id": "bd7ad4c4-f308-4c1e-ba11-0751c5171da2",
   "metadata": {},
   "source": [
    "## 6) Tree Regressor"
   ]
  },
  {
   "cell_type": "code",
   "execution_count": 20,
   "id": "b1bd6b01-6ed2-4223-af72-de1fe116e6ab",
   "metadata": {},
   "outputs": [
    {
     "name": "stdout",
     "output_type": "stream",
     "text": [
      "0.1677761367702958\n"
     ]
    }
   ],
   "source": [
    "dtr = tree.DecisionTreeRegressor(random_state = 42)\n",
    "dtr.fit(norm_train_inputs, train_targets)\n",
    "tst_preds = dtr.predict(norm_tst_inputs)\n",
    "\n",
    "test_loss_dtr = metrics.mean_squared_error(tst_preds, tst_targets)\n",
    "print(test_loss_dtr)"
   ]
  },
  {
   "cell_type": "markdown",
   "id": "dddbf5a5-b2fd-463d-84e8-569541dfabe2",
   "metadata": {},
   "source": [
    "## 7) Gradient boosting Tree"
   ]
  },
  {
   "cell_type": "code",
   "execution_count": 21,
   "id": "1d62871f-7b6a-409e-bf68-83f015dff79d",
   "metadata": {
    "scrolled": true
   },
   "outputs": [
    {
     "name": "stderr",
     "output_type": "stream",
     "text": [
      "100%|█████████████████████████████████████████████████████████████████████████████████████████████████████████████████████████████████████████| 11/11 [00:34<00:00,  3.12s/it]"
     ]
    },
    {
     "name": "stdout",
     "output_type": "stream",
     "text": [
      "25\n"
     ]
    },
    {
     "name": "stderr",
     "output_type": "stream",
     "text": [
      "\n"
     ]
    },
    {
     "data": {
      "image/png": "[encoded data removed]",
      "text/plain": [
       "<Figure size 800x600 with 1 Axes>"
      ]
     },
     "metadata": {},
     "output_type": "display_data"
    }
   ],
   "source": [
    "num_estimators = [2, 5, 10, 25, 50, 75, 100, 125, 150, 175, 200]\n",
    "val_losses = []\n",
    "\n",
    "for num_est in tqdm(num_estimators):\n",
    "    gbt = ensemble.GradientBoostingRegressor(random_state = 42, n_estimators = num_est)\n",
    "    gbt.fit(norm_train_inputs, train_targets)\n",
    "    val_preds = gbt.predict(norm_val_inputs)\n",
    "\n",
    "    val_loss = metrics.mean_squared_error(val_preds, val_targets)\n",
    "    val_losses.append(val_loss)\n",
    "\n",
    "best_n_estimator = num_estimators[val_losses.index(min(val_losses))]\n",
    "print(best_n_estimator)\n",
    "\n",
    "plt.figure(figsize = (8,6))\n",
    "plt.plot(num_estimators, val_losses)\n",
    "plt.show()"
   ]
  },
  {
   "cell_type": "code",
   "execution_count": 22,
   "id": "a89f12e2-53d2-4b1a-9319-8d92cb29df9a",
   "metadata": {},
   "outputs": [
    {
     "name": "stdout",
     "output_type": "stream",
     "text": [
      "0.05720323853297496\n"
     ]
    }
   ],
   "source": [
    "gbt = ensemble.GradientBoostingRegressor(random_state = 42, n_estimators = best_n_estimator)\n",
    "gbt.fit(norm_train_inputs, train_targets)\n",
    "test_preds = gbt.predict(norm_tst_inputs)\n",
    "\n",
    "test_loss_gbt = metrics.mean_squared_error(test_preds, tst_targets)\n",
    "print(test_loss_gbt)"
   ]
  },
  {
   "cell_type": "markdown",
   "id": "dd1f9d23-7bcf-4983-8f1c-db9fde78454e",
   "metadata": {},
   "source": [
    "## 8) Vanilla Neural Network"
   ]
  },
  {
   "cell_type": "code",
   "execution_count": 23,
   "id": "d5cf9e79-00d1-49c2-8795-8ad03e719a60",
   "metadata": {
    "scrolled": true
   },
   "outputs": [
    {
     "name": "stderr",
     "output_type": "stream",
     "text": [
      "  0%|                                                                                                                                                   | 0/5 [00:00<?, ?it/s]/scratch/storage0/be20b032/miniconda3/lib/python3.11/site-packages/torch/utils/data/_utils/collate.py:222: UserWarning: The given NumPy array is not writable, and PyTorch does not support non-writable tensors. This means writing to this tensor will result in undefined behavior. You may want to copy the array to protect its data or make it writable before converting it to a tensor. This type of warning will be suppressed for the rest of this program. (Triggered internally at ../torch/csrc/utils/tensor_numpy.cpp:206.)\n",
      "  return collate([torch.as_tensor(b) for b in batch], collate_fn_map=collate_fn_map)\n",
      "100%|███████████████████████████████████████████████████████████████████████████████████████████████████████████████████████████████████████████| 5/5 [00:04<00:00,  1.08it/s]\n"
     ]
    },
    {
     "name": "stdout",
     "output_type": "stream",
     "text": [
      "Lr: 0.001 Wds: 1e-05\n",
      "Validation Loss: 0.06745583564043045\n"
     ]
    },
    {
     "name": "stderr",
     "output_type": "stream",
     "text": [
      "100%|███████████████████████████████████████████████████████████████████████████████████████████████████████████████████████████████████████████| 5/5 [00:04<00:00,  1.12it/s]\n"
     ]
    },
    {
     "name": "stdout",
     "output_type": "stream",
     "text": [
      "Lr: 0.001 Wds: 0.0005\n",
      "Validation Loss: 0.0738258957862854\n"
     ]
    },
    {
     "name": "stderr",
     "output_type": "stream",
     "text": [
      "100%|███████████████████████████████████████████████████████████████████████████████████████████████████████████████████████████████████████████| 5/5 [00:04<00:00,  1.12it/s]\n"
     ]
    },
    {
     "name": "stdout",
     "output_type": "stream",
     "text": [
      "Lr: 0.001 Wds: 0.0001\n",
      "Validation Loss: 0.10967636108398438\n"
     ]
    },
    {
     "name": "stderr",
     "output_type": "stream",
     "text": [
      "100%|███████████████████████████████████████████████████████████████████████████████████████████████████████████████████████████████████████████| 5/5 [00:04<00:00,  1.12it/s]\n"
     ]
    },
    {
     "name": "stdout",
     "output_type": "stream",
     "text": [
      "Lr: 0.001 Wds: 0.005\n",
      "Validation Loss: 0.07720072567462921\n"
     ]
    },
    {
     "name": "stderr",
     "output_type": "stream",
     "text": [
      "100%|███████████████████████████████████████████████████████████████████████████████████████████████████████████████████████████████████████████| 5/5 [00:04<00:00,  1.13it/s]\n"
     ]
    },
    {
     "name": "stdout",
     "output_type": "stream",
     "text": [
      "Lr: 0.001 Wds: 0.001\n",
      "Validation Loss: 0.0741647258400917\n"
     ]
    },
    {
     "name": "stderr",
     "output_type": "stream",
     "text": [
      "100%|███████████████████████████████████████████████████████████████████████████████████████████████████████████████████████████████████████████| 5/5 [00:04<00:00,  1.11it/s]\n"
     ]
    },
    {
     "name": "stdout",
     "output_type": "stream",
     "text": [
      "Lr: 0.001 Wds: 0.05\n",
      "Validation Loss: 0.11227049678564072\n"
     ]
    },
    {
     "name": "stderr",
     "output_type": "stream",
     "text": [
      "100%|███████████████████████████████████████████████████████████████████████████████████████████████████████████████████████████████████████████| 5/5 [00:04<00:00,  1.12it/s]\n"
     ]
    },
    {
     "name": "stdout",
     "output_type": "stream",
     "text": [
      "Lr: 0.005 Wds: 1e-05\n",
      "Validation Loss: 0.1693468987941742\n"
     ]
    },
    {
     "name": "stderr",
     "output_type": "stream",
     "text": [
      "100%|███████████████████████████████████████████████████████████████████████████████████████████████████████████████████████████████████████████| 5/5 [00:04<00:00,  1.14it/s]\n"
     ]
    },
    {
     "name": "stdout",
     "output_type": "stream",
     "text": [
      "Lr: 0.005 Wds: 0.0005\n",
      "Validation Loss: 0.10986537486314774\n"
     ]
    },
    {
     "name": "stderr",
     "output_type": "stream",
     "text": [
      "100%|███████████████████████████████████████████████████████████████████████████████████████████████████████████████████████████████████████████| 5/5 [00:04<00:00,  1.10it/s]\n"
     ]
    },
    {
     "name": "stdout",
     "output_type": "stream",
     "text": [
      "Lr: 0.005 Wds: 0.0001\n",
      "Validation Loss: 0.0893714502453804\n"
     ]
    },
    {
     "name": "stderr",
     "output_type": "stream",
     "text": [
      "100%|███████████████████████████████████████████████████████████████████████████████████████████████████████████████████████████████████████████| 5/5 [00:04<00:00,  1.11it/s]\n"
     ]
    },
    {
     "name": "stdout",
     "output_type": "stream",
     "text": [
      "Lr: 0.005 Wds: 0.005\n",
      "Validation Loss: 0.08989613503217697\n"
     ]
    },
    {
     "name": "stderr",
     "output_type": "stream",
     "text": [
      "100%|███████████████████████████████████████████████████████████████████████████████████████████████████████████████████████████████████████████| 5/5 [00:04<00:00,  1.15it/s]\n"
     ]
    },
    {
     "name": "stdout",
     "output_type": "stream",
     "text": [
      "Lr: 0.005 Wds: 0.001\n",
      "Validation Loss: 0.0943656712770462\n"
     ]
    },
    {
     "name": "stderr",
     "output_type": "stream",
     "text": [
      "100%|███████████████████████████████████████████████████████████████████████████████████████████████████████████████████████████████████████████| 5/5 [00:04<00:00,  1.14it/s]\n"
     ]
    },
    {
     "name": "stdout",
     "output_type": "stream",
     "text": [
      "Lr: 0.005 Wds: 0.05\n",
      "Validation Loss: 0.118289053440094\n"
     ]
    },
    {
     "name": "stderr",
     "output_type": "stream",
     "text": [
      "100%|███████████████████████████████████████████████████████████████████████████████████████████████████████████████████████████████████████████| 5/5 [00:04<00:00,  1.12it/s]\n"
     ]
    },
    {
     "name": "stdout",
     "output_type": "stream",
     "text": [
      "Lr: 0.0001 Wds: 1e-05\n",
      "Validation Loss: 0.1157071515917778\n"
     ]
    },
    {
     "name": "stderr",
     "output_type": "stream",
     "text": [
      "100%|███████████████████████████████████████████████████████████████████████████████████████████████████████████████████████████████████████████| 5/5 [00:04<00:00,  1.11it/s]\n"
     ]
    },
    {
     "name": "stdout",
     "output_type": "stream",
     "text": [
      "Lr: 0.0001 Wds: 0.0005\n",
      "Validation Loss: 0.12048596143722534\n"
     ]
    },
    {
     "name": "stderr",
     "output_type": "stream",
     "text": [
      "100%|███████████████████████████████████████████████████████████████████████████████████████████████████████████████████████████████████████████| 5/5 [00:04<00:00,  1.09it/s]\n"
     ]
    },
    {
     "name": "stdout",
     "output_type": "stream",
     "text": [
      "Lr: 0.0001 Wds: 0.0001\n",
      "Validation Loss: 0.123705193400383\n"
     ]
    },
    {
     "name": "stderr",
     "output_type": "stream",
     "text": [
      "100%|███████████████████████████████████████████████████████████████████████████████████████████████████████████████████████████████████████████| 5/5 [00:04<00:00,  1.12it/s]\n"
     ]
    },
    {
     "name": "stdout",
     "output_type": "stream",
     "text": [
      "Lr: 0.0001 Wds: 0.005\n",
      "Validation Loss: 0.10934285819530487\n"
     ]
    },
    {
     "name": "stderr",
     "output_type": "stream",
     "text": [
      "100%|███████████████████████████████████████████████████████████████████████████████████████████████████████████████████████████████████████████| 5/5 [00:04<00:00,  1.10it/s]\n"
     ]
    },
    {
     "name": "stdout",
     "output_type": "stream",
     "text": [
      "Lr: 0.0001 Wds: 0.001\n",
      "Validation Loss: 0.11632122099399567\n"
     ]
    },
    {
     "name": "stderr",
     "output_type": "stream",
     "text": [
      "100%|███████████████████████████████████████████████████████████████████████████████████████████████████████████████████████████████████████████| 5/5 [00:04<00:00,  1.11it/s]\n"
     ]
    },
    {
     "name": "stdout",
     "output_type": "stream",
     "text": [
      "Lr: 0.0001 Wds: 0.05\n",
      "Validation Loss: 0.9430018067359924\n"
     ]
    },
    {
     "name": "stderr",
     "output_type": "stream",
     "text": [
      "100%|███████████████████████████████████████████████████████████████████████████████████████████████████████████████████████████████████████████| 5/5 [00:04<00:00,  1.11it/s]\n"
     ]
    },
    {
     "name": "stdout",
     "output_type": "stream",
     "text": [
      "Lr: 0.0005 Wds: 1e-05\n",
      "Validation Loss: 0.06811020523309708\n"
     ]
    },
    {
     "name": "stderr",
     "output_type": "stream",
     "text": [
      "100%|███████████████████████████████████████████████████████████████████████████████████████████████████████████████████████████████████████████| 5/5 [00:04<00:00,  1.13it/s]\n"
     ]
    },
    {
     "name": "stdout",
     "output_type": "stream",
     "text": [
      "Lr: 0.0005 Wds: 0.0005\n",
      "Validation Loss: 0.07549962401390076\n"
     ]
    },
    {
     "name": "stderr",
     "output_type": "stream",
     "text": [
      "100%|███████████████████████████████████████████████████████████████████████████████████████████████████████████████████████████████████████████| 5/5 [00:04<00:00,  1.12it/s]\n"
     ]
    },
    {
     "name": "stdout",
     "output_type": "stream",
     "text": [
      "Lr: 0.0005 Wds: 0.0001\n",
      "Validation Loss: 0.07706318795681\n"
     ]
    },
    {
     "name": "stderr",
     "output_type": "stream",
     "text": [
      "100%|███████████████████████████████████████████████████████████████████████████████████████████████████████████████████████████████████████████| 5/5 [00:04<00:00,  1.19it/s]\n"
     ]
    },
    {
     "name": "stdout",
     "output_type": "stream",
     "text": [
      "Lr: 0.0005 Wds: 0.005\n",
      "Validation Loss: 0.08103660494089127\n"
     ]
    },
    {
     "name": "stderr",
     "output_type": "stream",
     "text": [
      "100%|███████████████████████████████████████████████████████████████████████████████████████████████████████████████████████████████████████████| 5/5 [00:04<00:00,  1.24it/s]\n"
     ]
    },
    {
     "name": "stdout",
     "output_type": "stream",
     "text": [
      "Lr: 0.0005 Wds: 0.001\n",
      "Validation Loss: 0.08198494464159012\n"
     ]
    },
    {
     "name": "stderr",
     "output_type": "stream",
     "text": [
      "100%|███████████████████████████████████████████████████████████████████████████████████████████████████████████████████████████████████████████| 5/5 [00:04<00:00,  1.21it/s]\n"
     ]
    },
    {
     "name": "stdout",
     "output_type": "stream",
     "text": [
      "Lr: 0.0005 Wds: 0.05\n",
      "Validation Loss: 0.10861330479383469\n"
     ]
    },
    {
     "name": "stderr",
     "output_type": "stream",
     "text": [
      "100%|███████████████████████████████████████████████████████████████████████████████████████████████████████████████████████████████████████████| 5/5 [00:04<00:00,  1.21it/s]\n"
     ]
    },
    {
     "name": "stdout",
     "output_type": "stream",
     "text": [
      "Lr: 1e-05 Wds: 1e-05\n",
      "Validation Loss: 1.6882281303405762\n"
     ]
    },
    {
     "name": "stderr",
     "output_type": "stream",
     "text": [
      "100%|███████████████████████████████████████████████████████████████████████████████████████████████████████████████████████████████████████████| 5/5 [00:04<00:00,  1.13it/s]\n"
     ]
    },
    {
     "name": "stdout",
     "output_type": "stream",
     "text": [
      "Lr: 1e-05 Wds: 0.0005\n",
      "Validation Loss: 0.6920297145843506\n"
     ]
    },
    {
     "name": "stderr",
     "output_type": "stream",
     "text": [
      "100%|███████████████████████████████████████████████████████████████████████████████████████████████████████████████████████████████████████████| 5/5 [00:04<00:00,  1.12it/s]\n"
     ]
    },
    {
     "name": "stdout",
     "output_type": "stream",
     "text": [
      "Lr: 1e-05 Wds: 0.0001\n",
      "Validation Loss: 0.6515264511108398\n"
     ]
    },
    {
     "name": "stderr",
     "output_type": "stream",
     "text": [
      "100%|███████████████████████████████████████████████████████████████████████████████████████████████████████████████████████████████████████████| 5/5 [00:04<00:00,  1.11it/s]\n"
     ]
    },
    {
     "name": "stdout",
     "output_type": "stream",
     "text": [
      "Lr: 1e-05 Wds: 0.005\n",
      "Validation Loss: 1.1311556100845337\n"
     ]
    },
    {
     "name": "stderr",
     "output_type": "stream",
     "text": [
      "100%|███████████████████████████████████████████████████████████████████████████████████████████████████████████████████████████████████████████| 5/5 [00:04<00:00,  1.14it/s]\n"
     ]
    },
    {
     "name": "stdout",
     "output_type": "stream",
     "text": [
      "Lr: 1e-05 Wds: 0.001\n",
      "Validation Loss: 1.149779200553894\n"
     ]
    },
    {
     "name": "stderr",
     "output_type": "stream",
     "text": [
      "100%|███████████████████████████████████████████████████████████████████████████████████████████████████████████████████████████████████████████| 5/5 [00:04<00:00,  1.12it/s]\n"
     ]
    },
    {
     "name": "stdout",
     "output_type": "stream",
     "text": [
      "Lr: 1e-05 Wds: 0.05\n",
      "Validation Loss: 0.7483593821525574\n"
     ]
    },
    {
     "name": "stderr",
     "output_type": "stream",
     "text": [
      "100%|███████████████████████████████████████████████████████████████████████████████████████████████████████████████████████████████████████████| 5/5 [00:04<00:00,  1.14it/s]\n"
     ]
    },
    {
     "name": "stdout",
     "output_type": "stream",
     "text": [
      "Lr: 5e-05 Wds: 1e-05\n",
      "Validation Loss: 0.260634183883667\n"
     ]
    },
    {
     "name": "stderr",
     "output_type": "stream",
     "text": [
      "100%|███████████████████████████████████████████████████████████████████████████████████████████████████████████████████████████████████████████| 5/5 [00:04<00:00,  1.13it/s]\n"
     ]
    },
    {
     "name": "stdout",
     "output_type": "stream",
     "text": [
      "Lr: 5e-05 Wds: 0.0005\n",
      "Validation Loss: 0.23279127478599548\n"
     ]
    },
    {
     "name": "stderr",
     "output_type": "stream",
     "text": [
      "100%|███████████████████████████████████████████████████████████████████████████████████████████████████████████████████████████████████████████| 5/5 [00:04<00:00,  1.14it/s]\n"
     ]
    },
    {
     "name": "stdout",
     "output_type": "stream",
     "text": [
      "Lr: 5e-05 Wds: 0.0001\n",
      "Validation Loss: 0.12064840644598007\n"
     ]
    },
    {
     "name": "stderr",
     "output_type": "stream",
     "text": [
      "100%|███████████████████████████████████████████████████████████████████████████████████████████████████████████████████████████████████████████| 5/5 [00:04<00:00,  1.13it/s]\n"
     ]
    },
    {
     "name": "stdout",
     "output_type": "stream",
     "text": [
      "Lr: 5e-05 Wds: 0.005\n",
      "Validation Loss: 0.1372983455657959\n"
     ]
    },
    {
     "name": "stderr",
     "output_type": "stream",
     "text": [
      "100%|███████████████████████████████████████████████████████████████████████████████████████████████████████████████████████████████████████████| 5/5 [00:04<00:00,  1.12it/s]\n"
     ]
    },
    {
     "name": "stdout",
     "output_type": "stream",
     "text": [
      "Lr: 5e-05 Wds: 0.001\n",
      "Validation Loss: 0.25450143218040466\n"
     ]
    },
    {
     "name": "stderr",
     "output_type": "stream",
     "text": [
      "100%|███████████████████████████████████████████████████████████████████████████████████████████████████████████████████████████████████████████| 5/5 [00:04<00:00,  1.13it/s]\n"
     ]
    },
    {
     "name": "stdout",
     "output_type": "stream",
     "text": [
      "Lr: 5e-05 Wds: 0.05\n",
      "Validation Loss: 0.17455631494522095\n"
     ]
    },
    {
     "name": "stderr",
     "output_type": "stream",
     "text": [
      "100%|███████████████████████████████████████████████████████████████████████████████████████████████████████████████████████████████████████████| 5/5 [00:04<00:00,  1.14it/s]\n"
     ]
    },
    {
     "name": "stdout",
     "output_type": "stream",
     "text": [
      "Lr: 0.01 Wds: 1e-05\n",
      "Validation Loss: 0.14342258870601654\n"
     ]
    },
    {
     "name": "stderr",
     "output_type": "stream",
     "text": [
      "100%|███████████████████████████████████████████████████████████████████████████████████████████████████████████████████████████████████████████| 5/5 [00:04<00:00,  1.12it/s]\n"
     ]
    },
    {
     "name": "stdout",
     "output_type": "stream",
     "text": [
      "Lr: 0.01 Wds: 0.0005\n",
      "Validation Loss: 0.09747374802827835\n"
     ]
    },
    {
     "name": "stderr",
     "output_type": "stream",
     "text": [
      "100%|███████████████████████████████████████████████████████████████████████████████████████████████████████████████████████████████████████████| 5/5 [00:04<00:00,  1.13it/s]\n"
     ]
    },
    {
     "name": "stdout",
     "output_type": "stream",
     "text": [
      "Lr: 0.01 Wds: 0.0001\n",
      "Validation Loss: 0.11278532445430756\n"
     ]
    },
    {
     "name": "stderr",
     "output_type": "stream",
     "text": [
      "100%|███████████████████████████████████████████████████████████████████████████████████████████████████████████████████████████████████████████| 5/5 [00:04<00:00,  1.12it/s]\n"
     ]
    },
    {
     "name": "stdout",
     "output_type": "stream",
     "text": [
      "Lr: 0.01 Wds: 0.005\n",
      "Validation Loss: 0.09147527813911438\n"
     ]
    },
    {
     "name": "stderr",
     "output_type": "stream",
     "text": [
      "100%|███████████████████████████████████████████████████████████████████████████████████████████████████████████████████████████████████████████| 5/5 [00:04<00:00,  1.13it/s]\n"
     ]
    },
    {
     "name": "stdout",
     "output_type": "stream",
     "text": [
      "Lr: 0.01 Wds: 0.001\n",
      "Validation Loss: 0.09357143193483353\n"
     ]
    },
    {
     "name": "stderr",
     "output_type": "stream",
     "text": [
      "100%|███████████████████████████████████████████████████████████████████████████████████████████████████████████████████████████████████████████| 5/5 [00:04<00:00,  1.16it/s]\n"
     ]
    },
    {
     "name": "stdout",
     "output_type": "stream",
     "text": [
      "Lr: 0.01 Wds: 0.05\n",
      "Validation Loss: 0.11941301822662354\n"
     ]
    },
    {
     "name": "stderr",
     "output_type": "stream",
     "text": [
      "100%|███████████████████████████████████████████████████████████████████████████████████████████████████████████████████████████████████████████| 5/5 [00:04<00:00,  1.12it/s]\n"
     ]
    },
    {
     "name": "stdout",
     "output_type": "stream",
     "text": [
      "Lr: 0.05 Wds: 1e-05\n",
      "Validation Loss: 0.14070969820022583\n"
     ]
    },
    {
     "name": "stderr",
     "output_type": "stream",
     "text": [
      "100%|███████████████████████████████████████████████████████████████████████████████████████████████████████████████████████████████████████████| 5/5 [00:04<00:00,  1.13it/s]\n"
     ]
    },
    {
     "name": "stdout",
     "output_type": "stream",
     "text": [
      "Lr: 0.05 Wds: 0.0005\n",
      "Validation Loss: 0.09066931158304214\n"
     ]
    },
    {
     "name": "stderr",
     "output_type": "stream",
     "text": [
      "100%|███████████████████████████████████████████████████████████████████████████████████████████████████████████████████████████████████████████| 5/5 [00:04<00:00,  1.14it/s]\n"
     ]
    },
    {
     "name": "stdout",
     "output_type": "stream",
     "text": [
      "Lr: 0.05 Wds: 0.0001\n",
      "Validation Loss: 0.10823001712560654\n"
     ]
    },
    {
     "name": "stderr",
     "output_type": "stream",
     "text": [
      "100%|███████████████████████████████████████████████████████████████████████████████████████████████████████████████████████████████████████████| 5/5 [00:04<00:00,  1.11it/s]\n"
     ]
    },
    {
     "name": "stdout",
     "output_type": "stream",
     "text": [
      "Lr: 0.05 Wds: 0.005\n",
      "Validation Loss: 0.0881926640868187\n"
     ]
    },
    {
     "name": "stderr",
     "output_type": "stream",
     "text": [
      "100%|███████████████████████████████████████████████████████████████████████████████████████████████████████████████████████████████████████████| 5/5 [00:04<00:00,  1.11it/s]\n"
     ]
    },
    {
     "name": "stdout",
     "output_type": "stream",
     "text": [
      "Lr: 0.05 Wds: 0.001\n",
      "Validation Loss: 0.0843072459101677\n"
     ]
    },
    {
     "name": "stderr",
     "output_type": "stream",
     "text": [
      "100%|███████████████████████████████████████████████████████████████████████████████████████████████████████████████████████████████████████████| 5/5 [00:04<00:00,  1.11it/s]"
     ]
    },
    {
     "name": "stdout",
     "output_type": "stream",
     "text": [
      "Lr: 0.05 Wds: 0.05\n",
      "Validation Loss: 0.11807060986757278\n",
      "Best LR: 0.001 Best WD: 1e-05\n"
     ]
    },
    {
     "name": "stderr",
     "output_type": "stream",
     "text": [
      "\n"
     ]
    }
   ],
   "source": [
    "lrs = [1e-3, 5e-3, 1e-4, 5e-4, 1e-5, 5e-5, 1e-2, 5e-2]\n",
    "wds = [1e-5, 5e-4, 1e-4, 5e-3, 1e-3, 5e-2]\n",
    "\n",
    "hyp_losses = np.zeros((len(lrs), len(wds)))\n",
    "\n",
    "for i in range(len(lrs)):\n",
    "    for j in range(len(wds)):\n",
    "        model = net(val_inputs.shape[1], [32, 32, 32, 8], 1).to(device)\n",
    "        model, train_losses, val_losses = train_net(model, norm_train_dataloader, val_inputs, val_targets, device, epochs = 5, lr = lrs[i], wd = wds[j])\n",
    "        hyp_losses[i, j] += eval_net(model, norm_val_inputs, val_targets, device)\n",
    "        print(f\"Lr: {lrs[i]} Wds: {wds[j]}\")\n",
    "        print(f\"Validation Loss: {hyp_losses[i,j]}\")\n",
    "        \n",
    "best_lr, best_wd = np.unravel_index(np.argmin(hyp_losses), hyp_losses.shape)\n",
    "print(f\"Best LR: {lrs[best_lr]} Best WD: {wds[best_wd]}\")"
   ]
  },
  {
   "cell_type": "code",
   "execution_count": 24,
   "id": "e5d9131b-ddd2-4348-b786-77f2afc71a09",
   "metadata": {},
   "outputs": [
    {
     "name": "stderr",
     "output_type": "stream",
     "text": [
      "100%|█████████████████████████████████████████████████████████████████████████████████████████████████████████████████████████████████████████| 10/10 [00:08<00:00,  1.12it/s]"
     ]
    },
    {
     "name": "stdout",
     "output_type": "stream",
     "text": [
      "tensor(0.0594)\n"
     ]
    },
    {
     "name": "stderr",
     "output_type": "stream",
     "text": [
      "\n"
     ]
    }
   ],
   "source": [
    "model = net(val_inputs.shape[1], [32, 32, 32, 8], 1).to(device)\n",
    "model, train_losses, val_losses = train_net(model, norm_train_dataloader, val_inputs, val_targets, device, lr = lrs[best_lr], wd = wds[best_wd])\n",
    "test_loss_mlp = eval_net(model, norm_tst_inputs, tst_targets, device)\n",
    "print(test_loss_mlp)"
   ]
  },
  {
   "cell_type": "markdown",
   "id": "607bfe6c-1880-46db-be7e-c69cdbdaa537",
   "metadata": {},
   "source": [
    "## 9) SiFer Margin Forgetting Model"
   ]
  },
  {
   "cell_type": "code",
   "execution_count": 25,
   "id": "1e10e557-b792-48d2-9170-b804fedfd4ce",
   "metadata": {
    "scrolled": true
   },
   "outputs": [
    {
     "name": "stderr",
     "output_type": "stream",
     "text": [
      "100%|███████████████████████████████████████████████████████████████████████████████████████████████████████████████████████████████████████████| 5/5 [00:13<00:00,  2.66s/it]\n"
     ]
    },
    {
     "name": "stdout",
     "output_type": "stream",
     "text": [
      "[1 / 108] Margin: 0.005 Forget Lr: 0.0005 Forget Iter: 2\n",
      "0.08746475726366043\n"
     ]
    },
    {
     "name": "stderr",
     "output_type": "stream",
     "text": [
      "100%|███████████████████████████████████████████████████████████████████████████████████████████████████████████████████████████████████████████| 5/5 [00:11<00:00,  2.26s/it]\n"
     ]
    },
    {
     "name": "stdout",
     "output_type": "stream",
     "text": [
      "[2 / 108] Margin: 0.005 Forget Lr: 0.0005 Forget Iter: 5\n",
      "0.07088044285774231\n"
     ]
    },
    {
     "name": "stderr",
     "output_type": "stream",
     "text": [
      "100%|███████████████████████████████████████████████████████████████████████████████████████████████████████████████████████████████████████████| 5/5 [00:12<00:00,  2.49s/it]\n"
     ]
    },
    {
     "name": "stdout",
     "output_type": "stream",
     "text": [
      "[3 / 108] Margin: 0.005 Forget Lr: 0.0001 Forget Iter: 2\n",
      "0.07972752302885056\n"
     ]
    },
    {
     "name": "stderr",
     "output_type": "stream",
     "text": [
      "100%|███████████████████████████████████████████████████████████████████████████████████████████████████████████████████████████████████████████| 5/5 [00:11<00:00,  2.26s/it]\n"
     ]
    },
    {
     "name": "stdout",
     "output_type": "stream",
     "text": [
      "[4 / 108] Margin: 0.005 Forget Lr: 0.0001 Forget Iter: 5\n",
      "0.08810888975858688\n"
     ]
    },
    {
     "name": "stderr",
     "output_type": "stream",
     "text": [
      "100%|███████████████████████████████████████████████████████████████████████████████████████████████████████████████████████████████████████████| 5/5 [00:12<00:00,  2.52s/it]\n"
     ]
    },
    {
     "name": "stdout",
     "output_type": "stream",
     "text": [
      "[5 / 108] Margin: 0.005 Forget Lr: 0.005 Forget Iter: 2\n",
      "0.09675692766904831\n"
     ]
    },
    {
     "name": "stderr",
     "output_type": "stream",
     "text": [
      "100%|███████████████████████████████████████████████████████████████████████████████████████████████████████████████████████████████████████████| 5/5 [00:11<00:00,  2.24s/it]\n"
     ]
    },
    {
     "name": "stdout",
     "output_type": "stream",
     "text": [
      "[6 / 108] Margin: 0.005 Forget Lr: 0.005 Forget Iter: 5\n",
      "0.07594278454780579\n"
     ]
    },
    {
     "name": "stderr",
     "output_type": "stream",
     "text": [
      "100%|███████████████████████████████████████████████████████████████████████████████████████████████████████████████████████████████████████████| 5/5 [00:12<00:00,  2.54s/it]\n"
     ]
    },
    {
     "name": "stdout",
     "output_type": "stream",
     "text": [
      "[7 / 108] Margin: 0.005 Forget Lr: 0.001 Forget Iter: 2\n",
      "0.0751921758055687\n"
     ]
    },
    {
     "name": "stderr",
     "output_type": "stream",
     "text": [
      "100%|███████████████████████████████████████████████████████████████████████████████████████████████████████████████████████████████████████████| 5/5 [00:11<00:00,  2.24s/it]\n"
     ]
    },
    {
     "name": "stdout",
     "output_type": "stream",
     "text": [
      "[8 / 108] Margin: 0.005 Forget Lr: 0.001 Forget Iter: 5\n",
      "0.14026154577732086\n"
     ]
    },
    {
     "name": "stderr",
     "output_type": "stream",
     "text": [
      "100%|███████████████████████████████████████████████████████████████████████████████████████████████████████████████████████████████████████████| 5/5 [00:12<00:00,  2.52s/it]\n"
     ]
    },
    {
     "name": "stdout",
     "output_type": "stream",
     "text": [
      "[9 / 108] Margin: 0.005 Forget Lr: 0.05 Forget Iter: 2\n",
      "0.11163625866174698\n"
     ]
    },
    {
     "name": "stderr",
     "output_type": "stream",
     "text": [
      "100%|███████████████████████████████████████████████████████████████████████████████████████████████████████████████████████████████████████████| 5/5 [00:11<00:00,  2.21s/it]\n"
     ]
    },
    {
     "name": "stdout",
     "output_type": "stream",
     "text": [
      "[10 / 108] Margin: 0.005 Forget Lr: 0.05 Forget Iter: 5\n",
      "0.07546985149383545\n"
     ]
    },
    {
     "name": "stderr",
     "output_type": "stream",
     "text": [
      "100%|███████████████████████████████████████████████████████████████████████████████████████████████████████████████████████████████████████████| 5/5 [00:12<00:00,  2.47s/it]\n"
     ]
    },
    {
     "name": "stdout",
     "output_type": "stream",
     "text": [
      "[11 / 108] Margin: 0.005 Forget Lr: 0.01 Forget Iter: 2\n",
      "0.07279154658317566\n"
     ]
    },
    {
     "name": "stderr",
     "output_type": "stream",
     "text": [
      "100%|███████████████████████████████████████████████████████████████████████████████████████████████████████████████████████████████████████████| 5/5 [00:11<00:00,  2.24s/it]\n"
     ]
    },
    {
     "name": "stdout",
     "output_type": "stream",
     "text": [
      "[12 / 108] Margin: 0.005 Forget Lr: 0.01 Forget Iter: 5\n",
      "0.07569645345211029\n"
     ]
    },
    {
     "name": "stderr",
     "output_type": "stream",
     "text": [
      "100%|███████████████████████████████████████████████████████████████████████████████████████████████████████████████████████████████████████████| 5/5 [00:12<00:00,  2.49s/it]\n"
     ]
    },
    {
     "name": "stdout",
     "output_type": "stream",
     "text": [
      "[13 / 108] Margin: 0.001 Forget Lr: 0.0005 Forget Iter: 2\n",
      "0.07390769571065903\n"
     ]
    },
    {
     "name": "stderr",
     "output_type": "stream",
     "text": [
      "100%|███████████████████████████████████████████████████████████████████████████████████████████████████████████████████████████████████████████| 5/5 [00:11<00:00,  2.25s/it]\n"
     ]
    },
    {
     "name": "stdout",
     "output_type": "stream",
     "text": [
      "[14 / 108] Margin: 0.001 Forget Lr: 0.0005 Forget Iter: 5\n",
      "0.08120942115783691\n"
     ]
    },
    {
     "name": "stderr",
     "output_type": "stream",
     "text": [
      "100%|███████████████████████████████████████████████████████████████████████████████████████████████████████████████████████████████████████████| 5/5 [00:11<00:00,  2.32s/it]\n"
     ]
    },
    {
     "name": "stdout",
     "output_type": "stream",
     "text": [
      "[15 / 108] Margin: 0.001 Forget Lr: 0.0001 Forget Iter: 2\n",
      "0.08226755261421204\n"
     ]
    },
    {
     "name": "stderr",
     "output_type": "stream",
     "text": [
      "100%|███████████████████████████████████████████████████████████████████████████████████████████████████████████████████████████████████████████| 5/5 [00:10<00:00,  2.18s/it]\n"
     ]
    },
    {
     "name": "stdout",
     "output_type": "stream",
     "text": [
      "[16 / 108] Margin: 0.001 Forget Lr: 0.0001 Forget Iter: 5\n",
      "0.08018630743026733\n"
     ]
    },
    {
     "name": "stderr",
     "output_type": "stream",
     "text": [
      "100%|███████████████████████████████████████████████████████████████████████████████████████████████████████████████████████████████████████████| 5/5 [00:12<00:00,  2.53s/it]\n"
     ]
    },
    {
     "name": "stdout",
     "output_type": "stream",
     "text": [
      "[17 / 108] Margin: 0.001 Forget Lr: 0.005 Forget Iter: 2\n",
      "0.11470821499824524\n"
     ]
    },
    {
     "name": "stderr",
     "output_type": "stream",
     "text": [
      "100%|███████████████████████████████████████████████████████████████████████████████████████████████████████████████████████████████████████████| 5/5 [00:11<00:00,  2.25s/it]\n"
     ]
    },
    {
     "name": "stdout",
     "output_type": "stream",
     "text": [
      "[18 / 108] Margin: 0.001 Forget Lr: 0.005 Forget Iter: 5\n",
      "0.07921654731035233\n"
     ]
    },
    {
     "name": "stderr",
     "output_type": "stream",
     "text": [
      "100%|███████████████████████████████████████████████████████████████████████████████████████████████████████████████████████████████████████████| 5/5 [00:12<00:00,  2.53s/it]\n"
     ]
    },
    {
     "name": "stdout",
     "output_type": "stream",
     "text": [
      "[19 / 108] Margin: 0.001 Forget Lr: 0.001 Forget Iter: 2\n",
      "0.09309030324220657\n"
     ]
    },
    {
     "name": "stderr",
     "output_type": "stream",
     "text": [
      "100%|███████████████████████████████████████████████████████████████████████████████████████████████████████████████████████████████████████████| 5/5 [00:11<00:00,  2.21s/it]\n"
     ]
    },
    {
     "name": "stdout",
     "output_type": "stream",
     "text": [
      "[20 / 108] Margin: 0.001 Forget Lr: 0.001 Forget Iter: 5\n",
      "0.07943937182426453\n"
     ]
    },
    {
     "name": "stderr",
     "output_type": "stream",
     "text": [
      "100%|███████████████████████████████████████████████████████████████████████████████████████████████████████████████████████████████████████████| 5/5 [00:12<00:00,  2.54s/it]\n"
     ]
    },
    {
     "name": "stdout",
     "output_type": "stream",
     "text": [
      "[21 / 108] Margin: 0.001 Forget Lr: 0.05 Forget Iter: 2\n",
      "0.10233398526906967\n"
     ]
    },
    {
     "name": "stderr",
     "output_type": "stream",
     "text": [
      "100%|███████████████████████████████████████████████████████████████████████████████████████████████████████████████████████████████████████████| 5/5 [00:11<00:00,  2.25s/it]\n"
     ]
    },
    {
     "name": "stdout",
     "output_type": "stream",
     "text": [
      "[22 / 108] Margin: 0.001 Forget Lr: 0.05 Forget Iter: 5\n",
      "0.07929756492376328\n"
     ]
    },
    {
     "name": "stderr",
     "output_type": "stream",
     "text": [
      "100%|███████████████████████████████████████████████████████████████████████████████████████████████████████████████████████████████████████████| 5/5 [00:12<00:00,  2.50s/it]\n"
     ]
    },
    {
     "name": "stdout",
     "output_type": "stream",
     "text": [
      "[23 / 108] Margin: 0.001 Forget Lr: 0.01 Forget Iter: 2\n",
      "0.06740880757570267\n"
     ]
    },
    {
     "name": "stderr",
     "output_type": "stream",
     "text": [
      "100%|███████████████████████████████████████████████████████████████████████████████████████████████████████████████████████████████████████████| 5/5 [00:11<00:00,  2.24s/it]\n"
     ]
    },
    {
     "name": "stdout",
     "output_type": "stream",
     "text": [
      "[24 / 108] Margin: 0.001 Forget Lr: 0.01 Forget Iter: 5\n",
      "0.0658932775259018\n"
     ]
    },
    {
     "name": "stderr",
     "output_type": "stream",
     "text": [
      "100%|███████████████████████████████████████████████████████████████████████████████████████████████████████████████████████████████████████████| 5/5 [00:12<00:00,  2.54s/it]\n"
     ]
    },
    {
     "name": "stdout",
     "output_type": "stream",
     "text": [
      "[25 / 108] Margin: 0.05 Forget Lr: 0.0005 Forget Iter: 2\n",
      "0.0752296894788742\n"
     ]
    },
    {
     "name": "stderr",
     "output_type": "stream",
     "text": [
      "100%|███████████████████████████████████████████████████████████████████████████████████████████████████████████████████████████████████████████| 5/5 [00:11<00:00,  2.27s/it]\n"
     ]
    },
    {
     "name": "stdout",
     "output_type": "stream",
     "text": [
      "[26 / 108] Margin: 0.05 Forget Lr: 0.0005 Forget Iter: 5\n",
      "0.07942397892475128\n"
     ]
    },
    {
     "name": "stderr",
     "output_type": "stream",
     "text": [
      "100%|███████████████████████████████████████████████████████████████████████████████████████████████████████████████████████████████████████████| 5/5 [00:12<00:00,  2.51s/it]\n"
     ]
    },
    {
     "name": "stdout",
     "output_type": "stream",
     "text": [
      "[27 / 108] Margin: 0.05 Forget Lr: 0.0001 Forget Iter: 2\n",
      "0.08097773790359497\n"
     ]
    },
    {
     "name": "stderr",
     "output_type": "stream",
     "text": [
      "100%|███████████████████████████████████████████████████████████████████████████████████████████████████████████████████████████████████████████| 5/5 [00:11<00:00,  2.24s/it]\n"
     ]
    },
    {
     "name": "stdout",
     "output_type": "stream",
     "text": [
      "[28 / 108] Margin: 0.05 Forget Lr: 0.0001 Forget Iter: 5\n",
      "0.07909563183784485\n"
     ]
    },
    {
     "name": "stderr",
     "output_type": "stream",
     "text": [
      "100%|███████████████████████████████████████████████████████████████████████████████████████████████████████████████████████████████████████████| 5/5 [00:12<00:00,  2.53s/it]\n"
     ]
    },
    {
     "name": "stdout",
     "output_type": "stream",
     "text": [
      "[29 / 108] Margin: 0.05 Forget Lr: 0.005 Forget Iter: 2\n",
      "0.10589582473039627\n"
     ]
    },
    {
     "name": "stderr",
     "output_type": "stream",
     "text": [
      "100%|███████████████████████████████████████████████████████████████████████████████████████████████████████████████████████████████████████████| 5/5 [00:11<00:00,  2.22s/it]\n"
     ]
    },
    {
     "name": "stdout",
     "output_type": "stream",
     "text": [
      "[30 / 108] Margin: 0.05 Forget Lr: 0.005 Forget Iter: 5\n",
      "0.08519687503576279\n"
     ]
    },
    {
     "name": "stderr",
     "output_type": "stream",
     "text": [
      "100%|███████████████████████████████████████████████████████████████████████████████████████████████████████████████████████████████████████████| 5/5 [00:12<00:00,  2.50s/it]\n"
     ]
    },
    {
     "name": "stdout",
     "output_type": "stream",
     "text": [
      "[31 / 108] Margin: 0.05 Forget Lr: 0.001 Forget Iter: 2\n",
      "0.08135242760181427\n"
     ]
    },
    {
     "name": "stderr",
     "output_type": "stream",
     "text": [
      "100%|███████████████████████████████████████████████████████████████████████████████████████████████████████████████████████████████████████████| 5/5 [00:11<00:00,  2.24s/it]\n"
     ]
    },
    {
     "name": "stdout",
     "output_type": "stream",
     "text": [
      "[32 / 108] Margin: 0.05 Forget Lr: 0.001 Forget Iter: 5\n",
      "0.08305639773607254\n"
     ]
    },
    {
     "name": "stderr",
     "output_type": "stream",
     "text": [
      "100%|███████████████████████████████████████████████████████████████████████████████████████████████████████████████████████████████████████████| 5/5 [00:12<00:00,  2.60s/it]\n"
     ]
    },
    {
     "name": "stdout",
     "output_type": "stream",
     "text": [
      "[33 / 108] Margin: 0.05 Forget Lr: 0.05 Forget Iter: 2\n",
      "0.14759279787540436\n"
     ]
    },
    {
     "name": "stderr",
     "output_type": "stream",
     "text": [
      "100%|███████████████████████████████████████████████████████████████████████████████████████████████████████████████████████████████████████████| 5/5 [00:11<00:00,  2.25s/it]\n"
     ]
    },
    {
     "name": "stdout",
     "output_type": "stream",
     "text": [
      "[34 / 108] Margin: 0.05 Forget Lr: 0.05 Forget Iter: 5\n",
      "0.07723201811313629\n"
     ]
    },
    {
     "name": "stderr",
     "output_type": "stream",
     "text": [
      "100%|███████████████████████████████████████████████████████████████████████████████████████████████████████████████████████████████████████████| 5/5 [00:12<00:00,  2.50s/it]\n"
     ]
    },
    {
     "name": "stdout",
     "output_type": "stream",
     "text": [
      "[35 / 108] Margin: 0.05 Forget Lr: 0.01 Forget Iter: 2\n",
      "0.0731460228562355\n"
     ]
    },
    {
     "name": "stderr",
     "output_type": "stream",
     "text": [
      "100%|███████████████████████████████████████████████████████████████████████████████████████████████████████████████████████████████████████████| 5/5 [00:11<00:00,  2.25s/it]\n"
     ]
    },
    {
     "name": "stdout",
     "output_type": "stream",
     "text": [
      "[36 / 108] Margin: 0.05 Forget Lr: 0.01 Forget Iter: 5\n",
      "0.08559374511241913\n"
     ]
    },
    {
     "name": "stderr",
     "output_type": "stream",
     "text": [
      "100%|███████████████████████████████████████████████████████████████████████████████████████████████████████████████████████████████████████████| 5/5 [00:12<00:00,  2.48s/it]\n"
     ]
    },
    {
     "name": "stdout",
     "output_type": "stream",
     "text": [
      "[37 / 108] Margin: 0.01 Forget Lr: 0.0005 Forget Iter: 2\n",
      "0.0733218863606453\n"
     ]
    },
    {
     "name": "stderr",
     "output_type": "stream",
     "text": [
      "100%|███████████████████████████████████████████████████████████████████████████████████████████████████████████████████████████████████████████| 5/5 [00:11<00:00,  2.25s/it]\n"
     ]
    },
    {
     "name": "stdout",
     "output_type": "stream",
     "text": [
      "[38 / 108] Margin: 0.01 Forget Lr: 0.0005 Forget Iter: 5\n",
      "0.0781152993440628\n"
     ]
    },
    {
     "name": "stderr",
     "output_type": "stream",
     "text": [
      "100%|███████████████████████████████████████████████████████████████████████████████████████████████████████████████████████████████████████████| 5/5 [00:12<00:00,  2.46s/it]\n"
     ]
    },
    {
     "name": "stdout",
     "output_type": "stream",
     "text": [
      "[39 / 108] Margin: 0.01 Forget Lr: 0.0001 Forget Iter: 2\n",
      "0.07445327937602997\n"
     ]
    },
    {
     "name": "stderr",
     "output_type": "stream",
     "text": [
      "100%|███████████████████████████████████████████████████████████████████████████████████████████████████████████████████████████████████████████| 5/5 [00:10<00:00,  2.13s/it]\n"
     ]
    },
    {
     "name": "stdout",
     "output_type": "stream",
     "text": [
      "[40 / 108] Margin: 0.01 Forget Lr: 0.0001 Forget Iter: 5\n",
      "0.070119209587574\n"
     ]
    },
    {
     "name": "stderr",
     "output_type": "stream",
     "text": [
      "100%|███████████████████████████████████████████████████████████████████████████████████████████████████████████████████████████████████████████| 5/5 [00:12<00:00,  2.52s/it]\n"
     ]
    },
    {
     "name": "stdout",
     "output_type": "stream",
     "text": [
      "[41 / 108] Margin: 0.01 Forget Lr: 0.005 Forget Iter: 2\n",
      "0.07099969685077667\n"
     ]
    },
    {
     "name": "stderr",
     "output_type": "stream",
     "text": [
      "100%|███████████████████████████████████████████████████████████████████████████████████████████████████████████████████████████████████████████| 5/5 [00:11<00:00,  2.28s/it]\n"
     ]
    },
    {
     "name": "stdout",
     "output_type": "stream",
     "text": [
      "[42 / 108] Margin: 0.01 Forget Lr: 0.005 Forget Iter: 5\n",
      "0.07743121683597565\n"
     ]
    },
    {
     "name": "stderr",
     "output_type": "stream",
     "text": [
      "100%|███████████████████████████████████████████████████████████████████████████████████████████████████████████████████████████████████████████| 5/5 [00:12<00:00,  2.50s/it]\n"
     ]
    },
    {
     "name": "stdout",
     "output_type": "stream",
     "text": [
      "[43 / 108] Margin: 0.01 Forget Lr: 0.001 Forget Iter: 2\n",
      "0.08860952407121658\n"
     ]
    },
    {
     "name": "stderr",
     "output_type": "stream",
     "text": [
      "100%|███████████████████████████████████████████████████████████████████████████████████████████████████████████████████████████████████████████| 5/5 [00:11<00:00,  2.25s/it]\n"
     ]
    },
    {
     "name": "stdout",
     "output_type": "stream",
     "text": [
      "[44 / 108] Margin: 0.01 Forget Lr: 0.001 Forget Iter: 5\n",
      "0.061609238386154175\n"
     ]
    },
    {
     "name": "stderr",
     "output_type": "stream",
     "text": [
      "100%|███████████████████████████████████████████████████████████████████████████████████████████████████████████████████████████████████████████| 5/5 [00:12<00:00,  2.55s/it]\n"
     ]
    },
    {
     "name": "stdout",
     "output_type": "stream",
     "text": [
      "[45 / 108] Margin: 0.01 Forget Lr: 0.05 Forget Iter: 2\n",
      "0.07579444348812103\n"
     ]
    },
    {
     "name": "stderr",
     "output_type": "stream",
     "text": [
      "100%|███████████████████████████████████████████████████████████████████████████████████████████████████████████████████████████████████████████| 5/5 [00:11<00:00,  2.30s/it]\n"
     ]
    },
    {
     "name": "stdout",
     "output_type": "stream",
     "text": [
      "[46 / 108] Margin: 0.01 Forget Lr: 0.05 Forget Iter: 5\n",
      "0.07283416390419006\n"
     ]
    },
    {
     "name": "stderr",
     "output_type": "stream",
     "text": [
      "100%|███████████████████████████████████████████████████████████████████████████████████████████████████████████████████████████████████████████| 5/5 [00:12<00:00,  2.55s/it]\n"
     ]
    },
    {
     "name": "stdout",
     "output_type": "stream",
     "text": [
      "[47 / 108] Margin: 0.01 Forget Lr: 0.01 Forget Iter: 2\n",
      "0.07206473499536514\n"
     ]
    },
    {
     "name": "stderr",
     "output_type": "stream",
     "text": [
      "100%|███████████████████████████████████████████████████████████████████████████████████████████████████████████████████████████████████████████| 5/5 [00:11<00:00,  2.25s/it]\n"
     ]
    },
    {
     "name": "stdout",
     "output_type": "stream",
     "text": [
      "[48 / 108] Margin: 0.01 Forget Lr: 0.01 Forget Iter: 5\n",
      "0.0829831212759018\n"
     ]
    },
    {
     "name": "stderr",
     "output_type": "stream",
     "text": [
      "100%|███████████████████████████████████████████████████████████████████████████████████████████████████████████████████████████████████████████| 5/5 [00:12<00:00,  2.49s/it]\n"
     ]
    },
    {
     "name": "stdout",
     "output_type": "stream",
     "text": [
      "[49 / 108] Margin: 0.1 Forget Lr: 0.0005 Forget Iter: 2\n",
      "0.08121741563081741\n"
     ]
    },
    {
     "name": "stderr",
     "output_type": "stream",
     "text": [
      "100%|███████████████████████████████████████████████████████████████████████████████████████████████████████████████████████████████████████████| 5/5 [00:11<00:00,  2.29s/it]\n"
     ]
    },
    {
     "name": "stdout",
     "output_type": "stream",
     "text": [
      "[50 / 108] Margin: 0.1 Forget Lr: 0.0005 Forget Iter: 5\n",
      "0.06963612139225006\n"
     ]
    },
    {
     "name": "stderr",
     "output_type": "stream",
     "text": [
      "100%|███████████████████████████████████████████████████████████████████████████████████████████████████████████████████████████████████████████| 5/5 [00:12<00:00,  2.53s/it]\n"
     ]
    },
    {
     "name": "stdout",
     "output_type": "stream",
     "text": [
      "[51 / 108] Margin: 0.1 Forget Lr: 0.0001 Forget Iter: 2\n",
      "0.07258113473653793\n"
     ]
    },
    {
     "name": "stderr",
     "output_type": "stream",
     "text": [
      "100%|███████████████████████████████████████████████████████████████████████████████████████████████████████████████████████████████████████████| 5/5 [00:11<00:00,  2.26s/it]\n"
     ]
    },
    {
     "name": "stdout",
     "output_type": "stream",
     "text": [
      "[52 / 108] Margin: 0.1 Forget Lr: 0.0001 Forget Iter: 5\n",
      "0.07249528169631958\n"
     ]
    },
    {
     "name": "stderr",
     "output_type": "stream",
     "text": [
      "100%|███████████████████████████████████████████████████████████████████████████████████████████████████████████████████████████████████████████| 5/5 [00:12<00:00,  2.54s/it]\n"
     ]
    },
    {
     "name": "stdout",
     "output_type": "stream",
     "text": [
      "[53 / 108] Margin: 0.1 Forget Lr: 0.005 Forget Iter: 2\n",
      "0.07007786631584167\n"
     ]
    },
    {
     "name": "stderr",
     "output_type": "stream",
     "text": [
      "100%|███████████████████████████████████████████████████████████████████████████████████████████████████████████████████████████████████████████| 5/5 [00:11<00:00,  2.25s/it]\n"
     ]
    },
    {
     "name": "stdout",
     "output_type": "stream",
     "text": [
      "[54 / 108] Margin: 0.1 Forget Lr: 0.005 Forget Iter: 5\n",
      "0.07830745726823807\n"
     ]
    },
    {
     "name": "stderr",
     "output_type": "stream",
     "text": [
      "100%|███████████████████████████████████████████████████████████████████████████████████████████████████████████████████████████████████████████| 5/5 [00:12<00:00,  2.55s/it]\n"
     ]
    },
    {
     "name": "stdout",
     "output_type": "stream",
     "text": [
      "[55 / 108] Margin: 0.1 Forget Lr: 0.001 Forget Iter: 2\n",
      "0.06810025870800018\n"
     ]
    },
    {
     "name": "stderr",
     "output_type": "stream",
     "text": [
      "100%|███████████████████████████████████████████████████████████████████████████████████████████████████████████████████████████████████████████| 5/5 [00:11<00:00,  2.27s/it]\n"
     ]
    },
    {
     "name": "stdout",
     "output_type": "stream",
     "text": [
      "[56 / 108] Margin: 0.1 Forget Lr: 0.001 Forget Iter: 5\n",
      "0.07521240413188934\n"
     ]
    },
    {
     "name": "stderr",
     "output_type": "stream",
     "text": [
      "100%|███████████████████████████████████████████████████████████████████████████████████████████████████████████████████████████████████████████| 5/5 [00:12<00:00,  2.53s/it]\n"
     ]
    },
    {
     "name": "stdout",
     "output_type": "stream",
     "text": [
      "[57 / 108] Margin: 0.1 Forget Lr: 0.05 Forget Iter: 2\n",
      "0.10126400738954544\n"
     ]
    },
    {
     "name": "stderr",
     "output_type": "stream",
     "text": [
      "100%|███████████████████████████████████████████████████████████████████████████████████████████████████████████████████████████████████████████| 5/5 [00:11<00:00,  2.27s/it]\n"
     ]
    },
    {
     "name": "stdout",
     "output_type": "stream",
     "text": [
      "[58 / 108] Margin: 0.1 Forget Lr: 0.05 Forget Iter: 5\n",
      "0.0753379687666893\n"
     ]
    },
    {
     "name": "stderr",
     "output_type": "stream",
     "text": [
      "100%|███████████████████████████████████████████████████████████████████████████████████████████████████████████████████████████████████████████| 5/5 [00:12<00:00,  2.51s/it]\n"
     ]
    },
    {
     "name": "stdout",
     "output_type": "stream",
     "text": [
      "[59 / 108] Margin: 0.1 Forget Lr: 0.01 Forget Iter: 2\n",
      "0.08450530469417572\n"
     ]
    },
    {
     "name": "stderr",
     "output_type": "stream",
     "text": [
      "100%|███████████████████████████████████████████████████████████████████████████████████████████████████████████████████████████████████████████| 5/5 [00:11<00:00,  2.24s/it]\n"
     ]
    },
    {
     "name": "stdout",
     "output_type": "stream",
     "text": [
      "[60 / 108] Margin: 0.1 Forget Lr: 0.01 Forget Iter: 5\n",
      "0.10447844117879868\n"
     ]
    },
    {
     "name": "stderr",
     "output_type": "stream",
     "text": [
      "100%|███████████████████████████████████████████████████████████████████████████████████████████████████████████████████████████████████████████| 5/5 [00:12<00:00,  2.52s/it]\n"
     ]
    },
    {
     "name": "stdout",
     "output_type": "stream",
     "text": [
      "[61 / 108] Margin: 0.5 Forget Lr: 0.0005 Forget Iter: 2\n",
      "0.11221802234649658\n"
     ]
    },
    {
     "name": "stderr",
     "output_type": "stream",
     "text": [
      "100%|███████████████████████████████████████████████████████████████████████████████████████████████████████████████████████████████████████████| 5/5 [00:11<00:00,  2.27s/it]\n"
     ]
    },
    {
     "name": "stdout",
     "output_type": "stream",
     "text": [
      "[62 / 108] Margin: 0.5 Forget Lr: 0.0005 Forget Iter: 5\n",
      "0.06925477832555771\n"
     ]
    },
    {
     "name": "stderr",
     "output_type": "stream",
     "text": [
      "100%|███████████████████████████████████████████████████████████████████████████████████████████████████████████████████████████████████████████| 5/5 [00:12<00:00,  2.54s/it]\n"
     ]
    },
    {
     "name": "stdout",
     "output_type": "stream",
     "text": [
      "[63 / 108] Margin: 0.5 Forget Lr: 0.0001 Forget Iter: 2\n",
      "0.07841867208480835\n"
     ]
    },
    {
     "name": "stderr",
     "output_type": "stream",
     "text": [
      "100%|███████████████████████████████████████████████████████████████████████████████████████████████████████████████████████████████████████████| 5/5 [00:10<00:00,  2.12s/it]\n"
     ]
    },
    {
     "name": "stdout",
     "output_type": "stream",
     "text": [
      "[64 / 108] Margin: 0.5 Forget Lr: 0.0001 Forget Iter: 5\n",
      "0.08197358250617981\n"
     ]
    },
    {
     "name": "stderr",
     "output_type": "stream",
     "text": [
      "100%|███████████████████████████████████████████████████████████████████████████████████████████████████████████████████████████████████████████| 5/5 [00:12<00:00,  2.41s/it]\n"
     ]
    },
    {
     "name": "stdout",
     "output_type": "stream",
     "text": [
      "[65 / 108] Margin: 0.5 Forget Lr: 0.005 Forget Iter: 2\n",
      "0.07949940115213394\n"
     ]
    },
    {
     "name": "stderr",
     "output_type": "stream",
     "text": [
      "100%|███████████████████████████████████████████████████████████████████████████████████████████████████████████████████████████████████████████| 5/5 [00:11<00:00,  2.27s/it]\n"
     ]
    },
    {
     "name": "stdout",
     "output_type": "stream",
     "text": [
      "[66 / 108] Margin: 0.5 Forget Lr: 0.005 Forget Iter: 5\n",
      "0.0633588656783104\n"
     ]
    },
    {
     "name": "stderr",
     "output_type": "stream",
     "text": [
      "100%|███████████████████████████████████████████████████████████████████████████████████████████████████████████████████████████████████████████| 5/5 [00:12<00:00,  2.50s/it]\n"
     ]
    },
    {
     "name": "stdout",
     "output_type": "stream",
     "text": [
      "[67 / 108] Margin: 0.5 Forget Lr: 0.001 Forget Iter: 2\n",
      "0.09439103305339813\n"
     ]
    },
    {
     "name": "stderr",
     "output_type": "stream",
     "text": [
      "100%|███████████████████████████████████████████████████████████████████████████████████████████████████████████████████████████████████████████| 5/5 [00:11<00:00,  2.30s/it]\n"
     ]
    },
    {
     "name": "stdout",
     "output_type": "stream",
     "text": [
      "[68 / 108] Margin: 0.5 Forget Lr: 0.001 Forget Iter: 5\n",
      "0.0751539096236229\n"
     ]
    },
    {
     "name": "stderr",
     "output_type": "stream",
     "text": [
      "100%|███████████████████████████████████████████████████████████████████████████████████████████████████████████████████████████████████████████| 5/5 [00:12<00:00,  2.54s/it]\n"
     ]
    },
    {
     "name": "stdout",
     "output_type": "stream",
     "text": [
      "[69 / 108] Margin: 0.5 Forget Lr: 0.05 Forget Iter: 2\n",
      "0.07394199818372726\n"
     ]
    },
    {
     "name": "stderr",
     "output_type": "stream",
     "text": [
      "100%|███████████████████████████████████████████████████████████████████████████████████████████████████████████████████████████████████████████| 5/5 [00:11<00:00,  2.25s/it]\n"
     ]
    },
    {
     "name": "stdout",
     "output_type": "stream",
     "text": [
      "[70 / 108] Margin: 0.5 Forget Lr: 0.05 Forget Iter: 5\n",
      "0.10007417947053909\n"
     ]
    },
    {
     "name": "stderr",
     "output_type": "stream",
     "text": [
      "100%|███████████████████████████████████████████████████████████████████████████████████████████████████████████████████████████████████████████| 5/5 [00:12<00:00,  2.53s/it]\n"
     ]
    },
    {
     "name": "stdout",
     "output_type": "stream",
     "text": [
      "[71 / 108] Margin: 0.5 Forget Lr: 0.01 Forget Iter: 2\n",
      "0.10326613485813141\n"
     ]
    },
    {
     "name": "stderr",
     "output_type": "stream",
     "text": [
      "100%|███████████████████████████████████████████████████████████████████████████████████████████████████████████████████████████████████████████| 5/5 [00:11<00:00,  2.24s/it]\n"
     ]
    },
    {
     "name": "stdout",
     "output_type": "stream",
     "text": [
      "[72 / 108] Margin: 0.5 Forget Lr: 0.01 Forget Iter: 5\n",
      "0.06799118220806122\n"
     ]
    },
    {
     "name": "stderr",
     "output_type": "stream",
     "text": [
      "100%|███████████████████████████████████████████████████████████████████████████████████████████████████████████████████████████████████████████| 5/5 [00:12<00:00,  2.49s/it]\n"
     ]
    },
    {
     "name": "stdout",
     "output_type": "stream",
     "text": [
      "[73 / 108] Margin: 1 Forget Lr: 0.0005 Forget Iter: 2\n",
      "0.06872246414422989\n"
     ]
    },
    {
     "name": "stderr",
     "output_type": "stream",
     "text": [
      "100%|███████████████████████████████████████████████████████████████████████████████████████████████████████████████████████████████████████████| 5/5 [00:11<00:00,  2.21s/it]\n"
     ]
    },
    {
     "name": "stdout",
     "output_type": "stream",
     "text": [
      "[74 / 108] Margin: 1 Forget Lr: 0.0005 Forget Iter: 5\n",
      "0.16765078902244568\n"
     ]
    },
    {
     "name": "stderr",
     "output_type": "stream",
     "text": [
      "100%|███████████████████████████████████████████████████████████████████████████████████████████████████████████████████████████████████████████| 5/5 [00:12<00:00,  2.48s/it]\n"
     ]
    },
    {
     "name": "stdout",
     "output_type": "stream",
     "text": [
      "[75 / 108] Margin: 1 Forget Lr: 0.0001 Forget Iter: 2\n",
      "0.10006043314933777\n"
     ]
    },
    {
     "name": "stderr",
     "output_type": "stream",
     "text": [
      "100%|███████████████████████████████████████████████████████████████████████████████████████████████████████████████████████████████████████████| 5/5 [00:11<00:00,  2.25s/it]\n"
     ]
    },
    {
     "name": "stdout",
     "output_type": "stream",
     "text": [
      "[76 / 108] Margin: 1 Forget Lr: 0.0001 Forget Iter: 5\n",
      "0.08522817492485046\n"
     ]
    },
    {
     "name": "stderr",
     "output_type": "stream",
     "text": [
      "100%|███████████████████████████████████████████████████████████████████████████████████████████████████████████████████████████████████████████| 5/5 [00:12<00:00,  2.51s/it]\n"
     ]
    },
    {
     "name": "stdout",
     "output_type": "stream",
     "text": [
      "[77 / 108] Margin: 1 Forget Lr: 0.005 Forget Iter: 2\n",
      "0.10238579660654068\n"
     ]
    },
    {
     "name": "stderr",
     "output_type": "stream",
     "text": [
      "100%|███████████████████████████████████████████████████████████████████████████████████████████████████████████████████████████████████████████| 5/5 [00:11<00:00,  2.25s/it]\n"
     ]
    },
    {
     "name": "stdout",
     "output_type": "stream",
     "text": [
      "[78 / 108] Margin: 1 Forget Lr: 0.005 Forget Iter: 5\n",
      "0.06832600384950638\n"
     ]
    },
    {
     "name": "stderr",
     "output_type": "stream",
     "text": [
      "100%|███████████████████████████████████████████████████████████████████████████████████████████████████████████████████████████████████████████| 5/5 [00:12<00:00,  2.47s/it]\n"
     ]
    },
    {
     "name": "stdout",
     "output_type": "stream",
     "text": [
      "[79 / 108] Margin: 1 Forget Lr: 0.001 Forget Iter: 2\n",
      "0.10359413921833038\n"
     ]
    },
    {
     "name": "stderr",
     "output_type": "stream",
     "text": [
      "100%|███████████████████████████████████████████████████████████████████████████████████████████████████████████████████████████████████████████| 5/5 [00:11<00:00,  2.27s/it]\n"
     ]
    },
    {
     "name": "stdout",
     "output_type": "stream",
     "text": [
      "[80 / 108] Margin: 1 Forget Lr: 0.001 Forget Iter: 5\n",
      "0.0845630019903183\n"
     ]
    },
    {
     "name": "stderr",
     "output_type": "stream",
     "text": [
      "100%|███████████████████████████████████████████████████████████████████████████████████████████████████████████████████████████████████████████| 5/5 [00:12<00:00,  2.54s/it]\n"
     ]
    },
    {
     "name": "stdout",
     "output_type": "stream",
     "text": [
      "[81 / 108] Margin: 1 Forget Lr: 0.05 Forget Iter: 2\n",
      "0.07688238471746445\n"
     ]
    },
    {
     "name": "stderr",
     "output_type": "stream",
     "text": [
      "100%|███████████████████████████████████████████████████████████████████████████████████████████████████████████████████████████████████████████| 5/5 [00:11<00:00,  2.26s/it]\n"
     ]
    },
    {
     "name": "stdout",
     "output_type": "stream",
     "text": [
      "[82 / 108] Margin: 1 Forget Lr: 0.05 Forget Iter: 5\n",
      "0.06510090082883835\n"
     ]
    },
    {
     "name": "stderr",
     "output_type": "stream",
     "text": [
      "100%|███████████████████████████████████████████████████████████████████████████████████████████████████████████████████████████████████████████| 5/5 [00:12<00:00,  2.52s/it]\n"
     ]
    },
    {
     "name": "stdout",
     "output_type": "stream",
     "text": [
      "[83 / 108] Margin: 1 Forget Lr: 0.01 Forget Iter: 2\n",
      "0.07608357816934586\n"
     ]
    },
    {
     "name": "stderr",
     "output_type": "stream",
     "text": [
      "100%|███████████████████████████████████████████████████████████████████████████████████████████████████████████████████████████████████████████| 5/5 [00:11<00:00,  2.25s/it]\n"
     ]
    },
    {
     "name": "stdout",
     "output_type": "stream",
     "text": [
      "[84 / 108] Margin: 1 Forget Lr: 0.01 Forget Iter: 5\n",
      "0.08275363594293594\n"
     ]
    },
    {
     "name": "stderr",
     "output_type": "stream",
     "text": [
      "100%|███████████████████████████████████████████████████████████████████████████████████████████████████████████████████████████████████████████| 5/5 [00:12<00:00,  2.50s/it]\n"
     ]
    },
    {
     "name": "stdout",
     "output_type": "stream",
     "text": [
      "[85 / 108] Margin: 2 Forget Lr: 0.0005 Forget Iter: 2\n",
      "0.0790654793381691\n"
     ]
    },
    {
     "name": "stderr",
     "output_type": "stream",
     "text": [
      "100%|███████████████████████████████████████████████████████████████████████████████████████████████████████████████████████████████████████████| 5/5 [00:11<00:00,  2.24s/it]\n"
     ]
    },
    {
     "name": "stdout",
     "output_type": "stream",
     "text": [
      "[86 / 108] Margin: 2 Forget Lr: 0.0005 Forget Iter: 5\n",
      "0.07603266835212708\n"
     ]
    },
    {
     "name": "stderr",
     "output_type": "stream",
     "text": [
      "100%|███████████████████████████████████████████████████████████████████████████████████████████████████████████████████████████████████████████| 5/5 [00:12<00:00,  2.56s/it]\n"
     ]
    },
    {
     "name": "stdout",
     "output_type": "stream",
     "text": [
      "[87 / 108] Margin: 2 Forget Lr: 0.0001 Forget Iter: 2\n",
      "0.07796254754066467\n"
     ]
    },
    {
     "name": "stderr",
     "output_type": "stream",
     "text": [
      "100%|███████████████████████████████████████████████████████████████████████████████████████████████████████████████████████████████████████████| 5/5 [00:11<00:00,  2.23s/it]\n"
     ]
    },
    {
     "name": "stdout",
     "output_type": "stream",
     "text": [
      "[88 / 108] Margin: 2 Forget Lr: 0.0001 Forget Iter: 5\n",
      "0.10401751101016998\n"
     ]
    },
    {
     "name": "stderr",
     "output_type": "stream",
     "text": [
      "100%|███████████████████████████████████████████████████████████████████████████████████████████████████████████████████████████████████████████| 5/5 [00:11<00:00,  2.31s/it]\n"
     ]
    },
    {
     "name": "stdout",
     "output_type": "stream",
     "text": [
      "[89 / 108] Margin: 2 Forget Lr: 0.005 Forget Iter: 2\n",
      "0.11715766042470932\n"
     ]
    },
    {
     "name": "stderr",
     "output_type": "stream",
     "text": [
      "100%|███████████████████████████████████████████████████████████████████████████████████████████████████████████████████████████████████████████| 5/5 [00:11<00:00,  2.23s/it]\n"
     ]
    },
    {
     "name": "stdout",
     "output_type": "stream",
     "text": [
      "[90 / 108] Margin: 2 Forget Lr: 0.005 Forget Iter: 5\n",
      "0.09255436062812805\n"
     ]
    },
    {
     "name": "stderr",
     "output_type": "stream",
     "text": [
      "100%|███████████████████████████████████████████████████████████████████████████████████████████████████████████████████████████████████████████| 5/5 [00:12<00:00,  2.52s/it]\n"
     ]
    },
    {
     "name": "stdout",
     "output_type": "stream",
     "text": [
      "[91 / 108] Margin: 2 Forget Lr: 0.001 Forget Iter: 2\n",
      "0.10586050152778625\n"
     ]
    },
    {
     "name": "stderr",
     "output_type": "stream",
     "text": [
      "100%|███████████████████████████████████████████████████████████████████████████████████████████████████████████████████████████████████████████| 5/5 [00:11<00:00,  2.24s/it]\n"
     ]
    },
    {
     "name": "stdout",
     "output_type": "stream",
     "text": [
      "[92 / 108] Margin: 2 Forget Lr: 0.001 Forget Iter: 5\n",
      "0.0768633559346199\n"
     ]
    },
    {
     "name": "stderr",
     "output_type": "stream",
     "text": [
      "100%|███████████████████████████████████████████████████████████████████████████████████████████████████████████████████████████████████████████| 5/5 [00:12<00:00,  2.56s/it]\n"
     ]
    },
    {
     "name": "stdout",
     "output_type": "stream",
     "text": [
      "[93 / 108] Margin: 2 Forget Lr: 0.05 Forget Iter: 2\n",
      "0.12259741872549057\n"
     ]
    },
    {
     "name": "stderr",
     "output_type": "stream",
     "text": [
      "100%|███████████████████████████████████████████████████████████████████████████████████████████████████████████████████████████████████████████| 5/5 [00:11<00:00,  2.26s/it]\n"
     ]
    },
    {
     "name": "stdout",
     "output_type": "stream",
     "text": [
      "[94 / 108] Margin: 2 Forget Lr: 0.05 Forget Iter: 5\n",
      "0.07697778195142746\n"
     ]
    },
    {
     "name": "stderr",
     "output_type": "stream",
     "text": [
      "100%|███████████████████████████████████████████████████████████████████████████████████████████████████████████████████████████████████████████| 5/5 [00:12<00:00,  2.56s/it]\n"
     ]
    },
    {
     "name": "stdout",
     "output_type": "stream",
     "text": [
      "[95 / 108] Margin: 2 Forget Lr: 0.01 Forget Iter: 2\n",
      "0.3449988067150116\n"
     ]
    },
    {
     "name": "stderr",
     "output_type": "stream",
     "text": [
      "100%|███████████████████████████████████████████████████████████████████████████████████████████████████████████████████████████████████████████| 5/5 [00:11<00:00,  2.25s/it]\n"
     ]
    },
    {
     "name": "stdout",
     "output_type": "stream",
     "text": [
      "[96 / 108] Margin: 2 Forget Lr: 0.01 Forget Iter: 5\n",
      "0.08691325038671494\n"
     ]
    },
    {
     "name": "stderr",
     "output_type": "stream",
     "text": [
      "100%|███████████████████████████████████████████████████████████████████████████████████████████████████████████████████████████████████████████| 5/5 [00:12<00:00,  2.52s/it]\n"
     ]
    },
    {
     "name": "stdout",
     "output_type": "stream",
     "text": [
      "[97 / 108] Margin: 5 Forget Lr: 0.0005 Forget Iter: 2\n",
      "0.0881432518362999\n"
     ]
    },
    {
     "name": "stderr",
     "output_type": "stream",
     "text": [
      "100%|███████████████████████████████████████████████████████████████████████████████████████████████████████████████████████████████████████████| 5/5 [00:11<00:00,  2.29s/it]\n"
     ]
    },
    {
     "name": "stdout",
     "output_type": "stream",
     "text": [
      "[98 / 108] Margin: 5 Forget Lr: 0.0005 Forget Iter: 5\n",
      "0.08795366436243057\n"
     ]
    },
    {
     "name": "stderr",
     "output_type": "stream",
     "text": [
      "100%|███████████████████████████████████████████████████████████████████████████████████████████████████████████████████████████████████████████| 5/5 [00:12<00:00,  2.52s/it]\n"
     ]
    },
    {
     "name": "stdout",
     "output_type": "stream",
     "text": [
      "[99 / 108] Margin: 5 Forget Lr: 0.0001 Forget Iter: 2\n",
      "0.09915484488010406\n"
     ]
    },
    {
     "name": "stderr",
     "output_type": "stream",
     "text": [
      "100%|███████████████████████████████████████████████████████████████████████████████████████████████████████████████████████████████████████████| 5/5 [00:11<00:00,  2.27s/it]\n"
     ]
    },
    {
     "name": "stdout",
     "output_type": "stream",
     "text": [
      "[100 / 108] Margin: 5 Forget Lr: 0.0001 Forget Iter: 5\n",
      "0.09969217330217361\n"
     ]
    },
    {
     "name": "stderr",
     "output_type": "stream",
     "text": [
      "100%|███████████████████████████████████████████████████████████████████████████████████████████████████████████████████████████████████████████| 5/5 [00:12<00:00,  2.48s/it]\n"
     ]
    },
    {
     "name": "stdout",
     "output_type": "stream",
     "text": [
      "[101 / 108] Margin: 5 Forget Lr: 0.005 Forget Iter: 2\n",
      "0.07790709286928177\n"
     ]
    },
    {
     "name": "stderr",
     "output_type": "stream",
     "text": [
      "100%|███████████████████████████████████████████████████████████████████████████████████████████████████████████████████████████████████████████| 5/5 [00:11<00:00,  2.24s/it]\n"
     ]
    },
    {
     "name": "stdout",
     "output_type": "stream",
     "text": [
      "[102 / 108] Margin: 5 Forget Lr: 0.005 Forget Iter: 5\n",
      "0.07575956732034683\n"
     ]
    },
    {
     "name": "stderr",
     "output_type": "stream",
     "text": [
      "100%|███████████████████████████████████████████████████████████████████████████████████████████████████████████████████████████████████████████| 5/5 [00:12<00:00,  2.51s/it]\n"
     ]
    },
    {
     "name": "stdout",
     "output_type": "stream",
     "text": [
      "[103 / 108] Margin: 5 Forget Lr: 0.001 Forget Iter: 2\n",
      "0.05739985406398773\n"
     ]
    },
    {
     "name": "stderr",
     "output_type": "stream",
     "text": [
      "100%|███████████████████████████████████████████████████████████████████████████████████████████████████████████████████████████████████████████| 5/5 [00:11<00:00,  2.26s/it]\n"
     ]
    },
    {
     "name": "stdout",
     "output_type": "stream",
     "text": [
      "[104 / 108] Margin: 5 Forget Lr: 0.001 Forget Iter: 5\n",
      "0.073096364736557\n"
     ]
    },
    {
     "name": "stderr",
     "output_type": "stream",
     "text": [
      "100%|███████████████████████████████████████████████████████████████████████████████████████████████████████████████████████████████████████████| 5/5 [00:12<00:00,  2.54s/it]\n"
     ]
    },
    {
     "name": "stdout",
     "output_type": "stream",
     "text": [
      "[105 / 108] Margin: 5 Forget Lr: 0.05 Forget Iter: 2\n",
      "0.12450799345970154\n"
     ]
    },
    {
     "name": "stderr",
     "output_type": "stream",
     "text": [
      "100%|███████████████████████████████████████████████████████████████████████████████████████████████████████████████████████████████████████████| 5/5 [00:11<00:00,  2.23s/it]\n"
     ]
    },
    {
     "name": "stdout",
     "output_type": "stream",
     "text": [
      "[106 / 108] Margin: 5 Forget Lr: 0.05 Forget Iter: 5\n",
      "0.0823528990149498\n"
     ]
    },
    {
     "name": "stderr",
     "output_type": "stream",
     "text": [
      "100%|███████████████████████████████████████████████████████████████████████████████████████████████████████████████████████████████████████████| 5/5 [00:12<00:00,  2.52s/it]\n"
     ]
    },
    {
     "name": "stdout",
     "output_type": "stream",
     "text": [
      "[107 / 108] Margin: 5 Forget Lr: 0.01 Forget Iter: 2\n",
      "0.06782416254281998\n"
     ]
    },
    {
     "name": "stderr",
     "output_type": "stream",
     "text": [
      "100%|███████████████████████████████████████████████████████████████████████████████████████████████████████████████████████████████████████████| 5/5 [00:11<00:00,  2.25s/it]"
     ]
    },
    {
     "name": "stdout",
     "output_type": "stream",
     "text": [
      "[108 / 108] Margin: 5 Forget Lr: 0.01 Forget Iter: 5\n",
      "0.07852514088153839\n",
      "Best Margin: 5 Best Forget LR: 0.001 Best Forget Iters: 2\n"
     ]
    },
    {
     "name": "stderr",
     "output_type": "stream",
     "text": [
      "\n"
     ]
    }
   ],
   "source": [
    "if dataset_name in [\"california\", 'wine_quality']:\n",
    "    margins = [5e-3, 1e-3, 5e-2, 1e-2, 1e-1, 5e-1, 1, 2, 5]\n",
    "elif dataset_name in ['cpu_act', 'fifa',  'superconduct', 'elevators', 'pol']:\n",
    "    margins = [1, 2, 5, 10, 20, 30, 40, 50, 60, 70, 80, 90, 100, 150, 200]\n",
    "    \n",
    "forget_lrs = [5e-4, 1e-4, 5e-3, 1e-3, 5e-2, 1e-2]\n",
    "forget_iters = [2, 5]\n",
    "\n",
    "hyp_losses = np.zeros((len(margins), len(forget_lrs), len(forget_iters)))\n",
    "for i in range(len(margins)):\n",
    "    for j in range(len(forget_lrs)):\n",
    "        for k in range(len(forget_iters)):\n",
    "            margin = SiFer_Margin([32, 32, 32, 8], [8, 8], 1, val_inputs.shape[1], 1).to(device)\n",
    "            margin, train_losses, val_losses = train_margin(margin, norm_train_dataloader, val_inputs, val_targets, device, margin = margins[i], forget_iters = forget_iters[k], lrs = [lrs[best_lr], lrs[best_lr], forget_lrs[j]], epochs = 5)\n",
    "            hyp_losses[i, j, k] += eval_fsmodel(margin, norm_val_inputs, val_targets, device)\n",
    "            print(f\"[{i*(len(forget_lrs) * len(forget_iters)) + j*(len(forget_iters)) + k + 1} / {len(margins) * len(forget_lrs)* len(forget_iters)}] Margin: {margins[i]} Forget Lr: {forget_lrs[j]} Forget Iter: {forget_iters[k]}\")\n",
    "            print(hyp_losses[i,j,k])\n",
    "            \n",
    "best_margin, best_forget_lr, best_forget_iter = np.unravel_index(np.argmin(hyp_losses), hyp_losses.shape)\n",
    "print(f\"Best Margin: {margins[best_margin]} Best Forget LR: {forget_lrs[best_forget_lr]} Best Forget Iters: {forget_iters[best_forget_iter]}\")"
   ]
  },
  {
   "cell_type": "code",
   "execution_count": 26,
   "id": "730909f1-365f-4a19-b7a6-51db4a41047b",
   "metadata": {},
   "outputs": [
    {
     "name": "stderr",
     "output_type": "stream",
     "text": [
      "100%|█████████████████████████████████████████████████████████████████████████████████████████████████████████████████████████████████████████| 10/10 [00:25<00:00,  2.53s/it]"
     ]
    },
    {
     "name": "stdout",
     "output_type": "stream",
     "text": [
      "tensor(0.0770)\n"
     ]
    },
    {
     "name": "stderr",
     "output_type": "stream",
     "text": [
      "\n"
     ]
    }
   ],
   "source": [
    "margin = SiFer_Margin([32, 32, 32, 8], [8, 8], 1, val_inputs.shape[1], 1).to(device)\n",
    "margin, train_losses, val_losses = train_margin(margin, norm_train_dataloader, val_inputs, val_targets, device, forget_iters = forget_iters[best_forget_iter], margin = margins[best_margin], lrs = [lrs[best_lr], lrs[best_lr], forget_lrs[best_forget_lr]])\n",
    "test_loss_margin = eval_fsmodel(margin, norm_tst_inputs, tst_targets, device)\n",
    "print(test_loss_margin)"
   ]
  },
  {
   "cell_type": "markdown",
   "id": "e9c9010a-fa78-4af6-9396-ffed918a0fd7",
   "metadata": {},
   "source": [
    "## 10) SiFer Cross Entropy Forgetting Model"
   ]
  },
  {
   "cell_type": "code",
   "execution_count": 27,
   "id": "6a10fb1b-3d25-4540-899f-7dad45302b42",
   "metadata": {
    "scrolled": true
   },
   "outputs": [
    {
     "name": "stderr",
     "output_type": "stream",
     "text": [
      "100%|███████████████████████████████████████████████████████████████████████████████████████████████████████████████████████████████████████████| 5/5 [00:12<00:00,  2.56s/it]\n"
     ]
    },
    {
     "name": "stdout",
     "output_type": "stream",
     "text": [
      "1/96) Num bins: 2 Forget LR: 0.0005 Forget iter: 2\n",
      "Validation Loss:  0.10071983188390732\n"
     ]
    },
    {
     "name": "stderr",
     "output_type": "stream",
     "text": [
      "100%|███████████████████████████████████████████████████████████████████████████████████████████████████████████████████████████████████████████| 5/5 [00:11<00:00,  2.29s/it]\n"
     ]
    },
    {
     "name": "stdout",
     "output_type": "stream",
     "text": [
      "2/96) Num bins: 2 Forget LR: 0.0005 Forget iter: 5\n",
      "Validation Loss:  0.12406013160943985\n"
     ]
    },
    {
     "name": "stderr",
     "output_type": "stream",
     "text": [
      "100%|███████████████████████████████████████████████████████████████████████████████████████████████████████████████████████████████████████████| 5/5 [00:12<00:00,  2.48s/it]\n"
     ]
    },
    {
     "name": "stdout",
     "output_type": "stream",
     "text": [
      "3/96) Num bins: 2 Forget LR: 0.0001 Forget iter: 2\n",
      "Validation Loss:  0.07041298598051071\n"
     ]
    },
    {
     "name": "stderr",
     "output_type": "stream",
     "text": [
      "100%|███████████████████████████████████████████████████████████████████████████████████████████████████████████████████████████████████████████| 5/5 [00:10<00:00,  2.16s/it]\n"
     ]
    },
    {
     "name": "stdout",
     "output_type": "stream",
     "text": [
      "4/96) Num bins: 2 Forget LR: 0.0001 Forget iter: 5\n",
      "Validation Loss:  0.07420559227466583\n"
     ]
    },
    {
     "name": "stderr",
     "output_type": "stream",
     "text": [
      "100%|███████████████████████████████████████████████████████████████████████████████████████████████████████████████████████████████████████████| 5/5 [00:12<00:00,  2.56s/it]\n"
     ]
    },
    {
     "name": "stdout",
     "output_type": "stream",
     "text": [
      "5/96) Num bins: 2 Forget LR: 0.005 Forget iter: 2\n",
      "Validation Loss:  0.07430274784564972\n"
     ]
    },
    {
     "name": "stderr",
     "output_type": "stream",
     "text": [
      "100%|███████████████████████████████████████████████████████████████████████████████████████████████████████████████████████████████████████████| 5/5 [00:11<00:00,  2.34s/it]\n"
     ]
    },
    {
     "name": "stdout",
     "output_type": "stream",
     "text": [
      "6/96) Num bins: 2 Forget LR: 0.005 Forget iter: 5\n",
      "Validation Loss:  0.12545527517795563\n"
     ]
    },
    {
     "name": "stderr",
     "output_type": "stream",
     "text": [
      "100%|███████████████████████████████████████████████████████████████████████████████████████████████████████████████████████████████████████████| 5/5 [00:12<00:00,  2.58s/it]\n"
     ]
    },
    {
     "name": "stdout",
     "output_type": "stream",
     "text": [
      "7/96) Num bins: 2 Forget LR: 0.001 Forget iter: 2\n",
      "Validation Loss:  0.08708471804857254\n"
     ]
    },
    {
     "name": "stderr",
     "output_type": "stream",
     "text": [
      "100%|███████████████████████████████████████████████████████████████████████████████████████████████████████████████████████████████████████████| 5/5 [00:11<00:00,  2.29s/it]\n"
     ]
    },
    {
     "name": "stdout",
     "output_type": "stream",
     "text": [
      "8/96) Num bins: 2 Forget LR: 0.001 Forget iter: 5\n",
      "Validation Loss:  0.07900623977184296\n"
     ]
    },
    {
     "name": "stderr",
     "output_type": "stream",
     "text": [
      "100%|███████████████████████████████████████████████████████████████████████████████████████████████████████████████████████████████████████████| 5/5 [00:12<00:00,  2.56s/it]\n"
     ]
    },
    {
     "name": "stdout",
     "output_type": "stream",
     "text": [
      "9/96) Num bins: 2 Forget LR: 0.05 Forget iter: 2\n",
      "Validation Loss:  0.12173918634653091\n"
     ]
    },
    {
     "name": "stderr",
     "output_type": "stream",
     "text": [
      "100%|███████████████████████████████████████████████████████████████████████████████████████████████████████████████████████████████████████████| 5/5 [00:11<00:00,  2.32s/it]\n"
     ]
    },
    {
     "name": "stdout",
     "output_type": "stream",
     "text": [
      "10/96) Num bins: 2 Forget LR: 0.05 Forget iter: 5\n",
      "Validation Loss:  0.12639233469963074\n"
     ]
    },
    {
     "name": "stderr",
     "output_type": "stream",
     "text": [
      "100%|███████████████████████████████████████████████████████████████████████████████████████████████████████████████████████████████████████████| 5/5 [00:12<00:00,  2.56s/it]\n"
     ]
    },
    {
     "name": "stdout",
     "output_type": "stream",
     "text": [
      "11/96) Num bins: 2 Forget LR: 0.01 Forget iter: 2\n",
      "Validation Loss:  0.09713860601186752\n"
     ]
    },
    {
     "name": "stderr",
     "output_type": "stream",
     "text": [
      "100%|███████████████████████████████████████████████████████████████████████████████████████████████████████████████████████████████████████████| 5/5 [00:11<00:00,  2.29s/it]\n"
     ]
    },
    {
     "name": "stdout",
     "output_type": "stream",
     "text": [
      "12/96) Num bins: 2 Forget LR: 0.01 Forget iter: 5\n",
      "Validation Loss:  0.12074168026447296\n"
     ]
    },
    {
     "name": "stderr",
     "output_type": "stream",
     "text": [
      "100%|███████████████████████████████████████████████████████████████████████████████████████████████████████████████████████████████████████████| 5/5 [00:12<00:00,  2.59s/it]\n"
     ]
    },
    {
     "name": "stdout",
     "output_type": "stream",
     "text": [
      "13/96) Num bins: 10 Forget LR: 0.0005 Forget iter: 2\n",
      "Validation Loss:  0.08507110178470612\n"
     ]
    },
    {
     "name": "stderr",
     "output_type": "stream",
     "text": [
      "100%|███████████████████████████████████████████████████████████████████████████████████████████████████████████████████████████████████████████| 5/5 [00:11<00:00,  2.27s/it]\n"
     ]
    },
    {
     "name": "stdout",
     "output_type": "stream",
     "text": [
      "14/96) Num bins: 10 Forget LR: 0.0005 Forget iter: 5\n",
      "Validation Loss:  0.08804575353860855\n"
     ]
    },
    {
     "name": "stderr",
     "output_type": "stream",
     "text": [
      "100%|███████████████████████████████████████████████████████████████████████████████████████████████████████████████████████████████████████████| 5/5 [00:12<00:00,  2.56s/it]\n"
     ]
    },
    {
     "name": "stdout",
     "output_type": "stream",
     "text": [
      "15/96) Num bins: 10 Forget LR: 0.0001 Forget iter: 2\n",
      "Validation Loss:  0.09520167857408524\n"
     ]
    },
    {
     "name": "stderr",
     "output_type": "stream",
     "text": [
      "100%|███████████████████████████████████████████████████████████████████████████████████████████████████████████████████████████████████████████| 5/5 [00:11<00:00,  2.29s/it]\n"
     ]
    },
    {
     "name": "stdout",
     "output_type": "stream",
     "text": [
      "16/96) Num bins: 10 Forget LR: 0.0001 Forget iter: 5\n",
      "Validation Loss:  0.0975092351436615\n"
     ]
    },
    {
     "name": "stderr",
     "output_type": "stream",
     "text": [
      "100%|███████████████████████████████████████████████████████████████████████████████████████████████████████████████████████████████████████████| 5/5 [00:12<00:00,  2.55s/it]\n"
     ]
    },
    {
     "name": "stdout",
     "output_type": "stream",
     "text": [
      "17/96) Num bins: 10 Forget LR: 0.005 Forget iter: 2\n",
      "Validation Loss:  0.11971335113048553\n"
     ]
    },
    {
     "name": "stderr",
     "output_type": "stream",
     "text": [
      "100%|███████████████████████████████████████████████████████████████████████████████████████████████████████████████████████████████████████████| 5/5 [00:11<00:00,  2.29s/it]\n"
     ]
    },
    {
     "name": "stdout",
     "output_type": "stream",
     "text": [
      "18/96) Num bins: 10 Forget LR: 0.005 Forget iter: 5\n",
      "Validation Loss:  0.06215008348226547\n"
     ]
    },
    {
     "name": "stderr",
     "output_type": "stream",
     "text": [
      "100%|███████████████████████████████████████████████████████████████████████████████████████████████████████████████████████████████████████████| 5/5 [00:12<00:00,  2.57s/it]\n"
     ]
    },
    {
     "name": "stdout",
     "output_type": "stream",
     "text": [
      "19/96) Num bins: 10 Forget LR: 0.001 Forget iter: 2\n",
      "Validation Loss:  0.15317915380001068\n"
     ]
    },
    {
     "name": "stderr",
     "output_type": "stream",
     "text": [
      "100%|███████████████████████████████████████████████████████████████████████████████████████████████████████████████████████████████████████████| 5/5 [00:11<00:00,  2.34s/it]\n"
     ]
    },
    {
     "name": "stdout",
     "output_type": "stream",
     "text": [
      "20/96) Num bins: 10 Forget LR: 0.001 Forget iter: 5\n",
      "Validation Loss:  0.07518476247787476\n"
     ]
    },
    {
     "name": "stderr",
     "output_type": "stream",
     "text": [
      "100%|███████████████████████████████████████████████████████████████████████████████████████████████████████████████████████████████████████████| 5/5 [00:12<00:00,  2.56s/it]\n"
     ]
    },
    {
     "name": "stdout",
     "output_type": "stream",
     "text": [
      "21/96) Num bins: 10 Forget LR: 0.05 Forget iter: 2\n",
      "Validation Loss:  0.12552966177463531\n"
     ]
    },
    {
     "name": "stderr",
     "output_type": "stream",
     "text": [
      "100%|███████████████████████████████████████████████████████████████████████████████████████████████████████████████████████████████████████████| 5/5 [00:11<00:00,  2.33s/it]\n"
     ]
    },
    {
     "name": "stdout",
     "output_type": "stream",
     "text": [
      "22/96) Num bins: 10 Forget LR: 0.05 Forget iter: 5\n",
      "Validation Loss:  0.12187223881483078\n"
     ]
    },
    {
     "name": "stderr",
     "output_type": "stream",
     "text": [
      "100%|███████████████████████████████████████████████████████████████████████████████████████████████████████████████████████████████████████████| 5/5 [00:12<00:00,  2.55s/it]\n"
     ]
    },
    {
     "name": "stdout",
     "output_type": "stream",
     "text": [
      "23/96) Num bins: 10 Forget LR: 0.01 Forget iter: 2\n",
      "Validation Loss:  0.1246945858001709\n"
     ]
    },
    {
     "name": "stderr",
     "output_type": "stream",
     "text": [
      "100%|███████████████████████████████████████████████████████████████████████████████████████████████████████████████████████████████████████████| 5/5 [00:11<00:00,  2.30s/it]\n"
     ]
    },
    {
     "name": "stdout",
     "output_type": "stream",
     "text": [
      "24/96) Num bins: 10 Forget LR: 0.01 Forget iter: 5\n",
      "Validation Loss:  0.1197158470749855\n"
     ]
    },
    {
     "name": "stderr",
     "output_type": "stream",
     "text": [
      "100%|███████████████████████████████████████████████████████████████████████████████████████████████████████████████████████████████████████████| 5/5 [00:12<00:00,  2.55s/it]\n"
     ]
    },
    {
     "name": "stdout",
     "output_type": "stream",
     "text": [
      "25/96) Num bins: 25 Forget LR: 0.0005 Forget iter: 2\n",
      "Validation Loss:  0.13015583157539368\n"
     ]
    },
    {
     "name": "stderr",
     "output_type": "stream",
     "text": [
      "100%|███████████████████████████████████████████████████████████████████████████████████████████████████████████████████████████████████████████| 5/5 [00:11<00:00,  2.26s/it]\n"
     ]
    },
    {
     "name": "stdout",
     "output_type": "stream",
     "text": [
      "26/96) Num bins: 25 Forget LR: 0.0005 Forget iter: 5\n",
      "Validation Loss:  0.07000108063220978\n"
     ]
    },
    {
     "name": "stderr",
     "output_type": "stream",
     "text": [
      "100%|███████████████████████████████████████████████████████████████████████████████████████████████████████████████████████████████████████████| 5/5 [00:12<00:00,  2.49s/it]\n"
     ]
    },
    {
     "name": "stdout",
     "output_type": "stream",
     "text": [
      "27/96) Num bins: 25 Forget LR: 0.0001 Forget iter: 2\n",
      "Validation Loss:  0.095822773873806\n"
     ]
    },
    {
     "name": "stderr",
     "output_type": "stream",
     "text": [
      "100%|███████████████████████████████████████████████████████████████████████████████████████████████████████████████████████████████████████████| 5/5 [00:10<00:00,  2.14s/it]\n"
     ]
    },
    {
     "name": "stdout",
     "output_type": "stream",
     "text": [
      "28/96) Num bins: 25 Forget LR: 0.0001 Forget iter: 5\n",
      "Validation Loss:  0.06904207170009613\n"
     ]
    },
    {
     "name": "stderr",
     "output_type": "stream",
     "text": [
      "100%|███████████████████████████████████████████████████████████████████████████████████████████████████████████████████████████████████████████| 5/5 [00:12<00:00,  2.56s/it]\n"
     ]
    },
    {
     "name": "stdout",
     "output_type": "stream",
     "text": [
      "29/96) Num bins: 25 Forget LR: 0.005 Forget iter: 2\n",
      "Validation Loss:  0.12364830821752548\n"
     ]
    },
    {
     "name": "stderr",
     "output_type": "stream",
     "text": [
      "100%|███████████████████████████████████████████████████████████████████████████████████████████████████████████████████████████████████████████| 5/5 [00:11<00:00,  2.33s/it]\n"
     ]
    },
    {
     "name": "stdout",
     "output_type": "stream",
     "text": [
      "30/96) Num bins: 25 Forget LR: 0.005 Forget iter: 5\n",
      "Validation Loss:  0.08692368865013123\n"
     ]
    },
    {
     "name": "stderr",
     "output_type": "stream",
     "text": [
      "100%|███████████████████████████████████████████████████████████████████████████████████████████████████████████████████████████████████████████| 5/5 [00:12<00:00,  2.56s/it]\n"
     ]
    },
    {
     "name": "stdout",
     "output_type": "stream",
     "text": [
      "31/96) Num bins: 25 Forget LR: 0.001 Forget iter: 2\n",
      "Validation Loss:  0.08667595684528351\n"
     ]
    },
    {
     "name": "stderr",
     "output_type": "stream",
     "text": [
      "100%|███████████████████████████████████████████████████████████████████████████████████████████████████████████████████████████████████████████| 5/5 [00:11<00:00,  2.30s/it]\n"
     ]
    },
    {
     "name": "stdout",
     "output_type": "stream",
     "text": [
      "32/96) Num bins: 25 Forget LR: 0.001 Forget iter: 5\n",
      "Validation Loss:  0.09148763120174408\n"
     ]
    },
    {
     "name": "stderr",
     "output_type": "stream",
     "text": [
      "100%|███████████████████████████████████████████████████████████████████████████████████████████████████████████████████████████████████████████| 5/5 [00:12<00:00,  2.51s/it]\n"
     ]
    },
    {
     "name": "stdout",
     "output_type": "stream",
     "text": [
      "33/96) Num bins: 25 Forget LR: 0.05 Forget iter: 2\n",
      "Validation Loss:  0.07998477667570114\n"
     ]
    },
    {
     "name": "stderr",
     "output_type": "stream",
     "text": [
      "100%|███████████████████████████████████████████████████████████████████████████████████████████████████████████████████████████████████████████| 5/5 [00:11<00:00,  2.29s/it]\n"
     ]
    },
    {
     "name": "stdout",
     "output_type": "stream",
     "text": [
      "34/96) Num bins: 25 Forget LR: 0.05 Forget iter: 5\n",
      "Validation Loss:  0.12260054796934128\n"
     ]
    },
    {
     "name": "stderr",
     "output_type": "stream",
     "text": [
      "100%|███████████████████████████████████████████████████████████████████████████████████████████████████████████████████████████████████████████| 5/5 [00:12<00:00,  2.54s/it]\n"
     ]
    },
    {
     "name": "stdout",
     "output_type": "stream",
     "text": [
      "35/96) Num bins: 25 Forget LR: 0.01 Forget iter: 2\n",
      "Validation Loss:  0.12221526354551315\n"
     ]
    },
    {
     "name": "stderr",
     "output_type": "stream",
     "text": [
      "100%|███████████████████████████████████████████████████████████████████████████████████████████████████████████████████████████████████████████| 5/5 [00:11<00:00,  2.30s/it]\n"
     ]
    },
    {
     "name": "stdout",
     "output_type": "stream",
     "text": [
      "36/96) Num bins: 25 Forget LR: 0.01 Forget iter: 5\n",
      "Validation Loss:  0.12128031253814697\n"
     ]
    },
    {
     "name": "stderr",
     "output_type": "stream",
     "text": [
      "100%|███████████████████████████████████████████████████████████████████████████████████████████████████████████████████████████████████████████| 5/5 [00:12<00:00,  2.59s/it]\n"
     ]
    },
    {
     "name": "stdout",
     "output_type": "stream",
     "text": [
      "37/96) Num bins: 30 Forget LR: 0.0005 Forget iter: 2\n",
      "Validation Loss:  0.09353000670671463\n"
     ]
    },
    {
     "name": "stderr",
     "output_type": "stream",
     "text": [
      "100%|███████████████████████████████████████████████████████████████████████████████████████████████████████████████████████████████████████████| 5/5 [00:11<00:00,  2.36s/it]\n"
     ]
    },
    {
     "name": "stdout",
     "output_type": "stream",
     "text": [
      "38/96) Num bins: 30 Forget LR: 0.0005 Forget iter: 5\n",
      "Validation Loss:  0.1189153715968132\n"
     ]
    },
    {
     "name": "stderr",
     "output_type": "stream",
     "text": [
      "100%|███████████████████████████████████████████████████████████████████████████████████████████████████████████████████████████████████████████| 5/5 [00:12<00:00,  2.55s/it]\n"
     ]
    },
    {
     "name": "stdout",
     "output_type": "stream",
     "text": [
      "39/96) Num bins: 30 Forget LR: 0.0001 Forget iter: 2\n",
      "Validation Loss:  0.0720386654138565\n"
     ]
    },
    {
     "name": "stderr",
     "output_type": "stream",
     "text": [
      "100%|███████████████████████████████████████████████████████████████████████████████████████████████████████████████████████████████████████████| 5/5 [00:11<00:00,  2.30s/it]\n"
     ]
    },
    {
     "name": "stdout",
     "output_type": "stream",
     "text": [
      "40/96) Num bins: 30 Forget LR: 0.0001 Forget iter: 5\n",
      "Validation Loss:  0.08531713485717773\n"
     ]
    },
    {
     "name": "stderr",
     "output_type": "stream",
     "text": [
      "100%|███████████████████████████████████████████████████████████████████████████████████████████████████████████████████████████████████████████| 5/5 [00:12<00:00,  2.59s/it]\n"
     ]
    },
    {
     "name": "stdout",
     "output_type": "stream",
     "text": [
      "41/96) Num bins: 30 Forget LR: 0.005 Forget iter: 2\n",
      "Validation Loss:  0.1176033616065979\n"
     ]
    },
    {
     "name": "stderr",
     "output_type": "stream",
     "text": [
      "100%|███████████████████████████████████████████████████████████████████████████████████████████████████████████████████████████████████████████| 5/5 [00:11<00:00,  2.36s/it]\n"
     ]
    },
    {
     "name": "stdout",
     "output_type": "stream",
     "text": [
      "42/96) Num bins: 30 Forget LR: 0.005 Forget iter: 5\n",
      "Validation Loss:  0.09607424587011337\n"
     ]
    },
    {
     "name": "stderr",
     "output_type": "stream",
     "text": [
      "100%|███████████████████████████████████████████████████████████████████████████████████████████████████████████████████████████████████████████| 5/5 [00:12<00:00,  2.56s/it]\n"
     ]
    },
    {
     "name": "stdout",
     "output_type": "stream",
     "text": [
      "43/96) Num bins: 30 Forget LR: 0.001 Forget iter: 2\n",
      "Validation Loss:  0.10542082041501999\n"
     ]
    },
    {
     "name": "stderr",
     "output_type": "stream",
     "text": [
      "100%|███████████████████████████████████████████████████████████████████████████████████████████████████████████████████████████████████████████| 5/5 [00:11<00:00,  2.32s/it]\n"
     ]
    },
    {
     "name": "stdout",
     "output_type": "stream",
     "text": [
      "44/96) Num bins: 30 Forget LR: 0.001 Forget iter: 5\n",
      "Validation Loss:  0.09900008141994476\n"
     ]
    },
    {
     "name": "stderr",
     "output_type": "stream",
     "text": [
      "100%|███████████████████████████████████████████████████████████████████████████████████████████████████████████████████████████████████████████| 5/5 [00:12<00:00,  2.55s/it]\n"
     ]
    },
    {
     "name": "stdout",
     "output_type": "stream",
     "text": [
      "45/96) Num bins: 30 Forget LR: 0.05 Forget iter: 2\n",
      "Validation Loss:  0.12149103730916977\n"
     ]
    },
    {
     "name": "stderr",
     "output_type": "stream",
     "text": [
      "100%|███████████████████████████████████████████████████████████████████████████████████████████████████████████████████████████████████████████| 5/5 [00:11<00:00,  2.32s/it]\n"
     ]
    },
    {
     "name": "stdout",
     "output_type": "stream",
     "text": [
      "46/96) Num bins: 30 Forget LR: 0.05 Forget iter: 5\n",
      "Validation Loss:  0.12447695434093475\n"
     ]
    },
    {
     "name": "stderr",
     "output_type": "stream",
     "text": [
      "100%|███████████████████████████████████████████████████████████████████████████████████████████████████████████████████████████████████████████| 5/5 [00:12<00:00,  2.59s/it]\n"
     ]
    },
    {
     "name": "stdout",
     "output_type": "stream",
     "text": [
      "47/96) Num bins: 30 Forget LR: 0.01 Forget iter: 2\n",
      "Validation Loss:  0.12672673165798187\n"
     ]
    },
    {
     "name": "stderr",
     "output_type": "stream",
     "text": [
      "100%|███████████████████████████████████████████████████████████████████████████████████████████████████████████████████████████████████████████| 5/5 [00:11<00:00,  2.28s/it]\n"
     ]
    },
    {
     "name": "stdout",
     "output_type": "stream",
     "text": [
      "48/96) Num bins: 30 Forget LR: 0.01 Forget iter: 5\n",
      "Validation Loss:  0.11975324898958206\n"
     ]
    },
    {
     "name": "stderr",
     "output_type": "stream",
     "text": [
      "100%|███████████████████████████████████████████████████████████████████████████████████████████████████████████████████████████████████████████| 5/5 [00:12<00:00,  2.56s/it]\n"
     ]
    },
    {
     "name": "stdout",
     "output_type": "stream",
     "text": [
      "49/96) Num bins: 50 Forget LR: 0.0005 Forget iter: 2\n",
      "Validation Loss:  0.10591749101877213\n"
     ]
    },
    {
     "name": "stderr",
     "output_type": "stream",
     "text": [
      "100%|███████████████████████████████████████████████████████████████████████████████████████████████████████████████████████████████████████████| 5/5 [00:11<00:00,  2.28s/it]\n"
     ]
    },
    {
     "name": "stdout",
     "output_type": "stream",
     "text": [
      "50/96) Num bins: 50 Forget LR: 0.0005 Forget iter: 5\n",
      "Validation Loss:  0.10974856466054916\n"
     ]
    },
    {
     "name": "stderr",
     "output_type": "stream",
     "text": [
      "100%|███████████████████████████████████████████████████████████████████████████████████████████████████████████████████████████████████████████| 5/5 [00:12<00:00,  2.53s/it]\n"
     ]
    },
    {
     "name": "stdout",
     "output_type": "stream",
     "text": [
      "51/96) Num bins: 50 Forget LR: 0.0001 Forget iter: 2\n",
      "Validation Loss:  0.1173325851559639\n"
     ]
    },
    {
     "name": "stderr",
     "output_type": "stream",
     "text": [
      "100%|███████████████████████████████████████████████████████████████████████████████████████████████████████████████████████████████████████████| 5/5 [00:10<00:00,  2.09s/it]\n"
     ]
    },
    {
     "name": "stdout",
     "output_type": "stream",
     "text": [
      "52/96) Num bins: 50 Forget LR: 0.0001 Forget iter: 5\n",
      "Validation Loss:  0.12484322488307953\n"
     ]
    },
    {
     "name": "stderr",
     "output_type": "stream",
     "text": [
      "100%|███████████████████████████████████████████████████████████████████████████████████████████████████████████████████████████████████████████| 5/5 [00:12<00:00,  2.48s/it]\n"
     ]
    },
    {
     "name": "stdout",
     "output_type": "stream",
     "text": [
      "53/96) Num bins: 50 Forget LR: 0.005 Forget iter: 2\n",
      "Validation Loss:  0.12241145968437195\n"
     ]
    },
    {
     "name": "stderr",
     "output_type": "stream",
     "text": [
      "100%|███████████████████████████████████████████████████████████████████████████████████████████████████████████████████████████████████████████| 5/5 [00:11<00:00,  2.31s/it]\n"
     ]
    },
    {
     "name": "stdout",
     "output_type": "stream",
     "text": [
      "54/96) Num bins: 50 Forget LR: 0.005 Forget iter: 5\n",
      "Validation Loss:  0.12700751423835754\n"
     ]
    },
    {
     "name": "stderr",
     "output_type": "stream",
     "text": [
      "100%|███████████████████████████████████████████████████████████████████████████████████████████████████████████████████████████████████████████| 5/5 [00:12<00:00,  2.55s/it]\n"
     ]
    },
    {
     "name": "stdout",
     "output_type": "stream",
     "text": [
      "55/96) Num bins: 50 Forget LR: 0.001 Forget iter: 2\n",
      "Validation Loss:  0.11245769262313843\n"
     ]
    },
    {
     "name": "stderr",
     "output_type": "stream",
     "text": [
      "100%|███████████████████████████████████████████████████████████████████████████████████████████████████████████████████████████████████████████| 5/5 [00:11<00:00,  2.28s/it]\n"
     ]
    },
    {
     "name": "stdout",
     "output_type": "stream",
     "text": [
      "56/96) Num bins: 50 Forget LR: 0.001 Forget iter: 5\n",
      "Validation Loss:  0.08998236805200577\n"
     ]
    },
    {
     "name": "stderr",
     "output_type": "stream",
     "text": [
      "100%|███████████████████████████████████████████████████████████████████████████████████████████████████████████████████████████████████████████| 5/5 [00:12<00:00,  2.55s/it]\n"
     ]
    },
    {
     "name": "stdout",
     "output_type": "stream",
     "text": [
      "57/96) Num bins: 50 Forget LR: 0.05 Forget iter: 2\n",
      "Validation Loss:  0.1264348328113556\n"
     ]
    },
    {
     "name": "stderr",
     "output_type": "stream",
     "text": [
      "100%|███████████████████████████████████████████████████████████████████████████████████████████████████████████████████████████████████████████| 5/5 [00:11<00:00,  2.29s/it]\n"
     ]
    },
    {
     "name": "stdout",
     "output_type": "stream",
     "text": [
      "58/96) Num bins: 50 Forget LR: 0.05 Forget iter: 5\n",
      "Validation Loss:  0.07477910816669464\n"
     ]
    },
    {
     "name": "stderr",
     "output_type": "stream",
     "text": [
      "100%|███████████████████████████████████████████████████████████████████████████████████████████████████████████████████████████████████████████| 5/5 [00:12<00:00,  2.55s/it]\n"
     ]
    },
    {
     "name": "stdout",
     "output_type": "stream",
     "text": [
      "59/96) Num bins: 50 Forget LR: 0.01 Forget iter: 2\n",
      "Validation Loss:  0.12279588729143143\n"
     ]
    },
    {
     "name": "stderr",
     "output_type": "stream",
     "text": [
      "100%|███████████████████████████████████████████████████████████████████████████████████████████████████████████████████████████████████████████| 5/5 [00:11<00:00,  2.31s/it]\n"
     ]
    },
    {
     "name": "stdout",
     "output_type": "stream",
     "text": [
      "60/96) Num bins: 50 Forget LR: 0.01 Forget iter: 5\n",
      "Validation Loss:  0.12212710082530975\n"
     ]
    },
    {
     "name": "stderr",
     "output_type": "stream",
     "text": [
      "100%|███████████████████████████████████████████████████████████████████████████████████████████████████████████████████████████████████████████| 5/5 [00:12<00:00,  2.57s/it]\n"
     ]
    },
    {
     "name": "stdout",
     "output_type": "stream",
     "text": [
      "61/96) Num bins: 75 Forget LR: 0.0005 Forget iter: 2\n",
      "Validation Loss:  0.08486545830965042\n"
     ]
    },
    {
     "name": "stderr",
     "output_type": "stream",
     "text": [
      "100%|███████████████████████████████████████████████████████████████████████████████████████████████████████████████████████████████████████████| 5/5 [00:11<00:00,  2.30s/it]\n"
     ]
    },
    {
     "name": "stdout",
     "output_type": "stream",
     "text": [
      "62/96) Num bins: 75 Forget LR: 0.0005 Forget iter: 5\n",
      "Validation Loss:  0.12148402631282806\n"
     ]
    },
    {
     "name": "stderr",
     "output_type": "stream",
     "text": [
      "100%|███████████████████████████████████████████████████████████████████████████████████████████████████████████████████████████████████████████| 5/5 [00:12<00:00,  2.54s/it]\n"
     ]
    },
    {
     "name": "stdout",
     "output_type": "stream",
     "text": [
      "63/96) Num bins: 75 Forget LR: 0.0001 Forget iter: 2\n",
      "Validation Loss:  0.09377370774745941\n"
     ]
    },
    {
     "name": "stderr",
     "output_type": "stream",
     "text": [
      "100%|███████████████████████████████████████████████████████████████████████████████████████████████████████████████████████████████████████████| 5/5 [00:11<00:00,  2.34s/it]\n"
     ]
    },
    {
     "name": "stdout",
     "output_type": "stream",
     "text": [
      "64/96) Num bins: 75 Forget LR: 0.0001 Forget iter: 5\n",
      "Validation Loss:  0.08759037405252457\n"
     ]
    },
    {
     "name": "stderr",
     "output_type": "stream",
     "text": [
      "100%|███████████████████████████████████████████████████████████████████████████████████████████████████████████████████████████████████████████| 5/5 [00:12<00:00,  2.51s/it]\n"
     ]
    },
    {
     "name": "stdout",
     "output_type": "stream",
     "text": [
      "65/96) Num bins: 75 Forget LR: 0.005 Forget iter: 2\n",
      "Validation Loss:  0.11757547408342361\n"
     ]
    },
    {
     "name": "stderr",
     "output_type": "stream",
     "text": [
      "100%|███████████████████████████████████████████████████████████████████████████████████████████████████████████████████████████████████████████| 5/5 [00:11<00:00,  2.34s/it]\n"
     ]
    },
    {
     "name": "stdout",
     "output_type": "stream",
     "text": [
      "66/96) Num bins: 75 Forget LR: 0.005 Forget iter: 5\n",
      "Validation Loss:  0.1521809697151184\n"
     ]
    },
    {
     "name": "stderr",
     "output_type": "stream",
     "text": [
      "100%|███████████████████████████████████████████████████████████████████████████████████████████████████████████████████████████████████████████| 5/5 [00:12<00:00,  2.54s/it]\n"
     ]
    },
    {
     "name": "stdout",
     "output_type": "stream",
     "text": [
      "67/96) Num bins: 75 Forget LR: 0.001 Forget iter: 2\n",
      "Validation Loss:  0.08492407947778702\n"
     ]
    },
    {
     "name": "stderr",
     "output_type": "stream",
     "text": [
      "100%|███████████████████████████████████████████████████████████████████████████████████████████████████████████████████████████████████████████| 5/5 [00:11<00:00,  2.29s/it]\n"
     ]
    },
    {
     "name": "stdout",
     "output_type": "stream",
     "text": [
      "68/96) Num bins: 75 Forget LR: 0.001 Forget iter: 5\n",
      "Validation Loss:  0.13302484154701233\n"
     ]
    },
    {
     "name": "stderr",
     "output_type": "stream",
     "text": [
      "100%|███████████████████████████████████████████████████████████████████████████████████████████████████████████████████████████████████████████| 5/5 [00:12<00:00,  2.55s/it]\n"
     ]
    },
    {
     "name": "stdout",
     "output_type": "stream",
     "text": [
      "69/96) Num bins: 75 Forget LR: 0.05 Forget iter: 2\n",
      "Validation Loss:  0.12036549299955368\n"
     ]
    },
    {
     "name": "stderr",
     "output_type": "stream",
     "text": [
      "100%|███████████████████████████████████████████████████████████████████████████████████████████████████████████████████████████████████████████| 5/5 [00:11<00:00,  2.30s/it]\n"
     ]
    },
    {
     "name": "stdout",
     "output_type": "stream",
     "text": [
      "70/96) Num bins: 75 Forget LR: 0.05 Forget iter: 5\n",
      "Validation Loss:  0.08383689075708389\n"
     ]
    },
    {
     "name": "stderr",
     "output_type": "stream",
     "text": [
      "100%|███████████████████████████████████████████████████████████████████████████████████████████████████████████████████████████████████████████| 5/5 [00:12<00:00,  2.57s/it]\n"
     ]
    },
    {
     "name": "stdout",
     "output_type": "stream",
     "text": [
      "71/96) Num bins: 75 Forget LR: 0.01 Forget iter: 2\n",
      "Validation Loss:  0.12633109092712402\n"
     ]
    },
    {
     "name": "stderr",
     "output_type": "stream",
     "text": [
      "100%|███████████████████████████████████████████████████████████████████████████████████████████████████████████████████████████████████████████| 5/5 [00:11<00:00,  2.29s/it]\n"
     ]
    },
    {
     "name": "stdout",
     "output_type": "stream",
     "text": [
      "72/96) Num bins: 75 Forget LR: 0.01 Forget iter: 5\n",
      "Validation Loss:  0.12067698687314987\n"
     ]
    },
    {
     "name": "stderr",
     "output_type": "stream",
     "text": [
      "100%|███████████████████████████████████████████████████████████████████████████████████████████████████████████████████████████████████████████| 5/5 [00:12<00:00,  2.56s/it]\n"
     ]
    },
    {
     "name": "stdout",
     "output_type": "stream",
     "text": [
      "73/96) Num bins: 90 Forget LR: 0.0005 Forget iter: 2\n",
      "Validation Loss:  0.10971007496118546\n"
     ]
    },
    {
     "name": "stderr",
     "output_type": "stream",
     "text": [
      "100%|███████████████████████████████████████████████████████████████████████████████████████████████████████████████████████████████████████████| 5/5 [00:11<00:00,  2.29s/it]\n"
     ]
    },
    {
     "name": "stdout",
     "output_type": "stream",
     "text": [
      "74/96) Num bins: 90 Forget LR: 0.0005 Forget iter: 5\n",
      "Validation Loss:  0.11173434555530548\n"
     ]
    },
    {
     "name": "stderr",
     "output_type": "stream",
     "text": [
      "100%|███████████████████████████████████████████████████████████████████████████████████████████████████████████████████████████████████████████| 5/5 [00:12<00:00,  2.54s/it]\n"
     ]
    },
    {
     "name": "stdout",
     "output_type": "stream",
     "text": [
      "75/96) Num bins: 90 Forget LR: 0.0001 Forget iter: 2\n",
      "Validation Loss:  0.09606584161520004\n"
     ]
    },
    {
     "name": "stderr",
     "output_type": "stream",
     "text": [
      "100%|███████████████████████████████████████████████████████████████████████████████████████████████████████████████████████████████████████████| 5/5 [00:10<00:00,  2.16s/it]\n"
     ]
    },
    {
     "name": "stdout",
     "output_type": "stream",
     "text": [
      "76/96) Num bins: 90 Forget LR: 0.0001 Forget iter: 5\n",
      "Validation Loss:  0.06931204348802567\n"
     ]
    },
    {
     "name": "stderr",
     "output_type": "stream",
     "text": [
      "100%|███████████████████████████████████████████████████████████████████████████████████████████████████████████████████████████████████████████| 5/5 [00:12<00:00,  2.44s/it]\n"
     ]
    },
    {
     "name": "stdout",
     "output_type": "stream",
     "text": [
      "77/96) Num bins: 90 Forget LR: 0.005 Forget iter: 2\n",
      "Validation Loss:  0.122671939432621\n"
     ]
    },
    {
     "name": "stderr",
     "output_type": "stream",
     "text": [
      "100%|███████████████████████████████████████████████████████████████████████████████████████████████████████████████████████████████████████████| 5/5 [00:11<00:00,  2.32s/it]\n"
     ]
    },
    {
     "name": "stdout",
     "output_type": "stream",
     "text": [
      "78/96) Num bins: 90 Forget LR: 0.005 Forget iter: 5\n",
      "Validation Loss:  0.11661338806152344\n"
     ]
    },
    {
     "name": "stderr",
     "output_type": "stream",
     "text": [
      "100%|███████████████████████████████████████████████████████████████████████████████████████████████████████████████████████████████████████████| 5/5 [00:12<00:00,  2.57s/it]\n"
     ]
    },
    {
     "name": "stdout",
     "output_type": "stream",
     "text": [
      "79/96) Num bins: 90 Forget LR: 0.001 Forget iter: 2\n",
      "Validation Loss:  0.15254239737987518\n"
     ]
    },
    {
     "name": "stderr",
     "output_type": "stream",
     "text": [
      "100%|███████████████████████████████████████████████████████████████████████████████████████████████████████████████████████████████████████████| 5/5 [00:11<00:00,  2.31s/it]\n"
     ]
    },
    {
     "name": "stdout",
     "output_type": "stream",
     "text": [
      "80/96) Num bins: 90 Forget LR: 0.001 Forget iter: 5\n",
      "Validation Loss:  0.08935576677322388\n"
     ]
    },
    {
     "name": "stderr",
     "output_type": "stream",
     "text": [
      "100%|███████████████████████████████████████████████████████████████████████████████████████████████████████████████████████████████████████████| 5/5 [00:12<00:00,  2.58s/it]\n"
     ]
    },
    {
     "name": "stdout",
     "output_type": "stream",
     "text": [
      "81/96) Num bins: 90 Forget LR: 0.05 Forget iter: 2\n",
      "Validation Loss:  0.1231541857123375\n"
     ]
    },
    {
     "name": "stderr",
     "output_type": "stream",
     "text": [
      "100%|███████████████████████████████████████████████████████████████████████████████████████████████████████████████████████████████████████████| 5/5 [00:11<00:00,  2.31s/it]\n"
     ]
    },
    {
     "name": "stdout",
     "output_type": "stream",
     "text": [
      "82/96) Num bins: 90 Forget LR: 0.05 Forget iter: 5\n",
      "Validation Loss:  0.12737376987934113\n"
     ]
    },
    {
     "name": "stderr",
     "output_type": "stream",
     "text": [
      "100%|███████████████████████████████████████████████████████████████████████████████████████████████████████████████████████████████████████████| 5/5 [00:12<00:00,  2.58s/it]\n"
     ]
    },
    {
     "name": "stdout",
     "output_type": "stream",
     "text": [
      "83/96) Num bins: 90 Forget LR: 0.01 Forget iter: 2\n",
      "Validation Loss:  0.12088612467050552\n"
     ]
    },
    {
     "name": "stderr",
     "output_type": "stream",
     "text": [
      "100%|███████████████████████████████████████████████████████████████████████████████████████████████████████████████████████████████████████████| 5/5 [00:11<00:00,  2.31s/it]\n"
     ]
    },
    {
     "name": "stdout",
     "output_type": "stream",
     "text": [
      "84/96) Num bins: 90 Forget LR: 0.01 Forget iter: 5\n",
      "Validation Loss:  0.12334209680557251\n"
     ]
    },
    {
     "name": "stderr",
     "output_type": "stream",
     "text": [
      "100%|███████████████████████████████████████████████████████████████████████████████████████████████████████████████████████████████████████████| 5/5 [00:12<00:00,  2.54s/it]\n"
     ]
    },
    {
     "name": "stdout",
     "output_type": "stream",
     "text": [
      "85/96) Num bins: 100 Forget LR: 0.0005 Forget iter: 2\n",
      "Validation Loss:  0.08675926923751831\n"
     ]
    },
    {
     "name": "stderr",
     "output_type": "stream",
     "text": [
      "100%|███████████████████████████████████████████████████████████████████████████████████████████████████████████████████████████████████████████| 5/5 [00:11<00:00,  2.30s/it]\n"
     ]
    },
    {
     "name": "stdout",
     "output_type": "stream",
     "text": [
      "86/96) Num bins: 100 Forget LR: 0.0005 Forget iter: 5\n",
      "Validation Loss:  0.10641589015722275\n"
     ]
    },
    {
     "name": "stderr",
     "output_type": "stream",
     "text": [
      "100%|███████████████████████████████████████████████████████████████████████████████████████████████████████████████████████████████████████████| 5/5 [00:12<00:00,  2.58s/it]\n"
     ]
    },
    {
     "name": "stdout",
     "output_type": "stream",
     "text": [
      "87/96) Num bins: 100 Forget LR: 0.0001 Forget iter: 2\n",
      "Validation Loss:  0.07355637848377228\n"
     ]
    },
    {
     "name": "stderr",
     "output_type": "stream",
     "text": [
      "100%|███████████████████████████████████████████████████████████████████████████████████████████████████████████████████████████████████████████| 5/5 [00:11<00:00,  2.32s/it]\n"
     ]
    },
    {
     "name": "stdout",
     "output_type": "stream",
     "text": [
      "88/96) Num bins: 100 Forget LR: 0.0001 Forget iter: 5\n",
      "Validation Loss:  0.1083613857626915\n"
     ]
    },
    {
     "name": "stderr",
     "output_type": "stream",
     "text": [
      "100%|███████████████████████████████████████████████████████████████████████████████████████████████████████████████████████████████████████████| 5/5 [00:12<00:00,  2.58s/it]\n"
     ]
    },
    {
     "name": "stdout",
     "output_type": "stream",
     "text": [
      "89/96) Num bins: 100 Forget LR: 0.005 Forget iter: 2\n",
      "Validation Loss:  0.12066999077796936\n"
     ]
    },
    {
     "name": "stderr",
     "output_type": "stream",
     "text": [
      "100%|███████████████████████████████████████████████████████████████████████████████████████████████████████████████████████████████████████████| 5/5 [00:11<00:00,  2.30s/it]\n"
     ]
    },
    {
     "name": "stdout",
     "output_type": "stream",
     "text": [
      "90/96) Num bins: 100 Forget LR: 0.005 Forget iter: 5\n",
      "Validation Loss:  0.09847346693277359\n"
     ]
    },
    {
     "name": "stderr",
     "output_type": "stream",
     "text": [
      "100%|███████████████████████████████████████████████████████████████████████████████████████████████████████████████████████████████████████████| 5/5 [00:12<00:00,  2.60s/it]\n"
     ]
    },
    {
     "name": "stdout",
     "output_type": "stream",
     "text": [
      "91/96) Num bins: 100 Forget LR: 0.001 Forget iter: 2\n",
      "Validation Loss:  0.10112439841032028\n"
     ]
    },
    {
     "name": "stderr",
     "output_type": "stream",
     "text": [
      "100%|███████████████████████████████████████████████████████████████████████████████████████████████████████████████████████████████████████████| 5/5 [00:11<00:00,  2.31s/it]\n"
     ]
    },
    {
     "name": "stdout",
     "output_type": "stream",
     "text": [
      "92/96) Num bins: 100 Forget LR: 0.001 Forget iter: 5\n",
      "Validation Loss:  0.0816730260848999\n"
     ]
    },
    {
     "name": "stderr",
     "output_type": "stream",
     "text": [
      "100%|███████████████████████████████████████████████████████████████████████████████████████████████████████████████████████████████████████████| 5/5 [00:12<00:00,  2.57s/it]\n"
     ]
    },
    {
     "name": "stdout",
     "output_type": "stream",
     "text": [
      "93/96) Num bins: 100 Forget LR: 0.05 Forget iter: 2\n",
      "Validation Loss:  0.1213492602109909\n"
     ]
    },
    {
     "name": "stderr",
     "output_type": "stream",
     "text": [
      "100%|███████████████████████████████████████████████████████████████████████████████████████████████████████████████████████████████████████████| 5/5 [00:11<00:00,  2.30s/it]\n"
     ]
    },
    {
     "name": "stdout",
     "output_type": "stream",
     "text": [
      "94/96) Num bins: 100 Forget LR: 0.05 Forget iter: 5\n",
      "Validation Loss:  0.12182369083166122\n"
     ]
    },
    {
     "name": "stderr",
     "output_type": "stream",
     "text": [
      "100%|███████████████████████████████████████████████████████████████████████████████████████████████████████████████████████████████████████████| 5/5 [00:12<00:00,  2.56s/it]\n"
     ]
    },
    {
     "name": "stdout",
     "output_type": "stream",
     "text": [
      "95/96) Num bins: 100 Forget LR: 0.01 Forget iter: 2\n",
      "Validation Loss:  0.12370863556861877\n"
     ]
    },
    {
     "name": "stderr",
     "output_type": "stream",
     "text": [
      "100%|███████████████████████████████████████████████████████████████████████████████████████████████████████████████████████████████████████████| 5/5 [00:11<00:00,  2.28s/it]"
     ]
    },
    {
     "name": "stdout",
     "output_type": "stream",
     "text": [
      "96/96) Num bins: 100 Forget LR: 0.01 Forget iter: 5\n",
      "Validation Loss:  0.12314622849225998\n",
      "Best Num Bins: 1 Best Forget LR: 2 Best Forget Iter: 5\n"
     ]
    },
    {
     "name": "stderr",
     "output_type": "stream",
     "text": [
      "\n"
     ]
    }
   ],
   "source": [
    "num_bins = [2, 10, 25, 30, 50, 75, 90, 100]\n",
    "forget_lrs = [5e-4, 1e-4, 5e-3, 1e-3, 5e-2, 1e-2]\n",
    "forget_iters = [2, 5]\n",
    "\n",
    "hyp_losses = np.zeros((len(num_bins), len(forget_lrs), len(forget_iters)))\n",
    "\n",
    "for i in range(len(num_bins)):\n",
    "    for j  in range(len(forget_lrs)):\n",
    "        for k in range(len(forget_iters)):\n",
    "            model = SiFer_Cross([32, 32, 32, 8], [8, 8], 1, val_inputs.shape[1], 1, num_bins[i]).to(device)\n",
    "            model, train_losses, val_losses = train_cross(model, norm_train_dataloader, val_inputs, val_targets, train_targets, num_bins = num_bins[i], forget_iters = forget_iters[k], lrs = [lrs[best_lr], lrs[best_lr], forget_lrs[j]], epochs = 5)\n",
    "            hyp_losses[i, j, k] += eval_fsmodel(model, norm_val_inputs, val_targets, device)\n",
    "            print(f\"{i*(len(forget_lrs) * len(forget_iters)) + j*(len(forget_iters)) + k + 1}/{len(num_bins) * len(forget_lrs)* len(forget_iters)}) Num bins: {num_bins[i]} Forget LR: {forget_lrs[j]} Forget iter: {forget_iters[k]}\")\n",
    "            print(\"Validation Loss: \", hyp_losses[i,j,k])\n",
    "\n",
    "best_num_bins, best_forget_lr_ce, best_forget_iter_ce = np.unravel_index(np.argmin(hyp_losses), hyp_losses.shape)\n",
    "print(f\"Best Num Bins: {best_num_bins} Best Forget LR: {best_forget_lr_ce} Best Forget Iter: {forget_iters[best_forget_iter_ce]}\")"
   ]
  },
  {
   "cell_type": "code",
   "execution_count": 28,
   "id": "eff12b4f-47d5-4fae-8289-cbcddd2387e1",
   "metadata": {},
   "outputs": [
    {
     "name": "stderr",
     "output_type": "stream",
     "text": [
      "100%|█████████████████████████████████████████████████████████████████████████████████████████████████████████████████████████████████████████| 10/10 [00:23<00:00,  2.31s/it]"
     ]
    },
    {
     "name": "stdout",
     "output_type": "stream",
     "text": [
      "tensor(0.0827)\n"
     ]
    },
    {
     "name": "stderr",
     "output_type": "stream",
     "text": [
      "\n"
     ]
    }
   ],
   "source": [
    "model = SiFer_Cross([32, 32, 32, 8], [8, 8], 1, val_inputs.shape[1], 1, num_bins[best_num_bins]).to(device)\n",
    "model, train_losses, val_losses = train_cross(model, norm_train_dataloader, val_inputs, val_targets, train_targets, num_bins = num_bins[best_num_bins], forget_iters = forget_iters[best_forget_iter_ce], lrs = [lrs[best_lr], lrs[best_lr], forget_lrs[best_forget_lr_ce]])\n",
    "test_loss_cross = eval_fsmodel(model, norm_tst_inputs, tst_targets, device)\n",
    "print(test_loss_cross)"
   ]
  },
  {
   "cell_type": "markdown",
   "id": "d69915f1-f92d-4041-b78e-b14d7eaf9f53",
   "metadata": {},
   "source": [
    "## 11) SiFer Ordinal Forgetting Model"
   ]
  },
  {
   "cell_type": "code",
   "execution_count": 29,
   "id": "825b0776-490a-4833-aabe-9389743805df",
   "metadata": {
    "scrolled": true
   },
   "outputs": [
    {
     "name": "stderr",
     "output_type": "stream",
     "text": [
      "100%|███████████████████████████████████████████████████████████████████████████████████████████████████████████████████████████████████████████| 5/5 [00:13<00:00,  2.60s/it]\n"
     ]
    },
    {
     "name": "stdout",
     "output_type": "stream",
     "text": [
      "1/96) Num bins: 2 Forget LR: 0.0005 Forget iter: 2\n",
      "0.12190942466259003\n"
     ]
    },
    {
     "name": "stderr",
     "output_type": "stream",
     "text": [
      "100%|███████████████████████████████████████████████████████████████████████████████████████████████████████████████████████████████████████████| 5/5 [00:11<00:00,  2.28s/it]\n"
     ]
    },
    {
     "name": "stdout",
     "output_type": "stream",
     "text": [
      "2/96) Num bins: 2 Forget LR: 0.0005 Forget iter: 5\n",
      "0.09946341812610626\n"
     ]
    },
    {
     "name": "stderr",
     "output_type": "stream",
     "text": [
      "100%|███████████████████████████████████████████████████████████████████████████████████████████████████████████████████████████████████████████| 5/5 [00:12<00:00,  2.41s/it]\n"
     ]
    },
    {
     "name": "stdout",
     "output_type": "stream",
     "text": [
      "3/96) Num bins: 2 Forget LR: 0.0001 Forget iter: 2\n",
      "0.100718192756176\n"
     ]
    },
    {
     "name": "stderr",
     "output_type": "stream",
     "text": [
      "100%|███████████████████████████████████████████████████████████████████████████████████████████████████████████████████████████████████████████| 5/5 [00:12<00:00,  2.41s/it]\n"
     ]
    },
    {
     "name": "stdout",
     "output_type": "stream",
     "text": [
      "4/96) Num bins: 2 Forget LR: 0.0001 Forget iter: 5\n",
      "0.08752584457397461\n"
     ]
    },
    {
     "name": "stderr",
     "output_type": "stream",
     "text": [
      "100%|███████████████████████████████████████████████████████████████████████████████████████████████████████████████████████████████████████████| 5/5 [00:12<00:00,  2.56s/it]\n"
     ]
    },
    {
     "name": "stdout",
     "output_type": "stream",
     "text": [
      "5/96) Num bins: 2 Forget LR: 0.005 Forget iter: 2\n",
      "0.10928506404161453\n"
     ]
    },
    {
     "name": "stderr",
     "output_type": "stream",
     "text": [
      "100%|███████████████████████████████████████████████████████████████████████████████████████████████████████████████████████████████████████████| 5/5 [00:11<00:00,  2.39s/it]\n"
     ]
    },
    {
     "name": "stdout",
     "output_type": "stream",
     "text": [
      "6/96) Num bins: 2 Forget LR: 0.005 Forget iter: 5\n",
      "0.08388563245534897\n"
     ]
    },
    {
     "name": "stderr",
     "output_type": "stream",
     "text": [
      "100%|███████████████████████████████████████████████████████████████████████████████████████████████████████████████████████████████████████████| 5/5 [00:13<00:00,  2.60s/it]\n"
     ]
    },
    {
     "name": "stdout",
     "output_type": "stream",
     "text": [
      "7/96) Num bins: 2 Forget LR: 0.001 Forget iter: 2\n",
      "0.09730149805545807\n"
     ]
    },
    {
     "name": "stderr",
     "output_type": "stream",
     "text": [
      "100%|███████████████████████████████████████████████████████████████████████████████████████████████████████████████████████████████████████████| 5/5 [00:11<00:00,  2.30s/it]\n"
     ]
    },
    {
     "name": "stdout",
     "output_type": "stream",
     "text": [
      "8/96) Num bins: 2 Forget LR: 0.001 Forget iter: 5\n",
      "0.07782427966594696\n"
     ]
    },
    {
     "name": "stderr",
     "output_type": "stream",
     "text": [
      "100%|███████████████████████████████████████████████████████████████████████████████████████████████████████████████████████████████████████████| 5/5 [00:13<00:00,  2.64s/it]\n"
     ]
    },
    {
     "name": "stdout",
     "output_type": "stream",
     "text": [
      "9/96) Num bins: 2 Forget LR: 0.05 Forget iter: 2\n",
      "0.09727763384580612\n"
     ]
    },
    {
     "name": "stderr",
     "output_type": "stream",
     "text": [
      "100%|███████████████████████████████████████████████████████████████████████████████████████████████████████████████████████████████████████████| 5/5 [00:11<00:00,  2.33s/it]\n"
     ]
    },
    {
     "name": "stdout",
     "output_type": "stream",
     "text": [
      "10/96) Num bins: 2 Forget LR: 0.05 Forget iter: 5\n",
      "0.09465211629867554\n"
     ]
    },
    {
     "name": "stderr",
     "output_type": "stream",
     "text": [
      "100%|███████████████████████████████████████████████████████████████████████████████████████████████████████████████████████████████████████████| 5/5 [00:13<00:00,  2.61s/it]\n"
     ]
    },
    {
     "name": "stdout",
     "output_type": "stream",
     "text": [
      "11/96) Num bins: 2 Forget LR: 0.01 Forget iter: 2\n",
      "0.09035837650299072\n"
     ]
    },
    {
     "name": "stderr",
     "output_type": "stream",
     "text": [
      "100%|███████████████████████████████████████████████████████████████████████████████████████████████████████████████████████████████████████████| 5/5 [00:11<00:00,  2.31s/it]\n"
     ]
    },
    {
     "name": "stdout",
     "output_type": "stream",
     "text": [
      "12/96) Num bins: 2 Forget LR: 0.01 Forget iter: 5\n",
      "0.08729501813650131\n"
     ]
    },
    {
     "name": "stderr",
     "output_type": "stream",
     "text": [
      "100%|███████████████████████████████████████████████████████████████████████████████████████████████████████████████████████████████████████████| 5/5 [00:13<00:00,  2.62s/it]\n"
     ]
    },
    {
     "name": "stdout",
     "output_type": "stream",
     "text": [
      "13/96) Num bins: 10 Forget LR: 0.0005 Forget iter: 2\n",
      "0.07321710884571075\n"
     ]
    },
    {
     "name": "stderr",
     "output_type": "stream",
     "text": [
      "100%|███████████████████████████████████████████████████████████████████████████████████████████████████████████████████████████████████████████| 5/5 [00:11<00:00,  2.36s/it]\n"
     ]
    },
    {
     "name": "stdout",
     "output_type": "stream",
     "text": [
      "14/96) Num bins: 10 Forget LR: 0.0005 Forget iter: 5\n",
      "0.09212647378444672\n"
     ]
    },
    {
     "name": "stderr",
     "output_type": "stream",
     "text": [
      "100%|███████████████████████████████████████████████████████████████████████████████████████████████████████████████████████████████████████████| 5/5 [00:13<00:00,  2.61s/it]\n"
     ]
    },
    {
     "name": "stdout",
     "output_type": "stream",
     "text": [
      "15/96) Num bins: 10 Forget LR: 0.0001 Forget iter: 2\n",
      "0.07086554914712906\n"
     ]
    },
    {
     "name": "stderr",
     "output_type": "stream",
     "text": [
      "100%|███████████████████████████████████████████████████████████████████████████████████████████████████████████████████████████████████████████| 5/5 [00:11<00:00,  2.32s/it]\n"
     ]
    },
    {
     "name": "stdout",
     "output_type": "stream",
     "text": [
      "16/96) Num bins: 10 Forget LR: 0.0001 Forget iter: 5\n",
      "0.08274604380130768\n"
     ]
    },
    {
     "name": "stderr",
     "output_type": "stream",
     "text": [
      "100%|███████████████████████████████████████████████████████████████████████████████████████████████████████████████████████████████████████████| 5/5 [00:13<00:00,  2.64s/it]\n"
     ]
    },
    {
     "name": "stdout",
     "output_type": "stream",
     "text": [
      "17/96) Num bins: 10 Forget LR: 0.005 Forget iter: 2\n",
      "0.09236215054988861\n"
     ]
    },
    {
     "name": "stderr",
     "output_type": "stream",
     "text": [
      "100%|███████████████████████████████████████████████████████████████████████████████████████████████████████████████████████████████████████████| 5/5 [00:11<00:00,  2.30s/it]\n"
     ]
    },
    {
     "name": "stdout",
     "output_type": "stream",
     "text": [
      "18/96) Num bins: 10 Forget LR: 0.005 Forget iter: 5\n",
      "0.082712322473526\n"
     ]
    },
    {
     "name": "stderr",
     "output_type": "stream",
     "text": [
      "100%|███████████████████████████████████████████████████████████████████████████████████████████████████████████████████████████████████████████| 5/5 [00:13<00:00,  2.62s/it]\n"
     ]
    },
    {
     "name": "stdout",
     "output_type": "stream",
     "text": [
      "19/96) Num bins: 10 Forget LR: 0.001 Forget iter: 2\n",
      "0.08848592638969421\n"
     ]
    },
    {
     "name": "stderr",
     "output_type": "stream",
     "text": [
      "100%|███████████████████████████████████████████████████████████████████████████████████████████████████████████████████████████████████████████| 5/5 [00:11<00:00,  2.34s/it]\n"
     ]
    },
    {
     "name": "stdout",
     "output_type": "stream",
     "text": [
      "20/96) Num bins: 10 Forget LR: 0.001 Forget iter: 5\n",
      "0.11396373808383942\n"
     ]
    },
    {
     "name": "stderr",
     "output_type": "stream",
     "text": [
      "100%|███████████████████████████████████████████████████████████████████████████████████████████████████████████████████████████████████████████| 5/5 [00:13<00:00,  2.62s/it]\n"
     ]
    },
    {
     "name": "stdout",
     "output_type": "stream",
     "text": [
      "21/96) Num bins: 10 Forget LR: 0.05 Forget iter: 2\n",
      "0.2793281674385071\n"
     ]
    },
    {
     "name": "stderr",
     "output_type": "stream",
     "text": [
      "100%|███████████████████████████████████████████████████████████████████████████████████████████████████████████████████████████████████████████| 5/5 [00:11<00:00,  2.35s/it]\n"
     ]
    },
    {
     "name": "stdout",
     "output_type": "stream",
     "text": [
      "22/96) Num bins: 10 Forget LR: 0.05 Forget iter: 5\n",
      "0.09433972835540771\n"
     ]
    },
    {
     "name": "stderr",
     "output_type": "stream",
     "text": [
      "100%|███████████████████████████████████████████████████████████████████████████████████████████████████████████████████████████████████████████| 5/5 [00:13<00:00,  2.60s/it]\n"
     ]
    },
    {
     "name": "stdout",
     "output_type": "stream",
     "text": [
      "23/96) Num bins: 10 Forget LR: 0.01 Forget iter: 2\n",
      "0.09086494892835617\n"
     ]
    },
    {
     "name": "stderr",
     "output_type": "stream",
     "text": [
      "100%|███████████████████████████████████████████████████████████████████████████████████████████████████████████████████████████████████████████| 5/5 [00:11<00:00,  2.34s/it]\n"
     ]
    },
    {
     "name": "stdout",
     "output_type": "stream",
     "text": [
      "24/96) Num bins: 10 Forget LR: 0.01 Forget iter: 5\n",
      "0.08760674297809601\n"
     ]
    },
    {
     "name": "stderr",
     "output_type": "stream",
     "text": [
      "100%|███████████████████████████████████████████████████████████████████████████████████████████████████████████████████████████████████████████| 5/5 [00:13<00:00,  2.65s/it]\n"
     ]
    },
    {
     "name": "stdout",
     "output_type": "stream",
     "text": [
      "25/96) Num bins: 25 Forget LR: 0.0005 Forget iter: 2\n",
      "0.06925290822982788\n"
     ]
    },
    {
     "name": "stderr",
     "output_type": "stream",
     "text": [
      "100%|███████████████████████████████████████████████████████████████████████████████████████████████████████████████████████████████████████████| 5/5 [00:11<00:00,  2.27s/it]\n"
     ]
    },
    {
     "name": "stdout",
     "output_type": "stream",
     "text": [
      "26/96) Num bins: 25 Forget LR: 0.0005 Forget iter: 5\n",
      "0.0754542425274849\n"
     ]
    },
    {
     "name": "stderr",
     "output_type": "stream",
     "text": [
      "100%|███████████████████████████████████████████████████████████████████████████████████████████████████████████████████████████████████████████| 5/5 [00:12<00:00,  2.46s/it]\n"
     ]
    },
    {
     "name": "stdout",
     "output_type": "stream",
     "text": [
      "27/96) Num bins: 25 Forget LR: 0.0001 Forget iter: 2\n",
      "0.11649495363235474\n"
     ]
    },
    {
     "name": "stderr",
     "output_type": "stream",
     "text": [
      "100%|███████████████████████████████████████████████████████████████████████████████████████████████████████████████████████████████████████████| 5/5 [00:11<00:00,  2.35s/it]\n"
     ]
    },
    {
     "name": "stdout",
     "output_type": "stream",
     "text": [
      "28/96) Num bins: 25 Forget LR: 0.0001 Forget iter: 5\n",
      "0.07032318413257599\n"
     ]
    },
    {
     "name": "stderr",
     "output_type": "stream",
     "text": [
      "100%|███████████████████████████████████████████████████████████████████████████████████████████████████████████████████████████████████████████| 5/5 [00:13<00:00,  2.63s/it]\n"
     ]
    },
    {
     "name": "stdout",
     "output_type": "stream",
     "text": [
      "29/96) Num bins: 25 Forget LR: 0.005 Forget iter: 2\n",
      "0.0818091556429863\n"
     ]
    },
    {
     "name": "stderr",
     "output_type": "stream",
     "text": [
      "100%|███████████████████████████████████████████████████████████████████████████████████████████████████████████████████████████████████████████| 5/5 [00:11<00:00,  2.36s/it]\n"
     ]
    },
    {
     "name": "stdout",
     "output_type": "stream",
     "text": [
      "30/96) Num bins: 25 Forget LR: 0.005 Forget iter: 5\n",
      "0.08247128874063492\n"
     ]
    },
    {
     "name": "stderr",
     "output_type": "stream",
     "text": [
      "100%|███████████████████████████████████████████████████████████████████████████████████████████████████████████████████████████████████████████| 5/5 [00:13<00:00,  2.61s/it]\n"
     ]
    },
    {
     "name": "stdout",
     "output_type": "stream",
     "text": [
      "31/96) Num bins: 25 Forget LR: 0.001 Forget iter: 2\n",
      "0.08770618587732315\n"
     ]
    },
    {
     "name": "stderr",
     "output_type": "stream",
     "text": [
      "100%|███████████████████████████████████████████████████████████████████████████████████████████████████████████████████████████████████████████| 5/5 [00:11<00:00,  2.33s/it]\n"
     ]
    },
    {
     "name": "stdout",
     "output_type": "stream",
     "text": [
      "32/96) Num bins: 25 Forget LR: 0.001 Forget iter: 5\n",
      "0.09388088434934616\n"
     ]
    },
    {
     "name": "stderr",
     "output_type": "stream",
     "text": [
      "100%|███████████████████████████████████████████████████████████████████████████████████████████████████████████████████████████████████████████| 5/5 [00:12<00:00,  2.59s/it]\n"
     ]
    },
    {
     "name": "stdout",
     "output_type": "stream",
     "text": [
      "33/96) Num bins: 25 Forget LR: 0.05 Forget iter: 2\n",
      "0.07811106741428375\n"
     ]
    },
    {
     "name": "stderr",
     "output_type": "stream",
     "text": [
      "100%|███████████████████████████████████████████████████████████████████████████████████████████████████████████████████████████████████████████| 5/5 [00:11<00:00,  2.34s/it]\n"
     ]
    },
    {
     "name": "stdout",
     "output_type": "stream",
     "text": [
      "34/96) Num bins: 25 Forget LR: 0.05 Forget iter: 5\n",
      "0.09498104453086853\n"
     ]
    },
    {
     "name": "stderr",
     "output_type": "stream",
     "text": [
      "100%|███████████████████████████████████████████████████████████████████████████████████████████████████████████████████████████████████████████| 5/5 [00:13<00:00,  2.64s/it]\n"
     ]
    },
    {
     "name": "stdout",
     "output_type": "stream",
     "text": [
      "35/96) Num bins: 25 Forget LR: 0.01 Forget iter: 2\n",
      "0.07958602905273438\n"
     ]
    },
    {
     "name": "stderr",
     "output_type": "stream",
     "text": [
      "100%|███████████████████████████████████████████████████████████████████████████████████████████████████████████████████████████████████████████| 5/5 [00:11<00:00,  2.36s/it]\n"
     ]
    },
    {
     "name": "stdout",
     "output_type": "stream",
     "text": [
      "36/96) Num bins: 25 Forget LR: 0.01 Forget iter: 5\n",
      "0.07837221771478653\n"
     ]
    },
    {
     "name": "stderr",
     "output_type": "stream",
     "text": [
      "100%|███████████████████████████████████████████████████████████████████████████████████████████████████████████████████████████████████████████| 5/5 [00:13<00:00,  2.65s/it]\n"
     ]
    },
    {
     "name": "stdout",
     "output_type": "stream",
     "text": [
      "37/96) Num bins: 30 Forget LR: 0.0005 Forget iter: 2\n",
      "0.12557217478752136\n"
     ]
    },
    {
     "name": "stderr",
     "output_type": "stream",
     "text": [
      "100%|███████████████████████████████████████████████████████████████████████████████████████████████████████████████████████████████████████████| 5/5 [00:11<00:00,  2.37s/it]\n"
     ]
    },
    {
     "name": "stdout",
     "output_type": "stream",
     "text": [
      "38/96) Num bins: 30 Forget LR: 0.0005 Forget iter: 5\n",
      "0.07868624478578568\n"
     ]
    },
    {
     "name": "stderr",
     "output_type": "stream",
     "text": [
      "100%|███████████████████████████████████████████████████████████████████████████████████████████████████████████████████████████████████████████| 5/5 [00:13<00:00,  2.61s/it]\n"
     ]
    },
    {
     "name": "stdout",
     "output_type": "stream",
     "text": [
      "39/96) Num bins: 30 Forget LR: 0.0001 Forget iter: 2\n",
      "0.07271556556224823\n"
     ]
    },
    {
     "name": "stderr",
     "output_type": "stream",
     "text": [
      "100%|███████████████████████████████████████████████████████████████████████████████████████████████████████████████████████████████████████████| 5/5 [00:11<00:00,  2.32s/it]\n"
     ]
    },
    {
     "name": "stdout",
     "output_type": "stream",
     "text": [
      "40/96) Num bins: 30 Forget LR: 0.0001 Forget iter: 5\n",
      "0.17334295809268951\n"
     ]
    },
    {
     "name": "stderr",
     "output_type": "stream",
     "text": [
      "100%|███████████████████████████████████████████████████████████████████████████████████████████████████████████████████████████████████████████| 5/5 [00:13<00:00,  2.63s/it]\n"
     ]
    },
    {
     "name": "stdout",
     "output_type": "stream",
     "text": [
      "41/96) Num bins: 30 Forget LR: 0.005 Forget iter: 2\n",
      "0.08629200607538223\n"
     ]
    },
    {
     "name": "stderr",
     "output_type": "stream",
     "text": [
      "100%|███████████████████████████████████████████████████████████████████████████████████████████████████████████████████████████████████████████| 5/5 [00:11<00:00,  2.33s/it]\n"
     ]
    },
    {
     "name": "stdout",
     "output_type": "stream",
     "text": [
      "42/96) Num bins: 30 Forget LR: 0.005 Forget iter: 5\n",
      "0.09185240417718887\n"
     ]
    },
    {
     "name": "stderr",
     "output_type": "stream",
     "text": [
      "100%|███████████████████████████████████████████████████████████████████████████████████████████████████████████████████████████████████████████| 5/5 [00:13<00:00,  2.61s/it]\n"
     ]
    },
    {
     "name": "stdout",
     "output_type": "stream",
     "text": [
      "43/96) Num bins: 30 Forget LR: 0.001 Forget iter: 2\n",
      "0.10581807792186737\n"
     ]
    },
    {
     "name": "stderr",
     "output_type": "stream",
     "text": [
      "100%|███████████████████████████████████████████████████████████████████████████████████████████████████████████████████████████████████████████| 5/5 [00:11<00:00,  2.39s/it]\n"
     ]
    },
    {
     "name": "stdout",
     "output_type": "stream",
     "text": [
      "44/96) Num bins: 30 Forget LR: 0.001 Forget iter: 5\n",
      "0.0657312422990799\n"
     ]
    },
    {
     "name": "stderr",
     "output_type": "stream",
     "text": [
      "100%|███████████████████████████████████████████████████████████████████████████████████████████████████████████████████████████████████████████| 5/5 [00:13<00:00,  2.62s/it]\n"
     ]
    },
    {
     "name": "stdout",
     "output_type": "stream",
     "text": [
      "45/96) Num bins: 30 Forget LR: 0.05 Forget iter: 2\n",
      "0.08766897767782211\n"
     ]
    },
    {
     "name": "stderr",
     "output_type": "stream",
     "text": [
      "100%|███████████████████████████████████████████████████████████████████████████████████████████████████████████████████████████████████████████| 5/5 [00:11<00:00,  2.38s/it]\n"
     ]
    },
    {
     "name": "stdout",
     "output_type": "stream",
     "text": [
      "46/96) Num bins: 30 Forget LR: 0.05 Forget iter: 5\n",
      "0.09926798194646835\n"
     ]
    },
    {
     "name": "stderr",
     "output_type": "stream",
     "text": [
      "100%|███████████████████████████████████████████████████████████████████████████████████████████████████████████████████████████████████████████| 5/5 [00:13<00:00,  2.64s/it]\n"
     ]
    },
    {
     "name": "stdout",
     "output_type": "stream",
     "text": [
      "47/96) Num bins: 30 Forget LR: 0.01 Forget iter: 2\n",
      "0.08418413251638412\n"
     ]
    },
    {
     "name": "stderr",
     "output_type": "stream",
     "text": [
      "100%|███████████████████████████████████████████████████████████████████████████████████████████████████████████████████████████████████████████| 5/5 [00:11<00:00,  2.36s/it]\n"
     ]
    },
    {
     "name": "stdout",
     "output_type": "stream",
     "text": [
      "48/96) Num bins: 30 Forget LR: 0.01 Forget iter: 5\n",
      "0.09120819717645645\n"
     ]
    },
    {
     "name": "stderr",
     "output_type": "stream",
     "text": [
      "100%|███████████████████████████████████████████████████████████████████████████████████████████████████████████████████████████████████████████| 5/5 [00:12<00:00,  2.60s/it]\n"
     ]
    },
    {
     "name": "stdout",
     "output_type": "stream",
     "text": [
      "49/96) Num bins: 50 Forget LR: 0.0005 Forget iter: 2\n",
      "0.09820346534252167\n"
     ]
    },
    {
     "name": "stderr",
     "output_type": "stream",
     "text": [
      "100%|███████████████████████████████████████████████████████████████████████████████████████████████████████████████████████████████████████████| 5/5 [00:11<00:00,  2.22s/it]\n"
     ]
    },
    {
     "name": "stdout",
     "output_type": "stream",
     "text": [
      "50/96) Num bins: 50 Forget LR: 0.0005 Forget iter: 5\n",
      "0.07644657045602798\n"
     ]
    },
    {
     "name": "stderr",
     "output_type": "stream",
     "text": [
      "100%|███████████████████████████████████████████████████████████████████████████████████████████████████████████████████████████████████████████| 5/5 [00:11<00:00,  2.26s/it]\n"
     ]
    },
    {
     "name": "stdout",
     "output_type": "stream",
     "text": [
      "51/96) Num bins: 50 Forget LR: 0.0001 Forget iter: 2\n",
      "0.08369104564189911\n"
     ]
    },
    {
     "name": "stderr",
     "output_type": "stream",
     "text": [
      "100%|███████████████████████████████████████████████████████████████████████████████████████████████████████████████████████████████████████████| 5/5 [00:09<00:00,  2.00s/it]\n"
     ]
    },
    {
     "name": "stdout",
     "output_type": "stream",
     "text": [
      "52/96) Num bins: 50 Forget LR: 0.0001 Forget iter: 5\n",
      "0.1013462021946907\n"
     ]
    },
    {
     "name": "stderr",
     "output_type": "stream",
     "text": [
      "100%|███████████████████████████████████████████████████████████████████████████████████████████████████████████████████████████████████████████| 5/5 [00:11<00:00,  2.29s/it]\n"
     ]
    },
    {
     "name": "stdout",
     "output_type": "stream",
     "text": [
      "53/96) Num bins: 50 Forget LR: 0.005 Forget iter: 2\n",
      "0.07691362500190735\n"
     ]
    },
    {
     "name": "stderr",
     "output_type": "stream",
     "text": [
      "100%|███████████████████████████████████████████████████████████████████████████████████████████████████████████████████████████████████████████| 5/5 [00:09<00:00,  2.00s/it]\n"
     ]
    },
    {
     "name": "stdout",
     "output_type": "stream",
     "text": [
      "54/96) Num bins: 50 Forget LR: 0.005 Forget iter: 5\n",
      "0.08308148384094238\n"
     ]
    },
    {
     "name": "stderr",
     "output_type": "stream",
     "text": [
      "100%|███████████████████████████████████████████████████████████████████████████████████████████████████████████████████████████████████████████| 5/5 [00:11<00:00,  2.39s/it]\n"
     ]
    },
    {
     "name": "stdout",
     "output_type": "stream",
     "text": [
      "55/96) Num bins: 50 Forget LR: 0.001 Forget iter: 2\n",
      "0.0907861739397049\n"
     ]
    },
    {
     "name": "stderr",
     "output_type": "stream",
     "text": [
      "100%|███████████████████████████████████████████████████████████████████████████████████████████████████████████████████████████████████████████| 5/5 [00:10<00:00,  2.08s/it]\n"
     ]
    },
    {
     "name": "stdout",
     "output_type": "stream",
     "text": [
      "56/96) Num bins: 50 Forget LR: 0.001 Forget iter: 5\n",
      "0.1118982806801796\n"
     ]
    },
    {
     "name": "stderr",
     "output_type": "stream",
     "text": [
      "100%|███████████████████████████████████████████████████████████████████████████████████████████████████████████████████████████████████████████| 5/5 [00:09<00:00,  1.90s/it]\n"
     ]
    },
    {
     "name": "stdout",
     "output_type": "stream",
     "text": [
      "57/96) Num bins: 50 Forget LR: 0.05 Forget iter: 2\n",
      "0.08302341401576996\n"
     ]
    },
    {
     "name": "stderr",
     "output_type": "stream",
     "text": [
      "100%|███████████████████████████████████████████████████████████████████████████████████████████████████████████████████████████████████████████| 5/5 [00:05<00:00,  1.10s/it]\n"
     ]
    },
    {
     "name": "stdout",
     "output_type": "stream",
     "text": [
      "58/96) Num bins: 50 Forget LR: 0.05 Forget iter: 5\n",
      "0.06833011656999588\n"
     ]
    },
    {
     "name": "stderr",
     "output_type": "stream",
     "text": [
      "100%|███████████████████████████████████████████████████████████████████████████████████████████████████████████████████████████████████████████| 5/5 [00:05<00:00,  1.16s/it]\n"
     ]
    },
    {
     "name": "stdout",
     "output_type": "stream",
     "text": [
      "59/96) Num bins: 50 Forget LR: 0.01 Forget iter: 2\n",
      "0.09002663195133209\n"
     ]
    },
    {
     "name": "stderr",
     "output_type": "stream",
     "text": [
      "100%|███████████████████████████████████████████████████████████████████████████████████████████████████████████████████████████████████████████| 5/5 [00:05<00:00,  1.04s/it]\n"
     ]
    },
    {
     "name": "stdout",
     "output_type": "stream",
     "text": [
      "60/96) Num bins: 50 Forget LR: 0.01 Forget iter: 5\n",
      "0.08537914603948593\n"
     ]
    },
    {
     "name": "stderr",
     "output_type": "stream",
     "text": [
      "100%|███████████████████████████████████████████████████████████████████████████████████████████████████████████████████████████████████████████| 5/5 [00:05<00:00,  1.16s/it]\n"
     ]
    },
    {
     "name": "stdout",
     "output_type": "stream",
     "text": [
      "61/96) Num bins: 75 Forget LR: 0.0005 Forget iter: 2\n",
      "0.11611536890268326\n"
     ]
    },
    {
     "name": "stderr",
     "output_type": "stream",
     "text": [
      "100%|███████████████████████████████████████████████████████████████████████████████████████████████████████████████████████████████████████████| 5/5 [00:05<00:00,  1.04s/it]\n"
     ]
    },
    {
     "name": "stdout",
     "output_type": "stream",
     "text": [
      "62/96) Num bins: 75 Forget LR: 0.0005 Forget iter: 5\n",
      "0.2901882827281952\n"
     ]
    },
    {
     "name": "stderr",
     "output_type": "stream",
     "text": [
      "100%|███████████████████████████████████████████████████████████████████████████████████████████████████████████████████████████████████████████| 5/5 [00:05<00:00,  1.16s/it]\n"
     ]
    },
    {
     "name": "stdout",
     "output_type": "stream",
     "text": [
      "63/96) Num bins: 75 Forget LR: 0.0001 Forget iter: 2\n",
      "0.07376590371131897\n"
     ]
    },
    {
     "name": "stderr",
     "output_type": "stream",
     "text": [
      "100%|███████████████████████████████████████████████████████████████████████████████████████████████████████████████████████████████████████████| 5/5 [00:05<00:00,  1.04s/it]\n"
     ]
    },
    {
     "name": "stdout",
     "output_type": "stream",
     "text": [
      "64/96) Num bins: 75 Forget LR: 0.0001 Forget iter: 5\n",
      "0.06133732944726944\n"
     ]
    },
    {
     "name": "stderr",
     "output_type": "stream",
     "text": [
      "100%|███████████████████████████████████████████████████████████████████████████████████████████████████████████████████████████████████████████| 5/5 [00:06<00:00,  1.22s/it]\n"
     ]
    },
    {
     "name": "stdout",
     "output_type": "stream",
     "text": [
      "65/96) Num bins: 75 Forget LR: 0.005 Forget iter: 2\n",
      "0.09267379343509674\n"
     ]
    },
    {
     "name": "stderr",
     "output_type": "stream",
     "text": [
      "100%|███████████████████████████████████████████████████████████████████████████████████████████████████████████████████████████████████████████| 5/5 [00:05<00:00,  1.04s/it]\n"
     ]
    },
    {
     "name": "stdout",
     "output_type": "stream",
     "text": [
      "66/96) Num bins: 75 Forget LR: 0.005 Forget iter: 5\n",
      "0.07810963690280914\n"
     ]
    },
    {
     "name": "stderr",
     "output_type": "stream",
     "text": [
      "100%|███████████████████████████████████████████████████████████████████████████████████████████████████████████████████████████████████████████| 5/5 [00:05<00:00,  1.16s/it]\n"
     ]
    },
    {
     "name": "stdout",
     "output_type": "stream",
     "text": [
      "67/96) Num bins: 75 Forget LR: 0.001 Forget iter: 2\n",
      "0.08673441410064697\n"
     ]
    },
    {
     "name": "stderr",
     "output_type": "stream",
     "text": [
      "100%|███████████████████████████████████████████████████████████████████████████████████████████████████████████████████████████████████████████| 5/5 [00:05<00:00,  1.04s/it]\n"
     ]
    },
    {
     "name": "stdout",
     "output_type": "stream",
     "text": [
      "68/96) Num bins: 75 Forget LR: 0.001 Forget iter: 5\n",
      "0.08276491612195969\n"
     ]
    },
    {
     "name": "stderr",
     "output_type": "stream",
     "text": [
      "100%|███████████████████████████████████████████████████████████████████████████████████████████████████████████████████████████████████████████| 5/5 [00:05<00:00,  1.16s/it]\n"
     ]
    },
    {
     "name": "stdout",
     "output_type": "stream",
     "text": [
      "69/96) Num bins: 75 Forget LR: 0.05 Forget iter: 2\n",
      "0.08345582336187363\n"
     ]
    },
    {
     "name": "stderr",
     "output_type": "stream",
     "text": [
      "100%|███████████████████████████████████████████████████████████████████████████████████████████████████████████████████████████████████████████| 5/5 [00:05<00:00,  1.04s/it]\n"
     ]
    },
    {
     "name": "stdout",
     "output_type": "stream",
     "text": [
      "70/96) Num bins: 75 Forget LR: 0.05 Forget iter: 5\n",
      "0.10094858705997467\n"
     ]
    },
    {
     "name": "stderr",
     "output_type": "stream",
     "text": [
      "100%|███████████████████████████████████████████████████████████████████████████████████████████████████████████████████████████████████████████| 5/5 [00:05<00:00,  1.16s/it]\n"
     ]
    },
    {
     "name": "stdout",
     "output_type": "stream",
     "text": [
      "71/96) Num bins: 75 Forget LR: 0.01 Forget iter: 2\n",
      "0.08727222681045532\n"
     ]
    },
    {
     "name": "stderr",
     "output_type": "stream",
     "text": [
      "100%|███████████████████████████████████████████████████████████████████████████████████████████████████████████████████████████████████████████| 5/5 [00:05<00:00,  1.04s/it]\n"
     ]
    },
    {
     "name": "stdout",
     "output_type": "stream",
     "text": [
      "72/96) Num bins: 75 Forget LR: 0.01 Forget iter: 5\n",
      "0.08678574115037918\n"
     ]
    },
    {
     "name": "stderr",
     "output_type": "stream",
     "text": [
      "100%|███████████████████████████████████████████████████████████████████████████████████████████████████████████████████████████████████████████| 5/5 [00:05<00:00,  1.16s/it]\n"
     ]
    },
    {
     "name": "stdout",
     "output_type": "stream",
     "text": [
      "73/96) Num bins: 90 Forget LR: 0.0005 Forget iter: 2\n",
      "0.08754853159189224\n"
     ]
    },
    {
     "name": "stderr",
     "output_type": "stream",
     "text": [
      "100%|███████████████████████████████████████████████████████████████████████████████████████████████████████████████████████████████████████████| 5/5 [00:05<00:00,  1.04s/it]\n"
     ]
    },
    {
     "name": "stdout",
     "output_type": "stream",
     "text": [
      "74/96) Num bins: 90 Forget LR: 0.0005 Forget iter: 5\n",
      "0.08611060678958893\n"
     ]
    },
    {
     "name": "stderr",
     "output_type": "stream",
     "text": [
      "100%|███████████████████████████████████████████████████████████████████████████████████████████████████████████████████████████████████████████| 5/5 [00:05<00:00,  1.16s/it]\n"
     ]
    },
    {
     "name": "stdout",
     "output_type": "stream",
     "text": [
      "75/96) Num bins: 90 Forget LR: 0.0001 Forget iter: 2\n",
      "0.06617403030395508\n"
     ]
    },
    {
     "name": "stderr",
     "output_type": "stream",
     "text": [
      "100%|███████████████████████████████████████████████████████████████████████████████████████████████████████████████████████████████████████████| 5/5 [00:05<00:00,  1.04s/it]\n"
     ]
    },
    {
     "name": "stdout",
     "output_type": "stream",
     "text": [
      "76/96) Num bins: 90 Forget LR: 0.0001 Forget iter: 5\n",
      "0.09328484535217285\n"
     ]
    },
    {
     "name": "stderr",
     "output_type": "stream",
     "text": [
      "100%|███████████████████████████████████████████████████████████████████████████████████████████████████████████████████████████████████████████| 5/5 [00:05<00:00,  1.16s/it]\n"
     ]
    },
    {
     "name": "stdout",
     "output_type": "stream",
     "text": [
      "77/96) Num bins: 90 Forget LR: 0.005 Forget iter: 2\n",
      "0.09065887331962585\n"
     ]
    },
    {
     "name": "stderr",
     "output_type": "stream",
     "text": [
      "100%|███████████████████████████████████████████████████████████████████████████████████████████████████████████████████████████████████████████| 5/5 [00:05<00:00,  1.05s/it]\n"
     ]
    },
    {
     "name": "stdout",
     "output_type": "stream",
     "text": [
      "78/96) Num bins: 90 Forget LR: 0.005 Forget iter: 5\n",
      "0.07872866094112396\n"
     ]
    },
    {
     "name": "stderr",
     "output_type": "stream",
     "text": [
      "100%|███████████████████████████████████████████████████████████████████████████████████████████████████████████████████████████████████████████| 5/5 [00:05<00:00,  1.16s/it]\n"
     ]
    },
    {
     "name": "stdout",
     "output_type": "stream",
     "text": [
      "79/96) Num bins: 90 Forget LR: 0.001 Forget iter: 2\n",
      "0.0790729746222496\n"
     ]
    },
    {
     "name": "stderr",
     "output_type": "stream",
     "text": [
      "100%|███████████████████████████████████████████████████████████████████████████████████████████████████████████████████████████████████████████| 5/5 [00:05<00:00,  1.15s/it]\n"
     ]
    },
    {
     "name": "stdout",
     "output_type": "stream",
     "text": [
      "80/96) Num bins: 90 Forget LR: 0.001 Forget iter: 5\n",
      "0.07402057945728302\n"
     ]
    },
    {
     "name": "stderr",
     "output_type": "stream",
     "text": [
      "100%|███████████████████████████████████████████████████████████████████████████████████████████████████████████████████████████████████████████| 5/5 [00:06<00:00,  1.26s/it]\n"
     ]
    },
    {
     "name": "stdout",
     "output_type": "stream",
     "text": [
      "81/96) Num bins: 90 Forget LR: 0.05 Forget iter: 2\n",
      "0.10348979383707047\n"
     ]
    },
    {
     "name": "stderr",
     "output_type": "stream",
     "text": [
      "100%|███████████████████████████████████████████████████████████████████████████████████████████████████████████████████████████████████████████| 5/5 [00:05<00:00,  1.05s/it]\n"
     ]
    },
    {
     "name": "stdout",
     "output_type": "stream",
     "text": [
      "82/96) Num bins: 90 Forget LR: 0.05 Forget iter: 5\n",
      "0.1036841869354248\n"
     ]
    },
    {
     "name": "stderr",
     "output_type": "stream",
     "text": [
      "100%|███████████████████████████████████████████████████████████████████████████████████████████████████████████████████████████████████████████| 5/5 [00:05<00:00,  1.16s/it]\n"
     ]
    },
    {
     "name": "stdout",
     "output_type": "stream",
     "text": [
      "83/96) Num bins: 90 Forget LR: 0.01 Forget iter: 2\n",
      "0.11071334034204483\n"
     ]
    },
    {
     "name": "stderr",
     "output_type": "stream",
     "text": [
      "100%|███████████████████████████████████████████████████████████████████████████████████████████████████████████████████████████████████████████| 5/5 [00:05<00:00,  1.04s/it]\n"
     ]
    },
    {
     "name": "stdout",
     "output_type": "stream",
     "text": [
      "84/96) Num bins: 90 Forget LR: 0.01 Forget iter: 5\n",
      "0.10201221704483032\n"
     ]
    },
    {
     "name": "stderr",
     "output_type": "stream",
     "text": [
      "100%|███████████████████████████████████████████████████████████████████████████████████████████████████████████████████████████████████████████| 5/5 [00:05<00:00,  1.15s/it]\n"
     ]
    },
    {
     "name": "stdout",
     "output_type": "stream",
     "text": [
      "85/96) Num bins: 100 Forget LR: 0.0005 Forget iter: 2\n",
      "0.11925189197063446\n"
     ]
    },
    {
     "name": "stderr",
     "output_type": "stream",
     "text": [
      "100%|███████████████████████████████████████████████████████████████████████████████████████████████████████████████████████████████████████████| 5/5 [00:05<00:00,  1.02s/it]\n"
     ]
    },
    {
     "name": "stdout",
     "output_type": "stream",
     "text": [
      "86/96) Num bins: 100 Forget LR: 0.0005 Forget iter: 5\n",
      "0.07689028233289719\n"
     ]
    },
    {
     "name": "stderr",
     "output_type": "stream",
     "text": [
      "100%|███████████████████████████████████████████████████████████████████████████████████████████████████████████████████████████████████████████| 5/5 [00:05<00:00,  1.16s/it]\n"
     ]
    },
    {
     "name": "stdout",
     "output_type": "stream",
     "text": [
      "87/96) Num bins: 100 Forget LR: 0.0001 Forget iter: 2\n",
      "0.08137205988168716\n"
     ]
    },
    {
     "name": "stderr",
     "output_type": "stream",
     "text": [
      "100%|███████████████████████████████████████████████████████████████████████████████████████████████████████████████████████████████████████████| 5/5 [00:05<00:00,  1.02s/it]\n"
     ]
    },
    {
     "name": "stdout",
     "output_type": "stream",
     "text": [
      "88/96) Num bins: 100 Forget LR: 0.0001 Forget iter: 5\n",
      "0.09140786528587341\n"
     ]
    },
    {
     "name": "stderr",
     "output_type": "stream",
     "text": [
      "100%|███████████████████████████████████████████████████████████████████████████████████████████████████████████████████████████████████████████| 5/5 [00:05<00:00,  1.13s/it]\n"
     ]
    },
    {
     "name": "stdout",
     "output_type": "stream",
     "text": [
      "89/96) Num bins: 100 Forget LR: 0.005 Forget iter: 2\n",
      "0.09050580859184265\n"
     ]
    },
    {
     "name": "stderr",
     "output_type": "stream",
     "text": [
      "100%|███████████████████████████████████████████████████████████████████████████████████████████████████████████████████████████████████████████| 5/5 [00:05<00:00,  1.02s/it]\n"
     ]
    },
    {
     "name": "stdout",
     "output_type": "stream",
     "text": [
      "90/96) Num bins: 100 Forget LR: 0.005 Forget iter: 5\n",
      "0.08029891550540924\n"
     ]
    },
    {
     "name": "stderr",
     "output_type": "stream",
     "text": [
      "100%|███████████████████████████████████████████████████████████████████████████████████████████████████████████████████████████████████████████| 5/5 [00:06<00:00,  1.30s/it]\n"
     ]
    },
    {
     "name": "stdout",
     "output_type": "stream",
     "text": [
      "91/96) Num bins: 100 Forget LR: 0.001 Forget iter: 2\n",
      "0.06825585663318634\n"
     ]
    },
    {
     "name": "stderr",
     "output_type": "stream",
     "text": [
      "100%|███████████████████████████████████████████████████████████████████████████████████████████████████████████████████████████████████████████| 5/5 [00:05<00:00,  1.02s/it]\n"
     ]
    },
    {
     "name": "stdout",
     "output_type": "stream",
     "text": [
      "92/96) Num bins: 100 Forget LR: 0.001 Forget iter: 5\n",
      "0.09292684495449066\n"
     ]
    },
    {
     "name": "stderr",
     "output_type": "stream",
     "text": [
      "100%|███████████████████████████████████████████████████████████████████████████████████████████████████████████████████████████████████████████| 5/5 [00:06<00:00,  1.22s/it]\n"
     ]
    },
    {
     "name": "stdout",
     "output_type": "stream",
     "text": [
      "93/96) Num bins: 100 Forget LR: 0.05 Forget iter: 2\n",
      "0.2847103476524353\n"
     ]
    },
    {
     "name": "stderr",
     "output_type": "stream",
     "text": [
      "100%|███████████████████████████████████████████████████████████████████████████████████████████████████████████████████████████████████████████| 5/5 [00:05<00:00,  1.02s/it]\n"
     ]
    },
    {
     "name": "stdout",
     "output_type": "stream",
     "text": [
      "94/96) Num bins: 100 Forget LR: 0.05 Forget iter: 5\n",
      "0.09982119500637054\n"
     ]
    },
    {
     "name": "stderr",
     "output_type": "stream",
     "text": [
      "100%|███████████████████████████████████████████████████████████████████████████████████████████████████████████████████████████████████████████| 5/5 [00:05<00:00,  1.16s/it]\n"
     ]
    },
    {
     "name": "stdout",
     "output_type": "stream",
     "text": [
      "95/96) Num bins: 100 Forget LR: 0.01 Forget iter: 2\n",
      "0.10118277370929718\n"
     ]
    },
    {
     "name": "stderr",
     "output_type": "stream",
     "text": [
      "100%|███████████████████████████████████████████████████████████████████████████████████████████████████████████████████████████████████████████| 5/5 [00:05<00:00,  1.02s/it]"
     ]
    },
    {
     "name": "stdout",
     "output_type": "stream",
     "text": [
      "96/96) Num bins: 100 Forget LR: 0.01 Forget iter: 5\n",
      "0.08000656217336655\n",
      "Best Num Bins: 5 Best Forget LR: 1 Best Forget Iter: 5\n"
     ]
    },
    {
     "name": "stderr",
     "output_type": "stream",
     "text": [
      "\n"
     ]
    }
   ],
   "source": [
    "num_bins = [2, 10, 25, 30, 50, 75, 90, 100]\n",
    "forget_lrs = [5e-4, 1e-4, 5e-3, 1e-3, 5e-2, 1e-2]\n",
    "forget_iters = [2, 5]\n",
    "\n",
    "hyp_losses = np.zeros((len(num_bins), len(forget_lrs), len(forget_iters)))\n",
    "\n",
    "for i in range(len(num_bins)):\n",
    "    for j  in range(len(forget_lrs)):\n",
    "        for k in range(len(forget_iters)):\n",
    "            model = SiFer_Ord([32, 32, 32, 8], [8, 8], 1, val_inputs.shape[1], 1, num_bins[i]).to(device)\n",
    "            model, train_losses, val_losses = train_ordinal(model, norm_train_dataloader, val_inputs, val_targets, np.max(train_targets), num_bins = num_bins[i], forget_iters = forget_iters[k], lrs = [lrs[best_lr], lrs[best_lr], forget_lrs[j]], epochs = 5)\n",
    "            hyp_losses[i, j, k] += eval_fsmodel(model, norm_val_inputs, val_targets, device)\n",
    "            print(f\"{i*(len(forget_lrs) * len(forget_iters)) + j*(len(forget_iters)) + k + 1}/{len(num_bins) * len(forget_lrs)* len(forget_iters)}) Num bins: {num_bins[i]} Forget LR: {forget_lrs[j]} Forget iter: {forget_iters[k]}\")\n",
    "            print(hyp_losses[i,j,k])\n",
    "\n",
    "best_num_bins_ord, best_forget_lr_ord, best_forget_iter_ord = np.unravel_index(np.argmin(hyp_losses), hyp_losses.shape)\n",
    "print(f\"Best Num Bins: {best_num_bins_ord} Best Forget LR: {best_forget_lr_ord} Best Forget Iter: {forget_iters[best_forget_iter_ord]}\")"
   ]
  },
  {
   "cell_type": "code",
   "execution_count": 30,
   "id": "b6940859-e731-465f-ade8-a1d49e58a6fd",
   "metadata": {},
   "outputs": [
    {
     "name": "stderr",
     "output_type": "stream",
     "text": [
      "100%|█████████████████████████████████████████████████████████████████████████████████████████████████████████████████████████████████████████| 10/10 [00:10<00:00,  1.03s/it]"
     ]
    },
    {
     "name": "stdout",
     "output_type": "stream",
     "text": [
      "tensor(0.0603)\n"
     ]
    },
    {
     "name": "stderr",
     "output_type": "stream",
     "text": [
      "\n"
     ]
    }
   ],
   "source": [
    "model = SiFer_Ord([32, 32, 32, 8], [8, 8], 1, val_inputs.shape[1], 1, num_bins[best_num_bins_ord]).to(device)\n",
    "model, train_losses, val_losses = train_ordinal(model, norm_train_dataloader, val_inputs, val_targets, np.max(train_targets), num_bins = num_bins[best_num_bins_ord], forget_iters = forget_iters[best_forget_iter_ord], lrs = [lrs[best_lr], lrs[best_lr], forget_lrs[best_forget_lr_ord]])\n",
    "test_loss_ord = eval_fsmodel(model, norm_tst_inputs, tst_targets, device)\n",
    "print(test_loss_ord)"
   ]
  },
  {
   "cell_type": "markdown",
   "id": "839e1a21-9d6d-4c94-a11a-89fd2bbd3807",
   "metadata": {},
   "source": [
    "## Visualization "
   ]
  },
  {
   "cell_type": "code",
   "execution_count": 31,
   "id": "d1a6a118-fda5-4f93-bdff-fe528479ea03",
   "metadata": {},
   "outputs": [],
   "source": [
    "def bar_plot(data, xlabel, ylabel, title, name):\n",
    "    x = list(data.keys())\n",
    "    y = list(data.values())\n",
    "    \n",
    "    fig, ax = plt.subplots(figsize = (20, 10))\n",
    "    # Create the bar plot\n",
    "    ax.bar(x, y, color ='maroon', width = 0.4)\n",
    "    # Set the title and labels\n",
    "    ax.set_title(title)\n",
    "    ax.set_xlabel(xlabel)\n",
    "    ax.set_ylabel(ylabel)\n",
    "    # Display the values on top of the bars\n",
    "    plt.xticks(rotation = 45)\n",
    "    for i, v in enumerate(y):\n",
    "        ax.text(i, v + 0.005 if v> 0 else v-5, '{:.4f}'.format(v), color='black', ha='center')\n",
    "        \n",
    "    plt.savefig(f\"./Outputs/Regression/{name}.png\")"
   ]
  },
  {
   "cell_type": "code",
   "execution_count": 32,
   "id": "f6f5ee9c-763e-4cb0-8bf0-273f8658702b",
   "metadata": {
    "scrolled": true
   },
   "outputs": [
    {
     "data": {
      "image/png": "[encoded data removed]",
      "text/plain": [
       "<Figure size 2000x1000 with 1 Axes>"
      ]
     },
     "metadata": {},
     "output_type": "display_data"
    }
   ],
   "source": [
    "dict_ = {\n",
    "    \"Linear Regression\":test_loss_lr,\n",
    "    \"Decision Tree Regressor\":test_loss_dtr,\n",
    "    \"Random Forest Regressor\": test_loss_rf,\n",
    "    \"XGBoost Regressor\": test_loss_xgb, \n",
    "    \"Gradient Boosting Regressor\": test_loss_gbt, \n",
    "    \"CatBoost Regressor\": test_loss_cat, \n",
    "    \"LightGBM\": test_loss_lgbm, \n",
    "    \"Neural Network\": test_loss_mlp, \n",
    "    \"SiFer Margin\": test_loss_margin, \n",
    "    \"SiFer Cross Entrpy\": test_loss_cross, \n",
    "    \"Sifer Ordinal\": test_loss_ord\n",
    "}\n",
    "bar_plot(dict_, f\"{dataset_name}\", df['target_names'][0], f\"Tabular Dataset Comparison ({dataset_name})\", f'tab-data-{dataset_name}')"
   ]
  },
  {
   "cell_type": "code",
   "execution_count": 33,
   "id": "7f6d75e3-49c5-4062-9940-74a366b08d97",
   "metadata": {},
   "outputs": [
    {
     "data": {
      "text/html": [
       "<div>\n",
       "<style scoped>\n",
       "    .dataframe tbody tr th:only-of-type {\n",
       "        vertical-align: middle;\n",
       "    }\n",
       "\n",
       "    .dataframe tbody tr th {\n",
       "        vertical-align: top;\n",
       "    }\n",
       "\n",
       "    .dataframe thead th {\n",
       "        text-align: right;\n",
       "    }\n",
       "</style>\n",
       "<table border=\"1\" class=\"dataframe\">\n",
       "  <thead>\n",
       "    <tr style=\"text-align: right;\">\n",
       "      <th></th>\n",
       "      <th>price</th>\n",
       "    </tr>\n",
       "  </thead>\n",
       "  <tbody>\n",
       "    <tr>\n",
       "      <th>Linear Regression</th>\n",
       "      <td>0.076144</td>\n",
       "    </tr>\n",
       "    <tr>\n",
       "      <th>Decision Tree Regressor</th>\n",
       "      <td>0.167776</td>\n",
       "    </tr>\n",
       "    <tr>\n",
       "      <th>Random Forest Regressor</th>\n",
       "      <td>0.087777</td>\n",
       "    </tr>\n",
       "    <tr>\n",
       "      <th>XGBoost Regressor</th>\n",
       "      <td>0.070043</td>\n",
       "    </tr>\n",
       "    <tr>\n",
       "      <th>Gradient Boosting Regressor</th>\n",
       "      <td>0.057203</td>\n",
       "    </tr>\n",
       "    <tr>\n",
       "      <th>CatBoost Regressor</th>\n",
       "      <td>0.112159</td>\n",
       "    </tr>\n",
       "    <tr>\n",
       "      <th>LightGBM</th>\n",
       "      <td>0.065214</td>\n",
       "    </tr>\n",
       "    <tr>\n",
       "      <th>Neural Network</th>\n",
       "      <td>0.059421</td>\n",
       "    </tr>\n",
       "    <tr>\n",
       "      <th>SiFer Margin</th>\n",
       "      <td>0.077007</td>\n",
       "    </tr>\n",
       "    <tr>\n",
       "      <th>SiFer Cross Entrpy</th>\n",
       "      <td>0.082726</td>\n",
       "    </tr>\n",
       "    <tr>\n",
       "      <th>Sifer Ordinal</th>\n",
       "      <td>0.060255</td>\n",
       "    </tr>\n",
       "  </tbody>\n",
       "</table>\n",
       "</div>"
      ],
      "text/plain": [
       "                                price\n",
       "Linear Regression            0.076144\n",
       "Decision Tree Regressor      0.167776\n",
       "Random Forest Regressor      0.087777\n",
       "XGBoost Regressor            0.070043\n",
       "Gradient Boosting Regressor  0.057203\n",
       "CatBoost Regressor           0.112159\n",
       "LightGBM                     0.065214\n",
       "Neural Network               0.059421\n",
       "SiFer Margin                 0.077007\n",
       "SiFer Cross Entrpy           0.082726\n",
       "Sifer Ordinal                0.060255"
      ]
     },
     "execution_count": 33,
     "metadata": {},
     "output_type": "execute_result"
    }
   ],
   "source": [
    "results_df = pd.DataFrame(dict_.values(), index = dict_.keys(), columns = [df['target_names'][0]])\n",
    "results_df[df['target_names'][0]] = results_df[df['target_names'][0]].apply(lambda x: float(x))\n",
    "results_df.to_csv(f\"./Outputs/Regression/tab-data-{dataset_name}.csv\")\n",
    "results_df"
   ]
  },
  {
   "cell_type": "code",
   "execution_count": null,
   "id": "a4a87ce8-f452-4805-a4b1-21fb86a0cfe5",
   "metadata": {},
   "outputs": [],
   "source": []
  }
 ],
 "metadata": {
  "kernelspec": {
   "display_name": "Python 3 (ipykernel)",
   "language": "python",
   "name": "python3"
  },
  "language_info": {
   "codemirror_mode": {
    "name": "ipython",
    "version": 3
   },
   "file_extension": ".py",
   "mimetype": "text/x-python",
   "name": "python",
   "nbconvert_exporter": "python",
   "pygments_lexer": "ipython3",
   "version": "3.11.5"
  }
 },
 "nbformat": 4,
 "nbformat_minor": 5
}
