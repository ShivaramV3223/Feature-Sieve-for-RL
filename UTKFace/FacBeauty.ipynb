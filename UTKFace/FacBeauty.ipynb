{
 "cells": [
  {
   "cell_type": "markdown",
   "id": "d49cefa6-3006-44e0-990f-c13a8d3b8f63",
   "metadata": {},
   "source": [
    "# Feature Sieve Regression\n",
    "## Dataset: Facial Beauty SCUT - FBP5500"
   ]
  },
  {
   "cell_type": "code",
   "execution_count": 1,
   "id": "4cf884a1-86be-4075-aa08-38c2e65c7dc8",
   "metadata": {},
   "outputs": [],
   "source": [
    "# importing libraries\n",
    "import numpy as np\n",
    "import torch\n",
    "from torch import nn, optim\n",
    "import torch.nn.functional as F\n",
    "from PIL import Image\n",
    "from torch.utils.data import DataLoader\n",
    "from torch.utils.data import Dataset\n",
    "import matplotlib.pyplot as plt\n",
    "from torchvision import transforms, models\n",
    "import pandas as pd\n",
    "import os\n",
    "\n",
    "from torchsummary import summary\n",
    "from tqdm import tqdm\n",
    "import matplotlib.patches as mpatches\n",
    "import seaborn as sns\n",
    "\n",
    "# importing functions for the models\n",
    "from scripts.models import *\n",
    "from scripts.train import *"
   ]
  },
  {
   "cell_type": "code",
   "execution_count": 2,
   "id": "94f4053c-c57e-4776-b65b-9b86656b3a42",
   "metadata": {},
   "outputs": [
    {
     "name": "stdout",
     "output_type": "stream",
     "text": [
      "cuda\n"
     ]
    }
   ],
   "source": [
    "# initializing the seeds\n",
    "SEED = 3407\n",
    "# setting random seed\n",
    "torch.manual_seed(SEED)\n",
    "torch.cuda.manual_seed(SEED)\n",
    "np.random.seed(SEED)\n",
    "# torch.use_deterministic_algorithms(True)\n",
    "torch.backends.cudnn.deterministic = True\n",
    "torch.backends.cudnn.benchmark = False\n",
    "\n",
    "#setting device\n",
    "device = torch.device(\"cuda\" if torch.cuda.is_available() else \"CPU\")\n",
    "torch.cuda.set_device(1)\n",
    "print(device)"
   ]
  },
  {
   "cell_type": "markdown",
   "id": "3ea69dab-e4b7-42f4-8db7-ebfbb3fa7a68",
   "metadata": {},
   "source": [
    "## Data"
   ]
  },
  {
   "cell_type": "code",
   "execution_count": 3,
   "id": "7019aefe-eec2-44c2-8f15-613bfa465aaf",
   "metadata": {},
   "outputs": [
    {
     "name": "stdout",
     "output_type": "stream",
     "text": [
      "Data shape: (5500, 3, 350, 350)\n"
     ]
    }
   ],
   "source": [
    "DATA_PATH = \"./FacialBeautyData/scut_fbp5500-cmprsd.npz\"\n",
    "data = np.load(DATA_PATH)\n",
    "inputs, targets = data['X'], data['y']\n",
    "inputs = inputs.reshape((-1, inputs.shape[-1], inputs.shape[1],inputs.shape[2]))\n",
    "print(f\"Data shape: {inputs.shape}\")"
   ]
  },
  {
   "cell_type": "code",
   "execution_count": 4,
   "id": "452fe312-b45c-45f4-acee-9defc8f38461",
   "metadata": {},
   "outputs": [
    {
     "name": "stdout",
     "output_type": "stream",
     "text": [
      "# of Training points: 3300\n",
      "# of Valid points: 1100\n",
      "# of Test points: 1100\n"
     ]
    }
   ],
   "source": [
    "TRAIN_PTS, VALID_PTS, TEST_PTS = int(inputs.shape[0] * 0.6), int(inputs.shape[0] * 0.2), int(inputs.shape[0] * 0.2)\n",
    "\n",
    "train_data, train_targets = inputs[:TRAIN_PTS].astype(np.float32), targets[:TRAIN_PTS].astype(np.float32)\n",
    "valid_data, valid_targets = inputs[TRAIN_PTS: TRAIN_PTS + VALID_PTS].astype(np.float32), targets[TRAIN_PTS: TRAIN_PTS + VALID_PTS].astype(np.float32)\n",
    "test_data, test_targets = inputs[TRAIN_PTS + VALID_PTS: ].astype(np.float32), targets[TRAIN_PTS + VALID_PTS: ].astype(np.float32)\n",
    "\n",
    "print(f\"# of Training points: {train_data.shape[0]}\")\n",
    "print(f\"# of Valid points: {valid_data.shape[0]}\")\n",
    "print(f\"# of Test points: {test_data.shape[0]}\")"
   ]
  },
  {
   "cell_type": "code",
   "execution_count": 5,
   "id": "cd1d2234-027c-48bc-a91c-67557ad213d3",
   "metadata": {
    "scrolled": true
   },
   "outputs": [
    {
     "data": {
      "text/html": [
       "<div>\n",
       "<style scoped>\n",
       "    .dataframe tbody tr th:only-of-type {\n",
       "        vertical-align: middle;\n",
       "    }\n",
       "\n",
       "    .dataframe tbody tr th {\n",
       "        vertical-align: top;\n",
       "    }\n",
       "\n",
       "    .dataframe thead th {\n",
       "        text-align: right;\n",
       "    }\n",
       "</style>\n",
       "<table border=\"1\" class=\"dataframe\">\n",
       "  <thead>\n",
       "    <tr style=\"text-align: right;\">\n",
       "      <th></th>\n",
       "      <th>Labels</th>\n",
       "      <th>Gender</th>\n",
       "      <th>Ethinicity</th>\n",
       "      <th>Targets</th>\n",
       "    </tr>\n",
       "  </thead>\n",
       "  <tbody>\n",
       "    <tr>\n",
       "      <th>0</th>\n",
       "      <td>CF437</td>\n",
       "      <td>0.0</td>\n",
       "      <td>0.0</td>\n",
       "      <td>2.883333</td>\n",
       "    </tr>\n",
       "    <tr>\n",
       "      <th>1</th>\n",
       "      <td>AM1384</td>\n",
       "      <td>1.0</td>\n",
       "      <td>1.0</td>\n",
       "      <td>2.466667</td>\n",
       "    </tr>\n",
       "    <tr>\n",
       "      <th>2</th>\n",
       "      <td>AM1234</td>\n",
       "      <td>1.0</td>\n",
       "      <td>1.0</td>\n",
       "      <td>2.150000</td>\n",
       "    </tr>\n",
       "    <tr>\n",
       "      <th>3</th>\n",
       "      <td>AM1774</td>\n",
       "      <td>1.0</td>\n",
       "      <td>1.0</td>\n",
       "      <td>3.750000</td>\n",
       "    </tr>\n",
       "    <tr>\n",
       "      <th>4</th>\n",
       "      <td>CF215</td>\n",
       "      <td>0.0</td>\n",
       "      <td>0.0</td>\n",
       "      <td>3.033333</td>\n",
       "    </tr>\n",
       "  </tbody>\n",
       "</table>\n",
       "</div>"
      ],
      "text/plain": [
       "   Labels  Gender  Ethinicity   Targets\n",
       "0   CF437     0.0         0.0  2.883333\n",
       "1  AM1384     1.0         1.0  2.466667\n",
       "2  AM1234     1.0         1.0  2.150000\n",
       "3  AM1774     1.0         1.0  3.750000\n",
       "4   CF215     0.0         0.0  3.033333"
      ]
     },
     "execution_count": 5,
     "metadata": {},
     "output_type": "execute_result"
    }
   ],
   "source": [
    "# getting the ethinicity and gender\n",
    "with open(\"./FacialBeautyData/labels.txt\") as f:\n",
    "    lines = f.readlines()\n",
    "    lines = [i.rstrip().split() for i in lines]\n",
    "    # Gender: M --> 1 F--> 0\n",
    "    # Ethinicity: A --> 1 C --> 0\n",
    "    gender = [1 if i[0][1] == \"M\" else 0 for i in lines ]\n",
    "    ethinicity = [1 if i[0][0]== \"A\" else 0  for i in lines]\n",
    "    labels = [i[0][:-4] for i in lines]\n",
    "\n",
    "gender = np.array(gender)\n",
    "ethinicity = np.array(ethinicity)\n",
    "labels = np.array(labels)\n",
    "\n",
    "# correlation Calculation\n",
    "data_df = pd.DataFrame(np.array([labels, gender, ethinicity, targets]).T, columns = ['Labels', \"Gender\", 'Ethinicity', 'Targets'])\n",
    "data_df = data_df.set_index(\"Labels\").astype(float)\n",
    "data_df = data_df.reset_index()\n",
    "data_df.head()"
   ]
  },
  {
   "cell_type": "code",
   "execution_count": 6,
   "id": "42185d8f-cad2-4283-b63e-2ef952acc4ba",
   "metadata": {},
   "outputs": [
    {
     "data": {
      "image/png": "[encoded data removed]",
      "text/plain": [
       "<Figure size 640x480 with 2 Axes>"
      ]
     },
     "metadata": {},
     "output_type": "display_data"
    }
   ],
   "source": [
    "# correaltion between variables\n",
    "corr = data_df.corr(numeric_only = True)\n",
    "sns.heatmap(corr, annot = True)\n",
    "plt.show()"
   ]
  },
  {
   "cell_type": "markdown",
   "id": "09c42f26-6971-49af-9439-7af770dccc5f",
   "metadata": {},
   "source": [
    "## Dataloaders and Dataset"
   ]
  },
  {
   "cell_type": "code",
   "execution_count": 7,
   "id": "d6bab708-559e-43d2-b44b-8291b59ca17e",
   "metadata": {},
   "outputs": [],
   "source": [
    "BATCH_SIZE = 64\n",
    "\n",
    "class FBPDataset(Dataset):\n",
    "    def __init__(self, inputs, targets):\n",
    "        self.inputs = inputs\n",
    "        self.targets = targets\n",
    "    def __getitem__(self, idx):\n",
    "        x, y = self.inputs[idx], self.targets[idx]\n",
    "        return x,y\n",
    "    def __len__(self):\n",
    "        return self.inputs.shape[0]\n",
    "\n",
    "train_dataset = FBPDataset(train_data, train_targets)\n",
    "valid_dataset = FBPDataset(valid_data, valid_targets)\n",
    "test_dataset =  FBPDataset(test_data, test_targets)\n",
    "\n",
    "train_dataloader = DataLoader(dataset = train_dataset, batch_size = BATCH_SIZE, shuffle = True)\n",
    "valid_dataloader = DataLoader(dataset = valid_dataset, batch_size = BATCH_SIZE, shuffle = True)\n",
    "test_dataloader = DataLoader(dataset = test_dataset, batch_size = BATCH_SIZE, shuffle = True)"
   ]
  },
  {
   "cell_type": "markdown",
   "id": "1120351a-df79-4bb1-b63a-51d36d22e9f4",
   "metadata": {},
   "source": [
    "## Groups"
   ]
  },
  {
   "cell_type": "code",
   "execution_count": 8,
   "id": "80d6cc99-a965-4f14-b3cf-8b8a51d27c88",
   "metadata": {},
   "outputs": [
    {
     "data": {
      "text/html": [
       "<div>\n",
       "<style scoped>\n",
       "    .dataframe tbody tr th:only-of-type {\n",
       "        vertical-align: middle;\n",
       "    }\n",
       "\n",
       "    .dataframe tbody tr th {\n",
       "        vertical-align: top;\n",
       "    }\n",
       "\n",
       "    .dataframe thead th {\n",
       "        text-align: right;\n",
       "    }\n",
       "</style>\n",
       "<table border=\"1\" class=\"dataframe\">\n",
       "  <thead>\n",
       "    <tr style=\"text-align: right;\">\n",
       "      <th></th>\n",
       "      <th>Labels</th>\n",
       "      <th>Gender</th>\n",
       "      <th>Ethinicity</th>\n",
       "      <th>Targets</th>\n",
       "    </tr>\n",
       "  </thead>\n",
       "  <tbody>\n",
       "    <tr>\n",
       "      <th>4400</th>\n",
       "      <td>AM1421</td>\n",
       "      <td>1.0</td>\n",
       "      <td>1.0</td>\n",
       "      <td>2.850000</td>\n",
       "    </tr>\n",
       "    <tr>\n",
       "      <th>4403</th>\n",
       "      <td>CM385</td>\n",
       "      <td>1.0</td>\n",
       "      <td>0.0</td>\n",
       "      <td>2.866667</td>\n",
       "    </tr>\n",
       "    <tr>\n",
       "      <th>4404</th>\n",
       "      <td>CM4</td>\n",
       "      <td>1.0</td>\n",
       "      <td>0.0</td>\n",
       "      <td>4.316667</td>\n",
       "    </tr>\n",
       "    <tr>\n",
       "      <th>4406</th>\n",
       "      <td>AM927</td>\n",
       "      <td>1.0</td>\n",
       "      <td>1.0</td>\n",
       "      <td>2.716667</td>\n",
       "    </tr>\n",
       "    <tr>\n",
       "      <th>4407</th>\n",
       "      <td>AM266</td>\n",
       "      <td>1.0</td>\n",
       "      <td>1.0</td>\n",
       "      <td>2.883333</td>\n",
       "    </tr>\n",
       "  </tbody>\n",
       "</table>\n",
       "</div>"
      ],
      "text/plain": [
       "      Labels  Gender  Ethinicity   Targets\n",
       "4400  AM1421     1.0         1.0  2.850000\n",
       "4403   CM385     1.0         0.0  2.866667\n",
       "4404     CM4     1.0         0.0  4.316667\n",
       "4406   AM927     1.0         1.0  2.716667\n",
       "4407   AM266     1.0         1.0  2.883333"
      ]
     },
     "execution_count": 8,
     "metadata": {},
     "output_type": "execute_result"
    }
   ],
   "source": [
    "test_df = data_df[TRAIN_PTS + VALID_PTS: ]\n",
    "male_df = test_df[test_df['Gender'] == 1]\n",
    "female_df = test_df[test_df['Gender'] == 0]\n",
    "\n",
    "male_b_df = male_df[male_df['Targets']> 2.5]\n",
    "male_u_df = male_df[male_df['Targets']<= 2.5]\n",
    "\n",
    "female_b_df = female_df[female_df['Targets'] > 2.5]\n",
    "female_u_df = female_df[female_df['Targets'] <= 2.5]\n",
    "\n",
    "male_b_df.head()"
   ]
  },
  {
   "cell_type": "code",
   "execution_count": 9,
   "id": "ba7d9bab-02c6-4108-803c-eeeba4ddf289",
   "metadata": {},
   "outputs": [
    {
     "name": "stdout",
     "output_type": "stream",
     "text": [
      "# of datapoints of male above 2.5: 370\n",
      "# of datapoints of male below 2.5: 151\n",
      "# of datapoints of female above 2.5: 454\n",
      "# of datapoins of female below 2.5: 125\n"
     ]
    }
   ],
   "source": [
    "male_b_data, male_b_targets = inputs[male_b_df.index.to_list()].astype(np.float32), targets[male_b_df.index.to_list()].astype(np.float32)\n",
    "male_u_data, male_u_targets = inputs[male_u_df.index.to_list()].astype(np.float32), targets[male_u_df.index.to_list()].astype(np.float32)\n",
    "female_u_data, female_u_targets = inputs[female_u_df.index.to_list()].astype(np.float32), targets[female_u_df.index.to_list()].astype(np.float32)\n",
    "female_b_data, female_b_targets = inputs[female_b_df.index.to_list()].astype(np.float32), targets[female_b_df.index.to_list()].astype(np.float32)\n",
    "\n",
    "print(f\"# of datapoints of male above 2.5: {male_b_data.shape[0]}\")\n",
    "print(f\"# of datapoints of male below 2.5: {male_u_data.shape[0]}\")\n",
    "print(f\"# of datapoints of female above 2.5: {female_b_data.shape[0]}\")\n",
    "print(f\"# of datapoins of female below 2.5: {female_u_data.shape[0]}\")"
   ]
  },
  {
   "cell_type": "code",
   "execution_count": 10,
   "id": "b25982a1-bb8e-4251-a7cd-a5b895289cfe",
   "metadata": {},
   "outputs": [],
   "source": [
    "male_b_dataset = FBPDataset(male_b_data, male_b_targets)\n",
    "male_u_dataset = FBPDataset(male_u_data, male_u_targets)\n",
    "female_b_dataset = FBPDataset(female_b_data, female_b_targets)\n",
    "female_u_dataset = FBPDataset(female_u_data, female_u_targets)\n",
    "\n",
    "male_b_dataloader = DataLoader(male_b_dataset, batch_size=BATCH_SIZE, shuffle  = True)\n",
    "male_u_dataloader = DataLoader(male_u_dataset, batch_size=BATCH_SIZE, shuffle  = True)\n",
    "female_b_dataloader = DataLoader(female_b_dataset, batch_size=BATCH_SIZE, shuffle  = True)\n",
    "female_u_dataloader = DataLoader(female_u_dataset, batch_size=BATCH_SIZE, shuffle  = True)\n",
    "\n",
    "group_dataloaders = {'m b': male_b_dataloader, \"m u\": male_u_dataloader, 'f b': female_b_dataloader, 'f u':female_u_dataloader}"
   ]
  },
  {
   "cell_type": "code",
   "execution_count": 11,
   "id": "b95c9040-fb1a-436e-9c2e-2e198d333b57",
   "metadata": {},
   "outputs": [],
   "source": [
    "## eval functions\n",
    "x, _ = next(iter(train_dataloader))\n",
    "def group_eval_cnn(model, group_dataloaders):\n",
    "    sum_ = 0\n",
    "    count = 0\n",
    "    groups = {}\n",
    "    \n",
    "    for i in group_dataloaders.keys():\n",
    "        if group_dataloaders[i] != None:\n",
    "            test_loss = eval_model(model, group_dataloaders[i])\n",
    "            count += 1\n",
    "        else:\n",
    "            test_loss = 0\n",
    "        \n",
    "        sum_ += test_loss\n",
    "        groups[i] = test_loss\n",
    "        \n",
    "    print(f\"Group test Loss: {sum_ / count}\")\n",
    "    return (sum_ /count), groups\n",
    "\n",
    "def group_eval_fs(model, group_dataloaders):\n",
    "    sum_ = 0\n",
    "    count = 0\n",
    "    groups = {}\n",
    "    \n",
    "    for i in group_dataloaders.keys():\n",
    "        if group_dataloaders[i] != None:\n",
    "            test_loss = eval_FSModel(model, group_dataloaders[i])\n",
    "            count += 1\n",
    "        else:\n",
    "            test_loss = 0\n",
    "            \n",
    "        sum_ += test_loss\n",
    "        groups[i] = test_loss\n",
    "        \n",
    "    print(f\"Group test Loss: {sum_ / count}\")\n",
    "    return (sum_ / count), groups"
   ]
  },
  {
   "cell_type": "markdown",
   "id": "952c9ff3-2c8a-4c23-a7b3-de7cc954de7d",
   "metadata": {},
   "source": [
    "## 1) Resnet34 Results"
   ]
  },
  {
   "cell_type": "code",
   "execution_count": 13,
   "id": "e8289f58-54c9-4c49-8200-5c4d3c6bb811",
   "metadata": {
    "scrolled": true
   },
   "outputs": [
    {
     "name": "stdout",
     "output_type": "stream",
     "text": [
      "[1/36] Lr: 1e-05 WD:1e-05\n"
     ]
    },
    {
     "name": "stderr",
     "output_type": "stream",
     "text": [
      "100%|███████████████████████████████████████████████████████████████████████████████████████████████████████████████████████████████████████████████████████████████| 2/2 [00:55<00:00, 27.99s/it]\n"
     ]
    },
    {
     "name": "stdout",
     "output_type": "stream",
     "text": [
      "Test Loss: 1.216904878616333\n",
      "Group test Loss: 0.9784858673810959\n",
      "[2/36] Lr: 1e-05 WD:0.0005\n"
     ]
    },
    {
     "name": "stderr",
     "output_type": "stream",
     "text": [
      "100%|███████████████████████████████████████████████████████████████████████████████████████████████████████████████████████████████████████████████████████████████| 2/2 [00:58<00:00, 29.15s/it]\n"
     ]
    },
    {
     "name": "stdout",
     "output_type": "stream",
     "text": [
      "Test Loss: 0.6920133829116821\n",
      "Group test Loss: 0.6228132620453835\n",
      "[3/36] Lr: 1e-05 WD:0.0001\n"
     ]
    },
    {
     "name": "stderr",
     "output_type": "stream",
     "text": [
      "100%|███████████████████████████████████████████████████████████████████████████████████████████████████████████████████████████████████████████████████████████████| 2/2 [00:57<00:00, 28.82s/it]\n"
     ]
    },
    {
     "name": "stdout",
     "output_type": "stream",
     "text": [
      "Test Loss: 1.5198590755462646\n",
      "Group test Loss: 1.217541977763176\n",
      "[4/36] Lr: 1e-05 WD:0.005\n"
     ]
    },
    {
     "name": "stderr",
     "output_type": "stream",
     "text": [
      "100%|███████████████████████████████████████████████████████████████████████████████████████████████████████████████████████████████████████████████████████████████| 2/2 [00:57<00:00, 28.96s/it]\n"
     ]
    },
    {
     "name": "stdout",
     "output_type": "stream",
     "text": [
      "Test Loss: 0.5562348365783691\n",
      "Group test Loss: 0.547787070274353\n",
      "[5/36] Lr: 1e-05 WD:0.001\n"
     ]
    },
    {
     "name": "stderr",
     "output_type": "stream",
     "text": [
      "100%|███████████████████████████████████████████████████████████████████████████████████████████████████████████████████████████████████████████████████████████████| 2/2 [00:57<00:00, 28.77s/it]\n"
     ]
    },
    {
     "name": "stdout",
     "output_type": "stream",
     "text": [
      "Test Loss: 0.7342512607574463\n",
      "Group test Loss: 0.6755091845989227\n",
      "[6/36] Lr: 1e-05 WD:0.05\n"
     ]
    },
    {
     "name": "stderr",
     "output_type": "stream",
     "text": [
      "100%|███████████████████████████████████████████████████████████████████████████████████████████████████████████████████████████████████████████████████████████████| 2/2 [00:57<00:00, 28.95s/it]\n"
     ]
    },
    {
     "name": "stdout",
     "output_type": "stream",
     "text": [
      "Test Loss: 0.5580974817276001\n",
      "Group test Loss: 0.5446296371519566\n",
      "[7/36] Lr: 0.0005 WD:1e-05\n"
     ]
    },
    {
     "name": "stderr",
     "output_type": "stream",
     "text": [
      "100%|███████████████████████████████████████████████████████████████████████████████████████████████████████████████████████████████████████████████████████████████| 2/2 [00:57<00:00, 28.78s/it]\n"
     ]
    },
    {
     "name": "stdout",
     "output_type": "stream",
     "text": [
      "Test Loss: 0.25069165229797363\n",
      "Group test Loss: 0.6524827070534229\n",
      "[8/36] Lr: 0.0005 WD:0.0005\n"
     ]
    },
    {
     "name": "stderr",
     "output_type": "stream",
     "text": [
      "100%|███████████████████████████████████████████████████████████████████████████████████████████████████████████████████████████████████████████████████████████████| 2/2 [00:57<00:00, 28.95s/it]\n"
     ]
    },
    {
     "name": "stdout",
     "output_type": "stream",
     "text": [
      "Test Loss: 0.23120303452014923\n",
      "Group test Loss: 0.5251919142901897\n",
      "[9/36] Lr: 0.0005 WD:0.0001\n"
     ]
    },
    {
     "name": "stderr",
     "output_type": "stream",
     "text": [
      "100%|███████████████████████████████████████████████████████████████████████████████████████████████████████████████████████████████████████████████████████████████| 2/2 [00:57<00:00, 28.85s/it]\n"
     ]
    },
    {
     "name": "stdout",
     "output_type": "stream",
     "text": [
      "Test Loss: 0.2703036069869995\n",
      "Group test Loss: 0.47004541009664536\n",
      "[10/36] Lr: 0.0005 WD:0.005\n"
     ]
    },
    {
     "name": "stderr",
     "output_type": "stream",
     "text": [
      "100%|███████████████████████████████████████████████████████████████████████████████████████████████████████████████████████████████████████████████████████████████| 2/2 [00:57<00:00, 28.91s/it]\n"
     ]
    },
    {
     "name": "stdout",
     "output_type": "stream",
     "text": [
      "Test Loss: 0.27691981196403503\n",
      "Group test Loss: 0.4503432810306549\n",
      "[11/36] Lr: 0.0005 WD:0.001\n"
     ]
    },
    {
     "name": "stderr",
     "output_type": "stream",
     "text": [
      "100%|███████████████████████████████████████████████████████████████████████████████████████████████████████████████████████████████████████████████████████████████| 2/2 [00:58<00:00, 29.03s/it]\n"
     ]
    },
    {
     "name": "stdout",
     "output_type": "stream",
     "text": [
      "Test Loss: 0.2348433881998062\n",
      "Group test Loss: 0.4752932898700237\n",
      "[12/36] Lr: 0.0005 WD:0.05\n"
     ]
    },
    {
     "name": "stderr",
     "output_type": "stream",
     "text": [
      "100%|███████████████████████████████████████████████████████████████████████████████████████████████████████████████████████████████████████████████████████████████| 2/2 [00:57<00:00, 28.77s/it]\n"
     ]
    },
    {
     "name": "stdout",
     "output_type": "stream",
     "text": [
      "Test Loss: 0.3293466866016388\n",
      "Group test Loss: 0.7554496750235558\n",
      "[13/36] Lr: 0.0001 WD:1e-05\n"
     ]
    },
    {
     "name": "stderr",
     "output_type": "stream",
     "text": [
      "100%|███████████████████████████████████████████████████████████████████████████████████████████████████████████████████████████████████████████████████████████████| 2/2 [00:58<00:00, 29.07s/it]\n"
     ]
    },
    {
     "name": "stdout",
     "output_type": "stream",
     "text": [
      "Test Loss: 0.24316738545894623\n",
      "Group test Loss: 0.5341886319220066\n",
      "[14/36] Lr: 0.0001 WD:0.0005\n"
     ]
    },
    {
     "name": "stderr",
     "output_type": "stream",
     "text": [
      "100%|███████████████████████████████████████████████████████████████████████████████████████████████████████████████████████████████████████████████████████████████| 2/2 [00:57<00:00, 28.77s/it]\n"
     ]
    },
    {
     "name": "stdout",
     "output_type": "stream",
     "text": [
      "Test Loss: 0.23106171190738678\n",
      "Group test Loss: 0.505870059132576\n",
      "[15/36] Lr: 0.0001 WD:0.0001\n"
     ]
    },
    {
     "name": "stderr",
     "output_type": "stream",
     "text": [
      "100%|███████████████████████████████████████████████████████████████████████████████████████████████████████████████████████████████████████████████████████████████| 2/2 [00:57<00:00, 28.78s/it]\n"
     ]
    },
    {
     "name": "stdout",
     "output_type": "stream",
     "text": [
      "Test Loss: 0.23540474474430084\n",
      "Group test Loss: 0.5299705490469933\n",
      "[16/36] Lr: 0.0001 WD:0.005\n"
     ]
    },
    {
     "name": "stderr",
     "output_type": "stream",
     "text": [
      "100%|███████████████████████████████████████████████████████████████████████████████████████████████████████████████████████████████████████████████████████████████| 2/2 [00:57<00:00, 28.92s/it]\n"
     ]
    },
    {
     "name": "stdout",
     "output_type": "stream",
     "text": [
      "Test Loss: 0.24892570078372955\n",
      "Group test Loss: 0.5000911951065063\n",
      "[17/36] Lr: 0.0001 WD:0.001\n"
     ]
    },
    {
     "name": "stderr",
     "output_type": "stream",
     "text": [
      "100%|███████████████████████████████████████████████████████████████████████████████████████████████████████████████████████████████████████████████████████████████| 2/2 [00:57<00:00, 28.76s/it]\n"
     ]
    },
    {
     "name": "stdout",
     "output_type": "stream",
     "text": [
      "Test Loss: 0.25865206122398376\n",
      "Group test Loss: 0.49069901555776596\n",
      "[18/36] Lr: 0.0001 WD:0.05\n"
     ]
    },
    {
     "name": "stderr",
     "output_type": "stream",
     "text": [
      "100%|███████████████████████████████████████████████████████████████████████████████████████████████████████████████████████████████████████████████████████████████| 2/2 [00:57<00:00, 28.71s/it]\n"
     ]
    },
    {
     "name": "stdout",
     "output_type": "stream",
     "text": [
      "Test Loss: 0.24916629493236542\n",
      "Group test Loss: 0.5362136736512184\n",
      "[19/36] Lr: 0.005 WD:1e-05\n"
     ]
    },
    {
     "name": "stderr",
     "output_type": "stream",
     "text": [
      "100%|███████████████████████████████████████████████████████████████████████████████████████████████████████████████████████████████████████████████████████████████| 2/2 [00:57<00:00, 28.84s/it]\n"
     ]
    },
    {
     "name": "stdout",
     "output_type": "stream",
     "text": [
      "Test Loss: 0.43012362718582153\n",
      "Group test Loss: 0.7197104692459106\n",
      "[20/36] Lr: 0.005 WD:0.0005\n"
     ]
    },
    {
     "name": "stderr",
     "output_type": "stream",
     "text": [
      "100%|███████████████████████████████████████████████████████████████████████████████████████████████████████████████████████████████████████████████████████████████| 2/2 [00:57<00:00, 28.75s/it]\n"
     ]
    },
    {
     "name": "stdout",
     "output_type": "stream",
     "text": [
      "Test Loss: 0.37332502007484436\n",
      "Group test Loss: 0.5304447561502457\n",
      "[21/36] Lr: 0.005 WD:0.0001\n"
     ]
    },
    {
     "name": "stderr",
     "output_type": "stream",
     "text": [
      "100%|███████████████████████████████████████████████████████████████████████████████████████████████████████████████████████████████████████████████████████████████| 2/2 [00:57<00:00, 28.80s/it]\n"
     ]
    },
    {
     "name": "stdout",
     "output_type": "stream",
     "text": [
      "Test Loss: 0.3998757004737854\n",
      "Group test Loss: 0.7619192227721214\n",
      "[22/36] Lr: 0.005 WD:0.005\n"
     ]
    },
    {
     "name": "stderr",
     "output_type": "stream",
     "text": [
      "100%|███████████████████████████████████████████████████████████████████████████████████████████████████████████████████████████████████████████████████████████████| 2/2 [00:57<00:00, 28.85s/it]\n"
     ]
    },
    {
     "name": "stdout",
     "output_type": "stream",
     "text": [
      "Test Loss: 0.3610629141330719\n",
      "Group test Loss: 0.4883040264248848\n",
      "[23/36] Lr: 0.005 WD:0.001\n"
     ]
    },
    {
     "name": "stderr",
     "output_type": "stream",
     "text": [
      "100%|███████████████████████████████████████████████████████████████████████████████████████████████████████████████████████████████████████████████████████████████| 2/2 [00:57<00:00, 28.81s/it]\n"
     ]
    },
    {
     "name": "stdout",
     "output_type": "stream",
     "text": [
      "Test Loss: 0.3300205171108246\n",
      "Group test Loss: 0.5608864575624466\n",
      "[24/36] Lr: 0.005 WD:0.05\n"
     ]
    },
    {
     "name": "stderr",
     "output_type": "stream",
     "text": [
      "100%|███████████████████████████████████████████████████████████████████████████████████████████████████████████████████████████████████████████████████████████████| 2/2 [00:57<00:00, 28.75s/it]\n"
     ]
    },
    {
     "name": "stdout",
     "output_type": "stream",
     "text": [
      "Test Loss: 0.5312486290931702\n",
      "Group test Loss: 0.7215965539216995\n",
      "[25/36] Lr: 0.001 WD:1e-05\n"
     ]
    },
    {
     "name": "stderr",
     "output_type": "stream",
     "text": [
      "100%|███████████████████████████████████████████████████████████████████████████████████████████████████████████████████████████████████████████████████████████████| 2/2 [00:57<00:00, 28.82s/it]\n"
     ]
    },
    {
     "name": "stdout",
     "output_type": "stream",
     "text": [
      "Test Loss: 0.298376202583313\n",
      "Group test Loss: 0.5763357095420361\n",
      "[26/36] Lr: 0.001 WD:0.0005\n"
     ]
    },
    {
     "name": "stderr",
     "output_type": "stream",
     "text": [
      "100%|███████████████████████████████████████████████████████████████████████████████████████████████████████████████████████████████████████████████████████████████| 2/2 [00:57<00:00, 28.82s/it]\n"
     ]
    },
    {
     "name": "stdout",
     "output_type": "stream",
     "text": [
      "Test Loss: 0.2699374258518219\n",
      "Group test Loss: 0.5833238884806633\n",
      "[27/36] Lr: 0.001 WD:0.0001\n"
     ]
    },
    {
     "name": "stderr",
     "output_type": "stream",
     "text": [
      "100%|███████████████████████████████████████████████████████████████████████████████████████████████████████████████████████████████████████████████████████████████| 2/2 [00:57<00:00, 28.83s/it]\n"
     ]
    },
    {
     "name": "stdout",
     "output_type": "stream",
     "text": [
      "Test Loss: 0.27992528676986694\n",
      "Group test Loss: 0.5290715172886848\n",
      "[28/36] Lr: 0.001 WD:0.005\n"
     ]
    },
    {
     "name": "stderr",
     "output_type": "stream",
     "text": [
      "100%|███████████████████████████████████████████████████████████████████████████████████████████████████████████████████████████████████████████████████████████████| 2/2 [00:57<00:00, 28.71s/it]\n"
     ]
    },
    {
     "name": "stdout",
     "output_type": "stream",
     "text": [
      "Test Loss: 0.30256929993629456\n",
      "Group test Loss: 0.6889642737805843\n",
      "[29/36] Lr: 0.001 WD:0.001\n"
     ]
    },
    {
     "name": "stderr",
     "output_type": "stream",
     "text": [
      "100%|███████████████████████████████████████████████████████████████████████████████████████████████████████████████████████████████████████████████████████████████| 2/2 [00:57<00:00, 28.79s/it]\n"
     ]
    },
    {
     "name": "stdout",
     "output_type": "stream",
     "text": [
      "Test Loss: 0.2738269865512848\n",
      "Group test Loss: 0.5337720438838005\n",
      "[30/36] Lr: 0.001 WD:0.05\n"
     ]
    },
    {
     "name": "stderr",
     "output_type": "stream",
     "text": [
      "100%|███████████████████████████████████████████████████████████████████████████████████████████████████████████████████████████████████████████████████████████████| 2/2 [00:57<00:00, 28.83s/it]\n"
     ]
    },
    {
     "name": "stdout",
     "output_type": "stream",
     "text": [
      "Test Loss: 0.3596853017807007\n",
      "Group test Loss: 0.4689418897032738\n",
      "[31/36] Lr: 0.01 WD:1e-05\n"
     ]
    },
    {
     "name": "stderr",
     "output_type": "stream",
     "text": [
      "100%|███████████████████████████████████████████████████████████████████████████████████████████████████████████████████████████████████████████████████████████████| 2/2 [00:57<00:00, 28.66s/it]\n"
     ]
    },
    {
     "name": "stdout",
     "output_type": "stream",
     "text": [
      "Test Loss: 0.5081234574317932\n",
      "Group test Loss: 0.6735161766409874\n",
      "[32/36] Lr: 0.01 WD:0.0005\n"
     ]
    },
    {
     "name": "stderr",
     "output_type": "stream",
     "text": [
      "100%|███████████████████████████████████████████████████████████████████████████████████████████████████████████████████████████████████████████████████████████████| 2/2 [00:57<00:00, 28.64s/it]\n"
     ]
    },
    {
     "name": "stdout",
     "output_type": "stream",
     "text": [
      "Test Loss: 0.7803026437759399\n",
      "Group test Loss: 0.7342273369431496\n",
      "[33/36] Lr: 0.01 WD:0.0001\n"
     ]
    },
    {
     "name": "stderr",
     "output_type": "stream",
     "text": [
      "100%|███████████████████████████████████████████████████████████████████████████████████████████████████████████████████████████████████████████████████████████████| 2/2 [00:57<00:00, 28.74s/it]\n"
     ]
    },
    {
     "name": "stdout",
     "output_type": "stream",
     "text": [
      "Test Loss: 0.44170981645584106\n",
      "Group test Loss: 0.7060377970337868\n",
      "[34/36] Lr: 0.01 WD:0.005\n"
     ]
    },
    {
     "name": "stderr",
     "output_type": "stream",
     "text": [
      "100%|███████████████████████████████████████████████████████████████████████████████████████████████████████████████████████████████████████████████████████████████| 2/2 [00:57<00:00, 28.69s/it]\n"
     ]
    },
    {
     "name": "stdout",
     "output_type": "stream",
     "text": [
      "Test Loss: 0.4953238070011139\n",
      "Group test Loss: 0.9011694118380547\n",
      "[35/36] Lr: 0.01 WD:0.001\n"
     ]
    },
    {
     "name": "stderr",
     "output_type": "stream",
     "text": [
      "100%|███████████████████████████████████████████████████████████████████████████████████████████████████████████████████████████████████████████████████████████████| 2/2 [00:57<00:00, 28.71s/it]\n"
     ]
    },
    {
     "name": "stdout",
     "output_type": "stream",
     "text": [
      "Test Loss: 0.4267537593841553\n",
      "Group test Loss: 0.5309672132134438\n",
      "[36/36] Lr: 0.01 WD:0.05\n"
     ]
    },
    {
     "name": "stderr",
     "output_type": "stream",
     "text": [
      "100%|███████████████████████████████████████████████████████████████████████████████████████████████████████████████████████████████████████████████████████████████| 2/2 [00:57<00:00, 28.60s/it]\n"
     ]
    },
    {
     "name": "stdout",
     "output_type": "stream",
     "text": [
      "Test Loss: 0.5174354910850525\n",
      "Group test Loss: 0.5293707847595215\n",
      "Best LR: 0.0001 Best WD: 0.0005\n",
      "Group wise hyperparameters: \n",
      " Best LR: 0.0005 Best WD: 0.005\n"
     ]
    }
   ],
   "source": [
    "# hyperparameter tuning\n",
    "lrs = [1e-5, 5e-4, 1e-4, 5e-3,  1e-3, 1e-2]\n",
    "wds = [1e-5, 5e-4, 1e-4, 5e-3, 1e-3, 5e-2]\n",
    "\n",
    "test_losses = np.zeros((len(lrs), len(wds)))\n",
    "grp_test_losses = np.zeros((len(lrs), len(wds)))\n",
    "\n",
    "for i in range(len(lrs)):\n",
    "    for j in range(len(wds)):\n",
    "        print(f\"[{i *len(wds) + j +1}/{len(lrs) * len(wds)}] Lr: {lrs[i]} WD:{wds[j]}\")\n",
    "        model = Resnet34(1).to(device)\n",
    "        model, train_loss, val_loss = train(model, train_dataloader, valid_dataloader, epochs = 2, verbose = False, lr = lrs[i], weight_decay = wds[j])\n",
    "        test_loss = eval_model(model, test_dataloader)\n",
    "        print(f\"Test Loss: {test_loss}\")\n",
    "        group_tst_loss = group_eval_cnn(model, group_dataloaders)\n",
    "\n",
    "        test_losses[i,j] = test_loss\n",
    "        grp_test_losses[i,j] = group_tst_loss[0]\n",
    "\n",
    "best_lr, best_wd = np.unravel_index(np.argmin(test_losses), test_losses.shape)\n",
    "best_grp_lr, best_grp_wd = np.unravel_index(np.argmin(grp_test_losses), grp_test_losses.shape)\n",
    "\n",
    "print(f\"Best LR: {lrs[best_lr]} Best WD: {wds[best_wd]}\")\n",
    "print(f\"Group wise hyperparameters: \\n Best LR: {lrs[best_grp_lr]} Best WD: {wds[best_grp_wd]}\")"
   ]
  },
  {
   "cell_type": "code",
   "execution_count": 12,
   "id": "f3cfaac4-940a-4e0d-b2b9-df39177000e2",
   "metadata": {},
   "outputs": [
    {
     "name": "stderr",
     "output_type": "stream",
     "text": [
      "  0%|                                                                      | 0/5 [00:00<?, ?it/s]/scratch/storage0/be20b032/miniconda3/lib/python3.11/site-packages/torch/autograd/graph.py:744: UserWarning: Plan failed with a cudnnException: CUDNN_BACKEND_EXECUTION_PLAN_DESCRIPTOR: cudnnFinalize Descriptor Failed cudnn_status: CUDNN_STATUS_NOT_SUPPORTED (Triggered internally at ../aten/src/ATen/native/cudnn/Conv_v8.cpp:919.)\n",
      "  return Variable._execution_engine.run_backward(  # Calls into the C++ engine to run the backward pass\n",
      "100%|██████████████████████████████████████████████████████████████| 5/5 [02:25<00:00, 29.08s/it]\n"
     ]
    },
    {
     "name": "stdout",
     "output_type": "stream",
     "text": [
      "Test Loss: 0.2749251127243042\n"
     ]
    },
    {
     "name": "stderr",
     "output_type": "stream",
     "text": [
      "/scratch/storage0/be20b032/miniconda3/lib/python3.11/site-packages/torch/nn/modules/conv.py:456: UserWarning: Plan failed with a cudnnException: CUDNN_BACKEND_EXECUTION_PLAN_DESCRIPTOR: cudnnFinalize Descriptor Failed cudnn_status: CUDNN_STATUS_NOT_SUPPORTED (Triggered internally at ../aten/src/ATen/native/cudnn/Conv_v8.cpp:919.)\n",
      "  return F.conv2d(input, weight, bias, self.stride,\n"
     ]
    },
    {
     "name": "stdout",
     "output_type": "stream",
     "text": [
      "Group test Loss: 0.4634981155395508\n"
     ]
    }
   ],
   "source": [
    "lrs = [1e-5, 5e-4, 1e-4, 5e-3,  1e-3, 1e-2]\n",
    "wds = [1e-5, 5e-4, 1e-4, 5e-3, 1e-3, 5e-2]\n",
    "best_grp_lr, best_grp_wd = lrs.index(0.0005), wds.index(0.005)\n",
    "\n",
    "model = Resnet34(1).to(device)\n",
    "model, train_loss, val_loss = train(model, train_dataloader, valid_dataloader, epochs = 5, verbose = False, lr = lrs[best_grp_lr], weight_decay = wds[best_grp_wd])\n",
    "test_loss_cnn = eval_model(model, test_dataloader)\n",
    "print(f\"Test Loss: {test_loss_cnn}\")\n",
    "group_tst_loss_cnn, groups_cnn = group_eval_cnn(model, group_dataloaders)"
   ]
  },
  {
   "cell_type": "markdown",
   "id": "c46f31ed-c427-45f2-9a0f-979b0b8659f3",
   "metadata": {},
   "source": [
    "## 2) Margin forgetting loss"
   ]
  },
  {
   "cell_type": "code",
   "execution_count": 16,
   "id": "b445011f-339c-49a2-8b56-70766bbf7124",
   "metadata": {
    "scrolled": true
   },
   "outputs": [
    {
     "name": "stdout",
     "output_type": "stream",
     "text": [
      "[1 / 84] Margin 1e-05 Forget Lr: 0.0005 Forget Iters: 2\n"
     ]
    },
    {
     "name": "stderr",
     "output_type": "stream",
     "text": [
      "100%|███████████████████████████████████████████████████████████████████████████████████████████████████████████████████████████████████████████████████████████████| 2/2 [02:12<00:00, 66.15s/it]\n"
     ]
    },
    {
     "name": "stdout",
     "output_type": "stream",
     "text": [
      "Test Loss: 0.2465786188840866\n",
      "Group test Loss: 0.30692240968346596\n",
      "[2 / 84] Margin 1e-05 Forget Lr: 0.0005 Forget Iters: 5\n"
     ]
    },
    {
     "name": "stderr",
     "output_type": "stream",
     "text": [
      "100%|███████████████████████████████████████████████████████████████████████████████████████████████████████████████████████████████████████████████████████████████| 2/2 [02:00<00:00, 60.05s/it]\n"
     ]
    },
    {
     "name": "stdout",
     "output_type": "stream",
     "text": [
      "Test Loss: 0.23083455860614777\n",
      "Group test Loss: 0.2876342497766018\n",
      "[3 / 84] Margin 1e-05 Forget Lr: 0.0001 Forget Iters: 2\n"
     ]
    },
    {
     "name": "stderr",
     "output_type": "stream",
     "text": [
      "100%|███████████████████████████████████████████████████████████████████████████████████████████████████████████████████████████████████████████████████████████████| 2/2 [02:12<00:00, 66.26s/it]\n"
     ]
    },
    {
     "name": "stdout",
     "output_type": "stream",
     "text": [
      "Test Loss: 0.26835447549819946\n",
      "Group test Loss: 0.24493765085935593\n",
      "[4 / 84] Margin 1e-05 Forget Lr: 0.0001 Forget Iters: 5\n"
     ]
    },
    {
     "name": "stderr",
     "output_type": "stream",
     "text": [
      "100%|███████████████████████████████████████████████████████████████████████████████████████████████████████████████████████████████████████████████████████████████| 2/2 [01:59<00:00, 59.83s/it]\n"
     ]
    },
    {
     "name": "stdout",
     "output_type": "stream",
     "text": [
      "Test Loss: 0.28784608840942383\n",
      "Group test Loss: 0.39716680347919464\n",
      "[5 / 84] Margin 1e-05 Forget Lr: 0.005 Forget Iters: 2\n"
     ]
    },
    {
     "name": "stderr",
     "output_type": "stream",
     "text": [
      "100%|███████████████████████████████████████████████████████████████████████████████████████████████████████████████████████████████████████████████████████████████| 2/2 [02:12<00:00, 66.22s/it]\n"
     ]
    },
    {
     "name": "stdout",
     "output_type": "stream",
     "text": [
      "Test Loss: 0.3158286511898041\n",
      "Group test Loss: 0.4184190407395363\n",
      "[6 / 84] Margin 1e-05 Forget Lr: 0.005 Forget Iters: 5\n"
     ]
    },
    {
     "name": "stderr",
     "output_type": "stream",
     "text": [
      "100%|███████████████████████████████████████████████████████████████████████████████████████████████████████████████████████████████████████████████████████████████| 2/2 [01:59<00:00, 59.68s/it]\n"
     ]
    },
    {
     "name": "stdout",
     "output_type": "stream",
     "text": [
      "Test Loss: 0.2261454164981842\n",
      "Group test Loss: 0.2379336953163147\n",
      "[7 / 84] Margin 1e-05 Forget Lr: 0.001 Forget Iters: 2\n"
     ]
    },
    {
     "name": "stderr",
     "output_type": "stream",
     "text": [
      "100%|███████████████████████████████████████████████████████████████████████████████████████████████████████████████████████████████████████████████████████████████| 2/2 [02:12<00:00, 66.36s/it]\n"
     ]
    },
    {
     "name": "stdout",
     "output_type": "stream",
     "text": [
      "Test Loss: 0.25937631726264954\n",
      "Group test Loss: 0.2590816281735897\n",
      "[8 / 84] Margin 1e-05 Forget Lr: 0.001 Forget Iters: 5\n"
     ]
    },
    {
     "name": "stderr",
     "output_type": "stream",
     "text": [
      "100%|███████████████████████████████████████████████████████████████████████████████████████████████████████████████████████████████████████████████████████████████| 2/2 [01:59<00:00, 59.72s/it]\n"
     ]
    },
    {
     "name": "stdout",
     "output_type": "stream",
     "text": [
      "Test Loss: 0.23264563083648682\n",
      "Group test Loss: 0.2623366303741932\n",
      "[9 / 84] Margin 1e-05 Forget Lr: 0.05 Forget Iters: 2\n"
     ]
    },
    {
     "name": "stderr",
     "output_type": "stream",
     "text": [
      "100%|███████████████████████████████████████████████████████████████████████████████████████████████████████████████████████████████████████████████████████████████| 2/2 [02:12<00:00, 66.07s/it]\n"
     ]
    },
    {
     "name": "stdout",
     "output_type": "stream",
     "text": [
      "Test Loss: 0.21495786309242249\n",
      "Group test Loss: 0.2439284659922123\n",
      "[10 / 84] Margin 1e-05 Forget Lr: 0.05 Forget Iters: 5\n"
     ]
    },
    {
     "name": "stderr",
     "output_type": "stream",
     "text": [
      "100%|███████████████████████████████████████████████████████████████████████████████████████████████████████████████████████████████████████████████████████████████| 2/2 [01:59<00:00, 59.97s/it]\n"
     ]
    },
    {
     "name": "stdout",
     "output_type": "stream",
     "text": [
      "Test Loss: 0.2453329712152481\n",
      "Group test Loss: 0.286990150809288\n",
      "[11 / 84] Margin 1e-05 Forget Lr: 0.01 Forget Iters: 2\n"
     ]
    },
    {
     "name": "stderr",
     "output_type": "stream",
     "text": [
      "100%|███████████████████████████████████████████████████████████████████████████████████████████████████████████████████████████████████████████████████████████████| 2/2 [02:12<00:00, 66.24s/it]\n"
     ]
    },
    {
     "name": "stdout",
     "output_type": "stream",
     "text": [
      "Test Loss: 0.2790696322917938\n",
      "Group test Loss: 0.26630212366580963\n",
      "[12 / 84] Margin 1e-05 Forget Lr: 0.01 Forget Iters: 5\n"
     ]
    },
    {
     "name": "stderr",
     "output_type": "stream",
     "text": [
      "100%|███████████████████████████████████████████████████████████████████████████████████████████████████████████████████████████████████████████████████████████████| 2/2 [01:59<00:00, 59.93s/it]\n"
     ]
    },
    {
     "name": "stdout",
     "output_type": "stream",
     "text": [
      "Test Loss: 0.24271553754806519\n",
      "Group test Loss: 0.31557178869843483\n",
      "[13 / 84] Margin 0.0001 Forget Lr: 0.0005 Forget Iters: 2\n"
     ]
    },
    {
     "name": "stderr",
     "output_type": "stream",
     "text": [
      "100%|███████████████████████████████████████████████████████████████████████████████████████████████████████████████████████████████████████████████████████████████| 2/2 [02:12<00:00, 66.17s/it]\n"
     ]
    },
    {
     "name": "stdout",
     "output_type": "stream",
     "text": [
      "Test Loss: 0.24230554699897766\n",
      "Group test Loss: 0.24342205375432968\n",
      "[14 / 84] Margin 0.0001 Forget Lr: 0.0005 Forget Iters: 5\n"
     ]
    },
    {
     "name": "stderr",
     "output_type": "stream",
     "text": [
      "100%|███████████████████████████████████████████████████████████████████████████████████████████████████████████████████████████████████████████████████████████████| 2/2 [01:59<00:00, 59.86s/it]\n"
     ]
    },
    {
     "name": "stdout",
     "output_type": "stream",
     "text": [
      "Test Loss: 0.26899829506874084\n",
      "Group test Loss: 0.30473947897553444\n",
      "[15 / 84] Margin 0.0001 Forget Lr: 0.0001 Forget Iters: 2\n"
     ]
    },
    {
     "name": "stderr",
     "output_type": "stream",
     "text": [
      "100%|███████████████████████████████████████████████████████████████████████████████████████████████████████████████████████████████████████████████████████████████| 2/2 [02:12<00:00, 66.09s/it]\n"
     ]
    },
    {
     "name": "stdout",
     "output_type": "stream",
     "text": [
      "Test Loss: 0.356478214263916\n",
      "Group test Loss: 0.5083541497588158\n",
      "[16 / 84] Margin 0.0001 Forget Lr: 0.0001 Forget Iters: 5\n"
     ]
    },
    {
     "name": "stderr",
     "output_type": "stream",
     "text": [
      "100%|███████████████████████████████████████████████████████████████████████████████████████████████████████████████████████████████████████████████████████████████| 2/2 [01:59<00:00, 59.96s/it]\n"
     ]
    },
    {
     "name": "stdout",
     "output_type": "stream",
     "text": [
      "Test Loss: 0.268239289522171\n",
      "Group test Loss: 0.2497572898864746\n",
      "[17 / 84] Margin 0.0001 Forget Lr: 0.005 Forget Iters: 2\n"
     ]
    },
    {
     "name": "stderr",
     "output_type": "stream",
     "text": [
      "100%|███████████████████████████████████████████████████████████████████████████████████████████████████████████████████████████████████████████████████████████████| 2/2 [02:11<00:00, 65.97s/it]\n"
     ]
    },
    {
     "name": "stdout",
     "output_type": "stream",
     "text": [
      "Test Loss: 0.2206176072359085\n",
      "Group test Loss: 0.24020569398999214\n",
      "[18 / 84] Margin 0.0001 Forget Lr: 0.005 Forget Iters: 5\n"
     ]
    },
    {
     "name": "stderr",
     "output_type": "stream",
     "text": [
      "100%|███████████████████████████████████████████████████████████████████████████████████████████████████████████████████████████████████████████████████████████████| 2/2 [01:59<00:00, 59.98s/it]\n"
     ]
    },
    {
     "name": "stdout",
     "output_type": "stream",
     "text": [
      "Test Loss: 0.226377934217453\n",
      "Group test Loss: 0.225646760314703\n",
      "[19 / 84] Margin 0.0001 Forget Lr: 0.001 Forget Iters: 2\n"
     ]
    },
    {
     "name": "stderr",
     "output_type": "stream",
     "text": [
      "100%|███████████████████████████████████████████████████████████████████████████████████████████████████████████████████████████████████████████████████████████████| 2/2 [02:12<00:00, 66.38s/it]\n"
     ]
    },
    {
     "name": "stdout",
     "output_type": "stream",
     "text": [
      "Test Loss: 0.21279533207416534\n",
      "Group test Loss: 0.2507828325033188\n",
      "[20 / 84] Margin 0.0001 Forget Lr: 0.001 Forget Iters: 5\n"
     ]
    },
    {
     "name": "stderr",
     "output_type": "stream",
     "text": [
      "100%|███████████████████████████████████████████████████████████████████████████████████████████████████████████████████████████████████████████████████████████████| 2/2 [01:59<00:00, 59.86s/it]\n"
     ]
    },
    {
     "name": "stdout",
     "output_type": "stream",
     "text": [
      "Test Loss: 0.2308640480041504\n",
      "Group test Loss: 0.2683987393975258\n",
      "[21 / 84] Margin 0.0001 Forget Lr: 0.05 Forget Iters: 2\n"
     ]
    },
    {
     "name": "stderr",
     "output_type": "stream",
     "text": [
      "100%|███████████████████████████████████████████████████████████████████████████████████████████████████████████████████████████████████████████████████████████████| 2/2 [02:12<00:00, 66.07s/it]\n"
     ]
    },
    {
     "name": "stdout",
     "output_type": "stream",
     "text": [
      "Test Loss: 0.2346246838569641\n",
      "Group test Loss: 0.286398246884346\n",
      "[22 / 84] Margin 0.0001 Forget Lr: 0.05 Forget Iters: 5\n"
     ]
    },
    {
     "name": "stderr",
     "output_type": "stream",
     "text": [
      "100%|███████████████████████████████████████████████████████████████████████████████████████████████████████████████████████████████████████████████████████████████| 2/2 [01:59<00:00, 59.98s/it]\n"
     ]
    },
    {
     "name": "stdout",
     "output_type": "stream",
     "text": [
      "Test Loss: 0.3096280097961426\n",
      "Group test Loss: 0.42391616106033325\n",
      "[23 / 84] Margin 0.0001 Forget Lr: 0.01 Forget Iters: 2\n"
     ]
    },
    {
     "name": "stderr",
     "output_type": "stream",
     "text": [
      "100%|███████████████████████████████████████████████████████████████████████████████████████████████████████████████████████████████████████████████████████████████| 2/2 [02:12<00:00, 66.21s/it]\n"
     ]
    },
    {
     "name": "stdout",
     "output_type": "stream",
     "text": [
      "Test Loss: 0.23157998919487\n",
      "Group test Loss: 0.27459432929754257\n",
      "[24 / 84] Margin 0.0001 Forget Lr: 0.01 Forget Iters: 5\n"
     ]
    },
    {
     "name": "stderr",
     "output_type": "stream",
     "text": [
      "100%|███████████████████████████████████████████████████████████████████████████████████████████████████████████████████████████████████████████████████████████████| 2/2 [01:59<00:00, 59.84s/it]\n"
     ]
    },
    {
     "name": "stdout",
     "output_type": "stream",
     "text": [
      "Test Loss: 0.32868140935897827\n",
      "Group test Loss: 0.4225984625518322\n",
      "[25 / 84] Margin 0.001 Forget Lr: 0.0005 Forget Iters: 2\n"
     ]
    },
    {
     "name": "stderr",
     "output_type": "stream",
     "text": [
      "100%|███████████████████████████████████████████████████████████████████████████████████████████████████████████████████████████████████████████████████████████████| 2/2 [02:12<00:00, 66.28s/it]\n"
     ]
    },
    {
     "name": "stdout",
     "output_type": "stream",
     "text": [
      "Test Loss: 0.25502780079841614\n",
      "Group test Loss: 0.288749061524868\n",
      "[26 / 84] Margin 0.001 Forget Lr: 0.0005 Forget Iters: 5\n"
     ]
    },
    {
     "name": "stderr",
     "output_type": "stream",
     "text": [
      "100%|███████████████████████████████████████████████████████████████████████████████████████████████████████████████████████████████████████████████████████████████| 2/2 [01:59<00:00, 59.86s/it]\n"
     ]
    },
    {
     "name": "stdout",
     "output_type": "stream",
     "text": [
      "Test Loss: 0.29122111201286316\n",
      "Group test Loss: 0.2506901416927576\n",
      "[27 / 84] Margin 0.001 Forget Lr: 0.0001 Forget Iters: 2\n"
     ]
    },
    {
     "name": "stderr",
     "output_type": "stream",
     "text": [
      "100%|███████████████████████████████████████████████████████████████████████████████████████████████████████████████████████████████████████████████████████████████| 2/2 [02:12<00:00, 66.23s/it]\n"
     ]
    },
    {
     "name": "stdout",
     "output_type": "stream",
     "text": [
      "Test Loss: 0.23280978202819824\n",
      "Group test Loss: 0.28003961592912674\n",
      "[28 / 84] Margin 0.001 Forget Lr: 0.0001 Forget Iters: 5\n"
     ]
    },
    {
     "name": "stderr",
     "output_type": "stream",
     "text": [
      "100%|███████████████████████████████████████████████████████████████████████████████████████████████████████████████████████████████████████████████████████████████| 2/2 [01:59<00:00, 59.87s/it]\n"
     ]
    },
    {
     "name": "stdout",
     "output_type": "stream",
     "text": [
      "Test Loss: 0.2274717092514038\n",
      "Group test Loss: 0.2926745004951954\n",
      "[29 / 84] Margin 0.001 Forget Lr: 0.005 Forget Iters: 2\n"
     ]
    },
    {
     "name": "stderr",
     "output_type": "stream",
     "text": [
      "100%|███████████████████████████████████████████████████████████████████████████████████████████████████████████████████████████████████████████████████████████████| 2/2 [02:12<00:00, 66.11s/it]\n"
     ]
    },
    {
     "name": "stdout",
     "output_type": "stream",
     "text": [
      "Test Loss: 0.24649924039840698\n",
      "Group test Loss: 0.2841745540499687\n",
      "[30 / 84] Margin 0.001 Forget Lr: 0.005 Forget Iters: 5\n"
     ]
    },
    {
     "name": "stderr",
     "output_type": "stream",
     "text": [
      "100%|███████████████████████████████████████████████████████████████████████████████████████████████████████████████████████████████████████████████████████████████| 2/2 [02:00<00:00, 60.00s/it]\n"
     ]
    },
    {
     "name": "stdout",
     "output_type": "stream",
     "text": [
      "Test Loss: 0.24841441214084625\n",
      "Group test Loss: 0.2612149156630039\n",
      "[31 / 84] Margin 0.001 Forget Lr: 0.001 Forget Iters: 2\n"
     ]
    },
    {
     "name": "stderr",
     "output_type": "stream",
     "text": [
      "100%|███████████████████████████████████████████████████████████████████████████████████████████████████████████████████████████████████████████████████████████████| 2/2 [02:11<00:00, 65.99s/it]\n"
     ]
    },
    {
     "name": "stdout",
     "output_type": "stream",
     "text": [
      "Test Loss: 0.24572116136550903\n",
      "Group test Loss: 0.32111118733882904\n",
      "[32 / 84] Margin 0.001 Forget Lr: 0.001 Forget Iters: 5\n"
     ]
    },
    {
     "name": "stderr",
     "output_type": "stream",
     "text": [
      "100%|███████████████████████████████████████████████████████████████████████████████████████████████████████████████████████████████████████████████████████████████| 2/2 [01:59<00:00, 59.75s/it]\n"
     ]
    },
    {
     "name": "stdout",
     "output_type": "stream",
     "text": [
      "Test Loss: 0.33315005898475647\n",
      "Group test Loss: 0.2872562874108553\n",
      "[33 / 84] Margin 0.001 Forget Lr: 0.05 Forget Iters: 2\n"
     ]
    },
    {
     "name": "stderr",
     "output_type": "stream",
     "text": [
      "100%|███████████████████████████████████████████████████████████████████████████████████████████████████████████████████████████████████████████████████████████████| 2/2 [02:12<00:00, 66.22s/it]\n"
     ]
    },
    {
     "name": "stdout",
     "output_type": "stream",
     "text": [
      "Test Loss: 0.2403097301721573\n",
      "Group test Loss: 0.25834424421191216\n",
      "[34 / 84] Margin 0.001 Forget Lr: 0.05 Forget Iters: 5\n"
     ]
    },
    {
     "name": "stderr",
     "output_type": "stream",
     "text": [
      "100%|███████████████████████████████████████████████████████████████████████████████████████████████████████████████████████████████████████████████████████████████| 2/2 [01:59<00:00, 59.92s/it]\n"
     ]
    },
    {
     "name": "stdout",
     "output_type": "stream",
     "text": [
      "Test Loss: 0.2749502658843994\n",
      "Group test Loss: 0.2496917974203825\n",
      "[35 / 84] Margin 0.001 Forget Lr: 0.01 Forget Iters: 2\n"
     ]
    },
    {
     "name": "stderr",
     "output_type": "stream",
     "text": [
      "100%|███████████████████████████████████████████████████████████████████████████████████████████████████████████████████████████████████████████████████████████████| 2/2 [02:12<00:00, 66.03s/it]\n"
     ]
    },
    {
     "name": "stdout",
     "output_type": "stream",
     "text": [
      "Test Loss: 0.22457511723041534\n",
      "Group test Loss: 0.250253651291132\n",
      "[36 / 84] Margin 0.001 Forget Lr: 0.01 Forget Iters: 5\n"
     ]
    },
    {
     "name": "stderr",
     "output_type": "stream",
     "text": [
      "100%|███████████████████████████████████████████████████████████████████████████████████████████████████████████████████████████████████████████████████████████████| 2/2 [01:59<00:00, 59.78s/it]\n"
     ]
    },
    {
     "name": "stdout",
     "output_type": "stream",
     "text": [
      "Test Loss: 0.2617581784725189\n",
      "Group test Loss: 0.36407439038157463\n",
      "[37 / 84] Margin 0.001 Forget Lr: 0.0005 Forget Iters: 2\n"
     ]
    },
    {
     "name": "stderr",
     "output_type": "stream",
     "text": [
      "100%|███████████████████████████████████████████████████████████████████████████████████████████████████████████████████████████████████████████████████████████████| 2/2 [02:12<00:00, 66.15s/it]\n"
     ]
    },
    {
     "name": "stdout",
     "output_type": "stream",
     "text": [
      "Test Loss: 0.2328052818775177\n",
      "Group test Loss: 0.2985120713710785\n",
      "[38 / 84] Margin 0.001 Forget Lr: 0.0005 Forget Iters: 5\n"
     ]
    },
    {
     "name": "stderr",
     "output_type": "stream",
     "text": [
      "100%|███████████████████████████████████████████████████████████████████████████████████████████████████████████████████████████████████████████████████████████████| 2/2 [01:59<00:00, 59.86s/it]\n"
     ]
    },
    {
     "name": "stdout",
     "output_type": "stream",
     "text": [
      "Test Loss: 0.22880202531814575\n",
      "Group test Loss: 0.3008626811206341\n",
      "[39 / 84] Margin 0.001 Forget Lr: 0.0001 Forget Iters: 2\n"
     ]
    },
    {
     "name": "stderr",
     "output_type": "stream",
     "text": [
      "100%|███████████████████████████████████████████████████████████████████████████████████████████████████████████████████████████████████████████████████████████████| 2/2 [02:13<00:00, 66.61s/it]\n"
     ]
    },
    {
     "name": "stdout",
     "output_type": "stream",
     "text": [
      "Test Loss: 0.24585571885108948\n",
      "Group test Loss: 0.2873416543006897\n",
      "[40 / 84] Margin 0.001 Forget Lr: 0.0001 Forget Iters: 5\n"
     ]
    },
    {
     "name": "stderr",
     "output_type": "stream",
     "text": [
      "100%|███████████████████████████████████████████████████████████████████████████████████████████████████████████████████████████████████████████████████████████████| 2/2 [01:59<00:00, 59.82s/it]\n"
     ]
    },
    {
     "name": "stdout",
     "output_type": "stream",
     "text": [
      "Test Loss: 0.21077048778533936\n",
      "Group test Loss: 0.24319616705179214\n",
      "[41 / 84] Margin 0.001 Forget Lr: 0.005 Forget Iters: 2\n"
     ]
    },
    {
     "name": "stderr",
     "output_type": "stream",
     "text": [
      "100%|███████████████████████████████████████████████████████████████████████████████████████████████████████████████████████████████████████████████████████████████| 2/2 [02:12<00:00, 66.16s/it]\n"
     ]
    },
    {
     "name": "stdout",
     "output_type": "stream",
     "text": [
      "Test Loss: 0.24270662665367126\n",
      "Group test Loss: 0.27083738148212433\n",
      "[42 / 84] Margin 0.001 Forget Lr: 0.005 Forget Iters: 5\n"
     ]
    },
    {
     "name": "stderr",
     "output_type": "stream",
     "text": [
      "100%|███████████████████████████████████████████████████████████████████████████████████████████████████████████████████████████████████████████████████████████████| 2/2 [01:59<00:00, 59.95s/it]\n"
     ]
    },
    {
     "name": "stdout",
     "output_type": "stream",
     "text": [
      "Test Loss: 0.2795677185058594\n",
      "Group test Loss: 0.3840594217181206\n",
      "[43 / 84] Margin 0.001 Forget Lr: 0.001 Forget Iters: 2\n"
     ]
    },
    {
     "name": "stderr",
     "output_type": "stream",
     "text": [
      "100%|███████████████████████████████████████████████████████████████████████████████████████████████████████████████████████████████████████████████████████████████| 2/2 [02:12<00:00, 66.13s/it]\n"
     ]
    },
    {
     "name": "stdout",
     "output_type": "stream",
     "text": [
      "Test Loss: 0.23083487153053284\n",
      "Group test Loss: 0.28429165482521057\n",
      "[44 / 84] Margin 0.001 Forget Lr: 0.001 Forget Iters: 5\n"
     ]
    },
    {
     "name": "stderr",
     "output_type": "stream",
     "text": [
      "100%|███████████████████████████████████████████████████████████████████████████████████████████████████████████████████████████████████████████████████████████████| 2/2 [01:59<00:00, 59.96s/it]\n"
     ]
    },
    {
     "name": "stdout",
     "output_type": "stream",
     "text": [
      "Test Loss: 0.22009599208831787\n",
      "Group test Loss: 0.2763003073632717\n",
      "[45 / 84] Margin 0.001 Forget Lr: 0.05 Forget Iters: 2\n"
     ]
    },
    {
     "name": "stderr",
     "output_type": "stream",
     "text": [
      "100%|███████████████████████████████████████████████████████████████████████████████████████████████████████████████████████████████████████████████████████████████| 2/2 [02:12<00:00, 66.30s/it]\n"
     ]
    },
    {
     "name": "stdout",
     "output_type": "stream",
     "text": [
      "Test Loss: 0.23352769017219543\n",
      "Group test Loss: 0.25520673766732216\n",
      "[46 / 84] Margin 0.001 Forget Lr: 0.05 Forget Iters: 5\n"
     ]
    },
    {
     "name": "stderr",
     "output_type": "stream",
     "text": [
      "100%|███████████████████████████████████████████████████████████████████████████████████████████████████████████████████████████████████████████████████████████████| 2/2 [02:00<00:00, 60.11s/it]\n"
     ]
    },
    {
     "name": "stdout",
     "output_type": "stream",
     "text": [
      "Test Loss: 0.30789148807525635\n",
      "Group test Loss: 0.27087128162384033\n",
      "[47 / 84] Margin 0.001 Forget Lr: 0.01 Forget Iters: 2\n"
     ]
    },
    {
     "name": "stderr",
     "output_type": "stream",
     "text": [
      "100%|███████████████████████████████████████████████████████████████████████████████████████████████████████████████████████████████████████████████████████████████| 2/2 [02:13<00:00, 66.56s/it]\n"
     ]
    },
    {
     "name": "stdout",
     "output_type": "stream",
     "text": [
      "Test Loss: 0.23549427092075348\n",
      "Group test Loss: 0.242048017680645\n",
      "[48 / 84] Margin 0.001 Forget Lr: 0.01 Forget Iters: 5\n"
     ]
    },
    {
     "name": "stderr",
     "output_type": "stream",
     "text": [
      "100%|███████████████████████████████████████████████████████████████████████████████████████████████████████████████████████████████████████████████████████████████| 2/2 [02:00<00:00, 60.09s/it]\n"
     ]
    },
    {
     "name": "stdout",
     "output_type": "stream",
     "text": [
      "Test Loss: 0.2954491972923279\n",
      "Group test Loss: 0.26598672568798065\n",
      "[49 / 84] Margin 0.1 Forget Lr: 0.0005 Forget Iters: 2\n"
     ]
    },
    {
     "name": "stderr",
     "output_type": "stream",
     "text": [
      "100%|███████████████████████████████████████████████████████████████████████████████████████████████████████████████████████████████████████████████████████████████| 2/2 [02:12<00:00, 66.19s/it]\n"
     ]
    },
    {
     "name": "stdout",
     "output_type": "stream",
     "text": [
      "Test Loss: 0.2565329968929291\n",
      "Group test Loss: 0.30538394674658775\n",
      "[50 / 84] Margin 0.1 Forget Lr: 0.0005 Forget Iters: 5\n"
     ]
    },
    {
     "name": "stderr",
     "output_type": "stream",
     "text": [
      "100%|███████████████████████████████████████████████████████████████████████████████████████████████████████████████████████████████████████████████████████████████| 2/2 [02:00<00:00, 60.15s/it]\n"
     ]
    },
    {
     "name": "stdout",
     "output_type": "stream",
     "text": [
      "Test Loss: 0.24064494669437408\n",
      "Group test Loss: 0.2755035385489464\n",
      "[51 / 84] Margin 0.1 Forget Lr: 0.0001 Forget Iters: 2\n"
     ]
    },
    {
     "name": "stderr",
     "output_type": "stream",
     "text": [
      "100%|███████████████████████████████████████████████████████████████████████████████████████████████████████████████████████████████████████████████████████████████| 2/2 [02:12<00:00, 66.03s/it]\n"
     ]
    },
    {
     "name": "stdout",
     "output_type": "stream",
     "text": [
      "Test Loss: 0.23462077975273132\n",
      "Group test Loss: 0.30099721997976303\n",
      "[52 / 84] Margin 0.1 Forget Lr: 0.0001 Forget Iters: 5\n"
     ]
    },
    {
     "name": "stderr",
     "output_type": "stream",
     "text": [
      "100%|███████████████████████████████████████████████████████████████████████████████████████████████████████████████████████████████████████████████████████████████| 2/2 [01:59<00:00, 59.77s/it]\n"
     ]
    },
    {
     "name": "stdout",
     "output_type": "stream",
     "text": [
      "Test Loss: 0.24257934093475342\n",
      "Group test Loss: 0.2412269189953804\n",
      "[53 / 84] Margin 0.1 Forget Lr: 0.005 Forget Iters: 2\n"
     ]
    },
    {
     "name": "stderr",
     "output_type": "stream",
     "text": [
      "100%|███████████████████████████████████████████████████████████████████████████████████████████████████████████████████████████████████████████████████████████████| 2/2 [02:12<00:00, 66.15s/it]\n"
     ]
    },
    {
     "name": "stdout",
     "output_type": "stream",
     "text": [
      "Test Loss: 0.24325355887413025\n",
      "Group test Loss: 0.2640226520597935\n",
      "[54 / 84] Margin 0.1 Forget Lr: 0.005 Forget Iters: 5\n"
     ]
    },
    {
     "name": "stderr",
     "output_type": "stream",
     "text": [
      "100%|███████████████████████████████████████████████████████████████████████████████████████████████████████████████████████████████████████████████████████████████| 2/2 [01:59<00:00, 59.95s/it]\n"
     ]
    },
    {
     "name": "stdout",
     "output_type": "stream",
     "text": [
      "Test Loss: 0.22354039549827576\n",
      "Group test Loss: 0.287371713668108\n",
      "[55 / 84] Margin 0.1 Forget Lr: 0.001 Forget Iters: 2\n"
     ]
    },
    {
     "name": "stderr",
     "output_type": "stream",
     "text": [
      "100%|███████████████████████████████████████████████████████████████████████████████████████████████████████████████████████████████████████████████████████████████| 2/2 [02:12<00:00, 66.48s/it]\n"
     ]
    },
    {
     "name": "stdout",
     "output_type": "stream",
     "text": [
      "Test Loss: 0.23221741616725922\n",
      "Group test Loss: 0.2797706238925457\n",
      "[56 / 84] Margin 0.1 Forget Lr: 0.001 Forget Iters: 5\n"
     ]
    },
    {
     "name": "stderr",
     "output_type": "stream",
     "text": [
      "100%|███████████████████████████████████████████████████████████████████████████████████████████████████████████████████████████████████████████████████████████████| 2/2 [01:59<00:00, 59.80s/it]\n"
     ]
    },
    {
     "name": "stdout",
     "output_type": "stream",
     "text": [
      "Test Loss: 0.2418578565120697\n",
      "Group test Loss: 0.2571696266531944\n",
      "[57 / 84] Margin 0.1 Forget Lr: 0.05 Forget Iters: 2\n"
     ]
    },
    {
     "name": "stderr",
     "output_type": "stream",
     "text": [
      "100%|███████████████████████████████████████████████████████████████████████████████████████████████████████████████████████████████████████████████████████████████| 2/2 [02:12<00:00, 66.34s/it]\n"
     ]
    },
    {
     "name": "stdout",
     "output_type": "stream",
     "text": [
      "Test Loss: 0.23738932609558105\n",
      "Group test Loss: 0.27910761907696724\n",
      "[58 / 84] Margin 0.1 Forget Lr: 0.05 Forget Iters: 5\n"
     ]
    },
    {
     "name": "stderr",
     "output_type": "stream",
     "text": [
      "100%|███████████████████████████████████████████████████████████████████████████████████████████████████████████████████████████████████████████████████████████████| 2/2 [02:00<00:00, 60.29s/it]\n"
     ]
    },
    {
     "name": "stdout",
     "output_type": "stream",
     "text": [
      "Test Loss: 0.25283244252204895\n",
      "Group test Loss: 0.2512630484998226\n",
      "[59 / 84] Margin 0.1 Forget Lr: 0.01 Forget Iters: 2\n"
     ]
    },
    {
     "name": "stderr",
     "output_type": "stream",
     "text": [
      "100%|███████████████████████████████████████████████████████████████████████████████████████████████████████████████████████████████████████████████████████████████| 2/2 [02:12<00:00, 66.23s/it]\n"
     ]
    },
    {
     "name": "stdout",
     "output_type": "stream",
     "text": [
      "Test Loss: 0.26016750931739807\n",
      "Group test Loss: 0.30369096994400024\n",
      "[60 / 84] Margin 0.1 Forget Lr: 0.01 Forget Iters: 5\n"
     ]
    },
    {
     "name": "stderr",
     "output_type": "stream",
     "text": [
      "100%|███████████████████████████████████████████████████████████████████████████████████████████████████████████████████████████████████████████████████████████████| 2/2 [02:00<00:00, 60.27s/it]\n"
     ]
    },
    {
     "name": "stdout",
     "output_type": "stream",
     "text": [
      "Test Loss: 0.2633897662162781\n",
      "Group test Loss: 0.3436257652938366\n",
      "[61 / 84] Margin 10.0 Forget Lr: 0.0005 Forget Iters: 2\n"
     ]
    },
    {
     "name": "stderr",
     "output_type": "stream",
     "text": [
      "100%|███████████████████████████████████████████████████████████████████████████████████████████████████████████████████████████████████████████████████████████████| 2/2 [02:12<00:00, 66.43s/it]\n"
     ]
    },
    {
     "name": "stdout",
     "output_type": "stream",
     "text": [
      "Test Loss: 0.2308727502822876\n",
      "Group test Loss: 0.2714138515293598\n",
      "[62 / 84] Margin 10.0 Forget Lr: 0.0005 Forget Iters: 5\n"
     ]
    },
    {
     "name": "stderr",
     "output_type": "stream",
     "text": [
      "100%|███████████████████████████████████████████████████████████████████████████████████████████████████████████████████████████████████████████████████████████████| 2/2 [02:00<00:00, 60.03s/it]\n"
     ]
    },
    {
     "name": "stdout",
     "output_type": "stream",
     "text": [
      "Test Loss: 0.31211429834365845\n",
      "Group test Loss: 0.2592105772346258\n",
      "[63 / 84] Margin 10.0 Forget Lr: 0.0001 Forget Iters: 2\n"
     ]
    },
    {
     "name": "stderr",
     "output_type": "stream",
     "text": [
      "100%|███████████████████████████████████████████████████████████████████████████████████████████████████████████████████████████████████████████████████████████████| 2/2 [02:12<00:00, 66.28s/it]\n"
     ]
    },
    {
     "name": "stdout",
     "output_type": "stream",
     "text": [
      "Test Loss: 0.21486493945121765\n",
      "Group test Loss: 0.22977405413985252\n",
      "[64 / 84] Margin 10.0 Forget Lr: 0.0001 Forget Iters: 5\n"
     ]
    },
    {
     "name": "stderr",
     "output_type": "stream",
     "text": [
      "100%|███████████████████████████████████████████████████████████████████████████████████████████████████████████████████████████████████████████████████████████████| 2/2 [02:00<00:00, 60.20s/it]\n"
     ]
    },
    {
     "name": "stdout",
     "output_type": "stream",
     "text": [
      "Test Loss: 0.2615627944469452\n",
      "Group test Loss: 0.3304959014058113\n",
      "[65 / 84] Margin 10.0 Forget Lr: 0.005 Forget Iters: 2\n"
     ]
    },
    {
     "name": "stderr",
     "output_type": "stream",
     "text": [
      "100%|███████████████████████████████████████████████████████████████████████████████████████████████████████████████████████████████████████████████████████████████| 2/2 [02:13<00:00, 66.50s/it]\n"
     ]
    },
    {
     "name": "stdout",
     "output_type": "stream",
     "text": [
      "Test Loss: 0.36513620615005493\n",
      "Group test Loss: 0.31945667788386345\n",
      "[66 / 84] Margin 10.0 Forget Lr: 0.005 Forget Iters: 5\n"
     ]
    },
    {
     "name": "stderr",
     "output_type": "stream",
     "text": [
      "100%|███████████████████████████████████████████████████████████████████████████████████████████████████████████████████████████████████████████████████████████████| 2/2 [02:00<00:00, 60.11s/it]\n"
     ]
    },
    {
     "name": "stdout",
     "output_type": "stream",
     "text": [
      "Test Loss: 0.2792900800704956\n",
      "Group test Loss: 0.33797817677259445\n",
      "[67 / 84] Margin 10.0 Forget Lr: 0.001 Forget Iters: 2\n"
     ]
    },
    {
     "name": "stderr",
     "output_type": "stream",
     "text": [
      "100%|███████████████████████████████████████████████████████████████████████████████████████████████████████████████████████████████████████████████████████████████| 2/2 [02:12<00:00, 66.23s/it]\n"
     ]
    },
    {
     "name": "stdout",
     "output_type": "stream",
     "text": [
      "Test Loss: 0.3956539034843445\n",
      "Group test Loss: 0.32136089727282524\n",
      "[68 / 84] Margin 10.0 Forget Lr: 0.001 Forget Iters: 5\n"
     ]
    },
    {
     "name": "stderr",
     "output_type": "stream",
     "text": [
      "100%|███████████████████████████████████████████████████████████████████████████████████████████████████████████████████████████████████████████████████████████████| 2/2 [01:59<00:00, 59.92s/it]\n"
     ]
    },
    {
     "name": "stdout",
     "output_type": "stream",
     "text": [
      "Test Loss: 0.33962562680244446\n",
      "Group test Loss: 0.3125480115413666\n",
      "[69 / 84] Margin 10.0 Forget Lr: 0.05 Forget Iters: 2\n"
     ]
    },
    {
     "name": "stderr",
     "output_type": "stream",
     "text": [
      "100%|███████████████████████████████████████████████████████████████████████████████████████████████████████████████████████████████████████████████████████████████| 2/2 [02:12<00:00, 66.36s/it]\n"
     ]
    },
    {
     "name": "stdout",
     "output_type": "stream",
     "text": [
      "Test Loss: 0.4993304908275604\n",
      "Group test Loss: 0.5972314551472664\n",
      "[70 / 84] Margin 10.0 Forget Lr: 0.05 Forget Iters: 5\n"
     ]
    },
    {
     "name": "stderr",
     "output_type": "stream",
     "text": [
      "100%|███████████████████████████████████████████████████████████████████████████████████████████████████████████████████████████████████████████████████████████████| 2/2 [01:59<00:00, 59.77s/it]\n"
     ]
    },
    {
     "name": "stdout",
     "output_type": "stream",
     "text": [
      "Test Loss: 0.5547906160354614\n",
      "Group test Loss: 0.7967506647109985\n",
      "[71 / 84] Margin 10.0 Forget Lr: 0.01 Forget Iters: 2\n"
     ]
    },
    {
     "name": "stderr",
     "output_type": "stream",
     "text": [
      "100%|███████████████████████████████████████████████████████████████████████████████████████████████████████████████████████████████████████████████████████████████| 2/2 [02:12<00:00, 66.43s/it]\n"
     ]
    },
    {
     "name": "stdout",
     "output_type": "stream",
     "text": [
      "Test Loss: 0.3210463523864746\n",
      "Group test Loss: 0.3399479389190674\n",
      "[72 / 84] Margin 10.0 Forget Lr: 0.01 Forget Iters: 5\n"
     ]
    },
    {
     "name": "stderr",
     "output_type": "stream",
     "text": [
      "100%|███████████████████████████████████████████████████████████████████████████████████████████████████████████████████████████████████████████████████████████████| 2/2 [01:59<00:00, 59.87s/it]\n"
     ]
    },
    {
     "name": "stdout",
     "output_type": "stream",
     "text": [
      "Test Loss: 0.32544657588005066\n",
      "Group test Loss: 0.34102971106767654\n",
      "[73 / 84] Margin 20.0 Forget Lr: 0.0005 Forget Iters: 2\n"
     ]
    },
    {
     "name": "stderr",
     "output_type": "stream",
     "text": [
      "100%|███████████████████████████████████████████████████████████████████████████████████████████████████████████████████████████████████████████████████████████████| 2/2 [02:12<00:00, 66.39s/it]\n"
     ]
    },
    {
     "name": "stdout",
     "output_type": "stream",
     "text": [
      "Test Loss: 0.33826905488967896\n",
      "Group test Loss: 0.35605716705322266\n",
      "[74 / 84] Margin 20.0 Forget Lr: 0.0005 Forget Iters: 5\n"
     ]
    },
    {
     "name": "stderr",
     "output_type": "stream",
     "text": [
      "100%|███████████████████████████████████████████████████████████████████████████████████████████████████████████████████████████████████████████████████████████████| 2/2 [02:00<00:00, 60.03s/it]\n"
     ]
    },
    {
     "name": "stdout",
     "output_type": "stream",
     "text": [
      "Test Loss: 0.2243313491344452\n",
      "Group test Loss: 0.27096210420131683\n",
      "[75 / 84] Margin 20.0 Forget Lr: 0.0001 Forget Iters: 2\n"
     ]
    },
    {
     "name": "stderr",
     "output_type": "stream",
     "text": [
      "100%|███████████████████████████████████████████████████████████████████████████████████████████████████████████████████████████████████████████████████████████████| 2/2 [02:12<00:00, 66.50s/it]\n"
     ]
    },
    {
     "name": "stdout",
     "output_type": "stream",
     "text": [
      "Test Loss: 0.2353014051914215\n",
      "Group test Loss: 0.23926522955298424\n",
      "[76 / 84] Margin 20.0 Forget Lr: 0.0001 Forget Iters: 5\n"
     ]
    },
    {
     "name": "stderr",
     "output_type": "stream",
     "text": [
      "100%|███████████████████████████████████████████████████████████████████████████████████████████████████████████████████████████████████████████████████████████████| 2/2 [02:00<00:00, 60.09s/it]\n"
     ]
    },
    {
     "name": "stdout",
     "output_type": "stream",
     "text": [
      "Test Loss: 0.223393514752388\n",
      "Group test Loss: 0.2551957182586193\n",
      "[77 / 84] Margin 20.0 Forget Lr: 0.005 Forget Iters: 2\n"
     ]
    },
    {
     "name": "stderr",
     "output_type": "stream",
     "text": [
      "100%|███████████████████████████████████████████████████████████████████████████████████████████████████████████████████████████████████████████████████████████████| 2/2 [02:12<00:00, 66.21s/it]\n"
     ]
    },
    {
     "name": "stdout",
     "output_type": "stream",
     "text": [
      "Test Loss: 0.40991833806037903\n",
      "Group test Loss: 0.5593563467264175\n",
      "[78 / 84] Margin 20.0 Forget Lr: 0.005 Forget Iters: 5\n"
     ]
    },
    {
     "name": "stderr",
     "output_type": "stream",
     "text": [
      "100%|███████████████████████████████████████████████████████████████████████████████████████████████████████████████████████████████████████████████████████████████| 2/2 [01:59<00:00, 59.93s/it]\n"
     ]
    },
    {
     "name": "stdout",
     "output_type": "stream",
     "text": [
      "Test Loss: 0.2743105888366699\n",
      "Group test Loss: 0.27154694870114326\n",
      "[79 / 84] Margin 20.0 Forget Lr: 0.001 Forget Iters: 2\n"
     ]
    },
    {
     "name": "stderr",
     "output_type": "stream",
     "text": [
      "100%|███████████████████████████████████████████████████████████████████████████████████████████████████████████████████████████████████████████████████████████████| 2/2 [02:12<00:00, 66.31s/it]\n"
     ]
    },
    {
     "name": "stdout",
     "output_type": "stream",
     "text": [
      "Test Loss: 0.2648026645183563\n",
      "Group test Loss: 0.315675962716341\n",
      "[80 / 84] Margin 20.0 Forget Lr: 0.001 Forget Iters: 5\n"
     ]
    },
    {
     "name": "stderr",
     "output_type": "stream",
     "text": [
      "100%|███████████████████████████████████████████████████████████████████████████████████████████████████████████████████████████████████████████████████████████████| 2/2 [01:59<00:00, 59.88s/it]\n"
     ]
    },
    {
     "name": "stdout",
     "output_type": "stream",
     "text": [
      "Test Loss: 0.24811837077140808\n",
      "Group test Loss: 0.27932310476899147\n",
      "[81 / 84] Margin 20.0 Forget Lr: 0.05 Forget Iters: 2\n"
     ]
    },
    {
     "name": "stderr",
     "output_type": "stream",
     "text": [
      "100%|███████████████████████████████████████████████████████████████████████████████████████████████████████████████████████████████████████████████████████████████| 2/2 [02:12<00:00, 66.14s/it]\n"
     ]
    },
    {
     "name": "stdout",
     "output_type": "stream",
     "text": [
      "Test Loss: 0.38374823331832886\n",
      "Group test Loss: 0.460624024271965\n",
      "[82 / 84] Margin 20.0 Forget Lr: 0.05 Forget Iters: 5\n"
     ]
    },
    {
     "name": "stderr",
     "output_type": "stream",
     "text": [
      "100%|███████████████████████████████████████████████████████████████████████████████████████████████████████████████████████████████████████████████████████████████| 2/2 [01:59<00:00, 59.92s/it]\n"
     ]
    },
    {
     "name": "stdout",
     "output_type": "stream",
     "text": [
      "Test Loss: 0.4504826068878174\n",
      "Group test Loss: 0.3884863071143627\n",
      "[83 / 84] Margin 20.0 Forget Lr: 0.01 Forget Iters: 2\n"
     ]
    },
    {
     "name": "stderr",
     "output_type": "stream",
     "text": [
      "100%|███████████████████████████████████████████████████████████████████████████████████████████████████████████████████████████████████████████████████████████████| 2/2 [02:12<00:00, 66.26s/it]\n"
     ]
    },
    {
     "name": "stdout",
     "output_type": "stream",
     "text": [
      "Test Loss: 0.37743356823921204\n",
      "Group test Loss: 0.4742295444011688\n",
      "[84 / 84] Margin 20.0 Forget Lr: 0.01 Forget Iters: 5\n"
     ]
    },
    {
     "name": "stderr",
     "output_type": "stream",
     "text": [
      "100%|███████████████████████████████████████████████████████████████████████████████████████████████████████████████████████████████████████████████████████████████| 2/2 [01:59<00:00, 59.96s/it]\n"
     ]
    },
    {
     "name": "stdout",
     "output_type": "stream",
     "text": [
      "Test Loss: 0.38249319791793823\n",
      "Group test Loss: 0.5175871104001999\n",
      "Best Margin : 0.001 Best Forget LR: 0.0001 Best Forget Iter: 5\n",
      "Group hyperparameters: \n",
      " Best margin: 0.0001 Best Forget Lr: 0.005 Best Forget Iter: 5\n"
     ]
    }
   ],
   "source": [
    "# hyperparameter tuning\n",
    "# Hyperparameter Tuning\n",
    "margins = [1e-5, 1e-4, 1e-3, 1e-3, 1e-1, 1e+1, 2e+1]\n",
    "forget_lrs = [5e-4, 1e-4, 5e-3, 1e-3, 5e-2, 1e-2]\n",
    "forget_iters = [2, 5]\n",
    "\n",
    "test_losses = np.zeros((len(margins), len(forget_lrs), len(forget_iters)))\n",
    "grp_test_losses = np.zeros((len(margins), len(forget_lrs), len(forget_iters)))\n",
    "\n",
    "for i in range(len(margins)):\n",
    "    for j in range(len(forget_lrs)):\n",
    "        for k in range(len(forget_iters)):\n",
    "            print(f\"[{i*(len(forget_lrs) * len(forget_iters)) + j*(len(forget_iters)) + k + 1} / {len(margins) * len(forget_lrs)* len(forget_iters)}] Margin {margins[i]} Forget Lr: {forget_lrs[j]} Forget Iters: {forget_iters[k]}\")\n",
    "            model = SiFer_margin(x.shape, 1, aux_kernels = [128, 64], layers = [5, 4]).to(device)\n",
    "            model, train_loss, val_loss,_, _ = train_fs_mar(model, train_dataloader, valid_dataloader, margin = margins[i], forget_iters = forget_iters[k], lrs = [5e-4, 5e-4, forget_lrs[j]], epochs = 2, verbose = False)\n",
    "            test_loss = eval_FSModel(model, test_dataloader)\n",
    "            print(f\"Test Loss: {test_loss}\")\n",
    "            grp_loss = group_eval_fs(model, group_dataloaders)\n",
    "\n",
    "            test_losses[i,j,k] = test_loss\n",
    "            grp_test_losses[i,j,k] = grp_loss[0]\n",
    "\n",
    "best_margin, best_forget_lr, best_forget_iter = np.unravel_index(np.argmin(test_losses), test_losses.shape)\n",
    "best_grp_margin, best_grp_forget_lr, best_grp_forget_iter = np.unravel_index(np.argmin(grp_test_losses), grp_test_losses.shape)\n",
    "\n",
    "print(f\"Best Margin : {margins[best_margin]} Best Forget LR: {forget_lrs[best_forget_lr]} Best Forget Iter: {forget_iters[best_forget_iter]}\")\n",
    "print(f\"Group hyperparameters: \\n Best margin: {margins[best_grp_margin]} Best Forget Lr: {forget_lrs[best_grp_forget_lr]} Best Forget Iter: {forget_iters[best_grp_forget_iter]}\")"
   ]
  },
  {
   "cell_type": "code",
   "execution_count": 24,
   "id": "f670f904-4480-44ce-adcb-bb162599f133",
   "metadata": {
    "scrolled": true
   },
   "outputs": [
    {
     "name": "stderr",
     "output_type": "stream",
     "text": [
      "100%|██████████████████████████████████████████████████████████████| 5/5 [04:59<00:00, 59.80s/it]\n"
     ]
    },
    {
     "name": "stdout",
     "output_type": "stream",
     "text": [
      "Test Loss: 0.2444404810667038\n",
      "Group test Loss: 0.2557152546942234\n"
     ]
    }
   ],
   "source": [
    "margins = [1e-5, 1e-4, 1e-3, 1e-3, 1e-1, 1e+1, 2e+1]\n",
    "forget_lrs = [5e-4, 1e-4, 5e-3, 1e-3, 5e-2, 1e-2]\n",
    "forget_iters = [2, 5]\n",
    "\n",
    "best_grp_margin, best_grp_forget_lr, best_grp_forget_iter = margins.index(0.0001), forget_lrs.index(0.005), forget_iters.index(5)\n",
    "\n",
    "sifer_margin = SiFer_margin(x.shape, 1, aux_kernels = [128, 64], layers = [5, 4]).to(device)\n",
    "sifer_margin, train_loss, val_loss,_, _ = train_fs_mar(sifer_margin, train_dataloader, valid_dataloader, margin = margins[best_grp_margin], forget_iters = forget_iters[best_grp_forget_iter], lrs = [5e-4, 5e-4, forget_lrs[best_grp_forget_lr]], epochs = 5, verbose = False)\n",
    "test_loss_mar = eval_FSModel(sifer_margin, test_dataloader)\n",
    "print(f\"Test Loss: {test_loss_mar}\")\n",
    "group_tst_loss_mar, groups_fs_mar = group_eval_fs(sifer_margin, group_dataloaders)"
   ]
  },
  {
   "cell_type": "markdown",
   "id": "1e1a5fdc-b897-4ef1-b7b2-cd191f88e08f",
   "metadata": {},
   "source": [
    "## 3) Cross Entropy Forgetting loss"
   ]
  },
  {
   "cell_type": "code",
   "execution_count": 18,
   "id": "3be46a03-b550-4fb4-bd5b-4337637cc974",
   "metadata": {
    "scrolled": true
   },
   "outputs": [
    {
     "name": "stdout",
     "output_type": "stream",
     "text": [
      "1/96) Num Bins 2 Forget Lr: 0.0005 Forget Iters: 2\n"
     ]
    },
    {
     "name": "stderr",
     "output_type": "stream",
     "text": [
      "100%|███████████████████████████████████████████████████████████████████████████████████████████████████████████████████████████████████████████████████████████████| 2/2 [02:10<00:00, 65.24s/it]\n"
     ]
    },
    {
     "name": "stdout",
     "output_type": "stream",
     "text": [
      "Test Loss: 0.2650742828845978\n",
      "Group test Loss: 0.3153807781636715\n",
      "2/96) Num Bins 2 Forget Lr: 0.0005 Forget Iters: 5\n"
     ]
    },
    {
     "name": "stderr",
     "output_type": "stream",
     "text": [
      "100%|███████████████████████████████████████████████████████████████████████████████████████████████████████████████████████████████████████████████████████████████| 2/2 [01:58<00:00, 59.34s/it]\n"
     ]
    },
    {
     "name": "stdout",
     "output_type": "stream",
     "text": [
      "Test Loss: 0.2349214106798172\n",
      "Group test Loss: 0.26447729393839836\n",
      "3/96) Num Bins 2 Forget Lr: 0.0001 Forget Iters: 2\n"
     ]
    },
    {
     "name": "stderr",
     "output_type": "stream",
     "text": [
      "100%|███████████████████████████████████████████████████████████████████████████████████████████████████████████████████████████████████████████████████████████████| 2/2 [02:10<00:00, 65.43s/it]\n"
     ]
    },
    {
     "name": "stdout",
     "output_type": "stream",
     "text": [
      "Test Loss: 0.27457955479621887\n",
      "Group test Loss: 0.3231680542230606\n",
      "4/96) Num Bins 2 Forget Lr: 0.0001 Forget Iters: 5\n"
     ]
    },
    {
     "name": "stderr",
     "output_type": "stream",
     "text": [
      "100%|███████████████████████████████████████████████████████████████████████████████████████████████████████████████████████████████████████████████████████████████| 2/2 [01:58<00:00, 59.43s/it]\n"
     ]
    },
    {
     "name": "stdout",
     "output_type": "stream",
     "text": [
      "Test Loss: 0.25986507534980774\n",
      "Group test Loss: 0.34009547904133797\n",
      "5/96) Num Bins 2 Forget Lr: 0.005 Forget Iters: 2\n"
     ]
    },
    {
     "name": "stderr",
     "output_type": "stream",
     "text": [
      "100%|███████████████████████████████████████████████████████████████████████████████████████████████████████████████████████████████████████████████████████████████| 2/2 [02:10<00:00, 65.41s/it]\n"
     ]
    },
    {
     "name": "stdout",
     "output_type": "stream",
     "text": [
      "Test Loss: 0.3313012421131134\n",
      "Group test Loss: 0.4163779057562351\n",
      "6/96) Num Bins 2 Forget Lr: 0.005 Forget Iters: 5\n"
     ]
    },
    {
     "name": "stderr",
     "output_type": "stream",
     "text": [
      "100%|███████████████████████████████████████████████████████████████████████████████████████████████████████████████████████████████████████████████████████████████| 2/2 [01:58<00:00, 59.39s/it]\n"
     ]
    },
    {
     "name": "stdout",
     "output_type": "stream",
     "text": [
      "Test Loss: 0.3006318509578705\n",
      "Group test Loss: 0.288102138787508\n",
      "7/96) Num Bins 2 Forget Lr: 0.001 Forget Iters: 2\n"
     ]
    },
    {
     "name": "stderr",
     "output_type": "stream",
     "text": [
      "100%|███████████████████████████████████████████████████████████████████████████████████████████████████████████████████████████████████████████████████████████████| 2/2 [02:10<00:00, 65.22s/it]\n"
     ]
    },
    {
     "name": "stdout",
     "output_type": "stream",
     "text": [
      "Test Loss: 0.2702028453350067\n",
      "Group test Loss: 0.3378620445728302\n",
      "8/96) Num Bins 2 Forget Lr: 0.001 Forget Iters: 5\n"
     ]
    },
    {
     "name": "stderr",
     "output_type": "stream",
     "text": [
      "100%|███████████████████████████████████████████████████████████████████████████████████████████████████████████████████████████████████████████████████████████████| 2/2 [01:58<00:00, 59.36s/it]\n"
     ]
    },
    {
     "name": "stdout",
     "output_type": "stream",
     "text": [
      "Test Loss: 0.27218183875083923\n",
      "Group test Loss: 0.2514110393822193\n",
      "9/96) Num Bins 2 Forget Lr: 0.05 Forget Iters: 2\n"
     ]
    },
    {
     "name": "stderr",
     "output_type": "stream",
     "text": [
      "100%|███████████████████████████████████████████████████████████████████████████████████████████████████████████████████████████████████████████████████████████████| 2/2 [02:10<00:00, 65.29s/it]\n"
     ]
    },
    {
     "name": "stdout",
     "output_type": "stream",
     "text": [
      "Test Loss: 0.4572252333164215\n",
      "Group test Loss: 0.5636174008250237\n",
      "10/96) Num Bins 2 Forget Lr: 0.05 Forget Iters: 5\n"
     ]
    },
    {
     "name": "stderr",
     "output_type": "stream",
     "text": [
      "100%|███████████████████████████████████████████████████████████████████████████████████████████████████████████████████████████████████████████████████████████████| 2/2 [01:59<00:00, 59.62s/it]\n"
     ]
    },
    {
     "name": "stdout",
     "output_type": "stream",
     "text": [
      "Test Loss: 0.4761156737804413\n",
      "Group test Loss: 0.6794223859906197\n",
      "11/96) Num Bins 2 Forget Lr: 0.01 Forget Iters: 2\n"
     ]
    },
    {
     "name": "stderr",
     "output_type": "stream",
     "text": [
      "100%|███████████████████████████████████████████████████████████████████████████████████████████████████████████████████████████████████████████████████████████████| 2/2 [02:11<00:00, 65.50s/it]\n"
     ]
    },
    {
     "name": "stdout",
     "output_type": "stream",
     "text": [
      "Test Loss: 0.3158627152442932\n",
      "Group test Loss: 0.3577323667705059\n",
      "12/96) Num Bins 2 Forget Lr: 0.01 Forget Iters: 5\n"
     ]
    },
    {
     "name": "stderr",
     "output_type": "stream",
     "text": [
      "100%|███████████████████████████████████████████████████████████████████████████████████████████████████████████████████████████████████████████████████████████████| 2/2 [01:58<00:00, 59.44s/it]\n"
     ]
    },
    {
     "name": "stdout",
     "output_type": "stream",
     "text": [
      "Test Loss: 0.3762744069099426\n",
      "Group test Loss: 0.31959911435842514\n",
      "13/96) Num Bins 10 Forget Lr: 0.0005 Forget Iters: 2\n"
     ]
    },
    {
     "name": "stderr",
     "output_type": "stream",
     "text": [
      "100%|███████████████████████████████████████████████████████████████████████████████████████████████████████████████████████████████████████████████████████████████| 2/2 [02:10<00:00, 65.37s/it]\n"
     ]
    },
    {
     "name": "stdout",
     "output_type": "stream",
     "text": [
      "Test Loss: 0.32142412662506104\n",
      "Group test Loss: 0.27806419879198074\n",
      "14/96) Num Bins 10 Forget Lr: 0.0005 Forget Iters: 5\n"
     ]
    },
    {
     "name": "stderr",
     "output_type": "stream",
     "text": [
      "100%|███████████████████████████████████████████████████████████████████████████████████████████████████████████████████████████████████████████████████████████████| 2/2 [01:58<00:00, 59.31s/it]\n"
     ]
    },
    {
     "name": "stdout",
     "output_type": "stream",
     "text": [
      "Test Loss: 0.2722070813179016\n",
      "Group test Loss: 0.27702128142118454\n",
      "15/96) Num Bins 10 Forget Lr: 0.0001 Forget Iters: 2\n"
     ]
    },
    {
     "name": "stderr",
     "output_type": "stream",
     "text": [
      "100%|███████████████████████████████████████████████████████████████████████████████████████████████████████████████████████████████████████████████████████████████| 2/2 [02:10<00:00, 65.50s/it]\n"
     ]
    },
    {
     "name": "stdout",
     "output_type": "stream",
     "text": [
      "Test Loss: 0.3122996389865875\n",
      "Group test Loss: 0.4126345105469227\n",
      "16/96) Num Bins 10 Forget Lr: 0.0001 Forget Iters: 5\n"
     ]
    },
    {
     "name": "stderr",
     "output_type": "stream",
     "text": [
      "100%|███████████████████████████████████████████████████████████████████████████████████████████████████████████████████████████████████████████████████████████████| 2/2 [01:58<00:00, 59.22s/it]\n"
     ]
    },
    {
     "name": "stdout",
     "output_type": "stream",
     "text": [
      "Test Loss: 0.23121319711208344\n",
      "Group test Loss: 0.2500121109187603\n",
      "17/96) Num Bins 10 Forget Lr: 0.005 Forget Iters: 2\n"
     ]
    },
    {
     "name": "stderr",
     "output_type": "stream",
     "text": [
      "100%|███████████████████████████████████████████████████████████████████████████████████████████████████████████████████████████████████████████████████████████████| 2/2 [02:10<00:00, 65.31s/it]\n"
     ]
    },
    {
     "name": "stdout",
     "output_type": "stream",
     "text": [
      "Test Loss: 0.3841051757335663\n",
      "Group test Loss: 0.5034524835646152\n",
      "18/96) Num Bins 10 Forget Lr: 0.005 Forget Iters: 5\n"
     ]
    },
    {
     "name": "stderr",
     "output_type": "stream",
     "text": [
      "100%|███████████████████████████████████████████████████████████████████████████████████████████████████████████████████████████████████████████████████████████████| 2/2 [01:58<00:00, 59.47s/it]\n"
     ]
    },
    {
     "name": "stdout",
     "output_type": "stream",
     "text": [
      "Test Loss: 0.3046579957008362\n",
      "Group test Loss: 0.31231627613306046\n",
      "19/96) Num Bins 10 Forget Lr: 0.001 Forget Iters: 2\n"
     ]
    },
    {
     "name": "stderr",
     "output_type": "stream",
     "text": [
      "100%|███████████████████████████████████████████████████████████████████████████████████████████████████████████████████████████████████████████████████████████████| 2/2 [02:10<00:00, 65.38s/it]\n"
     ]
    },
    {
     "name": "stdout",
     "output_type": "stream",
     "text": [
      "Test Loss: 0.2997497320175171\n",
      "Group test Loss: 0.3028585873544216\n",
      "20/96) Num Bins 10 Forget Lr: 0.001 Forget Iters: 5\n"
     ]
    },
    {
     "name": "stderr",
     "output_type": "stream",
     "text": [
      "100%|███████████████████████████████████████████████████████████████████████████████████████████████████████████████████████████████████████████████████████████████| 2/2 [01:58<00:00, 59.48s/it]\n"
     ]
    },
    {
     "name": "stdout",
     "output_type": "stream",
     "text": [
      "Test Loss: 0.4152592420578003\n",
      "Group test Loss: 0.5420940965414047\n",
      "21/96) Num Bins 10 Forget Lr: 0.05 Forget Iters: 2\n"
     ]
    },
    {
     "name": "stderr",
     "output_type": "stream",
     "text": [
      "100%|███████████████████████████████████████████████████████████████████████████████████████████████████████████████████████████████████████████████████████████████| 2/2 [02:10<00:00, 65.38s/it]\n"
     ]
    },
    {
     "name": "stdout",
     "output_type": "stream",
     "text": [
      "Test Loss: 0.4432719945907593\n",
      "Group test Loss: 0.5831115320324898\n",
      "22/96) Num Bins 10 Forget Lr: 0.05 Forget Iters: 5\n"
     ]
    },
    {
     "name": "stderr",
     "output_type": "stream",
     "text": [
      "100%|███████████████████████████████████████████████████████████████████████████████████████████████████████████████████████████████████████████████████████████████| 2/2 [01:59<00:00, 59.60s/it]\n"
     ]
    },
    {
     "name": "stdout",
     "output_type": "stream",
     "text": [
      "Test Loss: 0.3604566752910614\n",
      "Group test Loss: 0.46323686838150024\n",
      "23/96) Num Bins 10 Forget Lr: 0.01 Forget Iters: 2\n"
     ]
    },
    {
     "name": "stderr",
     "output_type": "stream",
     "text": [
      "100%|███████████████████████████████████████████████████████████████████████████████████████████████████████████████████████████████████████████████████████████████| 2/2 [02:10<00:00, 65.22s/it]\n"
     ]
    },
    {
     "name": "stdout",
     "output_type": "stream",
     "text": [
      "Test Loss: 0.5133498311042786\n",
      "Group test Loss: 0.7241489216685295\n",
      "24/96) Num Bins 10 Forget Lr: 0.01 Forget Iters: 5\n"
     ]
    },
    {
     "name": "stderr",
     "output_type": "stream",
     "text": [
      "100%|███████████████████████████████████████████████████████████████████████████████████████████████████████████████████████████████████████████████████████████████| 2/2 [01:58<00:00, 59.18s/it]\n"
     ]
    },
    {
     "name": "stdout",
     "output_type": "stream",
     "text": [
      "Test Loss: 0.4909035563468933\n",
      "Group test Loss: 0.7256382554769516\n",
      "25/96) Num Bins 25 Forget Lr: 0.0005 Forget Iters: 2\n"
     ]
    },
    {
     "name": "stderr",
     "output_type": "stream",
     "text": [
      "100%|███████████████████████████████████████████████████████████████████████████████████████████████████████████████████████████████████████████████████████████████| 2/2 [02:10<00:00, 65.39s/it]\n"
     ]
    },
    {
     "name": "stdout",
     "output_type": "stream",
     "text": [
      "Test Loss: 0.26219576597213745\n",
      "Group test Loss: 0.335903525352478\n",
      "26/96) Num Bins 25 Forget Lr: 0.0005 Forget Iters: 5\n"
     ]
    },
    {
     "name": "stderr",
     "output_type": "stream",
     "text": [
      "100%|███████████████████████████████████████████████████████████████████████████████████████████████████████████████████████████████████████████████████████████████| 2/2 [01:58<00:00, 59.40s/it]\n"
     ]
    },
    {
     "name": "stdout",
     "output_type": "stream",
     "text": [
      "Test Loss: 0.2509220540523529\n",
      "Group test Loss: 0.3331884630024433\n",
      "27/96) Num Bins 25 Forget Lr: 0.0001 Forget Iters: 2\n"
     ]
    },
    {
     "name": "stderr",
     "output_type": "stream",
     "text": [
      "100%|███████████████████████████████████████████████████████████████████████████████████████████████████████████████████████████████████████████████████████████████| 2/2 [02:10<00:00, 65.46s/it]\n"
     ]
    },
    {
     "name": "stdout",
     "output_type": "stream",
     "text": [
      "Test Loss: 0.2268846482038498\n",
      "Group test Loss: 0.26356415823102\n",
      "28/96) Num Bins 25 Forget Lr: 0.0001 Forget Iters: 5\n"
     ]
    },
    {
     "name": "stderr",
     "output_type": "stream",
     "text": [
      "100%|███████████████████████████████████████████████████████████████████████████████████████████████████████████████████████████████████████████████████████████████| 2/2 [01:58<00:00, 59.46s/it]\n"
     ]
    },
    {
     "name": "stdout",
     "output_type": "stream",
     "text": [
      "Test Loss: 0.3056993782520294\n",
      "Group test Loss: 0.3686654791235924\n",
      "29/96) Num Bins 25 Forget Lr: 0.005 Forget Iters: 2\n"
     ]
    },
    {
     "name": "stderr",
     "output_type": "stream",
     "text": [
      "100%|███████████████████████████████████████████████████████████████████████████████████████████████████████████████████████████████████████████████████████████████| 2/2 [02:11<00:00, 65.53s/it]\n"
     ]
    },
    {
     "name": "stdout",
     "output_type": "stream",
     "text": [
      "Test Loss: 0.33807477355003357\n",
      "Group test Loss: 0.3923475444316864\n",
      "30/96) Num Bins 25 Forget Lr: 0.005 Forget Iters: 5\n"
     ]
    },
    {
     "name": "stderr",
     "output_type": "stream",
     "text": [
      "100%|███████████████████████████████████████████████████████████████████████████████████████████████████████████████████████████████████████████████████████████████| 2/2 [01:58<00:00, 59.39s/it]\n"
     ]
    },
    {
     "name": "stdout",
     "output_type": "stream",
     "text": [
      "Test Loss: 0.3011036515235901\n",
      "Group test Loss: 0.29032889753580093\n",
      "31/96) Num Bins 25 Forget Lr: 0.001 Forget Iters: 2\n"
     ]
    },
    {
     "name": "stderr",
     "output_type": "stream",
     "text": [
      "100%|███████████████████████████████████████████████████████████████████████████████████████████████████████████████████████████████████████████████████████████████| 2/2 [02:11<00:00, 65.68s/it]\n"
     ]
    },
    {
     "name": "stdout",
     "output_type": "stream",
     "text": [
      "Test Loss: 0.28855395317077637\n",
      "Group test Loss: 0.37170617282390594\n",
      "32/96) Num Bins 25 Forget Lr: 0.001 Forget Iters: 5\n"
     ]
    },
    {
     "name": "stderr",
     "output_type": "stream",
     "text": [
      "100%|███████████████████████████████████████████████████████████████████████████████████████████████████████████████████████████████████████████████████████████████| 2/2 [01:59<00:00, 59.57s/it]\n"
     ]
    },
    {
     "name": "stdout",
     "output_type": "stream",
     "text": [
      "Test Loss: 0.2881055772304535\n",
      "Group test Loss: 0.3119967617094517\n",
      "33/96) Num Bins 25 Forget Lr: 0.05 Forget Iters: 2\n"
     ]
    },
    {
     "name": "stderr",
     "output_type": "stream",
     "text": [
      "100%|███████████████████████████████████████████████████████████████████████████████████████████████████████████████████████████████████████████████████████████████| 2/2 [02:10<00:00, 65.12s/it]\n"
     ]
    },
    {
     "name": "stdout",
     "output_type": "stream",
     "text": [
      "Test Loss: 0.38715851306915283\n",
      "Group test Loss: 0.46171585470438004\n",
      "34/96) Num Bins 25 Forget Lr: 0.05 Forget Iters: 5\n"
     ]
    },
    {
     "name": "stderr",
     "output_type": "stream",
     "text": [
      "100%|███████████████████████████████████████████████████████████████████████████████████████████████████████████████████████████████████████████████████████████████| 2/2 [01:58<00:00, 59.33s/it]\n"
     ]
    },
    {
     "name": "stdout",
     "output_type": "stream",
     "text": [
      "Test Loss: 0.4489772617816925\n",
      "Group test Loss: 0.6097084954380989\n",
      "35/96) Num Bins 25 Forget Lr: 0.01 Forget Iters: 2\n"
     ]
    },
    {
     "name": "stderr",
     "output_type": "stream",
     "text": [
      "100%|███████████████████████████████████████████████████████████████████████████████████████████████████████████████████████████████████████████████████████████████| 2/2 [02:11<00:00, 65.51s/it]\n"
     ]
    },
    {
     "name": "stdout",
     "output_type": "stream",
     "text": [
      "Test Loss: 0.34426817297935486\n",
      "Group test Loss: 0.4312973991036415\n",
      "36/96) Num Bins 25 Forget Lr: 0.01 Forget Iters: 5\n"
     ]
    },
    {
     "name": "stderr",
     "output_type": "stream",
     "text": [
      "100%|███████████████████████████████████████████████████████████████████████████████████████████████████████████████████████████████████████████████████████████████| 2/2 [01:58<00:00, 59.41s/it]\n"
     ]
    },
    {
     "name": "stdout",
     "output_type": "stream",
     "text": [
      "Test Loss: 0.31680914759635925\n",
      "Group test Loss: 0.36658746004104614\n",
      "37/96) Num Bins 30 Forget Lr: 0.0005 Forget Iters: 2\n"
     ]
    },
    {
     "name": "stderr",
     "output_type": "stream",
     "text": [
      "100%|███████████████████████████████████████████████████████████████████████████████████████████████████████████████████████████████████████████████████████████████| 2/2 [02:11<00:00, 65.76s/it]\n"
     ]
    },
    {
     "name": "stdout",
     "output_type": "stream",
     "text": [
      "Test Loss: 0.28743305802345276\n",
      "Group test Loss: 0.35558951646089554\n",
      "38/96) Num Bins 30 Forget Lr: 0.0005 Forget Iters: 5\n"
     ]
    },
    {
     "name": "stderr",
     "output_type": "stream",
     "text": [
      "100%|███████████████████████████████████████████████████████████████████████████████████████████████████████████████████████████████████████████████████████████████| 2/2 [01:58<00:00, 59.50s/it]\n"
     ]
    },
    {
     "name": "stdout",
     "output_type": "stream",
     "text": [
      "Test Loss: 0.24808211624622345\n",
      "Group test Loss: 0.3174591101706028\n",
      "39/96) Num Bins 30 Forget Lr: 0.0001 Forget Iters: 2\n"
     ]
    },
    {
     "name": "stderr",
     "output_type": "stream",
     "text": [
      "100%|███████████████████████████████████████████████████████████████████████████████████████████████████████████████████████████████████████████████████████████████| 2/2 [02:11<00:00, 65.55s/it]\n"
     ]
    },
    {
     "name": "stdout",
     "output_type": "stream",
     "text": [
      "Test Loss: 0.22722937166690826\n",
      "Group test Loss: 0.2432151772081852\n",
      "40/96) Num Bins 30 Forget Lr: 0.0001 Forget Iters: 5\n"
     ]
    },
    {
     "name": "stderr",
     "output_type": "stream",
     "text": [
      "100%|███████████████████████████████████████████████████████████████████████████████████████████████████████████████████████████████████████████████████████████████| 2/2 [01:59<00:00, 59.57s/it]\n"
     ]
    },
    {
     "name": "stdout",
     "output_type": "stream",
     "text": [
      "Test Loss: 0.2630102336406708\n",
      "Group test Loss: 0.3150261901319027\n",
      "41/96) Num Bins 30 Forget Lr: 0.005 Forget Iters: 2\n"
     ]
    },
    {
     "name": "stderr",
     "output_type": "stream",
     "text": [
      "100%|███████████████████████████████████████████████████████████████████████████████████████████████████████████████████████████████████████████████████████████████| 2/2 [02:11<00:00, 65.53s/it]\n"
     ]
    },
    {
     "name": "stdout",
     "output_type": "stream",
     "text": [
      "Test Loss: 0.29699254035949707\n",
      "Group test Loss: 0.3581005930900574\n",
      "42/96) Num Bins 30 Forget Lr: 0.005 Forget Iters: 5\n"
     ]
    },
    {
     "name": "stderr",
     "output_type": "stream",
     "text": [
      "100%|███████████████████████████████████████████████████████████████████████████████████████████████████████████████████████████████████████████████████████████████| 2/2 [01:59<00:00, 59.55s/it]\n"
     ]
    },
    {
     "name": "stdout",
     "output_type": "stream",
     "text": [
      "Test Loss: 0.2688838541507721\n",
      "Group test Loss: 0.30542614683508873\n",
      "43/96) Num Bins 30 Forget Lr: 0.001 Forget Iters: 2\n"
     ]
    },
    {
     "name": "stderr",
     "output_type": "stream",
     "text": [
      "100%|███████████████████████████████████████████████████████████████████████████████████████████████████████████████████████████████████████████████████████████████| 2/2 [02:11<00:00, 65.65s/it]\n"
     ]
    },
    {
     "name": "stdout",
     "output_type": "stream",
     "text": [
      "Test Loss: 0.2676583230495453\n",
      "Group test Loss: 0.29671672359108925\n",
      "44/96) Num Bins 30 Forget Lr: 0.001 Forget Iters: 5\n"
     ]
    },
    {
     "name": "stderr",
     "output_type": "stream",
     "text": [
      "100%|███████████████████████████████████████████████████████████████████████████████████████████████████████████████████████████████████████████████████████████████| 2/2 [01:59<00:00, 59.76s/it]\n"
     ]
    },
    {
     "name": "stdout",
     "output_type": "stream",
     "text": [
      "Test Loss: 0.2623828649520874\n",
      "Group test Loss: 0.3306604288518429\n",
      "45/96) Num Bins 30 Forget Lr: 0.05 Forget Iters: 2\n"
     ]
    },
    {
     "name": "stderr",
     "output_type": "stream",
     "text": [
      "100%|███████████████████████████████████████████████████████████████████████████████████████████████████████████████████████████████████████████████████████████████| 2/2 [02:11<00:00, 65.57s/it]\n"
     ]
    },
    {
     "name": "stdout",
     "output_type": "stream",
     "text": [
      "Test Loss: 0.4651641249656677\n",
      "Group test Loss: 0.4024074301123619\n",
      "46/96) Num Bins 30 Forget Lr: 0.05 Forget Iters: 5\n"
     ]
    },
    {
     "name": "stderr",
     "output_type": "stream",
     "text": [
      "100%|███████████████████████████████████████████████████████████████████████████████████████████████████████████████████████████████████████████████████████████████| 2/2 [01:58<00:00, 59.34s/it]\n"
     ]
    },
    {
     "name": "stdout",
     "output_type": "stream",
     "text": [
      "Test Loss: 0.37173810601234436\n",
      "Group test Loss: 0.4015989676117897\n",
      "47/96) Num Bins 30 Forget Lr: 0.01 Forget Iters: 2\n"
     ]
    },
    {
     "name": "stderr",
     "output_type": "stream",
     "text": [
      "100%|███████████████████████████████████████████████████████████████████████████████████████████████████████████████████████████████████████████████████████████████| 2/2 [02:10<00:00, 65.36s/it]\n"
     ]
    },
    {
     "name": "stdout",
     "output_type": "stream",
     "text": [
      "Test Loss: 0.37096133828163147\n",
      "Group test Loss: 0.4895433820784092\n",
      "48/96) Num Bins 30 Forget Lr: 0.01 Forget Iters: 5\n"
     ]
    },
    {
     "name": "stderr",
     "output_type": "stream",
     "text": [
      "100%|███████████████████████████████████████████████████████████████████████████████████████████████████████████████████████████████████████████████████████████████| 2/2 [01:58<00:00, 59.26s/it]\n"
     ]
    },
    {
     "name": "stdout",
     "output_type": "stream",
     "text": [
      "Test Loss: 0.3451418876647949\n",
      "Group test Loss: 0.35895585268735886\n",
      "49/96) Num Bins 50 Forget Lr: 0.0005 Forget Iters: 2\n"
     ]
    },
    {
     "name": "stderr",
     "output_type": "stream",
     "text": [
      "100%|███████████████████████████████████████████████████████████████████████████████████████████████████████████████████████████████████████████████████████████████| 2/2 [02:10<00:00, 65.37s/it]\n"
     ]
    },
    {
     "name": "stdout",
     "output_type": "stream",
     "text": [
      "Test Loss: 0.2571955919265747\n",
      "Group test Loss: 0.31019511073827744\n",
      "50/96) Num Bins 50 Forget Lr: 0.0005 Forget Iters: 5\n"
     ]
    },
    {
     "name": "stderr",
     "output_type": "stream",
     "text": [
      "100%|███████████████████████████████████████████████████████████████████████████████████████████████████████████████████████████████████████████████████████████████| 2/2 [01:58<00:00, 59.35s/it]\n"
     ]
    },
    {
     "name": "stdout",
     "output_type": "stream",
     "text": [
      "Test Loss: 0.2832503020763397\n",
      "Group test Loss: 0.34727592393755913\n",
      "51/96) Num Bins 50 Forget Lr: 0.0001 Forget Iters: 2\n"
     ]
    },
    {
     "name": "stderr",
     "output_type": "stream",
     "text": [
      "100%|███████████████████████████████████████████████████████████████████████████████████████████████████████████████████████████████████████████████████████████████| 2/2 [02:10<00:00, 65.21s/it]\n"
     ]
    },
    {
     "name": "stdout",
     "output_type": "stream",
     "text": [
      "Test Loss: 0.3330262303352356\n",
      "Group test Loss: 0.2887525111436844\n",
      "52/96) Num Bins 50 Forget Lr: 0.0001 Forget Iters: 5\n"
     ]
    },
    {
     "name": "stderr",
     "output_type": "stream",
     "text": [
      "100%|███████████████████████████████████████████████████████████████████████████████████████████████████████████████████████████████████████████████████████████████| 2/2 [01:59<00:00, 59.51s/it]\n"
     ]
    },
    {
     "name": "stdout",
     "output_type": "stream",
     "text": [
      "Test Loss: 0.21915093064308167\n",
      "Group test Loss: 0.2689044736325741\n",
      "53/96) Num Bins 50 Forget Lr: 0.005 Forget Iters: 2\n"
     ]
    },
    {
     "name": "stderr",
     "output_type": "stream",
     "text": [
      "100%|███████████████████████████████████████████████████████████████████████████████████████████████████████████████████████████████████████████████████████████████| 2/2 [02:10<00:00, 65.17s/it]\n"
     ]
    },
    {
     "name": "stdout",
     "output_type": "stream",
     "text": [
      "Test Loss: 0.3428788483142853\n",
      "Group test Loss: 0.3341517113149166\n",
      "54/96) Num Bins 50 Forget Lr: 0.005 Forget Iters: 5\n"
     ]
    },
    {
     "name": "stderr",
     "output_type": "stream",
     "text": [
      "100%|███████████████████████████████████████████████████████████████████████████████████████████████████████████████████████████████████████████████████████████████| 2/2 [01:59<00:00, 59.55s/it]\n"
     ]
    },
    {
     "name": "stdout",
     "output_type": "stream",
     "text": [
      "Test Loss: 0.34770360589027405\n",
      "Group test Loss: 0.3608509376645088\n",
      "55/96) Num Bins 50 Forget Lr: 0.001 Forget Iters: 2\n"
     ]
    },
    {
     "name": "stderr",
     "output_type": "stream",
     "text": [
      "100%|███████████████████████████████████████████████████████████████████████████████████████████████████████████████████████████████████████████████████████████████| 2/2 [02:10<00:00, 65.44s/it]\n"
     ]
    },
    {
     "name": "stdout",
     "output_type": "stream",
     "text": [
      "Test Loss: 0.2581901550292969\n",
      "Group test Loss: 0.3305775560438633\n",
      "56/96) Num Bins 50 Forget Lr: 0.001 Forget Iters: 5\n"
     ]
    },
    {
     "name": "stderr",
     "output_type": "stream",
     "text": [
      "100%|███████████████████████████████████████████████████████████████████████████████████████████████████████████████████████████████████████████████████████████████| 2/2 [01:58<00:00, 59.39s/it]\n"
     ]
    },
    {
     "name": "stdout",
     "output_type": "stream",
     "text": [
      "Test Loss: 0.2554294168949127\n",
      "Group test Loss: 0.25372694432735443\n",
      "57/96) Num Bins 50 Forget Lr: 0.05 Forget Iters: 2\n"
     ]
    },
    {
     "name": "stderr",
     "output_type": "stream",
     "text": [
      "100%|███████████████████████████████████████████████████████████████████████████████████████████████████████████████████████████████████████████████████████████████| 2/2 [02:10<00:00, 65.39s/it]\n"
     ]
    },
    {
     "name": "stdout",
     "output_type": "stream",
     "text": [
      "Test Loss: 0.5118558406829834\n",
      "Group test Loss: 0.6961028575897217\n",
      "58/96) Num Bins 50 Forget Lr: 0.05 Forget Iters: 5\n"
     ]
    },
    {
     "name": "stderr",
     "output_type": "stream",
     "text": [
      "100%|███████████████████████████████████████████████████████████████████████████████████████████████████████████████████████████████████████████████████████████████| 2/2 [01:58<00:00, 59.37s/it]\n"
     ]
    },
    {
     "name": "stdout",
     "output_type": "stream",
     "text": [
      "Test Loss: 0.5733728408813477\n",
      "Group test Loss: 0.8100345507264137\n",
      "59/96) Num Bins 50 Forget Lr: 0.01 Forget Iters: 2\n"
     ]
    },
    {
     "name": "stderr",
     "output_type": "stream",
     "text": [
      "100%|███████████████████████████████████████████████████████████████████████████████████████████████████████████████████████████████████████████████████████████████| 2/2 [02:10<00:00, 65.46s/it]\n"
     ]
    },
    {
     "name": "stdout",
     "output_type": "stream",
     "text": [
      "Test Loss: 0.4229304790496826\n",
      "Group test Loss: 0.587127611041069\n",
      "60/96) Num Bins 50 Forget Lr: 0.01 Forget Iters: 5\n"
     ]
    },
    {
     "name": "stderr",
     "output_type": "stream",
     "text": [
      "100%|███████████████████████████████████████████████████████████████████████████████████████████████████████████████████████████████████████████████████████████████| 2/2 [01:59<00:00, 59.59s/it]\n"
     ]
    },
    {
     "name": "stdout",
     "output_type": "stream",
     "text": [
      "Test Loss: 0.33382681012153625\n",
      "Group test Loss: 0.3854135051369667\n",
      "61/96) Num Bins 75 Forget Lr: 0.0005 Forget Iters: 2\n"
     ]
    },
    {
     "name": "stderr",
     "output_type": "stream",
     "text": [
      "100%|███████████████████████████████████████████████████████████████████████████████████████████████████████████████████████████████████████████████████████████████| 2/2 [02:11<00:00, 65.53s/it]\n"
     ]
    },
    {
     "name": "stdout",
     "output_type": "stream",
     "text": [
      "Test Loss: 0.23415805399417877\n",
      "Group test Loss: 0.3042555972933769\n",
      "62/96) Num Bins 75 Forget Lr: 0.0005 Forget Iters: 5\n"
     ]
    },
    {
     "name": "stderr",
     "output_type": "stream",
     "text": [
      "100%|███████████████████████████████████████████████████████████████████████████████████████████████████████████████████████████████████████████████████████████████| 2/2 [01:59<00:00, 59.54s/it]\n"
     ]
    },
    {
     "name": "stdout",
     "output_type": "stream",
     "text": [
      "Test Loss: 0.24477840960025787\n",
      "Group test Loss: 0.30766258761286736\n",
      "63/96) Num Bins 75 Forget Lr: 0.0001 Forget Iters: 2\n"
     ]
    },
    {
     "name": "stderr",
     "output_type": "stream",
     "text": [
      "100%|███████████████████████████████████████████████████████████████████████████████████████████████████████████████████████████████████████████████████████████████| 2/2 [02:11<00:00, 65.63s/it]\n"
     ]
    },
    {
     "name": "stdout",
     "output_type": "stream",
     "text": [
      "Test Loss: 0.23963004350662231\n",
      "Group test Loss: 0.2414969466626644\n",
      "64/96) Num Bins 75 Forget Lr: 0.0001 Forget Iters: 5\n"
     ]
    },
    {
     "name": "stderr",
     "output_type": "stream",
     "text": [
      "100%|███████████████████████████████████████████████████████████████████████████████████████████████████████████████████████████████████████████████████████████████| 2/2 [01:58<00:00, 59.44s/it]\n"
     ]
    },
    {
     "name": "stdout",
     "output_type": "stream",
     "text": [
      "Test Loss: 0.2226797491312027\n",
      "Group test Loss: 0.28610096499323845\n",
      "65/96) Num Bins 75 Forget Lr: 0.005 Forget Iters: 2\n"
     ]
    },
    {
     "name": "stderr",
     "output_type": "stream",
     "text": [
      "100%|███████████████████████████████████████████████████████████████████████████████████████████████████████████████████████████████████████████████████████████████| 2/2 [02:10<00:00, 65.18s/it]\n"
     ]
    },
    {
     "name": "stdout",
     "output_type": "stream",
     "text": [
      "Test Loss: 0.3702383041381836\n",
      "Group test Loss: 0.34126074984669685\n",
      "66/96) Num Bins 75 Forget Lr: 0.005 Forget Iters: 5\n"
     ]
    },
    {
     "name": "stderr",
     "output_type": "stream",
     "text": [
      "100%|███████████████████████████████████████████████████████████████████████████████████████████████████████████████████████████████████████████████████████████████| 2/2 [01:58<00:00, 59.45s/it]\n"
     ]
    },
    {
     "name": "stdout",
     "output_type": "stream",
     "text": [
      "Test Loss: 0.29034093022346497\n",
      "Group test Loss: 0.3248068019747734\n",
      "67/96) Num Bins 75 Forget Lr: 0.001 Forget Iters: 2\n"
     ]
    },
    {
     "name": "stderr",
     "output_type": "stream",
     "text": [
      "100%|███████████████████████████████████████████████████████████████████████████████████████████████████████████████████████████████████████████████████████████████| 2/2 [02:10<00:00, 65.42s/it]\n"
     ]
    },
    {
     "name": "stdout",
     "output_type": "stream",
     "text": [
      "Test Loss: 0.25364986062049866\n",
      "Group test Loss: 0.2985704094171524\n",
      "68/96) Num Bins 75 Forget Lr: 0.001 Forget Iters: 5\n"
     ]
    },
    {
     "name": "stderr",
     "output_type": "stream",
     "text": [
      "100%|███████████████████████████████████████████████████████████████████████████████████████████████████████████████████████████████████████████████████████████████| 2/2 [01:58<00:00, 59.42s/it]\n"
     ]
    },
    {
     "name": "stdout",
     "output_type": "stream",
     "text": [
      "Test Loss: 0.23410925269126892\n",
      "Group test Loss: 0.26678886264562607\n",
      "69/96) Num Bins 75 Forget Lr: 0.05 Forget Iters: 2\n"
     ]
    },
    {
     "name": "stderr",
     "output_type": "stream",
     "text": [
      "100%|███████████████████████████████████████████████████████████████████████████████████████████████████████████████████████████████████████████████████████████████| 2/2 [02:10<00:00, 65.28s/it]\n"
     ]
    },
    {
     "name": "stdout",
     "output_type": "stream",
     "text": [
      "Test Loss: 0.40683311223983765\n",
      "Group test Loss: 0.4744494631886482\n",
      "70/96) Num Bins 75 Forget Lr: 0.05 Forget Iters: 5\n"
     ]
    },
    {
     "name": "stderr",
     "output_type": "stream",
     "text": [
      "100%|███████████████████████████████████████████████████████████████████████████████████████████████████████████████████████████████████████████████████████████████| 2/2 [01:58<00:00, 59.39s/it]\n"
     ]
    },
    {
     "name": "stdout",
     "output_type": "stream",
     "text": [
      "Test Loss: 0.3760288953781128\n",
      "Group test Loss: 0.5366173572838306\n",
      "71/96) Num Bins 75 Forget Lr: 0.01 Forget Iters: 2\n"
     ]
    },
    {
     "name": "stderr",
     "output_type": "stream",
     "text": [
      "100%|███████████████████████████████████████████████████████████████████████████████████████████████████████████████████████████████████████████████████████████████| 2/2 [02:10<00:00, 65.44s/it]\n"
     ]
    },
    {
     "name": "stdout",
     "output_type": "stream",
     "text": [
      "Test Loss: 0.3891890347003937\n",
      "Group test Loss: 0.36941319331526756\n",
      "72/96) Num Bins 75 Forget Lr: 0.01 Forget Iters: 5\n"
     ]
    },
    {
     "name": "stderr",
     "output_type": "stream",
     "text": [
      "100%|███████████████████████████████████████████████████████████████████████████████████████████████████████████████████████████████████████████████████████████████| 2/2 [01:59<00:00, 59.51s/it]\n"
     ]
    },
    {
     "name": "stdout",
     "output_type": "stream",
     "text": [
      "Test Loss: 0.3142951428890228\n",
      "Group test Loss: 0.35562560707330704\n",
      "73/96) Num Bins 90 Forget Lr: 0.0005 Forget Iters: 2\n"
     ]
    },
    {
     "name": "stderr",
     "output_type": "stream",
     "text": [
      "100%|███████████████████████████████████████████████████████████████████████████████████████████████████████████████████████████████████████████████████████████████| 2/2 [02:11<00:00, 65.59s/it]\n"
     ]
    },
    {
     "name": "stdout",
     "output_type": "stream",
     "text": [
      "Test Loss: 0.3153907060623169\n",
      "Group test Loss: 0.45767828822135925\n",
      "74/96) Num Bins 90 Forget Lr: 0.0005 Forget Iters: 5\n"
     ]
    },
    {
     "name": "stderr",
     "output_type": "stream",
     "text": [
      "100%|███████████████████████████████████████████████████████████████████████████████████████████████████████████████████████████████████████████████████████████████| 2/2 [01:59<00:00, 59.87s/it]\n"
     ]
    },
    {
     "name": "stdout",
     "output_type": "stream",
     "text": [
      "Test Loss: 0.23971027135849\n",
      "Group test Loss: 0.2493433877825737\n",
      "75/96) Num Bins 90 Forget Lr: 0.0001 Forget Iters: 2\n"
     ]
    },
    {
     "name": "stderr",
     "output_type": "stream",
     "text": [
      "100%|███████████████████████████████████████████████████████████████████████████████████████████████████████████████████████████████████████████████████████████████| 2/2 [02:11<00:00, 65.84s/it]\n"
     ]
    },
    {
     "name": "stdout",
     "output_type": "stream",
     "text": [
      "Test Loss: 0.25138717889785767\n",
      "Group test Loss: 0.25210077315568924\n",
      "76/96) Num Bins 90 Forget Lr: 0.0001 Forget Iters: 5\n"
     ]
    },
    {
     "name": "stderr",
     "output_type": "stream",
     "text": [
      "100%|███████████████████████████████████████████████████████████████████████████████████████████████████████████████████████████████████████████████████████████████| 2/2 [01:59<00:00, 59.60s/it]\n"
     ]
    },
    {
     "name": "stdout",
     "output_type": "stream",
     "text": [
      "Test Loss: 0.31095194816589355\n",
      "Group test Loss: 0.39945000410079956\n",
      "77/96) Num Bins 90 Forget Lr: 0.005 Forget Iters: 2\n"
     ]
    },
    {
     "name": "stderr",
     "output_type": "stream",
     "text": [
      "100%|███████████████████████████████████████████████████████████████████████████████████████████████████████████████████████████████████████████████████████████████| 2/2 [02:11<00:00, 65.63s/it]\n"
     ]
    },
    {
     "name": "stdout",
     "output_type": "stream",
     "text": [
      "Test Loss: 0.3521510362625122\n",
      "Group test Loss: 0.36322372406721115\n",
      "78/96) Num Bins 90 Forget Lr: 0.005 Forget Iters: 5\n"
     ]
    },
    {
     "name": "stderr",
     "output_type": "stream",
     "text": [
      "100%|███████████████████████████████████████████████████████████████████████████████████████████████████████████████████████████████████████████████████████████████| 2/2 [01:59<00:00, 59.52s/it]\n"
     ]
    },
    {
     "name": "stdout",
     "output_type": "stream",
     "text": [
      "Test Loss: 0.301827996969223\n",
      "Group test Loss: 0.34012296423316\n",
      "79/96) Num Bins 90 Forget Lr: 0.001 Forget Iters: 2\n"
     ]
    },
    {
     "name": "stderr",
     "output_type": "stream",
     "text": [
      "100%|███████████████████████████████████████████████████████████████████████████████████████████████████████████████████████████████████████████████████████████████| 2/2 [02:11<00:00, 65.73s/it]\n"
     ]
    },
    {
     "name": "stdout",
     "output_type": "stream",
     "text": [
      "Test Loss: 0.25850269198417664\n",
      "Group test Loss: 0.31247542798519135\n",
      "80/96) Num Bins 90 Forget Lr: 0.001 Forget Iters: 5\n"
     ]
    },
    {
     "name": "stderr",
     "output_type": "stream",
     "text": [
      "100%|███████████████████████████████████████████████████████████████████████████████████████████████████████████████████████████████████████████████████████████████| 2/2 [01:59<00:00, 59.85s/it]\n"
     ]
    },
    {
     "name": "stdout",
     "output_type": "stream",
     "text": [
      "Test Loss: 0.24934320151805878\n",
      "Group test Loss: 0.3075849935412407\n",
      "81/96) Num Bins 90 Forget Lr: 0.05 Forget Iters: 2\n"
     ]
    },
    {
     "name": "stderr",
     "output_type": "stream",
     "text": [
      "100%|███████████████████████████████████████████████████████████████████████████████████████████████████████████████████████████████████████████████████████████████| 2/2 [02:10<00:00, 65.43s/it]\n"
     ]
    },
    {
     "name": "stdout",
     "output_type": "stream",
     "text": [
      "Test Loss: 0.6428655385971069\n",
      "Group test Loss: 0.930584080517292\n",
      "82/96) Num Bins 90 Forget Lr: 0.05 Forget Iters: 5\n"
     ]
    },
    {
     "name": "stderr",
     "output_type": "stream",
     "text": [
      "100%|███████████████████████████████████████████████████████████████████████████████████████████████████████████████████████████████████████████████████████████████| 2/2 [01:58<00:00, 59.47s/it]\n"
     ]
    },
    {
     "name": "stdout",
     "output_type": "stream",
     "text": [
      "Test Loss: 0.3540583848953247\n",
      "Group test Loss: 0.4387422353029251\n",
      "83/96) Num Bins 90 Forget Lr: 0.01 Forget Iters: 2\n"
     ]
    },
    {
     "name": "stderr",
     "output_type": "stream",
     "text": [
      "100%|███████████████████████████████████████████████████████████████████████████████████████████████████████████████████████████████████████████████████████████████| 2/2 [02:10<00:00, 65.15s/it]\n"
     ]
    },
    {
     "name": "stdout",
     "output_type": "stream",
     "text": [
      "Test Loss: 0.394894540309906\n",
      "Group test Loss: 0.4373386353254318\n",
      "84/96) Num Bins 90 Forget Lr: 0.01 Forget Iters: 5\n"
     ]
    },
    {
     "name": "stderr",
     "output_type": "stream",
     "text": [
      "100%|███████████████████████████████████████████████████████████████████████████████████████████████████████████████████████████████████████████████████████████████| 2/2 [01:58<00:00, 59.34s/it]\n"
     ]
    },
    {
     "name": "stdout",
     "output_type": "stream",
     "text": [
      "Test Loss: 0.3381887972354889\n",
      "Group test Loss: 0.38607191294431686\n",
      "85/96) Num Bins 100 Forget Lr: 0.0005 Forget Iters: 2\n"
     ]
    },
    {
     "name": "stderr",
     "output_type": "stream",
     "text": [
      "100%|███████████████████████████████████████████████████████████████████████████████████████████████████████████████████████████████████████████████████████████████| 2/2 [02:10<00:00, 65.22s/it]\n"
     ]
    },
    {
     "name": "stdout",
     "output_type": "stream",
     "text": [
      "Test Loss: 0.2599954903125763\n",
      "Group test Loss: 0.32633518800139427\n",
      "86/96) Num Bins 100 Forget Lr: 0.0005 Forget Iters: 5\n"
     ]
    },
    {
     "name": "stderr",
     "output_type": "stream",
     "text": [
      "100%|███████████████████████████████████████████████████████████████████████████████████████████████████████████████████████████████████████████████████████████████| 2/2 [01:59<00:00, 59.51s/it]\n"
     ]
    },
    {
     "name": "stdout",
     "output_type": "stream",
     "text": [
      "Test Loss: 0.2596272826194763\n",
      "Group test Loss: 0.3020395562052727\n",
      "87/96) Num Bins 100 Forget Lr: 0.0001 Forget Iters: 2\n"
     ]
    },
    {
     "name": "stderr",
     "output_type": "stream",
     "text": [
      "100%|███████████████████████████████████████████████████████████████████████████████████████████████████████████████████████████████████████████████████████████████| 2/2 [02:10<00:00, 65.50s/it]\n"
     ]
    },
    {
     "name": "stdout",
     "output_type": "stream",
     "text": [
      "Test Loss: 0.24927468597888947\n",
      "Group test Loss: 0.2456653006374836\n",
      "88/96) Num Bins 100 Forget Lr: 0.0001 Forget Iters: 5\n"
     ]
    },
    {
     "name": "stderr",
     "output_type": "stream",
     "text": [
      "100%|███████████████████████████████████████████████████████████████████████████████████████████████████████████████████████████████████████████████████████████████| 2/2 [01:59<00:00, 59.56s/it]\n"
     ]
    },
    {
     "name": "stdout",
     "output_type": "stream",
     "text": [
      "Test Loss: 0.2358962446451187\n",
      "Group test Loss: 0.2736707702279091\n",
      "89/96) Num Bins 100 Forget Lr: 0.005 Forget Iters: 2\n"
     ]
    },
    {
     "name": "stderr",
     "output_type": "stream",
     "text": [
      "100%|███████████████████████████████████████████████████████████████████████████████████████████████████████████████████████████████████████████████████████████████| 2/2 [02:11<00:00, 65.59s/it]\n"
     ]
    },
    {
     "name": "stdout",
     "output_type": "stream",
     "text": [
      "Test Loss: 0.34137800335884094\n",
      "Group test Loss: 0.44319286942481995\n",
      "90/96) Num Bins 100 Forget Lr: 0.005 Forget Iters: 5\n"
     ]
    },
    {
     "name": "stderr",
     "output_type": "stream",
     "text": [
      "100%|███████████████████████████████████████████████████████████████████████████████████████████████████████████████████████████████████████████████████████████████| 2/2 [01:58<00:00, 59.35s/it]\n"
     ]
    },
    {
     "name": "stdout",
     "output_type": "stream",
     "text": [
      "Test Loss: 0.3303110599517822\n",
      "Group test Loss: 0.2974783591926098\n",
      "91/96) Num Bins 100 Forget Lr: 0.001 Forget Iters: 2\n"
     ]
    },
    {
     "name": "stderr",
     "output_type": "stream",
     "text": [
      "100%|███████████████████████████████████████████████████████████████████████████████████████████████████████████████████████████████████████████████████████████████| 2/2 [02:11<00:00, 65.60s/it]\n"
     ]
    },
    {
     "name": "stdout",
     "output_type": "stream",
     "text": [
      "Test Loss: 0.29390597343444824\n",
      "Group test Loss: 0.27232635021209717\n",
      "92/96) Num Bins 100 Forget Lr: 0.001 Forget Iters: 5\n"
     ]
    },
    {
     "name": "stderr",
     "output_type": "stream",
     "text": [
      "100%|███████████████████████████████████████████████████████████████████████████████████████████████████████████████████████████████████████████████████████████████| 2/2 [01:59<00:00, 59.66s/it]\n"
     ]
    },
    {
     "name": "stdout",
     "output_type": "stream",
     "text": [
      "Test Loss: 0.2691195607185364\n",
      "Group test Loss: 0.29314804822206497\n",
      "93/96) Num Bins 100 Forget Lr: 0.05 Forget Iters: 2\n"
     ]
    },
    {
     "name": "stderr",
     "output_type": "stream",
     "text": [
      "100%|███████████████████████████████████████████████████████████████████████████████████████████████████████████████████████████████████████████████████████████████| 2/2 [02:09<00:00, 64.91s/it]\n"
     ]
    },
    {
     "name": "stdout",
     "output_type": "stream",
     "text": [
      "Test Loss: 0.7119892835617065\n",
      "Group test Loss: 1.0285551622509956\n",
      "94/96) Num Bins 100 Forget Lr: 0.05 Forget Iters: 5\n"
     ]
    },
    {
     "name": "stderr",
     "output_type": "stream",
     "text": [
      "100%|███████████████████████████████████████████████████████████████████████████████████████████████████████████████████████████████████████████████████████████████| 2/2 [01:58<00:00, 59.09s/it]\n"
     ]
    },
    {
     "name": "stdout",
     "output_type": "stream",
     "text": [
      "Test Loss: 0.346874862909317\n",
      "Group test Loss: 0.3425631709396839\n",
      "95/96) Num Bins 100 Forget Lr: 0.01 Forget Iters: 2\n"
     ]
    },
    {
     "name": "stderr",
     "output_type": "stream",
     "text": [
      "100%|███████████████████████████████████████████████████████████████████████████████████████████████████████████████████████████████████████████████████████████████| 2/2 [02:10<00:00, 65.20s/it]\n"
     ]
    },
    {
     "name": "stdout",
     "output_type": "stream",
     "text": [
      "Test Loss: 0.36336997151374817\n",
      "Group test Loss: 0.4975697509944439\n",
      "96/96) Num Bins 100 Forget Lr: 0.01 Forget Iters: 5\n"
     ]
    },
    {
     "name": "stderr",
     "output_type": "stream",
     "text": [
      "100%|███████████████████████████████████████████████████████████████████████████████████████████████████████████████████████████████████████████████████████████████| 2/2 [01:58<00:00, 59.39s/it]\n"
     ]
    },
    {
     "name": "stdout",
     "output_type": "stream",
     "text": [
      "Test Loss: 0.3576493561267853\n",
      "Group test Loss: 0.32351160794496536\n",
      "Test Loss Hyperparameters\n",
      "Best num_bins : 50 Best Forget LR: 0.0001 Best Forget Iter: 5\n",
      "Group Loss Hyperparameters\n",
      "Best num_bins : 75 Best Forget LR: 0.0001 Best Forget Iter: 2\n"
     ]
    }
   ],
   "source": [
    "num_bins = [2, 10, 25, 30, 50, 75, 90, 100]\n",
    "forget_lrs = [5e-4, 1e-4, 5e-3, 1e-3, 5e-2, 1e-2]\n",
    "forget_iters = [2, 5]\n",
    "\n",
    "test_losses = np.zeros((len(num_bins), len(forget_lrs), len(forget_iters)))\n",
    "grp_test_losses = np.zeros((len(num_bins), len(forget_lrs), len(forget_iters)))\n",
    "\n",
    "for i in range(len(num_bins)):\n",
    "    for j in range(len(forget_lrs)):\n",
    "        for k in range(len(forget_iters)):\n",
    "            print(f\"{i*(len(forget_lrs) * len(forget_iters)) + j*(len(forget_iters)) + k + 1}/{len(num_bins) * len(forget_lrs)* len(forget_iters)}) Num Bins {num_bins[i]} Forget Lr: {forget_lrs[j]} Forget Iters: {forget_iters[k]}\")\n",
    "            model = SiFer_ce(x.shape, 1, num_bins = num_bins[i]).to(device)\n",
    "            model, train_loss, val_loss,_, _ = train_fs_ce(model, train_dataloader, valid_dataloader, targets.astype(np.float32), num_bins = num_bins[i], forget_iters = forget_iters[k], lrs = [5e-4, 5e-4, forget_lrs[j]], epochs = 2, verbose = False)\n",
    "            test_loss = eval_FSModel(model, test_dataloader)\n",
    "            print(f\"Test Loss: {test_loss}\")\n",
    "            group_loss, _ = group_eval_fs(model, group_dataloaders)\n",
    "\n",
    "            test_losses[i,j,k] = test_loss\n",
    "            grp_test_losses[i,j,k] = group_loss\n",
    "\n",
    "best_num_bins, best_forget_lr_ce, best_forget_iter_ce = np.unravel_index(np.argmin(test_losses), test_losses.shape)\n",
    "best_num_bins_grp, best_forget_lr_ce_grp, best_forget_iter_ce_grp = np.unravel_index(np.argmin(grp_test_losses), test_losses.shape)\n",
    "\n",
    "print(\"Test Loss Hyperparameters\")\n",
    "print(f\"Best num_bins : {num_bins[best_num_bins]} Best Forget LR: {forget_lrs[best_forget_lr_ce]} Best Forget Iter: {forget_iters[best_forget_iter_ce]}\")\n",
    "print(\"Group Loss Hyperparameters\")\n",
    "print(f\"Best num_bins : {num_bins[best_num_bins_grp]} Best Forget LR: {forget_lrs[best_forget_lr_ce_grp]} Best Forget Iter: {forget_iters[best_forget_iter_ce_grp]}\")"
   ]
  },
  {
   "cell_type": "code",
   "execution_count": 15,
   "id": "916e33f7-5beb-4d24-9448-e4220e054e70",
   "metadata": {},
   "outputs": [
    {
     "name": "stderr",
     "output_type": "stream",
     "text": [
      "100%|██████████████████████████████████████████████████████████████| 5/5 [05:24<00:00, 64.92s/it]\n"
     ]
    },
    {
     "name": "stdout",
     "output_type": "stream",
     "text": [
      "Test Loss: 0.23038151860237122\n",
      "Group test Loss: 0.2776566930115223\n"
     ]
    }
   ],
   "source": [
    "num_bins = [2, 10, 25, 30, 50, 75, 90, 100]\n",
    "forget_lrs = [5e-4, 1e-4, 5e-3, 1e-3, 5e-2, 1e-2]\n",
    "forget_iters = [2, 5]\n",
    "best_num_bins_grp, best_forget_lr_ce_grp, best_forget_iter_ce_grp = num_bins.index(75), forget_lrs.index(0.0001), forget_iters.index(2)\n",
    "\n",
    "sifer_ce = SiFer_ce(x.shape, 1, num_bins = num_bins[best_num_bins_grp]).to(device)\n",
    "sifer_ce, train_loss, val_loss,_, _ = train_fs_ce(sifer_ce, train_dataloader, valid_dataloader, targets.astype(np.float32), num_bins = num_bins[best_num_bins_grp], forget_iters = forget_iters[best_forget_iter_ce_grp], lrs = [5e-4, 5e-4, forget_lrs[best_forget_lr_ce_grp]], epochs = 5, verbose = False)\n",
    "test_loss_ce = eval_FSModel(sifer_ce, test_dataloader)\n",
    "print(f\"Test Loss: {test_loss_ce}\")\n",
    "group_loss_ce, groups_ce = group_eval_fs(sifer_ce, group_dataloaders)"
   ]
  },
  {
   "cell_type": "markdown",
   "id": "e6255c2c-9322-44aa-b0c5-f7ef82a5d2db",
   "metadata": {},
   "source": [
    "## 4) Ordinal Forgetting Loss"
   ]
  },
  {
   "cell_type": "code",
   "execution_count": 20,
   "id": "9a045a70-fbc7-4a5d-9268-c00967473e01",
   "metadata": {
    "scrolled": true
   },
   "outputs": [
    {
     "name": "stdout",
     "output_type": "stream",
     "text": [
      "[1/96] Num Bins 2 Forget Lr: 0.0005 Forget Iters: 2\n"
     ]
    },
    {
     "name": "stderr",
     "output_type": "stream",
     "text": [
      "100%|███████████████████████████████████████████████████████████████████████████████████████████████████████████████████████████████████████████████████████████████| 2/2 [02:12<00:00, 66.36s/it]\n"
     ]
    },
    {
     "name": "stdout",
     "output_type": "stream",
     "text": [
      "Test Loss: 0.23280183970928192\n",
      "Group test Loss: 0.24775021523237228\n",
      "[2/96] Num Bins 2 Forget Lr: 0.0005 Forget Iters: 5\n"
     ]
    },
    {
     "name": "stderr",
     "output_type": "stream",
     "text": [
      "100%|███████████████████████████████████████████████████████████████████████████████████████████████████████████████████████████████████████████████████████████████| 2/2 [01:59<00:00, 59.99s/it]\n"
     ]
    },
    {
     "name": "stdout",
     "output_type": "stream",
     "text": [
      "Test Loss: 0.22879178822040558\n",
      "Group test Loss: 0.2726651132106781\n",
      "[3/96] Num Bins 2 Forget Lr: 0.0001 Forget Iters: 2\n"
     ]
    },
    {
     "name": "stderr",
     "output_type": "stream",
     "text": [
      "100%|███████████████████████████████████████████████████████████████████████████████████████████████████████████████████████████████████████████████████████████████| 2/2 [02:13<00:00, 66.64s/it]\n"
     ]
    },
    {
     "name": "stdout",
     "output_type": "stream",
     "text": [
      "Test Loss: 0.2221306711435318\n",
      "Group test Loss: 0.2683699242770672\n",
      "[4/96] Num Bins 2 Forget Lr: 0.0001 Forget Iters: 5\n"
     ]
    },
    {
     "name": "stderr",
     "output_type": "stream",
     "text": [
      "100%|███████████████████████████████████████████████████████████████████████████████████████████████████████████████████████████████████████████████████████████████| 2/2 [02:00<00:00, 60.08s/it]\n"
     ]
    },
    {
     "name": "stdout",
     "output_type": "stream",
     "text": [
      "Test Loss: 0.24540278315544128\n",
      "Group test Loss: 0.24982372298836708\n",
      "[5/96] Num Bins 2 Forget Lr: 0.005 Forget Iters: 2\n"
     ]
    },
    {
     "name": "stderr",
     "output_type": "stream",
     "text": [
      "100%|███████████████████████████████████████████████████████████████████████████████████████████████████████████████████████████████████████████████████████████████| 2/2 [02:12<00:00, 66.42s/it]\n"
     ]
    },
    {
     "name": "stdout",
     "output_type": "stream",
     "text": [
      "Test Loss: 0.27646538615226746\n",
      "Group test Loss: 0.30083660036325455\n",
      "[6/96] Num Bins 2 Forget Lr: 0.005 Forget Iters: 5\n"
     ]
    },
    {
     "name": "stderr",
     "output_type": "stream",
     "text": [
      "100%|███████████████████████████████████████████████████████████████████████████████████████████████████████████████████████████████████████████████████████████████| 2/2 [01:59<00:00, 59.98s/it]\n"
     ]
    },
    {
     "name": "stdout",
     "output_type": "stream",
     "text": [
      "Test Loss: 0.28206905722618103\n",
      "Group test Loss: 0.3505112901329994\n",
      "[7/96] Num Bins 2 Forget Lr: 0.001 Forget Iters: 2\n"
     ]
    },
    {
     "name": "stderr",
     "output_type": "stream",
     "text": [
      "100%|███████████████████████████████████████████████████████████████████████████████████████████████████████████████████████████████████████████████████████████████| 2/2 [02:12<00:00, 66.39s/it]\n"
     ]
    },
    {
     "name": "stdout",
     "output_type": "stream",
     "text": [
      "Test Loss: 0.26131147146224976\n",
      "Group test Loss: 0.2524206228554249\n",
      "[8/96] Num Bins 2 Forget Lr: 0.001 Forget Iters: 5\n"
     ]
    },
    {
     "name": "stderr",
     "output_type": "stream",
     "text": [
      "100%|███████████████████████████████████████████████████████████████████████████████████████████████████████████████████████████████████████████████████████████████| 2/2 [01:59<00:00, 59.95s/it]\n"
     ]
    },
    {
     "name": "stdout",
     "output_type": "stream",
     "text": [
      "Test Loss: 0.2537538707256317\n",
      "Group test Loss: 0.3192368224263191\n",
      "[9/96] Num Bins 2 Forget Lr: 0.05 Forget Iters: 2\n"
     ]
    },
    {
     "name": "stderr",
     "output_type": "stream",
     "text": [
      "100%|███████████████████████████████████████████████████████████████████████████████████████████████████████████████████████████████████████████████████████████████| 2/2 [02:12<00:00, 66.38s/it]\n"
     ]
    },
    {
     "name": "stdout",
     "output_type": "stream",
     "text": [
      "Test Loss: 0.32500141859054565\n",
      "Group test Loss: 0.41178447753190994\n",
      "[10/96] Num Bins 2 Forget Lr: 0.05 Forget Iters: 5\n"
     ]
    },
    {
     "name": "stderr",
     "output_type": "stream",
     "text": [
      "100%|███████████████████████████████████████████████████████████████████████████████████████████████████████████████████████████████████████████████████████████████| 2/2 [01:59<00:00, 59.95s/it]\n"
     ]
    },
    {
     "name": "stdout",
     "output_type": "stream",
     "text": [
      "Test Loss: 0.3102630376815796\n",
      "Group test Loss: 0.40293389186263084\n",
      "[11/96] Num Bins 2 Forget Lr: 0.01 Forget Iters: 2\n"
     ]
    },
    {
     "name": "stderr",
     "output_type": "stream",
     "text": [
      "100%|███████████████████████████████████████████████████████████████████████████████████████████████████████████████████████████████████████████████████████████████| 2/2 [02:12<00:00, 66.36s/it]\n"
     ]
    },
    {
     "name": "stdout",
     "output_type": "stream",
     "text": [
      "Test Loss: 0.2915298640727997\n",
      "Group test Loss: 0.35222089663147926\n",
      "[12/96] Num Bins 2 Forget Lr: 0.01 Forget Iters: 5\n"
     ]
    },
    {
     "name": "stderr",
     "output_type": "stream",
     "text": [
      "100%|███████████████████████████████████████████████████████████████████████████████████████████████████████████████████████████████████████████████████████████████| 2/2 [01:59<00:00, 59.93s/it]\n"
     ]
    },
    {
     "name": "stdout",
     "output_type": "stream",
     "text": [
      "Test Loss: 0.2645248472690582\n",
      "Group test Loss: 0.3134472370147705\n",
      "[13/96] Num Bins 10 Forget Lr: 0.0005 Forget Iters: 2\n"
     ]
    },
    {
     "name": "stderr",
     "output_type": "stream",
     "text": [
      "100%|███████████████████████████████████████████████████████████████████████████████████████████████████████████████████████████████████████████████████████████████| 2/2 [02:12<00:00, 66.43s/it]\n"
     ]
    },
    {
     "name": "stdout",
     "output_type": "stream",
     "text": [
      "Test Loss: 0.22739875316619873\n",
      "Group test Loss: 0.24969564005732536\n",
      "[14/96] Num Bins 10 Forget Lr: 0.0005 Forget Iters: 5\n"
     ]
    },
    {
     "name": "stderr",
     "output_type": "stream",
     "text": [
      "100%|███████████████████████████████████████████████████████████████████████████████████████████████████████████████████████████████████████████████████████████████| 2/2 [02:00<00:00, 60.33s/it]\n"
     ]
    },
    {
     "name": "stdout",
     "output_type": "stream",
     "text": [
      "Test Loss: 0.2627342641353607\n",
      "Group test Loss: 0.3149874657392502\n",
      "[15/96] Num Bins 10 Forget Lr: 0.0001 Forget Iters: 2\n"
     ]
    },
    {
     "name": "stderr",
     "output_type": "stream",
     "text": [
      "100%|███████████████████████████████████████████████████████████████████████████████████████████████████████████████████████████████████████████████████████████████| 2/2 [02:13<00:00, 66.62s/it]\n"
     ]
    },
    {
     "name": "stdout",
     "output_type": "stream",
     "text": [
      "Test Loss: 0.22787384688854218\n",
      "Group test Loss: 0.27094583585858345\n",
      "[16/96] Num Bins 10 Forget Lr: 0.0001 Forget Iters: 5\n"
     ]
    },
    {
     "name": "stderr",
     "output_type": "stream",
     "text": [
      "100%|███████████████████████████████████████████████████████████████████████████████████████████████████████████████████████████████████████████████████████████████| 2/2 [02:00<00:00, 60.02s/it]\n"
     ]
    },
    {
     "name": "stdout",
     "output_type": "stream",
     "text": [
      "Test Loss: 0.25585293769836426\n",
      "Group test Loss: 0.33554477989673615\n",
      "[17/96] Num Bins 10 Forget Lr: 0.005 Forget Iters: 2\n"
     ]
    },
    {
     "name": "stderr",
     "output_type": "stream",
     "text": [
      "100%|███████████████████████████████████████████████████████████████████████████████████████████████████████████████████████████████████████████████████████████████| 2/2 [02:13<00:00, 66.57s/it]\n"
     ]
    },
    {
     "name": "stdout",
     "output_type": "stream",
     "text": [
      "Test Loss: 0.26974019408226013\n",
      "Group test Loss: 0.31526168808341026\n",
      "[18/96] Num Bins 10 Forget Lr: 0.005 Forget Iters: 5\n"
     ]
    },
    {
     "name": "stderr",
     "output_type": "stream",
     "text": [
      "100%|███████████████████████████████████████████████████████████████████████████████████████████████████████████████████████████████████████████████████████████████| 2/2 [02:00<00:00, 60.34s/it]\n"
     ]
    },
    {
     "name": "stdout",
     "output_type": "stream",
     "text": [
      "Test Loss: 0.2831544280052185\n",
      "Group test Loss: 0.303474023938179\n",
      "[19/96] Num Bins 10 Forget Lr: 0.001 Forget Iters: 2\n"
     ]
    },
    {
     "name": "stderr",
     "output_type": "stream",
     "text": [
      "100%|███████████████████████████████████████████████████████████████████████████████████████████████████████████████████████████████████████████████████████████████| 2/2 [02:12<00:00, 66.44s/it]\n"
     ]
    },
    {
     "name": "stdout",
     "output_type": "stream",
     "text": [
      "Test Loss: 0.28226423263549805\n",
      "Group test Loss: 0.3296585977077484\n",
      "[20/96] Num Bins 10 Forget Lr: 0.001 Forget Iters: 5\n"
     ]
    },
    {
     "name": "stderr",
     "output_type": "stream",
     "text": [
      "100%|███████████████████████████████████████████████████████████████████████████████████████████████████████████████████████████████████████████████████████████████| 2/2 [02:00<00:00, 60.10s/it]\n"
     ]
    },
    {
     "name": "stdout",
     "output_type": "stream",
     "text": [
      "Test Loss: 0.2976797819137573\n",
      "Group test Loss: 0.4039330370724201\n",
      "[21/96] Num Bins 10 Forget Lr: 0.05 Forget Iters: 2\n"
     ]
    },
    {
     "name": "stderr",
     "output_type": "stream",
     "text": [
      "100%|███████████████████████████████████████████████████████████████████████████████████████████████████████████████████████████████████████████████████████████████| 2/2 [02:12<00:00, 66.23s/it]\n"
     ]
    },
    {
     "name": "stdout",
     "output_type": "stream",
     "text": [
      "Test Loss: 0.35983121395111084\n",
      "Group test Loss: 0.5001799315214157\n",
      "[22/96] Num Bins 10 Forget Lr: 0.05 Forget Iters: 5\n"
     ]
    },
    {
     "name": "stderr",
     "output_type": "stream",
     "text": [
      "100%|███████████████████████████████████████████████████████████████████████████████████████████████████████████████████████████████████████████████████████████████| 2/2 [02:00<00:00, 60.10s/it]\n"
     ]
    },
    {
     "name": "stdout",
     "output_type": "stream",
     "text": [
      "Test Loss: 0.4541610777378082\n",
      "Group test Loss: 0.54722760617733\n",
      "[23/96] Num Bins 10 Forget Lr: 0.01 Forget Iters: 2\n"
     ]
    },
    {
     "name": "stderr",
     "output_type": "stream",
     "text": [
      "100%|███████████████████████████████████████████████████████████████████████████████████████████████████████████████████████████████████████████████████████████████| 2/2 [02:13<00:00, 66.71s/it]\n"
     ]
    },
    {
     "name": "stdout",
     "output_type": "stream",
     "text": [
      "Test Loss: 0.3222164809703827\n",
      "Group test Loss: 0.4360330142080784\n",
      "[24/96] Num Bins 10 Forget Lr: 0.01 Forget Iters: 5\n"
     ]
    },
    {
     "name": "stderr",
     "output_type": "stream",
     "text": [
      "100%|███████████████████████████████████████████████████████████████████████████████████████████████████████████████████████████████████████████████████████████████| 2/2 [01:59<00:00, 59.97s/it]\n"
     ]
    },
    {
     "name": "stdout",
     "output_type": "stream",
     "text": [
      "Test Loss: 0.3137363791465759\n",
      "Group test Loss: 0.38210245594382286\n",
      "[25/96] Num Bins 25 Forget Lr: 0.0005 Forget Iters: 2\n"
     ]
    },
    {
     "name": "stderr",
     "output_type": "stream",
     "text": [
      "100%|███████████████████████████████████████████████████████████████████████████████████████████████████████████████████████████████████████████████████████████████| 2/2 [02:12<00:00, 66.39s/it]\n"
     ]
    },
    {
     "name": "stdout",
     "output_type": "stream",
     "text": [
      "Test Loss: 0.24422502517700195\n",
      "Group test Loss: 0.24459872022271156\n",
      "[26/96] Num Bins 25 Forget Lr: 0.0005 Forget Iters: 5\n"
     ]
    },
    {
     "name": "stderr",
     "output_type": "stream",
     "text": [
      "100%|███████████████████████████████████████████████████████████████████████████████████████████████████████████████████████████████████████████████████████████████| 2/2 [02:00<00:00, 60.00s/it]\n"
     ]
    },
    {
     "name": "stdout",
     "output_type": "stream",
     "text": [
      "Test Loss: 0.25497356057167053\n",
      "Group test Loss: 0.32940349727869034\n",
      "[27/96] Num Bins 25 Forget Lr: 0.0001 Forget Iters: 2\n"
     ]
    },
    {
     "name": "stderr",
     "output_type": "stream",
     "text": [
      "100%|███████████████████████████████████████████████████████████████████████████████████████████████████████████████████████████████████████████████████████████████| 2/2 [02:13<00:00, 66.69s/it]\n"
     ]
    },
    {
     "name": "stdout",
     "output_type": "stream",
     "text": [
      "Test Loss: 0.2327519655227661\n",
      "Group test Loss: 0.24036391451954842\n",
      "[28/96] Num Bins 25 Forget Lr: 0.0001 Forget Iters: 5\n"
     ]
    },
    {
     "name": "stderr",
     "output_type": "stream",
     "text": [
      "100%|███████████████████████████████████████████████████████████████████████████████████████████████████████████████████████████████████████████████████████████████| 2/2 [02:00<00:00, 60.33s/it]\n"
     ]
    },
    {
     "name": "stdout",
     "output_type": "stream",
     "text": [
      "Test Loss: 0.250027060508728\n",
      "Group test Loss: 0.25154030695557594\n",
      "[29/96] Num Bins 25 Forget Lr: 0.005 Forget Iters: 2\n"
     ]
    },
    {
     "name": "stderr",
     "output_type": "stream",
     "text": [
      "100%|███████████████████████████████████████████████████████████████████████████████████████████████████████████████████████████████████████████████████████████████| 2/2 [02:12<00:00, 66.36s/it]\n"
     ]
    },
    {
     "name": "stdout",
     "output_type": "stream",
     "text": [
      "Test Loss: 0.4017789661884308\n",
      "Group test Loss: 0.5659570284187794\n",
      "[30/96] Num Bins 25 Forget Lr: 0.005 Forget Iters: 5\n"
     ]
    },
    {
     "name": "stderr",
     "output_type": "stream",
     "text": [
      "100%|███████████████████████████████████████████████████████████████████████████████████████████████████████████████████████████████████████████████████████████████| 2/2 [02:00<00:00, 60.15s/it]\n"
     ]
    },
    {
     "name": "stdout",
     "output_type": "stream",
     "text": [
      "Test Loss: 0.28121310472488403\n",
      "Group test Loss: 0.3089961148798466\n",
      "[31/96] Num Bins 25 Forget Lr: 0.001 Forget Iters: 2\n"
     ]
    },
    {
     "name": "stderr",
     "output_type": "stream",
     "text": [
      "100%|███████████████████████████████████████████████████████████████████████████████████████████████████████████████████████████████████████████████████████████████| 2/2 [02:12<00:00, 66.47s/it]\n"
     ]
    },
    {
     "name": "stdout",
     "output_type": "stream",
     "text": [
      "Test Loss: 0.23509898781776428\n",
      "Group test Loss: 0.26269300654530525\n",
      "[32/96] Num Bins 25 Forget Lr: 0.001 Forget Iters: 5\n"
     ]
    },
    {
     "name": "stderr",
     "output_type": "stream",
     "text": [
      "100%|███████████████████████████████████████████████████████████████████████████████████████████████████████████████████████████████████████████████████████████████| 2/2 [02:00<00:00, 60.04s/it]\n"
     ]
    },
    {
     "name": "stdout",
     "output_type": "stream",
     "text": [
      "Test Loss: 0.24365279078483582\n",
      "Group test Loss: 0.32523560523986816\n",
      "[33/96] Num Bins 25 Forget Lr: 0.05 Forget Iters: 2\n"
     ]
    },
    {
     "name": "stderr",
     "output_type": "stream",
     "text": [
      "100%|███████████████████████████████████████████████████████████████████████████████████████████████████████████████████████████████████████████████████████████████| 2/2 [02:12<00:00, 66.40s/it]\n"
     ]
    },
    {
     "name": "stdout",
     "output_type": "stream",
     "text": [
      "Test Loss: 0.7000663876533508\n",
      "Group test Loss: 0.9741146042943001\n",
      "[34/96] Num Bins 25 Forget Lr: 0.05 Forget Iters: 5\n"
     ]
    },
    {
     "name": "stderr",
     "output_type": "stream",
     "text": [
      "100%|███████████████████████████████████████████████████████████████████████████████████████████████████████████████████████████████████████████████████████████████| 2/2 [02:00<00:00, 60.12s/it]\n"
     ]
    },
    {
     "name": "stdout",
     "output_type": "stream",
     "text": [
      "Test Loss: 0.3428526520729065\n",
      "Group test Loss: 0.4559636190533638\n",
      "[35/96] Num Bins 25 Forget Lr: 0.01 Forget Iters: 2\n"
     ]
    },
    {
     "name": "stderr",
     "output_type": "stream",
     "text": [
      "100%|███████████████████████████████████████████████████████████████████████████████████████████████████████████████████████████████████████████████████████████████| 2/2 [02:13<00:00, 66.77s/it]\n"
     ]
    },
    {
     "name": "stdout",
     "output_type": "stream",
     "text": [
      "Test Loss: 0.2953900694847107\n",
      "Group test Loss: 0.3463407792150974\n",
      "[36/96] Num Bins 25 Forget Lr: 0.01 Forget Iters: 5\n"
     ]
    },
    {
     "name": "stderr",
     "output_type": "stream",
     "text": [
      "100%|███████████████████████████████████████████████████████████████████████████████████████████████████████████████████████████████████████████████████████████████| 2/2 [02:00<00:00, 60.08s/it]\n"
     ]
    },
    {
     "name": "stdout",
     "output_type": "stream",
     "text": [
      "Test Loss: 0.26005086302757263\n",
      "Group test Loss: 0.32740693911910057\n",
      "[37/96] Num Bins 30 Forget Lr: 0.0005 Forget Iters: 2\n"
     ]
    },
    {
     "name": "stderr",
     "output_type": "stream",
     "text": [
      "100%|███████████████████████████████████████████████████████████████████████████████████████████████████████████████████████████████████████████████████████████████| 2/2 [02:13<00:00, 66.55s/it]\n"
     ]
    },
    {
     "name": "stdout",
     "output_type": "stream",
     "text": [
      "Test Loss: 0.250318318605423\n",
      "Group test Loss: 0.23638072982430458\n",
      "[38/96] Num Bins 30 Forget Lr: 0.0005 Forget Iters: 5\n"
     ]
    },
    {
     "name": "stderr",
     "output_type": "stream",
     "text": [
      "100%|███████████████████████████████████████████████████████████████████████████████████████████████████████████████████████████████████████████████████████████████| 2/2 [02:00<00:00, 60.03s/it]\n"
     ]
    },
    {
     "name": "stdout",
     "output_type": "stream",
     "text": [
      "Test Loss: 0.2659555971622467\n",
      "Group test Loss: 0.3074813075363636\n",
      "[39/96] Num Bins 30 Forget Lr: 0.0001 Forget Iters: 2\n"
     ]
    },
    {
     "name": "stderr",
     "output_type": "stream",
     "text": [
      "100%|███████████████████████████████████████████████████████████████████████████████████████████████████████████████████████████████████████████████████████████████| 2/2 [02:12<00:00, 66.34s/it]\n"
     ]
    },
    {
     "name": "stdout",
     "output_type": "stream",
     "text": [
      "Test Loss: 0.2468252331018448\n",
      "Group test Loss: 0.24130700528621674\n",
      "[40/96] Num Bins 30 Forget Lr: 0.0001 Forget Iters: 5\n"
     ]
    },
    {
     "name": "stderr",
     "output_type": "stream",
     "text": [
      "100%|███████████████████████████████████████████████████████████████████████████████████████████████████████████████████████████████████████████████████████████████| 2/2 [02:00<00:00, 60.08s/it]\n"
     ]
    },
    {
     "name": "stdout",
     "output_type": "stream",
     "text": [
      "Test Loss: 0.25256162881851196\n",
      "Group test Loss: 0.3067549839615822\n",
      "[41/96] Num Bins 30 Forget Lr: 0.005 Forget Iters: 2\n"
     ]
    },
    {
     "name": "stderr",
     "output_type": "stream",
     "text": [
      "100%|███████████████████████████████████████████████████████████████████████████████████████████████████████████████████████████████████████████████████████████████| 2/2 [02:12<00:00, 66.32s/it]\n"
     ]
    },
    {
     "name": "stdout",
     "output_type": "stream",
     "text": [
      "Test Loss: 0.28362011909484863\n",
      "Group test Loss: 0.32736779004335403\n",
      "[42/96] Num Bins 30 Forget Lr: 0.005 Forget Iters: 5\n"
     ]
    },
    {
     "name": "stderr",
     "output_type": "stream",
     "text": [
      "100%|███████████████████████████████████████████████████████████████████████████████████████████████████████████████████████████████████████████████████████████████| 2/2 [01:59<00:00, 59.98s/it]\n"
     ]
    },
    {
     "name": "stdout",
     "output_type": "stream",
     "text": [
      "Test Loss: 0.3998592495918274\n",
      "Group test Loss: 0.5272500514984131\n",
      "[43/96] Num Bins 30 Forget Lr: 0.001 Forget Iters: 2\n"
     ]
    },
    {
     "name": "stderr",
     "output_type": "stream",
     "text": [
      "100%|███████████████████████████████████████████████████████████████████████████████████████████████████████████████████████████████████████████████████████████████| 2/2 [02:12<00:00, 66.31s/it]\n"
     ]
    },
    {
     "name": "stdout",
     "output_type": "stream",
     "text": [
      "Test Loss: 0.22297987341880798\n",
      "Group test Loss: 0.2652777098119259\n",
      "[44/96] Num Bins 30 Forget Lr: 0.001 Forget Iters: 5\n"
     ]
    },
    {
     "name": "stderr",
     "output_type": "stream",
     "text": [
      "100%|███████████████████████████████████████████████████████████████████████████████████████████████████████████████████████████████████████████████████████████████| 2/2 [02:00<00:00, 60.05s/it]\n"
     ]
    },
    {
     "name": "stdout",
     "output_type": "stream",
     "text": [
      "Test Loss: 0.22677713632583618\n",
      "Group test Loss: 0.3000470921397209\n",
      "[45/96] Num Bins 30 Forget Lr: 0.05 Forget Iters: 2\n"
     ]
    },
    {
     "name": "stderr",
     "output_type": "stream",
     "text": [
      "100%|███████████████████████████████████████████████████████████████████████████████████████████████████████████████████████████████████████████████████████████████| 2/2 [02:12<00:00, 66.49s/it]\n"
     ]
    },
    {
     "name": "stdout",
     "output_type": "stream",
     "text": [
      "Test Loss: 0.294820636510849\n",
      "Group test Loss: 0.34418078139424324\n",
      "[46/96] Num Bins 30 Forget Lr: 0.05 Forget Iters: 5\n"
     ]
    },
    {
     "name": "stderr",
     "output_type": "stream",
     "text": [
      "100%|███████████████████████████████████████████████████████████████████████████████████████████████████████████████████████████████████████████████████████████████| 2/2 [02:00<00:00, 60.11s/it]\n"
     ]
    },
    {
     "name": "stdout",
     "output_type": "stream",
     "text": [
      "Test Loss: 0.32941216230392456\n",
      "Group test Loss: 0.33039985597133636\n",
      "[47/96] Num Bins 30 Forget Lr: 0.01 Forget Iters: 2\n"
     ]
    },
    {
     "name": "stderr",
     "output_type": "stream",
     "text": [
      "100%|███████████████████████████████████████████████████████████████████████████████████████████████████████████████████████████████████████████████████████████████| 2/2 [02:12<00:00, 66.46s/it]\n"
     ]
    },
    {
     "name": "stdout",
     "output_type": "stream",
     "text": [
      "Test Loss: 0.3670419454574585\n",
      "Group test Loss: 0.35647859424352646\n",
      "[48/96] Num Bins 30 Forget Lr: 0.01 Forget Iters: 5\n"
     ]
    },
    {
     "name": "stderr",
     "output_type": "stream",
     "text": [
      "100%|███████████████████████████████████████████████████████████████████████████████████████████████████████████████████████████████████████████████████████████████| 2/2 [02:00<00:00, 60.10s/it]\n"
     ]
    },
    {
     "name": "stdout",
     "output_type": "stream",
     "text": [
      "Test Loss: 0.2922521233558655\n",
      "Group test Loss: 0.3387474901974201\n",
      "[49/96] Num Bins 50 Forget Lr: 0.0005 Forget Iters: 2\n"
     ]
    },
    {
     "name": "stderr",
     "output_type": "stream",
     "text": [
      "100%|███████████████████████████████████████████████████████████████████████████████████████████████████████████████████████████████████████████████████████████████| 2/2 [02:12<00:00, 66.21s/it]\n"
     ]
    },
    {
     "name": "stdout",
     "output_type": "stream",
     "text": [
      "Test Loss: 0.24349234998226166\n",
      "Group test Loss: 0.26323501765727997\n",
      "[50/96] Num Bins 50 Forget Lr: 0.0005 Forget Iters: 5\n"
     ]
    },
    {
     "name": "stderr",
     "output_type": "stream",
     "text": [
      "100%|███████████████████████████████████████████████████████████████████████████████████████████████████████████████████████████████████████████████████████████████| 2/2 [02:01<00:00, 60.59s/it]\n"
     ]
    },
    {
     "name": "stdout",
     "output_type": "stream",
     "text": [
      "Test Loss: 0.26636844873428345\n",
      "Group test Loss: 0.238478884100914\n",
      "[51/96] Num Bins 50 Forget Lr: 0.0001 Forget Iters: 2\n"
     ]
    },
    {
     "name": "stderr",
     "output_type": "stream",
     "text": [
      "100%|███████████████████████████████████████████████████████████████████████████████████████████████████████████████████████████████████████████████████████████████| 2/2 [02:13<00:00, 66.54s/it]\n"
     ]
    },
    {
     "name": "stdout",
     "output_type": "stream",
     "text": [
      "Test Loss: 0.2633170187473297\n",
      "Group test Loss: 0.32198452204465866\n",
      "[52/96] Num Bins 50 Forget Lr: 0.0001 Forget Iters: 5\n"
     ]
    },
    {
     "name": "stderr",
     "output_type": "stream",
     "text": [
      "100%|███████████████████████████████████████████████████████████████████████████████████████████████████████████████████████████████████████████████████████████████| 2/2 [02:00<00:00, 60.19s/it]\n"
     ]
    },
    {
     "name": "stdout",
     "output_type": "stream",
     "text": [
      "Test Loss: 0.21581505239009857\n",
      "Group test Loss: 0.2623967416584492\n",
      "[53/96] Num Bins 50 Forget Lr: 0.005 Forget Iters: 2\n"
     ]
    },
    {
     "name": "stderr",
     "output_type": "stream",
     "text": [
      "100%|███████████████████████████████████████████████████████████████████████████████████████████████████████████████████████████████████████████████████████████████| 2/2 [02:13<00:00, 66.51s/it]\n"
     ]
    },
    {
     "name": "stdout",
     "output_type": "stream",
     "text": [
      "Test Loss: 0.33331745862960815\n",
      "Group test Loss: 0.4589568115770817\n",
      "[54/96] Num Bins 50 Forget Lr: 0.005 Forget Iters: 5\n"
     ]
    },
    {
     "name": "stderr",
     "output_type": "stream",
     "text": [
      "100%|███████████████████████████████████████████████████████████████████████████████████████████████████████████████████████████████████████████████████████████████| 2/2 [02:00<00:00, 60.05s/it]\n"
     ]
    },
    {
     "name": "stdout",
     "output_type": "stream",
     "text": [
      "Test Loss: 0.2763536870479584\n",
      "Group test Loss: 0.30643079802393913\n",
      "[55/96] Num Bins 50 Forget Lr: 0.001 Forget Iters: 2\n"
     ]
    },
    {
     "name": "stderr",
     "output_type": "stream",
     "text": [
      "100%|███████████████████████████████████████████████████████████████████████████████████████████████████████████████████████████████████████████████████████████████| 2/2 [02:13<00:00, 66.52s/it]\n"
     ]
    },
    {
     "name": "stdout",
     "output_type": "stream",
     "text": [
      "Test Loss: 0.2530151307582855\n",
      "Group test Loss: 0.3129664734005928\n",
      "[56/96] Num Bins 50 Forget Lr: 0.001 Forget Iters: 5\n"
     ]
    },
    {
     "name": "stderr",
     "output_type": "stream",
     "text": [
      "100%|███████████████████████████████████████████████████████████████████████████████████████████████████████████████████████████████████████████████████████████████| 2/2 [02:00<00:00, 60.29s/it]\n"
     ]
    },
    {
     "name": "stdout",
     "output_type": "stream",
     "text": [
      "Test Loss: 0.22107142210006714\n",
      "Group test Loss: 0.25262726843357086\n",
      "[57/96] Num Bins 50 Forget Lr: 0.05 Forget Iters: 2\n"
     ]
    },
    {
     "name": "stderr",
     "output_type": "stream",
     "text": [
      "100%|███████████████████████████████████████████████████████████████████████████████████████████████████████████████████████████████████████████████████████████████| 2/2 [02:13<00:00, 66.54s/it]\n"
     ]
    },
    {
     "name": "stdout",
     "output_type": "stream",
     "text": [
      "Test Loss: 0.31125199794769287\n",
      "Group test Loss: 0.3571356125175953\n",
      "[58/96] Num Bins 50 Forget Lr: 0.05 Forget Iters: 5\n"
     ]
    },
    {
     "name": "stderr",
     "output_type": "stream",
     "text": [
      "100%|███████████████████████████████████████████████████████████████████████████████████████████████████████████████████████████████████████████████████████████████| 2/2 [02:00<00:00, 60.07s/it]\n"
     ]
    },
    {
     "name": "stdout",
     "output_type": "stream",
     "text": [
      "Test Loss: 0.3284117579460144\n",
      "Group test Loss: 0.37794671207666397\n",
      "[59/96] Num Bins 50 Forget Lr: 0.01 Forget Iters: 2\n"
     ]
    },
    {
     "name": "stderr",
     "output_type": "stream",
     "text": [
      "100%|███████████████████████████████████████████████████████████████████████████████████████████████████████████████████████████████████████████████████████████████| 2/2 [02:12<00:00, 66.26s/it]\n"
     ]
    },
    {
     "name": "stdout",
     "output_type": "stream",
     "text": [
      "Test Loss: 0.322426438331604\n",
      "Group test Loss: 0.35300662368535995\n",
      "[60/96] Num Bins 50 Forget Lr: 0.01 Forget Iters: 5\n"
     ]
    },
    {
     "name": "stderr",
     "output_type": "stream",
     "text": [
      "100%|███████████████████████████████████████████████████████████████████████████████████████████████████████████████████████████████████████████████████████████████| 2/2 [02:00<00:00, 60.08s/it]\n"
     ]
    },
    {
     "name": "stdout",
     "output_type": "stream",
     "text": [
      "Test Loss: 0.28181058168411255\n",
      "Group test Loss: 0.32382484152913094\n",
      "[61/96] Num Bins 75 Forget Lr: 0.0005 Forget Iters: 2\n"
     ]
    },
    {
     "name": "stderr",
     "output_type": "stream",
     "text": [
      "100%|███████████████████████████████████████████████████████████████████████████████████████████████████████████████████████████████████████████████████████████████| 2/2 [02:13<00:00, 66.59s/it]\n"
     ]
    },
    {
     "name": "stdout",
     "output_type": "stream",
     "text": [
      "Test Loss: 0.24450938403606415\n",
      "Group test Loss: 0.25910013169050217\n",
      "[62/96] Num Bins 75 Forget Lr: 0.0005 Forget Iters: 5\n"
     ]
    },
    {
     "name": "stderr",
     "output_type": "stream",
     "text": [
      "100%|███████████████████████████████████████████████████████████████████████████████████████████████████████████████████████████████████████████████████████████████| 2/2 [02:00<00:00, 60.18s/it]\n"
     ]
    },
    {
     "name": "stdout",
     "output_type": "stream",
     "text": [
      "Test Loss: 0.236283540725708\n",
      "Group test Loss: 0.28403568640351295\n",
      "[63/96] Num Bins 75 Forget Lr: 0.0001 Forget Iters: 2\n"
     ]
    },
    {
     "name": "stderr",
     "output_type": "stream",
     "text": [
      "100%|███████████████████████████████████████████████████████████████████████████████████████████████████████████████████████████████████████████████████████████████| 2/2 [02:12<00:00, 66.41s/it]\n"
     ]
    },
    {
     "name": "stdout",
     "output_type": "stream",
     "text": [
      "Test Loss: 0.2724880278110504\n",
      "Group test Loss: 0.34906693920493126\n",
      "[64/96] Num Bins 75 Forget Lr: 0.0001 Forget Iters: 5\n"
     ]
    },
    {
     "name": "stderr",
     "output_type": "stream",
     "text": [
      "100%|███████████████████████████████████████████████████████████████████████████████████████████████████████████████████████████████████████████████████████████████| 2/2 [02:00<00:00, 60.07s/it]\n"
     ]
    },
    {
     "name": "stdout",
     "output_type": "stream",
     "text": [
      "Test Loss: 0.2214621752500534\n",
      "Group test Loss: 0.2530592754483223\n",
      "[65/96] Num Bins 75 Forget Lr: 0.005 Forget Iters: 2\n"
     ]
    },
    {
     "name": "stderr",
     "output_type": "stream",
     "text": [
      "100%|███████████████████████████████████████████████████████████████████████████████████████████████████████████████████████████████████████████████████████████████| 2/2 [02:12<00:00, 66.46s/it]\n"
     ]
    },
    {
     "name": "stdout",
     "output_type": "stream",
     "text": [
      "Test Loss: 0.36793333292007446\n",
      "Group test Loss: 0.471130907535553\n",
      "[66/96] Num Bins 75 Forget Lr: 0.005 Forget Iters: 5\n"
     ]
    },
    {
     "name": "stderr",
     "output_type": "stream",
     "text": [
      "100%|███████████████████████████████████████████████████████████████████████████████████████████████████████████████████████████████████████████████████████████████| 2/2 [02:00<00:00, 60.12s/it]\n"
     ]
    },
    {
     "name": "stdout",
     "output_type": "stream",
     "text": [
      "Test Loss: 0.28136906027793884\n",
      "Group test Loss: 0.3388635143637657\n",
      "[67/96] Num Bins 75 Forget Lr: 0.001 Forget Iters: 2\n"
     ]
    },
    {
     "name": "stderr",
     "output_type": "stream",
     "text": [
      "100%|███████████████████████████████████████████████████████████████████████████████████████████████████████████████████████████████████████████████████████████████| 2/2 [02:13<00:00, 66.71s/it]\n"
     ]
    },
    {
     "name": "stdout",
     "output_type": "stream",
     "text": [
      "Test Loss: 0.23094923794269562\n",
      "Group test Loss: 0.2534279376268387\n",
      "[68/96] Num Bins 75 Forget Lr: 0.001 Forget Iters: 5\n"
     ]
    },
    {
     "name": "stderr",
     "output_type": "stream",
     "text": [
      "100%|███████████████████████████████████████████████████████████████████████████████████████████████████████████████████████████████████████████████████████████████| 2/2 [02:00<00:00, 60.12s/it]\n"
     ]
    },
    {
     "name": "stdout",
     "output_type": "stream",
     "text": [
      "Test Loss: 0.23415422439575195\n",
      "Group test Loss: 0.24969130009412766\n",
      "[69/96] Num Bins 75 Forget Lr: 0.05 Forget Iters: 2\n"
     ]
    },
    {
     "name": "stderr",
     "output_type": "stream",
     "text": [
      "100%|███████████████████████████████████████████████████████████████████████████████████████████████████████████████████████████████████████████████████████████████| 2/2 [02:12<00:00, 66.39s/it]\n"
     ]
    },
    {
     "name": "stdout",
     "output_type": "stream",
     "text": [
      "Test Loss: 0.31349602341651917\n",
      "Group test Loss: 0.3193153105676174\n",
      "[70/96] Num Bins 75 Forget Lr: 0.05 Forget Iters: 5\n"
     ]
    },
    {
     "name": "stderr",
     "output_type": "stream",
     "text": [
      "100%|███████████████████████████████████████████████████████████████████████████████████████████████████████████████████████████████████████████████████████████████| 2/2 [02:00<00:00, 60.13s/it]\n"
     ]
    },
    {
     "name": "stdout",
     "output_type": "stream",
     "text": [
      "Test Loss: 0.3324788212776184\n",
      "Group test Loss: 0.3572775162756443\n",
      "[71/96] Num Bins 75 Forget Lr: 0.01 Forget Iters: 2\n"
     ]
    },
    {
     "name": "stderr",
     "output_type": "stream",
     "text": [
      "100%|███████████████████████████████████████████████████████████████████████████████████████████████████████████████████████████████████████████████████████████████| 2/2 [02:12<00:00, 66.44s/it]\n"
     ]
    },
    {
     "name": "stdout",
     "output_type": "stream",
     "text": [
      "Test Loss: 0.2692752778530121\n",
      "Group test Loss: 0.31630847975611687\n",
      "[72/96] Num Bins 75 Forget Lr: 0.01 Forget Iters: 5\n"
     ]
    },
    {
     "name": "stderr",
     "output_type": "stream",
     "text": [
      "100%|███████████████████████████████████████████████████████████████████████████████████████████████████████████████████████████████████████████████████████████████| 2/2 [01:59<00:00, 59.98s/it]\n"
     ]
    },
    {
     "name": "stdout",
     "output_type": "stream",
     "text": [
      "Test Loss: 0.32925817370414734\n",
      "Group test Loss: 0.4243375137448311\n",
      "[73/96] Num Bins 90 Forget Lr: 0.0005 Forget Iters: 2\n"
     ]
    },
    {
     "name": "stderr",
     "output_type": "stream",
     "text": [
      "100%|███████████████████████████████████████████████████████████████████████████████████████████████████████████████████████████████████████████████████████████████| 2/2 [02:12<00:00, 66.40s/it]\n"
     ]
    },
    {
     "name": "stdout",
     "output_type": "stream",
     "text": [
      "Test Loss: 0.2470238357782364\n",
      "Group test Loss: 0.3278629072010517\n",
      "[74/96] Num Bins 90 Forget Lr: 0.0005 Forget Iters: 5\n"
     ]
    },
    {
     "name": "stderr",
     "output_type": "stream",
     "text": [
      "100%|███████████████████████████████████████████████████████████████████████████████████████████████████████████████████████████████████████████████████████████████| 2/2 [02:00<00:00, 60.16s/it]\n"
     ]
    },
    {
     "name": "stdout",
     "output_type": "stream",
     "text": [
      "Test Loss: 0.26881906390190125\n",
      "Group test Loss: 0.2666008956730366\n",
      "[75/96] Num Bins 90 Forget Lr: 0.0001 Forget Iters: 2\n"
     ]
    },
    {
     "name": "stderr",
     "output_type": "stream",
     "text": [
      "100%|███████████████████████████████████████████████████████████████████████████████████████████████████████████████████████████████████████████████████████████████| 2/2 [02:13<00:00, 66.79s/it]\n"
     ]
    },
    {
     "name": "stdout",
     "output_type": "stream",
     "text": [
      "Test Loss: 0.2206891030073166\n",
      "Group test Loss: 0.2648135647177696\n",
      "[76/96] Num Bins 90 Forget Lr: 0.0001 Forget Iters: 5\n"
     ]
    },
    {
     "name": "stderr",
     "output_type": "stream",
     "text": [
      "100%|███████████████████████████████████████████████████████████████████████████████████████████████████████████████████████████████████████████████████████████████| 2/2 [02:00<00:00, 60.07s/it]\n"
     ]
    },
    {
     "name": "stdout",
     "output_type": "stream",
     "text": [
      "Test Loss: 0.24724604189395905\n",
      "Group test Loss: 0.28861360996961594\n",
      "[77/96] Num Bins 90 Forget Lr: 0.005 Forget Iters: 2\n"
     ]
    },
    {
     "name": "stderr",
     "output_type": "stream",
     "text": [
      "100%|███████████████████████████████████████████████████████████████████████████████████████████████████████████████████████████████████████████████████████████████| 2/2 [02:12<00:00, 66.43s/it]\n"
     ]
    },
    {
     "name": "stdout",
     "output_type": "stream",
     "text": [
      "Test Loss: 0.31323590874671936\n",
      "Group test Loss: 0.2755439355969429\n",
      "[78/96] Num Bins 90 Forget Lr: 0.005 Forget Iters: 5\n"
     ]
    },
    {
     "name": "stderr",
     "output_type": "stream",
     "text": [
      "100%|███████████████████████████████████████████████████████████████████████████████████████████████████████████████████████████████████████████████████████████████| 2/2 [02:00<00:00, 60.02s/it]\n"
     ]
    },
    {
     "name": "stdout",
     "output_type": "stream",
     "text": [
      "Test Loss: 0.30861562490463257\n",
      "Group test Loss: 0.343169417232275\n",
      "[79/96] Num Bins 90 Forget Lr: 0.001 Forget Iters: 2\n"
     ]
    },
    {
     "name": "stderr",
     "output_type": "stream",
     "text": [
      "100%|███████████████████████████████████████████████████████████████████████████████████████████████████████████████████████████████████████████████████████████████| 2/2 [02:12<00:00, 66.44s/it]\n"
     ]
    },
    {
     "name": "stdout",
     "output_type": "stream",
     "text": [
      "Test Loss: 0.23975025117397308\n",
      "Group test Loss: 0.25510790571570396\n",
      "[80/96] Num Bins 90 Forget Lr: 0.001 Forget Iters: 5\n"
     ]
    },
    {
     "name": "stderr",
     "output_type": "stream",
     "text": [
      "100%|███████████████████████████████████████████████████████████████████████████████████████████████████████████████████████████████████████████████████████████████| 2/2 [02:00<00:00, 60.17s/it]\n"
     ]
    },
    {
     "name": "stdout",
     "output_type": "stream",
     "text": [
      "Test Loss: 0.257014662027359\n",
      "Group test Loss: 0.2454608492553234\n",
      "[81/96] Num Bins 90 Forget Lr: 0.05 Forget Iters: 2\n"
     ]
    },
    {
     "name": "stderr",
     "output_type": "stream",
     "text": [
      "100%|███████████████████████████████████████████████████████████████████████████████████████████████████████████████████████████████████████████████████████████████| 2/2 [02:12<00:00, 66.25s/it]\n"
     ]
    },
    {
     "name": "stdout",
     "output_type": "stream",
     "text": [
      "Test Loss: 0.42196929454803467\n",
      "Group test Loss: 0.34960098192095757\n",
      "[82/96] Num Bins 90 Forget Lr: 0.05 Forget Iters: 5\n"
     ]
    },
    {
     "name": "stderr",
     "output_type": "stream",
     "text": [
      "100%|███████████████████████████████████████████████████████████████████████████████████████████████████████████████████████████████████████████████████████████████| 2/2 [01:59<00:00, 59.96s/it]\n"
     ]
    },
    {
     "name": "stdout",
     "output_type": "stream",
     "text": [
      "Test Loss: 0.4705800414085388\n",
      "Group test Loss: 0.6660116016864777\n",
      "[83/96] Num Bins 90 Forget Lr: 0.01 Forget Iters: 2\n"
     ]
    },
    {
     "name": "stderr",
     "output_type": "stream",
     "text": [
      "100%|███████████████████████████████████████████████████████████████████████████████████████████████████████████████████████████████████████████████████████████████| 2/2 [02:12<00:00, 66.49s/it]\n"
     ]
    },
    {
     "name": "stdout",
     "output_type": "stream",
     "text": [
      "Test Loss: 0.2835158109664917\n",
      "Group test Loss: 0.3384181298315525\n",
      "[84/96] Num Bins 90 Forget Lr: 0.01 Forget Iters: 5\n"
     ]
    },
    {
     "name": "stderr",
     "output_type": "stream",
     "text": [
      "100%|███████████████████████████████████████████████████████████████████████████████████████████████████████████████████████████████████████████████████████████████| 2/2 [02:00<00:00, 60.07s/it]\n"
     ]
    },
    {
     "name": "stdout",
     "output_type": "stream",
     "text": [
      "Test Loss: 0.30942678451538086\n",
      "Group test Loss: 0.3780273459851742\n",
      "[85/96] Num Bins 100 Forget Lr: 0.0005 Forget Iters: 2\n"
     ]
    },
    {
     "name": "stderr",
     "output_type": "stream",
     "text": [
      "100%|███████████████████████████████████████████████████████████████████████████████████████████████████████████████████████████████████████████████████████████████| 2/2 [02:12<00:00, 66.46s/it]\n"
     ]
    },
    {
     "name": "stdout",
     "output_type": "stream",
     "text": [
      "Test Loss: 0.25330784916877747\n",
      "Group test Loss: 0.3030856363475323\n",
      "[86/96] Num Bins 100 Forget Lr: 0.0005 Forget Iters: 5\n"
     ]
    },
    {
     "name": "stderr",
     "output_type": "stream",
     "text": [
      "100%|███████████████████████████████████████████████████████████████████████████████████████████████████████████████████████████████████████████████████████████████| 2/2 [02:00<00:00, 60.15s/it]\n"
     ]
    },
    {
     "name": "stdout",
     "output_type": "stream",
     "text": [
      "Test Loss: 0.2334934026002884\n",
      "Group test Loss: 0.23246986791491508\n",
      "[87/96] Num Bins 100 Forget Lr: 0.0001 Forget Iters: 2\n"
     ]
    },
    {
     "name": "stderr",
     "output_type": "stream",
     "text": [
      "100%|███████████████████████████████████████████████████████████████████████████████████████████████████████████████████████████████████████████████████████████████| 2/2 [02:12<00:00, 66.28s/it]\n"
     ]
    },
    {
     "name": "stdout",
     "output_type": "stream",
     "text": [
      "Test Loss: 0.23318836092948914\n",
      "Group test Loss: 0.23725000396370888\n",
      "[88/96] Num Bins 100 Forget Lr: 0.0001 Forget Iters: 5\n"
     ]
    },
    {
     "name": "stderr",
     "output_type": "stream",
     "text": [
      "100%|███████████████████████████████████████████████████████████████████████████████████████████████████████████████████████████████████████████████████████████████| 2/2 [02:00<00:00, 60.12s/it]\n"
     ]
    },
    {
     "name": "stdout",
     "output_type": "stream",
     "text": [
      "Test Loss: 0.23490339517593384\n",
      "Group test Loss: 0.28555021807551384\n",
      "[89/96] Num Bins 100 Forget Lr: 0.005 Forget Iters: 2\n"
     ]
    },
    {
     "name": "stderr",
     "output_type": "stream",
     "text": [
      "100%|███████████████████████████████████████████████████████████████████████████████████████████████████████████████████████████████████████████████████████████████| 2/2 [02:13<00:00, 66.51s/it]\n"
     ]
    },
    {
     "name": "stdout",
     "output_type": "stream",
     "text": [
      "Test Loss: 0.2971615493297577\n",
      "Group test Loss: 0.35159211978316307\n",
      "[90/96] Num Bins 100 Forget Lr: 0.005 Forget Iters: 5\n"
     ]
    },
    {
     "name": "stderr",
     "output_type": "stream",
     "text": [
      "100%|███████████████████████████████████████████████████████████████████████████████████████████████████████████████████████████████████████████████████████████████| 2/2 [02:00<00:00, 60.12s/it]\n"
     ]
    },
    {
     "name": "stdout",
     "output_type": "stream",
     "text": [
      "Test Loss: 0.2654138505458832\n",
      "Group test Loss: 0.30774392932653427\n",
      "[91/96] Num Bins 100 Forget Lr: 0.001 Forget Iters: 2\n"
     ]
    },
    {
     "name": "stderr",
     "output_type": "stream",
     "text": [
      "100%|███████████████████████████████████████████████████████████████████████████████████████████████████████████████████████████████████████████████████████████████| 2/2 [02:13<00:00, 66.67s/it]\n"
     ]
    },
    {
     "name": "stdout",
     "output_type": "stream",
     "text": [
      "Test Loss: 0.23964202404022217\n",
      "Group test Loss: 0.2673669531941414\n",
      "[92/96] Num Bins 100 Forget Lr: 0.001 Forget Iters: 5\n"
     ]
    },
    {
     "name": "stderr",
     "output_type": "stream",
     "text": [
      "100%|███████████████████████████████████████████████████████████████████████████████████████████████████████████████████████████████████████████████████████████████| 2/2 [02:00<00:00, 60.08s/it]\n"
     ]
    },
    {
     "name": "stdout",
     "output_type": "stream",
     "text": [
      "Test Loss: 0.2509121000766754\n",
      "Group test Loss: 0.3079131916165352\n",
      "[93/96] Num Bins 100 Forget Lr: 0.05 Forget Iters: 2\n"
     ]
    },
    {
     "name": "stderr",
     "output_type": "stream",
     "text": [
      "100%|███████████████████████████████████████████████████████████████████████████████████████████████████████████████████████████████████████████████████████████████| 2/2 [02:12<00:00, 66.31s/it]\n"
     ]
    },
    {
     "name": "stdout",
     "output_type": "stream",
     "text": [
      "Test Loss: 0.2791023254394531\n",
      "Group test Loss: 0.32187018170952797\n",
      "[94/96] Num Bins 100 Forget Lr: 0.05 Forget Iters: 5\n"
     ]
    },
    {
     "name": "stderr",
     "output_type": "stream",
     "text": [
      "100%|███████████████████████████████████████████████████████████████████████████████████████████████████████████████████████████████████████████████████████████████| 2/2 [01:59<00:00, 59.99s/it]\n"
     ]
    },
    {
     "name": "stdout",
     "output_type": "stream",
     "text": [
      "Test Loss: 0.35901084542274475\n",
      "Group test Loss: 0.40879884362220764\n",
      "[95/96] Num Bins 100 Forget Lr: 0.01 Forget Iters: 2\n"
     ]
    },
    {
     "name": "stderr",
     "output_type": "stream",
     "text": [
      "100%|███████████████████████████████████████████████████████████████████████████████████████████████████████████████████████████████████████████████████████████████| 2/2 [02:13<00:00, 66.60s/it]\n"
     ]
    },
    {
     "name": "stdout",
     "output_type": "stream",
     "text": [
      "Test Loss: 0.3096095025539398\n",
      "Group test Loss: 0.32327111065387726\n",
      "[96/96] Num Bins 100 Forget Lr: 0.01 Forget Iters: 5\n"
     ]
    },
    {
     "name": "stderr",
     "output_type": "stream",
     "text": [
      "100%|███████████████████████████████████████████████████████████████████████████████████████████████████████████████████████████████████████████████████████████████| 2/2 [02:00<00:00, 60.01s/it]\n"
     ]
    },
    {
     "name": "stdout",
     "output_type": "stream",
     "text": [
      "Test Loss: 0.3544604778289795\n",
      "Group test Loss: 0.33945316076278687\n",
      "Test Loss Hyperparameters:\n",
      "Best num_bins : 50 Best Forget LR: 0.0001 Best Forget Iter: 5\n",
      "Group Loss Hyperparameters: \n",
      "Best num_bins : 100 Best Forget LR: 0.0005 Best Forget Iter: 5\n"
     ]
    }
   ],
   "source": [
    "# Hyper parameter tuning\n",
    "num_bins = [2, 10, 25, 30, 50, 75, 90, 100]\n",
    "forget_lrs = [5e-4, 1e-4, 5e-3, 1e-3, 5e-2, 1e-2]\n",
    "forget_iters = [2, 5]\n",
    "\n",
    "test_losses = np.zeros((len(num_bins), len(forget_lrs), len(forget_iters)))\n",
    "grp_test_losses = np.zeros((len(num_bins), len(forget_lrs), len(forget_iters)))\n",
    "\n",
    "for i in range(len(num_bins)):\n",
    "    for j in range(len(forget_lrs)):\n",
    "        for k in range(len(forget_iters)):\n",
    "            print(f\"[{i*(len(forget_lrs) * len(forget_iters)) + j*(len(forget_iters)) + k + 1}/{len(num_bins) * len(forget_lrs)* len(forget_iters)}] Num Bins {num_bins[i]} Forget Lr: {forget_lrs[j]} Forget Iters: {forget_iters[k]}\")\n",
    "            model = SiFer_ord(x.shape, 1, aux_kernels = [128, 128], layers = [5, 4], num_bins = num_bins[i]).to(device)\n",
    "            model, train_loss, val_loss,_, _ = train_fs_ord(model, train_dataloader, valid_dataloader, 5, num_bins = num_bins[i], forget_iters = forget_iters[k], lrs = [5e-4, 5e-4, forget_lrs[j]], epochs = 2, verbose = False)\n",
    "            test_loss = eval_FSModel(model, test_dataloader)\n",
    "            print(f\"Test Loss: {test_loss}\")\n",
    "            group_loss, _ =group_eval_fs(model, group_dataloaders)\n",
    "\n",
    "            test_losses[i,j,k] = test_loss\n",
    "            grp_test_losses[i,j,k] = group_loss\n",
    "\n",
    "best_num_bins_ord, best_forget_lr_ord, best_forget_iter_ord = np.unravel_index(np.argmin(test_losses), test_losses.shape)\n",
    "best_num_bins_ord_grp, best_forget_lr_ord_grp, best_forget_iter_ord_grp = np.unravel_index(np.argmin(grp_test_losses), test_losses.shape)\n",
    "\n",
    "print(\"Test Loss Hyperparameters:\")\n",
    "print(f\"Best num_bins : {num_bins[best_num_bins_ord]} Best Forget LR: {forget_lrs[best_forget_lr_ord]} Best Forget Iter: {forget_iters[best_forget_iter_ord]}\")\n",
    "print(\"Group Loss Hyperparameters: \")\n",
    "print(f\"Best num_bins : {num_bins[best_num_bins_ord_grp]} Best Forget LR: {forget_lrs[best_forget_lr_ord_grp]} Best Forget Iter: {forget_iters[best_forget_iter_ord_grp]}\")"
   ]
  },
  {
   "cell_type": "code",
   "execution_count": 16,
   "id": "58a86d67-af05-4897-867d-e0057a87510d",
   "metadata": {},
   "outputs": [
    {
     "name": "stderr",
     "output_type": "stream",
     "text": [
      "100%|██████████████████████████████████████████████████████████████| 5/5 [05:00<00:00, 60.03s/it]\n"
     ]
    },
    {
     "name": "stdout",
     "output_type": "stream",
     "text": [
      "Test Loss: 0.20344549417495728\n",
      "Group test Loss: 0.22014077752828598\n"
     ]
    }
   ],
   "source": [
    "num_bins = [2, 10, 25, 30, 50, 75, 90, 100]\n",
    "forget_lrs = [5e-4, 1e-4, 5e-3, 1e-3, 5e-2, 1e-2]\n",
    "forget_iters = [2, 5]\n",
    "best_num_bins_ord_grp, best_forget_lr_ord_grp, best_forget_iter_ord_grp = num_bins.index(100), forget_lrs.index(0.0005), forget_iters.index(5)\n",
    "\n",
    "sifer_ord = SiFer_ord(x.shape, 1, aux_kernels = [128, 128], layers = [5, 4], num_bins = num_bins[best_num_bins_ord_grp]).to(device)\n",
    "sifer_ord, train_loss, val_loss,_, _ = train_fs_ord(sifer_ord, train_dataloader, valid_dataloader, 5, num_bins = num_bins[best_num_bins_ord_grp], forget_iters = forget_iters[best_forget_iter_ord_grp], lrs = [5e-4, 5e-4, forget_lrs[best_forget_lr_ord_grp]], epochs = 5, verbose = False)\n",
    "test_loss_ord = eval_FSModel(sifer_ord, test_dataloader)\n",
    "print(f\"Test Loss: {test_loss_ord}\")\n",
    "group_loss_ord, groups_ord =group_eval_fs(sifer_ord, group_dataloaders)"
   ]
  },
  {
   "cell_type": "markdown",
   "id": "cd1fe041-fc09-45e6-b2f6-67265a6dd160",
   "metadata": {},
   "source": [
    "## Comparison of the models"
   ]
  },
  {
   "cell_type": "code",
   "execution_count": 25,
   "id": "ce62b7f8-0c50-499d-a79a-ac63013e5a67",
   "metadata": {},
   "outputs": [],
   "source": [
    "def bar_plot(names, dict_values, xlabel, ylabel, title, name):\n",
    "    x = np.arange(len(names))\n",
    "    width = 0.2\n",
    "    multiplier = 0\n",
    "    plt.rcParams[\"figure.figsize\"] = (6,6)\n",
    "    fig, ax = plt.subplots(layout=\"constrained\")\n",
    "    \n",
    "    for model_type, test_loss in dict_values.items():\n",
    "      offset = width*multiplier\n",
    "      rects = ax.bar(x + offset, test_loss, width, label=model_type)\n",
    "      ax.bar_label(rects, padding=3)\n",
    "      multiplier += 1\n",
    "    \n",
    "    ax.set_ylabel(ylabel)\n",
    "    ax.set_xlabel(xlabel)\n",
    "    ax.set_xticks(x+ width, names)\n",
    "    ax.legend(loc=\"upper right\")\n",
    "    plt.title(title)\n",
    "    plt.show()"
   ]
  },
  {
   "cell_type": "code",
   "execution_count": 26,
   "id": "adbf7fef-899a-4f25-9228-343e34f4cf8c",
   "metadata": {},
   "outputs": [
    {
     "data": {
      "image/png": "[encoded data removed]",
      "text/plain": [
       "<Figure size 600x600 with 1 Axes>"
      ]
     },
     "metadata": {},
     "output_type": "display_data"
    }
   ],
   "source": [
    "datasets = ['Complete Dataset']\n",
    "\n",
    "test_losses = {\n",
    "    \"Resnet34\": [test_loss_cnn],\n",
    "    \"Margin Forgetting Loss\": [test_loss_mar], \n",
    "    \"Cross Entropy Forgetting Loss\": [test_loss_ce],\n",
    "    \"Ordinal Forgetting Loss\": [test_loss_ord]\n",
    "}\n",
    "\n",
    "bar_plot(datasets, test_losses, \"Datasets\", \"MSE Loss\", \"Test loss\", 'test_losses')"
   ]
  },
  {
   "cell_type": "code",
   "execution_count": 27,
   "id": "367a3a34-76f6-471e-9fa3-869c8ed002a6",
   "metadata": {},
   "outputs": [
    {
     "data": {
      "image/png": "[encoded data removed]",
      "text/plain": [
       "<Figure size 600x600 with 1 Axes>"
      ]
     },
     "metadata": {},
     "output_type": "display_data"
    }
   ],
   "source": [
    "datasets = ['Complete Dataset']\n",
    "\n",
    "test_losses = {\n",
    "    \"Resnet34\": [group_tst_loss_cnn],\n",
    "    \"Margin Forgetting Loss\": [group_tst_loss_mar], \n",
    "    \"Cross Entropy Forgetting Loss\": [group_loss_ce],\n",
    "    \"Ordinal Forgetting Loss\": [group_loss_ord]\n",
    "}\n",
    "\n",
    "bar_plot(datasets, test_losses, \"Datasets\", \"MSE Loss\", \"Average Group loss\", 'grp_test_losses')"
   ]
  },
  {
   "cell_type": "code",
   "execution_count": 28,
   "id": "61759492-f8ee-4fb3-acb2-f3ed4804cbd2",
   "metadata": {},
   "outputs": [
    {
     "data": {
      "image/png": "[encoded data removed]",
      "text/plain": [
       "<Figure size 600x600 with 1 Axes>"
      ]
     },
     "metadata": {},
     "output_type": "display_data"
    }
   ],
   "source": [
    "datasets = ['Complete Dataset']\n",
    "\n",
    "test_losses = {\n",
    "    \"Resnet34\": [groups_cnn['m b']],\n",
    "    \"Margin Forgetting Loss\": [groups_fs_mar['m b']], \n",
    "    \"Cross Entropy Forgetting Loss\": [groups_ce['m b']],\n",
    "    \"Ordinal Forgetting Loss\": [groups_ord['m b']]\n",
    "}\n",
    "\n",
    "bar_plot(datasets, test_losses, \"Datasets\", \"MSE Loss\", \"Group: Male > 2.5 loss\", 'test_losses')"
   ]
  },
  {
   "cell_type": "code",
   "execution_count": 29,
   "id": "8484c1d6-a142-4e6d-bc82-541de6bc502b",
   "metadata": {},
   "outputs": [
    {
     "data": {
      "image/png": "[encoded data removed]",
      "text/plain": [
       "<Figure size 600x600 with 1 Axes>"
      ]
     },
     "metadata": {},
     "output_type": "display_data"
    }
   ],
   "source": [
    "datasets = ['Complete Dataset']\n",
    "\n",
    "test_losses = {\n",
    "    \"Resnet34\": [groups_cnn['m u']],\n",
    "    \"Margin Forgetting Loss\": [groups_fs_mar['m u']], \n",
    "    \"Cross Entropy Forgetting Loss\": [groups_ce['m u']],\n",
    "    \"Ordinal Forgetting Loss\": [groups_ord['m u']]\n",
    "}\n",
    "\n",
    "bar_plot(datasets, test_losses, \"Datasets\", \"MSE Loss\", \"Group: Male < 2.5 loss\", 'test_losses')"
   ]
  },
  {
   "cell_type": "code",
   "execution_count": 30,
   "id": "a82df428-747b-46a2-8565-84fce51d2d1a",
   "metadata": {},
   "outputs": [
    {
     "data": {
      "image/png": "[encoded data removed]",
      "text/plain": [
       "<Figure size 600x600 with 1 Axes>"
      ]
     },
     "metadata": {},
     "output_type": "display_data"
    }
   ],
   "source": [
    "datasets = ['Complete Dataset']\n",
    "\n",
    "test_losses = {\n",
    "    \"Resnet34\": [groups_cnn['f b']],\n",
    "    \"Margin Forgetting Loss\": [groups_fs_mar['f b']], \n",
    "    \"Cross Entropy Forgetting Loss\": [groups_ce['f b']],\n",
    "    \"Ordinal Forgetting Loss\": [groups_ord['f b']]\n",
    "}\n",
    "\n",
    "bar_plot(datasets, test_losses, \"Datasets\", \"MSE Loss\", \"Group: Female > 2.5 loss\", 'test_losses')"
   ]
  },
  {
   "cell_type": "code",
   "execution_count": 31,
   "id": "2e00b75f-32b2-45d7-8d06-674f5b29137b",
   "metadata": {},
   "outputs": [
    {
     "data": {
      "image/png": "[encoded data removed]",
      "text/plain": [
       "<Figure size 600x600 with 1 Axes>"
      ]
     },
     "metadata": {},
     "output_type": "display_data"
    }
   ],
   "source": [
    "datasets = ['Complete Dataset']\n",
    "\n",
    "test_losses = {\n",
    "    \"Resnet34\": [groups_cnn['f u']],\n",
    "    \"Margin Forgetting Loss\": [groups_fs_mar['f u']], \n",
    "    \"Cross Entropy Forgetting Loss\": [groups_ce['f u']],\n",
    "    \"Ordinal Forgetting Loss\": [groups_ord['f u']]\n",
    "}\n",
    "\n",
    "bar_plot(datasets, test_losses, \"Datasets\", \"MSE Loss\", \"Group: Female < 2.5 loss\", 'test_losses')"
   ]
  },
  {
   "cell_type": "code",
   "execution_count": null,
   "id": "70c8ddec-ce77-495d-ad6a-e986ce23dc75",
   "metadata": {},
   "outputs": [],
   "source": []
  }
 ],
 "metadata": {
  "kernelspec": {
   "display_name": "Python 3 (ipykernel)",
   "language": "python",
   "name": "python3"
  },
  "language_info": {
   "codemirror_mode": {
    "name": "ipython",
    "version": 3
   },
   "file_extension": ".py",
   "mimetype": "text/x-python",
   "name": "python",
   "nbconvert_exporter": "python",
   "pygments_lexer": "ipython3",
   "version": "3.11.5"
  }
 },
 "nbformat": 4,
 "nbformat_minor": 5
}
